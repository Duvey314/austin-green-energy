{
 "cells": [
  {
   "cell_type": "code",
   "execution_count": 1,
   "metadata": {},
   "outputs": [],
   "source": [
    "# Import dependencies\n",
    "import requests\n",
    "import pandas as pd\n",
    "import json\n",
    "import numpy as np\n",
    "from datetime import datetime\n",
    "from datetime import timedelta"
   ]
  },
  {
   "cell_type": "code",
   "execution_count": 2,
   "metadata": {},
   "outputs": [],
   "source": [
    "# Import API Key \n",
    "from config import key"
   ]
  },
  {
   "cell_type": "code",
   "execution_count": 3,
   "metadata": {},
   "outputs": [],
   "source": [
    "# Make a request to the worldweatheronline local history weather API page\n",
    "def makeARequest(location, startDate, endDate, yourAPIKey):\n",
    "    baseURL = \"http://api.worldweatheronline.com/premium/v1/past-weather.ashx\"\n",
    "    timeInterval = \"1\" # time intervals for every hour\n",
    "    outputFormatToReturn = \"json\"\n",
    "\n",
    "    requestURL = f\"{baseURL}?q={location}&date={startDate}&enddate={endDate}&tp={timeInterval}&format={outputFormatToReturn}&key={yourAPIKey}\"\n",
    "    \n",
    "    response = requests.get(requestURL)\n",
    "\n",
    "# If response code says succeeded, then get the json. if not, return error code.  \n",
    "    if response.status_code == 200:\n",
    "        responseJson = response.json()\n",
    "        return responseJson\n",
    "    else:\n",
    "        return print(response.status_code)"
   ]
  },
  {
   "cell_type": "code",
   "execution_count": 4,
   "metadata": {},
   "outputs": [],
   "source": [
    "# Pull the wind variables from the responseJson \n",
    "# For loop getting hourly weather data for each day in the month\n",
    "def monthlyHistoricalWeather(firstDayOfMonth, lastDayOfMonth, jsonResponse):\n",
    "    \n",
    "    first = datetime.strptime(firstDayOfMonth, '%Y-%m-%d')\n",
    "    last = datetime.strptime(lastDayOfMonth, '%Y-%m-%d')\n",
    "    numberOfDays = last.day - first.day\n",
    "\n",
    "    HourlyHistoricalWeather = []\n",
    "    \n",
    "    for day in np.arange(0,numberOfDays + 1,1):\n",
    "        for hour in np.arange(0,24,1):\n",
    "            HourlyHistoricalWeather.append({\n",
    "                \"Date\" : jsonResponse[\"data\"][\"weather\"][day][\"date\"],\n",
    "                \"Time\" : jsonResponse[\"data\"][\"weather\"][day][\"hourly\"][hour][\"time\"],\n",
    "                \"WindSpeed(mph)\" : jsonResponse[\"data\"][\"weather\"][day][\"hourly\"][hour][\"windspeedMiles\"],\n",
    "                \"WindDirection(Degrees)\" : jsonResponse[\"data\"][\"weather\"][day][\"hourly\"][hour][\"winddirDegree\"],\n",
    "                \"WindDirection(Compass)\" : jsonResponse[\"data\"][\"weather\"][day][\"hourly\"][hour][\"winddir16Point\"],\n",
    "                \"WindGust(mph)\" : jsonResponse[\"data\"][\"weather\"][day][\"hourly\"][hour][\"WindGustMiles\"]\n",
    "            })\n",
    "\n",
    "    return HourlyHistoricalWeather"
   ]
  },
  {
   "cell_type": "code",
   "execution_count": 5,
   "metadata": {},
   "outputs": [],
   "source": [
    "# Store the variables in a DataFrame\n",
    "def monthlyHistoricalWeatherDF(month):\n",
    "    weatherDataFrame = pd.DataFrame(month)\n",
    "    return weatherDataFrame"
   ]
  },
  {
   "cell_type": "code",
   "execution_count": 6,
   "metadata": {},
   "outputs": [],
   "source": [
    "# Define the Latitude and longitude of Hackberry Wind Farm\n",
    "latLong = \"32.776111,-99.476444\""
   ]
  },
  {
   "cell_type": "code",
   "execution_count": 7,
   "metadata": {},
   "outputs": [
    {
     "data": {
      "text/html": [
       "<div>\n",
       "<style scoped>\n",
       "    .dataframe tbody tr th:only-of-type {\n",
       "        vertical-align: middle;\n",
       "    }\n",
       "\n",
       "    .dataframe tbody tr th {\n",
       "        vertical-align: top;\n",
       "    }\n",
       "\n",
       "    .dataframe thead th {\n",
       "        text-align: right;\n",
       "    }\n",
       "</style>\n",
       "<table border=\"1\" class=\"dataframe\">\n",
       "  <thead>\n",
       "    <tr style=\"text-align: right;\">\n",
       "      <th></th>\n",
       "      <th>Date</th>\n",
       "      <th>Time</th>\n",
       "      <th>WindSpeed(mph)</th>\n",
       "      <th>WindDirection(Degrees)</th>\n",
       "      <th>WindDirection(Compass)</th>\n",
       "      <th>WindGust(mph)</th>\n",
       "    </tr>\n",
       "  </thead>\n",
       "  <tbody>\n",
       "    <tr>\n",
       "      <th>0</th>\n",
       "      <td>2019-01-01</td>\n",
       "      <td>0</td>\n",
       "      <td>12</td>\n",
       "      <td>126</td>\n",
       "      <td>SE</td>\n",
       "      <td>24</td>\n",
       "    </tr>\n",
       "    <tr>\n",
       "      <th>1</th>\n",
       "      <td>2019-01-01</td>\n",
       "      <td>100</td>\n",
       "      <td>13</td>\n",
       "      <td>89</td>\n",
       "      <td>E</td>\n",
       "      <td>23</td>\n",
       "    </tr>\n",
       "    <tr>\n",
       "      <th>2</th>\n",
       "      <td>2019-01-01</td>\n",
       "      <td>200</td>\n",
       "      <td>14</td>\n",
       "      <td>53</td>\n",
       "      <td>NE</td>\n",
       "      <td>23</td>\n",
       "    </tr>\n",
       "    <tr>\n",
       "      <th>3</th>\n",
       "      <td>2019-01-01</td>\n",
       "      <td>300</td>\n",
       "      <td>15</td>\n",
       "      <td>17</td>\n",
       "      <td>NNE</td>\n",
       "      <td>22</td>\n",
       "    </tr>\n",
       "    <tr>\n",
       "      <th>4</th>\n",
       "      <td>2019-01-01</td>\n",
       "      <td>400</td>\n",
       "      <td>14</td>\n",
       "      <td>18</td>\n",
       "      <td>NNE</td>\n",
       "      <td>21</td>\n",
       "    </tr>\n",
       "  </tbody>\n",
       "</table>\n",
       "</div>"
      ],
      "text/plain": [
       "         Date Time WindSpeed(mph) WindDirection(Degrees)  \\\n",
       "0  2019-01-01    0             12                    126   \n",
       "1  2019-01-01  100             13                     89   \n",
       "2  2019-01-01  200             14                     53   \n",
       "3  2019-01-01  300             15                     17   \n",
       "4  2019-01-01  400             14                     18   \n",
       "\n",
       "  WindDirection(Compass) WindGust(mph)  \n",
       "0                     SE            24  \n",
       "1                      E            23  \n",
       "2                     NE            23  \n",
       "3                    NNE            22  \n",
       "4                    NNE            21  "
      ]
     },
     "execution_count": 7,
     "metadata": {},
     "output_type": "execute_result"
    }
   ],
   "source": [
    "# API call for each month returns JSON object. Then pull variables that need to be testing. \n",
    "# Once stored in a dictionary, it is converted into a DF. \n",
    "\n",
    "# January\n",
    "date = \"2019-01-01\"\n",
    "enddate = \"2019-01-31\"\n",
    "\n",
    "responseJson = makeARequest(latLong, date, enddate, key)\n",
    "\n",
    "January = monthlyHistoricalWeather(date, enddate, responseJson)\n",
    "JanuaryDF = monthlyHistoricalWeatherDF(January)\n",
    "JanuaryDF.head()"
   ]
  },
  {
   "cell_type": "code",
   "execution_count": 8,
   "metadata": {},
   "outputs": [],
   "source": [
    "# February\n",
    "date = \"2019-02-01\"\n",
    "enddate = \"2019-02-28\"\n",
    "\n",
    "responseJson = makeARequest(latLong, date, enddate, key)\n",
    "\n",
    "February = monthlyHistoricalWeather(date, enddate, responseJson)\n",
    "FebruaryDF = monthlyHistoricalWeatherDF(February)"
   ]
  },
  {
   "cell_type": "code",
   "execution_count": 9,
   "metadata": {},
   "outputs": [],
   "source": [
    "# March\n",
    "date = \"2019-03-01\"\n",
    "enddate = \"2019-03-31\"\n",
    "\n",
    "responseJson = makeARequest(latLong, date, enddate, key)\n",
    "\n",
    "March = monthlyHistoricalWeather(date, enddate, responseJson)\n",
    "MarchDF = monthlyHistoricalWeatherDF(March)"
   ]
  },
  {
   "cell_type": "code",
   "execution_count": 10,
   "metadata": {},
   "outputs": [],
   "source": [
    "# April\n",
    "date = \"2019-04-01\"\n",
    "enddate = \"2019-04-30\"\n",
    "\n",
    "responseJson = makeARequest(latLong, date, enddate, key)\n",
    "\n",
    "April = monthlyHistoricalWeather(date, enddate, responseJson)\n",
    "AprilDF = monthlyHistoricalWeatherDF(April)"
   ]
  },
  {
   "cell_type": "code",
   "execution_count": 11,
   "metadata": {},
   "outputs": [],
   "source": [
    "# May\n",
    "date = \"2019-05-01\"\n",
    "enddate = \"2019-05-31\"\n",
    "\n",
    "responseJson = makeARequest(latLong, date, enddate, key)\n",
    "\n",
    "May = monthlyHistoricalWeather(date, enddate, responseJson)\n",
    "MayDF = monthlyHistoricalWeatherDF(May)"
   ]
  },
  {
   "cell_type": "code",
   "execution_count": 12,
   "metadata": {},
   "outputs": [],
   "source": [
    "# June\n",
    "date = \"2019-06-01\"\n",
    "enddate = \"2019-06-30\"\n",
    "\n",
    "responseJson = makeARequest(latLong, date, enddate, key)\n",
    "\n",
    "June = monthlyHistoricalWeather(date, enddate, responseJson)\n",
    "JuneDF = monthlyHistoricalWeatherDF(June)"
   ]
  },
  {
   "cell_type": "code",
   "execution_count": 13,
   "metadata": {},
   "outputs": [],
   "source": [
    "# July\n",
    "date = \"2019-07-01\"\n",
    "enddate = \"2019-07-31\"\n",
    "\n",
    "responseJson = makeARequest(latLong, date, enddate, key)\n",
    "\n",
    "July = monthlyHistoricalWeather(date, enddate, responseJson)\n",
    "JulyDF = monthlyHistoricalWeatherDF(July)"
   ]
  },
  {
   "cell_type": "code",
   "execution_count": 14,
   "metadata": {},
   "outputs": [],
   "source": [
    "# August\n",
    "date = \"2019-08-01\"\n",
    "enddate = \"2019-08-31\"\n",
    "\n",
    "responseJson = makeARequest(latLong, date, enddate, key)\n",
    "\n",
    "August = monthlyHistoricalWeather(date, enddate, responseJson)\n",
    "AugustDF = monthlyHistoricalWeatherDF(August)"
   ]
  },
  {
   "cell_type": "code",
   "execution_count": 15,
   "metadata": {},
   "outputs": [],
   "source": [
    "# September\n",
    "date = \"2019-09-01\"\n",
    "enddate = \"2019-09-30\"\n",
    "\n",
    "responseJson = makeARequest(latLong, date, enddate, key)\n",
    "\n",
    "September = monthlyHistoricalWeather(date, enddate, responseJson)\n",
    "SeptemberDF = monthlyHistoricalWeatherDF(September)"
   ]
  },
  {
   "cell_type": "code",
   "execution_count": 16,
   "metadata": {},
   "outputs": [],
   "source": [
    "# October\n",
    "date = \"2019-10-01\"\n",
    "enddate = \"2019-10-31\"\n",
    "\n",
    "responseJson = makeARequest(latLong, date, enddate, key)\n",
    "\n",
    "October = monthlyHistoricalWeather(date, enddate, responseJson)\n",
    "OctoberDF = monthlyHistoricalWeatherDF(October)"
   ]
  },
  {
   "cell_type": "code",
   "execution_count": 17,
   "metadata": {},
   "outputs": [],
   "source": [
    "# November\n",
    "date = \"2019-11-01\"\n",
    "enddate = \"2019-11-30\"\n",
    "\n",
    "responseJson = makeARequest(latLong, date, enddate, key)\n",
    "\n",
    "November = monthlyHistoricalWeather(date, enddate, responseJson)\n",
    "NovemberDF = monthlyHistoricalWeatherDF(November)"
   ]
  },
  {
   "cell_type": "code",
   "execution_count": 18,
   "metadata": {},
   "outputs": [],
   "source": [
    "# December\n",
    "date = \"2019-12-01\"\n",
    "enddate = \"2019-12-31\"\n",
    "\n",
    "responseJson = makeARequest(latLong, date, enddate, key)\n",
    "\n",
    "December = monthlyHistoricalWeather(date, enddate, responseJson)\n",
    "DecemberDF = monthlyHistoricalWeatherDF(December)"
   ]
  },
  {
   "cell_type": "code",
   "execution_count": 19,
   "metadata": {},
   "outputs": [
    {
     "data": {
      "text/html": [
       "<div>\n",
       "<style scoped>\n",
       "    .dataframe tbody tr th:only-of-type {\n",
       "        vertical-align: middle;\n",
       "    }\n",
       "\n",
       "    .dataframe tbody tr th {\n",
       "        vertical-align: top;\n",
       "    }\n",
       "\n",
       "    .dataframe thead th {\n",
       "        text-align: right;\n",
       "    }\n",
       "</style>\n",
       "<table border=\"1\" class=\"dataframe\">\n",
       "  <thead>\n",
       "    <tr style=\"text-align: right;\">\n",
       "      <th></th>\n",
       "      <th>Date</th>\n",
       "      <th>Time</th>\n",
       "      <th>WindSpeed(mph)</th>\n",
       "      <th>WindDirection(Degrees)</th>\n",
       "      <th>WindDirection(Compass)</th>\n",
       "      <th>WindGust(mph)</th>\n",
       "    </tr>\n",
       "  </thead>\n",
       "  <tbody>\n",
       "    <tr>\n",
       "      <th>0</th>\n",
       "      <td>2019-01-01</td>\n",
       "      <td>0</td>\n",
       "      <td>12</td>\n",
       "      <td>126</td>\n",
       "      <td>SE</td>\n",
       "      <td>24</td>\n",
       "    </tr>\n",
       "    <tr>\n",
       "      <th>1</th>\n",
       "      <td>2019-01-01</td>\n",
       "      <td>100</td>\n",
       "      <td>13</td>\n",
       "      <td>89</td>\n",
       "      <td>E</td>\n",
       "      <td>23</td>\n",
       "    </tr>\n",
       "    <tr>\n",
       "      <th>2</th>\n",
       "      <td>2019-01-01</td>\n",
       "      <td>200</td>\n",
       "      <td>14</td>\n",
       "      <td>53</td>\n",
       "      <td>NE</td>\n",
       "      <td>23</td>\n",
       "    </tr>\n",
       "    <tr>\n",
       "      <th>3</th>\n",
       "      <td>2019-01-01</td>\n",
       "      <td>300</td>\n",
       "      <td>15</td>\n",
       "      <td>17</td>\n",
       "      <td>NNE</td>\n",
       "      <td>22</td>\n",
       "    </tr>\n",
       "    <tr>\n",
       "      <th>4</th>\n",
       "      <td>2019-01-01</td>\n",
       "      <td>400</td>\n",
       "      <td>14</td>\n",
       "      <td>18</td>\n",
       "      <td>NNE</td>\n",
       "      <td>21</td>\n",
       "    </tr>\n",
       "    <tr>\n",
       "      <th>...</th>\n",
       "      <td>...</td>\n",
       "      <td>...</td>\n",
       "      <td>...</td>\n",
       "      <td>...</td>\n",
       "      <td>...</td>\n",
       "      <td>...</td>\n",
       "    </tr>\n",
       "    <tr>\n",
       "      <th>8755</th>\n",
       "      <td>2019-12-31</td>\n",
       "      <td>1900</td>\n",
       "      <td>6</td>\n",
       "      <td>175</td>\n",
       "      <td>S</td>\n",
       "      <td>12</td>\n",
       "    </tr>\n",
       "    <tr>\n",
       "      <th>8756</th>\n",
       "      <td>2019-12-31</td>\n",
       "      <td>2000</td>\n",
       "      <td>6</td>\n",
       "      <td>176</td>\n",
       "      <td>S</td>\n",
       "      <td>13</td>\n",
       "    </tr>\n",
       "    <tr>\n",
       "      <th>8757</th>\n",
       "      <td>2019-12-31</td>\n",
       "      <td>2100</td>\n",
       "      <td>7</td>\n",
       "      <td>176</td>\n",
       "      <td>S</td>\n",
       "      <td>14</td>\n",
       "    </tr>\n",
       "    <tr>\n",
       "      <th>8758</th>\n",
       "      <td>2019-12-31</td>\n",
       "      <td>2200</td>\n",
       "      <td>7</td>\n",
       "      <td>176</td>\n",
       "      <td>S</td>\n",
       "      <td>15</td>\n",
       "    </tr>\n",
       "    <tr>\n",
       "      <th>8759</th>\n",
       "      <td>2019-12-31</td>\n",
       "      <td>2300</td>\n",
       "      <td>7</td>\n",
       "      <td>175</td>\n",
       "      <td>S</td>\n",
       "      <td>16</td>\n",
       "    </tr>\n",
       "  </tbody>\n",
       "</table>\n",
       "<p>8760 rows × 6 columns</p>\n",
       "</div>"
      ],
      "text/plain": [
       "            Date  Time WindSpeed(mph) WindDirection(Degrees)  \\\n",
       "0     2019-01-01     0             12                    126   \n",
       "1     2019-01-01   100             13                     89   \n",
       "2     2019-01-01   200             14                     53   \n",
       "3     2019-01-01   300             15                     17   \n",
       "4     2019-01-01   400             14                     18   \n",
       "...          ...   ...            ...                    ...   \n",
       "8755  2019-12-31  1900              6                    175   \n",
       "8756  2019-12-31  2000              6                    176   \n",
       "8757  2019-12-31  2100              7                    176   \n",
       "8758  2019-12-31  2200              7                    176   \n",
       "8759  2019-12-31  2300              7                    175   \n",
       "\n",
       "     WindDirection(Compass) WindGust(mph)  \n",
       "0                        SE            24  \n",
       "1                         E            23  \n",
       "2                        NE            23  \n",
       "3                       NNE            22  \n",
       "4                       NNE            21  \n",
       "...                     ...           ...  \n",
       "8755                      S            12  \n",
       "8756                      S            13  \n",
       "8757                      S            14  \n",
       "8758                      S            15  \n",
       "8759                      S            16  \n",
       "\n",
       "[8760 rows x 6 columns]"
      ]
     },
     "execution_count": 19,
     "metadata": {},
     "output_type": "execute_result"
    }
   ],
   "source": [
    "# Combine each month into a single DataFrame\n",
    "hourlyWeatherDF2019 = JanuaryDF.append([FebruaryDF, MarchDF, AprilDF, MayDF, JuneDF, JulyDF, AugustDF, SeptemberDF, OctoberDF, NovemberDF, DecemberDF]) \n",
    "\n",
    "# Index: 24 hours for 365 days of the year\n",
    "index = np.arange(0,24*365,1)\n",
    "hourlyWeatherDF2019 = hourlyWeatherDF2019.set_index(index)\n",
    "hourlyWeatherDF2019"
   ]
  },
  {
   "cell_type": "code",
   "execution_count": 20,
   "metadata": {},
   "outputs": [
    {
     "data": {
      "text/plain": [
       "Date                      object\n",
       "Time                      object\n",
       "WindSpeed(mph)            object\n",
       "WindDirection(Degrees)    object\n",
       "WindDirection(Compass)    object\n",
       "WindGust(mph)             object\n",
       "dtype: object"
      ]
     },
     "execution_count": 20,
     "metadata": {},
     "output_type": "execute_result"
    }
   ],
   "source": [
    "# Checking data types we are working with\n",
    "hourlyWeatherDF2019.dtypes"
   ]
  },
  {
   "cell_type": "markdown",
   "metadata": {},
   "source": [
    "# Performing ETL on Wind Data at Hackberry Wind Farm"
   ]
  },
  {
   "cell_type": "code",
   "execution_count": 1,
   "metadata": {},
   "outputs": [],
   "source": [
    "# Function for cleaning date time columns\n",
    "# Convering date into date time object, converting time into integer. \n",
    "def cleaningDataFrame_datetime(df):\n",
    "    df['Date'] = pd.to_datetime(df['Date'])\n",
    "    df['Time'] = df['Time'].astype(int)\n",
    "    df['Time'] = (df['Time']/100).astype(int)\n",
    "    df['Time'] = df['Time'].astype('timedelta64[h]')\n",
    "    df['Time'] = df['Time'] - pd.to_timedelta(df['Time'].dt.days, unit='d')\n",
    "    df['Date_Time'] = df['Date'] + df['Time']\n",
    "    df = df.drop(['Time', 'Date'], 1)\n",
    "    return df"
   ]
  },
  {
   "cell_type": "code",
   "execution_count": 3,
   "metadata": {},
   "outputs": [],
   "source": [
    "# function turning data types into integers \n",
    "def cleaningDataFrame_wind(df):\n",
    "    df.rename(columns = {'temperature(F)':'temperature_F','WindSpeed(mph)':'WindSpeed_mph', 'WindDirection(Degrees)':'WindDirection_degrees',   'WindDirection(Compass)':'WindDirection_compass', 'WindGust(mph)':'WindGust_mph'}, inplace = True)\n",
    "    df['temperature_F'] = df['temperature_F'].astype(int)\n",
    "    # df['weatherDescription'] = df['weatherDescription'].astype(str)\n",
    "    df['WindSpeed_mph'] = df['WindSpeed_mph'].astype(int)\n",
    "    df['WindDirection_degrees'] = df['WindDirection_degrees'].astype(int)\n",
    "    df['WindGust_mph'] = df['WindGust_mph'].astype(int)\n",
    "    #df = df.drop(df.index[0])\n",
    "    return df"
   ]
  },
  {
   "cell_type": "code",
   "execution_count": 4,
   "metadata": {},
   "outputs": [
    {
     "ename": "NameError",
     "evalue": "name 'hourlyWeatherDF' is not defined",
     "output_type": "error",
     "traceback": [
      "\u001b[1;31m---------------------------------------------------------------------------\u001b[0m",
      "\u001b[1;31mNameError\u001b[0m                                 Traceback (most recent call last)",
      "\u001b[1;32m<ipython-input-4-3abbd490b6be>\u001b[0m in \u001b[0;36m<module>\u001b[1;34m\u001b[0m\n\u001b[1;32m----> 1\u001b[1;33m \u001b[0mcleanDateTime_hourlyWeatherDF\u001b[0m \u001b[1;33m=\u001b[0m \u001b[0mcleaningDataFrame_datetime\u001b[0m\u001b[1;33m(\u001b[0m\u001b[0mhourlyWeatherDF\u001b[0m\u001b[1;33m)\u001b[0m\u001b[1;33m\u001b[0m\u001b[1;33m\u001b[0m\u001b[0m\n\u001b[0m\u001b[0;32m      2\u001b[0m \u001b[0mcleanDateTime_hourlyWeatherDF\u001b[0m\u001b[1;33m.\u001b[0m\u001b[0mhead\u001b[0m\u001b[1;33m(\u001b[0m\u001b[1;33m)\u001b[0m\u001b[1;33m\u001b[0m\u001b[1;33m\u001b[0m\u001b[0m\n",
      "\u001b[1;31mNameError\u001b[0m: name 'hourlyWeatherDF' is not defined"
     ]
    }
   ],
   "source": [
    "# Cleaning date and time columns from original dataframe \n",
    "cleanDateTime_hourlyWeatherDF = cleaningDataFrame_datetime(hourlyWeatherDF)\n",
    "cleanDateTime_hourlyWeatherDF.head()"
   ]
  },
  {
   "cell_type": "code",
   "execution_count": null,
   "metadata": {},
   "outputs": [],
   "source": [
    "# Renaming columns, and converting data types into integers\n",
    "cleaned_hourlyWeatherDF = cleaningDataFrame_wind(cleanDateTime_hourlyWeatherDF)\n",
    "print(cleaned_hourlyWeatherDF.shape)\n",
    "cleaned_hourlyWeatherDF.head()"
   ]
  },
  {
   "cell_type": "code",
   "execution_count": null,
   "metadata": {},
   "outputs": [],
   "source": [
    "# checking the tail of the dataframe to ensure accuracy\n",
    "cleaned_hourlyWeatherDF.tail()"
   ]
  },
  {
   "cell_type": "code",
   "execution_count": null,
   "metadata": {},
   "outputs": [],
   "source": [
    "# Check data types\n",
    "cleaned_hourlyWeatherDF.dtypes"
   ]
  },
  {
   "cell_type": "code",
   "execution_count": null,
   "metadata": {},
   "outputs": [],
   "source": [
    "# Do we want to put this all in the output folder?\n",
    "#windDF.to_csv(r'Output/weather_wind.csv', index = False)"
   ]
  },
  {
   "cell_type": "markdown",
   "metadata": {},
   "source": [
    "# Importing and Performing ETL on Hackberry Wind Energy Data"
   ]
  },
  {
   "cell_type": "code",
   "execution_count": 44,
   "metadata": {},
   "outputs": [
    {
     "data": {
      "text/html": [
       "<div>\n",
       "<style scoped>\n",
       "    .dataframe tbody tr th:only-of-type {\n",
       "        vertical-align: middle;\n",
       "    }\n",
       "\n",
       "    .dataframe tbody tr th {\n",
       "        vertical-align: top;\n",
       "    }\n",
       "\n",
       "    .dataframe thead th {\n",
       "        text-align: right;\n",
       "    }\n",
       "</style>\n",
       "<table border=\"1\" class=\"dataframe\">\n",
       "  <thead>\n",
       "    <tr style=\"text-align: right;\">\n",
       "      <th></th>\n",
       "      <th>Unit</th>\n",
       "      <th>Date</th>\n",
       "      <th>Hour Ending</th>\n",
       "      <th>MWH</th>\n",
       "    </tr>\n",
       "  </thead>\n",
       "  <tbody>\n",
       "    <tr>\n",
       "      <th>0</th>\n",
       "      <td>HWF_HWFG1</td>\n",
       "      <td>20190101</td>\n",
       "      <td>100</td>\n",
       "      <td>110.487950</td>\n",
       "    </tr>\n",
       "    <tr>\n",
       "      <th>1</th>\n",
       "      <td>HWF_HWFG1</td>\n",
       "      <td>20190101</td>\n",
       "      <td>200</td>\n",
       "      <td>72.020225</td>\n",
       "    </tr>\n",
       "    <tr>\n",
       "      <th>2</th>\n",
       "      <td>HWF_HWFG1</td>\n",
       "      <td>20190101</td>\n",
       "      <td>300</td>\n",
       "      <td>67.639475</td>\n",
       "    </tr>\n",
       "    <tr>\n",
       "      <th>3</th>\n",
       "      <td>HWF_HWFG1</td>\n",
       "      <td>20190101</td>\n",
       "      <td>400</td>\n",
       "      <td>63.718900</td>\n",
       "    </tr>\n",
       "    <tr>\n",
       "      <th>4</th>\n",
       "      <td>HWF_HWFG1</td>\n",
       "      <td>20190101</td>\n",
       "      <td>500</td>\n",
       "      <td>61.264250</td>\n",
       "    </tr>\n",
       "    <tr>\n",
       "      <th>...</th>\n",
       "      <td>...</td>\n",
       "      <td>...</td>\n",
       "      <td>...</td>\n",
       "      <td>...</td>\n",
       "    </tr>\n",
       "    <tr>\n",
       "      <th>13866</th>\n",
       "      <td>HWF_HWFG1</td>\n",
       "      <td>20200731</td>\n",
       "      <td>2000</td>\n",
       "      <td>4.998600</td>\n",
       "    </tr>\n",
       "    <tr>\n",
       "      <th>13867</th>\n",
       "      <td>HWF_HWFG1</td>\n",
       "      <td>20200731</td>\n",
       "      <td>2100</td>\n",
       "      <td>16.390275</td>\n",
       "    </tr>\n",
       "    <tr>\n",
       "      <th>13868</th>\n",
       "      <td>HWF_HWFG1</td>\n",
       "      <td>20200731</td>\n",
       "      <td>2200</td>\n",
       "      <td>20.637800</td>\n",
       "    </tr>\n",
       "    <tr>\n",
       "      <th>13869</th>\n",
       "      <td>HWF_HWFG1</td>\n",
       "      <td>20200731</td>\n",
       "      <td>2300</td>\n",
       "      <td>13.998975</td>\n",
       "    </tr>\n",
       "    <tr>\n",
       "      <th>13870</th>\n",
       "      <td>HWF_HWFG1</td>\n",
       "      <td>20200731</td>\n",
       "      <td>2400</td>\n",
       "      <td>12.494875</td>\n",
       "    </tr>\n",
       "  </tbody>\n",
       "</table>\n",
       "<p>13871 rows × 4 columns</p>\n",
       "</div>"
      ],
      "text/plain": [
       "            Unit      Date Hour Ending         MWH\n",
       "0      HWF_HWFG1  20190101         100  110.487950\n",
       "1      HWF_HWFG1  20190101         200   72.020225\n",
       "2      HWF_HWFG1  20190101         300   67.639475\n",
       "3      HWF_HWFG1  20190101         400   63.718900\n",
       "4      HWF_HWFG1  20190101         500   61.264250\n",
       "...          ...       ...         ...         ...\n",
       "13866  HWF_HWFG1  20200731        2000    4.998600\n",
       "13867  HWF_HWFG1  20200731        2100   16.390275\n",
       "13868  HWF_HWFG1  20200731        2200   20.637800\n",
       "13869  HWF_HWFG1  20200731        2300   13.998975\n",
       "13870  HWF_HWFG1  20200731        2400   12.494875\n",
       "\n",
       "[13871 rows x 4 columns]"
      ]
     },
     "execution_count": 44,
     "metadata": {},
     "output_type": "execute_result"
    }
   ],
   "source": [
    "# Reading CSV and importing to DF\n",
    "data = \"Resources/Hackberry_Generation.csv\"\n",
    "Hackberry_df = pd.read_csv(data)\n",
    "print(Hackberry_df.shape)\n",
    "Hackberry_df.head()"
   ]
  },
  {
   "cell_type": "code",
   "execution_count": null,
   "metadata": {},
   "outputs": [],
   "source": [
    "# Function that cleans raw farm data\n",
    "# Drops Unit Column, Converts date to date time object, drops last two\n",
    "# characters in time string for (scalability?)\n",
    "\n",
    "def cleanRenewableFarmData(df):\n",
    "    df = df.drop('Unit', 1)\n",
    "    df.rename(columns = {'Hour Ending':'Hour'}, inplace = True)\n",
    "    df['Date'] = pd.to_datetime(df['Date'], format='%Y%m%d')\n",
    "    df['Hour'] = df['Hour'].astype(str).str[:-2].astype(np.int64)\n",
    "    df['hour'] = pd.to_timedelta(df['Hour'], unit='h')\n",
    "    df['hour'] = df['hour'] - pd.to_timedelta(df['hour'].dt.days, unit='d')\n",
    "    df = df.drop('Hour', 1)\n",
    "    df = df[[\"Date\", \"hour\", \"MWH\"]]\n",
    "    df['Date_Time'] = df['Date'] + df['hour']\n",
    "    df = df[[\"Date_Time\", \"MWH\"]]\n",
    "    return df"
   ]
  },
  {
   "cell_type": "code",
   "execution_count": null,
   "metadata": {},
   "outputs": [],
   "source": [
    "# Pass in function to clean DF\n",
    "cleaned_Hackberry_df = cleanRenewableFarmData(Hackberry_df)\n",
    "\n",
    "# Display shape and DF\n",
    "print(cleaned_Hackberry_df.shape)\n",
    "cleaned_Hackberry_df"
   ]
  },
  {
   "cell_type": "code",
   "execution_count": null,
   "metadata": {},
   "outputs": [],
   "source": [
    "# Look at data types\n",
    "cleaned_Hackberry_df.dtypes"
   ]
  },
  {
   "cell_type": "code",
   "execution_count": null,
   "metadata": {},
   "outputs": [],
   "source": [
    "# Output folder?\n",
    "# cleaned_Hackberry_df.to_csv(r'Output/Hackberry_MWH.csv', index = False)"
   ]
  },
  {
   "cell_type": "markdown",
   "metadata": {},
   "source": [
    "## Merging Hackberry Energy Data with Wind Data"
   ]
  },
  {
   "cell_type": "code",
   "execution_count": null,
   "metadata": {},
   "outputs": [],
   "source": [
    "# Outer merge for Hourly Weather & Hackberry Farm\n",
    "Hackberry_Wind_MWH = pd.merge(cleaned_hourlyWeatherDF, cleaned_Hackberry_df, on='Date_Time', how='outer')\n",
    "Hackberry_Wind_MWH"
   ]
  },
  {
   "cell_type": "code",
   "execution_count": null,
   "metadata": {},
   "outputs": [],
   "source": [
    "# Exporting final merge DF into CSV file\n",
    "Hackberry_Wind_MWH.to_csv(r'Output/Hackberry_Wind_MWH.csv', index = False)"
   ]
  },
  {
   "cell_type": "markdown",
   "metadata": {},
   "source": [
    "## Exploration to Uncover Data Trends"
   ]
  },
  {
   "cell_type": "code",
   "execution_count": 68,
   "metadata": {},
   "outputs": [],
   "source": [
    "# Import Matplotlib\n",
    "import matplotlib.pyplot as plt"
   ]
  },
  {
   "cell_type": "code",
   "execution_count": 71,
   "metadata": {},
   "outputs": [
    {
     "data": {
      "image/png": "[encoded data removed]",
      "text/plain": [
       "<Figure size 432x288 with 1 Axes>"
      ]
     },
     "metadata": {
      "needs_background": "light"
     },
     "output_type": "display_data"
    }
   ],
   "source": [
    "# Visually inspect the data with With Speed and MHW\n",
    "plt.scatter(hackberryWindMWH.WindSpeed_mph, hackberryWindMWH.MWH)\n",
    "plt.xlabel('Wind Speed')\n",
    "plt.ylabel('MHW')\n",
    "plt.show()"
   ]
  },
  {
   "cell_type": "code",
   "execution_count": 72,
   "metadata": {},
   "outputs": [
    {
     "data": {
      "image/png": "[encoded data removed]",
      "text/plain": [
       "<Figure size 432x288 with 1 Axes>"
      ]
     },
     "metadata": {
      "needs_background": "light"
     },
     "output_type": "display_data"
    }
   ],
   "source": [
    "# Visually inspect the data with With Direction and MHW\n",
    "plt.scatter(hackberryWindMWH.WindDirection_degrees, hackberryWindMWH.MWH)\n",
    "plt.xlabel('Wind Direction')\n",
    "plt.ylabel('MHW')\n",
    "plt.show()"
   ]
  },
  {
   "cell_type": "code",
   "execution_count": 73,
   "metadata": {},
   "outputs": [
    {
     "data": {
      "image/png": "[encoded data removed]",
      "text/plain": [
       "<Figure size 432x288 with 1 Axes>"
      ]
     },
     "metadata": {
      "needs_background": "light"
     },
     "output_type": "display_data"
    }
   ],
   "source": [
    "# Visually inspect the data with With Gust and MHW\n",
    "plt.scatter(hackberryWindMWH.WindGust_mph, hackberryWindMWH.MWH)\n",
    "plt.xlabel('Wind Gust')\n",
    "plt.ylabel('MHW')\n",
    "plt.show()"
   ]
  },
  {
   "cell_type": "code",
   "execution_count": 74,
   "metadata": {},
   "outputs": [],
   "source": [
    "# Creating dataframe with wind direction blowing east\n",
    "windEast = hackberryWindMWH[hackberryWindMWH.WindDirection_compass == 'E']"
   ]
  },
  {
   "cell_type": "code",
   "execution_count": 75,
   "metadata": {},
   "outputs": [
    {
     "data": {
      "image/png": "[encoded data removed]",
      "text/plain": [
       "<Figure size 432x288 with 1 Axes>"
      ]
     },
     "metadata": {
      "needs_background": "light"
     },
     "output_type": "display_data"
    }
   ],
   "source": [
    "# Visually inspect the data of wind speed to MWH for winds blowing east.\n",
    "plt.scatter(windEast.WindSpeed_mph, windEast.MWH)\n",
    "plt.xlabel('Wind Speed')\n",
    "plt.ylabel('MWH')\n",
    "plt.show()"
   ]
  },
  {
   "cell_type": "markdown",
   "metadata": {},
   "source": [
    "## Inspect Data based on Wind Direction"
   ]
  },
  {
   "cell_type": "code",
   "execution_count": 76,
   "metadata": {},
   "outputs": [],
   "source": [
    "# Creating dataframe with wind direction blowing West\n",
    "windWest = hackberryWindMWH[hackberryWindMWH.WindDirection_compass == 'W']"
   ]
  },
  {
   "cell_type": "code",
   "execution_count": 77,
   "metadata": {},
   "outputs": [
    {
     "data": {
      "image/png": "[encoded data removed]",
      "text/plain": [
       "<Figure size 432x288 with 1 Axes>"
      ]
     },
     "metadata": {
      "needs_background": "light"
     },
     "output_type": "display_data"
    }
   ],
   "source": [
    "# Visually inspect the data of wind speed to MWH for winds blowing West.\n",
    "plt.scatter(windWest.WindSpeed_mph, windWest.MWH)\n",
    "plt.xlabel('Wind Speed')\n",
    "plt.ylabel('MWH')\n",
    "plt.show()"
   ]
  },
  {
   "cell_type": "code",
   "execution_count": 78,
   "metadata": {},
   "outputs": [],
   "source": [
    "# Creating dataframe with wind direction blowing South\n",
    "windSouth = hackberryWindMWH[hackberryWindMWH.WindDirection_compass == 'S']"
   ]
  },
  {
   "cell_type": "code",
   "execution_count": 79,
   "metadata": {},
   "outputs": [
    {
     "data": {
      "image/png": "[encoded data removed]",
      "text/plain": [
       "<Figure size 432x288 with 1 Axes>"
      ]
     },
     "metadata": {
      "needs_background": "light"
     },
     "output_type": "display_data"
    }
   ],
   "source": [
    "# Visually inspect the data of wind speed to MWH for winds blowing South.\n",
    "plt.scatter(windSouth.WindSpeed_mph, windSouth.MWH)\n",
    "plt.xlabel('Wind Speed')\n",
    "plt.ylabel('MWH')\n",
    "plt.show()"
   ]
  },
  {
   "cell_type": "code",
   "execution_count": 80,
   "metadata": {},
   "outputs": [],
   "source": [
    "# Creating dataframe with wind direction blowing North\n",
    "windNorth = hackberryWindMWH[hackberryWindMWH.WindDirection_compass == 'N']"
   ]
  },
  {
   "cell_type": "code",
   "execution_count": 81,
   "metadata": {},
   "outputs": [
    {
     "data": {
      "image/png": "[encoded data removed]",
      "text/plain": [
       "<Figure size 432x288 with 1 Axes>"
      ]
     },
     "metadata": {
      "needs_background": "light"
     },
     "output_type": "display_data"
    }
   ],
   "source": [
    "# Visually inspect the data of wind speed to MWH for winds blowing North.\n",
    "plt.scatter(windNorth.WindSpeed_mph, windNorth.MWH)\n",
    "plt.xlabel('Wind Speed')\n",
    "plt.ylabel('MWH')\n",
    "plt.show()"
   ]
  },
  {
   "cell_type": "code",
   "execution_count": 82,
   "metadata": {},
   "outputs": [],
   "source": [
    "# Creating dataframe with wind direction blowing NE\n",
    "windNE = hackberryWindMWH[hackberryWindMWH.WindDirection_compass == 'NE']"
   ]
  },
  {
   "cell_type": "code",
   "execution_count": 83,
   "metadata": {},
   "outputs": [
    {
     "data": {
      "image/png": "[encoded data removed]",
      "text/plain": [
       "<Figure size 432x288 with 1 Axes>"
      ]
     },
     "metadata": {
      "needs_background": "light"
     },
     "output_type": "display_data"
    }
   ],
   "source": [
    "# Visually inspect the data of wind speed to MWH for winds blowing NE.\n",
    "plt.scatter(windNE.WindSpeed_mph, windNE.MWH)\n",
    "plt.xlabel('Wind Speed')\n",
    "plt.ylabel('MWH')\n",
    "plt.show()"
   ]
  },
  {
   "cell_type": "code",
   "execution_count": 84,
   "metadata": {},
   "outputs": [],
   "source": [
    "# Creating dataframe with wind direction blowing NW\n",
    "windNW = hackberryWindMWH[hackberryWindMWH.WindDirection_compass == 'NW']"
   ]
  },
  {
   "cell_type": "code",
   "execution_count": 85,
   "metadata": {},
   "outputs": [
    {
     "data": {
      "image/png": "[encoded data removed]",
      "text/plain": [
       "<Figure size 432x288 with 1 Axes>"
      ]
     },
     "metadata": {
      "needs_background": "light"
     },
     "output_type": "display_data"
    }
   ],
   "source": [
    "# Visually inspect the data of wind speed to MWH for winds blowing NW.\n",
    "plt.scatter(windNW.WindSpeed_mph, windNW.MWH)\n",
    "plt.xlabel('Wind Speed')\n",
    "plt.ylabel('MWH')\n",
    "plt.show()"
   ]
  },
  {
   "cell_type": "code",
   "execution_count": 86,
   "metadata": {},
   "outputs": [],
   "source": [
    "# Creating dataframe with wind direction blowing NNE\n",
    "windNNE = hackberryWindMWH[hackberryWindMWH.WindDirection_compass == 'NNE']"
   ]
  },
  {
   "cell_type": "code",
   "execution_count": 87,
   "metadata": {},
   "outputs": [
    {
     "data": {
      "image/png": "[encoded data removed]",
      "text/plain": [
       "<Figure size 432x288 with 1 Axes>"
      ]
     },
     "metadata": {
      "needs_background": "light"
     },
     "output_type": "display_data"
    }
   ],
   "source": [
    "# Visually inspect the data of wind speed to MWH for winds blowing NNE.\n",
    "plt.scatter(windNNE.WindSpeed_mph, windNNE.MWH)\n",
    "plt.xlabel('Wind Speed')\n",
    "plt.ylabel('MWH')\n",
    "plt.show()"
   ]
  },
  {
   "cell_type": "code",
   "execution_count": 88,
   "metadata": {},
   "outputs": [],
   "source": [
    "# Creating dataframe with wind direction blowing NNW\n",
    "windNNW = hackberryWindMWH[hackberryWindMWH.WindDirection_compass == 'NNW']"
   ]
  },
  {
   "cell_type": "code",
   "execution_count": 89,
   "metadata": {},
   "outputs": [
    {
     "data": {
      "image/png": "[encoded data removed]",
      "text/plain": [
       "<Figure size 432x288 with 1 Axes>"
      ]
     },
     "metadata": {
      "needs_background": "light"
     },
     "output_type": "display_data"
    }
   ],
   "source": [
    "# Visually inspect the data of wind speed to MWH for winds blowing NNW.\n",
    "plt.scatter(windNNW.WindSpeed_mph, windNNW.MWH)\n",
    "plt.xlabel('Wind Speed')\n",
    "plt.ylabel('MWH')\n",
    "plt.show()"
   ]
  }
 ],
 "metadata": {
  "kernelspec": {
   "display_name": "mlenv",
   "language": "python",
   "name": "mlenv"
  },
  "language_info": {
   "codemirror_mode": {
    "name": "ipython",
    "version": 3
   },
   "file_extension": ".py",
   "mimetype": "text/x-python",
   "name": "python",
   "nbconvert_exporter": "python",
   "pygments_lexer": "ipython3",
   "version": "3.7.7"
  }
 },
 "nbformat": 4,
 "nbformat_minor": 4
}
