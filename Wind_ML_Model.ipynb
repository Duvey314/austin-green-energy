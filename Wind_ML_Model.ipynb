{
 "cells": [
  {
   "source": [
    "# Wind Machine Learning Model\n",
    "This notebook creates a machine learning model "
   ],
   "cell_type": "markdown",
   "metadata": {}
  },
  {
   "cell_type": "code",
   "execution_count": 2,
   "metadata": {},
   "outputs": [
    {
     "output_type": "error",
     "ename": "ModuleNotFoundError",
     "evalue": "No module named 'keras'",
     "traceback": [
      "\u001b[1;31m---------------------------------------------------------------------------\u001b[0m",
      "\u001b[1;31mModuleNotFoundError\u001b[0m                       Traceback (most recent call last)",
      "\u001b[1;32m<ipython-input-2-4f75098554fc>\u001b[0m in \u001b[0;36m<module>\u001b[1;34m\u001b[0m\n\u001b[0;32m     12\u001b[0m \u001b[1;32mfrom\u001b[0m \u001b[0msklearn\u001b[0m\u001b[1;33m.\u001b[0m\u001b[0mmodel_selection\u001b[0m \u001b[1;32mimport\u001b[0m \u001b[0mtrain_test_split\u001b[0m\u001b[1;33m\u001b[0m\u001b[1;33m\u001b[0m\u001b[0m\n\u001b[0;32m     13\u001b[0m \u001b[1;32mfrom\u001b[0m \u001b[0msklearn\u001b[0m\u001b[1;33m.\u001b[0m\u001b[0mmetrics\u001b[0m \u001b[1;32mimport\u001b[0m \u001b[0mconfusion_matrix\u001b[0m\u001b[1;33m,\u001b[0m \u001b[0maccuracy_score\u001b[0m\u001b[1;33m,\u001b[0m \u001b[0mclassification_report\u001b[0m\u001b[1;33m\u001b[0m\u001b[1;33m\u001b[0m\u001b[0m\n\u001b[1;32m---> 14\u001b[1;33m \u001b[1;32mimport\u001b[0m \u001b[0mkeras\u001b[0m\u001b[1;33m\u001b[0m\u001b[1;33m\u001b[0m\u001b[0m\n\u001b[0m",
      "\u001b[1;31mModuleNotFoundError\u001b[0m: No module named 'keras'"
     ]
    }
   ],
   "source": [
    "# Initial Imports\n",
    "import requests\n",
    "import pandas as pd\n",
    "import json\n",
    "import numpy as np\n",
    "from path import Path\n",
    "from datetime import datetime\n",
    "from datetime import timedelta\n",
    "from sklearn.preprocessing import LabelEncoder\n",
    "le = LabelEncoder()\n",
    "from sklearn import tree\n",
    "from sklearn.model_selection import train_test_split\n",
    "from sklearn.metrics import confusion_matrix, accuracy_score, classification_report\n",
    "import keras"
   ]
  },
  {
   "cell_type": "markdown",
   "metadata": {},
   "source": [
    "## Linear Regression"
   ]
  },
  {
   "cell_type": "code",
   "execution_count": null,
   "metadata": {},
   "outputs": [],
   "source": [
    "import warnings\n",
    "warnings.filterwarnings('ignore')"
   ]
  },
  {
   "cell_type": "code",
   "execution_count": null,
   "metadata": {},
   "outputs": [],
   "source": [
    "from pathlib import Path\n",
    "from collections import Counter\n",
    "import matplotlib.pyplot as plt\n",
    "from sklearn.linear_model import LinearRegression"
   ]
  },
  {
   "cell_type": "code",
   "execution_count": null,
   "metadata": {},
   "outputs": [],
   "source": [
    "from sklearn.metrics import balanced_accuracy_score\n",
    "from sklearn.metrics import confusion_matrix\n",
    "from imblearn.metrics import classification_report_imbalanced"
   ]
  },
  {
   "cell_type": "code",
   "execution_count": null,
   "metadata": {},
   "outputs": [],
   "source": [
    "# Visually inspect the data\n",
    "plt.scatter(hackberry.WindSpeed_mph, hackberry.MWH)\n",
    "plt.xlabel('Wind Speed')\n",
    "plt.ylabel('MHW')\n",
    "plt.show()"
   ]
  },
  {
   "cell_type": "code",
   "execution_count": null,
   "metadata": {},
   "outputs": [],
   "source": [
    "# Visually inspect the data\n",
    "plt.scatter(hackberry.WindDirection_degrees, hackberry.MWH)\n",
    "plt.xlabel('Wind Direction')\n",
    "plt.ylabel('MHW')\n",
    "plt.show()"
   ]
  },
  {
   "cell_type": "code",
   "execution_count": null,
   "metadata": {},
   "outputs": [],
   "source": [
    "# Visually inspect the data\n",
    "plt.scatter(hackberry.WindGust_mph, hackberry.MWH)\n",
    "plt.xlabel('Wind Gust')\n",
    "plt.ylabel('MHW')\n",
    "plt.show()"
   ]
  },
  {
   "cell_type": "markdown",
   "metadata": {},
   "source": [
    "##  It can be concluded that linear regression on wind speed alone does not track the power generated.  Direction of wind needs to be included."
   ]
  },
  {
   "cell_type": "code",
   "execution_count": null,
   "metadata": {},
   "outputs": [],
   "source": [
    "# Creating dataframe with wind direction blowing east\n",
    "windEast = hackberry[hackberry.WindDirection_compass == 'E']"
   ]
  },
  {
   "cell_type": "code",
   "execution_count": null,
   "metadata": {},
   "outputs": [],
   "source": [
    "# Visually inspect the data of wind speed to MWH for winds blowing east.\n",
    "plt.scatter(windEast.WindSpeed_mph, windEast.MWH)\n",
    "plt.xlabel('Wind Speed')\n",
    "plt.ylabel('MWH')\n",
    "plt.show()"
   ]
  },
  {
   "cell_type": "code",
   "execution_count": null,
   "metadata": {},
   "outputs": [],
   "source": [
    "# Creating dataframe with wind direction blowing West\n",
    "windWest = hackberry[hackberry.WindDirection_compass == 'W']"
   ]
  },
  {
   "cell_type": "code",
   "execution_count": null,
   "metadata": {},
   "outputs": [],
   "source": [
    "# Visually inspect the data of wind speed to MWH for winds blowing West.\n",
    "plt.scatter(windWest.WindSpeed_mph, windWest.MWH)\n",
    "plt.xlabel('Wind Speed')\n",
    "plt.ylabel('MWH')\n",
    "plt.show()"
   ]
  },
  {
   "cell_type": "code",
   "execution_count": null,
   "metadata": {},
   "outputs": [],
   "source": [
    "# Creating dataframe with wind direction blowing south\n",
    "windSouth = hackberry[hackberry.WindDirection_compass == 'S']"
   ]
  },
  {
   "cell_type": "code",
   "execution_count": null,
   "metadata": {},
   "outputs": [],
   "source": [
    "# Visually inspect the data of wind speed to MWH for winds blowing South.\n",
    "plt.scatter(windSouth.WindSpeed_mph, windSouth.MWH)\n",
    "plt.xlabel('Wind Speed')\n",
    "plt.ylabel('MWH')\n",
    "plt.show()"
   ]
  },
  {
   "cell_type": "code",
   "execution_count": null,
   "metadata": {},
   "outputs": [],
   "source": [
    "# Creating dataframe with wind direction blowing North\n",
    "windNorth = hackberry[hackberry.WindDirection_compass == 'N']"
   ]
  },
  {
   "cell_type": "code",
   "execution_count": null,
   "metadata": {},
   "outputs": [],
   "source": [
    "# Visually inspect the data of wind speed to MWH for winds blowing North.\n",
    "plt.scatter(windNorth.WindSpeed_mph, windNorth.MWH)\n",
    "plt.xlabel('Wind Speed')\n",
    "plt.ylabel('MWH')\n",
    "plt.show()"
   ]
  },
  {
   "cell_type": "code",
   "execution_count": null,
   "metadata": {},
   "outputs": [],
   "source": [
    "# Creating dataframe with wind direction blowing NE\n",
    "windNE = hackberry[hackberry.WindDirection_compass == 'NE']"
   ]
  },
  {
   "cell_type": "code",
   "execution_count": null,
   "metadata": {},
   "outputs": [],
   "source": [
    "# Visually inspect the data of wind speed to MWH for winds blowing NE.\n",
    "plt.scatter(windNE.WindSpeed_mph, windNE.MWH)\n",
    "plt.xlabel('Wind Speed')\n",
    "plt.ylabel('MWH')\n",
    "plt.show()"
   ]
  },
  {
   "cell_type": "code",
   "execution_count": null,
   "metadata": {},
   "outputs": [],
   "source": [
    "# Creating dataframe with wind direction blowing NW\n",
    "windNW = hackberry[hackberry.WindDirection_compass == 'NW']"
   ]
  },
  {
   "cell_type": "code",
   "execution_count": null,
   "metadata": {},
   "outputs": [],
   "source": [
    "# Visually inspect the data of wind speed to MWH for winds blowing NW.\n",
    "plt.scatter(windNW.WindSpeed_mph, windNW.MWH)\n",
    "plt.xlabel('Wind Speed')\n",
    "plt.ylabel('MWH')\n",
    "plt.show()"
   ]
  },
  {
   "cell_type": "code",
   "execution_count": null,
   "metadata": {},
   "outputs": [],
   "source": [
    "# Creating dataframe with wind direction blowing NNE\n",
    "windNNE = hackberry[hackberry.WindDirection_compass == 'NNE']"
   ]
  },
  {
   "cell_type": "code",
   "execution_count": null,
   "metadata": {},
   "outputs": [],
   "source": [
    "# Visually inspect the data of wind speed to MWH for winds blowing NNE.\n",
    "plt.scatter(windNNE.WindSpeed_mph, windNNE.MWH)\n",
    "plt.xlabel('Wind Speed')\n",
    "plt.ylabel('MWH')\n",
    "plt.show()"
   ]
  },
  {
   "cell_type": "code",
   "execution_count": null,
   "metadata": {},
   "outputs": [],
   "source": [
    "# Creating dataframe with wind direction blowing NNW\n",
    "windNNW = hackberry[hackberry.WindDirection_compass == 'NNW']"
   ]
  },
  {
   "cell_type": "code",
   "execution_count": null,
   "metadata": {},
   "outputs": [],
   "source": [
    "# Visually inspect the data of wind speed to MWH for winds blowing NNW.\n",
    "plt.scatter(windNNW.WindSpeed_mph, windNNW.MWH)\n",
    "plt.xlabel('Wind Speed')\n",
    "plt.ylabel('MWH')\n",
    "plt.show()"
   ]
  },
  {
   "cell_type": "code",
   "execution_count": null,
   "metadata": {},
   "outputs": [],
   "source": [
    "# Creating a dictionary with wind direction\n",
    "#directions = {\n",
    "#    \"N\": 1,\n",
    "#   \"S\": 2,\n",
    "#   \"E\": 3,\n",
    "#   \"W\": 4,\n",
    "#   \"NE\": 5,\n",
    "#  \"NW\": 6,\n",
    "#   \"NNE\": 7,\n",
    "#   \"NNW\": 8,\n",
    "#   \"SE\": 11,\n",
    "#   \"SW\": 12,\n",
    "#   \"SSE\": 13,\n",
    "#    \"SSW\":14,\n",
    "#    \"WNW\":15,\n",
    "#    \"WSW\":16,\n",
    "#    \"ENE\":17,\n",
    "#    \"ESE\":18,\n",
    "    \n",
    "#}"
   ]
  },
  {
   "cell_type": "code",
   "execution_count": null,
   "metadata": {},
   "outputs": [],
   "source": [
    "#hackberry[\"direction\"] = hackberry[\"WindDirection_compass\"].apply(lambda x: directions[x])"
   ]
  },
  {
   "cell_type": "code",
   "execution_count": null,
   "metadata": {},
   "outputs": [],
   "source": [
    "hackberry.to_csv(r'Output/hackberry_encoded.csv', index = False)"
   ]
  },
  {
   "cell_type": "code",
   "execution_count": 66,
   "metadata": {},
   "outputs": [
    {
     "output_type": "execute_result",
     "data": {
      "text/plain": [
       "                     time  WindSpeed_mph  WindDirection_degrees  \\\n",
       "0     2019-01-01 01:00:00           13.0                   89.0   \n",
       "1     2019-01-01 02:00:00           14.0                   53.0   \n",
       "2     2019-01-01 03:00:00           15.0                   17.0   \n",
       "3     2019-01-01 04:00:00           14.0                   18.0   \n",
       "4     2019-01-01 05:00:00           14.0                   19.0   \n",
       "...                   ...            ...                    ...   \n",
       "8753  2019-12-31 19:00:00            6.0                  175.0   \n",
       "8754  2019-12-31 20:00:00            6.0                  176.0   \n",
       "8755  2019-12-31 21:00:00            7.0                  176.0   \n",
       "8756  2019-12-31 22:00:00            7.0                  176.0   \n",
       "8757  2019-12-31 23:00:00            7.0                  175.0   \n",
       "\n",
       "     WindDirection_compass  WindGust_mph         MWH  \n",
       "0                        E          23.0  110.487950  \n",
       "1                       NE          23.0   72.020225  \n",
       "2                      NNE          22.0   67.639475  \n",
       "3                      NNE          21.0   63.718900  \n",
       "4                      NNE          20.0   61.264250  \n",
       "...                    ...           ...         ...  \n",
       "8753                     S          12.0   15.506725  \n",
       "8754                     S          13.0   32.191125  \n",
       "8755                     S          14.0   40.677250  \n",
       "8756                     S          15.0   45.826475  \n",
       "8757                     S          16.0   59.101325  \n",
       "\n",
       "[8758 rows x 6 columns]"
      ],
      "text/html": "<div>\n<style scoped>\n    .dataframe tbody tr th:only-of-type {\n        vertical-align: middle;\n    }\n\n    .dataframe tbody tr th {\n        vertical-align: top;\n    }\n\n    .dataframe thead th {\n        text-align: right;\n    }\n</style>\n<table border=\"1\" class=\"dataframe\">\n  <thead>\n    <tr style=\"text-align: right;\">\n      <th></th>\n      <th>time</th>\n      <th>WindSpeed_mph</th>\n      <th>WindDirection_degrees</th>\n      <th>WindDirection_compass</th>\n      <th>WindGust_mph</th>\n      <th>MWH</th>\n    </tr>\n  </thead>\n  <tbody>\n    <tr>\n      <th>0</th>\n      <td>2019-01-01 01:00:00</td>\n      <td>13.0</td>\n      <td>89.0</td>\n      <td>E</td>\n      <td>23.0</td>\n      <td>110.487950</td>\n    </tr>\n    <tr>\n      <th>1</th>\n      <td>2019-01-01 02:00:00</td>\n      <td>14.0</td>\n      <td>53.0</td>\n      <td>NE</td>\n      <td>23.0</td>\n      <td>72.020225</td>\n    </tr>\n    <tr>\n      <th>2</th>\n      <td>2019-01-01 03:00:00</td>\n      <td>15.0</td>\n      <td>17.0</td>\n      <td>NNE</td>\n      <td>22.0</td>\n      <td>67.639475</td>\n    </tr>\n    <tr>\n      <th>3</th>\n      <td>2019-01-01 04:00:00</td>\n      <td>14.0</td>\n      <td>18.0</td>\n      <td>NNE</td>\n      <td>21.0</td>\n      <td>63.718900</td>\n    </tr>\n    <tr>\n      <th>4</th>\n      <td>2019-01-01 05:00:00</td>\n      <td>14.0</td>\n      <td>19.0</td>\n      <td>NNE</td>\n      <td>20.0</td>\n      <td>61.264250</td>\n    </tr>\n    <tr>\n      <th>...</th>\n      <td>...</td>\n      <td>...</td>\n      <td>...</td>\n      <td>...</td>\n      <td>...</td>\n      <td>...</td>\n    </tr>\n    <tr>\n      <th>8753</th>\n      <td>2019-12-31 19:00:00</td>\n      <td>6.0</td>\n      <td>175.0</td>\n      <td>S</td>\n      <td>12.0</td>\n      <td>15.506725</td>\n    </tr>\n    <tr>\n      <th>8754</th>\n      <td>2019-12-31 20:00:00</td>\n      <td>6.0</td>\n      <td>176.0</td>\n      <td>S</td>\n      <td>13.0</td>\n      <td>32.191125</td>\n    </tr>\n    <tr>\n      <th>8755</th>\n      <td>2019-12-31 21:00:00</td>\n      <td>7.0</td>\n      <td>176.0</td>\n      <td>S</td>\n      <td>14.0</td>\n      <td>40.677250</td>\n    </tr>\n    <tr>\n      <th>8756</th>\n      <td>2019-12-31 22:00:00</td>\n      <td>7.0</td>\n      <td>176.0</td>\n      <td>S</td>\n      <td>15.0</td>\n      <td>45.826475</td>\n    </tr>\n    <tr>\n      <th>8757</th>\n      <td>2019-12-31 23:00:00</td>\n      <td>7.0</td>\n      <td>175.0</td>\n      <td>S</td>\n      <td>16.0</td>\n      <td>59.101325</td>\n    </tr>\n  </tbody>\n</table>\n<p>8758 rows × 6 columns</p>\n</div>"
     },
     "metadata": {},
     "execution_count": 66
    }
   ],
   "source": [
    "data = \"Output/hackberry_encoded.csv\"\n",
    "hackberry_encoded = pd.read_csv(data)\n",
    "hackberry_encoded"
   ]
  },
  {
   "cell_type": "code",
   "execution_count": null,
   "metadata": {},
   "outputs": [],
   "source": [
    "#hackberryEncoded = hackberry_encoded.drop([\"time\", \"WindDirection_compass\", \"direction\"], axis=1)"
   ]
  },
  {
   "cell_type": "code",
   "execution_count": 67,
   "metadata": {},
   "outputs": [],
   "source": [
    "hackberryEncoded = hackberry_encoded.drop([ \"WindDirection_compass\", \"WindDirection_compass\"], axis=1)"
   ]
  },
  {
   "cell_type": "code",
   "execution_count": 68,
   "metadata": {},
   "outputs": [],
   "source": [
    "hackberryEncoded[\"WindSpeed_mph\"] = hackberryEncoded[\"WindSpeed_mph\"].round(0).astype(int)"
   ]
  },
  {
   "cell_type": "code",
   "execution_count": 69,
   "metadata": {},
   "outputs": [],
   "source": [
    "hackberryEncoded[\"WindDirection_degrees\"] = hackberryEncoded[\"WindDirection_degrees\"].round(0).astype(int)"
   ]
  },
  {
   "cell_type": "code",
   "execution_count": 70,
   "metadata": {},
   "outputs": [],
   "source": [
    "hackberryEncoded[\"WindGust_mph\"] = hackberryEncoded[\"WindGust_mph\"].round(0).astype(int)"
   ]
  },
  {
   "cell_type": "code",
   "execution_count": 71,
   "metadata": {},
   "outputs": [],
   "source": [
    "hackberryEncoded[\"MWH\"] = hackberryEncoded[\"MWH\"].round(0).astype(int)"
   ]
  },
  {
   "cell_type": "code",
   "execution_count": 77,
   "metadata": {},
   "outputs": [],
   "source": [
    "import datetime as dt\n",
    "hackberryEncoded['time'] = pd.to_datetime(hackberryEncoded['time'])\n",
    "hackberryEncoded['time'] = hackberryEncoded['time'].dt.hour\n"
   ]
  },
  {
   "cell_type": "code",
   "execution_count": 94,
   "metadata": {},
   "outputs": [
    {
     "output_type": "execute_result",
     "data": {
      "text/plain": [
       "time                     int64\n",
       "WindSpeed_mph            int32\n",
       "WindDirection_degrees    int32\n",
       "WindGust_mph             int32\n",
       "MWH                      int32\n",
       "dtype: object"
      ]
     },
     "metadata": {},
     "execution_count": 94
    }
   ],
   "source": [
    "hackberryEncoded.dtypes"
   ]
  },
  {
   "cell_type": "code",
   "execution_count": 55,
   "metadata": {},
   "outputs": [],
   "source": [
    "# Creating the scaler instance\n",
    "from sklearn.preprocessing import StandardScaler\n",
    "data_scaler = StandardScaler()"
   ]
  },
  {
   "cell_type": "code",
   "execution_count": 34,
   "metadata": {},
   "outputs": [
    {
     "output_type": "error",
     "ename": "TypeError",
     "evalue": "invalid type promotion",
     "traceback": [
      "\u001b[1;31m---------------------------------------------------------------------------\u001b[0m",
      "\u001b[1;31mTypeError\u001b[0m                                 Traceback (most recent call last)",
      "\u001b[1;32m<ipython-input-34-278ed4d7e95a>\u001b[0m in \u001b[0;36m<module>\u001b[1;34m\u001b[0m\n\u001b[1;32m----> 1\u001b[1;33m \u001b[0mhackberry_scaled\u001b[0m \u001b[1;33m=\u001b[0m \u001b[0mdata_scaler\u001b[0m\u001b[1;33m.\u001b[0m\u001b[0mfit_transform\u001b[0m\u001b[1;33m(\u001b[0m\u001b[0mhackberryEncoded\u001b[0m\u001b[1;33m)\u001b[0m\u001b[1;33m\u001b[0m\u001b[1;33m\u001b[0m\u001b[0m\n\u001b[0m",
      "\u001b[1;32m~\\anaconda3\\envs\\mlenv\\lib\\site-packages\\sklearn\\base.py\u001b[0m in \u001b[0;36mfit_transform\u001b[1;34m(self, X, y, **fit_params)\u001b[0m\n\u001b[0;32m    688\u001b[0m         \u001b[1;32mif\u001b[0m \u001b[0my\u001b[0m \u001b[1;32mis\u001b[0m \u001b[1;32mNone\u001b[0m\u001b[1;33m:\u001b[0m\u001b[1;33m\u001b[0m\u001b[1;33m\u001b[0m\u001b[0m\n\u001b[0;32m    689\u001b[0m             \u001b[1;31m# fit method of arity 1 (unsupervised transformation)\u001b[0m\u001b[1;33m\u001b[0m\u001b[1;33m\u001b[0m\u001b[1;33m\u001b[0m\u001b[0m\n\u001b[1;32m--> 690\u001b[1;33m             \u001b[1;32mreturn\u001b[0m \u001b[0mself\u001b[0m\u001b[1;33m.\u001b[0m\u001b[0mfit\u001b[0m\u001b[1;33m(\u001b[0m\u001b[0mX\u001b[0m\u001b[1;33m,\u001b[0m \u001b[1;33m**\u001b[0m\u001b[0mfit_params\u001b[0m\u001b[1;33m)\u001b[0m\u001b[1;33m.\u001b[0m\u001b[0mtransform\u001b[0m\u001b[1;33m(\u001b[0m\u001b[0mX\u001b[0m\u001b[1;33m)\u001b[0m\u001b[1;33m\u001b[0m\u001b[1;33m\u001b[0m\u001b[0m\n\u001b[0m\u001b[0;32m    691\u001b[0m         \u001b[1;32melse\u001b[0m\u001b[1;33m:\u001b[0m\u001b[1;33m\u001b[0m\u001b[1;33m\u001b[0m\u001b[0m\n\u001b[0;32m    692\u001b[0m             \u001b[1;31m# fit method of arity 2 (supervised transformation)\u001b[0m\u001b[1;33m\u001b[0m\u001b[1;33m\u001b[0m\u001b[1;33m\u001b[0m\u001b[0m\n",
      "\u001b[1;32m~\\anaconda3\\envs\\mlenv\\lib\\site-packages\\sklearn\\preprocessing\\_data.py\u001b[0m in \u001b[0;36mfit\u001b[1;34m(self, X, y)\u001b[0m\n\u001b[0;32m    665\u001b[0m         \u001b[1;31m# Reset internal state before fitting\u001b[0m\u001b[1;33m\u001b[0m\u001b[1;33m\u001b[0m\u001b[1;33m\u001b[0m\u001b[0m\n\u001b[0;32m    666\u001b[0m         \u001b[0mself\u001b[0m\u001b[1;33m.\u001b[0m\u001b[0m_reset\u001b[0m\u001b[1;33m(\u001b[0m\u001b[1;33m)\u001b[0m\u001b[1;33m\u001b[0m\u001b[1;33m\u001b[0m\u001b[0m\n\u001b[1;32m--> 667\u001b[1;33m         \u001b[1;32mreturn\u001b[0m \u001b[0mself\u001b[0m\u001b[1;33m.\u001b[0m\u001b[0mpartial_fit\u001b[0m\u001b[1;33m(\u001b[0m\u001b[0mX\u001b[0m\u001b[1;33m,\u001b[0m \u001b[0my\u001b[0m\u001b[1;33m)\u001b[0m\u001b[1;33m\u001b[0m\u001b[1;33m\u001b[0m\u001b[0m\n\u001b[0m\u001b[0;32m    668\u001b[0m \u001b[1;33m\u001b[0m\u001b[0m\n\u001b[0;32m    669\u001b[0m     \u001b[1;32mdef\u001b[0m \u001b[0mpartial_fit\u001b[0m\u001b[1;33m(\u001b[0m\u001b[0mself\u001b[0m\u001b[1;33m,\u001b[0m \u001b[0mX\u001b[0m\u001b[1;33m,\u001b[0m \u001b[0my\u001b[0m\u001b[1;33m=\u001b[0m\u001b[1;32mNone\u001b[0m\u001b[1;33m)\u001b[0m\u001b[1;33m:\u001b[0m\u001b[1;33m\u001b[0m\u001b[1;33m\u001b[0m\u001b[0m\n",
      "\u001b[1;32m~\\anaconda3\\envs\\mlenv\\lib\\site-packages\\sklearn\\preprocessing\\_data.py\u001b[0m in \u001b[0;36mpartial_fit\u001b[1;34m(self, X, y)\u001b[0m\n\u001b[0;32m    696\u001b[0m         X = self._validate_data(X, accept_sparse=('csr', 'csc'),\n\u001b[0;32m    697\u001b[0m                                 \u001b[0mestimator\u001b[0m\u001b[1;33m=\u001b[0m\u001b[0mself\u001b[0m\u001b[1;33m,\u001b[0m \u001b[0mdtype\u001b[0m\u001b[1;33m=\u001b[0m\u001b[0mFLOAT_DTYPES\u001b[0m\u001b[1;33m,\u001b[0m\u001b[1;33m\u001b[0m\u001b[1;33m\u001b[0m\u001b[0m\n\u001b[1;32m--> 698\u001b[1;33m                                 force_all_finite='allow-nan')\n\u001b[0m\u001b[0;32m    699\u001b[0m \u001b[1;33m\u001b[0m\u001b[0m\n\u001b[0;32m    700\u001b[0m         \u001b[1;31m# Even in the case of `with_mean=False`, we update the mean anyway\u001b[0m\u001b[1;33m\u001b[0m\u001b[1;33m\u001b[0m\u001b[1;33m\u001b[0m\u001b[0m\n",
      "\u001b[1;32m~\\anaconda3\\envs\\mlenv\\lib\\site-packages\\sklearn\\base.py\u001b[0m in \u001b[0;36m_validate_data\u001b[1;34m(self, X, y, reset, validate_separately, **check_params)\u001b[0m\n\u001b[0;32m    418\u001b[0m                     \u001b[1;34mf\"requires y to be passed, but the target y is None.\"\u001b[0m\u001b[1;33m\u001b[0m\u001b[1;33m\u001b[0m\u001b[0m\n\u001b[0;32m    419\u001b[0m                 )\n\u001b[1;32m--> 420\u001b[1;33m             \u001b[0mX\u001b[0m \u001b[1;33m=\u001b[0m \u001b[0mcheck_array\u001b[0m\u001b[1;33m(\u001b[0m\u001b[0mX\u001b[0m\u001b[1;33m,\u001b[0m \u001b[1;33m**\u001b[0m\u001b[0mcheck_params\u001b[0m\u001b[1;33m)\u001b[0m\u001b[1;33m\u001b[0m\u001b[1;33m\u001b[0m\u001b[0m\n\u001b[0m\u001b[0;32m    421\u001b[0m             \u001b[0mout\u001b[0m \u001b[1;33m=\u001b[0m \u001b[0mX\u001b[0m\u001b[1;33m\u001b[0m\u001b[1;33m\u001b[0m\u001b[0m\n\u001b[0;32m    422\u001b[0m         \u001b[1;32melse\u001b[0m\u001b[1;33m:\u001b[0m\u001b[1;33m\u001b[0m\u001b[1;33m\u001b[0m\u001b[0m\n",
      "\u001b[1;32m~\\anaconda3\\envs\\mlenv\\lib\\site-packages\\sklearn\\utils\\validation.py\u001b[0m in \u001b[0;36minner_f\u001b[1;34m(*args, **kwargs)\u001b[0m\n\u001b[0;32m     71\u001b[0m                           FutureWarning)\n\u001b[0;32m     72\u001b[0m         \u001b[0mkwargs\u001b[0m\u001b[1;33m.\u001b[0m\u001b[0mupdate\u001b[0m\u001b[1;33m(\u001b[0m\u001b[1;33m{\u001b[0m\u001b[0mk\u001b[0m\u001b[1;33m:\u001b[0m \u001b[0marg\u001b[0m \u001b[1;32mfor\u001b[0m \u001b[0mk\u001b[0m\u001b[1;33m,\u001b[0m \u001b[0marg\u001b[0m \u001b[1;32min\u001b[0m \u001b[0mzip\u001b[0m\u001b[1;33m(\u001b[0m\u001b[0msig\u001b[0m\u001b[1;33m.\u001b[0m\u001b[0mparameters\u001b[0m\u001b[1;33m,\u001b[0m \u001b[0margs\u001b[0m\u001b[1;33m)\u001b[0m\u001b[1;33m}\u001b[0m\u001b[1;33m)\u001b[0m\u001b[1;33m\u001b[0m\u001b[1;33m\u001b[0m\u001b[0m\n\u001b[1;32m---> 73\u001b[1;33m         \u001b[1;32mreturn\u001b[0m \u001b[0mf\u001b[0m\u001b[1;33m(\u001b[0m\u001b[1;33m**\u001b[0m\u001b[0mkwargs\u001b[0m\u001b[1;33m)\u001b[0m\u001b[1;33m\u001b[0m\u001b[1;33m\u001b[0m\u001b[0m\n\u001b[0m\u001b[0;32m     74\u001b[0m     \u001b[1;32mreturn\u001b[0m \u001b[0minner_f\u001b[0m\u001b[1;33m\u001b[0m\u001b[1;33m\u001b[0m\u001b[0m\n\u001b[0;32m     75\u001b[0m \u001b[1;33m\u001b[0m\u001b[0m\n",
      "\u001b[1;32m~\\anaconda3\\envs\\mlenv\\lib\\site-packages\\sklearn\\utils\\validation.py\u001b[0m in \u001b[0;36mcheck_array\u001b[1;34m(array, accept_sparse, accept_large_sparse, dtype, order, copy, force_all_finite, ensure_2d, allow_nd, ensure_min_samples, ensure_min_features, estimator)\u001b[0m\n\u001b[0;32m    532\u001b[0m \u001b[1;33m\u001b[0m\u001b[0m\n\u001b[0;32m    533\u001b[0m         \u001b[1;32mif\u001b[0m \u001b[0mall\u001b[0m\u001b[1;33m(\u001b[0m\u001b[0misinstance\u001b[0m\u001b[1;33m(\u001b[0m\u001b[0mdtype\u001b[0m\u001b[1;33m,\u001b[0m \u001b[0mnp\u001b[0m\u001b[1;33m.\u001b[0m\u001b[0mdtype\u001b[0m\u001b[1;33m)\u001b[0m \u001b[1;32mfor\u001b[0m \u001b[0mdtype\u001b[0m \u001b[1;32min\u001b[0m \u001b[0mdtypes_orig\u001b[0m\u001b[1;33m)\u001b[0m\u001b[1;33m:\u001b[0m\u001b[1;33m\u001b[0m\u001b[1;33m\u001b[0m\u001b[0m\n\u001b[1;32m--> 534\u001b[1;33m             \u001b[0mdtype_orig\u001b[0m \u001b[1;33m=\u001b[0m \u001b[0mnp\u001b[0m\u001b[1;33m.\u001b[0m\u001b[0mresult_type\u001b[0m\u001b[1;33m(\u001b[0m\u001b[1;33m*\u001b[0m\u001b[0mdtypes_orig\u001b[0m\u001b[1;33m)\u001b[0m\u001b[1;33m\u001b[0m\u001b[1;33m\u001b[0m\u001b[0m\n\u001b[0m\u001b[0;32m    535\u001b[0m \u001b[1;33m\u001b[0m\u001b[0m\n\u001b[0;32m    536\u001b[0m     \u001b[1;32mif\u001b[0m \u001b[0mdtype_numeric\u001b[0m\u001b[1;33m:\u001b[0m\u001b[1;33m\u001b[0m\u001b[1;33m\u001b[0m\u001b[0m\n",
      "\u001b[1;32m<__array_function__ internals>\u001b[0m in \u001b[0;36mresult_type\u001b[1;34m(*args, **kwargs)\u001b[0m\n",
      "\u001b[1;31mTypeError\u001b[0m: invalid type promotion"
     ]
    }
   ],
   "source": [
    "hackberry_scaled = data_scaler.fit_transform(hackberryEncoded)"
   ]
  },
  {
   "cell_type": "code",
   "execution_count": 13,
   "metadata": {},
   "outputs": [
    {
     "output_type": "execute_result",
     "data": {
      "text/plain": [
       "array([[ 0.3608004 , -1.05022902,  0.74188853,  1.22371389],\n",
       "       [ 0.56803347, -1.53116107,  0.74188853,  0.40867688],\n",
       "       [ 0.77526654, -2.01209313,  0.60454765,  0.32288351],\n",
       "       [ 0.56803347, -1.99873391,  0.46720677,  0.23709014],\n",
       "       [ 0.56803347, -1.98537468,  0.32986589,  0.17274512]])"
      ]
     },
     "metadata": {},
     "execution_count": 13
    }
   ],
   "source": [
    "hackberry_scaled[:5]"
   ]
  },
  {
   "cell_type": "code",
   "execution_count": null,
   "metadata": {},
   "outputs": [],
   "source": [
    "print(np.mean(hackberry_scaled[:,0]))\n",
    "print(np.std(hackberry_scaled[:,0]))"
   ]
  },
  {
   "cell_type": "code",
   "execution_count": 82,
   "metadata": {},
   "outputs": [
    {
     "output_type": "execute_result",
     "data": {
      "text/plain": [
       "   time  WindSpeed_mph  WindDirection_degrees  WindGust_mph\n",
       "0     1             13                     89            23\n",
       "1     2             14                     53            23\n",
       "2     3             15                     17            22\n",
       "3     4             14                     18            21\n",
       "4     5             14                     19            20"
      ],
      "text/html": "<div>\n<style scoped>\n    .dataframe tbody tr th:only-of-type {\n        vertical-align: middle;\n    }\n\n    .dataframe tbody tr th {\n        vertical-align: top;\n    }\n\n    .dataframe thead th {\n        text-align: right;\n    }\n</style>\n<table border=\"1\" class=\"dataframe\">\n  <thead>\n    <tr style=\"text-align: right;\">\n      <th></th>\n      <th>time</th>\n      <th>WindSpeed_mph</th>\n      <th>WindDirection_degrees</th>\n      <th>WindGust_mph</th>\n    </tr>\n  </thead>\n  <tbody>\n    <tr>\n      <th>0</th>\n      <td>1</td>\n      <td>13</td>\n      <td>89</td>\n      <td>23</td>\n    </tr>\n    <tr>\n      <th>1</th>\n      <td>2</td>\n      <td>14</td>\n      <td>53</td>\n      <td>23</td>\n    </tr>\n    <tr>\n      <th>2</th>\n      <td>3</td>\n      <td>15</td>\n      <td>17</td>\n      <td>22</td>\n    </tr>\n    <tr>\n      <th>3</th>\n      <td>4</td>\n      <td>14</td>\n      <td>18</td>\n      <td>21</td>\n    </tr>\n    <tr>\n      <th>4</th>\n      <td>5</td>\n      <td>14</td>\n      <td>19</td>\n      <td>20</td>\n    </tr>\n  </tbody>\n</table>\n</div>"
     },
     "metadata": {},
     "execution_count": 82
    }
   ],
   "source": [
    "# Define the features set.\n",
    "X = hackberryEncoded.copy()\n",
    "X = X.drop(\"MWH\", axis=1)\n",
    "X.head()"
   ]
  },
  {
   "cell_type": "code",
   "execution_count": 83,
   "metadata": {},
   "outputs": [
    {
     "output_type": "execute_result",
     "data": {
      "text/plain": [
       "array([110,  72,  68,  64,  61])"
      ]
     },
     "metadata": {},
     "execution_count": 83
    }
   ],
   "source": [
    "# Define the target set.\n",
    "y = hackberryEncoded[\"MWH\"].ravel()\n",
    "y[:5]"
   ]
  },
  {
   "cell_type": "code",
   "execution_count": 84,
   "metadata": {},
   "outputs": [],
   "source": [
    "#split data into training and testing sets\n",
    "X_train, X_test, y_train, y_test = train_test_split(X, y, random_state=78)"
   ]
  },
  {
   "cell_type": "code",
   "execution_count": 85,
   "metadata": {},
   "outputs": [],
   "source": [
    "# Creating a StandardScaler instance.\n",
    "scaler = StandardScaler()\n",
    "# Fitting the Standard Scaler with the training data.\n",
    "X_scaler = scaler.fit(X_train)\n",
    "\n",
    "# Scaling the data.\n",
    "X_train_scaled = X_scaler.transform(X_train)\n",
    "X_test_scaled = X_scaler.transform(X_test)"
   ]
  },
  {
   "cell_type": "code",
   "execution_count": 60,
   "metadata": {},
   "outputs": [
    {
     "output_type": "stream",
     "name": "stdout",
     "text": [
      "(6568, 2)\n(2190, 2)\n(6568,)\n(2190,)\n"
     ]
    }
   ],
   "source": [
    "# Determine the shape of training and testing sets.\n",
    "print(X_train.shape)\n",
    "print(X_test.shape)\n",
    "print(y_train.shape)\n",
    "print(y_test.shape)"
   ]
  },
  {
   "source": [
    "# ML Models"
   ],
   "cell_type": "markdown",
   "metadata": {}
  },
  {
   "source": [
    "## Multiple Linear Regression\n",
    "\n",
    "Date time not supported in linear Regression."
   ],
   "cell_type": "markdown",
   "metadata": {}
  },
  {
   "cell_type": "code",
   "execution_count": 86,
   "metadata": {},
   "outputs": [
    {
     "output_type": "execute_result",
     "data": {
      "text/plain": [
       "LinearRegression()"
      ]
     },
     "metadata": {},
     "execution_count": 86
    }
   ],
   "source": [
    "from sklearn.linear_model import LinearRegression\n",
    "# Train\n",
    "\n",
    "regr = LinearRegression()\n",
    "regr.fit(X_train,y_train)\n"
   ]
  },
  {
   "cell_type": "code",
   "execution_count": 87,
   "metadata": {},
   "outputs": [
    {
     "output_type": "execute_result",
     "data": {
      "text/plain": [
       "array([ -1.94027559,  35.48290663,  46.02611518, ...,  37.05014937,\n",
       "        91.5921314 , 117.81088724])"
      ]
     },
     "metadata": {},
     "execution_count": 87
    }
   ],
   "source": [
    "# test\n",
    "y_pred = regr.predict(X_test)\n",
    "y_pred"
   ]
  },
  {
   "cell_type": "code",
   "execution_count": 88,
   "metadata": {},
   "outputs": [
    {
     "output_type": "stream",
     "name": "stdout",
     "text": [
      "38.46475037237571 %\nR^2 Value:0.3846475037237571\n"
     ]
    }
   ],
   "source": [
    "accuracy = regr.score(X_test,y_test)\n",
    "print(accuracy*100,'%')\n",
    "print(f\"R^2 Value:{regr.score(X_test,y_test)}\")\n"
   ]
  },
  {
   "source": [
    "## Neural Network"
   ],
   "cell_type": "markdown",
   "metadata": {}
  },
  {
   "cell_type": "code",
   "execution_count": 102,
   "metadata": {},
   "outputs": [
    {
     "output_type": "stream",
     "name": "stdout",
     "text": [
      "Epoch 1/50\n",
      "206/206 [==============================] - 0s 573us/step - loss: 3781.8059 - accuracy: 0.0467\n",
      "Epoch 2/50\n",
      "206/206 [==============================] - 0s 573us/step - loss: 1960.5571 - accuracy: 0.0437\n",
      "Epoch 3/50\n",
      "206/206 [==============================] - 0s 670us/step - loss: 1671.8752 - accuracy: 0.0437\n",
      "Epoch 4/50\n",
      "206/206 [==============================] - 0s 961us/step - loss: 1479.2192 - accuracy: 0.0437\n",
      "Epoch 5/50\n",
      "206/206 [==============================] - 0s 859us/step - loss: 1401.5864 - accuracy: 0.0437\n",
      "Epoch 6/50\n",
      "206/206 [==============================] - 0s 607us/step - loss: 1389.9894 - accuracy: 0.0438\n",
      "Epoch 7/50\n",
      "206/206 [==============================] - 0s 573us/step - loss: 1382.8456 - accuracy: 0.0443\n",
      "Epoch 8/50\n",
      "206/206 [==============================] - 0s 592us/step - loss: 1380.9604 - accuracy: 0.0443\n",
      "Epoch 9/50\n",
      "206/206 [==============================] - 0s 563us/step - loss: 1381.0540 - accuracy: 0.0446\n",
      "Epoch 10/50\n",
      "206/206 [==============================] - 0s 573us/step - loss: 1371.5314 - accuracy: 0.0446\n",
      "Epoch 11/50\n",
      "206/206 [==============================] - 0s 573us/step - loss: 1377.6648 - accuracy: 0.0451\n",
      "Epoch 12/50\n",
      "206/206 [==============================] - 0s 568us/step - loss: 1375.2036 - accuracy: 0.0452\n",
      "Epoch 13/50\n",
      "206/206 [==============================] - 0s 578us/step - loss: 1361.6392 - accuracy: 0.0448\n",
      "Epoch 14/50\n",
      "206/206 [==============================] - 0s 612us/step - loss: 1361.2792 - accuracy: 0.0452\n",
      "Epoch 15/50\n",
      "206/206 [==============================] - 0s 573us/step - loss: 1356.7672 - accuracy: 0.0449\n",
      "Epoch 16/50\n",
      "206/206 [==============================] - 0s 568us/step - loss: 1357.0728 - accuracy: 0.0449\n",
      "Epoch 17/50\n",
      "206/206 [==============================] - 0s 558us/step - loss: 1353.7997 - accuracy: 0.0442\n",
      "Epoch 18/50\n",
      "206/206 [==============================] - 0s 583us/step - loss: 1352.0829 - accuracy: 0.0451\n",
      "Epoch 19/50\n",
      "206/206 [==============================] - 0s 588us/step - loss: 1349.4186 - accuracy: 0.0451\n",
      "Epoch 20/50\n",
      "206/206 [==============================] - 0s 578us/step - loss: 1343.8669 - accuracy: 0.0455\n",
      "Epoch 21/50\n",
      "206/206 [==============================] - 0s 583us/step - loss: 1343.1027 - accuracy: 0.0451\n",
      "Epoch 22/50\n",
      "206/206 [==============================] - 0s 534us/step - loss: 1342.5470 - accuracy: 0.0449\n",
      "Epoch 23/50\n",
      "206/206 [==============================] - 0s 534us/step - loss: 1344.3737 - accuracy: 0.0454\n",
      "Epoch 24/50\n",
      "206/206 [==============================] - 0s 568us/step - loss: 1341.4906 - accuracy: 0.0458\n",
      "Epoch 25/50\n",
      "206/206 [==============================] - 0s 563us/step - loss: 1332.8719 - accuracy: 0.0454\n",
      "Epoch 26/50\n",
      "206/206 [==============================] - 0s 568us/step - loss: 1332.5936 - accuracy: 0.0457\n",
      "Epoch 27/50\n",
      "206/206 [==============================] - 0s 534us/step - loss: 1342.2305 - accuracy: 0.0457\n",
      "Epoch 28/50\n",
      "206/206 [==============================] - 0s 534us/step - loss: 1341.0846 - accuracy: 0.0470\n",
      "Epoch 29/50\n",
      "206/206 [==============================] - 0s 529us/step - loss: 1333.8743 - accuracy: 0.0457\n",
      "Epoch 30/50\n",
      "206/206 [==============================] - 0s 694us/step - loss: 1331.3585 - accuracy: 0.0440\n",
      "Epoch 31/50\n",
      "206/206 [==============================] - 0s 568us/step - loss: 1330.7567 - accuracy: 0.0460\n",
      "Epoch 32/50\n",
      "206/206 [==============================] - 0s 583us/step - loss: 1328.6510 - accuracy: 0.0461\n",
      "Epoch 33/50\n",
      "206/206 [==============================] - 0s 621us/step - loss: 1341.4366 - accuracy: 0.0480\n",
      "Epoch 34/50\n",
      "206/206 [==============================] - 0s 583us/step - loss: 1342.6490 - accuracy: 0.0458\n",
      "Epoch 35/50\n",
      "206/206 [==============================] - 0s 573us/step - loss: 1329.8446 - accuracy: 0.0474\n",
      "Epoch 36/50\n",
      "206/206 [==============================] - 0s 578us/step - loss: 1324.7544 - accuracy: 0.0467\n",
      "Epoch 37/50\n",
      "206/206 [==============================] - 0s 641us/step - loss: 1328.0624 - accuracy: 0.0466\n",
      "Epoch 38/50\n",
      "206/206 [==============================] - 0s 583us/step - loss: 1323.5460 - accuracy: 0.0467\n",
      "Epoch 39/50\n",
      "206/206 [==============================] - 0s 578us/step - loss: 1322.1527 - accuracy: 0.0461\n",
      "Epoch 40/50\n",
      "206/206 [==============================] - 0s 558us/step - loss: 1326.6150 - accuracy: 0.0470\n",
      "Epoch 41/50\n",
      "206/206 [==============================] - 0s 578us/step - loss: 1317.9171 - accuracy: 0.0466\n",
      "Epoch 42/50\n",
      "206/206 [==============================] - 0s 612us/step - loss: 1323.7950 - accuracy: 0.0472\n",
      "Epoch 43/50\n",
      "206/206 [==============================] - 0s 563us/step - loss: 1332.1410 - accuracy: 0.0466\n",
      "Epoch 44/50\n",
      "206/206 [==============================] - 0s 568us/step - loss: 1327.4362 - accuracy: 0.0467\n",
      "Epoch 45/50\n",
      "206/206 [==============================] - 0s 617us/step - loss: 1321.7361 - accuracy: 0.0463\n",
      "Epoch 46/50\n",
      "206/206 [==============================] - 0s 762us/step - loss: 1328.5475 - accuracy: 0.0461\n",
      "Epoch 47/50\n",
      "206/206 [==============================] - 0s 636us/step - loss: 1333.8584 - accuracy: 0.0481\n",
      "Epoch 48/50\n",
      "206/206 [==============================] - 0s 515us/step - loss: 1328.3276 - accuracy: 0.0467\n",
      "Epoch 49/50\n",
      "206/206 [==============================] - 0s 539us/step - loss: 1317.0804 - accuracy: 0.0470\n",
      "Epoch 50/50\n",
      "206/206 [==============================] - 0s 539us/step - loss: 1326.7430 - accuracy: 0.0470\n",
      "69/69 - 0s - loss: 5846.4336 - accuracy: 0.0776\n",
      "Loss: 5846.43359375, Accuracy: 0.077625572681427\n"
     ]
    }
   ],
   "source": [
    "import tensorflow as tf\n",
    "# Define the model - deep neural net\n",
    "number_input_features = 4\n",
    "hidden_nodes_layer1 =  number_input_features*3\n",
    "hidden_nodes_layer2 =  number_input_features*3\n",
    "\n",
    "nn = tf.keras.models.Sequential()\n",
    "\n",
    "# First hidden layer\n",
    "nn.add(\n",
    "    tf.keras.layers.Dense(units=hidden_nodes_layer1, input_dim=number_input_features, activation=\"linear\")\n",
    ")\n",
    "\n",
    "# Second hidden layer\n",
    "nn.add(tf.keras.layers.Dense(units=hidden_nodes_layer2, activation=\"linear\"))\n",
    "\n",
    "# Output layer\n",
    "nn.add(tf.keras.layers.Dense(units=1, activation=\"linear\"))\n",
    "\n",
    "# Compile the Sequential model together and customize metrics\n",
    "nn.compile(optimizer=\"sgd\", loss=tf.keras.losses.MeanSquaredError(), metrics=[\"accuracy\"])\n",
    "\n",
    "# Train the model\n",
    "fit_model = nn.fit(X_train, y_train, epochs=50)\n",
    "\n",
    "# Evaluate the model using the test data\n",
    "model_loss, model_accuracy = nn.evaluate(X_test_scaled,y_test,verbose=2)\n",
    "print(f\"Loss: {model_loss}, Accuracy: {model_accuracy}\")"
   ]
  },
  {
   "cell_type": "code",
   "execution_count": 107,
   "metadata": {},
   "outputs": [
    {
     "output_type": "error",
     "ename": "ModuleNotFoundError",
     "evalue": "No module named 'keras'",
     "traceback": [
      "\u001b[1;31m---------------------------------------------------------------------------\u001b[0m",
      "\u001b[1;31mModuleNotFoundError\u001b[0m                       Traceback (most recent call last)",
      "\u001b[1;32m<ipython-input-107-755293df50d9>\u001b[0m in \u001b[0;36m<module>\u001b[1;34m\u001b[0m\n\u001b[0;32m      1\u001b[0m \u001b[1;31m# Example from https://machinelearningmastery.com/regression-tutorial-keras-deep-learning-library-python/\u001b[0m\u001b[1;33m\u001b[0m\u001b[1;33m\u001b[0m\u001b[1;33m\u001b[0m\u001b[0m\n\u001b[1;32m----> 2\u001b[1;33m \u001b[1;32mimport\u001b[0m \u001b[0mkeras\u001b[0m\u001b[1;33m\u001b[0m\u001b[1;33m\u001b[0m\u001b[0m\n\u001b[0m\u001b[0;32m      3\u001b[0m \u001b[1;32mfrom\u001b[0m \u001b[0msklearn\u001b[0m \u001b[1;32mimport\u001b[0m \u001b[0mdatasets\u001b[0m\u001b[1;33m,\u001b[0m \u001b[0mlinear_model\u001b[0m\u001b[1;33m\u001b[0m\u001b[1;33m\u001b[0m\u001b[0m\n\u001b[0;32m      4\u001b[0m \u001b[1;32mfrom\u001b[0m \u001b[0msklearn\u001b[0m\u001b[1;33m.\u001b[0m\u001b[0mmodel_selection\u001b[0m \u001b[1;32mimport\u001b[0m \u001b[0mcross_val_score\u001b[0m\u001b[1;33m,\u001b[0m \u001b[0mKFold\u001b[0m\u001b[1;33m\u001b[0m\u001b[1;33m\u001b[0m\u001b[0m\n\u001b[0;32m      5\u001b[0m \u001b[1;32mfrom\u001b[0m \u001b[0mkeras\u001b[0m\u001b[1;33m.\u001b[0m\u001b[0mmodels\u001b[0m \u001b[1;32mimport\u001b[0m \u001b[0mSequential\u001b[0m\u001b[1;33m\u001b[0m\u001b[1;33m\u001b[0m\u001b[0m\n",
      "\u001b[1;31mModuleNotFoundError\u001b[0m: No module named 'keras'"
     ]
    }
   ],
   "source": [
    "# Example from https://machinelearningmastery.com/regression-tutorial-keras-deep-learning-library-python/\n",
    "import keras\n",
    "from sklearn import datasets, linear_model\n",
    "from sklearn.model_selection import cross_val_score, KFold\n",
    "from keras.models import Sequential\n",
    "from sklearn.metrics import accuracy_score\n",
    "from keras.layers import Dense\n",
    "from keras.wrappers.scikit_learn import KerasRegressor\n",
    "seed = 1\n",
    "\n",
    "# diabetes = datasets.load_diabetes()\n",
    "# X = diabetes.data[:150]\n",
    "# y = diabetes.target[:150]\n",
    "\n",
    "def baseline_model():\n",
    "    model = Sequential()\n",
    "    model.add(Dense(10, input_dim=4, activation='relu'))\n",
    "    model.add(Dense(1))\n",
    "    model.compile(loss='mean_squared_error', optimizer='adam')\n",
    "    return model\n",
    "\n",
    "\n",
    "# estimator = KerasRegressor(build_fn=baseline_model, nb_epoch=100, batch_size=100, verbose=False)\n",
    "# kfold = KFold(n_splits=10, random_state=seed)\n",
    "# results = cross_val_score(estimator, X, y, cv=kfold)\n",
    "# print(\"Results: %.2f (%.2f) MSE\" % (results.mean(), results.std()))\n",
    "\n",
    "# estimator.fit(X, y)\n",
    "# prediction = estimator.predict(X)\n",
    "# accuracy_score(y, prediction)\n",
    "\n",
    "estimator = KerasRegressor(build_fn=baseline_model)\n",
    "estimator.fit(X_train, y_train, nb_epoch=100, batch_size=100, verbose=False, shuffle=False)\n",
    "prediction = estimator.predict(X_test)\n",
    "\n",
    "\n",
    "# model = baseline_model()\n",
    "# model.fit(X, y, nb_epoch=100, batch_size=100, verbose=False, shuffle=False)\n",
    "# prediction = model.predict(X)"
   ]
  },
  {
   "source": [
    "## Random Forrest"
   ],
   "cell_type": "markdown",
   "metadata": {}
  },
  {
   "cell_type": "code",
   "execution_count": null,
   "metadata": {},
   "outputs": [],
   "source": [
    "# Resample the training data with the RandomOversampler\n",
    "from imblearn.ensemble import BalancedRandomForestClassifier\n",
    "brfc = BalancedRandomForestClassifier(n_estimators=100, random_state=1)\n",
    "brfc.fit(X_train, y_train)\n",
    "Counter(y_train)"
   ]
  },
  {
   "cell_type": "code",
   "execution_count": null,
   "metadata": {},
   "outputs": [],
   "source": [
    "# Calculated the balanced accuracy score\n",
    "y_pred = brfc.predict(X_test)\n",
    "balanced_accuracy_score(y_test, y_pred)"
   ]
  },
  {
   "cell_type": "code",
   "execution_count": null,
   "metadata": {},
   "outputs": [],
   "source": [
    "# Display the confusion matrix\n",
    "confusion_matrix(y_test, y_pred)"
   ]
  },
  {
   "cell_type": "code",
   "execution_count": null,
   "metadata": {},
   "outputs": [],
   "source": [
    "# Print the imbalanced classification report\n",
    "print(classification_report_imbalanced(y_test, y_pred))"
   ]
  },
  {
   "cell_type": "code",
   "execution_count": null,
   "metadata": {},
   "outputs": [],
   "source": [
    "# List the features sorted in descending order by feature importance\n",
    "importances = brfc.feature_importances_\n",
    "sorted(zip(brfc.feature_importances_, X.columns), reverse=True)"
   ]
  },
  {
   "cell_type": "code",
   "execution_count": null,
   "metadata": {},
   "outputs": [],
   "source": []
  }
 ],
 "metadata": {
  "kernelspec": {
   "display_name": "mlenv",
   "language": "python",
   "name": "mlenv"
  },
  "language_info": {
   "codemirror_mode": {
    "name": "ipython",
    "version": 3
   },
   "file_extension": ".py",
   "mimetype": "text/x-python",
   "name": "python",
   "nbconvert_exporter": "python",
   "pygments_lexer": "ipython3",
   "version": "3.7.7-final"
  }
 },
 "nbformat": 4,
 "nbformat_minor": 4
}