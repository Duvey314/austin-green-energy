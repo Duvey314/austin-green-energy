{
 "metadata": {
  "language_info": {
   "codemirror_mode": {
    "name": "ipython",
    "version": 3
   },
   "file_extension": ".py",
   "mimetype": "text/x-python",
   "name": "python",
   "nbconvert_exporter": "python",
   "pygments_lexer": "ipython3",
   "version": "3.7.7-final"
  },
  "orig_nbformat": 2,
  "kernelspec": {
   "name": "python_defaultSpec_1604180157084",
   "display_name": "Python 3.7.7 64-bit ('PythonData': conda)"
  }
 },
 "nbformat": 4,
 "nbformat_minor": 2,
 "cells": [
  {
   "cell_type": "markdown",
   "metadata": {},
   "source": [
    "# Extract Foercasted Weather Data\n",
    "# -------------------------------"
   ]
  },
  {
   "cell_type": "markdown",
   "metadata": {},
   "source": [
    "## Initial Imports"
   ]
  },
  {
   "cell_type": "code",
   "execution_count": 1,
   "metadata": {},
   "outputs": [],
   "source": [
    "# Import Dependencies\n",
    "import requests\n",
    "import pandas as pd\n",
    "import json\n",
    "import numpy as np\n",
    "import datetime\n",
    "from dateutil import tz"
   ]
  },
  {
   "cell_type": "code",
   "execution_count": 2,
   "metadata": {},
   "outputs": [],
   "source": [
    "# Import API Key\n",
    "from config import weather_api_key"
   ]
  },
  {
   "cell_type": "code",
   "execution_count": 3,
   "metadata": {},
   "outputs": [],
   "source": [
    "# Documentation\n",
    "# https://openweathermap.org/api/one-call-api"
   ]
  },
  {
   "cell_type": "markdown",
   "metadata": {},
   "source": [
    "# Define the Functions\n",
    "# --------------------"
   ]
  },
  {
   "cell_type": "code",
   "execution_count": 4,
   "metadata": {},
   "outputs": [],
   "source": [
    "def convert_Date_UTC_to_CST(UTC_date_list, list_range):\n",
    "    CST_date_list = []\n",
    "\n",
    "    for date in list_range:    \n",
    "        # Convert the date/time to ISO standard in string format\n",
    "        date_time = datetime.datetime.utcfromtimestamp(UTC_date_list[date]).strftime('%Y-%m-%d %H:%M:%S')\n",
    "        \n",
    "        # Create a datetime object, representing the UTC time\n",
    "        time_utc = datetime.datetime.strptime(date_time, '%Y-%m-%d %H:%M:%S')\n",
    "\n",
    "        # Replace the timezone field of the datetime object to UTC\n",
    "        from_zone = tz.gettz('UTC')\n",
    "        time_utc = time_utc.replace(tzinfo=from_zone)\n",
    "\n",
    "        # Convert time zone from UTC to central\n",
    "        to_zone = tz.gettz('America/Chicago')\n",
    "        time_cst = time_utc.astimezone(to_zone)\n",
    "\n",
    "        # Extract the date and store as a string\n",
    "        Date = datetime.datetime.date(time_cst)\n",
    "        Date = Date.strftime('%Y-%m-%d')\n",
    "        CST_date_list.append(Date)\n",
    "    \n",
    "    return CST_date_list"
   ]
  },
  {
   "cell_type": "code",
   "execution_count": 5,
   "metadata": {},
   "outputs": [],
   "source": [
    "def convert_Time_UTC_to_CST(UTC_time_list, list_range):\n",
    "    CST_time_list = []\n",
    "\n",
    "    for time in list_range:    \n",
    "        # Convert the date/time to ISO standard in string format\n",
    "        date_time = datetime.datetime.utcfromtimestamp(UTC_time_list[time]).strftime('%Y-%m-%d %H:%M:%S')\n",
    "        \n",
    "        # Create a datetime object, representing the UTC time\n",
    "        time_utc = datetime.datetime.strptime(date_time, '%Y-%m-%d %H:%M:%S')\n",
    "\n",
    "        # Replace the timezone field of the datetime object to UTC\n",
    "        from_zone = tz.gettz('UTC')\n",
    "        time_utc = time_utc.replace(tzinfo=from_zone)\n",
    "\n",
    "        # Convert time zone from UTC to central\n",
    "        to_zone = tz.gettz('America/Chicago')\n",
    "        time_cst = time_utc.astimezone(to_zone)\n",
    "\n",
    "        # Extract the Time and store as a string\n",
    "        Time = time_cst.strftime('%H:%M:%S')\n",
    "        CST_time_list.append(Time)\n",
    "    \n",
    "    return CST_time_list"
   ]
  },
  {
   "cell_type": "code",
   "execution_count": 6,
   "metadata": {},
   "outputs": [],
   "source": [
    "def convert_Hour_UTC_to_CST(UTC_time_list, list_range):\n",
    "    CST_hour_list = []\n",
    "\n",
    "    for time in list_range:    \n",
    "        # Convert the date/time to ISO standard in string format\n",
    "        date_time = datetime.datetime.utcfromtimestamp(UTC_time_list[time]).strftime('%Y-%m-%d %H:%M:%S')\n",
    "        \n",
    "        # Create a datetime object, representing the UTC time\n",
    "        time_utc = datetime.datetime.strptime(date_time, '%Y-%m-%d %H:%M:%S')\n",
    "\n",
    "        # Replace the timezone field of the datetime object to UTC\n",
    "        from_zone = tz.gettz('UTC')\n",
    "        time_utc = time_utc.replace(tzinfo=from_zone)\n",
    "\n",
    "        # Convert time zone from UTC to central\n",
    "        to_zone = tz.gettz('America/Chicago')\n",
    "        time_cst = time_utc.astimezone(to_zone)\n",
    "\n",
    "        # Extract the Hour and store as an int\n",
    "        Time = datetime.datetime.time(time_cst).hour\n",
    "        CST_hour_list.append(Time)\n",
    "    \n",
    "    return CST_hour_list"
   ]
  },
  {
   "cell_type": "markdown",
   "metadata": {},
   "source": [
    "# Webberville Solar Farm\n",
    "# ----------------------"
   ]
  },
  {
   "cell_type": "code",
   "execution_count": 7,
   "metadata": {
    "tags": []
   },
   "outputs": [],
   "source": [
    "# Geographical coordinates (latitude, longitude)\n",
    "lat = \"30.238333\"\n",
    "lon = \"-97.508611\"\n",
    "\n",
    "# Exclude some parts of the weather data from the API response\n",
    "    # It should be a comma-delimited list (without spaces)\n",
    "    # Options: current,minutely,hourly,daily,alerts\n",
    "part = \"minutely,alerts\"\n",
    "\n",
    "# Define the Units of measurement\n",
    "    # Options: stadnard,metric,imperial\n",
    "units = \"imperial\"\n",
    "\n",
    "# Make a request to openweathermap\n",
    "requestURL = f\"https://api.openweathermap.org/data/2.5/onecall?lat={lat}&lon={lon}&exclude={part}&units={units}&appid={weather_api_key}\"\n",
    "\n",
    "# print(requestURL)"
   ]
  },
  {
   "cell_type": "code",
   "execution_count": 8,
   "metadata": {
    "tags": []
   },
   "outputs": [
    {
     "output_type": "stream",
     "name": "stdout",
     "text": "Successfully turned response into JSON object.\n"
    }
   ],
   "source": [
    "response = requests.get(requestURL)\n",
    "\n",
    "if response.status_code == 200:\n",
    "    # Turn the response into a JSON object\n",
    "    responseJson = response.json()\n",
    "    print(\"Successfully turned response into JSON object.\")\n",
    "else:\n",
    "    # Else, print the Error status code\n",
    "    print(\"The Error Status Code is:\") \n",
    "    print(response.status_code)"
   ]
  },
  {
   "cell_type": "markdown",
   "metadata": {},
   "source": [
    "# Current Weather Data:"
   ]
  },
  {
   "cell_type": "markdown",
   "metadata": {},
   "source": [
    "## Date / Time"
   ]
  },
  {
   "cell_type": "code",
   "execution_count": 9,
   "metadata": {},
   "outputs": [
    {
     "output_type": "execute_result",
     "data": {
      "text/plain": "datetime.datetime(2020, 11, 1, 0, 25, 42, tzinfo=tzfile('US/Central'))"
     },
     "metadata": {},
     "execution_count": 9
    }
   ],
   "source": [
    "# Convert the date/time to ISO standard in string format\n",
    "current_date_time = datetime.datetime.utcfromtimestamp(responseJson[\"current\"][\"dt\"]).strftime('%Y-%m-%d %H:%M:%S')\n",
    "\n",
    "# Create a datetime object, representing the UTC time\n",
    "current_time_utc = datetime.datetime.strptime(current_date_time, '%Y-%m-%d %H:%M:%S')\n",
    "\n",
    "# Replace the timezone field of the datetime object to UTC\n",
    "from_zone = tz.gettz('UTC')\n",
    "current_time_utc = current_time_utc.replace(tzinfo=from_zone)\n",
    "\n",
    "# Convert time zone from UTC to central\n",
    "to_zone = tz.gettz('America/Chicago')\n",
    "current_time_cst = current_time_utc.astimezone(to_zone)\n",
    "\n",
    "# Display the current time\n",
    "current_time_cst"
   ]
  },
  {
   "cell_type": "code",
   "execution_count": 10,
   "metadata": {},
   "outputs": [
    {
     "output_type": "execute_result",
     "data": {
      "text/plain": "'2020-11-01'"
     },
     "metadata": {},
     "execution_count": 10
    }
   ],
   "source": [
    "# Extract the date and store as a string\n",
    "current_Date = datetime.datetime.date(current_time_cst)\n",
    "current_Date = current_Date.strftime('%Y-%m-%d')\n",
    "\n",
    "# Display the date\n",
    "current_Date"
   ]
  },
  {
   "cell_type": "code",
   "execution_count": 11,
   "metadata": {},
   "outputs": [
    {
     "output_type": "execute_result",
     "data": {
      "text/plain": "0"
     },
     "metadata": {},
     "execution_count": 11
    }
   ],
   "source": [
    "# Extract the hour from the current time\n",
    "current_Hour = datetime.datetime.time(current_time_cst).hour\n",
    "\n",
    "# Display the hour\n",
    "current_Hour"
   ]
  },
  {
   "cell_type": "code",
   "execution_count": 12,
   "metadata": {},
   "outputs": [
    {
     "output_type": "execute_result",
     "data": {
      "text/plain": "'00:25:42'"
     },
     "metadata": {},
     "execution_count": 12
    }
   ],
   "source": [
    "# Alternative: Exract the time in %H:%M:%S\n",
    "current_Time = current_time_cst.strftime('%H:%M:%S')\n",
    "\n",
    "# Display the hour\n",
    "current_Time"
   ]
  },
  {
   "cell_type": "markdown",
   "metadata": {},
   "source": [
    "## Weather Description"
   ]
  },
  {
   "cell_type": "code",
   "execution_count": 13,
   "metadata": {},
   "outputs": [
    {
     "output_type": "execute_result",
     "data": {
      "text/plain": "'scattered clouds'"
     },
     "metadata": {},
     "execution_count": 13
    }
   ],
   "source": [
    "# Extract the current weather description\n",
    "current_Weather_Description = responseJson[\"current\"][\"weather\"][0][\"description\"]\n",
    "\n",
    "# Display the weather description\n",
    "current_Weather_Description"
   ]
  },
  {
   "cell_type": "markdown",
   "metadata": {},
   "source": [
    "## Temperature"
   ]
  },
  {
   "cell_type": "code",
   "execution_count": 14,
   "metadata": {},
   "outputs": [
    {
     "output_type": "execute_result",
     "data": {
      "text/plain": "54.55"
     },
     "metadata": {},
     "execution_count": 14
    }
   ],
   "source": [
    "# Extract the current temperature (F)\n",
    "current_Temperature_F = responseJson[\"current\"][\"temp\"]\n",
    "\n",
    "# Display the temperature\n",
    "current_Temperature_F"
   ]
  },
  {
   "cell_type": "markdown",
   "metadata": {},
   "source": [
    "## Sunhour"
   ]
  },
  {
   "cell_type": "code",
   "execution_count": 15,
   "metadata": {},
   "outputs": [
    {
     "output_type": "execute_result",
     "data": {
      "text/plain": "datetime.datetime(2020, 11, 1, 6, 44, 37, tzinfo=tzfile('US/Central'))"
     },
     "metadata": {},
     "execution_count": 15
    }
   ],
   "source": [
    "# Sunrise:\n",
    "\n",
    "# Convert the date/time to ISO standard in string format\n",
    "sunrise_date_time = datetime.datetime.utcfromtimestamp(responseJson[\"current\"][\"sunrise\"]).strftime('%Y-%m-%d %H:%M:%S')\n",
    "\n",
    "# Create a datetime object, representing the UTC time\n",
    "sunrise_utc = datetime.datetime.strptime(sunrise_date_time, '%Y-%m-%d %H:%M:%S')\n",
    "\n",
    "# Replace the timezone field of the datetime object to UTC\n",
    "from_zone = tz.gettz('UTC')\n",
    "sunrise_utc = sunrise_utc.replace(tzinfo=from_zone)\n",
    "\n",
    "# Convert time zone from UTC to central\n",
    "to_zone = tz.gettz('America/Chicago')\n",
    "todays_sunrise = sunrise_utc.astimezone(to_zone)\n",
    "\n",
    "# Display sunrise time\n",
    "todays_sunrise"
   ]
  },
  {
   "cell_type": "code",
   "execution_count": 16,
   "metadata": {},
   "outputs": [
    {
     "output_type": "execute_result",
     "data": {
      "text/plain": "datetime.datetime(2020, 11, 1, 17, 42, 29, tzinfo=tzfile('US/Central'))"
     },
     "metadata": {},
     "execution_count": 16
    }
   ],
   "source": [
    "# Sunset:\n",
    "\n",
    "# Convert the date/time to ISO standard in string format\n",
    "sunset_date_time = datetime.datetime.utcfromtimestamp(responseJson[\"current\"][\"sunset\"]).strftime('%Y-%m-%d %H:%M:%S')\n",
    "\n",
    "# Create a datetime object, representing the UTC time\n",
    "sunset_utc = datetime.datetime.strptime(sunset_date_time, '%Y-%m-%d %H:%M:%S')\n",
    "\n",
    "# Replace the timezone field of the datetime object to UTC\n",
    "from_zone = tz.gettz('UTC')\n",
    "sunset_utc = sunset_utc.replace(tzinfo=from_zone)\n",
    "\n",
    "# Convert time zone from UTC to central\n",
    "to_zone = tz.gettz('America/Chicago')\n",
    "todays_sunset = sunset_utc.astimezone(to_zone)\n",
    "\n",
    "# Display sunset time\n",
    "todays_sunset"
   ]
  },
  {
   "cell_type": "markdown",
   "metadata": {},
   "source": [
    "## Cloud Cover"
   ]
  },
  {
   "cell_type": "code",
   "execution_count": 17,
   "metadata": {},
   "outputs": [
    {
     "output_type": "execute_result",
     "data": {
      "text/plain": "40"
     },
     "metadata": {},
     "execution_count": 17
    }
   ],
   "source": [
    "# Extract the current cloud cover (%)\n",
    "current_CloudCover_percent = responseJson[\"current\"][\"clouds\"]\n",
    "\n",
    "# Display the Cloudiness, %\n",
    "current_CloudCover_percent"
   ]
  },
  {
   "cell_type": "markdown",
   "metadata": {},
   "source": [
    "## uv Index"
   ]
  },
  {
   "cell_type": "code",
   "execution_count": 18,
   "metadata": {},
   "outputs": [
    {
     "output_type": "execute_result",
     "data": {
      "text/plain": "5.49"
     },
     "metadata": {},
     "execution_count": 18
    }
   ],
   "source": [
    "# Extract the current UV Index\n",
    "todays_uvIndex = responseJson[\"current\"][\"uvi\"]\n",
    "\n",
    "# Display the Midday UV index\n",
    "todays_uvIndex"
   ]
  },
  {
   "cell_type": "markdown",
   "metadata": {},
   "source": [
    "## Humidity"
   ]
  },
  {
   "cell_type": "code",
   "execution_count": 19,
   "metadata": {},
   "outputs": [
    {
     "output_type": "execute_result",
     "data": {
      "text/plain": "87"
     },
     "metadata": {},
     "execution_count": 19
    }
   ],
   "source": [
    "# Extract the current humidity (%)\n",
    "current_Humidity_percent = responseJson[\"current\"][\"humidity\"]\n",
    "\n",
    "# Display the Cloudiness, %\n",
    "current_Humidity_percent"
   ]
  },
  {
   "cell_type": "markdown",
   "metadata": {},
   "source": [
    "# Daily Forecasted Weather Data:"
   ]
  },
  {
   "cell_type": "code",
   "execution_count": 20,
   "metadata": {},
   "outputs": [
    {
     "output_type": "execute_result",
     "data": {
      "text/plain": "datetime.date(2020, 11, 2)"
     },
     "metadata": {},
     "execution_count": 20
    }
   ],
   "source": [
    "# Get the current year, month, and day\n",
    "year = current_time_cst.year\n",
    "month = current_time_cst.month\n",
    "day = current_time_cst.day\n",
    "\n",
    "# Store the next day as a variable\n",
    "next_day = datetime.date(year, month, day) + datetime.timedelta(days=1)\n",
    "next_day"
   ]
  },
  {
   "cell_type": "code",
   "execution_count": 21,
   "metadata": {},
   "outputs": [
    {
     "output_type": "execute_result",
     "data": {
      "text/plain": "     UTC_Time     Sunrise      Sunset  uvIndex\n0  1604253600  1604234677  1604274149     5.49\n1  1604340000  1604321125  1604360502     5.12\n2  1604426400  1604407573  1604446856     5.19\n3  1604512800  1604494021  1604533211     5.05\n4  1604599200  1604580469  1604619568     4.74\n5  1604685600  1604666918  1604705926     4.90\n6  1604772000  1604753368  1604792286     4.97\n7  1604858400  1604839817  1604878647     5.20",
      "text/html": "<div>\n<style scoped>\n    .dataframe tbody tr th:only-of-type {\n        vertical-align: middle;\n    }\n\n    .dataframe tbody tr th {\n        vertical-align: top;\n    }\n\n    .dataframe thead th {\n        text-align: right;\n    }\n</style>\n<table border=\"1\" class=\"dataframe\">\n  <thead>\n    <tr style=\"text-align: right;\">\n      <th></th>\n      <th>UTC_Time</th>\n      <th>Sunrise</th>\n      <th>Sunset</th>\n      <th>uvIndex</th>\n    </tr>\n  </thead>\n  <tbody>\n    <tr>\n      <th>0</th>\n      <td>1604253600</td>\n      <td>1604234677</td>\n      <td>1604274149</td>\n      <td>5.49</td>\n    </tr>\n    <tr>\n      <th>1</th>\n      <td>1604340000</td>\n      <td>1604321125</td>\n      <td>1604360502</td>\n      <td>5.12</td>\n    </tr>\n    <tr>\n      <th>2</th>\n      <td>1604426400</td>\n      <td>1604407573</td>\n      <td>1604446856</td>\n      <td>5.19</td>\n    </tr>\n    <tr>\n      <th>3</th>\n      <td>1604512800</td>\n      <td>1604494021</td>\n      <td>1604533211</td>\n      <td>5.05</td>\n    </tr>\n    <tr>\n      <th>4</th>\n      <td>1604599200</td>\n      <td>1604580469</td>\n      <td>1604619568</td>\n      <td>4.74</td>\n    </tr>\n    <tr>\n      <th>5</th>\n      <td>1604685600</td>\n      <td>1604666918</td>\n      <td>1604705926</td>\n      <td>4.90</td>\n    </tr>\n    <tr>\n      <th>6</th>\n      <td>1604772000</td>\n      <td>1604753368</td>\n      <td>1604792286</td>\n      <td>4.97</td>\n    </tr>\n    <tr>\n      <th>7</th>\n      <td>1604858400</td>\n      <td>1604839817</td>\n      <td>1604878647</td>\n      <td>5.20</td>\n    </tr>\n  </tbody>\n</table>\n</div>"
     },
     "metadata": {},
     "execution_count": 21
    }
   ],
   "source": [
    "forecasted_daily_weather = []\n",
    "\n",
    "for day in np.arange(0, 8, 1):\n",
    "    forecasted_daily_weather.append({\n",
    "        \"UTC_Time\": responseJson[\"daily\"][day][\"dt\"],\n",
    "        \"Sunrise\": responseJson[\"daily\"][day][\"sunrise\"],\n",
    "        \"Sunset\": responseJson[\"daily\"][day][\"sunset\"],\n",
    "        \"uvIndex\": responseJson[\"daily\"][day][\"uvi\"]\n",
    "    })\n",
    "\n",
    "daily_weather_DF = pd.DataFrame(forecasted_daily_weather)\n",
    "daily_weather_DF"
   ]
  },
  {
   "cell_type": "code",
   "execution_count": 22,
   "metadata": {},
   "outputs": [],
   "source": [
    "daily_index = np.arange(0,8,1)\n",
    "\n",
    "daily_UTC_date_time = daily_weather_DF[\"UTC_Time\"]\n",
    "UTC_sunrise = daily_weather_DF[\"Sunrise\"]\n",
    "UTC_sunset = daily_weather_DF[\"Sunset\"]\n",
    "\n",
    "daily_forecast_dates = convert_Date_UTC_to_CST(daily_UTC_date_time, daily_index)\n",
    "daily_sunrise_times = convert_Time_UTC_to_CST(UTC_sunrise, daily_index)\n",
    "daily_sunset_times = convert_Time_UTC_to_CST(UTC_sunset, daily_index)"
   ]
  },
  {
   "cell_type": "code",
   "execution_count": 23,
   "metadata": {},
   "outputs": [
    {
     "output_type": "execute_result",
     "data": {
      "text/plain": "         Date   Sunrise    Sunset  uvIndex\n0  2020-11-01  06:44:37  17:42:29     5.49\n1  2020-11-02  06:45:25  17:41:42     5.12\n2  2020-11-03  06:46:13  17:40:56     5.19\n3  2020-11-04  06:47:01  17:40:11     5.05\n4  2020-11-05  06:47:49  17:39:28     4.74\n5  2020-11-06  06:48:38  17:38:46     4.90\n6  2020-11-07  06:49:28  17:38:06     4.97\n7  2020-11-08  06:50:17  17:37:27     5.20",
      "text/html": "<div>\n<style scoped>\n    .dataframe tbody tr th:only-of-type {\n        vertical-align: middle;\n    }\n\n    .dataframe tbody tr th {\n        vertical-align: top;\n    }\n\n    .dataframe thead th {\n        text-align: right;\n    }\n</style>\n<table border=\"1\" class=\"dataframe\">\n  <thead>\n    <tr style=\"text-align: right;\">\n      <th></th>\n      <th>Date</th>\n      <th>Sunrise</th>\n      <th>Sunset</th>\n      <th>uvIndex</th>\n    </tr>\n  </thead>\n  <tbody>\n    <tr>\n      <th>0</th>\n      <td>2020-11-01</td>\n      <td>06:44:37</td>\n      <td>17:42:29</td>\n      <td>5.49</td>\n    </tr>\n    <tr>\n      <th>1</th>\n      <td>2020-11-02</td>\n      <td>06:45:25</td>\n      <td>17:41:42</td>\n      <td>5.12</td>\n    </tr>\n    <tr>\n      <th>2</th>\n      <td>2020-11-03</td>\n      <td>06:46:13</td>\n      <td>17:40:56</td>\n      <td>5.19</td>\n    </tr>\n    <tr>\n      <th>3</th>\n      <td>2020-11-04</td>\n      <td>06:47:01</td>\n      <td>17:40:11</td>\n      <td>5.05</td>\n    </tr>\n    <tr>\n      <th>4</th>\n      <td>2020-11-05</td>\n      <td>06:47:49</td>\n      <td>17:39:28</td>\n      <td>4.74</td>\n    </tr>\n    <tr>\n      <th>5</th>\n      <td>2020-11-06</td>\n      <td>06:48:38</td>\n      <td>17:38:46</td>\n      <td>4.90</td>\n    </tr>\n    <tr>\n      <th>6</th>\n      <td>2020-11-07</td>\n      <td>06:49:28</td>\n      <td>17:38:06</td>\n      <td>4.97</td>\n    </tr>\n    <tr>\n      <th>7</th>\n      <td>2020-11-08</td>\n      <td>06:50:17</td>\n      <td>17:37:27</td>\n      <td>5.20</td>\n    </tr>\n  </tbody>\n</table>\n</div>"
     },
     "metadata": {},
     "execution_count": 23
    }
   ],
   "source": [
    "# Add the date to the dataframe\n",
    "daily_weather_DF[\"Date\"] = daily_forecast_dates\n",
    "# Add the date to the dataframe\n",
    "daily_weather_DF[\"Sunrise\"] = daily_sunrise_times\n",
    "# Add the date to the dataframe\n",
    "daily_weather_DF[\"Sunset\"] = daily_sunset_times\n",
    "# Drop the UTC_Time column\n",
    "daily_weather_DF.drop(columns=[\"UTC_Time\"], axis=1, inplace=True)\n",
    "# Re-Order the columns\n",
    "daily_weather_DF = daily_weather_DF[[\"Date\", \"Sunrise\", \"Sunset\", \"uvIndex\"]]\n",
    "\n",
    "daily_weather_DF"
   ]
  },
  {
   "cell_type": "code",
   "execution_count": 24,
   "metadata": {},
   "outputs": [
    {
     "output_type": "execute_result",
     "data": {
      "text/plain": "Date        object\nSunrise     object\nSunset      object\nuvIndex    float64\ndtype: object"
     },
     "metadata": {},
     "execution_count": 24
    }
   ],
   "source": [
    "# Check the data types\n",
    "daily_weather_DF.dtypes"
   ]
  },
  {
   "cell_type": "markdown",
   "metadata": {},
   "source": [
    "# Hourly Forecasted Weather Data:"
   ]
  },
  {
   "cell_type": "code",
   "execution_count": 25,
   "metadata": {},
   "outputs": [
    {
     "output_type": "execute_result",
     "data": {
      "text/plain": "     UTC_Time Weather_Description  CloudCover_percent  Humidity_percent\n0  1604206800    scattered clouds                  40                87\n1  1604210400       broken clouds                  58                69\n2  1604214000     overcast clouds                  87                61\n3  1604217600     overcast clouds                  96                57\n4  1604221200     overcast clouds                 100                55",
      "text/html": "<div>\n<style scoped>\n    .dataframe tbody tr th:only-of-type {\n        vertical-align: middle;\n    }\n\n    .dataframe tbody tr th {\n        vertical-align: top;\n    }\n\n    .dataframe thead th {\n        text-align: right;\n    }\n</style>\n<table border=\"1\" class=\"dataframe\">\n  <thead>\n    <tr style=\"text-align: right;\">\n      <th></th>\n      <th>UTC_Time</th>\n      <th>Weather_Description</th>\n      <th>CloudCover_percent</th>\n      <th>Humidity_percent</th>\n    </tr>\n  </thead>\n  <tbody>\n    <tr>\n      <th>0</th>\n      <td>1604206800</td>\n      <td>scattered clouds</td>\n      <td>40</td>\n      <td>87</td>\n    </tr>\n    <tr>\n      <th>1</th>\n      <td>1604210400</td>\n      <td>broken clouds</td>\n      <td>58</td>\n      <td>69</td>\n    </tr>\n    <tr>\n      <th>2</th>\n      <td>1604214000</td>\n      <td>overcast clouds</td>\n      <td>87</td>\n      <td>61</td>\n    </tr>\n    <tr>\n      <th>3</th>\n      <td>1604217600</td>\n      <td>overcast clouds</td>\n      <td>96</td>\n      <td>57</td>\n    </tr>\n    <tr>\n      <th>4</th>\n      <td>1604221200</td>\n      <td>overcast clouds</td>\n      <td>100</td>\n      <td>55</td>\n    </tr>\n  </tbody>\n</table>\n</div>"
     },
     "metadata": {},
     "execution_count": 25
    }
   ],
   "source": [
    "forecasted_hourly_weather = []\n",
    "\n",
    "for hour in np.arange(0, 48, 1):\n",
    "    forecasted_hourly_weather.append({\n",
    "        \"UTC_Time\": responseJson[\"hourly\"][hour][\"dt\"],\n",
    "        \"Weather_Description\": responseJson[\"hourly\"][hour][\"weather\"][0][\"description\"],\n",
    "        \"CloudCover_percent\": responseJson[\"hourly\"][hour][\"clouds\"],\n",
    "        \"Humidity_percent\": responseJson[\"hourly\"][hour][\"humidity\"]\n",
    "    })\n",
    "\n",
    "hourly_weather_DF = pd.DataFrame(forecasted_hourly_weather)\n",
    "hourly_weather_DF.head()"
   ]
  },
  {
   "cell_type": "code",
   "execution_count": 26,
   "metadata": {},
   "outputs": [],
   "source": [
    "hourly_index = np.arange(0,48,1)\n",
    "\n",
    "hourly_UTC_date_time = hourly_weather_DF[\"UTC_Time\"]\n",
    "\n",
    "hourly_forecast_dates = convert_Date_UTC_to_CST(hourly_UTC_date_time, hourly_index)\n",
    "hourly_forecast_times = convert_Hour_UTC_to_CST(hourly_UTC_date_time, hourly_index)"
   ]
  },
  {
   "cell_type": "code",
   "execution_count": 27,
   "metadata": {},
   "outputs": [
    {
     "output_type": "execute_result",
     "data": {
      "text/plain": "         Date  Time Weather_Description  CloudCover_percent  Humidity_percent\n0  2020-11-01     0    scattered clouds                  40                87\n1  2020-11-01     1       broken clouds                  58                69\n2  2020-11-01     1     overcast clouds                  87                61\n3  2020-11-01     2     overcast clouds                  96                57\n4  2020-11-01     3     overcast clouds                 100                55",
      "text/html": "<div>\n<style scoped>\n    .dataframe tbody tr th:only-of-type {\n        vertical-align: middle;\n    }\n\n    .dataframe tbody tr th {\n        vertical-align: top;\n    }\n\n    .dataframe thead th {\n        text-align: right;\n    }\n</style>\n<table border=\"1\" class=\"dataframe\">\n  <thead>\n    <tr style=\"text-align: right;\">\n      <th></th>\n      <th>Date</th>\n      <th>Time</th>\n      <th>Weather_Description</th>\n      <th>CloudCover_percent</th>\n      <th>Humidity_percent</th>\n    </tr>\n  </thead>\n  <tbody>\n    <tr>\n      <th>0</th>\n      <td>2020-11-01</td>\n      <td>0</td>\n      <td>scattered clouds</td>\n      <td>40</td>\n      <td>87</td>\n    </tr>\n    <tr>\n      <th>1</th>\n      <td>2020-11-01</td>\n      <td>1</td>\n      <td>broken clouds</td>\n      <td>58</td>\n      <td>69</td>\n    </tr>\n    <tr>\n      <th>2</th>\n      <td>2020-11-01</td>\n      <td>1</td>\n      <td>overcast clouds</td>\n      <td>87</td>\n      <td>61</td>\n    </tr>\n    <tr>\n      <th>3</th>\n      <td>2020-11-01</td>\n      <td>2</td>\n      <td>overcast clouds</td>\n      <td>96</td>\n      <td>57</td>\n    </tr>\n    <tr>\n      <th>4</th>\n      <td>2020-11-01</td>\n      <td>3</td>\n      <td>overcast clouds</td>\n      <td>100</td>\n      <td>55</td>\n    </tr>\n  </tbody>\n</table>\n</div>"
     },
     "metadata": {},
     "execution_count": 27
    }
   ],
   "source": [
    "# Add the date to the dataframe\n",
    "hourly_weather_DF[\"Date\"] = hourly_forecast_dates\n",
    "# Add the date to the dataframe\n",
    "hourly_weather_DF[\"Time\"] = hourly_forecast_times\n",
    "# Drop the UTC_Time column\n",
    "hourly_weather_DF.drop(columns=[\"UTC_Time\"], axis=1, inplace=True)\n",
    "# Re-Order the columns\n",
    "hourly_weather_DF = hourly_weather_DF[[\"Date\", \"Time\", \"Weather_Description\", \"CloudCover_percent\", \"Humidity_percent\"]]\n",
    "\n",
    "hourly_weather_DF.head()"
   ]
  },
  {
   "cell_type": "code",
   "execution_count": 28,
   "metadata": {},
   "outputs": [
    {
     "output_type": "execute_result",
     "data": {
      "text/plain": "Date                   object\nTime                    int64\nWeather_Description    object\nCloudCover_percent      int64\nHumidity_percent        int64\ndtype: object"
     },
     "metadata": {},
     "execution_count": 28
    }
   ],
   "source": [
    "# Check the data types\n",
    "hourly_weather_DF.dtypes"
   ]
  },
  {
   "cell_type": "markdown",
   "metadata": {},
   "source": [
    "# Merge the Daily and Hourly Forecasted Weather DataFrames:"
   ]
  },
  {
   "cell_type": "code",
   "execution_count": 29,
   "metadata": {},
   "outputs": [
    {
     "output_type": "execute_result",
     "data": {
      "text/plain": "        Date  Time Weather_Description  CloudCover_percent  Humidity_percent  \\\n0 2020-11-01     0    scattered clouds                40.0              87.0   \n1 2020-11-01     1       broken clouds                58.0              69.0   \n2 2020-11-01     1     overcast clouds                87.0              61.0   \n3 2020-11-01     2     overcast clouds                96.0              57.0   \n4 2020-11-01     3     overcast clouds               100.0              55.0   \n\n    Sunrise    Sunset  uvIndex  \n0  06:44:37  17:42:29     5.49  \n1  06:44:37  17:42:29     5.49  \n2  06:44:37  17:42:29     5.49  \n3  06:44:37  17:42:29     5.49  \n4  06:44:37  17:42:29     5.49  ",
      "text/html": "<div>\n<style scoped>\n    .dataframe tbody tr th:only-of-type {\n        vertical-align: middle;\n    }\n\n    .dataframe tbody tr th {\n        vertical-align: top;\n    }\n\n    .dataframe thead th {\n        text-align: right;\n    }\n</style>\n<table border=\"1\" class=\"dataframe\">\n  <thead>\n    <tr style=\"text-align: right;\">\n      <th></th>\n      <th>Date</th>\n      <th>Time</th>\n      <th>Weather_Description</th>\n      <th>CloudCover_percent</th>\n      <th>Humidity_percent</th>\n      <th>Sunrise</th>\n      <th>Sunset</th>\n      <th>uvIndex</th>\n    </tr>\n  </thead>\n  <tbody>\n    <tr>\n      <th>0</th>\n      <td>2020-11-01</td>\n      <td>0</td>\n      <td>scattered clouds</td>\n      <td>40.0</td>\n      <td>87.0</td>\n      <td>06:44:37</td>\n      <td>17:42:29</td>\n      <td>5.49</td>\n    </tr>\n    <tr>\n      <th>1</th>\n      <td>2020-11-01</td>\n      <td>1</td>\n      <td>broken clouds</td>\n      <td>58.0</td>\n      <td>69.0</td>\n      <td>06:44:37</td>\n      <td>17:42:29</td>\n      <td>5.49</td>\n    </tr>\n    <tr>\n      <th>2</th>\n      <td>2020-11-01</td>\n      <td>1</td>\n      <td>overcast clouds</td>\n      <td>87.0</td>\n      <td>61.0</td>\n      <td>06:44:37</td>\n      <td>17:42:29</td>\n      <td>5.49</td>\n    </tr>\n    <tr>\n      <th>3</th>\n      <td>2020-11-01</td>\n      <td>2</td>\n      <td>overcast clouds</td>\n      <td>96.0</td>\n      <td>57.0</td>\n      <td>06:44:37</td>\n      <td>17:42:29</td>\n      <td>5.49</td>\n    </tr>\n    <tr>\n      <th>4</th>\n      <td>2020-11-01</td>\n      <td>3</td>\n      <td>overcast clouds</td>\n      <td>100.0</td>\n      <td>55.0</td>\n      <td>06:44:37</td>\n      <td>17:42:29</td>\n      <td>5.49</td>\n    </tr>\n  </tbody>\n</table>\n</div>"
     },
     "metadata": {},
     "execution_count": 29
    }
   ],
   "source": [
    "forecasted_weather_DF = pd.merge(hourly_weather_DF, daily_weather_DF, on='Date', how='outer')\n",
    "forecasted_weather_DF.dropna(inplace=True)\n",
    "forecasted_weather_DF['Date'] = pd.to_datetime(forecasted_weather_DF['Date'])\n",
    "forecasted_weather_DF[\"Time\"] = forecasted_weather_DF[\"Time\"].astype(int)\n",
    "\n",
    "forecasted_weather_DF.head()"
   ]
  },
  {
   "cell_type": "code",
   "execution_count": 30,
   "metadata": {},
   "outputs": [
    {
     "output_type": "execute_result",
     "data": {
      "text/plain": "Date                   datetime64[ns]\nTime                            int32\nWeather_Description            object\nCloudCover_percent            float64\nHumidity_percent              float64\nSunrise                        object\nSunset                         object\nuvIndex                       float64\ndtype: object"
     },
     "metadata": {},
     "execution_count": 30
    }
   ],
   "source": [
    "forecasted_weather_DF.dtypes"
   ]
  },
  {
   "cell_type": "markdown",
   "metadata": {},
   "source": [
    "# Hackberry Wind Farm\n",
    "# -------------------"
   ]
  },
  {
   "cell_type": "markdown",
   "metadata": {},
   "source": [
    "# Weather Descriptions\n",
    "# --------------------"
   ]
  },
  {
   "cell_type": "code",
   "execution_count": 31,
   "metadata": {},
   "outputs": [],
   "source": [
    "weather_description_list = [\n",
    "    # Clear\n",
    "    'Clear',\n",
    "    'Sunny',\n",
    "    # Clouds\n",
    "    'Partly cloudy', \n",
    "    'Cloudy', \n",
    "    'Overcast',\n",
    "    # Drizzle\n",
    "    'Freezing drizzle',\n",
    "    'Light drizzle', \n",
    "    'Patchy light drizzle',\n",
    "    # Snow\n",
    "    'Patchy moderate snow', \n",
    "    'Moderate snow', \n",
    "    'Light sleet',\n",
    "    'Light snow',  \n",
    "    'Heavy snow', \n",
    "    'Patchy heavy snow', \n",
    "    'Blowing snow',  \n",
    "    'Blizzard',\n",
    "    'Ice pellets', \n",
    "    'Patchy light snow', \n",
    "    # Rain\n",
    "    'Patchy rain possible',\n",
    "    'Light rain shower', \n",
    "    'Moderate or heavy rain shower',\n",
    "    'Moderate rain', \n",
    "    'Heavy rain', \n",
    "    'Light rain', \n",
    "    'Patchy light rain', \n",
    "    'Torrential rain shower',\n",
    "    'Moderate rain at times', \n",
    "    'Heavy rain at times', \n",
    "    'Moderate or heavy freezing rain',\n",
    "    # Thunderstorm\n",
    "    'Thundery outbreaks possible',\n",
    "    'Moderate or heavy rain with thunder',\n",
    "    'Patchy light rain with thunder', \n",
    "    # Atmosphere\n",
    "    'Mist',\n",
    "    'Fog']"
   ]
  },
  {
   "cell_type": "code",
   "execution_count": 32,
   "metadata": {},
   "outputs": [],
   "source": [
    "weather_condition_codes = [\n",
    "    # Thunderstorm\n",
    "    'thunderstorm with light rain',\n",
    "    'thunderstorm with rain',\n",
    "    'thunderstorm with heavy rain',\n",
    "    'light thunderstorm',\n",
    "    'thunderstorm',\n",
    "    'heavy thunderstorm',\n",
    "    'ragged thunderstorm',\n",
    "    'thunderstorm with light drizzle',\n",
    "    'thunderstorm with drizzle',\n",
    "    'thunderstorm with heavy drizzle',\n",
    "    # Drizzle\n",
    "    'light intensity drizzle',\n",
    "    'drizzle',\n",
    "    'heavy intensity drizzle',\n",
    "    'light intensity drizzle rain',\n",
    "    'drizzle rain',\n",
    "    'heavy intensity drizzle rain',\n",
    "    'shower rain and drizzle',\n",
    "    'heavy shower rain and drizzle',\n",
    "    'shower drizzle',\n",
    "    # Rain\n",
    "    'light rain',\n",
    "    'moderate rain',\n",
    "    'heavy intensity rain',\n",
    "    'very heavy rain',\n",
    "    'extreme rain',\n",
    "    'freezing rain',\n",
    "    'light intensity shower rain',\n",
    "    'shower rain',\n",
    "    'heavy intensity shower rain',\n",
    "    'ragged shower rain',\n",
    "    # Snow\n",
    "    'light snow',\n",
    "    'Snow',\n",
    "    'Heavy snow',\n",
    "    'Sleet',\n",
    "    'Light shower sleet',\n",
    "    'Shower sleet',\n",
    "    'Light rain and snow',\n",
    "    'Rain and snow',\n",
    "    'Light shower snow',\n",
    "    'Shower snow',\n",
    "    'Heavy shower snow',\n",
    "    # Atmosphere\n",
    "    'mist',\n",
    "    'Smoke',\n",
    "    'Haze',\n",
    "    'sand/ dust whirls',\n",
    "    'fog',\n",
    "    'sand',\n",
    "    'dust',\n",
    "    'volcanic ash',\n",
    "    'squalls',\n",
    "    'tornado',\n",
    "    # Clear\n",
    "    'clear sky',\n",
    "    # Clouds\n",
    "    'few clouds',\n",
    "    'scattered clouds',\n",
    "    'broken clouds',\n",
    "    'overcast clouds'   \n",
    "]"
   ]
  },
  {
   "cell_type": "code",
   "execution_count": 33,
   "metadata": {},
   "outputs": [],
   "source": [
    "weather_icons = [\n",
    "    \"clear sky\",\n",
    "    \"few clouds\",\n",
    "    \"scattered clouds\",\n",
    "    \"broken clouds\",\n",
    "    \"shower rain\",\n",
    "    \"rain\",\n",
    "    \"thunderstorm\",\n",
    "    \"snow\",\n",
    "    \"mist\"\n",
    "]"
   ]
  }
 ]
}