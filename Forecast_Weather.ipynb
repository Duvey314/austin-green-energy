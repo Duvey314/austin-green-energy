{
 "metadata": {
  "language_info": {
   "codemirror_mode": {
    "name": "ipython",
    "version": 3
   },
   "file_extension": ".py",
   "mimetype": "text/x-python",
   "name": "python",
   "nbconvert_exporter": "python",
   "pygments_lexer": "ipython3",
   "version": "3.7.7-final"
  },
  "orig_nbformat": 2,
  "kernelspec": {
   "name": "python_defaultSpec_1604255107084",
   "display_name": "Python 3.7.7 64-bit ('PythonData': conda)"
  }
 },
 "nbformat": 4,
 "nbformat_minor": 2,
 "cells": [
  {
   "cell_type": "markdown",
   "metadata": {},
   "source": [
    "# Extract Foercasted Weather Data\n",
    "# -------------------------------"
   ]
  },
  {
   "cell_type": "markdown",
   "metadata": {},
   "source": [
    "## Initial Imports"
   ]
  },
  {
   "cell_type": "code",
   "execution_count": 1,
   "metadata": {},
   "outputs": [],
   "source": [
    "# Import Dependencies\n",
    "import requests\n",
    "import pandas as pd\n",
    "import json\n",
    "import numpy as np\n",
    "import datetime\n",
    "from dateutil import tz"
   ]
  },
  {
   "cell_type": "code",
   "execution_count": 2,
   "metadata": {},
   "outputs": [],
   "source": [
    "# Import API Key\n",
    "from config import weather_api_key"
   ]
  },
  {
   "cell_type": "code",
   "execution_count": 3,
   "metadata": {},
   "outputs": [],
   "source": [
    "# Documentation\n",
    "# https://openweathermap.org/api/one-call-api"
   ]
  },
  {
   "cell_type": "markdown",
   "metadata": {},
   "source": [
    "# Define the Functions\n",
    "# --------------------"
   ]
  },
  {
   "cell_type": "code",
   "execution_count": 4,
   "metadata": {},
   "outputs": [],
   "source": [
    "def convert_DateTime_UTC_to_CST(UTC_datetime_list, list_range):\n",
    "    CST_datetime_list = []\n",
    "\n",
    "    for date in list_range:    \n",
    "        # Convert the date/time to ISO standard in string format\n",
    "        date_time = datetime.datetime.utcfromtimestamp(UTC_datetime_list[date]).strftime('%Y-%m-%d %H:%M:%S')\n",
    "        \n",
    "        # Create a datetime object, representing the UTC time\n",
    "        time_utc = datetime.datetime.strptime(date_time, '%Y-%m-%d %H:%M:%S')\n",
    "\n",
    "        # Replace the timezone field of the datetime object to UTC\n",
    "        from_zone = tz.gettz('UTC')\n",
    "        time_utc = time_utc.replace(tzinfo=from_zone)\n",
    "\n",
    "        # Convert time zone from UTC to central\n",
    "        to_zone = tz.gettz('America/Chicago')\n",
    "        time_cst = time_utc.astimezone(to_zone)\n",
    "\n",
    "        # Append the date/time, year, month, day, and hour\n",
    "        CST_datetime_list.append({\n",
    "            \"UTC_Time\": UTC_datetime_list[date],\n",
    "            \"Date_Time\": time_cst.strftime('%Y-%m-%d %H:%M:%S'),\n",
    "            \"Year\": time_cst.year,\n",
    "            \"Month\":time_cst.month,\n",
    "            \"Day\":time_cst.day,\n",
    "            \"Hour\":time_cst.hour\n",
    "            })\n",
    "\n",
    "    datetimeDataFrame = pd.DataFrame(CST_datetime_list)\n",
    "    \n",
    "    return datetimeDataFrame"
   ]
  },
  {
   "cell_type": "code",
   "execution_count": 5,
   "metadata": {},
   "outputs": [],
   "source": [
    "def calculate_sunhour(sunrise_list, sunset_list, list_range):\n",
    "    \n",
    "    sunhour_list = []\n",
    "\n",
    "    for day in list_range:\n",
    "        # Convert the date/time to ISO standard in string format\n",
    "        sunrise_date_time = datetime.datetime.utcfromtimestamp(sunrise_list[day]).strftime('%Y-%m-%d %H:%M:%S')\n",
    "        sunset_date_time = datetime.datetime.utcfromtimestamp(sunset_list[day]).strftime('%Y-%m-%d %H:%M:%S')\n",
    "\n",
    "        # Create a datetime object, representing the UTC time\n",
    "        sunrise_utc = datetime.datetime.strptime(sunrise_date_time, '%Y-%m-%d %H:%M:%S')\n",
    "        sunset_utc = datetime.datetime.strptime(sunset_date_time, '%Y-%m-%d %H:%M:%S')\n",
    "\n",
    "        # Replace the timezone field of the datetime object to UTC\n",
    "        from_zone = tz.gettz('UTC')\n",
    "        \n",
    "        sunrise_utc = sunrise_utc.replace(tzinfo=from_zone)\n",
    "        sunset_utc = sunset_utc.replace(tzinfo=from_zone)\n",
    "\n",
    "        # Convert time zone from UTC to central\n",
    "        to_zone = tz.gettz('America/Chicago')\n",
    "        \n",
    "        sunrise_cst = sunrise_utc.astimezone(to_zone)\n",
    "        sunset_cst = sunset_utc.astimezone(to_zone)\n",
    "        \n",
    "        # Convert to string\n",
    "        sunrise_str = sunrise_cst.strftime('%Y-%m-%d %H:%M:%S')\n",
    "        sunset_str = sunset_cst.strftime('%Y-%m-%d %H:%M:%S')\n",
    "\n",
    "        # Calculate Sunhour\n",
    "        sunrise = datetime.datetime.strptime(sunrise_str, '%Y-%m-%d %H:%M:%S')\n",
    "        sunset = datetime.datetime.strptime(sunset_str, '%Y-%m-%d %H:%M:%S')\n",
    "        Sunhour_timedelta = sunset - sunrise\n",
    "        Sunhour_seconds = Sunhour_timedelta.seconds\n",
    "        Sunhour = Sunhour_seconds / 3600\n",
    "\n",
    "        # Append to List\n",
    "        sunhour_list.append({\n",
    "            \"Sunrise\": sunrise_list[day],\n",
    "            \"Sunhour\": Sunhour\n",
    "        })\n",
    "        \n",
    "    sunhourDataFrame = pd.DataFrame(sunhour_list)\n",
    "    \n",
    "    return sunhourDataFrame"
   ]
  },
  {
   "cell_type": "markdown",
   "metadata": {},
   "source": [
    "# Webberville Solar Farm\n",
    "# ----------------------"
   ]
  },
  {
   "cell_type": "code",
   "execution_count": 6,
   "metadata": {
    "tags": []
   },
   "outputs": [],
   "source": [
    "# Geographical coordinates (latitude, longitude)\n",
    "lat = \"30.238333\"\n",
    "lon = \"-97.508611\"\n",
    "\n",
    "# Exclude some parts of the weather data from the API response\n",
    "    # It should be a comma-delimited list (without spaces)\n",
    "    # Options: current,minutely,hourly,daily,alerts\n",
    "part = \"minutely,alerts\"\n",
    "\n",
    "# Define the Units of measurement\n",
    "    # Options: stadnard,metric,imperial\n",
    "units = \"imperial\"\n",
    "\n",
    "# Make a request to openweathermap\n",
    "requestURL = f\"https://api.openweathermap.org/data/2.5/onecall?lat={lat}&lon={lon}&exclude={part}&units={units}&appid={weather_api_key}\"\n",
    "\n",
    "# print(requestURL)"
   ]
  },
  {
   "cell_type": "code",
   "execution_count": 7,
   "metadata": {
    "tags": []
   },
   "outputs": [
    {
     "output_type": "stream",
     "name": "stdout",
     "text": "Successfully turned response into JSON object.\n"
    }
   ],
   "source": [
    "response = requests.get(requestURL)\n",
    "\n",
    "if response.status_code == 200:\n",
    "    # Turn the response into a JSON object\n",
    "    responseJson = response.json()\n",
    "    print(\"Successfully turned response into JSON object.\")\n",
    "else:\n",
    "    # Else, print the Error status code\n",
    "    print(\"The Error Status Code is:\") \n",
    "    print(response.status_code)"
   ]
  },
  {
   "cell_type": "markdown",
   "metadata": {},
   "source": [
    "# Current Weather Data:"
   ]
  },
  {
   "cell_type": "markdown",
   "metadata": {},
   "source": [
    "## Date / Time"
   ]
  },
  {
   "cell_type": "code",
   "execution_count": 8,
   "metadata": {},
   "outputs": [
    {
     "output_type": "execute_result",
     "data": {
      "text/plain": "datetime.datetime(2020, 11, 1, 14, 52, 59, tzinfo=tzfile('US/Central'))"
     },
     "metadata": {},
     "execution_count": 8
    }
   ],
   "source": [
    "# Convert the date/time to ISO standard in string format\n",
    "current_date_time = datetime.datetime.utcfromtimestamp(responseJson[\"current\"][\"dt\"]).strftime('%Y-%m-%d %H:%M:%S')\n",
    "\n",
    "# Create a datetime object, representing the UTC time\n",
    "current_time_utc = datetime.datetime.strptime(current_date_time, '%Y-%m-%d %H:%M:%S')\n",
    "\n",
    "# Replace the timezone field of the datetime object to UTC\n",
    "from_zone = tz.gettz('UTC')\n",
    "current_time_utc = current_time_utc.replace(tzinfo=from_zone)\n",
    "\n",
    "# Convert time zone from UTC to central\n",
    "to_zone = tz.gettz('America/Chicago')\n",
    "current_time_cst = current_time_utc.astimezone(to_zone)\n",
    "\n",
    "# Display the current time\n",
    "current_time_cst"
   ]
  },
  {
   "cell_type": "code",
   "execution_count": 9,
   "metadata": {},
   "outputs": [
    {
     "output_type": "execute_result",
     "data": {
      "text/plain": "'2020-11-01 14:52:59'"
     },
     "metadata": {},
     "execution_count": 9
    }
   ],
   "source": [
    "# Extract the date & time and store as a string\n",
    "current_Date_Time = current_time_cst.strftime('%Y-%m-%d %H:%M:%S')\n",
    "\n",
    "# Display the date & time as string\n",
    "current_Date_Time"
   ]
  },
  {
   "cell_type": "code",
   "execution_count": 10,
   "metadata": {},
   "outputs": [
    {
     "output_type": "execute_result",
     "data": {
      "text/plain": "'2020-11-01'"
     },
     "metadata": {},
     "execution_count": 10
    }
   ],
   "source": [
    "# Extract the date and store as a string\n",
    "current_Date = datetime.datetime.date(current_time_cst)\n",
    "current_Date = current_Date.strftime('%Y-%m-%d')\n",
    "\n",
    "# Display the date in %Y-%m-%d\n",
    "current_Date"
   ]
  },
  {
   "cell_type": "code",
   "execution_count": 11,
   "metadata": {},
   "outputs": [
    {
     "output_type": "execute_result",
     "data": {
      "text/plain": "'14:52:59'"
     },
     "metadata": {},
     "execution_count": 11
    }
   ],
   "source": [
    "# Exract the time in %H:%M:%S\n",
    "current_Time = current_time_cst.strftime('%H:%M:%S')\n",
    "\n",
    "# Display the hour\n",
    "current_Time"
   ]
  },
  {
   "cell_type": "code",
   "execution_count": 12,
   "metadata": {},
   "outputs": [
    {
     "output_type": "execute_result",
     "data": {
      "text/plain": "2020"
     },
     "metadata": {},
     "execution_count": 12
    }
   ],
   "source": [
    "# Extract the year from the current time\n",
    "current_Year = current_time_cst.year\n",
    "\n",
    "# Display the year\n",
    "current_Year"
   ]
  },
  {
   "cell_type": "code",
   "execution_count": 13,
   "metadata": {},
   "outputs": [
    {
     "output_type": "execute_result",
     "data": {
      "text/plain": "11"
     },
     "metadata": {},
     "execution_count": 13
    }
   ],
   "source": [
    "# Extract the month from the current time\n",
    "current_Month = current_time_cst.month\n",
    "\n",
    "# Display the year\n",
    "current_Month"
   ]
  },
  {
   "cell_type": "code",
   "execution_count": 14,
   "metadata": {},
   "outputs": [
    {
     "output_type": "execute_result",
     "data": {
      "text/plain": "1"
     },
     "metadata": {},
     "execution_count": 14
    }
   ],
   "source": [
    "# Extract the day from the current time\n",
    "current_Day = current_time_cst.day\n",
    "\n",
    "# Display the day\n",
    "current_Day"
   ]
  },
  {
   "cell_type": "code",
   "execution_count": 15,
   "metadata": {},
   "outputs": [
    {
     "output_type": "execute_result",
     "data": {
      "text/plain": "14"
     },
     "metadata": {},
     "execution_count": 15
    }
   ],
   "source": [
    "# Extract the hour from the current time\n",
    "current_Hour = current_time_cst.hour\n",
    "\n",
    "# Display the day\n",
    "current_Hour"
   ]
  },
  {
   "cell_type": "code",
   "execution_count": 16,
   "metadata": {},
   "outputs": [
    {
     "output_type": "execute_result",
     "data": {
      "text/plain": "14"
     },
     "metadata": {},
     "execution_count": 16
    }
   ],
   "source": [
    "# Alternative:\n",
    "# Extract the hour from the current time\n",
    "current_Hour = datetime.datetime.time(current_time_cst).hour\n",
    "\n",
    "# Display the hour\n",
    "current_Hour"
   ]
  },
  {
   "cell_type": "code",
   "execution_count": 17,
   "metadata": {},
   "outputs": [
    {
     "output_type": "execute_result",
     "data": {
      "text/plain": "datetime.date(2020, 11, 2)"
     },
     "metadata": {},
     "execution_count": 17
    }
   ],
   "source": [
    "# Store the next day as a variable\n",
    "next_day = datetime.date(current_Year, current_Month, current_Day) + datetime.timedelta(days=1)\n",
    "next_day"
   ]
  },
  {
   "cell_type": "markdown",
   "metadata": {},
   "source": [
    "## Weather Description"
   ]
  },
  {
   "cell_type": "code",
   "execution_count": 18,
   "metadata": {},
   "outputs": [
    {
     "output_type": "execute_result",
     "data": {
      "text/plain": "'broken clouds'"
     },
     "metadata": {},
     "execution_count": 18
    }
   ],
   "source": [
    "# Extract the current weather description\n",
    "current_Weather_Description = responseJson[\"current\"][\"weather\"][0][\"description\"]\n",
    "\n",
    "# Display the weather description\n",
    "current_Weather_Description"
   ]
  },
  {
   "cell_type": "markdown",
   "metadata": {},
   "source": [
    "## Temperature"
   ]
  },
  {
   "cell_type": "code",
   "execution_count": 19,
   "metadata": {},
   "outputs": [
    {
     "output_type": "execute_result",
     "data": {
      "text/plain": "76.75"
     },
     "metadata": {},
     "execution_count": 19
    }
   ],
   "source": [
    "# Extract the current temperature (F)\n",
    "current_Temperature_F = responseJson[\"current\"][\"temp\"]\n",
    "\n",
    "# Display the temperature\n",
    "current_Temperature_F"
   ]
  },
  {
   "cell_type": "markdown",
   "metadata": {},
   "source": [
    "## Sunhour"
   ]
  },
  {
   "cell_type": "code",
   "execution_count": 20,
   "metadata": {},
   "outputs": [
    {
     "output_type": "execute_result",
     "data": {
      "text/plain": "'2020-11-01 06:44:37'"
     },
     "metadata": {},
     "execution_count": 20
    }
   ],
   "source": [
    "# Sunrise:\n",
    "\n",
    "# Convert the date/time to ISO standard in string format\n",
    "sunrise_date_time = datetime.datetime.utcfromtimestamp(responseJson[\"current\"][\"sunrise\"]).strftime('%Y-%m-%d %H:%M:%S')\n",
    "\n",
    "# Create a datetime object, representing the UTC time\n",
    "sunrise_utc = datetime.datetime.strptime(sunrise_date_time, '%Y-%m-%d %H:%M:%S')\n",
    "\n",
    "# Replace the timezone field of the datetime object to UTC\n",
    "from_zone = tz.gettz('UTC')\n",
    "sunrise_utc = sunrise_utc.replace(tzinfo=from_zone)\n",
    "\n",
    "# Convert time zone from UTC to central\n",
    "to_zone = tz.gettz('America/Chicago')\n",
    "todays_sunrise = sunrise_utc.astimezone(to_zone)\n",
    "\n",
    "# Convert to string\n",
    "todays_sunrise = todays_sunrise.strftime('%Y-%m-%d %H:%M:%S')\n",
    "\n",
    "# Display sunrise time\n",
    "todays_sunrise"
   ]
  },
  {
   "cell_type": "code",
   "execution_count": 21,
   "metadata": {},
   "outputs": [
    {
     "output_type": "execute_result",
     "data": {
      "text/plain": "'2020-11-01 17:42:29'"
     },
     "metadata": {},
     "execution_count": 21
    }
   ],
   "source": [
    "# Sunset:\n",
    "\n",
    "# Convert the date/time to ISO standard in string format\n",
    "sunset_date_time = datetime.datetime.utcfromtimestamp(responseJson[\"current\"][\"sunset\"]).strftime('%Y-%m-%d %H:%M:%S')\n",
    "\n",
    "# Create a datetime object, representing the UTC time\n",
    "sunset_utc = datetime.datetime.strptime(sunset_date_time, '%Y-%m-%d %H:%M:%S')\n",
    "\n",
    "# Replace the timezone field of the datetime object to UTC\n",
    "from_zone = tz.gettz('UTC')\n",
    "sunset_utc = sunset_utc.replace(tzinfo=from_zone)\n",
    "\n",
    "# Convert time zone from UTC to central\n",
    "to_zone = tz.gettz('America/Chicago')\n",
    "todays_sunset = sunset_utc.astimezone(to_zone)\n",
    "\n",
    "# Convert to string\n",
    "todays_sunset = todays_sunset.strftime('%Y-%m-%d %H:%M:%S')\n",
    "\n",
    "# Display sunrise time\n",
    "todays_sunset"
   ]
  },
  {
   "cell_type": "code",
   "execution_count": 22,
   "metadata": {
    "tags": []
   },
   "outputs": [
    {
     "output_type": "stream",
     "name": "stdout",
     "text": "The sunhour time in %H:%M:%S : 10:57:52\nThe sunhour time in hrs : 10.964444444444444\n"
    }
   ],
   "source": [
    "todays_sunrise = datetime.datetime.strptime(todays_sunrise, '%Y-%m-%d %H:%M:%S')\n",
    "todays_sunset = datetime.datetime.strptime(todays_sunset, '%Y-%m-%d %H:%M:%S')\n",
    "Sunhour_timedelta = todays_sunset - todays_sunrise\n",
    "print(f\"The sunhour time in %H:%M:%S : {Sunhour_timedelta}\")\n",
    "Sunhour_seconds = Sunhour_timedelta.seconds\n",
    "Sunhour = Sunhour_seconds / 3600\n",
    "print(f\"The sunhour time in hrs : {Sunhour}\")"
   ]
  },
  {
   "cell_type": "markdown",
   "metadata": {},
   "source": [
    "## Cloud Cover"
   ]
  },
  {
   "cell_type": "code",
   "execution_count": 23,
   "metadata": {},
   "outputs": [
    {
     "output_type": "execute_result",
     "data": {
      "text/plain": "75"
     },
     "metadata": {},
     "execution_count": 23
    }
   ],
   "source": [
    "# Extract the current cloud cover (%)\n",
    "current_CloudCover_percent = responseJson[\"current\"][\"clouds\"]\n",
    "\n",
    "# Display the Cloudiness, %\n",
    "current_CloudCover_percent"
   ]
  },
  {
   "cell_type": "markdown",
   "metadata": {},
   "source": [
    "## uv Index"
   ]
  },
  {
   "cell_type": "code",
   "execution_count": 24,
   "metadata": {},
   "outputs": [
    {
     "output_type": "execute_result",
     "data": {
      "text/plain": "5.49"
     },
     "metadata": {},
     "execution_count": 24
    }
   ],
   "source": [
    "# Extract the current UV Index\n",
    "todays_uvIndex = responseJson[\"current\"][\"uvi\"]\n",
    "\n",
    "# Display the Midday UV index\n",
    "todays_uvIndex"
   ]
  },
  {
   "cell_type": "markdown",
   "metadata": {},
   "source": [
    "## Humidity"
   ]
  },
  {
   "cell_type": "code",
   "execution_count": 25,
   "metadata": {},
   "outputs": [
    {
     "output_type": "execute_result",
     "data": {
      "text/plain": "34"
     },
     "metadata": {},
     "execution_count": 25
    }
   ],
   "source": [
    "# Extract the current humidity (%)\n",
    "current_Humidity_percent = responseJson[\"current\"][\"humidity\"]\n",
    "\n",
    "# Display the Cloudiness, %\n",
    "current_Humidity_percent"
   ]
  },
  {
   "cell_type": "markdown",
   "metadata": {},
   "source": [
    "# Daily Forecasted Weather Data:"
   ]
  },
  {
   "cell_type": "markdown",
   "metadata": {},
   "source": [
    "## Create a dataframe for the daily forecasted weather data"
   ]
  },
  {
   "cell_type": "code",
   "execution_count": 26,
   "metadata": {},
   "outputs": [
    {
     "output_type": "execute_result",
     "data": {
      "text/plain": "     UTC_Time     Sunrise      Sunset  uvIndex\n0  1604253600  1604234677  1604274149     5.49\n1  1604340000  1604321125  1604360502     5.12\n2  1604426400  1604407573  1604446856     5.19\n3  1604512800  1604494021  1604533211     5.05\n4  1604599200  1604580469  1604619568     4.74\n5  1604685600  1604666918  1604705926     4.90\n6  1604772000  1604753368  1604792286     4.97\n7  1604858400  1604839817  1604878647     5.20",
      "text/html": "<div>\n<style scoped>\n    .dataframe tbody tr th:only-of-type {\n        vertical-align: middle;\n    }\n\n    .dataframe tbody tr th {\n        vertical-align: top;\n    }\n\n    .dataframe thead th {\n        text-align: right;\n    }\n</style>\n<table border=\"1\" class=\"dataframe\">\n  <thead>\n    <tr style=\"text-align: right;\">\n      <th></th>\n      <th>UTC_Time</th>\n      <th>Sunrise</th>\n      <th>Sunset</th>\n      <th>uvIndex</th>\n    </tr>\n  </thead>\n  <tbody>\n    <tr>\n      <th>0</th>\n      <td>1604253600</td>\n      <td>1604234677</td>\n      <td>1604274149</td>\n      <td>5.49</td>\n    </tr>\n    <tr>\n      <th>1</th>\n      <td>1604340000</td>\n      <td>1604321125</td>\n      <td>1604360502</td>\n      <td>5.12</td>\n    </tr>\n    <tr>\n      <th>2</th>\n      <td>1604426400</td>\n      <td>1604407573</td>\n      <td>1604446856</td>\n      <td>5.19</td>\n    </tr>\n    <tr>\n      <th>3</th>\n      <td>1604512800</td>\n      <td>1604494021</td>\n      <td>1604533211</td>\n      <td>5.05</td>\n    </tr>\n    <tr>\n      <th>4</th>\n      <td>1604599200</td>\n      <td>1604580469</td>\n      <td>1604619568</td>\n      <td>4.74</td>\n    </tr>\n    <tr>\n      <th>5</th>\n      <td>1604685600</td>\n      <td>1604666918</td>\n      <td>1604705926</td>\n      <td>4.90</td>\n    </tr>\n    <tr>\n      <th>6</th>\n      <td>1604772000</td>\n      <td>1604753368</td>\n      <td>1604792286</td>\n      <td>4.97</td>\n    </tr>\n    <tr>\n      <th>7</th>\n      <td>1604858400</td>\n      <td>1604839817</td>\n      <td>1604878647</td>\n      <td>5.20</td>\n    </tr>\n  </tbody>\n</table>\n</div>"
     },
     "metadata": {},
     "execution_count": 26
    }
   ],
   "source": [
    "forecasted_daily_weather = []\n",
    "\n",
    "for day in np.arange(0, 8, 1):\n",
    "    forecasted_daily_weather.append({\n",
    "        \"UTC_Time\": responseJson[\"daily\"][day][\"dt\"],\n",
    "        \"Sunrise\": responseJson[\"daily\"][day][\"sunrise\"],\n",
    "        \"Sunset\": responseJson[\"daily\"][day][\"sunset\"],\n",
    "        \"uvIndex\": responseJson[\"daily\"][day][\"uvi\"]\n",
    "    })\n",
    "\n",
    "daily_weather_DF = pd.DataFrame(forecasted_daily_weather)\n",
    "daily_weather_DF"
   ]
  },
  {
   "cell_type": "markdown",
   "metadata": {},
   "source": [
    "## Clean up the UTC_Time column: Convert UTC time to CST"
   ]
  },
  {
   "cell_type": "code",
   "execution_count": 27,
   "metadata": {},
   "outputs": [
    {
     "output_type": "execute_result",
     "data": {
      "text/plain": "     UTC_Time            Date_Time  Year  Month  Day  Hour\n0  1604253600  2020-11-01 12:00:00  2020     11    1    12\n1  1604340000  2020-11-02 12:00:00  2020     11    2    12\n2  1604426400  2020-11-03 12:00:00  2020     11    3    12\n3  1604512800  2020-11-04 12:00:00  2020     11    4    12\n4  1604599200  2020-11-05 12:00:00  2020     11    5    12\n5  1604685600  2020-11-06 12:00:00  2020     11    6    12\n6  1604772000  2020-11-07 12:00:00  2020     11    7    12\n7  1604858400  2020-11-08 12:00:00  2020     11    8    12",
      "text/html": "<div>\n<style scoped>\n    .dataframe tbody tr th:only-of-type {\n        vertical-align: middle;\n    }\n\n    .dataframe tbody tr th {\n        vertical-align: top;\n    }\n\n    .dataframe thead th {\n        text-align: right;\n    }\n</style>\n<table border=\"1\" class=\"dataframe\">\n  <thead>\n    <tr style=\"text-align: right;\">\n      <th></th>\n      <th>UTC_Time</th>\n      <th>Date_Time</th>\n      <th>Year</th>\n      <th>Month</th>\n      <th>Day</th>\n      <th>Hour</th>\n    </tr>\n  </thead>\n  <tbody>\n    <tr>\n      <th>0</th>\n      <td>1604253600</td>\n      <td>2020-11-01 12:00:00</td>\n      <td>2020</td>\n      <td>11</td>\n      <td>1</td>\n      <td>12</td>\n    </tr>\n    <tr>\n      <th>1</th>\n      <td>1604340000</td>\n      <td>2020-11-02 12:00:00</td>\n      <td>2020</td>\n      <td>11</td>\n      <td>2</td>\n      <td>12</td>\n    </tr>\n    <tr>\n      <th>2</th>\n      <td>1604426400</td>\n      <td>2020-11-03 12:00:00</td>\n      <td>2020</td>\n      <td>11</td>\n      <td>3</td>\n      <td>12</td>\n    </tr>\n    <tr>\n      <th>3</th>\n      <td>1604512800</td>\n      <td>2020-11-04 12:00:00</td>\n      <td>2020</td>\n      <td>11</td>\n      <td>4</td>\n      <td>12</td>\n    </tr>\n    <tr>\n      <th>4</th>\n      <td>1604599200</td>\n      <td>2020-11-05 12:00:00</td>\n      <td>2020</td>\n      <td>11</td>\n      <td>5</td>\n      <td>12</td>\n    </tr>\n    <tr>\n      <th>5</th>\n      <td>1604685600</td>\n      <td>2020-11-06 12:00:00</td>\n      <td>2020</td>\n      <td>11</td>\n      <td>6</td>\n      <td>12</td>\n    </tr>\n    <tr>\n      <th>6</th>\n      <td>1604772000</td>\n      <td>2020-11-07 12:00:00</td>\n      <td>2020</td>\n      <td>11</td>\n      <td>7</td>\n      <td>12</td>\n    </tr>\n    <tr>\n      <th>7</th>\n      <td>1604858400</td>\n      <td>2020-11-08 12:00:00</td>\n      <td>2020</td>\n      <td>11</td>\n      <td>8</td>\n      <td>12</td>\n    </tr>\n  </tbody>\n</table>\n</div>"
     },
     "metadata": {},
     "execution_count": 27
    }
   ],
   "source": [
    "daily_index = np.arange(0,8,1)\n",
    "\n",
    "daily_UTC_date_time = daily_weather_DF[\"UTC_Time\"]\n",
    "\n",
    "date_time_DF = convert_DateTime_UTC_to_CST(daily_UTC_date_time, daily_index)\n",
    "\n",
    "date_time_DF"
   ]
  },
  {
   "cell_type": "code",
   "execution_count": 28,
   "metadata": {},
   "outputs": [
    {
     "output_type": "execute_result",
     "data": {
      "text/plain": "      Sunrise      Sunset  uvIndex           Date_Time  Year  Month  Day  Hour\n0  1604234677  1604274149     5.49 2020-11-01 12:00:00  2020     11    1    12\n1  1604321125  1604360502     5.12 2020-11-02 12:00:00  2020     11    2    12\n2  1604407573  1604446856     5.19 2020-11-03 12:00:00  2020     11    3    12\n3  1604494021  1604533211     5.05 2020-11-04 12:00:00  2020     11    4    12\n4  1604580469  1604619568     4.74 2020-11-05 12:00:00  2020     11    5    12\n5  1604666918  1604705926     4.90 2020-11-06 12:00:00  2020     11    6    12\n6  1604753368  1604792286     4.97 2020-11-07 12:00:00  2020     11    7    12\n7  1604839817  1604878647     5.20 2020-11-08 12:00:00  2020     11    8    12",
      "text/html": "<div>\n<style scoped>\n    .dataframe tbody tr th:only-of-type {\n        vertical-align: middle;\n    }\n\n    .dataframe tbody tr th {\n        vertical-align: top;\n    }\n\n    .dataframe thead th {\n        text-align: right;\n    }\n</style>\n<table border=\"1\" class=\"dataframe\">\n  <thead>\n    <tr style=\"text-align: right;\">\n      <th></th>\n      <th>Sunrise</th>\n      <th>Sunset</th>\n      <th>uvIndex</th>\n      <th>Date_Time</th>\n      <th>Year</th>\n      <th>Month</th>\n      <th>Day</th>\n      <th>Hour</th>\n    </tr>\n  </thead>\n  <tbody>\n    <tr>\n      <th>0</th>\n      <td>1604234677</td>\n      <td>1604274149</td>\n      <td>5.49</td>\n      <td>2020-11-01 12:00:00</td>\n      <td>2020</td>\n      <td>11</td>\n      <td>1</td>\n      <td>12</td>\n    </tr>\n    <tr>\n      <th>1</th>\n      <td>1604321125</td>\n      <td>1604360502</td>\n      <td>5.12</td>\n      <td>2020-11-02 12:00:00</td>\n      <td>2020</td>\n      <td>11</td>\n      <td>2</td>\n      <td>12</td>\n    </tr>\n    <tr>\n      <th>2</th>\n      <td>1604407573</td>\n      <td>1604446856</td>\n      <td>5.19</td>\n      <td>2020-11-03 12:00:00</td>\n      <td>2020</td>\n      <td>11</td>\n      <td>3</td>\n      <td>12</td>\n    </tr>\n    <tr>\n      <th>3</th>\n      <td>1604494021</td>\n      <td>1604533211</td>\n      <td>5.05</td>\n      <td>2020-11-04 12:00:00</td>\n      <td>2020</td>\n      <td>11</td>\n      <td>4</td>\n      <td>12</td>\n    </tr>\n    <tr>\n      <th>4</th>\n      <td>1604580469</td>\n      <td>1604619568</td>\n      <td>4.74</td>\n      <td>2020-11-05 12:00:00</td>\n      <td>2020</td>\n      <td>11</td>\n      <td>5</td>\n      <td>12</td>\n    </tr>\n    <tr>\n      <th>5</th>\n      <td>1604666918</td>\n      <td>1604705926</td>\n      <td>4.90</td>\n      <td>2020-11-06 12:00:00</td>\n      <td>2020</td>\n      <td>11</td>\n      <td>6</td>\n      <td>12</td>\n    </tr>\n    <tr>\n      <th>6</th>\n      <td>1604753368</td>\n      <td>1604792286</td>\n      <td>4.97</td>\n      <td>2020-11-07 12:00:00</td>\n      <td>2020</td>\n      <td>11</td>\n      <td>7</td>\n      <td>12</td>\n    </tr>\n    <tr>\n      <th>7</th>\n      <td>1604839817</td>\n      <td>1604878647</td>\n      <td>5.20</td>\n      <td>2020-11-08 12:00:00</td>\n      <td>2020</td>\n      <td>11</td>\n      <td>8</td>\n      <td>12</td>\n    </tr>\n  </tbody>\n</table>\n</div>"
     },
     "metadata": {},
     "execution_count": 28
    }
   ],
   "source": [
    "daily_weather_DF = pd.merge(daily_weather_DF, date_time_DF, on='UTC_Time', how='outer')\n",
    "daily_weather_DF.drop(columns=[\"UTC_Time\"], axis=1, inplace=True)\n",
    "daily_weather_DF[\"Date_Time\"] = pd.to_datetime(daily_weather_DF[\"Date_Time\"])\n",
    "daily_weather_DF"
   ]
  },
  {
   "cell_type": "markdown",
   "metadata": {},
   "source": [
    "## Use sunrise and sunset times to calculate the total hours of sunhour for each day"
   ]
  },
  {
   "cell_type": "code",
   "execution_count": 29,
   "metadata": {},
   "outputs": [
    {
     "output_type": "execute_result",
     "data": {
      "text/plain": "      Sunrise    Sunhour\n0  1604234677  10.964444\n1  1604321125  10.938056\n2  1604407573  10.911944\n3  1604494021  10.886111\n4  1604580469  10.860833\n5  1604666918  10.835556\n6  1604753368  10.810556\n7  1604839817  10.786111",
      "text/html": "<div>\n<style scoped>\n    .dataframe tbody tr th:only-of-type {\n        vertical-align: middle;\n    }\n\n    .dataframe tbody tr th {\n        vertical-align: top;\n    }\n\n    .dataframe thead th {\n        text-align: right;\n    }\n</style>\n<table border=\"1\" class=\"dataframe\">\n  <thead>\n    <tr style=\"text-align: right;\">\n      <th></th>\n      <th>Sunrise</th>\n      <th>Sunhour</th>\n    </tr>\n  </thead>\n  <tbody>\n    <tr>\n      <th>0</th>\n      <td>1604234677</td>\n      <td>10.964444</td>\n    </tr>\n    <tr>\n      <th>1</th>\n      <td>1604321125</td>\n      <td>10.938056</td>\n    </tr>\n    <tr>\n      <th>2</th>\n      <td>1604407573</td>\n      <td>10.911944</td>\n    </tr>\n    <tr>\n      <th>3</th>\n      <td>1604494021</td>\n      <td>10.886111</td>\n    </tr>\n    <tr>\n      <th>4</th>\n      <td>1604580469</td>\n      <td>10.860833</td>\n    </tr>\n    <tr>\n      <th>5</th>\n      <td>1604666918</td>\n      <td>10.835556</td>\n    </tr>\n    <tr>\n      <th>6</th>\n      <td>1604753368</td>\n      <td>10.810556</td>\n    </tr>\n    <tr>\n      <th>7</th>\n      <td>1604839817</td>\n      <td>10.786111</td>\n    </tr>\n  </tbody>\n</table>\n</div>"
     },
     "metadata": {},
     "execution_count": 29
    }
   ],
   "source": [
    "daily_index = np.arange(0,8,1)\n",
    "\n",
    "UTC_sunrise = daily_weather_DF[\"Sunrise\"]\n",
    "UTC_sunset = daily_weather_DF[\"Sunset\"]\n",
    "\n",
    "sunhour_DF = calculate_sunhour(UTC_sunrise, UTC_sunset, daily_index)\n",
    "\n",
    "sunhour_DF"
   ]
  },
  {
   "cell_type": "code",
   "execution_count": 30,
   "metadata": {},
   "outputs": [
    {
     "output_type": "execute_result",
     "data": {
      "text/plain": "   uvIndex           Date_Time  Year  Month  Day  Hour    Sunhour\n0     5.49 2020-11-01 12:00:00  2020     11    1    12  10.964444\n1     5.12 2020-11-02 12:00:00  2020     11    2    12  10.938056\n2     5.19 2020-11-03 12:00:00  2020     11    3    12  10.911944\n3     5.05 2020-11-04 12:00:00  2020     11    4    12  10.886111\n4     4.74 2020-11-05 12:00:00  2020     11    5    12  10.860833\n5     4.90 2020-11-06 12:00:00  2020     11    6    12  10.835556\n6     4.97 2020-11-07 12:00:00  2020     11    7    12  10.810556\n7     5.20 2020-11-08 12:00:00  2020     11    8    12  10.786111",
      "text/html": "<div>\n<style scoped>\n    .dataframe tbody tr th:only-of-type {\n        vertical-align: middle;\n    }\n\n    .dataframe tbody tr th {\n        vertical-align: top;\n    }\n\n    .dataframe thead th {\n        text-align: right;\n    }\n</style>\n<table border=\"1\" class=\"dataframe\">\n  <thead>\n    <tr style=\"text-align: right;\">\n      <th></th>\n      <th>uvIndex</th>\n      <th>Date_Time</th>\n      <th>Year</th>\n      <th>Month</th>\n      <th>Day</th>\n      <th>Hour</th>\n      <th>Sunhour</th>\n    </tr>\n  </thead>\n  <tbody>\n    <tr>\n      <th>0</th>\n      <td>5.49</td>\n      <td>2020-11-01 12:00:00</td>\n      <td>2020</td>\n      <td>11</td>\n      <td>1</td>\n      <td>12</td>\n      <td>10.964444</td>\n    </tr>\n    <tr>\n      <th>1</th>\n      <td>5.12</td>\n      <td>2020-11-02 12:00:00</td>\n      <td>2020</td>\n      <td>11</td>\n      <td>2</td>\n      <td>12</td>\n      <td>10.938056</td>\n    </tr>\n    <tr>\n      <th>2</th>\n      <td>5.19</td>\n      <td>2020-11-03 12:00:00</td>\n      <td>2020</td>\n      <td>11</td>\n      <td>3</td>\n      <td>12</td>\n      <td>10.911944</td>\n    </tr>\n    <tr>\n      <th>3</th>\n      <td>5.05</td>\n      <td>2020-11-04 12:00:00</td>\n      <td>2020</td>\n      <td>11</td>\n      <td>4</td>\n      <td>12</td>\n      <td>10.886111</td>\n    </tr>\n    <tr>\n      <th>4</th>\n      <td>4.74</td>\n      <td>2020-11-05 12:00:00</td>\n      <td>2020</td>\n      <td>11</td>\n      <td>5</td>\n      <td>12</td>\n      <td>10.860833</td>\n    </tr>\n    <tr>\n      <th>5</th>\n      <td>4.90</td>\n      <td>2020-11-06 12:00:00</td>\n      <td>2020</td>\n      <td>11</td>\n      <td>6</td>\n      <td>12</td>\n      <td>10.835556</td>\n    </tr>\n    <tr>\n      <th>6</th>\n      <td>4.97</td>\n      <td>2020-11-07 12:00:00</td>\n      <td>2020</td>\n      <td>11</td>\n      <td>7</td>\n      <td>12</td>\n      <td>10.810556</td>\n    </tr>\n    <tr>\n      <th>7</th>\n      <td>5.20</td>\n      <td>2020-11-08 12:00:00</td>\n      <td>2020</td>\n      <td>11</td>\n      <td>8</td>\n      <td>12</td>\n      <td>10.786111</td>\n    </tr>\n  </tbody>\n</table>\n</div>"
     },
     "metadata": {},
     "execution_count": 30
    }
   ],
   "source": [
    "daily_weather_DF = pd.merge(daily_weather_DF, sunhour_DF, on='Sunrise', how='outer')\n",
    "daily_weather_DF.drop(columns=[\"Sunrise\", \"Sunset\"], axis=1, inplace=True)\n",
    "daily_weather_DF"
   ]
  },
  {
   "cell_type": "markdown",
   "metadata": {},
   "source": [
    "## Display the final daily forecasted weather dataframe"
   ]
  },
  {
   "cell_type": "code",
   "execution_count": 31,
   "metadata": {},
   "outputs": [
    {
     "output_type": "execute_result",
     "data": {
      "text/plain": "            Date_Time  Year  Month  Day  Hour    Sunhour  uvIndex\n0 2020-11-01 12:00:00  2020     11    1    12  10.964444     5.49\n1 2020-11-02 12:00:00  2020     11    2    12  10.938056     5.12\n2 2020-11-03 12:00:00  2020     11    3    12  10.911944     5.19\n3 2020-11-04 12:00:00  2020     11    4    12  10.886111     5.05\n4 2020-11-05 12:00:00  2020     11    5    12  10.860833     4.74\n5 2020-11-06 12:00:00  2020     11    6    12  10.835556     4.90\n6 2020-11-07 12:00:00  2020     11    7    12  10.810556     4.97\n7 2020-11-08 12:00:00  2020     11    8    12  10.786111     5.20",
      "text/html": "<div>\n<style scoped>\n    .dataframe tbody tr th:only-of-type {\n        vertical-align: middle;\n    }\n\n    .dataframe tbody tr th {\n        vertical-align: top;\n    }\n\n    .dataframe thead th {\n        text-align: right;\n    }\n</style>\n<table border=\"1\" class=\"dataframe\">\n  <thead>\n    <tr style=\"text-align: right;\">\n      <th></th>\n      <th>Date_Time</th>\n      <th>Year</th>\n      <th>Month</th>\n      <th>Day</th>\n      <th>Hour</th>\n      <th>Sunhour</th>\n      <th>uvIndex</th>\n    </tr>\n  </thead>\n  <tbody>\n    <tr>\n      <th>0</th>\n      <td>2020-11-01 12:00:00</td>\n      <td>2020</td>\n      <td>11</td>\n      <td>1</td>\n      <td>12</td>\n      <td>10.964444</td>\n      <td>5.49</td>\n    </tr>\n    <tr>\n      <th>1</th>\n      <td>2020-11-02 12:00:00</td>\n      <td>2020</td>\n      <td>11</td>\n      <td>2</td>\n      <td>12</td>\n      <td>10.938056</td>\n      <td>5.12</td>\n    </tr>\n    <tr>\n      <th>2</th>\n      <td>2020-11-03 12:00:00</td>\n      <td>2020</td>\n      <td>11</td>\n      <td>3</td>\n      <td>12</td>\n      <td>10.911944</td>\n      <td>5.19</td>\n    </tr>\n    <tr>\n      <th>3</th>\n      <td>2020-11-04 12:00:00</td>\n      <td>2020</td>\n      <td>11</td>\n      <td>4</td>\n      <td>12</td>\n      <td>10.886111</td>\n      <td>5.05</td>\n    </tr>\n    <tr>\n      <th>4</th>\n      <td>2020-11-05 12:00:00</td>\n      <td>2020</td>\n      <td>11</td>\n      <td>5</td>\n      <td>12</td>\n      <td>10.860833</td>\n      <td>4.74</td>\n    </tr>\n    <tr>\n      <th>5</th>\n      <td>2020-11-06 12:00:00</td>\n      <td>2020</td>\n      <td>11</td>\n      <td>6</td>\n      <td>12</td>\n      <td>10.835556</td>\n      <td>4.90</td>\n    </tr>\n    <tr>\n      <th>6</th>\n      <td>2020-11-07 12:00:00</td>\n      <td>2020</td>\n      <td>11</td>\n      <td>7</td>\n      <td>12</td>\n      <td>10.810556</td>\n      <td>4.97</td>\n    </tr>\n    <tr>\n      <th>7</th>\n      <td>2020-11-08 12:00:00</td>\n      <td>2020</td>\n      <td>11</td>\n      <td>8</td>\n      <td>12</td>\n      <td>10.786111</td>\n      <td>5.20</td>\n    </tr>\n  </tbody>\n</table>\n</div>"
     },
     "metadata": {},
     "execution_count": 31
    }
   ],
   "source": [
    "# Re-Order the columns\n",
    "daily_weather_DF = daily_weather_DF[[\"Date_Time\", \"Year\", \"Month\", \"Day\", \"Hour\", \"Sunhour\",\"uvIndex\"]]\n",
    "daily_weather_DF"
   ]
  },
  {
   "cell_type": "code",
   "execution_count": 32,
   "metadata": {},
   "outputs": [
    {
     "output_type": "execute_result",
     "data": {
      "text/plain": "Date_Time    datetime64[ns]\nYear                  int64\nMonth                 int64\nDay                   int64\nHour                  int64\nSunhour             float64\nuvIndex             float64\ndtype: object"
     },
     "metadata": {},
     "execution_count": 32
    }
   ],
   "source": [
    "# Check the data types\n",
    "daily_weather_DF.dtypes"
   ]
  },
  {
   "cell_type": "markdown",
   "metadata": {},
   "source": [
    "## Clean the dataframe so it can be merged with the hourly forecasted data"
   ]
  },
  {
   "cell_type": "code",
   "execution_count": 33,
   "metadata": {},
   "outputs": [
    {
     "output_type": "execute_result",
     "data": {
      "text/plain": "   Day    Sunhour  uvIndex\n0    1  10.964444     5.49\n1    2  10.938056     5.12\n2    3  10.911944     5.19\n3    4  10.886111     5.05\n4    5  10.860833     4.74\n5    6  10.835556     4.90\n6    7  10.810556     4.97\n7    8  10.786111     5.20",
      "text/html": "<div>\n<style scoped>\n    .dataframe tbody tr th:only-of-type {\n        vertical-align: middle;\n    }\n\n    .dataframe tbody tr th {\n        vertical-align: top;\n    }\n\n    .dataframe thead th {\n        text-align: right;\n    }\n</style>\n<table border=\"1\" class=\"dataframe\">\n  <thead>\n    <tr style=\"text-align: right;\">\n      <th></th>\n      <th>Day</th>\n      <th>Sunhour</th>\n      <th>uvIndex</th>\n    </tr>\n  </thead>\n  <tbody>\n    <tr>\n      <th>0</th>\n      <td>1</td>\n      <td>10.964444</td>\n      <td>5.49</td>\n    </tr>\n    <tr>\n      <th>1</th>\n      <td>2</td>\n      <td>10.938056</td>\n      <td>5.12</td>\n    </tr>\n    <tr>\n      <th>2</th>\n      <td>3</td>\n      <td>10.911944</td>\n      <td>5.19</td>\n    </tr>\n    <tr>\n      <th>3</th>\n      <td>4</td>\n      <td>10.886111</td>\n      <td>5.05</td>\n    </tr>\n    <tr>\n      <th>4</th>\n      <td>5</td>\n      <td>10.860833</td>\n      <td>4.74</td>\n    </tr>\n    <tr>\n      <th>5</th>\n      <td>6</td>\n      <td>10.835556</td>\n      <td>4.90</td>\n    </tr>\n    <tr>\n      <th>6</th>\n      <td>7</td>\n      <td>10.810556</td>\n      <td>4.97</td>\n    </tr>\n    <tr>\n      <th>7</th>\n      <td>8</td>\n      <td>10.786111</td>\n      <td>5.20</td>\n    </tr>\n  </tbody>\n</table>\n</div>"
     },
     "metadata": {},
     "execution_count": 33
    }
   ],
   "source": [
    "daily_weather_DF.drop(columns=[\"Date_Time\", \"Year\", \"Month\", \"Hour\"], axis=1, inplace=True)\n",
    "daily_weather_DF"
   ]
  },
  {
   "cell_type": "markdown",
   "metadata": {},
   "source": [
    "# Hourly Forecasted Weather Data:"
   ]
  },
  {
   "cell_type": "code",
   "execution_count": 34,
   "metadata": {},
   "outputs": [
    {
     "output_type": "execute_result",
     "data": {
      "text/plain": "     UTC_Time  Temperature_F Weather_Description  CloudCover_percent  \\\n0  1604260800          76.75       broken clouds                  75   \n1  1604264400          75.54     overcast clouds                  87   \n2  1604268000          73.99     overcast clouds                  95   \n3  1604271600          70.83     overcast clouds                  96   \n4  1604275200          65.34     overcast clouds                  96   \n\n   Humidity_percent  \n0                34  \n1                37  \n2                40  \n3                43  \n4                49  ",
      "text/html": "<div>\n<style scoped>\n    .dataframe tbody tr th:only-of-type {\n        vertical-align: middle;\n    }\n\n    .dataframe tbody tr th {\n        vertical-align: top;\n    }\n\n    .dataframe thead th {\n        text-align: right;\n    }\n</style>\n<table border=\"1\" class=\"dataframe\">\n  <thead>\n    <tr style=\"text-align: right;\">\n      <th></th>\n      <th>UTC_Time</th>\n      <th>Temperature_F</th>\n      <th>Weather_Description</th>\n      <th>CloudCover_percent</th>\n      <th>Humidity_percent</th>\n    </tr>\n  </thead>\n  <tbody>\n    <tr>\n      <th>0</th>\n      <td>1604260800</td>\n      <td>76.75</td>\n      <td>broken clouds</td>\n      <td>75</td>\n      <td>34</td>\n    </tr>\n    <tr>\n      <th>1</th>\n      <td>1604264400</td>\n      <td>75.54</td>\n      <td>overcast clouds</td>\n      <td>87</td>\n      <td>37</td>\n    </tr>\n    <tr>\n      <th>2</th>\n      <td>1604268000</td>\n      <td>73.99</td>\n      <td>overcast clouds</td>\n      <td>95</td>\n      <td>40</td>\n    </tr>\n    <tr>\n      <th>3</th>\n      <td>1604271600</td>\n      <td>70.83</td>\n      <td>overcast clouds</td>\n      <td>96</td>\n      <td>43</td>\n    </tr>\n    <tr>\n      <th>4</th>\n      <td>1604275200</td>\n      <td>65.34</td>\n      <td>overcast clouds</td>\n      <td>96</td>\n      <td>49</td>\n    </tr>\n  </tbody>\n</table>\n</div>"
     },
     "metadata": {},
     "execution_count": 34
    }
   ],
   "source": [
    "forecasted_hourly_weather = []\n",
    "\n",
    "for hour in np.arange(0, 48, 1):\n",
    "    forecasted_hourly_weather.append({\n",
    "        \"UTC_Time\": responseJson[\"hourly\"][hour][\"dt\"],\n",
    "        \"Temperature_F\": responseJson[\"hourly\"][hour][\"temp\"],\n",
    "        \"Weather_Description\": responseJson[\"hourly\"][hour][\"weather\"][0][\"description\"],\n",
    "        \"CloudCover_percent\": responseJson[\"hourly\"][hour][\"clouds\"],\n",
    "        \"Humidity_percent\": responseJson[\"hourly\"][hour][\"humidity\"]\n",
    "    })\n",
    "\n",
    "hourly_weather_DF = pd.DataFrame(forecasted_hourly_weather)\n",
    "hourly_weather_DF.head()"
   ]
  },
  {
   "cell_type": "code",
   "execution_count": 35,
   "metadata": {},
   "outputs": [
    {
     "output_type": "execute_result",
     "data": {
      "text/plain": "     UTC_Time            Date_Time  Year  Month  Day  Hour\n0  1604260800  2020-11-01 14:00:00  2020     11    1    14\n1  1604264400  2020-11-01 15:00:00  2020     11    1    15\n2  1604268000  2020-11-01 16:00:00  2020     11    1    16\n3  1604271600  2020-11-01 17:00:00  2020     11    1    17\n4  1604275200  2020-11-01 18:00:00  2020     11    1    18",
      "text/html": "<div>\n<style scoped>\n    .dataframe tbody tr th:only-of-type {\n        vertical-align: middle;\n    }\n\n    .dataframe tbody tr th {\n        vertical-align: top;\n    }\n\n    .dataframe thead th {\n        text-align: right;\n    }\n</style>\n<table border=\"1\" class=\"dataframe\">\n  <thead>\n    <tr style=\"text-align: right;\">\n      <th></th>\n      <th>UTC_Time</th>\n      <th>Date_Time</th>\n      <th>Year</th>\n      <th>Month</th>\n      <th>Day</th>\n      <th>Hour</th>\n    </tr>\n  </thead>\n  <tbody>\n    <tr>\n      <th>0</th>\n      <td>1604260800</td>\n      <td>2020-11-01 14:00:00</td>\n      <td>2020</td>\n      <td>11</td>\n      <td>1</td>\n      <td>14</td>\n    </tr>\n    <tr>\n      <th>1</th>\n      <td>1604264400</td>\n      <td>2020-11-01 15:00:00</td>\n      <td>2020</td>\n      <td>11</td>\n      <td>1</td>\n      <td>15</td>\n    </tr>\n    <tr>\n      <th>2</th>\n      <td>1604268000</td>\n      <td>2020-11-01 16:00:00</td>\n      <td>2020</td>\n      <td>11</td>\n      <td>1</td>\n      <td>16</td>\n    </tr>\n    <tr>\n      <th>3</th>\n      <td>1604271600</td>\n      <td>2020-11-01 17:00:00</td>\n      <td>2020</td>\n      <td>11</td>\n      <td>1</td>\n      <td>17</td>\n    </tr>\n    <tr>\n      <th>4</th>\n      <td>1604275200</td>\n      <td>2020-11-01 18:00:00</td>\n      <td>2020</td>\n      <td>11</td>\n      <td>1</td>\n      <td>18</td>\n    </tr>\n  </tbody>\n</table>\n</div>"
     },
     "metadata": {},
     "execution_count": 35
    }
   ],
   "source": [
    "hourly_index = np.arange(0,48,1)\n",
    "\n",
    "hourly_UTC_date_time = hourly_weather_DF[\"UTC_Time\"]\n",
    "\n",
    "hourly_date_time_DF = convert_DateTime_UTC_to_CST(hourly_UTC_date_time, hourly_index)\n",
    "\n",
    "hourly_date_time_DF.head()"
   ]
  },
  {
   "cell_type": "code",
   "execution_count": 36,
   "metadata": {},
   "outputs": [
    {
     "output_type": "execute_result",
     "data": {
      "text/plain": "            Date_Time  Year  Month  Day  Hour  Temperature_F  \\\n0 2020-11-01 14:00:00  2020     11    1    14          76.75   \n1 2020-11-01 15:00:00  2020     11    1    15          75.54   \n2 2020-11-01 16:00:00  2020     11    1    16          73.99   \n3 2020-11-01 17:00:00  2020     11    1    17          70.83   \n4 2020-11-01 18:00:00  2020     11    1    18          65.34   \n\n   Humidity_percent  CloudCover_percent Weather_Description  \n0                34                  75       broken clouds  \n1                37                  87     overcast clouds  \n2                40                  95     overcast clouds  \n3                43                  96     overcast clouds  \n4                49                  96     overcast clouds  ",
      "text/html": "<div>\n<style scoped>\n    .dataframe tbody tr th:only-of-type {\n        vertical-align: middle;\n    }\n\n    .dataframe tbody tr th {\n        vertical-align: top;\n    }\n\n    .dataframe thead th {\n        text-align: right;\n    }\n</style>\n<table border=\"1\" class=\"dataframe\">\n  <thead>\n    <tr style=\"text-align: right;\">\n      <th></th>\n      <th>Date_Time</th>\n      <th>Year</th>\n      <th>Month</th>\n      <th>Day</th>\n      <th>Hour</th>\n      <th>Temperature_F</th>\n      <th>Humidity_percent</th>\n      <th>CloudCover_percent</th>\n      <th>Weather_Description</th>\n    </tr>\n  </thead>\n  <tbody>\n    <tr>\n      <th>0</th>\n      <td>2020-11-01 14:00:00</td>\n      <td>2020</td>\n      <td>11</td>\n      <td>1</td>\n      <td>14</td>\n      <td>76.75</td>\n      <td>34</td>\n      <td>75</td>\n      <td>broken clouds</td>\n    </tr>\n    <tr>\n      <th>1</th>\n      <td>2020-11-01 15:00:00</td>\n      <td>2020</td>\n      <td>11</td>\n      <td>1</td>\n      <td>15</td>\n      <td>75.54</td>\n      <td>37</td>\n      <td>87</td>\n      <td>overcast clouds</td>\n    </tr>\n    <tr>\n      <th>2</th>\n      <td>2020-11-01 16:00:00</td>\n      <td>2020</td>\n      <td>11</td>\n      <td>1</td>\n      <td>16</td>\n      <td>73.99</td>\n      <td>40</td>\n      <td>95</td>\n      <td>overcast clouds</td>\n    </tr>\n    <tr>\n      <th>3</th>\n      <td>2020-11-01 17:00:00</td>\n      <td>2020</td>\n      <td>11</td>\n      <td>1</td>\n      <td>17</td>\n      <td>70.83</td>\n      <td>43</td>\n      <td>96</td>\n      <td>overcast clouds</td>\n    </tr>\n    <tr>\n      <th>4</th>\n      <td>2020-11-01 18:00:00</td>\n      <td>2020</td>\n      <td>11</td>\n      <td>1</td>\n      <td>18</td>\n      <td>65.34</td>\n      <td>49</td>\n      <td>96</td>\n      <td>overcast clouds</td>\n    </tr>\n  </tbody>\n</table>\n</div>"
     },
     "metadata": {},
     "execution_count": 36
    }
   ],
   "source": [
    "hourly_weather_DF = pd.merge(hourly_weather_DF, hourly_date_time_DF, on='UTC_Time', how='outer')\n",
    "hourly_weather_DF.drop(columns=[\"UTC_Time\"], axis=1, inplace=True)\n",
    "hourly_weather_DF[\"Date_Time\"] = pd.to_datetime(hourly_weather_DF[\"Date_Time\"])\n",
    "hourly_weather_DF = hourly_weather_DF[[\"Date_Time\", \"Year\", \"Month\", \"Day\", \"Hour\", \"Temperature_F\", \"Humidity_percent\", \"CloudCover_percent\", \"Weather_Description\"]]\n",
    "hourly_weather_DF.head()"
   ]
  },
  {
   "cell_type": "code",
   "execution_count": 37,
   "metadata": {},
   "outputs": [
    {
     "output_type": "execute_result",
     "data": {
      "text/plain": "Date_Time              datetime64[ns]\nYear                            int64\nMonth                           int64\nDay                             int64\nHour                            int64\nTemperature_F                 float64\nHumidity_percent                int64\nCloudCover_percent              int64\nWeather_Description            object\ndtype: object"
     },
     "metadata": {},
     "execution_count": 37
    }
   ],
   "source": [
    "# Check the data types\n",
    "hourly_weather_DF.dtypes"
   ]
  },
  {
   "cell_type": "markdown",
   "metadata": {},
   "source": [
    "# Merge the Daily and Hourly Forecasted Weather DataFrames:"
   ]
  },
  {
   "cell_type": "code",
   "execution_count": 38,
   "metadata": {},
   "outputs": [
    {
     "output_type": "execute_result",
     "data": {
      "text/plain": "             Date_Time  Year  Month  Day  Hour  Temperature_F  \\\n0  2020-11-01 14:00:00  2020     11    1    14          76.75   \n1  2020-11-01 15:00:00  2020     11    1    15          75.54   \n2  2020-11-01 16:00:00  2020     11    1    16          73.99   \n3  2020-11-01 17:00:00  2020     11    1    17          70.83   \n4  2020-11-01 18:00:00  2020     11    1    18          65.34   \n5  2020-11-01 19:00:00  2020     11    1    19          61.93   \n6  2020-11-01 20:00:00  2020     11    1    20          60.40   \n7  2020-11-01 21:00:00  2020     11    1    21          59.47   \n8  2020-11-01 22:00:00  2020     11    1    22          57.94   \n9  2020-11-01 23:00:00  2020     11    1    23          56.12   \n10 2020-11-02 00:00:00  2020     11    2     0          54.07   \n11 2020-11-02 01:00:00  2020     11    2     1          52.65   \n12 2020-11-02 02:00:00  2020     11    2     2          51.44   \n13 2020-11-02 03:00:00  2020     11    2     3          49.98   \n14 2020-11-02 04:00:00  2020     11    2     4          48.56   \n15 2020-11-02 05:00:00  2020     11    2     5          47.59   \n16 2020-11-02 06:00:00  2020     11    2     6          46.71   \n17 2020-11-02 07:00:00  2020     11    2     7          46.02   \n18 2020-11-02 08:00:00  2020     11    2     8          49.82   \n19 2020-11-02 09:00:00  2020     11    2     9          55.49   \n20 2020-11-02 10:00:00  2020     11    2    10          59.70   \n21 2020-11-02 11:00:00  2020     11    2    11          63.93   \n22 2020-11-02 12:00:00  2020     11    2    12          67.75   \n23 2020-11-02 13:00:00  2020     11    2    13          70.45   \n24 2020-11-02 14:00:00  2020     11    2    14          71.94   \n25 2020-11-02 15:00:00  2020     11    2    15          72.00   \n26 2020-11-02 16:00:00  2020     11    2    16          71.11   \n27 2020-11-02 17:00:00  2020     11    2    17          67.17   \n28 2020-11-02 18:00:00  2020     11    2    18          59.76   \n29 2020-11-02 19:00:00  2020     11    2    19          56.82   \n30 2020-11-02 20:00:00  2020     11    2    20          54.97   \n31 2020-11-02 21:00:00  2020     11    2    21          53.96   \n32 2020-11-02 22:00:00  2020     11    2    22          53.02   \n33 2020-11-02 23:00:00  2020     11    2    23          52.20   \n34 2020-11-03 00:00:00  2020     11    3     0          51.67   \n35 2020-11-03 01:00:00  2020     11    3     1          51.15   \n36 2020-11-03 02:00:00  2020     11    3     2          50.40   \n37 2020-11-03 03:00:00  2020     11    3     3          49.73   \n38 2020-11-03 04:00:00  2020     11    3     4          49.12   \n39 2020-11-03 05:00:00  2020     11    3     5          48.78   \n40 2020-11-03 06:00:00  2020     11    3     6          48.90   \n41 2020-11-03 07:00:00  2020     11    3     7          48.43   \n42 2020-11-03 08:00:00  2020     11    3     8          52.83   \n43 2020-11-03 09:00:00  2020     11    3     9          58.91   \n44 2020-11-03 10:00:00  2020     11    3    10          64.24   \n45 2020-11-03 11:00:00  2020     11    3    11          68.72   \n46 2020-11-03 12:00:00  2020     11    3    12          72.01   \n47 2020-11-03 13:00:00  2020     11    3    13          73.81   \n\n    Humidity_percent    Sunhour  CloudCover_percent  uvIndex  \\\n0                 34  10.964444                  75     5.49   \n1                 37  10.964444                  87     5.49   \n2                 40  10.964444                  95     5.49   \n3                 43  10.964444                  96     5.49   \n4                 49  10.964444                  96     5.49   \n5                 52  10.964444                  78     5.49   \n6                 53  10.964444                  90     5.49   \n7                 49  10.964444                  93     5.49   \n8                 48  10.964444                  94     5.49   \n9                 49  10.964444                  95     5.49   \n10                52  10.938056                  96     5.12   \n11                53  10.938056                 100     5.12   \n12                53  10.938056                 100     5.12   \n13                54  10.938056                  88     5.12   \n14                56  10.938056                  71     5.12   \n15                58  10.938056                  57     5.12   \n16                59  10.938056                  50     5.12   \n17                61  10.938056                  13     5.12   \n18                53  10.938056                  17     5.12   \n19                41  10.938056                  11     5.12   \n20                34  10.938056                   9     5.12   \n21                29  10.938056                   6     5.12   \n22                25  10.938056                   6     5.12   \n23                22  10.938056                   0     5.12   \n24                21  10.938056                   0     5.12   \n25                21  10.938056                   0     5.12   \n26                22  10.938056                   0     5.12   \n27                28  10.938056                   0     5.12   \n28                41  10.938056                   0     5.12   \n29                47  10.938056                   0     5.12   \n30                50  10.938056                   0     5.12   \n31                51  10.938056                   0     5.12   \n32                53  10.938056                   0     5.12   \n33                54  10.938056                   0     5.12   \n34                55  10.911944                   0     5.19   \n35                56  10.911944                   0     5.19   \n36                56  10.911944                   0     5.19   \n37                56  10.911944                   0     5.19   \n38                58  10.911944                   0     5.19   \n39                58  10.911944                   8     5.19   \n40                58  10.911944                  23     5.19   \n41                59  10.911944                   0     5.19   \n42                51  10.911944                   0     5.19   \n43                40  10.911944                   0     5.19   \n44                35  10.911944                   0     5.19   \n45                32  10.911944                   4     5.19   \n46                28  10.911944                  10     5.19   \n47                27  10.911944                  98     5.19   \n\n   Weather_Description  \n0        broken clouds  \n1      overcast clouds  \n2      overcast clouds  \n3      overcast clouds  \n4      overcast clouds  \n5        broken clouds  \n6      overcast clouds  \n7      overcast clouds  \n8      overcast clouds  \n9      overcast clouds  \n10     overcast clouds  \n11     overcast clouds  \n12     overcast clouds  \n13     overcast clouds  \n14       broken clouds  \n15       broken clouds  \n16    scattered clouds  \n17          few clouds  \n18          few clouds  \n19          few clouds  \n20           clear sky  \n21           clear sky  \n22           clear sky  \n23           clear sky  \n24           clear sky  \n25           clear sky  \n26           clear sky  \n27           clear sky  \n28           clear sky  \n29           clear sky  \n30           clear sky  \n31           clear sky  \n32           clear sky  \n33           clear sky  \n34           clear sky  \n35           clear sky  \n36           clear sky  \n37           clear sky  \n38           clear sky  \n39           clear sky  \n40          few clouds  \n41           clear sky  \n42           clear sky  \n43           clear sky  \n44           clear sky  \n45           clear sky  \n46           clear sky  \n47     overcast clouds  ",
      "text/html": "<div>\n<style scoped>\n    .dataframe tbody tr th:only-of-type {\n        vertical-align: middle;\n    }\n\n    .dataframe tbody tr th {\n        vertical-align: top;\n    }\n\n    .dataframe thead th {\n        text-align: right;\n    }\n</style>\n<table border=\"1\" class=\"dataframe\">\n  <thead>\n    <tr style=\"text-align: right;\">\n      <th></th>\n      <th>Date_Time</th>\n      <th>Year</th>\n      <th>Month</th>\n      <th>Day</th>\n      <th>Hour</th>\n      <th>Temperature_F</th>\n      <th>Humidity_percent</th>\n      <th>Sunhour</th>\n      <th>CloudCover_percent</th>\n      <th>uvIndex</th>\n      <th>Weather_Description</th>\n    </tr>\n  </thead>\n  <tbody>\n    <tr>\n      <th>0</th>\n      <td>2020-11-01 14:00:00</td>\n      <td>2020</td>\n      <td>11</td>\n      <td>1</td>\n      <td>14</td>\n      <td>76.75</td>\n      <td>34</td>\n      <td>10.964444</td>\n      <td>75</td>\n      <td>5.49</td>\n      <td>broken clouds</td>\n    </tr>\n    <tr>\n      <th>1</th>\n      <td>2020-11-01 15:00:00</td>\n      <td>2020</td>\n      <td>11</td>\n      <td>1</td>\n      <td>15</td>\n      <td>75.54</td>\n      <td>37</td>\n      <td>10.964444</td>\n      <td>87</td>\n      <td>5.49</td>\n      <td>overcast clouds</td>\n    </tr>\n    <tr>\n      <th>2</th>\n      <td>2020-11-01 16:00:00</td>\n      <td>2020</td>\n      <td>11</td>\n      <td>1</td>\n      <td>16</td>\n      <td>73.99</td>\n      <td>40</td>\n      <td>10.964444</td>\n      <td>95</td>\n      <td>5.49</td>\n      <td>overcast clouds</td>\n    </tr>\n    <tr>\n      <th>3</th>\n      <td>2020-11-01 17:00:00</td>\n      <td>2020</td>\n      <td>11</td>\n      <td>1</td>\n      <td>17</td>\n      <td>70.83</td>\n      <td>43</td>\n      <td>10.964444</td>\n      <td>96</td>\n      <td>5.49</td>\n      <td>overcast clouds</td>\n    </tr>\n    <tr>\n      <th>4</th>\n      <td>2020-11-01 18:00:00</td>\n      <td>2020</td>\n      <td>11</td>\n      <td>1</td>\n      <td>18</td>\n      <td>65.34</td>\n      <td>49</td>\n      <td>10.964444</td>\n      <td>96</td>\n      <td>5.49</td>\n      <td>overcast clouds</td>\n    </tr>\n    <tr>\n      <th>5</th>\n      <td>2020-11-01 19:00:00</td>\n      <td>2020</td>\n      <td>11</td>\n      <td>1</td>\n      <td>19</td>\n      <td>61.93</td>\n      <td>52</td>\n      <td>10.964444</td>\n      <td>78</td>\n      <td>5.49</td>\n      <td>broken clouds</td>\n    </tr>\n    <tr>\n      <th>6</th>\n      <td>2020-11-01 20:00:00</td>\n      <td>2020</td>\n      <td>11</td>\n      <td>1</td>\n      <td>20</td>\n      <td>60.40</td>\n      <td>53</td>\n      <td>10.964444</td>\n      <td>90</td>\n      <td>5.49</td>\n      <td>overcast clouds</td>\n    </tr>\n    <tr>\n      <th>7</th>\n      <td>2020-11-01 21:00:00</td>\n      <td>2020</td>\n      <td>11</td>\n      <td>1</td>\n      <td>21</td>\n      <td>59.47</td>\n      <td>49</td>\n      <td>10.964444</td>\n      <td>93</td>\n      <td>5.49</td>\n      <td>overcast clouds</td>\n    </tr>\n    <tr>\n      <th>8</th>\n      <td>2020-11-01 22:00:00</td>\n      <td>2020</td>\n      <td>11</td>\n      <td>1</td>\n      <td>22</td>\n      <td>57.94</td>\n      <td>48</td>\n      <td>10.964444</td>\n      <td>94</td>\n      <td>5.49</td>\n      <td>overcast clouds</td>\n    </tr>\n    <tr>\n      <th>9</th>\n      <td>2020-11-01 23:00:00</td>\n      <td>2020</td>\n      <td>11</td>\n      <td>1</td>\n      <td>23</td>\n      <td>56.12</td>\n      <td>49</td>\n      <td>10.964444</td>\n      <td>95</td>\n      <td>5.49</td>\n      <td>overcast clouds</td>\n    </tr>\n    <tr>\n      <th>10</th>\n      <td>2020-11-02 00:00:00</td>\n      <td>2020</td>\n      <td>11</td>\n      <td>2</td>\n      <td>0</td>\n      <td>54.07</td>\n      <td>52</td>\n      <td>10.938056</td>\n      <td>96</td>\n      <td>5.12</td>\n      <td>overcast clouds</td>\n    </tr>\n    <tr>\n      <th>11</th>\n      <td>2020-11-02 01:00:00</td>\n      <td>2020</td>\n      <td>11</td>\n      <td>2</td>\n      <td>1</td>\n      <td>52.65</td>\n      <td>53</td>\n      <td>10.938056</td>\n      <td>100</td>\n      <td>5.12</td>\n      <td>overcast clouds</td>\n    </tr>\n    <tr>\n      <th>12</th>\n      <td>2020-11-02 02:00:00</td>\n      <td>2020</td>\n      <td>11</td>\n      <td>2</td>\n      <td>2</td>\n      <td>51.44</td>\n      <td>53</td>\n      <td>10.938056</td>\n      <td>100</td>\n      <td>5.12</td>\n      <td>overcast clouds</td>\n    </tr>\n    <tr>\n      <th>13</th>\n      <td>2020-11-02 03:00:00</td>\n      <td>2020</td>\n      <td>11</td>\n      <td>2</td>\n      <td>3</td>\n      <td>49.98</td>\n      <td>54</td>\n      <td>10.938056</td>\n      <td>88</td>\n      <td>5.12</td>\n      <td>overcast clouds</td>\n    </tr>\n    <tr>\n      <th>14</th>\n      <td>2020-11-02 04:00:00</td>\n      <td>2020</td>\n      <td>11</td>\n      <td>2</td>\n      <td>4</td>\n      <td>48.56</td>\n      <td>56</td>\n      <td>10.938056</td>\n      <td>71</td>\n      <td>5.12</td>\n      <td>broken clouds</td>\n    </tr>\n    <tr>\n      <th>15</th>\n      <td>2020-11-02 05:00:00</td>\n      <td>2020</td>\n      <td>11</td>\n      <td>2</td>\n      <td>5</td>\n      <td>47.59</td>\n      <td>58</td>\n      <td>10.938056</td>\n      <td>57</td>\n      <td>5.12</td>\n      <td>broken clouds</td>\n    </tr>\n    <tr>\n      <th>16</th>\n      <td>2020-11-02 06:00:00</td>\n      <td>2020</td>\n      <td>11</td>\n      <td>2</td>\n      <td>6</td>\n      <td>46.71</td>\n      <td>59</td>\n      <td>10.938056</td>\n      <td>50</td>\n      <td>5.12</td>\n      <td>scattered clouds</td>\n    </tr>\n    <tr>\n      <th>17</th>\n      <td>2020-11-02 07:00:00</td>\n      <td>2020</td>\n      <td>11</td>\n      <td>2</td>\n      <td>7</td>\n      <td>46.02</td>\n      <td>61</td>\n      <td>10.938056</td>\n      <td>13</td>\n      <td>5.12</td>\n      <td>few clouds</td>\n    </tr>\n    <tr>\n      <th>18</th>\n      <td>2020-11-02 08:00:00</td>\n      <td>2020</td>\n      <td>11</td>\n      <td>2</td>\n      <td>8</td>\n      <td>49.82</td>\n      <td>53</td>\n      <td>10.938056</td>\n      <td>17</td>\n      <td>5.12</td>\n      <td>few clouds</td>\n    </tr>\n    <tr>\n      <th>19</th>\n      <td>2020-11-02 09:00:00</td>\n      <td>2020</td>\n      <td>11</td>\n      <td>2</td>\n      <td>9</td>\n      <td>55.49</td>\n      <td>41</td>\n      <td>10.938056</td>\n      <td>11</td>\n      <td>5.12</td>\n      <td>few clouds</td>\n    </tr>\n    <tr>\n      <th>20</th>\n      <td>2020-11-02 10:00:00</td>\n      <td>2020</td>\n      <td>11</td>\n      <td>2</td>\n      <td>10</td>\n      <td>59.70</td>\n      <td>34</td>\n      <td>10.938056</td>\n      <td>9</td>\n      <td>5.12</td>\n      <td>clear sky</td>\n    </tr>\n    <tr>\n      <th>21</th>\n      <td>2020-11-02 11:00:00</td>\n      <td>2020</td>\n      <td>11</td>\n      <td>2</td>\n      <td>11</td>\n      <td>63.93</td>\n      <td>29</td>\n      <td>10.938056</td>\n      <td>6</td>\n      <td>5.12</td>\n      <td>clear sky</td>\n    </tr>\n    <tr>\n      <th>22</th>\n      <td>2020-11-02 12:00:00</td>\n      <td>2020</td>\n      <td>11</td>\n      <td>2</td>\n      <td>12</td>\n      <td>67.75</td>\n      <td>25</td>\n      <td>10.938056</td>\n      <td>6</td>\n      <td>5.12</td>\n      <td>clear sky</td>\n    </tr>\n    <tr>\n      <th>23</th>\n      <td>2020-11-02 13:00:00</td>\n      <td>2020</td>\n      <td>11</td>\n      <td>2</td>\n      <td>13</td>\n      <td>70.45</td>\n      <td>22</td>\n      <td>10.938056</td>\n      <td>0</td>\n      <td>5.12</td>\n      <td>clear sky</td>\n    </tr>\n    <tr>\n      <th>24</th>\n      <td>2020-11-02 14:00:00</td>\n      <td>2020</td>\n      <td>11</td>\n      <td>2</td>\n      <td>14</td>\n      <td>71.94</td>\n      <td>21</td>\n      <td>10.938056</td>\n      <td>0</td>\n      <td>5.12</td>\n      <td>clear sky</td>\n    </tr>\n    <tr>\n      <th>25</th>\n      <td>2020-11-02 15:00:00</td>\n      <td>2020</td>\n      <td>11</td>\n      <td>2</td>\n      <td>15</td>\n      <td>72.00</td>\n      <td>21</td>\n      <td>10.938056</td>\n      <td>0</td>\n      <td>5.12</td>\n      <td>clear sky</td>\n    </tr>\n    <tr>\n      <th>26</th>\n      <td>2020-11-02 16:00:00</td>\n      <td>2020</td>\n      <td>11</td>\n      <td>2</td>\n      <td>16</td>\n      <td>71.11</td>\n      <td>22</td>\n      <td>10.938056</td>\n      <td>0</td>\n      <td>5.12</td>\n      <td>clear sky</td>\n    </tr>\n    <tr>\n      <th>27</th>\n      <td>2020-11-02 17:00:00</td>\n      <td>2020</td>\n      <td>11</td>\n      <td>2</td>\n      <td>17</td>\n      <td>67.17</td>\n      <td>28</td>\n      <td>10.938056</td>\n      <td>0</td>\n      <td>5.12</td>\n      <td>clear sky</td>\n    </tr>\n    <tr>\n      <th>28</th>\n      <td>2020-11-02 18:00:00</td>\n      <td>2020</td>\n      <td>11</td>\n      <td>2</td>\n      <td>18</td>\n      <td>59.76</td>\n      <td>41</td>\n      <td>10.938056</td>\n      <td>0</td>\n      <td>5.12</td>\n      <td>clear sky</td>\n    </tr>\n    <tr>\n      <th>29</th>\n      <td>2020-11-02 19:00:00</td>\n      <td>2020</td>\n      <td>11</td>\n      <td>2</td>\n      <td>19</td>\n      <td>56.82</td>\n      <td>47</td>\n      <td>10.938056</td>\n      <td>0</td>\n      <td>5.12</td>\n      <td>clear sky</td>\n    </tr>\n    <tr>\n      <th>30</th>\n      <td>2020-11-02 20:00:00</td>\n      <td>2020</td>\n      <td>11</td>\n      <td>2</td>\n      <td>20</td>\n      <td>54.97</td>\n      <td>50</td>\n      <td>10.938056</td>\n      <td>0</td>\n      <td>5.12</td>\n      <td>clear sky</td>\n    </tr>\n    <tr>\n      <th>31</th>\n      <td>2020-11-02 21:00:00</td>\n      <td>2020</td>\n      <td>11</td>\n      <td>2</td>\n      <td>21</td>\n      <td>53.96</td>\n      <td>51</td>\n      <td>10.938056</td>\n      <td>0</td>\n      <td>5.12</td>\n      <td>clear sky</td>\n    </tr>\n    <tr>\n      <th>32</th>\n      <td>2020-11-02 22:00:00</td>\n      <td>2020</td>\n      <td>11</td>\n      <td>2</td>\n      <td>22</td>\n      <td>53.02</td>\n      <td>53</td>\n      <td>10.938056</td>\n      <td>0</td>\n      <td>5.12</td>\n      <td>clear sky</td>\n    </tr>\n    <tr>\n      <th>33</th>\n      <td>2020-11-02 23:00:00</td>\n      <td>2020</td>\n      <td>11</td>\n      <td>2</td>\n      <td>23</td>\n      <td>52.20</td>\n      <td>54</td>\n      <td>10.938056</td>\n      <td>0</td>\n      <td>5.12</td>\n      <td>clear sky</td>\n    </tr>\n    <tr>\n      <th>34</th>\n      <td>2020-11-03 00:00:00</td>\n      <td>2020</td>\n      <td>11</td>\n      <td>3</td>\n      <td>0</td>\n      <td>51.67</td>\n      <td>55</td>\n      <td>10.911944</td>\n      <td>0</td>\n      <td>5.19</td>\n      <td>clear sky</td>\n    </tr>\n    <tr>\n      <th>35</th>\n      <td>2020-11-03 01:00:00</td>\n      <td>2020</td>\n      <td>11</td>\n      <td>3</td>\n      <td>1</td>\n      <td>51.15</td>\n      <td>56</td>\n      <td>10.911944</td>\n      <td>0</td>\n      <td>5.19</td>\n      <td>clear sky</td>\n    </tr>\n    <tr>\n      <th>36</th>\n      <td>2020-11-03 02:00:00</td>\n      <td>2020</td>\n      <td>11</td>\n      <td>3</td>\n      <td>2</td>\n      <td>50.40</td>\n      <td>56</td>\n      <td>10.911944</td>\n      <td>0</td>\n      <td>5.19</td>\n      <td>clear sky</td>\n    </tr>\n    <tr>\n      <th>37</th>\n      <td>2020-11-03 03:00:00</td>\n      <td>2020</td>\n      <td>11</td>\n      <td>3</td>\n      <td>3</td>\n      <td>49.73</td>\n      <td>56</td>\n      <td>10.911944</td>\n      <td>0</td>\n      <td>5.19</td>\n      <td>clear sky</td>\n    </tr>\n    <tr>\n      <th>38</th>\n      <td>2020-11-03 04:00:00</td>\n      <td>2020</td>\n      <td>11</td>\n      <td>3</td>\n      <td>4</td>\n      <td>49.12</td>\n      <td>58</td>\n      <td>10.911944</td>\n      <td>0</td>\n      <td>5.19</td>\n      <td>clear sky</td>\n    </tr>\n    <tr>\n      <th>39</th>\n      <td>2020-11-03 05:00:00</td>\n      <td>2020</td>\n      <td>11</td>\n      <td>3</td>\n      <td>5</td>\n      <td>48.78</td>\n      <td>58</td>\n      <td>10.911944</td>\n      <td>8</td>\n      <td>5.19</td>\n      <td>clear sky</td>\n    </tr>\n    <tr>\n      <th>40</th>\n      <td>2020-11-03 06:00:00</td>\n      <td>2020</td>\n      <td>11</td>\n      <td>3</td>\n      <td>6</td>\n      <td>48.90</td>\n      <td>58</td>\n      <td>10.911944</td>\n      <td>23</td>\n      <td>5.19</td>\n      <td>few clouds</td>\n    </tr>\n    <tr>\n      <th>41</th>\n      <td>2020-11-03 07:00:00</td>\n      <td>2020</td>\n      <td>11</td>\n      <td>3</td>\n      <td>7</td>\n      <td>48.43</td>\n      <td>59</td>\n      <td>10.911944</td>\n      <td>0</td>\n      <td>5.19</td>\n      <td>clear sky</td>\n    </tr>\n    <tr>\n      <th>42</th>\n      <td>2020-11-03 08:00:00</td>\n      <td>2020</td>\n      <td>11</td>\n      <td>3</td>\n      <td>8</td>\n      <td>52.83</td>\n      <td>51</td>\n      <td>10.911944</td>\n      <td>0</td>\n      <td>5.19</td>\n      <td>clear sky</td>\n    </tr>\n    <tr>\n      <th>43</th>\n      <td>2020-11-03 09:00:00</td>\n      <td>2020</td>\n      <td>11</td>\n      <td>3</td>\n      <td>9</td>\n      <td>58.91</td>\n      <td>40</td>\n      <td>10.911944</td>\n      <td>0</td>\n      <td>5.19</td>\n      <td>clear sky</td>\n    </tr>\n    <tr>\n      <th>44</th>\n      <td>2020-11-03 10:00:00</td>\n      <td>2020</td>\n      <td>11</td>\n      <td>3</td>\n      <td>10</td>\n      <td>64.24</td>\n      <td>35</td>\n      <td>10.911944</td>\n      <td>0</td>\n      <td>5.19</td>\n      <td>clear sky</td>\n    </tr>\n    <tr>\n      <th>45</th>\n      <td>2020-11-03 11:00:00</td>\n      <td>2020</td>\n      <td>11</td>\n      <td>3</td>\n      <td>11</td>\n      <td>68.72</td>\n      <td>32</td>\n      <td>10.911944</td>\n      <td>4</td>\n      <td>5.19</td>\n      <td>clear sky</td>\n    </tr>\n    <tr>\n      <th>46</th>\n      <td>2020-11-03 12:00:00</td>\n      <td>2020</td>\n      <td>11</td>\n      <td>3</td>\n      <td>12</td>\n      <td>72.01</td>\n      <td>28</td>\n      <td>10.911944</td>\n      <td>10</td>\n      <td>5.19</td>\n      <td>clear sky</td>\n    </tr>\n    <tr>\n      <th>47</th>\n      <td>2020-11-03 13:00:00</td>\n      <td>2020</td>\n      <td>11</td>\n      <td>3</td>\n      <td>13</td>\n      <td>73.81</td>\n      <td>27</td>\n      <td>10.911944</td>\n      <td>98</td>\n      <td>5.19</td>\n      <td>overcast clouds</td>\n    </tr>\n  </tbody>\n</table>\n</div>"
     },
     "metadata": {},
     "execution_count": 38
    }
   ],
   "source": [
    "forecasted_weather_DF = pd.merge(hourly_weather_DF, daily_weather_DF, on='Day', how='inner')\n",
    "forecasted_weather_DF = forecasted_weather_DF[[\"Date_Time\", \"Year\", \"Month\", \"Day\", \"Hour\", \"Temperature_F\", \"Humidity_percent\", \"Sunhour\", \"CloudCover_percent\", \"uvIndex\", \"Weather_Description\"]]\n",
    "\n",
    "forecasted_weather_DF"
   ]
  },
  {
   "cell_type": "code",
   "execution_count": 39,
   "metadata": {},
   "outputs": [
    {
     "output_type": "execute_result",
     "data": {
      "text/plain": "Date_Time              datetime64[ns]\nYear                            int64\nMonth                           int64\nDay                             int64\nHour                            int64\nTemperature_F                 float64\nHumidity_percent                int64\nSunhour                       float64\nCloudCover_percent              int64\nuvIndex                       float64\nWeather_Description            object\ndtype: object"
     },
     "metadata": {},
     "execution_count": 39
    }
   ],
   "source": [
    "forecasted_weather_DF.dtypes"
   ]
  },
  {
   "cell_type": "markdown",
   "metadata": {},
   "source": [
    "# Hackberry Wind Farm\n",
    "# -------------------"
   ]
  },
  {
   "cell_type": "markdown",
   "metadata": {},
   "source": [
    "# Weather Descriptions\n",
    "# --------------------"
   ]
  },
  {
   "cell_type": "code",
   "execution_count": 40,
   "metadata": {},
   "outputs": [],
   "source": [
    "weather_description_list = [\n",
    "    # Clear\n",
    "    'Clear',\n",
    "    'Sunny',\n",
    "    # Clouds\n",
    "    'Partly cloudy', \n",
    "    'Cloudy', \n",
    "    'Overcast',\n",
    "    # Drizzle\n",
    "    'Freezing drizzle',\n",
    "    'Light drizzle', \n",
    "    'Patchy light drizzle',\n",
    "    # Snow\n",
    "    'Patchy moderate snow', \n",
    "    'Moderate snow', \n",
    "    'Light sleet',\n",
    "    'Light snow',  \n",
    "    'Heavy snow', \n",
    "    'Patchy heavy snow', \n",
    "    'Blowing snow',  \n",
    "    'Blizzard',\n",
    "    'Ice pellets', \n",
    "    'Patchy light snow', \n",
    "    # Rain\n",
    "    'Patchy rain possible',\n",
    "    'Light rain shower', \n",
    "    'Moderate or heavy rain shower',\n",
    "    'Moderate rain', \n",
    "    'Heavy rain', \n",
    "    'Light rain', \n",
    "    'Patchy light rain', \n",
    "    'Torrential rain shower',\n",
    "    'Moderate rain at times', \n",
    "    'Heavy rain at times', \n",
    "    'Moderate or heavy freezing rain',\n",
    "    # Thunderstorm\n",
    "    'Thundery outbreaks possible',\n",
    "    'Moderate or heavy rain with thunder',\n",
    "    'Patchy light rain with thunder', \n",
    "    # Atmosphere\n",
    "    'Mist',\n",
    "    'Fog']"
   ]
  },
  {
   "cell_type": "code",
   "execution_count": 41,
   "metadata": {},
   "outputs": [],
   "source": [
    "weather_condition_codes = [\n",
    "    # Thunderstorm\n",
    "    'thunderstorm with light rain',\n",
    "    'thunderstorm with rain',\n",
    "    'thunderstorm with heavy rain',\n",
    "    'light thunderstorm',\n",
    "    'thunderstorm',\n",
    "    'heavy thunderstorm',\n",
    "    'ragged thunderstorm',\n",
    "    'thunderstorm with light drizzle',\n",
    "    'thunderstorm with drizzle',\n",
    "    'thunderstorm with heavy drizzle',\n",
    "    # Drizzle\n",
    "    'light intensity drizzle',\n",
    "    'drizzle',\n",
    "    'heavy intensity drizzle',\n",
    "    'light intensity drizzle rain',\n",
    "    'drizzle rain',\n",
    "    'heavy intensity drizzle rain',\n",
    "    'shower rain and drizzle',\n",
    "    'heavy shower rain and drizzle',\n",
    "    'shower drizzle',\n",
    "    # Rain\n",
    "    'light rain',\n",
    "    'moderate rain',\n",
    "    'heavy intensity rain',\n",
    "    'very heavy rain',\n",
    "    'extreme rain',\n",
    "    'freezing rain',\n",
    "    'light intensity shower rain',\n",
    "    'shower rain',\n",
    "    'heavy intensity shower rain',\n",
    "    'ragged shower rain',\n",
    "    # Snow\n",
    "    'light snow',\n",
    "    'Snow',\n",
    "    'Heavy snow',\n",
    "    'Sleet',\n",
    "    'Light shower sleet',\n",
    "    'Shower sleet',\n",
    "    'Light rain and snow',\n",
    "    'Rain and snow',\n",
    "    'Light shower snow',\n",
    "    'Shower snow',\n",
    "    'Heavy shower snow',\n",
    "    # Atmosphere\n",
    "    'mist',\n",
    "    'Smoke',\n",
    "    'Haze',\n",
    "    'sand/ dust whirls',\n",
    "    'fog',\n",
    "    'sand',\n",
    "    'dust',\n",
    "    'volcanic ash',\n",
    "    'squalls',\n",
    "    'tornado',\n",
    "    # Clear\n",
    "    'clear sky',\n",
    "    # Clouds\n",
    "    'few clouds',\n",
    "    'scattered clouds',\n",
    "    'broken clouds',\n",
    "    'overcast clouds'   \n",
    "]"
   ]
  },
  {
   "cell_type": "code",
   "execution_count": 42,
   "metadata": {},
   "outputs": [],
   "source": [
    "weather_icons = [\n",
    "    \"clear sky\",\n",
    "    \"few clouds\",\n",
    "    \"scattered clouds\",\n",
    "    \"broken clouds\",\n",
    "    \"shower rain\",\n",
    "    \"rain\",\n",
    "    \"thunderstorm\",\n",
    "    \"snow\",\n",
    "    \"mist\"\n",
    "]"
   ]
  }
 ]
}