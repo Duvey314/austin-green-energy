{
 "cells": [
  {
   "cell_type": "code",
   "execution_count": 1,
   "metadata": {},
   "outputs": [],
   "source": [
    "# Initial Imports\n",
    "import requests\n",
    "import pandas as pd\n",
    "import json\n",
    "import numpy as np\n",
    "from datetime import datetime\n",
    "from datetime import timedelta"
   ]
  },
  {
   "cell_type": "code",
   "execution_count": 2,
   "metadata": {},
   "outputs": [],
   "source": [
    "# Import API Key\n",
    "from config import key\n",
    "\n",
    "# Documentation:\n",
    "#https://www.worldweatheronline.com/developer/my/analytics.aspx?key_id=222419"
   ]
  },
  {
   "cell_type": "code",
   "execution_count": 3,
   "metadata": {},
   "outputs": [],
   "source": [
    "# Make a request to the worldweatheronline local history weather API page\n",
    "def makeARequest(location, startDate, endDate, yourAPIKey):\n",
    "    baseURL = \"http://api.worldweatheronline.com/premium/v1/past-weather.ashx\"\n",
    "    timeInterval = \"1\"\n",
    "    outputFormatToReturn = \"json\"\n",
    "\n",
    "    requestURL = f\"{baseURL}?q={location}&date={startDate}&enddate={endDate}&tp={timeInterval}&format={outputFormatToReturn}&key={yourAPIKey}\"\n",
    "    \n",
    "    response = requests.get(requestURL)\n",
    "\n",
    "    if response.status_code == 200:\n",
    "        responseJson = response.json()\n",
    "        return responseJson\n",
    "    else:\n",
    "        return print(response.status_code)"
   ]
  },
  {
   "cell_type": "code",
   "execution_count": 4,
   "metadata": {},
   "outputs": [],
   "source": [
    "# Pull the wind variables from the responseJson \n",
    "def monthlyHistoricalWeather(firstDayOfMonth, lastDayOfMonth, jsonResponse):\n",
    "    \n",
    "    first = datetime.strptime(firstDayOfMonth, '%Y-%m-%d')\n",
    "    last = datetime.strptime(lastDayOfMonth, '%Y-%m-%d')\n",
    "    numberOfDays = last.day - first.day\n",
    "\n",
    "    HourlyHistoricalWeather = []\n",
    "    \n",
    "    for day in np.arange(0,numberOfDays + 1,1):\n",
    "        for hour in np.arange(0,24,1):\n",
    "            HourlyHistoricalWeather.append({\n",
    "                \"Date\" : jsonResponse[\"data\"][\"weather\"][day][\"date\"],\n",
    "                \"Time\" : jsonResponse[\"data\"][\"weather\"][day][\"hourly\"][hour][\"time\"],\n",
    "                \"temperature(F)\" : jsonResponse[\"data\"][\"weather\"][0][\"hourly\"][0][\"tempF\"],\n",
    "                \"cloudcover(%)\" : jsonResponse[\"data\"][\"weather\"][0][\"hourly\"][0][\"cloudcover\"],\n",
    "                \"uvIndex\" : jsonResponse[\"data\"][\"weather\"][0][\"hourly\"][0][\"uvIndex\"],\n",
    "                \"weatherDescription\" : jsonResponse[\"data\"][\"weather\"][0][\"hourly\"][0][\"weatherDesc\"][0][\"value\"],\n",
    "                \"humidity\" : jsonResponse[\"data\"][\"weather\"][0][\"hourly\"][0][\"humidity\"]\n",
    "            })\n",
    "\n",
    "    return HourlyHistoricalWeather"
   ]
  },
  {
   "cell_type": "code",
   "execution_count": 5,
   "metadata": {},
   "outputs": [],
   "source": [
    "\n",
    "# Store the variables in a DataFrame\n",
    "def monthlyHistoricalWeatherDF(month):\n",
    "    weatherDataFrame = pd.DataFrame(month)\n",
    "    return weatherDataFrame"
   ]
  },
  {
   "cell_type": "code",
   "execution_count": 6,
   "metadata": {},
   "outputs": [],
   "source": [
    "# Define the Latitude and longitude of Webberville Solar Farm\n",
    "    # Latitude: 30.238333\n",
    "    # Longitude: -97.508611\n",
    "latLong = \"30.238333,-97.508611\""
   ]
  },
  {
   "cell_type": "code",
   "execution_count": null,
   "metadata": {},
   "outputs": [],
   "source": [
    "# baseURL = \"http://api.worldweatheronline.com/premium/v1/past-weather.ashx\"\n",
    "# timeInterval = \"1\"\n",
    "# outputFormatToReturn = \"json\""
   ]
  },
  {
   "cell_type": "code",
   "execution_count": null,
   "metadata": {
    "tags": []
   },
   "outputs": [],
   "source": [
    "# January\n",
    "# startDate = \"2019-01-01\"\n",
    "# endDate = \"2019-01-31\"\n",
    "# location = \"30.238333,-97.508611\"\n",
    "\n",
    "# requestURL = f\"{baseURL}?q={location}&date={startDate}&enddate={endDate}&tp={timeInterval}&format={outputFormatToReturn}&key={key}\"\n",
    "# print(requestURL)"
   ]
  },
  {
   "cell_type": "code",
   "execution_count": 7,
   "metadata": {},
   "outputs": [
    {
     "output_type": "execute_result",
     "data": {
      "text/plain": "         Date Time temperature(F) cloudcover(%) uvIndex weatherDescription  \\\n0  2019-01-01    0             43             0       1              Clear   \n1  2019-01-01  100             43             0       1              Clear   \n2  2019-01-01  200             43             0       1              Clear   \n3  2019-01-01  300             43             0       1              Clear   \n4  2019-01-01  400             43             0       1              Clear   \n\n  humidity  \n0       88  \n1       88  \n2       88  \n3       88  \n4       88  ",
      "text/html": "<div>\n<style scoped>\n    .dataframe tbody tr th:only-of-type {\n        vertical-align: middle;\n    }\n\n    .dataframe tbody tr th {\n        vertical-align: top;\n    }\n\n    .dataframe thead th {\n        text-align: right;\n    }\n</style>\n<table border=\"1\" class=\"dataframe\">\n  <thead>\n    <tr style=\"text-align: right;\">\n      <th></th>\n      <th>Date</th>\n      <th>Time</th>\n      <th>temperature(F)</th>\n      <th>cloudcover(%)</th>\n      <th>uvIndex</th>\n      <th>weatherDescription</th>\n      <th>humidity</th>\n    </tr>\n  </thead>\n  <tbody>\n    <tr>\n      <th>0</th>\n      <td>2019-01-01</td>\n      <td>0</td>\n      <td>43</td>\n      <td>0</td>\n      <td>1</td>\n      <td>Clear</td>\n      <td>88</td>\n    </tr>\n    <tr>\n      <th>1</th>\n      <td>2019-01-01</td>\n      <td>100</td>\n      <td>43</td>\n      <td>0</td>\n      <td>1</td>\n      <td>Clear</td>\n      <td>88</td>\n    </tr>\n    <tr>\n      <th>2</th>\n      <td>2019-01-01</td>\n      <td>200</td>\n      <td>43</td>\n      <td>0</td>\n      <td>1</td>\n      <td>Clear</td>\n      <td>88</td>\n    </tr>\n    <tr>\n      <th>3</th>\n      <td>2019-01-01</td>\n      <td>300</td>\n      <td>43</td>\n      <td>0</td>\n      <td>1</td>\n      <td>Clear</td>\n      <td>88</td>\n    </tr>\n    <tr>\n      <th>4</th>\n      <td>2019-01-01</td>\n      <td>400</td>\n      <td>43</td>\n      <td>0</td>\n      <td>1</td>\n      <td>Clear</td>\n      <td>88</td>\n    </tr>\n  </tbody>\n</table>\n</div>"
     },
     "metadata": {},
     "execution_count": 7
    }
   ],
   "source": [
    "# January\n",
    "date = \"2019-01-01\"\n",
    "enddate = \"2019-01-31\"\n",
    "\n",
    "responseJson = makeARequest(latLong, date, enddate, key)\n",
    "\n",
    "January = monthlyHistoricalWeather(date, enddate, responseJson)\n",
    "JanuaryDF = monthlyHistoricalWeatherDF(January)\n",
    "JanuaryDF.head()"
   ]
  },
  {
   "cell_type": "code",
   "execution_count": null,
   "metadata": {},
   "outputs": [],
   "source": [
    "# responseJson[\"data\"][\"weather\"][0][\"hourly\"][0][\"tempF\"]"
   ]
  },
  {
   "cell_type": "code",
   "execution_count": null,
   "metadata": {},
   "outputs": [],
   "source": [
    "# responseJson[\"data\"][\"weather\"][0][\"hourly\"][0][\"cloudcover\"]"
   ]
  },
  {
   "cell_type": "code",
   "execution_count": null,
   "metadata": {},
   "outputs": [],
   "source": [
    "# responseJson[\"data\"][\"weather\"][0][\"hourly\"][0][\"uvIndex\"]"
   ]
  },
  {
   "cell_type": "code",
   "execution_count": null,
   "metadata": {},
   "outputs": [],
   "source": [
    "# responseJson[\"data\"][\"weather\"][0][\"hourly\"][0][\"weatherDesc\"][0][\"value\"]"
   ]
  },
  {
   "cell_type": "code",
   "execution_count": null,
   "metadata": {},
   "outputs": [],
   "source": [
    "# responseJson[\"data\"][\"weather\"][0][\"hourly\"][0][\"humidity\"]"
   ]
  },
  {
   "cell_type": "code",
   "execution_count": 8,
   "metadata": {},
   "outputs": [],
   "source": [
    "# February\n",
    "date = \"2019-02-01\"\n",
    "enddate = \"2019-02-28\"\n",
    "\n",
    "responseJson = makeARequest(latLong, date, enddate, key)\n",
    "\n",
    "February = monthlyHistoricalWeather(date, enddate, responseJson)\n",
    "FebruaryDF = monthlyHistoricalWeatherDF(February)"
   ]
  },
  {
   "cell_type": "code",
   "execution_count": 9,
   "metadata": {},
   "outputs": [],
   "source": [
    "# March\n",
    "date = \"2019-03-01\"\n",
    "enddate = \"2019-03-31\"\n",
    "\n",
    "responseJson = makeARequest(latLong, date, enddate, key)\n",
    "\n",
    "March = monthlyHistoricalWeather(date, enddate, responseJson)\n",
    "MarchDF = monthlyHistoricalWeatherDF(March)"
   ]
  },
  {
   "cell_type": "code",
   "execution_count": 10,
   "metadata": {},
   "outputs": [],
   "source": [
    "# April\n",
    "date = \"2019-04-01\"\n",
    "enddate = \"2019-04-30\"\n",
    "\n",
    "responseJson = makeARequest(latLong, date, enddate, key)\n",
    "\n",
    "April = monthlyHistoricalWeather(date, enddate, responseJson)\n",
    "AprilDF = monthlyHistoricalWeatherDF(April)"
   ]
  },
  {
   "cell_type": "code",
   "execution_count": 11,
   "metadata": {},
   "outputs": [],
   "source": [
    "# May\n",
    "date = \"2019-05-01\"\n",
    "enddate = \"2019-05-31\"\n",
    "\n",
    "responseJson = makeARequest(latLong, date, enddate, key)\n",
    "\n",
    "May = monthlyHistoricalWeather(date, enddate, responseJson)\n",
    "MayDF = monthlyHistoricalWeatherDF(May)"
   ]
  },
  {
   "cell_type": "code",
   "execution_count": 12,
   "metadata": {},
   "outputs": [],
   "source": [
    "# June\n",
    "date = \"2019-06-01\"\n",
    "enddate = \"2019-06-30\"\n",
    "\n",
    "responseJson = makeARequest(latLong, date, enddate, key)\n",
    "\n",
    "June = monthlyHistoricalWeather(date, enddate, responseJson)\n",
    "JuneDF = monthlyHistoricalWeatherDF(June)"
   ]
  },
  {
   "cell_type": "code",
   "execution_count": 13,
   "metadata": {},
   "outputs": [],
   "source": [
    "# July\n",
    "date = \"2019-07-01\"\n",
    "enddate = \"2019-07-31\"\n",
    "\n",
    "responseJson = makeARequest(latLong, date, enddate, key)\n",
    "\n",
    "July = monthlyHistoricalWeather(date, enddate, responseJson)\n",
    "JulyDF = monthlyHistoricalWeatherDF(July)"
   ]
  },
  {
   "cell_type": "code",
   "execution_count": null,
   "metadata": {},
   "outputs": [],
   "source": [
    "# JulyDF"
   ]
  },
  {
   "cell_type": "code",
   "execution_count": null,
   "metadata": {},
   "outputs": [],
   "source": [
    "# responseJson"
   ]
  },
  {
   "cell_type": "code",
   "execution_count": 14,
   "metadata": {},
   "outputs": [],
   "source": [
    "# August\n",
    "date = \"2019-08-01\"\n",
    "enddate = \"2019-08-31\"\n",
    "\n",
    "responseJson = makeARequest(latLong, date, enddate, key)\n",
    "\n",
    "August = monthlyHistoricalWeather(date, enddate, responseJson)\n",
    "AugustDF = monthlyHistoricalWeatherDF(August)"
   ]
  },
  {
   "cell_type": "code",
   "execution_count": null,
   "metadata": {},
   "outputs": [],
   "source": [
    "# responseJson"
   ]
  },
  {
   "cell_type": "code",
   "execution_count": 15,
   "metadata": {},
   "outputs": [],
   "source": [
    "# September\n",
    "date = \"2019-09-01\"\n",
    "enddate = \"2019-09-30\"\n",
    "\n",
    "responseJson = makeARequest(latLong, date, enddate, key)\n",
    "\n",
    "September = monthlyHistoricalWeather(date, enddate, responseJson)\n",
    "SeptemberDF = monthlyHistoricalWeatherDF(September)"
   ]
  },
  {
   "cell_type": "code",
   "execution_count": null,
   "metadata": {},
   "outputs": [],
   "source": [
    "# SeptemberDF"
   ]
  },
  {
   "cell_type": "code",
   "execution_count": 16,
   "metadata": {},
   "outputs": [],
   "source": [
    "# October\n",
    "date = \"2019-10-01\"\n",
    "enddate = \"2019-10-31\"\n",
    "\n",
    "responseJson = makeARequest(latLong, date, enddate, key)\n",
    "\n",
    "October = monthlyHistoricalWeather(date, enddate, responseJson)\n",
    "OctoberDF = monthlyHistoricalWeatherDF(October)"
   ]
  },
  {
   "cell_type": "code",
   "execution_count": 17,
   "metadata": {},
   "outputs": [],
   "source": [
    "# November\n",
    "date = \"2019-11-01\"\n",
    "enddate = \"2019-11-30\"\n",
    "\n",
    "responseJson = makeARequest(latLong, date, enddate, key)\n",
    "\n",
    "November = monthlyHistoricalWeather(date, enddate, responseJson)\n",
    "NovemberDF = monthlyHistoricalWeatherDF(November)"
   ]
  },
  {
   "cell_type": "code",
   "execution_count": 18,
   "metadata": {},
   "outputs": [],
   "source": [
    "# December\n",
    "date = \"2019-12-01\"\n",
    "enddate = \"2019-12-31\"\n",
    "\n",
    "responseJson = makeARequest(latLong, date, enddate, key)\n",
    "\n",
    "December = monthlyHistoricalWeather(date, enddate, responseJson)\n",
    "DecemberDF = monthlyHistoricalWeatherDF(December)"
   ]
  },
  {
   "cell_type": "code",
   "execution_count": 19,
   "metadata": {},
   "outputs": [],
   "source": [
    "# January\n",
    "date = \"2020-01-01\"\n",
    "enddate = \"2020-01-31\"\n",
    "\n",
    "responseJson = makeARequest(latLong, date, enddate, key)\n",
    "\n",
    "Jan2020 = monthlyHistoricalWeather(date, enddate, responseJson)\n",
    "Jan2020DF = monthlyHistoricalWeatherDF(Jan2020)"
   ]
  },
  {
   "cell_type": "code",
   "execution_count": 20,
   "metadata": {},
   "outputs": [],
   "source": [
    "# February\n",
    "date = \"2020-02-01\"\n",
    "enddate = \"2020-02-29\"\n",
    "\n",
    "responseJson = makeARequest(latLong, date, enddate, key)\n",
    "\n",
    "Feb2020 = monthlyHistoricalWeather(date, enddate, responseJson)\n",
    "Feb2020DF = monthlyHistoricalWeatherDF(Feb2020)"
   ]
  },
  {
   "cell_type": "code",
   "execution_count": 21,
   "metadata": {},
   "outputs": [],
   "source": [
    "# March\n",
    "date = \"2020-03-01\"\n",
    "enddate = \"2020-03-31\"\n",
    "\n",
    "responseJson = makeARequest(latLong, date, enddate, key)\n",
    "\n",
    "March2020 = monthlyHistoricalWeather(date, enddate, responseJson)\n",
    "March2020DF = monthlyHistoricalWeatherDF(March2020)"
   ]
  },
  {
   "cell_type": "code",
   "execution_count": 22,
   "metadata": {},
   "outputs": [],
   "source": [
    "# April\n",
    "date = \"2020-04-01\"\n",
    "enddate = \"2020-04-30\"\n",
    "\n",
    "responseJson = makeARequest(latLong, date, enddate, key)\n",
    "\n",
    "April2020 = monthlyHistoricalWeather(date, enddate, responseJson)\n",
    "April2020DF = monthlyHistoricalWeatherDF(April2020)"
   ]
  },
  {
   "cell_type": "code",
   "execution_count": 23,
   "metadata": {},
   "outputs": [],
   "source": [
    "# May\n",
    "date = \"2020-05-01\"\n",
    "enddate = \"2020-05-31\"\n",
    "\n",
    "responseJson = makeARequest(latLong, date, enddate, key)\n",
    "\n",
    "May2020 = monthlyHistoricalWeather(date, enddate, responseJson)\n",
    "May2020DF = monthlyHistoricalWeatherDF(May2020)"
   ]
  },
  {
   "cell_type": "code",
   "execution_count": 24,
   "metadata": {},
   "outputs": [],
   "source": [
    "# June\n",
    "date = \"2020-06-01\"\n",
    "enddate = \"2020-06-30\"\n",
    "\n",
    "responseJson = makeARequest(latLong, date, enddate, key)\n",
    "\n",
    "June2020 = monthlyHistoricalWeather(date, enddate, responseJson)\n",
    "June2020DF = monthlyHistoricalWeatherDF(June2020)"
   ]
  },
  {
   "cell_type": "code",
   "execution_count": 76,
   "metadata": {},
   "outputs": [],
   "source": [
    "# July\n",
    "date = \"2020-07-01\"\n",
    "enddate = \"2020-07-31\"\n",
    "\n",
    "responseJson = makeARequest(latLong, date, enddate, key)\n",
    "\n",
    "July2020 = monthlyHistoricalWeather(date, enddate, responseJson)\n",
    "July2020DF = monthlyHistoricalWeatherDF(July2020)"
   ]
  },
  {
   "cell_type": "code",
   "execution_count": 86,
   "metadata": {},
   "outputs": [
    {
     "output_type": "execute_result",
     "data": {
      "text/plain": "             Date  Time temperature(F) cloudcover(%) uvIndex  \\\n0      2019-01-01     0             43             0       1   \n1      2019-01-01   100             43             0       1   \n2      2019-01-01   200             43             0       1   \n3      2019-01-01   300             43             0       1   \n4      2019-01-01   400             43             0       1   \n...           ...   ...            ...           ...     ...   \n13867  2020-07-31  1900             79            73       1   \n13868  2020-07-31  2000             79            73       1   \n13869  2020-07-31  2100             79            73       1   \n13870  2020-07-31  2200             79            73       1   \n13871  2020-07-31  2300             79            73       1   \n\n      weatherDescription humidity  \n0                  Clear       88  \n1                  Clear       88  \n2                  Clear       88  \n3                  Clear       88  \n4                  Clear       88  \n...                  ...      ...  \n13867      Partly cloudy       89  \n13868      Partly cloudy       89  \n13869      Partly cloudy       89  \n13870      Partly cloudy       89  \n13871      Partly cloudy       89  \n\n[13872 rows x 7 columns]",
      "text/html": "<div>\n<style scoped>\n    .dataframe tbody tr th:only-of-type {\n        vertical-align: middle;\n    }\n\n    .dataframe tbody tr th {\n        vertical-align: top;\n    }\n\n    .dataframe thead th {\n        text-align: right;\n    }\n</style>\n<table border=\"1\" class=\"dataframe\">\n  <thead>\n    <tr style=\"text-align: right;\">\n      <th></th>\n      <th>Date</th>\n      <th>Time</th>\n      <th>temperature(F)</th>\n      <th>cloudcover(%)</th>\n      <th>uvIndex</th>\n      <th>weatherDescription</th>\n      <th>humidity</th>\n    </tr>\n  </thead>\n  <tbody>\n    <tr>\n      <th>0</th>\n      <td>2019-01-01</td>\n      <td>0</td>\n      <td>43</td>\n      <td>0</td>\n      <td>1</td>\n      <td>Clear</td>\n      <td>88</td>\n    </tr>\n    <tr>\n      <th>1</th>\n      <td>2019-01-01</td>\n      <td>100</td>\n      <td>43</td>\n      <td>0</td>\n      <td>1</td>\n      <td>Clear</td>\n      <td>88</td>\n    </tr>\n    <tr>\n      <th>2</th>\n      <td>2019-01-01</td>\n      <td>200</td>\n      <td>43</td>\n      <td>0</td>\n      <td>1</td>\n      <td>Clear</td>\n      <td>88</td>\n    </tr>\n    <tr>\n      <th>3</th>\n      <td>2019-01-01</td>\n      <td>300</td>\n      <td>43</td>\n      <td>0</td>\n      <td>1</td>\n      <td>Clear</td>\n      <td>88</td>\n    </tr>\n    <tr>\n      <th>4</th>\n      <td>2019-01-01</td>\n      <td>400</td>\n      <td>43</td>\n      <td>0</td>\n      <td>1</td>\n      <td>Clear</td>\n      <td>88</td>\n    </tr>\n    <tr>\n      <th>...</th>\n      <td>...</td>\n      <td>...</td>\n      <td>...</td>\n      <td>...</td>\n      <td>...</td>\n      <td>...</td>\n      <td>...</td>\n    </tr>\n    <tr>\n      <th>13867</th>\n      <td>2020-07-31</td>\n      <td>1900</td>\n      <td>79</td>\n      <td>73</td>\n      <td>1</td>\n      <td>Partly cloudy</td>\n      <td>89</td>\n    </tr>\n    <tr>\n      <th>13868</th>\n      <td>2020-07-31</td>\n      <td>2000</td>\n      <td>79</td>\n      <td>73</td>\n      <td>1</td>\n      <td>Partly cloudy</td>\n      <td>89</td>\n    </tr>\n    <tr>\n      <th>13869</th>\n      <td>2020-07-31</td>\n      <td>2100</td>\n      <td>79</td>\n      <td>73</td>\n      <td>1</td>\n      <td>Partly cloudy</td>\n      <td>89</td>\n    </tr>\n    <tr>\n      <th>13870</th>\n      <td>2020-07-31</td>\n      <td>2200</td>\n      <td>79</td>\n      <td>73</td>\n      <td>1</td>\n      <td>Partly cloudy</td>\n      <td>89</td>\n    </tr>\n    <tr>\n      <th>13871</th>\n      <td>2020-07-31</td>\n      <td>2300</td>\n      <td>79</td>\n      <td>73</td>\n      <td>1</td>\n      <td>Partly cloudy</td>\n      <td>89</td>\n    </tr>\n  </tbody>\n</table>\n<p>13872 rows × 7 columns</p>\n</div>"
     },
     "metadata": {},
     "execution_count": 86
    }
   ],
   "source": [
    "# Combine each month into a single DataFrame\n",
    "#hourlyWeatherDF2019 = JanuaryDF.append([FebruaryDF, MarchDF, AprilDF, MayDF, JuneDF, JulyDF, AugustDF, SeptemberDF, OctoberDF, NovemberDF, DecemberDF]) \n",
    "hourlyWeatherDF = JanuaryDF.append([FebruaryDF, MarchDF, AprilDF, MayDF, JuneDF, JulyDF, AugustDF, SeptemberDF, OctoberDF, NovemberDF, DecemberDF, Jan2020DF, Feb2020DF, March2020DF, April2020DF, May2020DF, June2020DF, July2020DF]) \n",
    "index = np.arange(0,24*578,1)\n",
    "hourlyWeatherDF = hourlyWeatherDF.set_index(index)\n",
    "hourlyWeatherDF"
   ]
  },
  {
   "cell_type": "code",
   "execution_count": 75,
   "metadata": {},
   "outputs": [
    {
     "output_type": "execute_result",
     "data": {
      "text/plain": "           Date  Time temperature(F) cloudcover(%) uvIndex  \\\n0    2019-07-01     0             74            85       1   \n1    2019-07-01   100             74            85       1   \n2    2019-07-01   200             74            85       1   \n3    2019-07-01   300             74            85       1   \n4    2019-07-01   400             74            85       1   \n..          ...   ...            ...           ...     ...   \n739  2019-07-31  1900             74            85       1   \n740  2019-07-31  2000             74            85       1   \n741  2019-07-31  2100             74            85       1   \n742  2019-07-31  2200             74            85       1   \n743  2019-07-31  2300             74            85       1   \n\n       weatherDescription humidity  \n0    Patchy rain possible       77  \n1    Patchy rain possible       77  \n2    Patchy rain possible       77  \n3    Patchy rain possible       77  \n4    Patchy rain possible       77  \n..                    ...      ...  \n739  Patchy rain possible       77  \n740  Patchy rain possible       77  \n741  Patchy rain possible       77  \n742  Patchy rain possible       77  \n743  Patchy rain possible       77  \n\n[744 rows x 7 columns]",
      "text/html": "<div>\n<style scoped>\n    .dataframe tbody tr th:only-of-type {\n        vertical-align: middle;\n    }\n\n    .dataframe tbody tr th {\n        vertical-align: top;\n    }\n\n    .dataframe thead th {\n        text-align: right;\n    }\n</style>\n<table border=\"1\" class=\"dataframe\">\n  <thead>\n    <tr style=\"text-align: right;\">\n      <th></th>\n      <th>Date</th>\n      <th>Time</th>\n      <th>temperature(F)</th>\n      <th>cloudcover(%)</th>\n      <th>uvIndex</th>\n      <th>weatherDescription</th>\n      <th>humidity</th>\n    </tr>\n  </thead>\n  <tbody>\n    <tr>\n      <th>0</th>\n      <td>2019-07-01</td>\n      <td>0</td>\n      <td>74</td>\n      <td>85</td>\n      <td>1</td>\n      <td>Patchy rain possible</td>\n      <td>77</td>\n    </tr>\n    <tr>\n      <th>1</th>\n      <td>2019-07-01</td>\n      <td>100</td>\n      <td>74</td>\n      <td>85</td>\n      <td>1</td>\n      <td>Patchy rain possible</td>\n      <td>77</td>\n    </tr>\n    <tr>\n      <th>2</th>\n      <td>2019-07-01</td>\n      <td>200</td>\n      <td>74</td>\n      <td>85</td>\n      <td>1</td>\n      <td>Patchy rain possible</td>\n      <td>77</td>\n    </tr>\n    <tr>\n      <th>3</th>\n      <td>2019-07-01</td>\n      <td>300</td>\n      <td>74</td>\n      <td>85</td>\n      <td>1</td>\n      <td>Patchy rain possible</td>\n      <td>77</td>\n    </tr>\n    <tr>\n      <th>4</th>\n      <td>2019-07-01</td>\n      <td>400</td>\n      <td>74</td>\n      <td>85</td>\n      <td>1</td>\n      <td>Patchy rain possible</td>\n      <td>77</td>\n    </tr>\n    <tr>\n      <th>...</th>\n      <td>...</td>\n      <td>...</td>\n      <td>...</td>\n      <td>...</td>\n      <td>...</td>\n      <td>...</td>\n      <td>...</td>\n    </tr>\n    <tr>\n      <th>739</th>\n      <td>2019-07-31</td>\n      <td>1900</td>\n      <td>74</td>\n      <td>85</td>\n      <td>1</td>\n      <td>Patchy rain possible</td>\n      <td>77</td>\n    </tr>\n    <tr>\n      <th>740</th>\n      <td>2019-07-31</td>\n      <td>2000</td>\n      <td>74</td>\n      <td>85</td>\n      <td>1</td>\n      <td>Patchy rain possible</td>\n      <td>77</td>\n    </tr>\n    <tr>\n      <th>741</th>\n      <td>2019-07-31</td>\n      <td>2100</td>\n      <td>74</td>\n      <td>85</td>\n      <td>1</td>\n      <td>Patchy rain possible</td>\n      <td>77</td>\n    </tr>\n    <tr>\n      <th>742</th>\n      <td>2019-07-31</td>\n      <td>2200</td>\n      <td>74</td>\n      <td>85</td>\n      <td>1</td>\n      <td>Patchy rain possible</td>\n      <td>77</td>\n    </tr>\n    <tr>\n      <th>743</th>\n      <td>2019-07-31</td>\n      <td>2300</td>\n      <td>74</td>\n      <td>85</td>\n      <td>1</td>\n      <td>Patchy rain possible</td>\n      <td>77</td>\n    </tr>\n  </tbody>\n</table>\n<p>744 rows × 7 columns</p>\n</div>"
     },
     "metadata": {},
     "execution_count": 75
    }
   ],
   "source": [
    "# July2020DF"
   ]
  },
  {
   "cell_type": "code",
   "execution_count": 38,
   "metadata": {},
   "outputs": [
    {
     "output_type": "execute_result",
     "data": {
      "text/plain": "Date                  object\nTime                  object\ntemperature(F)        object\ncloudcover(%)         object\nuvIndex               object\nweatherDescription    object\nhumidity              object\ndtype: object"
     },
     "metadata": {},
     "execution_count": 38
    }
   ],
   "source": [
    "hourlyWeatherDF.dtypes"
   ]
  },
  {
   "cell_type": "markdown",
   "metadata": {},
   "source": [
    "# Performing ETL on Solar Data"
   ]
  },
  {
   "cell_type": "code",
   "execution_count": 39,
   "metadata": {},
   "outputs": [],
   "source": [
    "def cleaningDataFrame_datetime(df):\n",
    "    df['Date'] = pd.to_datetime(df['Date'])\n",
    "    df['Time'] = df['Time'].astype(int)\n",
    "    df['Time'] = (df['Time']/100).astype(int)\n",
    "    df['Time'] = df['Time'].astype('timedelta64[h]')\n",
    "    df['Time'] = df['Time'] - pd.to_timedelta(df['Time'].dt.days, unit='d')\n",
    "    df['Date_Time'] = df['Date'] + df['Time']\n",
    "    df = df.drop(['Time', 'Date'], 1)\n",
    "    return df"
   ]
  },
  {
   "cell_type": "code",
   "execution_count": null,
   "metadata": {},
   "outputs": [],
   "source": [
    "# def cleaningDataFrame_wind(df):\n",
    "#     df.rename(columns = {'WindSpeed(mph)':'WindSpeed_mph', 'WindDirection(Degrees)':'WindDirection_degrees',   'WindDirection(Compass)':'WindDirection_compass', 'WindGust(mph)':'WindGust_mph'}, inplace = True)\n",
    "#     df['WindSpeed_mph'] = df['WindSpeed_mph'].astype(int)\n",
    "#     df['WindDirection_degrees'] = df['WindDirection_degrees'].astype(int)\n",
    "#     df['WindGust_mph'] = df['WindGust_mph'].astype(int)\n",
    "#     df = df.drop(df.index[0])\n",
    "#     return df"
   ]
  },
  {
   "cell_type": "code",
   "execution_count": 40,
   "metadata": {},
   "outputs": [],
   "source": [
    "def cleaningDataFrame_solar(df):\n",
    "    df.rename(columns = {'temperature(F)':'temperature_F', 'cloudcover(%)':'cloudcover_percentage'}, inplace = True)\n",
    "    df['temperature_F'] = df['temperature_F'].astype(int)\n",
    "    df['cloudcover_percentage'] = df['cloudcover_percentage'].astype(int)\n",
    "    df['uvIndex'] = df['uvIndex'].astype(int)\n",
    "    df['weatherDescription'] = df['weatherDescription'].astype(str)\n",
    "    df['humidity'] = df['humidity'].astype(int)\n",
    "    df = df.drop(df.index[0])\n",
    "    return df"
   ]
  },
  {
   "cell_type": "code",
   "execution_count": 87,
   "metadata": {},
   "outputs": [
    {
     "output_type": "execute_result",
     "data": {
      "text/plain": "  temperature(F) cloudcover(%) uvIndex weatherDescription humidity  \\\n0             43             0       1              Clear       88   \n1             43             0       1              Clear       88   \n2             43             0       1              Clear       88   \n3             43             0       1              Clear       88   \n4             43             0       1              Clear       88   \n\n            Date_Time  \n0 2019-01-01 00:00:00  \n1 2019-01-01 01:00:00  \n2 2019-01-01 02:00:00  \n3 2019-01-01 03:00:00  \n4 2019-01-01 04:00:00  ",
      "text/html": "<div>\n<style scoped>\n    .dataframe tbody tr th:only-of-type {\n        vertical-align: middle;\n    }\n\n    .dataframe tbody tr th {\n        vertical-align: top;\n    }\n\n    .dataframe thead th {\n        text-align: right;\n    }\n</style>\n<table border=\"1\" class=\"dataframe\">\n  <thead>\n    <tr style=\"text-align: right;\">\n      <th></th>\n      <th>temperature(F)</th>\n      <th>cloudcover(%)</th>\n      <th>uvIndex</th>\n      <th>weatherDescription</th>\n      <th>humidity</th>\n      <th>Date_Time</th>\n    </tr>\n  </thead>\n  <tbody>\n    <tr>\n      <th>0</th>\n      <td>43</td>\n      <td>0</td>\n      <td>1</td>\n      <td>Clear</td>\n      <td>88</td>\n      <td>2019-01-01 00:00:00</td>\n    </tr>\n    <tr>\n      <th>1</th>\n      <td>43</td>\n      <td>0</td>\n      <td>1</td>\n      <td>Clear</td>\n      <td>88</td>\n      <td>2019-01-01 01:00:00</td>\n    </tr>\n    <tr>\n      <th>2</th>\n      <td>43</td>\n      <td>0</td>\n      <td>1</td>\n      <td>Clear</td>\n      <td>88</td>\n      <td>2019-01-01 02:00:00</td>\n    </tr>\n    <tr>\n      <th>3</th>\n      <td>43</td>\n      <td>0</td>\n      <td>1</td>\n      <td>Clear</td>\n      <td>88</td>\n      <td>2019-01-01 03:00:00</td>\n    </tr>\n    <tr>\n      <th>4</th>\n      <td>43</td>\n      <td>0</td>\n      <td>1</td>\n      <td>Clear</td>\n      <td>88</td>\n      <td>2019-01-01 04:00:00</td>\n    </tr>\n  </tbody>\n</table>\n</div>"
     },
     "metadata": {},
     "execution_count": 87
    }
   ],
   "source": [
    "cleanDF = cleaningDataFrame_datetime(hourlyWeatherDF)\n",
    "cleanDF.head()"
   ]
  },
  {
   "cell_type": "code",
   "execution_count": 88,
   "metadata": {},
   "outputs": [
    {
     "output_type": "execute_result",
     "data": {
      "text/plain": "   temperature_F  cloudcover_percentage  uvIndex weatherDescription  humidity  \\\n1             43                      0        1              Clear        88   \n2             43                      0        1              Clear        88   \n3             43                      0        1              Clear        88   \n4             43                      0        1              Clear        88   \n5             43                      0        1              Clear        88   \n\n            Date_Time  \n1 2019-01-01 01:00:00  \n2 2019-01-01 02:00:00  \n3 2019-01-01 03:00:00  \n4 2019-01-01 04:00:00  \n5 2019-01-01 05:00:00  ",
      "text/html": "<div>\n<style scoped>\n    .dataframe tbody tr th:only-of-type {\n        vertical-align: middle;\n    }\n\n    .dataframe tbody tr th {\n        vertical-align: top;\n    }\n\n    .dataframe thead th {\n        text-align: right;\n    }\n</style>\n<table border=\"1\" class=\"dataframe\">\n  <thead>\n    <tr style=\"text-align: right;\">\n      <th></th>\n      <th>temperature_F</th>\n      <th>cloudcover_percentage</th>\n      <th>uvIndex</th>\n      <th>weatherDescription</th>\n      <th>humidity</th>\n      <th>Date_Time</th>\n    </tr>\n  </thead>\n  <tbody>\n    <tr>\n      <th>1</th>\n      <td>43</td>\n      <td>0</td>\n      <td>1</td>\n      <td>Clear</td>\n      <td>88</td>\n      <td>2019-01-01 01:00:00</td>\n    </tr>\n    <tr>\n      <th>2</th>\n      <td>43</td>\n      <td>0</td>\n      <td>1</td>\n      <td>Clear</td>\n      <td>88</td>\n      <td>2019-01-01 02:00:00</td>\n    </tr>\n    <tr>\n      <th>3</th>\n      <td>43</td>\n      <td>0</td>\n      <td>1</td>\n      <td>Clear</td>\n      <td>88</td>\n      <td>2019-01-01 03:00:00</td>\n    </tr>\n    <tr>\n      <th>4</th>\n      <td>43</td>\n      <td>0</td>\n      <td>1</td>\n      <td>Clear</td>\n      <td>88</td>\n      <td>2019-01-01 04:00:00</td>\n    </tr>\n    <tr>\n      <th>5</th>\n      <td>43</td>\n      <td>0</td>\n      <td>1</td>\n      <td>Clear</td>\n      <td>88</td>\n      <td>2019-01-01 05:00:00</td>\n    </tr>\n  </tbody>\n</table>\n</div>"
     },
     "metadata": {},
     "execution_count": 88
    }
   ],
   "source": [
    "solarDF = cleaningDataFrame_solar(cleanDF)\n",
    "solarDF.head()"
   ]
  },
  {
   "cell_type": "code",
   "execution_count": 81,
   "metadata": {},
   "outputs": [
    {
     "output_type": "execute_result",
     "data": {
      "text/plain": "       temperature_F  cloudcover_percentage  uvIndex weatherDescription  \\\n13123             79                     73        1      Partly cloudy   \n13124             79                     73        1      Partly cloudy   \n13125             79                     73        1      Partly cloudy   \n13126             79                     73        1      Partly cloudy   \n13127             79                     73        1      Partly cloudy   \n\n       humidity           Date_Time  \n13123        89 2020-07-31 19:00:00  \n13124        89 2020-07-31 20:00:00  \n13125        89 2020-07-31 21:00:00  \n13126        89 2020-07-31 22:00:00  \n13127        89 2020-07-31 23:00:00  ",
      "text/html": "<div>\n<style scoped>\n    .dataframe tbody tr th:only-of-type {\n        vertical-align: middle;\n    }\n\n    .dataframe tbody tr th {\n        vertical-align: top;\n    }\n\n    .dataframe thead th {\n        text-align: right;\n    }\n</style>\n<table border=\"1\" class=\"dataframe\">\n  <thead>\n    <tr style=\"text-align: right;\">\n      <th></th>\n      <th>temperature_F</th>\n      <th>cloudcover_percentage</th>\n      <th>uvIndex</th>\n      <th>weatherDescription</th>\n      <th>humidity</th>\n      <th>Date_Time</th>\n    </tr>\n  </thead>\n  <tbody>\n    <tr>\n      <th>13123</th>\n      <td>79</td>\n      <td>73</td>\n      <td>1</td>\n      <td>Partly cloudy</td>\n      <td>89</td>\n      <td>2020-07-31 19:00:00</td>\n    </tr>\n    <tr>\n      <th>13124</th>\n      <td>79</td>\n      <td>73</td>\n      <td>1</td>\n      <td>Partly cloudy</td>\n      <td>89</td>\n      <td>2020-07-31 20:00:00</td>\n    </tr>\n    <tr>\n      <th>13125</th>\n      <td>79</td>\n      <td>73</td>\n      <td>1</td>\n      <td>Partly cloudy</td>\n      <td>89</td>\n      <td>2020-07-31 21:00:00</td>\n    </tr>\n    <tr>\n      <th>13126</th>\n      <td>79</td>\n      <td>73</td>\n      <td>1</td>\n      <td>Partly cloudy</td>\n      <td>89</td>\n      <td>2020-07-31 22:00:00</td>\n    </tr>\n    <tr>\n      <th>13127</th>\n      <td>79</td>\n      <td>73</td>\n      <td>1</td>\n      <td>Partly cloudy</td>\n      <td>89</td>\n      <td>2020-07-31 23:00:00</td>\n    </tr>\n  </tbody>\n</table>\n</div>"
     },
     "metadata": {},
     "execution_count": 81
    }
   ],
   "source": [
    "solarDF.tail()"
   ]
  },
  {
   "cell_type": "code",
   "execution_count": 43,
   "metadata": {},
   "outputs": [
    {
     "output_type": "execute_result",
     "data": {
      "text/plain": "temperature_F                     int32\ncloudcover_percentage             int32\nuvIndex                           int32\nweatherDescription               object\nhumidity                          int32\nDate_Time                datetime64[ns]\ndtype: object"
     },
     "metadata": {},
     "execution_count": 43
    }
   ],
   "source": [
    "solarDF.dtypes"
   ]
  },
  {
   "cell_type": "code",
   "execution_count": null,
   "metadata": {},
   "outputs": [],
   "source": [
    "#windDF.to_csv(r'Output/weather_wind.csv', index = False)"
   ]
  },
  {
   "cell_type": "markdown",
   "metadata": {},
   "source": [
    "# Importing and Performing ETL on Hackberry Wind Energy Data"
   ]
  },
  {
   "cell_type": "code",
   "execution_count": 44,
   "metadata": {},
   "outputs": [
    {
     "output_type": "execute_result",
     "data": {
      "text/plain": "                Unit      Date Hour Ending  MWH\n0      WEBBER_S_WSP1  20190101         100  0.0\n1      WEBBER_S_WSP1  20190101         200  0.0\n2      WEBBER_S_WSP1  20190101         300  0.0\n3      WEBBER_S_WSP1  20190101         400  0.0\n4      WEBBER_S_WSP1  20190101         500  0.0\n...              ...       ...         ...  ...\n13866  WEBBER_S_WSP1  20200731        2000  0.0\n13867  WEBBER_S_WSP1  20200731        2100  0.0\n13868  WEBBER_S_WSP1  20200731        2200  0.0\n13869  WEBBER_S_WSP1  20200731        2300  0.0\n13870  WEBBER_S_WSP1  20200731        2400  0.0\n\n[13871 rows x 4 columns]",
      "text/html": "<div>\n<style scoped>\n    .dataframe tbody tr th:only-of-type {\n        vertical-align: middle;\n    }\n\n    .dataframe tbody tr th {\n        vertical-align: top;\n    }\n\n    .dataframe thead th {\n        text-align: right;\n    }\n</style>\n<table border=\"1\" class=\"dataframe\">\n  <thead>\n    <tr style=\"text-align: right;\">\n      <th></th>\n      <th>Unit</th>\n      <th>Date</th>\n      <th>Hour Ending</th>\n      <th>MWH</th>\n    </tr>\n  </thead>\n  <tbody>\n    <tr>\n      <th>0</th>\n      <td>WEBBER_S_WSP1</td>\n      <td>20190101</td>\n      <td>100</td>\n      <td>0.0</td>\n    </tr>\n    <tr>\n      <th>1</th>\n      <td>WEBBER_S_WSP1</td>\n      <td>20190101</td>\n      <td>200</td>\n      <td>0.0</td>\n    </tr>\n    <tr>\n      <th>2</th>\n      <td>WEBBER_S_WSP1</td>\n      <td>20190101</td>\n      <td>300</td>\n      <td>0.0</td>\n    </tr>\n    <tr>\n      <th>3</th>\n      <td>WEBBER_S_WSP1</td>\n      <td>20190101</td>\n      <td>400</td>\n      <td>0.0</td>\n    </tr>\n    <tr>\n      <th>4</th>\n      <td>WEBBER_S_WSP1</td>\n      <td>20190101</td>\n      <td>500</td>\n      <td>0.0</td>\n    </tr>\n    <tr>\n      <th>...</th>\n      <td>...</td>\n      <td>...</td>\n      <td>...</td>\n      <td>...</td>\n    </tr>\n    <tr>\n      <th>13866</th>\n      <td>WEBBER_S_WSP1</td>\n      <td>20200731</td>\n      <td>2000</td>\n      <td>0.0</td>\n    </tr>\n    <tr>\n      <th>13867</th>\n      <td>WEBBER_S_WSP1</td>\n      <td>20200731</td>\n      <td>2100</td>\n      <td>0.0</td>\n    </tr>\n    <tr>\n      <th>13868</th>\n      <td>WEBBER_S_WSP1</td>\n      <td>20200731</td>\n      <td>2200</td>\n      <td>0.0</td>\n    </tr>\n    <tr>\n      <th>13869</th>\n      <td>WEBBER_S_WSP1</td>\n      <td>20200731</td>\n      <td>2300</td>\n      <td>0.0</td>\n    </tr>\n    <tr>\n      <th>13870</th>\n      <td>WEBBER_S_WSP1</td>\n      <td>20200731</td>\n      <td>2400</td>\n      <td>0.0</td>\n    </tr>\n  </tbody>\n</table>\n<p>13871 rows × 4 columns</p>\n</div>"
     },
     "metadata": {},
     "execution_count": 44
    }
   ],
   "source": [
    "data = \"Resources/Webberville Gen Data.csv\"\n",
    "Webberville_df = pd.read_csv(data)\n",
    "Webberville_df"
   ]
  },
  {
   "cell_type": "code",
   "execution_count": 45,
   "metadata": {},
   "outputs": [],
   "source": [
    "def cleanRenewableFarmData(df):\n",
    "    '''\n",
    "    This function cleans the raw farm data.\n",
    "    '''\n",
    "    df = df.drop('Unit', 1)\n",
    "    df.rename(columns = {'Hour Ending':'Hour'}, inplace = True)\n",
    "    df['Date'] = pd.to_datetime(df['Date'], format='%Y%m%d')\n",
    "    df['Hour'] = df['Hour'].astype(str).str[:-2].astype(np.int64)\n",
    "    df['hour'] = pd.to_timedelta(df['Hour'], unit='h')\n",
    "    df['hour'] = df['hour'] - pd.to_timedelta(df['hour'].dt.days, unit='d')\n",
    "    df = df.drop('Hour', 1)\n",
    "    df = df[[\"Date\", \"hour\", \"MWH\"]]\n",
    "    df['Date_Time'] = df['Date'] + df['hour']\n",
    "    df = df[[\"Date_Time\", \"MWH\"]]\n",
    "    return df"
   ]
  },
  {
   "cell_type": "code",
   "execution_count": 46,
   "metadata": {},
   "outputs": [
    {
     "output_type": "execute_result",
     "data": {
      "text/plain": "            Date_Time  MWH\n0 2019-01-01 01:00:00  0.0\n1 2019-01-01 02:00:00  0.0\n2 2019-01-01 03:00:00  0.0\n3 2019-01-01 04:00:00  0.0\n4 2019-01-01 05:00:00  0.0",
      "text/html": "<div>\n<style scoped>\n    .dataframe tbody tr th:only-of-type {\n        vertical-align: middle;\n    }\n\n    .dataframe tbody tr th {\n        vertical-align: top;\n    }\n\n    .dataframe thead th {\n        text-align: right;\n    }\n</style>\n<table border=\"1\" class=\"dataframe\">\n  <thead>\n    <tr style=\"text-align: right;\">\n      <th></th>\n      <th>Date_Time</th>\n      <th>MWH</th>\n    </tr>\n  </thead>\n  <tbody>\n    <tr>\n      <th>0</th>\n      <td>2019-01-01 01:00:00</td>\n      <td>0.0</td>\n    </tr>\n    <tr>\n      <th>1</th>\n      <td>2019-01-01 02:00:00</td>\n      <td>0.0</td>\n    </tr>\n    <tr>\n      <th>2</th>\n      <td>2019-01-01 03:00:00</td>\n      <td>0.0</td>\n    </tr>\n    <tr>\n      <th>3</th>\n      <td>2019-01-01 04:00:00</td>\n      <td>0.0</td>\n    </tr>\n    <tr>\n      <th>4</th>\n      <td>2019-01-01 05:00:00</td>\n      <td>0.0</td>\n    </tr>\n  </tbody>\n</table>\n</div>"
     },
     "metadata": {},
     "execution_count": 46
    }
   ],
   "source": [
    "cleanedSolarDF = cleanRenewableFarmData(Webberville_df)\n",
    "cleanedSolarDF.head()"
   ]
  },
  {
   "cell_type": "code",
   "execution_count": 47,
   "metadata": {},
   "outputs": [
    {
     "output_type": "execute_result",
     "data": {
      "text/plain": "Date_Time    datetime64[ns]\nMWH                 float64\ndtype: object"
     },
     "metadata": {},
     "execution_count": 47
    }
   ],
   "source": [
    "cleanedSolarDF.dtypes"
   ]
  },
  {
   "cell_type": "code",
   "execution_count": 48,
   "metadata": {},
   "outputs": [
    {
     "output_type": "execute_result",
     "data": {
      "text/plain": "WEBBER_S_WSP1    13871\nName: Unit, dtype: int64"
     },
     "metadata": {},
     "execution_count": 48
    }
   ],
   "source": [
    "# Webberville_df['Unit'].value_counts()"
   ]
  },
  {
   "cell_type": "code",
   "execution_count": 67,
   "metadata": {},
   "outputs": [],
   "source": [
    "# # Dropping Unit Column\n",
    "# Webberville_df = Webberville_df.drop('Unit', 1)"
   ]
  },
  {
   "cell_type": "code",
   "execution_count": 50,
   "metadata": {},
   "outputs": [],
   "source": [
    "# # Renaming column name from 'Hour Ending' to 'Hour'\n",
    "# Webberville_df.rename(columns = {'Hour Ending':'Hour'}, inplace = True)"
   ]
  },
  {
   "cell_type": "code",
   "execution_count": 51,
   "metadata": {},
   "outputs": [],
   "source": [
    "# # Converting Date to datetime\n",
    "# Webberville_df['Date'] = pd.to_datetime(Webberville_df['Date'], format='%Y%m%d')"
   ]
  },
  {
   "cell_type": "code",
   "execution_count": 52,
   "metadata": {},
   "outputs": [
    {
     "output_type": "execute_result",
     "data": {
      "text/plain": "Date    datetime64[ns]\nHour            object\nMWH            float64\ndtype: object"
     },
     "metadata": {},
     "execution_count": 52
    }
   ],
   "source": [
    "# # Checking data type\n",
    "# Webberville_df.dtypes"
   ]
  },
  {
   "cell_type": "code",
   "execution_count": 53,
   "metadata": {},
   "outputs": [
    {
     "output_type": "execute_result",
     "data": {
      "text/plain": "            Date  Hour  MWH\n0     2019-01-01   100  0.0\n1     2019-01-01   200  0.0\n2     2019-01-01   300  0.0\n3     2019-01-01   400  0.0\n4     2019-01-01   500  0.0\n...          ...   ...  ...\n13866 2020-07-31  2000  0.0\n13867 2020-07-31  2100  0.0\n13868 2020-07-31  2200  0.0\n13869 2020-07-31  2300  0.0\n13870 2020-07-31  2400  0.0\n\n[13871 rows x 3 columns]",
      "text/html": "<div>\n<style scoped>\n    .dataframe tbody tr th:only-of-type {\n        vertical-align: middle;\n    }\n\n    .dataframe tbody tr th {\n        vertical-align: top;\n    }\n\n    .dataframe thead th {\n        text-align: right;\n    }\n</style>\n<table border=\"1\" class=\"dataframe\">\n  <thead>\n    <tr style=\"text-align: right;\">\n      <th></th>\n      <th>Date</th>\n      <th>Hour</th>\n      <th>MWH</th>\n    </tr>\n  </thead>\n  <tbody>\n    <tr>\n      <th>0</th>\n      <td>2019-01-01</td>\n      <td>100</td>\n      <td>0.0</td>\n    </tr>\n    <tr>\n      <th>1</th>\n      <td>2019-01-01</td>\n      <td>200</td>\n      <td>0.0</td>\n    </tr>\n    <tr>\n      <th>2</th>\n      <td>2019-01-01</td>\n      <td>300</td>\n      <td>0.0</td>\n    </tr>\n    <tr>\n      <th>3</th>\n      <td>2019-01-01</td>\n      <td>400</td>\n      <td>0.0</td>\n    </tr>\n    <tr>\n      <th>4</th>\n      <td>2019-01-01</td>\n      <td>500</td>\n      <td>0.0</td>\n    </tr>\n    <tr>\n      <th>...</th>\n      <td>...</td>\n      <td>...</td>\n      <td>...</td>\n    </tr>\n    <tr>\n      <th>13866</th>\n      <td>2020-07-31</td>\n      <td>2000</td>\n      <td>0.0</td>\n    </tr>\n    <tr>\n      <th>13867</th>\n      <td>2020-07-31</td>\n      <td>2100</td>\n      <td>0.0</td>\n    </tr>\n    <tr>\n      <th>13868</th>\n      <td>2020-07-31</td>\n      <td>2200</td>\n      <td>0.0</td>\n    </tr>\n    <tr>\n      <th>13869</th>\n      <td>2020-07-31</td>\n      <td>2300</td>\n      <td>0.0</td>\n    </tr>\n    <tr>\n      <th>13870</th>\n      <td>2020-07-31</td>\n      <td>2400</td>\n      <td>0.0</td>\n    </tr>\n  </tbody>\n</table>\n<p>13871 rows × 3 columns</p>\n</div>"
     },
     "metadata": {},
     "execution_count": 53
    }
   ],
   "source": [
    "Webberville_df"
   ]
  },
  {
   "cell_type": "code",
   "execution_count": 54,
   "metadata": {},
   "outputs": [],
   "source": [
    "# Removing the last two characters from the hour column as the times are hourly\n",
    "Webberville_df['Hour'] = Webberville_df['Hour'].astype(str).str[:-2].astype(np.int64)"
   ]
  },
  {
   "cell_type": "code",
   "execution_count": 55,
   "metadata": {},
   "outputs": [
    {
     "output_type": "execute_result",
     "data": {
      "text/plain": "Date    datetime64[ns]\nHour             int64\nMWH            float64\ndtype: object"
     },
     "metadata": {},
     "execution_count": 55
    }
   ],
   "source": [
    "# Checking Hour data type\n",
    "Webberville_df.dtypes"
   ]
  },
  {
   "cell_type": "code",
   "execution_count": 56,
   "metadata": {},
   "outputs": [],
   "source": [
    "Webberville_df['hour'] =pd.to_timedelta(Webberville_df['Hour'], unit='h')"
   ]
  },
  {
   "cell_type": "code",
   "execution_count": 57,
   "metadata": {},
   "outputs": [],
   "source": [
    "# Creating new column called 'hour' in timedelta format without date\n",
    "Webberville_df['hour'] = Webberville_df['hour'] - pd.to_timedelta(Webberville_df['hour'].dt.days, unit='d')"
   ]
  },
  {
   "cell_type": "code",
   "execution_count": 58,
   "metadata": {},
   "outputs": [],
   "source": [
    "# Dropping the original 'Hour' column\n",
    "Webberville_df = Webberville_df.drop('Hour', 1)"
   ]
  },
  {
   "cell_type": "code",
   "execution_count": 59,
   "metadata": {},
   "outputs": [],
   "source": [
    "# Re-arranging the column headers\n",
    "Webberville_df = Webberville_df[[\"Date\", \"hour\", \"MWH\"]]"
   ]
  },
  {
   "cell_type": "code",
   "execution_count": 60,
   "metadata": {},
   "outputs": [
    {
     "output_type": "execute_result",
     "data": {
      "text/plain": "Date     datetime64[ns]\nhour    timedelta64[ns]\nMWH             float64\ndtype: object"
     },
     "metadata": {},
     "execution_count": 60
    }
   ],
   "source": [
    "Webberville_df.dtypes"
   ]
  },
  {
   "cell_type": "code",
   "execution_count": 61,
   "metadata": {},
   "outputs": [],
   "source": [
    "# Combining Date and hour to a single column as they are in datetime and timedelta formats\n",
    "Webberville_df['time'] = Webberville_df['Date'] + Webberville_df['hour']"
   ]
  },
  {
   "cell_type": "code",
   "execution_count": 62,
   "metadata": {},
   "outputs": [],
   "source": [
    "# Re-arranging the column headers and removing the Date and hour columns\n",
    "Webberville_df = Webberville_df[[\"time\", \"MWH\"]]"
   ]
  },
  {
   "cell_type": "code",
   "execution_count": 63,
   "metadata": {},
   "outputs": [
    {
     "output_type": "execute_result",
     "data": {
      "text/plain": "time    datetime64[ns]\nMWH            float64\ndtype: object"
     },
     "metadata": {},
     "execution_count": 63
    }
   ],
   "source": [
    "Webberville_df.dtypes"
   ]
  },
  {
   "cell_type": "code",
   "execution_count": null,
   "metadata": {},
   "outputs": [],
   "source": [
    "# Hackberry_df.copy()"
   ]
  },
  {
   "cell_type": "code",
   "execution_count": null,
   "metadata": {},
   "outputs": [],
   "source": [
    "# # Removing rows to include only 2019 year data to include same time range as wind data\n",
    "# Hackberry2019 = Webberville_df.drop(Hackberry_df.index[8759:13871])"
   ]
  },
  {
   "cell_type": "code",
   "execution_count": null,
   "metadata": {},
   "outputs": [],
   "source": [
    "# Hackberry2019.to_csv(r'Output/Hackberry_MHW.csv', index = False)"
   ]
  },
  {
   "cell_type": "markdown",
   "metadata": {},
   "source": [
    "## Merging Hackberry Energy Data with Wind Data"
   ]
  },
  {
   "cell_type": "code",
   "execution_count": null,
   "metadata": {},
   "outputs": [],
   "source": []
  },
  {
   "cell_type": "code",
   "execution_count": 89,
   "metadata": {},
   "outputs": [],
   "source": [
    "WebbervilleSolarMWH = pd.merge(hourlyWeatherDF, cleanedSolarDF, on='Date_Time', how='outer')"
   ]
  },
  {
   "cell_type": "code",
   "execution_count": 90,
   "metadata": {},
   "outputs": [
    {
     "output_type": "execute_result",
     "data": {
      "text/plain": "            Date     Time temperature(F) cloudcover(%) uvIndex  \\\n0     2019-01-01 00:00:00             43             0       1   \n1     2019-01-01 01:00:00             43             0       1   \n2     2019-01-01 02:00:00             43             0       1   \n3     2019-01-01 03:00:00             43             0       1   \n4     2019-01-01 04:00:00             43             0       1   \n...          ...      ...            ...           ...     ...   \n13868 2020-07-31 19:00:00             79            73       1   \n13869 2020-07-31 20:00:00             79            73       1   \n13870 2020-07-31 21:00:00             79            73       1   \n13871 2020-07-31 22:00:00             79            73       1   \n13872 2020-07-31 23:00:00             79            73       1   \n\n      weatherDescription humidity           Date_Time  MWH  \n0                  Clear       88 2019-01-01 00:00:00  0.0  \n1                  Clear       88 2019-01-01 01:00:00  0.0  \n2                  Clear       88 2019-01-01 02:00:00  0.0  \n3                  Clear       88 2019-01-01 03:00:00  0.0  \n4                  Clear       88 2019-01-01 04:00:00  0.0  \n...                  ...      ...                 ...  ...  \n13868      Partly cloudy       89 2020-07-31 19:00:00  0.0  \n13869      Partly cloudy       89 2020-07-31 20:00:00  0.0  \n13870      Partly cloudy       89 2020-07-31 21:00:00  0.0  \n13871      Partly cloudy       89 2020-07-31 22:00:00  0.0  \n13872      Partly cloudy       89 2020-07-31 23:00:00  0.0  \n\n[13873 rows x 9 columns]",
      "text/html": "<div>\n<style scoped>\n    .dataframe tbody tr th:only-of-type {\n        vertical-align: middle;\n    }\n\n    .dataframe tbody tr th {\n        vertical-align: top;\n    }\n\n    .dataframe thead th {\n        text-align: right;\n    }\n</style>\n<table border=\"1\" class=\"dataframe\">\n  <thead>\n    <tr style=\"text-align: right;\">\n      <th></th>\n      <th>Date</th>\n      <th>Time</th>\n      <th>temperature(F)</th>\n      <th>cloudcover(%)</th>\n      <th>uvIndex</th>\n      <th>weatherDescription</th>\n      <th>humidity</th>\n      <th>Date_Time</th>\n      <th>MWH</th>\n    </tr>\n  </thead>\n  <tbody>\n    <tr>\n      <th>0</th>\n      <td>2019-01-01</td>\n      <td>00:00:00</td>\n      <td>43</td>\n      <td>0</td>\n      <td>1</td>\n      <td>Clear</td>\n      <td>88</td>\n      <td>2019-01-01 00:00:00</td>\n      <td>0.0</td>\n    </tr>\n    <tr>\n      <th>1</th>\n      <td>2019-01-01</td>\n      <td>01:00:00</td>\n      <td>43</td>\n      <td>0</td>\n      <td>1</td>\n      <td>Clear</td>\n      <td>88</td>\n      <td>2019-01-01 01:00:00</td>\n      <td>0.0</td>\n    </tr>\n    <tr>\n      <th>2</th>\n      <td>2019-01-01</td>\n      <td>02:00:00</td>\n      <td>43</td>\n      <td>0</td>\n      <td>1</td>\n      <td>Clear</td>\n      <td>88</td>\n      <td>2019-01-01 02:00:00</td>\n      <td>0.0</td>\n    </tr>\n    <tr>\n      <th>3</th>\n      <td>2019-01-01</td>\n      <td>03:00:00</td>\n      <td>43</td>\n      <td>0</td>\n      <td>1</td>\n      <td>Clear</td>\n      <td>88</td>\n      <td>2019-01-01 03:00:00</td>\n      <td>0.0</td>\n    </tr>\n    <tr>\n      <th>4</th>\n      <td>2019-01-01</td>\n      <td>04:00:00</td>\n      <td>43</td>\n      <td>0</td>\n      <td>1</td>\n      <td>Clear</td>\n      <td>88</td>\n      <td>2019-01-01 04:00:00</td>\n      <td>0.0</td>\n    </tr>\n    <tr>\n      <th>...</th>\n      <td>...</td>\n      <td>...</td>\n      <td>...</td>\n      <td>...</td>\n      <td>...</td>\n      <td>...</td>\n      <td>...</td>\n      <td>...</td>\n      <td>...</td>\n    </tr>\n    <tr>\n      <th>13868</th>\n      <td>2020-07-31</td>\n      <td>19:00:00</td>\n      <td>79</td>\n      <td>73</td>\n      <td>1</td>\n      <td>Partly cloudy</td>\n      <td>89</td>\n      <td>2020-07-31 19:00:00</td>\n      <td>0.0</td>\n    </tr>\n    <tr>\n      <th>13869</th>\n      <td>2020-07-31</td>\n      <td>20:00:00</td>\n      <td>79</td>\n      <td>73</td>\n      <td>1</td>\n      <td>Partly cloudy</td>\n      <td>89</td>\n      <td>2020-07-31 20:00:00</td>\n      <td>0.0</td>\n    </tr>\n    <tr>\n      <th>13870</th>\n      <td>2020-07-31</td>\n      <td>21:00:00</td>\n      <td>79</td>\n      <td>73</td>\n      <td>1</td>\n      <td>Partly cloudy</td>\n      <td>89</td>\n      <td>2020-07-31 21:00:00</td>\n      <td>0.0</td>\n    </tr>\n    <tr>\n      <th>13871</th>\n      <td>2020-07-31</td>\n      <td>22:00:00</td>\n      <td>79</td>\n      <td>73</td>\n      <td>1</td>\n      <td>Partly cloudy</td>\n      <td>89</td>\n      <td>2020-07-31 22:00:00</td>\n      <td>0.0</td>\n    </tr>\n    <tr>\n      <th>13872</th>\n      <td>2020-07-31</td>\n      <td>23:00:00</td>\n      <td>79</td>\n      <td>73</td>\n      <td>1</td>\n      <td>Partly cloudy</td>\n      <td>89</td>\n      <td>2020-07-31 23:00:00</td>\n      <td>0.0</td>\n    </tr>\n  </tbody>\n</table>\n<p>13873 rows × 9 columns</p>\n</div>"
     },
     "metadata": {},
     "execution_count": 90
    }
   ],
   "source": [
    "WebbervilleSolarMWH"
   ]
  },
  {
   "cell_type": "code",
   "execution_count": null,
   "metadata": {},
   "outputs": [],
   "source": [
    "# WebbervilleSolarMWH =WebbervilleSolarMWH.drop(WebbervilleSolarMWH.index[8760])"
   ]
  },
  {
   "cell_type": "code",
   "execution_count": null,
   "metadata": {},
   "outputs": [],
   "source": [
    "WebbervilleSolarMWH.to_csv(r'Output/Webberville_Solar_MWH.csv', index = False)"
   ]
  },
  {
   "cell_type": "code",
   "execution_count": null,
   "metadata": {},
   "outputs": [],
   "source": [
    "hackberryWindMWH.copy()"
   ]
  },
  {
   "cell_type": "markdown",
   "metadata": {},
   "source": [
    "## Linear Regression"
   ]
  },
  {
   "cell_type": "code",
   "execution_count": null,
   "metadata": {},
   "outputs": [],
   "source": [
    "import warnings\n",
    "warnings.filterwarnings('ignore')"
   ]
  },
  {
   "cell_type": "code",
   "execution_count": null,
   "metadata": {},
   "outputs": [],
   "source": [
    "from pathlib import Path\n",
    "from collections import Counter\n",
    "import matplotlib.pyplot as plt\n",
    "from sklearn.linear_model import LinearRegression"
   ]
  },
  {
   "cell_type": "code",
   "execution_count": null,
   "metadata": {},
   "outputs": [],
   "source": [
    "from sklearn.metrics import balanced_accuracy_score\n",
    "from sklearn.metrics import confusion_matrix\n",
    "from imblearn.metrics import classification_report_imbalanced"
   ]
  },
  {
   "cell_type": "code",
   "execution_count": null,
   "metadata": {},
   "outputs": [],
   "source": [
    "# Visually inspect the data\n",
    "plt.scatter(hackberryWindMWH.WindSpeed_mph, hackberryWindMWH.MWH)\n",
    "plt.xlabel('Wind Speed')\n",
    "plt.ylabel('MHW')\n",
    "plt.show()"
   ]
  },
  {
   "cell_type": "code",
   "execution_count": null,
   "metadata": {},
   "outputs": [],
   "source": [
    "# Visually inspect the data\n",
    "plt.scatter(hackberryWindMWH.WindDirection_degrees, hackberryWindMWH.MWH)\n",
    "plt.xlabel('Wind Direction')\n",
    "plt.ylabel('MHW')\n",
    "plt.show()"
   ]
  },
  {
   "cell_type": "code",
   "execution_count": null,
   "metadata": {},
   "outputs": [],
   "source": [
    "# Visually inspect the data\n",
    "plt.scatter(hackberryWindMWH.WindGust_mph, hackberryWindMWH.MWH)\n",
    "plt.xlabel('Wind Gust')\n",
    "plt.ylabel('MHW')\n",
    "plt.show()"
   ]
  },
  {
   "cell_type": "markdown",
   "metadata": {},
   "source": [
    "##  It can be concluded that linear regression on wind speed alone does not track the power generated.  Direction of wind needs to be included."
   ]
  },
  {
   "cell_type": "code",
   "execution_count": null,
   "metadata": {},
   "outputs": [],
   "source": [
    "# Creating dataframe with wind direction blowing east\n",
    "windEast = hackberryWindMWH[hackberryWindMWH.WindDirection_compass == 'E']"
   ]
  },
  {
   "cell_type": "code",
   "execution_count": null,
   "metadata": {},
   "outputs": [],
   "source": [
    "# Visually inspect the data of wind speed to MWH for winds blowing east.\n",
    "plt.scatter(windEast.WindSpeed_mph, windEast.MWH)\n",
    "plt.xlabel('Wind Speed')\n",
    "plt.ylabel('MWH')\n",
    "plt.show()"
   ]
  },
  {
   "cell_type": "code",
   "execution_count": null,
   "metadata": {},
   "outputs": [],
   "source": [
    "# Creating dataframe with wind direction blowing West\n",
    "windWest = hackberryWindMWH[hackberryWindMWH.WindDirection_compass == 'W']"
   ]
  },
  {
   "cell_type": "code",
   "execution_count": null,
   "metadata": {},
   "outputs": [],
   "source": [
    "# Visually inspect the data of wind speed to MWH for winds blowing West.\n",
    "plt.scatter(windWest.WindSpeed_mph, windWest.MWH)\n",
    "plt.xlabel('Wind Speed')\n",
    "plt.ylabel('MWH')\n",
    "plt.show()"
   ]
  },
  {
   "cell_type": "code",
   "execution_count": null,
   "metadata": {},
   "outputs": [],
   "source": [
    "# Creating dataframe with wind direction blowing south\n",
    "windSouth = hackberryWindMWH[hackberryWindMWH.WindDirection_compass == 'S']"
   ]
  },
  {
   "cell_type": "code",
   "execution_count": null,
   "metadata": {},
   "outputs": [],
   "source": [
    "# Visually inspect the data of wind speed to MWH for winds blowing South.\n",
    "plt.scatter(windSouth.WindSpeed_mph, windSouth.MWH)\n",
    "plt.xlabel('Wind Speed')\n",
    "plt.ylabel('MWH')\n",
    "plt.show()"
   ]
  },
  {
   "cell_type": "code",
   "execution_count": null,
   "metadata": {},
   "outputs": [],
   "source": [
    "# Creating dataframe with wind direction blowing North\n",
    "windNorth = hackberryWindMWH[hackberryWindMWH.WindDirection_compass == 'N']"
   ]
  },
  {
   "cell_type": "code",
   "execution_count": null,
   "metadata": {},
   "outputs": [],
   "source": [
    "# Visually inspect the data of wind speed to MWH for winds blowing North.\n",
    "plt.scatter(windNorth.WindSpeed_mph, windNorth.MWH)\n",
    "plt.xlabel('Wind Speed')\n",
    "plt.ylabel('MWH')\n",
    "plt.show()"
   ]
  },
  {
   "cell_type": "code",
   "execution_count": null,
   "metadata": {},
   "outputs": [],
   "source": [
    "# Creating dataframe with wind direction blowing NE\n",
    "windNE = hackberryWindMWH[hackberryWindMWH.WindDirection_compass == 'NE']"
   ]
  },
  {
   "cell_type": "code",
   "execution_count": null,
   "metadata": {},
   "outputs": [],
   "source": [
    "# Visually inspect the data of wind speed to MWH for winds blowing NE.\n",
    "plt.scatter(windNE.WindSpeed_mph, windNE.MWH)\n",
    "plt.xlabel('Wind Speed')\n",
    "plt.ylabel('MWH')\n",
    "plt.show()"
   ]
  },
  {
   "cell_type": "code",
   "execution_count": null,
   "metadata": {},
   "outputs": [],
   "source": [
    "# Creating dataframe with wind direction blowing NW\n",
    "windNW = hackberryWindMWH[hackberryWindMWH.WindDirection_compass == 'NW']"
   ]
  },
  {
   "cell_type": "code",
   "execution_count": null,
   "metadata": {},
   "outputs": [],
   "source": [
    "# Visually inspect the data of wind speed to MWH for winds blowing NW.\n",
    "plt.scatter(windNW.WindSpeed_mph, windNW.MWH)\n",
    "plt.xlabel('Wind Speed')\n",
    "plt.ylabel('MWH')\n",
    "plt.show()"
   ]
  },
  {
   "cell_type": "code",
   "execution_count": null,
   "metadata": {},
   "outputs": [],
   "source": [
    "# Creating dataframe with wind direction blowing NNE\n",
    "windNNE = hackberryWindMWH[hackberryWindMWH.WindDirection_compass == 'NNE']"
   ]
  },
  {
   "cell_type": "code",
   "execution_count": null,
   "metadata": {},
   "outputs": [],
   "source": [
    "# Visually inspect the data of wind speed to MWH for winds blowing NNE.\n",
    "plt.scatter(windNNE.WindSpeed_mph, windNNE.MWH)\n",
    "plt.xlabel('Wind Speed')\n",
    "plt.ylabel('MWH')\n",
    "plt.show()"
   ]
  },
  {
   "cell_type": "code",
   "execution_count": null,
   "metadata": {},
   "outputs": [],
   "source": [
    "# Creating dataframe with wind direction blowing NNW\n",
    "windNNW = hackberryWindMWH[hackberryWindMWH.WindDirection_compass == 'NNW']"
   ]
  },
  {
   "cell_type": "code",
   "execution_count": null,
   "metadata": {},
   "outputs": [],
   "source": [
    "# Visually inspect the data of wind speed to MWH for winds blowing NNW.\n",
    "plt.scatter(windNNW.WindSpeed_mph, windNNW.MWH)\n",
    "plt.xlabel('Wind Speed')\n",
    "plt.ylabel('MWH')\n",
    "plt.show()"
   ]
  },
  {
   "cell_type": "code",
   "execution_count": null,
   "metadata": {},
   "outputs": [],
   "source": [
    "# Converting wind direction into 0, 1.\n",
    "hackberryWindMWH_Encoded = pd.get_dummies(hackberryWindMWH, columns=[\"WindDirection_compass\"])"
   ]
  },
  {
   "cell_type": "code",
   "execution_count": null,
   "metadata": {},
   "outputs": [],
   "source": [
    "hackberryWindMWH_Encoded"
   ]
  },
  {
   "cell_type": "code",
   "execution_count": null,
   "metadata": {},
   "outputs": [],
   "source": []
  }
 ],
 "metadata": {
  "kernelspec": {
   "display_name": "Python 3.7.7 64-bit ('PythonData': conda)",
   "language": "python",
   "name": "python_defaultSpec_1603399847293"
  },
  "language_info": {
   "codemirror_mode": {
    "name": "ipython",
    "version": 3
   },
   "file_extension": ".py",
   "mimetype": "text/x-python",
   "name": "python",
   "nbconvert_exporter": "python",
   "pygments_lexer": "ipython3",
   "version": "3.7.7-final"
  }
 },
 "nbformat": 4,
 "nbformat_minor": 4
}