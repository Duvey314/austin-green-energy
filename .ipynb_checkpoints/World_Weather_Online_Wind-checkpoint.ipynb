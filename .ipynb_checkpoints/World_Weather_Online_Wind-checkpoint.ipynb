{
 "cells": [
  {
   "cell_type": "code",
   "execution_count": 1,
   "metadata": {},
   "outputs": [],
   "source": [
    "# Initial Imports\n",
    "import requests\n",
    "import pandas as pd\n",
    "import json\n",
    "import numpy as np\n",
    "from datetime import datetime\n",
    "from datetime import timedelta"
   ]
  },
  {
   "cell_type": "code",
   "execution_count": 2,
   "metadata": {},
   "outputs": [],
   "source": [
    "# Import API Key\n",
    "from config import key\n",
    "\n",
    "# Documentation:\n",
    "#https://www.worldweatheronline.com/developer/my/analytics.aspx?key_id=222419"
   ]
  },
  {
   "cell_type": "code",
   "execution_count": 3,
   "metadata": {},
   "outputs": [],
   "source": [
    "# Make a request to the worldweatheronline local history weather API page\n",
    "def makeARequest(location, startDate, endDate, yourAPIKey):\n",
    "    baseURL = \"http://api.worldweatheronline.com/premium/v1/past-weather.ashx\"\n",
    "    timeInterval = \"1\"\n",
    "    outputFormatToReturn = \"json\"\n",
    "\n",
    "    requestURL = f\"{baseURL}?q={location}&date={startDate}&enddate={endDate}&tp={timeInterval}&format={outputFormatToReturn}&key={yourAPIKey}\"\n",
    "    \n",
    "    response = requests.get(requestURL)\n",
    "\n",
    "    if response.status_code == 200:\n",
    "        responseJson = response.json()\n",
    "        return responseJson\n",
    "    else:\n",
    "        return print(response.status_code)"
   ]
  },
  {
   "cell_type": "code",
   "execution_count": 4,
   "metadata": {},
   "outputs": [],
   "source": [
    "# Pull the wind variables from the responseJson \n",
    "def monthlyHistoricalWeather(firstDayOfMonth, lastDayOfMonth, jsonResponse):\n",
    "    \n",
    "    first = datetime.strptime(firstDayOfMonth, '%Y-%m-%d')\n",
    "    last = datetime.strptime(lastDayOfMonth, '%Y-%m-%d')\n",
    "    numberOfDays = last.day - first.day\n",
    "\n",
    "    HourlyHistoricalWeather = []\n",
    "    \n",
    "    for day in np.arange(0,numberOfDays + 1,1):\n",
    "        for hour in np.arange(0,24,1):\n",
    "            HourlyHistoricalWeather.append({\n",
    "                \"Date\" : jsonResponse[\"data\"][\"weather\"][day][\"date\"],\n",
    "                \"Time\" : jsonResponse[\"data\"][\"weather\"][day][\"hourly\"][hour][\"time\"],\n",
    "                \"temperature(F)\" : jsonResponse[\"data\"][\"weather\"][0][\"hourly\"][0][\"tempF\"],\n",
    "                \"weatherDescription\" : jsonResponse[\"data\"][\"weather\"][0][\"hourly\"][0][\"weatherDesc\"][0][\"value\"],\n",
    "                \"WindSpeed(mph)\" : jsonResponse[\"data\"][\"weather\"][day][\"hourly\"][hour][\"windspeedMiles\"],\n",
    "                \"WindDirection(Degrees)\" : jsonResponse[\"data\"][\"weather\"][day][\"hourly\"][hour][\"winddirDegree\"],\n",
    "                \"WindDirection(Compass)\" : jsonResponse[\"data\"][\"weather\"][day][\"hourly\"][hour][\"winddir16Point\"],\n",
    "                \"WindGust(mph)\" : jsonResponse[\"data\"][\"weather\"][day][\"hourly\"][hour][\"WindGustMiles\"]\n",
    "            })\n",
    "\n",
    "    return HourlyHistoricalWeather"
   ]
  },
  {
   "cell_type": "code",
   "execution_count": 5,
   "metadata": {},
   "outputs": [],
   "source": [
    "# Store the variables in a DataFrame\n",
    "def monthlyHistoricalWeatherDF(month):\n",
    "    weatherDataFrame = pd.DataFrame(month)\n",
    "    return weatherDataFrame"
   ]
  },
  {
   "cell_type": "code",
   "execution_count": 6,
   "metadata": {},
   "outputs": [],
   "source": [
    "# Define the Latitude and longitude of Hackberry Wind Farm\n",
    "    # https://www.thewindpower.net/windfarm_en_4012_hackberry.php\n",
    "    # Latitude: 32.776111\n",
    "    # Longitude: -99.476444\n",
    "latLong = \"32.776111,-99.476444\""
   ]
  },
  {
   "cell_type": "code",
   "execution_count": 7,
   "metadata": {},
   "outputs": [
    {
     "data": {
      "text/html": [
       "<div>\n",
       "<style scoped>\n",
       "    .dataframe tbody tr th:only-of-type {\n",
       "        vertical-align: middle;\n",
       "    }\n",
       "\n",
       "    .dataframe tbody tr th {\n",
       "        vertical-align: top;\n",
       "    }\n",
       "\n",
       "    .dataframe thead th {\n",
       "        text-align: right;\n",
       "    }\n",
       "</style>\n",
       "<table border=\"1\" class=\"dataframe\">\n",
       "  <thead>\n",
       "    <tr style=\"text-align: right;\">\n",
       "      <th></th>\n",
       "      <th>Date</th>\n",
       "      <th>Time</th>\n",
       "      <th>temperature(F)</th>\n",
       "      <th>weatherDescription</th>\n",
       "      <th>WindSpeed(mph)</th>\n",
       "      <th>WindDirection(Degrees)</th>\n",
       "      <th>WindDirection(Compass)</th>\n",
       "      <th>WindGust(mph)</th>\n",
       "    </tr>\n",
       "  </thead>\n",
       "  <tbody>\n",
       "    <tr>\n",
       "      <th>0</th>\n",
       "      <td>2019-01-01</td>\n",
       "      <td>0</td>\n",
       "      <td>35</td>\n",
       "      <td>Clear</td>\n",
       "      <td>12</td>\n",
       "      <td>126</td>\n",
       "      <td>SE</td>\n",
       "      <td>24</td>\n",
       "    </tr>\n",
       "    <tr>\n",
       "      <th>1</th>\n",
       "      <td>2019-01-01</td>\n",
       "      <td>100</td>\n",
       "      <td>35</td>\n",
       "      <td>Clear</td>\n",
       "      <td>13</td>\n",
       "      <td>89</td>\n",
       "      <td>E</td>\n",
       "      <td>23</td>\n",
       "    </tr>\n",
       "    <tr>\n",
       "      <th>2</th>\n",
       "      <td>2019-01-01</td>\n",
       "      <td>200</td>\n",
       "      <td>35</td>\n",
       "      <td>Clear</td>\n",
       "      <td>14</td>\n",
       "      <td>53</td>\n",
       "      <td>NE</td>\n",
       "      <td>23</td>\n",
       "    </tr>\n",
       "    <tr>\n",
       "      <th>3</th>\n",
       "      <td>2019-01-01</td>\n",
       "      <td>300</td>\n",
       "      <td>35</td>\n",
       "      <td>Clear</td>\n",
       "      <td>15</td>\n",
       "      <td>17</td>\n",
       "      <td>NNE</td>\n",
       "      <td>22</td>\n",
       "    </tr>\n",
       "    <tr>\n",
       "      <th>4</th>\n",
       "      <td>2019-01-01</td>\n",
       "      <td>400</td>\n",
       "      <td>35</td>\n",
       "      <td>Clear</td>\n",
       "      <td>14</td>\n",
       "      <td>18</td>\n",
       "      <td>NNE</td>\n",
       "      <td>21</td>\n",
       "    </tr>\n",
       "  </tbody>\n",
       "</table>\n",
       "</div>"
      ],
      "text/plain": [
       "         Date Time temperature(F) weatherDescription WindSpeed(mph)  \\\n",
       "0  2019-01-01    0             35              Clear             12   \n",
       "1  2019-01-01  100             35              Clear             13   \n",
       "2  2019-01-01  200             35              Clear             14   \n",
       "3  2019-01-01  300             35              Clear             15   \n",
       "4  2019-01-01  400             35              Clear             14   \n",
       "\n",
       "  WindDirection(Degrees) WindDirection(Compass) WindGust(mph)  \n",
       "0                    126                     SE            24  \n",
       "1                     89                      E            23  \n",
       "2                     53                     NE            23  \n",
       "3                     17                    NNE            22  \n",
       "4                     18                    NNE            21  "
      ]
     },
     "execution_count": 7,
     "metadata": {},
     "output_type": "execute_result"
    }
   ],
   "source": [
    "# January\n",
    "date = \"2019-01-01\"\n",
    "enddate = \"2019-01-31\"\n",
    "\n",
    "responseJson = makeARequest(latLong, date, enddate, key)\n",
    "\n",
    "January = monthlyHistoricalWeather(date, enddate, responseJson)\n",
    "JanuaryDF = monthlyHistoricalWeatherDF(January)\n",
    "JanuaryDF.head()"
   ]
  },
  {
   "cell_type": "code",
   "execution_count": 8,
   "metadata": {},
   "outputs": [],
   "source": [
    "# February\n",
    "date = \"2019-02-01\"\n",
    "enddate = \"2019-02-28\"\n",
    "\n",
    "responseJson = makeARequest(latLong, date, enddate, key)\n",
    "\n",
    "February = monthlyHistoricalWeather(date, enddate, responseJson)\n",
    "FebruaryDF = monthlyHistoricalWeatherDF(February)"
   ]
  },
  {
   "cell_type": "code",
   "execution_count": 9,
   "metadata": {},
   "outputs": [],
   "source": [
    "# March\n",
    "date = \"2019-03-01\"\n",
    "enddate = \"2019-03-31\"\n",
    "\n",
    "responseJson = makeARequest(latLong, date, enddate, key)\n",
    "\n",
    "March = monthlyHistoricalWeather(date, enddate, responseJson)\n",
    "MarchDF = monthlyHistoricalWeatherDF(March)"
   ]
  },
  {
   "cell_type": "code",
   "execution_count": 10,
   "metadata": {},
   "outputs": [],
   "source": [
    "# April\n",
    "date = \"2019-04-01\"\n",
    "enddate = \"2019-04-30\"\n",
    "\n",
    "responseJson = makeARequest(latLong, date, enddate, key)\n",
    "\n",
    "April = monthlyHistoricalWeather(date, enddate, responseJson)\n",
    "AprilDF = monthlyHistoricalWeatherDF(April)"
   ]
  },
  {
   "cell_type": "code",
   "execution_count": 11,
   "metadata": {},
   "outputs": [],
   "source": [
    "# May\n",
    "date = \"2019-05-01\"\n",
    "enddate = \"2019-05-31\"\n",
    "\n",
    "responseJson = makeARequest(latLong, date, enddate, key)\n",
    "\n",
    "May = monthlyHistoricalWeather(date, enddate, responseJson)\n",
    "MayDF = monthlyHistoricalWeatherDF(May)"
   ]
  },
  {
   "cell_type": "code",
   "execution_count": 12,
   "metadata": {},
   "outputs": [],
   "source": [
    "# June\n",
    "date = \"2019-06-01\"\n",
    "enddate = \"2019-06-30\"\n",
    "\n",
    "responseJson = makeARequest(latLong, date, enddate, key)\n",
    "\n",
    "June = monthlyHistoricalWeather(date, enddate, responseJson)\n",
    "JuneDF = monthlyHistoricalWeatherDF(June)"
   ]
  },
  {
   "cell_type": "code",
   "execution_count": 13,
   "metadata": {},
   "outputs": [],
   "source": [
    "# July\n",
    "date = \"2019-07-01\"\n",
    "enddate = \"2019-07-31\"\n",
    "\n",
    "responseJson = makeARequest(latLong, date, enddate, key)\n",
    "\n",
    "July = monthlyHistoricalWeather(date, enddate, responseJson)\n",
    "JulyDF = monthlyHistoricalWeatherDF(July)"
   ]
  },
  {
   "cell_type": "code",
   "execution_count": 14,
   "metadata": {},
   "outputs": [],
   "source": [
    "# August\n",
    "date = \"2019-08-01\"\n",
    "enddate = \"2019-08-31\"\n",
    "\n",
    "responseJson = makeARequest(latLong, date, enddate, key)\n",
    "\n",
    "August = monthlyHistoricalWeather(date, enddate, responseJson)\n",
    "AugustDF = monthlyHistoricalWeatherDF(August)"
   ]
  },
  {
   "cell_type": "code",
   "execution_count": 15,
   "metadata": {},
   "outputs": [],
   "source": [
    "# September\n",
    "date = \"2019-09-01\"\n",
    "enddate = \"2019-09-30\"\n",
    "\n",
    "responseJson = makeARequest(latLong, date, enddate, key)\n",
    "\n",
    "September = monthlyHistoricalWeather(date, enddate, responseJson)\n",
    "SeptemberDF = monthlyHistoricalWeatherDF(September)"
   ]
  },
  {
   "cell_type": "code",
   "execution_count": 16,
   "metadata": {},
   "outputs": [],
   "source": [
    "# October\n",
    "date = \"2019-10-01\"\n",
    "enddate = \"2019-10-31\"\n",
    "\n",
    "responseJson = makeARequest(latLong, date, enddate, key)\n",
    "\n",
    "October = monthlyHistoricalWeather(date, enddate, responseJson)\n",
    "OctoberDF = monthlyHistoricalWeatherDF(October)"
   ]
  },
  {
   "cell_type": "code",
   "execution_count": 17,
   "metadata": {},
   "outputs": [],
   "source": [
    "# November\n",
    "date = \"2019-11-01\"\n",
    "enddate = \"2019-11-30\"\n",
    "\n",
    "responseJson = makeARequest(latLong, date, enddate, key)\n",
    "\n",
    "November = monthlyHistoricalWeather(date, enddate, responseJson)\n",
    "NovemberDF = monthlyHistoricalWeatherDF(November)"
   ]
  },
  {
   "cell_type": "code",
   "execution_count": 18,
   "metadata": {},
   "outputs": [],
   "source": [
    "# December\n",
    "date = \"2019-12-01\"\n",
    "enddate = \"2019-12-31\"\n",
    "\n",
    "responseJson = makeARequest(latLong, date, enddate, key)\n",
    "\n",
    "December = monthlyHistoricalWeather(date, enddate, responseJson)\n",
    "DecemberDF = monthlyHistoricalWeatherDF(December)"
   ]
  },
  {
   "cell_type": "code",
   "execution_count": 19,
   "metadata": {},
   "outputs": [],
   "source": [
    "# January\n",
    "date = \"2020-01-01\"\n",
    "enddate = \"2020-01-31\"\n",
    "\n",
    "responseJson = makeARequest(latLong, date, enddate, key)\n",
    "\n",
    "Jan2020 = monthlyHistoricalWeather(date, enddate, responseJson)\n",
    "Jan2020DF = monthlyHistoricalWeatherDF(Jan2020)"
   ]
  },
  {
   "cell_type": "code",
   "execution_count": 20,
   "metadata": {},
   "outputs": [],
   "source": [
    "# February\n",
    "date = \"2020-02-01\"\n",
    "enddate = \"2020-02-29\"\n",
    "\n",
    "responseJson = makeARequest(latLong, date, enddate, key)\n",
    "\n",
    "Feb2020 = monthlyHistoricalWeather(date, enddate, responseJson)\n",
    "Feb2020DF = monthlyHistoricalWeatherDF(Feb2020)"
   ]
  },
  {
   "cell_type": "code",
   "execution_count": 21,
   "metadata": {},
   "outputs": [],
   "source": [
    "# March\n",
    "date = \"2020-03-01\"\n",
    "enddate = \"2020-03-31\"\n",
    "\n",
    "responseJson = makeARequest(latLong, date, enddate, key)\n",
    "\n",
    "March2020 = monthlyHistoricalWeather(date, enddate, responseJson)\n",
    "March2020DF = monthlyHistoricalWeatherDF(March2020)"
   ]
  },
  {
   "cell_type": "code",
   "execution_count": 22,
   "metadata": {},
   "outputs": [],
   "source": [
    "# April\n",
    "date = \"2020-04-01\"\n",
    "enddate = \"2020-04-30\"\n",
    "\n",
    "responseJson = makeARequest(latLong, date, enddate, key)\n",
    "\n",
    "April2020 = monthlyHistoricalWeather(date, enddate, responseJson)\n",
    "April2020DF = monthlyHistoricalWeatherDF(April2020)"
   ]
  },
  {
   "cell_type": "code",
   "execution_count": 23,
   "metadata": {},
   "outputs": [],
   "source": [
    "# May\n",
    "date = \"2020-05-01\"\n",
    "enddate = \"2020-05-31\"\n",
    "\n",
    "responseJson = makeARequest(latLong, date, enddate, key)\n",
    "\n",
    "May2020 = monthlyHistoricalWeather(date, enddate, responseJson)\n",
    "May2020DF = monthlyHistoricalWeatherDF(May2020)"
   ]
  },
  {
   "cell_type": "code",
   "execution_count": 24,
   "metadata": {},
   "outputs": [],
   "source": [
    "# June\n",
    "date = \"2020-06-01\"\n",
    "enddate = \"2020-06-30\"\n",
    "\n",
    "responseJson = makeARequest(latLong, date, enddate, key)\n",
    "\n",
    "June2020 = monthlyHistoricalWeather(date, enddate, responseJson)\n",
    "June2020DF = monthlyHistoricalWeatherDF(June2020)"
   ]
  },
  {
   "cell_type": "code",
   "execution_count": 25,
   "metadata": {},
   "outputs": [],
   "source": [
    "# July\n",
    "date = \"2020-07-01\"\n",
    "enddate = \"2020-07-31\"\n",
    "\n",
    "responseJson = makeARequest(latLong, date, enddate, key)\n",
    "\n",
    "July2020 = monthlyHistoricalWeather(date, enddate, responseJson)\n",
    "July2020DF = monthlyHistoricalWeatherDF(July2020)"
   ]
  },
  {
   "cell_type": "code",
   "execution_count": 41,
   "metadata": {},
   "outputs": [
    {
     "data": {
      "text/html": [
       "<div>\n",
       "<style scoped>\n",
       "    .dataframe tbody tr th:only-of-type {\n",
       "        vertical-align: middle;\n",
       "    }\n",
       "\n",
       "    .dataframe tbody tr th {\n",
       "        vertical-align: top;\n",
       "    }\n",
       "\n",
       "    .dataframe thead th {\n",
       "        text-align: right;\n",
       "    }\n",
       "</style>\n",
       "<table border=\"1\" class=\"dataframe\">\n",
       "  <thead>\n",
       "    <tr style=\"text-align: right;\">\n",
       "      <th></th>\n",
       "      <th>Date</th>\n",
       "      <th>Time</th>\n",
       "      <th>temperature(F)</th>\n",
       "      <th>weatherDescription</th>\n",
       "      <th>WindSpeed(mph)</th>\n",
       "      <th>WindDirection(Degrees)</th>\n",
       "      <th>WindDirection(Compass)</th>\n",
       "      <th>WindGust(mph)</th>\n",
       "    </tr>\n",
       "  </thead>\n",
       "  <tbody>\n",
       "    <tr>\n",
       "      <th>0</th>\n",
       "      <td>2019-01-01</td>\n",
       "      <td>0</td>\n",
       "      <td>35</td>\n",
       "      <td>Clear</td>\n",
       "      <td>12</td>\n",
       "      <td>126</td>\n",
       "      <td>SE</td>\n",
       "      <td>24</td>\n",
       "    </tr>\n",
       "    <tr>\n",
       "      <th>1</th>\n",
       "      <td>2019-01-01</td>\n",
       "      <td>100</td>\n",
       "      <td>35</td>\n",
       "      <td>Clear</td>\n",
       "      <td>13</td>\n",
       "      <td>89</td>\n",
       "      <td>E</td>\n",
       "      <td>23</td>\n",
       "    </tr>\n",
       "    <tr>\n",
       "      <th>2</th>\n",
       "      <td>2019-01-01</td>\n",
       "      <td>200</td>\n",
       "      <td>35</td>\n",
       "      <td>Clear</td>\n",
       "      <td>14</td>\n",
       "      <td>53</td>\n",
       "      <td>NE</td>\n",
       "      <td>23</td>\n",
       "    </tr>\n",
       "    <tr>\n",
       "      <th>3</th>\n",
       "      <td>2019-01-01</td>\n",
       "      <td>300</td>\n",
       "      <td>35</td>\n",
       "      <td>Clear</td>\n",
       "      <td>15</td>\n",
       "      <td>17</td>\n",
       "      <td>NNE</td>\n",
       "      <td>22</td>\n",
       "    </tr>\n",
       "    <tr>\n",
       "      <th>4</th>\n",
       "      <td>2019-01-01</td>\n",
       "      <td>400</td>\n",
       "      <td>35</td>\n",
       "      <td>Clear</td>\n",
       "      <td>14</td>\n",
       "      <td>18</td>\n",
       "      <td>NNE</td>\n",
       "      <td>21</td>\n",
       "    </tr>\n",
       "    <tr>\n",
       "      <th>...</th>\n",
       "      <td>...</td>\n",
       "      <td>...</td>\n",
       "      <td>...</td>\n",
       "      <td>...</td>\n",
       "      <td>...</td>\n",
       "      <td>...</td>\n",
       "      <td>...</td>\n",
       "      <td>...</td>\n",
       "    </tr>\n",
       "    <tr>\n",
       "      <th>13867</th>\n",
       "      <td>2020-07-31</td>\n",
       "      <td>1900</td>\n",
       "      <td>82</td>\n",
       "      <td>Patchy rain possible</td>\n",
       "      <td>8</td>\n",
       "      <td>104</td>\n",
       "      <td>ESE</td>\n",
       "      <td>11</td>\n",
       "    </tr>\n",
       "    <tr>\n",
       "      <th>13868</th>\n",
       "      <td>2020-07-31</td>\n",
       "      <td>2000</td>\n",
       "      <td>82</td>\n",
       "      <td>Patchy rain possible</td>\n",
       "      <td>8</td>\n",
       "      <td>78</td>\n",
       "      <td>ENE</td>\n",
       "      <td>12</td>\n",
       "    </tr>\n",
       "    <tr>\n",
       "      <th>13869</th>\n",
       "      <td>2020-07-31</td>\n",
       "      <td>2100</td>\n",
       "      <td>82</td>\n",
       "      <td>Patchy rain possible</td>\n",
       "      <td>7</td>\n",
       "      <td>52</td>\n",
       "      <td>NE</td>\n",
       "      <td>13</td>\n",
       "    </tr>\n",
       "    <tr>\n",
       "      <th>13870</th>\n",
       "      <td>2020-07-31</td>\n",
       "      <td>2200</td>\n",
       "      <td>82</td>\n",
       "      <td>Patchy rain possible</td>\n",
       "      <td>7</td>\n",
       "      <td>55</td>\n",
       "      <td>NE</td>\n",
       "      <td>13</td>\n",
       "    </tr>\n",
       "    <tr>\n",
       "      <th>13871</th>\n",
       "      <td>2020-07-31</td>\n",
       "      <td>2300</td>\n",
       "      <td>82</td>\n",
       "      <td>Patchy rain possible</td>\n",
       "      <td>7</td>\n",
       "      <td>58</td>\n",
       "      <td>ENE</td>\n",
       "      <td>14</td>\n",
       "    </tr>\n",
       "  </tbody>\n",
       "</table>\n",
       "<p>13872 rows × 8 columns</p>\n",
       "</div>"
      ],
      "text/plain": [
       "             Date  Time temperature(F)    weatherDescription WindSpeed(mph)  \\\n",
       "0      2019-01-01     0             35                 Clear             12   \n",
       "1      2019-01-01   100             35                 Clear             13   \n",
       "2      2019-01-01   200             35                 Clear             14   \n",
       "3      2019-01-01   300             35                 Clear             15   \n",
       "4      2019-01-01   400             35                 Clear             14   \n",
       "...           ...   ...            ...                   ...            ...   \n",
       "13867  2020-07-31  1900             82  Patchy rain possible              8   \n",
       "13868  2020-07-31  2000             82  Patchy rain possible              8   \n",
       "13869  2020-07-31  2100             82  Patchy rain possible              7   \n",
       "13870  2020-07-31  2200             82  Patchy rain possible              7   \n",
       "13871  2020-07-31  2300             82  Patchy rain possible              7   \n",
       "\n",
       "      WindDirection(Degrees) WindDirection(Compass) WindGust(mph)  \n",
       "0                        126                     SE            24  \n",
       "1                         89                      E            23  \n",
       "2                         53                     NE            23  \n",
       "3                         17                    NNE            22  \n",
       "4                         18                    NNE            21  \n",
       "...                      ...                    ...           ...  \n",
       "13867                    104                    ESE            11  \n",
       "13868                     78                    ENE            12  \n",
       "13869                     52                     NE            13  \n",
       "13870                     55                     NE            13  \n",
       "13871                     58                    ENE            14  \n",
       "\n",
       "[13872 rows x 8 columns]"
      ]
     },
     "execution_count": 41,
     "metadata": {},
     "output_type": "execute_result"
    }
   ],
   "source": [
    "# Combine each month into a single DataFrame\n",
    "#hourlyWeatherDF2019 = JanuaryDF.append([FebruaryDF, MarchDF, AprilDF, MayDF, JuneDF, JulyDF, AugustDF, SeptemberDF, OctoberDF, NovemberDF, DecemberDF]) \n",
    "hourlyWeatherDF = JanuaryDF.append([FebruaryDF, MarchDF, AprilDF, MayDF, JuneDF, JulyDF, AugustDF, SeptemberDF, OctoberDF, NovemberDF, DecemberDF, Jan2020DF, Feb2020DF, March2020DF, April2020DF, May2020DF, June2020DF, July2020DF]) \n",
    "index = np.arange(0,24*578,1)\n",
    "hourlyWeatherDF = hourlyWeatherDF.set_index(index)\n",
    "hourlyWeatherDF"
   ]
  },
  {
   "cell_type": "code",
   "execution_count": 42,
   "metadata": {},
   "outputs": [
    {
     "data": {
      "text/plain": [
       "Date                      object\n",
       "Time                      object\n",
       "temperature(F)            object\n",
       "weatherDescription        object\n",
       "WindSpeed(mph)            object\n",
       "WindDirection(Degrees)    object\n",
       "WindDirection(Compass)    object\n",
       "WindGust(mph)             object\n",
       "dtype: object"
      ]
     },
     "execution_count": 42,
     "metadata": {},
     "output_type": "execute_result"
    }
   ],
   "source": [
    "hourlyWeatherDF.dtypes"
   ]
  },
  {
   "cell_type": "markdown",
   "metadata": {},
   "source": [
    "# Performing ETL on Wind Weather Data"
   ]
  },
  {
   "cell_type": "code",
   "execution_count": 43,
   "metadata": {},
   "outputs": [],
   "source": [
    "def cleaningDataFrame_datetime(df):\n",
    "    df['Date'] = pd.to_datetime(df['Date'])\n",
    "    df['Time'] = df['Time'].astype(int)\n",
    "    df['Time'] = (df['Time']/100).astype(int)\n",
    "    df['Time'] = df['Time'].astype('timedelta64[h]')\n",
    "    df['Time'] = df['Time'] - pd.to_timedelta(df['Time'].dt.days, unit='d')\n",
    "    df['Date_Time'] = df['Date'] + df['Time']\n",
    "    df = df.drop(['Time', 'Date'], 1)\n",
    "    return df"
   ]
  },
  {
   "cell_type": "code",
   "execution_count": 44,
   "metadata": {},
   "outputs": [],
   "source": [
    "def cleaningDataFrame_wind(df):\n",
    "    df.rename(columns = {'temperature(F)':'temperature_F','WindSpeed(mph)':'WindSpeed_mph', 'WindDirection(Degrees)':'WindDirection_degrees',   'WindDirection(Compass)':'WindDirection_compass', 'WindGust(mph)':'WindGust_mph'}, inplace = True)\n",
    "    df['temperature_F'] = df['temperature_F'].astype(int)\n",
    "    df['weatherDescription'] = df['weatherDescription'].astype(str)\n",
    "    df['WindSpeed_mph'] = df['WindSpeed_mph'].astype(int)\n",
    "    df['WindDirection_degrees'] = df['WindDirection_degrees'].astype(int)\n",
    "    df['WindGust_mph'] = df['WindGust_mph'].astype(int)\n",
    "    #df = df.drop(df.index[0])\n",
    "    return df"
   ]
  },
  {
   "cell_type": "code",
   "execution_count": 45,
   "metadata": {},
   "outputs": [
    {
     "data": {
      "text/html": [
       "<div>\n",
       "<style scoped>\n",
       "    .dataframe tbody tr th:only-of-type {\n",
       "        vertical-align: middle;\n",
       "    }\n",
       "\n",
       "    .dataframe tbody tr th {\n",
       "        vertical-align: top;\n",
       "    }\n",
       "\n",
       "    .dataframe thead th {\n",
       "        text-align: right;\n",
       "    }\n",
       "</style>\n",
       "<table border=\"1\" class=\"dataframe\">\n",
       "  <thead>\n",
       "    <tr style=\"text-align: right;\">\n",
       "      <th></th>\n",
       "      <th>temperature(F)</th>\n",
       "      <th>weatherDescription</th>\n",
       "      <th>WindSpeed(mph)</th>\n",
       "      <th>WindDirection(Degrees)</th>\n",
       "      <th>WindDirection(Compass)</th>\n",
       "      <th>WindGust(mph)</th>\n",
       "      <th>Date_Time</th>\n",
       "    </tr>\n",
       "  </thead>\n",
       "  <tbody>\n",
       "    <tr>\n",
       "      <th>0</th>\n",
       "      <td>35</td>\n",
       "      <td>Clear</td>\n",
       "      <td>12</td>\n",
       "      <td>126</td>\n",
       "      <td>SE</td>\n",
       "      <td>24</td>\n",
       "      <td>2019-01-01 00:00:00</td>\n",
       "    </tr>\n",
       "    <tr>\n",
       "      <th>1</th>\n",
       "      <td>35</td>\n",
       "      <td>Clear</td>\n",
       "      <td>13</td>\n",
       "      <td>89</td>\n",
       "      <td>E</td>\n",
       "      <td>23</td>\n",
       "      <td>2019-01-01 01:00:00</td>\n",
       "    </tr>\n",
       "    <tr>\n",
       "      <th>2</th>\n",
       "      <td>35</td>\n",
       "      <td>Clear</td>\n",
       "      <td>14</td>\n",
       "      <td>53</td>\n",
       "      <td>NE</td>\n",
       "      <td>23</td>\n",
       "      <td>2019-01-01 02:00:00</td>\n",
       "    </tr>\n",
       "    <tr>\n",
       "      <th>3</th>\n",
       "      <td>35</td>\n",
       "      <td>Clear</td>\n",
       "      <td>15</td>\n",
       "      <td>17</td>\n",
       "      <td>NNE</td>\n",
       "      <td>22</td>\n",
       "      <td>2019-01-01 03:00:00</td>\n",
       "    </tr>\n",
       "    <tr>\n",
       "      <th>4</th>\n",
       "      <td>35</td>\n",
       "      <td>Clear</td>\n",
       "      <td>14</td>\n",
       "      <td>18</td>\n",
       "      <td>NNE</td>\n",
       "      <td>21</td>\n",
       "      <td>2019-01-01 04:00:00</td>\n",
       "    </tr>\n",
       "  </tbody>\n",
       "</table>\n",
       "</div>"
      ],
      "text/plain": [
       "  temperature(F) weatherDescription WindSpeed(mph) WindDirection(Degrees)  \\\n",
       "0             35              Clear             12                    126   \n",
       "1             35              Clear             13                     89   \n",
       "2             35              Clear             14                     53   \n",
       "3             35              Clear             15                     17   \n",
       "4             35              Clear             14                     18   \n",
       "\n",
       "  WindDirection(Compass) WindGust(mph)           Date_Time  \n",
       "0                     SE            24 2019-01-01 00:00:00  \n",
       "1                      E            23 2019-01-01 01:00:00  \n",
       "2                     NE            23 2019-01-01 02:00:00  \n",
       "3                    NNE            22 2019-01-01 03:00:00  \n",
       "4                    NNE            21 2019-01-01 04:00:00  "
      ]
     },
     "execution_count": 45,
     "metadata": {},
     "output_type": "execute_result"
    }
   ],
   "source": [
    "cleanDateTime_hourlyWeatherDF = cleaningDataFrame_datetime(hourlyWeatherDF)\n",
    "cleanDateTime_hourlyWeatherDF.head()"
   ]
  },
  {
   "cell_type": "code",
   "execution_count": 46,
   "metadata": {
    "tags": []
   },
   "outputs": [
    {
     "name": "stdout",
     "output_type": "stream",
     "text": [
      "(13872, 7)\n"
     ]
    },
    {
     "data": {
      "text/html": [
       "<div>\n",
       "<style scoped>\n",
       "    .dataframe tbody tr th:only-of-type {\n",
       "        vertical-align: middle;\n",
       "    }\n",
       "\n",
       "    .dataframe tbody tr th {\n",
       "        vertical-align: top;\n",
       "    }\n",
       "\n",
       "    .dataframe thead th {\n",
       "        text-align: right;\n",
       "    }\n",
       "</style>\n",
       "<table border=\"1\" class=\"dataframe\">\n",
       "  <thead>\n",
       "    <tr style=\"text-align: right;\">\n",
       "      <th></th>\n",
       "      <th>temperature_F</th>\n",
       "      <th>weatherDescription</th>\n",
       "      <th>WindSpeed_mph</th>\n",
       "      <th>WindDirection_degrees</th>\n",
       "      <th>WindDirection_compass</th>\n",
       "      <th>WindGust_mph</th>\n",
       "      <th>Date_Time</th>\n",
       "    </tr>\n",
       "  </thead>\n",
       "  <tbody>\n",
       "    <tr>\n",
       "      <th>0</th>\n",
       "      <td>35</td>\n",
       "      <td>Clear</td>\n",
       "      <td>12</td>\n",
       "      <td>126</td>\n",
       "      <td>SE</td>\n",
       "      <td>24</td>\n",
       "      <td>2019-01-01 00:00:00</td>\n",
       "    </tr>\n",
       "    <tr>\n",
       "      <th>1</th>\n",
       "      <td>35</td>\n",
       "      <td>Clear</td>\n",
       "      <td>13</td>\n",
       "      <td>89</td>\n",
       "      <td>E</td>\n",
       "      <td>23</td>\n",
       "      <td>2019-01-01 01:00:00</td>\n",
       "    </tr>\n",
       "    <tr>\n",
       "      <th>2</th>\n",
       "      <td>35</td>\n",
       "      <td>Clear</td>\n",
       "      <td>14</td>\n",
       "      <td>53</td>\n",
       "      <td>NE</td>\n",
       "      <td>23</td>\n",
       "      <td>2019-01-01 02:00:00</td>\n",
       "    </tr>\n",
       "    <tr>\n",
       "      <th>3</th>\n",
       "      <td>35</td>\n",
       "      <td>Clear</td>\n",
       "      <td>15</td>\n",
       "      <td>17</td>\n",
       "      <td>NNE</td>\n",
       "      <td>22</td>\n",
       "      <td>2019-01-01 03:00:00</td>\n",
       "    </tr>\n",
       "    <tr>\n",
       "      <th>4</th>\n",
       "      <td>35</td>\n",
       "      <td>Clear</td>\n",
       "      <td>14</td>\n",
       "      <td>18</td>\n",
       "      <td>NNE</td>\n",
       "      <td>21</td>\n",
       "      <td>2019-01-01 04:00:00</td>\n",
       "    </tr>\n",
       "  </tbody>\n",
       "</table>\n",
       "</div>"
      ],
      "text/plain": [
       "   temperature_F weatherDescription  WindSpeed_mph  WindDirection_degrees  \\\n",
       "0             35              Clear             12                    126   \n",
       "1             35              Clear             13                     89   \n",
       "2             35              Clear             14                     53   \n",
       "3             35              Clear             15                     17   \n",
       "4             35              Clear             14                     18   \n",
       "\n",
       "  WindDirection_compass  WindGust_mph           Date_Time  \n",
       "0                    SE            24 2019-01-01 00:00:00  \n",
       "1                     E            23 2019-01-01 01:00:00  \n",
       "2                    NE            23 2019-01-01 02:00:00  \n",
       "3                   NNE            22 2019-01-01 03:00:00  \n",
       "4                   NNE            21 2019-01-01 04:00:00  "
      ]
     },
     "execution_count": 46,
     "metadata": {},
     "output_type": "execute_result"
    }
   ],
   "source": [
    "cleaned_hourlyWeatherDF = cleaningDataFrame_wind(cleanDateTime_hourlyWeatherDF)\n",
    "print(cleaned_hourlyWeatherDF.shape)\n",
    "cleaned_hourlyWeatherDF.head()"
   ]
  },
  {
   "cell_type": "code",
   "execution_count": 47,
   "metadata": {},
   "outputs": [
    {
     "data": {
      "text/html": [
       "<div>\n",
       "<style scoped>\n",
       "    .dataframe tbody tr th:only-of-type {\n",
       "        vertical-align: middle;\n",
       "    }\n",
       "\n",
       "    .dataframe tbody tr th {\n",
       "        vertical-align: top;\n",
       "    }\n",
       "\n",
       "    .dataframe thead th {\n",
       "        text-align: right;\n",
       "    }\n",
       "</style>\n",
       "<table border=\"1\" class=\"dataframe\">\n",
       "  <thead>\n",
       "    <tr style=\"text-align: right;\">\n",
       "      <th></th>\n",
       "      <th>temperature_F</th>\n",
       "      <th>weatherDescription</th>\n",
       "      <th>WindSpeed_mph</th>\n",
       "      <th>WindDirection_degrees</th>\n",
       "      <th>WindDirection_compass</th>\n",
       "      <th>WindGust_mph</th>\n",
       "      <th>Date_Time</th>\n",
       "    </tr>\n",
       "  </thead>\n",
       "  <tbody>\n",
       "    <tr>\n",
       "      <th>13867</th>\n",
       "      <td>82</td>\n",
       "      <td>Patchy rain possible</td>\n",
       "      <td>8</td>\n",
       "      <td>104</td>\n",
       "      <td>ESE</td>\n",
       "      <td>11</td>\n",
       "      <td>2020-07-31 19:00:00</td>\n",
       "    </tr>\n",
       "    <tr>\n",
       "      <th>13868</th>\n",
       "      <td>82</td>\n",
       "      <td>Patchy rain possible</td>\n",
       "      <td>8</td>\n",
       "      <td>78</td>\n",
       "      <td>ENE</td>\n",
       "      <td>12</td>\n",
       "      <td>2020-07-31 20:00:00</td>\n",
       "    </tr>\n",
       "    <tr>\n",
       "      <th>13869</th>\n",
       "      <td>82</td>\n",
       "      <td>Patchy rain possible</td>\n",
       "      <td>7</td>\n",
       "      <td>52</td>\n",
       "      <td>NE</td>\n",
       "      <td>13</td>\n",
       "      <td>2020-07-31 21:00:00</td>\n",
       "    </tr>\n",
       "    <tr>\n",
       "      <th>13870</th>\n",
       "      <td>82</td>\n",
       "      <td>Patchy rain possible</td>\n",
       "      <td>7</td>\n",
       "      <td>55</td>\n",
       "      <td>NE</td>\n",
       "      <td>13</td>\n",
       "      <td>2020-07-31 22:00:00</td>\n",
       "    </tr>\n",
       "    <tr>\n",
       "      <th>13871</th>\n",
       "      <td>82</td>\n",
       "      <td>Patchy rain possible</td>\n",
       "      <td>7</td>\n",
       "      <td>58</td>\n",
       "      <td>ENE</td>\n",
       "      <td>14</td>\n",
       "      <td>2020-07-31 23:00:00</td>\n",
       "    </tr>\n",
       "  </tbody>\n",
       "</table>\n",
       "</div>"
      ],
      "text/plain": [
       "       temperature_F    weatherDescription  WindSpeed_mph  \\\n",
       "13867             82  Patchy rain possible              8   \n",
       "13868             82  Patchy rain possible              8   \n",
       "13869             82  Patchy rain possible              7   \n",
       "13870             82  Patchy rain possible              7   \n",
       "13871             82  Patchy rain possible              7   \n",
       "\n",
       "       WindDirection_degrees WindDirection_compass  WindGust_mph  \\\n",
       "13867                    104                   ESE            11   \n",
       "13868                     78                   ENE            12   \n",
       "13869                     52                    NE            13   \n",
       "13870                     55                    NE            13   \n",
       "13871                     58                   ENE            14   \n",
       "\n",
       "                Date_Time  \n",
       "13867 2020-07-31 19:00:00  \n",
       "13868 2020-07-31 20:00:00  \n",
       "13869 2020-07-31 21:00:00  \n",
       "13870 2020-07-31 22:00:00  \n",
       "13871 2020-07-31 23:00:00  "
      ]
     },
     "execution_count": 47,
     "metadata": {},
     "output_type": "execute_result"
    }
   ],
   "source": [
    "cleaned_hourlyWeatherDF.tail()"
   ]
  },
  {
   "cell_type": "code",
   "execution_count": 48,
   "metadata": {},
   "outputs": [
    {
     "data": {
      "text/plain": [
       "temperature_F                     int32\n",
       "weatherDescription               object\n",
       "WindSpeed_mph                     int32\n",
       "WindDirection_degrees             int32\n",
       "WindDirection_compass            object\n",
       "WindGust_mph                      int32\n",
       "Date_Time                datetime64[ns]\n",
       "dtype: object"
      ]
     },
     "execution_count": 48,
     "metadata": {},
     "output_type": "execute_result"
    }
   ],
   "source": [
    "cleaned_hourlyWeatherDF.dtypes"
   ]
  },
  {
   "cell_type": "code",
   "execution_count": null,
   "metadata": {},
   "outputs": [],
   "source": [
    "#windDF.to_csv(r'Output/weather_wind.csv', index = False)"
   ]
  },
  {
   "cell_type": "markdown",
   "metadata": {},
   "source": [
    "# Importing and Performing ETL on Hackberry Wind Energy Data"
   ]
  },
  {
   "cell_type": "code",
   "execution_count": 49,
   "metadata": {
    "tags": []
   },
   "outputs": [
    {
     "name": "stdout",
     "output_type": "stream",
     "text": [
      "(13871, 4)\n"
     ]
    },
    {
     "data": {
      "text/html": [
       "<div>\n",
       "<style scoped>\n",
       "    .dataframe tbody tr th:only-of-type {\n",
       "        vertical-align: middle;\n",
       "    }\n",
       "\n",
       "    .dataframe tbody tr th {\n",
       "        vertical-align: top;\n",
       "    }\n",
       "\n",
       "    .dataframe thead th {\n",
       "        text-align: right;\n",
       "    }\n",
       "</style>\n",
       "<table border=\"1\" class=\"dataframe\">\n",
       "  <thead>\n",
       "    <tr style=\"text-align: right;\">\n",
       "      <th></th>\n",
       "      <th>Unit</th>\n",
       "      <th>Date</th>\n",
       "      <th>Hour Ending</th>\n",
       "      <th>MWH</th>\n",
       "    </tr>\n",
       "  </thead>\n",
       "  <tbody>\n",
       "    <tr>\n",
       "      <th>0</th>\n",
       "      <td>HWF_HWFG1</td>\n",
       "      <td>20190101</td>\n",
       "      <td>100</td>\n",
       "      <td>110.487950</td>\n",
       "    </tr>\n",
       "    <tr>\n",
       "      <th>1</th>\n",
       "      <td>HWF_HWFG1</td>\n",
       "      <td>20190101</td>\n",
       "      <td>200</td>\n",
       "      <td>72.020225</td>\n",
       "    </tr>\n",
       "    <tr>\n",
       "      <th>2</th>\n",
       "      <td>HWF_HWFG1</td>\n",
       "      <td>20190101</td>\n",
       "      <td>300</td>\n",
       "      <td>67.639475</td>\n",
       "    </tr>\n",
       "    <tr>\n",
       "      <th>3</th>\n",
       "      <td>HWF_HWFG1</td>\n",
       "      <td>20190101</td>\n",
       "      <td>400</td>\n",
       "      <td>63.718900</td>\n",
       "    </tr>\n",
       "    <tr>\n",
       "      <th>4</th>\n",
       "      <td>HWF_HWFG1</td>\n",
       "      <td>20190101</td>\n",
       "      <td>500</td>\n",
       "      <td>61.264250</td>\n",
       "    </tr>\n",
       "  </tbody>\n",
       "</table>\n",
       "</div>"
      ],
      "text/plain": [
       "        Unit      Date Hour Ending         MWH\n",
       "0  HWF_HWFG1  20190101         100  110.487950\n",
       "1  HWF_HWFG1  20190101         200   72.020225\n",
       "2  HWF_HWFG1  20190101         300   67.639475\n",
       "3  HWF_HWFG1  20190101         400   63.718900\n",
       "4  HWF_HWFG1  20190101         500   61.264250"
      ]
     },
     "execution_count": 49,
     "metadata": {},
     "output_type": "execute_result"
    }
   ],
   "source": [
    "data = \"Resources/Hackberry_Generation.csv\"\n",
    "Hackberry_df = pd.read_csv(data)\n",
    "print(Hackberry_df.shape)\n",
    "Hackberry_df.head()"
   ]
  },
  {
   "cell_type": "code",
   "execution_count": 50,
   "metadata": {},
   "outputs": [],
   "source": [
    "def cleanRenewableFarmData(df):\n",
    "    '''\n",
    "    This function cleans the raw farm data.\n",
    "    '''\n",
    "    df = df.drop('Unit', 1)\n",
    "    df.rename(columns = {'Hour Ending':'Hour'}, inplace = True)\n",
    "    df['Date'] = pd.to_datetime(df['Date'], format='%Y%m%d')\n",
    "    df['Hour'] = df['Hour'].astype(str).str[:-2].astype(np.int64)\n",
    "    df['hour'] = pd.to_timedelta(df['Hour'], unit='h')\n",
    "    df['hour'] = df['hour'] - pd.to_timedelta(df['hour'].dt.days, unit='d')\n",
    "    df = df.drop('Hour', 1)\n",
    "    df = df[[\"Date\", \"hour\", \"MWH\"]]\n",
    "    df['Date_Time'] = df['Date'] + df['hour']\n",
    "    df = df[[\"Date_Time\", \"MWH\"]]\n",
    "    return df"
   ]
  },
  {
   "cell_type": "code",
   "execution_count": 51,
   "metadata": {
    "tags": []
   },
   "outputs": [
    {
     "name": "stdout",
     "output_type": "stream",
     "text": [
      "(13871, 2)\n"
     ]
    },
    {
     "data": {
      "text/html": [
       "<div>\n",
       "<style scoped>\n",
       "    .dataframe tbody tr th:only-of-type {\n",
       "        vertical-align: middle;\n",
       "    }\n",
       "\n",
       "    .dataframe tbody tr th {\n",
       "        vertical-align: top;\n",
       "    }\n",
       "\n",
       "    .dataframe thead th {\n",
       "        text-align: right;\n",
       "    }\n",
       "</style>\n",
       "<table border=\"1\" class=\"dataframe\">\n",
       "  <thead>\n",
       "    <tr style=\"text-align: right;\">\n",
       "      <th></th>\n",
       "      <th>Date_Time</th>\n",
       "      <th>MWH</th>\n",
       "    </tr>\n",
       "  </thead>\n",
       "  <tbody>\n",
       "    <tr>\n",
       "      <th>0</th>\n",
       "      <td>2019-01-01 01:00:00</td>\n",
       "      <td>110.487950</td>\n",
       "    </tr>\n",
       "    <tr>\n",
       "      <th>1</th>\n",
       "      <td>2019-01-01 02:00:00</td>\n",
       "      <td>72.020225</td>\n",
       "    </tr>\n",
       "    <tr>\n",
       "      <th>2</th>\n",
       "      <td>2019-01-01 03:00:00</td>\n",
       "      <td>67.639475</td>\n",
       "    </tr>\n",
       "    <tr>\n",
       "      <th>3</th>\n",
       "      <td>2019-01-01 04:00:00</td>\n",
       "      <td>63.718900</td>\n",
       "    </tr>\n",
       "    <tr>\n",
       "      <th>4</th>\n",
       "      <td>2019-01-01 05:00:00</td>\n",
       "      <td>61.264250</td>\n",
       "    </tr>\n",
       "    <tr>\n",
       "      <th>...</th>\n",
       "      <td>...</td>\n",
       "      <td>...</td>\n",
       "    </tr>\n",
       "    <tr>\n",
       "      <th>13866</th>\n",
       "      <td>2020-07-31 20:00:00</td>\n",
       "      <td>4.998600</td>\n",
       "    </tr>\n",
       "    <tr>\n",
       "      <th>13867</th>\n",
       "      <td>2020-07-31 21:00:00</td>\n",
       "      <td>16.390275</td>\n",
       "    </tr>\n",
       "    <tr>\n",
       "      <th>13868</th>\n",
       "      <td>2020-07-31 22:00:00</td>\n",
       "      <td>20.637800</td>\n",
       "    </tr>\n",
       "    <tr>\n",
       "      <th>13869</th>\n",
       "      <td>2020-07-31 23:00:00</td>\n",
       "      <td>13.998975</td>\n",
       "    </tr>\n",
       "    <tr>\n",
       "      <th>13870</th>\n",
       "      <td>2020-07-31 00:00:00</td>\n",
       "      <td>12.494875</td>\n",
       "    </tr>\n",
       "  </tbody>\n",
       "</table>\n",
       "<p>13871 rows × 2 columns</p>\n",
       "</div>"
      ],
      "text/plain": [
       "                Date_Time         MWH\n",
       "0     2019-01-01 01:00:00  110.487950\n",
       "1     2019-01-01 02:00:00   72.020225\n",
       "2     2019-01-01 03:00:00   67.639475\n",
       "3     2019-01-01 04:00:00   63.718900\n",
       "4     2019-01-01 05:00:00   61.264250\n",
       "...                   ...         ...\n",
       "13866 2020-07-31 20:00:00    4.998600\n",
       "13867 2020-07-31 21:00:00   16.390275\n",
       "13868 2020-07-31 22:00:00   20.637800\n",
       "13869 2020-07-31 23:00:00   13.998975\n",
       "13870 2020-07-31 00:00:00   12.494875\n",
       "\n",
       "[13871 rows x 2 columns]"
      ]
     },
     "execution_count": 51,
     "metadata": {},
     "output_type": "execute_result"
    }
   ],
   "source": [
    "cleaned_Hackberry_df = cleanRenewableFarmData(Hackberry_df)\n",
    "print(cleaned_Hackberry_df.shape)\n",
    "cleaned_Hackberry_df"
   ]
  },
  {
   "cell_type": "code",
   "execution_count": 52,
   "metadata": {},
   "outputs": [
    {
     "data": {
      "text/plain": [
       "Date_Time    datetime64[ns]\n",
       "MWH                 float64\n",
       "dtype: object"
      ]
     },
     "execution_count": 52,
     "metadata": {},
     "output_type": "execute_result"
    }
   ],
   "source": [
    "cleaned_Hackberry_df.dtypes"
   ]
  },
  {
   "cell_type": "code",
   "execution_count": null,
   "metadata": {},
   "outputs": [],
   "source": [
    "# cleaned_Hackberry_df.to_csv(r'Output/Hackberry_MWH.csv', index = False)"
   ]
  },
  {
   "cell_type": "markdown",
   "metadata": {},
   "source": [
    "## Merging Hackberry Energy Data with Wind Weather Data"
   ]
  },
  {
   "cell_type": "code",
   "execution_count": 53,
   "metadata": {},
   "outputs": [
    {
     "data": {
      "text/html": [
       "<div>\n",
       "<style scoped>\n",
       "    .dataframe tbody tr th:only-of-type {\n",
       "        vertical-align: middle;\n",
       "    }\n",
       "\n",
       "    .dataframe tbody tr th {\n",
       "        vertical-align: top;\n",
       "    }\n",
       "\n",
       "    .dataframe thead th {\n",
       "        text-align: right;\n",
       "    }\n",
       "</style>\n",
       "<table border=\"1\" class=\"dataframe\">\n",
       "  <thead>\n",
       "    <tr style=\"text-align: right;\">\n",
       "      <th></th>\n",
       "      <th>temperature_F</th>\n",
       "      <th>weatherDescription</th>\n",
       "      <th>WindSpeed_mph</th>\n",
       "      <th>WindDirection_degrees</th>\n",
       "      <th>WindDirection_compass</th>\n",
       "      <th>WindGust_mph</th>\n",
       "      <th>Date_Time</th>\n",
       "      <th>MWH</th>\n",
       "    </tr>\n",
       "  </thead>\n",
       "  <tbody>\n",
       "    <tr>\n",
       "      <th>0</th>\n",
       "      <td>35</td>\n",
       "      <td>Clear</td>\n",
       "      <td>12</td>\n",
       "      <td>126</td>\n",
       "      <td>SE</td>\n",
       "      <td>24</td>\n",
       "      <td>2019-01-01 00:00:00</td>\n",
       "      <td>5.009100</td>\n",
       "    </tr>\n",
       "    <tr>\n",
       "      <th>1</th>\n",
       "      <td>35</td>\n",
       "      <td>Clear</td>\n",
       "      <td>13</td>\n",
       "      <td>89</td>\n",
       "      <td>E</td>\n",
       "      <td>23</td>\n",
       "      <td>2019-01-01 01:00:00</td>\n",
       "      <td>110.487950</td>\n",
       "    </tr>\n",
       "    <tr>\n",
       "      <th>2</th>\n",
       "      <td>35</td>\n",
       "      <td>Clear</td>\n",
       "      <td>14</td>\n",
       "      <td>53</td>\n",
       "      <td>NE</td>\n",
       "      <td>23</td>\n",
       "      <td>2019-01-01 02:00:00</td>\n",
       "      <td>72.020225</td>\n",
       "    </tr>\n",
       "    <tr>\n",
       "      <th>3</th>\n",
       "      <td>35</td>\n",
       "      <td>Clear</td>\n",
       "      <td>15</td>\n",
       "      <td>17</td>\n",
       "      <td>NNE</td>\n",
       "      <td>22</td>\n",
       "      <td>2019-01-01 03:00:00</td>\n",
       "      <td>67.639475</td>\n",
       "    </tr>\n",
       "    <tr>\n",
       "      <th>4</th>\n",
       "      <td>35</td>\n",
       "      <td>Clear</td>\n",
       "      <td>14</td>\n",
       "      <td>18</td>\n",
       "      <td>NNE</td>\n",
       "      <td>21</td>\n",
       "      <td>2019-01-01 04:00:00</td>\n",
       "      <td>63.718900</td>\n",
       "    </tr>\n",
       "    <tr>\n",
       "      <th>...</th>\n",
       "      <td>...</td>\n",
       "      <td>...</td>\n",
       "      <td>...</td>\n",
       "      <td>...</td>\n",
       "      <td>...</td>\n",
       "      <td>...</td>\n",
       "      <td>...</td>\n",
       "      <td>...</td>\n",
       "    </tr>\n",
       "    <tr>\n",
       "      <th>13868</th>\n",
       "      <td>82</td>\n",
       "      <td>Patchy rain possible</td>\n",
       "      <td>8</td>\n",
       "      <td>104</td>\n",
       "      <td>ESE</td>\n",
       "      <td>11</td>\n",
       "      <td>2020-07-31 19:00:00</td>\n",
       "      <td>10.764125</td>\n",
       "    </tr>\n",
       "    <tr>\n",
       "      <th>13869</th>\n",
       "      <td>82</td>\n",
       "      <td>Patchy rain possible</td>\n",
       "      <td>8</td>\n",
       "      <td>78</td>\n",
       "      <td>ENE</td>\n",
       "      <td>12</td>\n",
       "      <td>2020-07-31 20:00:00</td>\n",
       "      <td>4.998600</td>\n",
       "    </tr>\n",
       "    <tr>\n",
       "      <th>13870</th>\n",
       "      <td>82</td>\n",
       "      <td>Patchy rain possible</td>\n",
       "      <td>7</td>\n",
       "      <td>52</td>\n",
       "      <td>NE</td>\n",
       "      <td>13</td>\n",
       "      <td>2020-07-31 21:00:00</td>\n",
       "      <td>16.390275</td>\n",
       "    </tr>\n",
       "    <tr>\n",
       "      <th>13871</th>\n",
       "      <td>82</td>\n",
       "      <td>Patchy rain possible</td>\n",
       "      <td>7</td>\n",
       "      <td>55</td>\n",
       "      <td>NE</td>\n",
       "      <td>13</td>\n",
       "      <td>2020-07-31 22:00:00</td>\n",
       "      <td>20.637800</td>\n",
       "    </tr>\n",
       "    <tr>\n",
       "      <th>13872</th>\n",
       "      <td>82</td>\n",
       "      <td>Patchy rain possible</td>\n",
       "      <td>7</td>\n",
       "      <td>58</td>\n",
       "      <td>ENE</td>\n",
       "      <td>14</td>\n",
       "      <td>2020-07-31 23:00:00</td>\n",
       "      <td>13.998975</td>\n",
       "    </tr>\n",
       "  </tbody>\n",
       "</table>\n",
       "<p>13873 rows × 8 columns</p>\n",
       "</div>"
      ],
      "text/plain": [
       "       temperature_F    weatherDescription  WindSpeed_mph  \\\n",
       "0                 35                 Clear             12   \n",
       "1                 35                 Clear             13   \n",
       "2                 35                 Clear             14   \n",
       "3                 35                 Clear             15   \n",
       "4                 35                 Clear             14   \n",
       "...              ...                   ...            ...   \n",
       "13868             82  Patchy rain possible              8   \n",
       "13869             82  Patchy rain possible              8   \n",
       "13870             82  Patchy rain possible              7   \n",
       "13871             82  Patchy rain possible              7   \n",
       "13872             82  Patchy rain possible              7   \n",
       "\n",
       "       WindDirection_degrees WindDirection_compass  WindGust_mph  \\\n",
       "0                        126                    SE            24   \n",
       "1                         89                     E            23   \n",
       "2                         53                    NE            23   \n",
       "3                         17                   NNE            22   \n",
       "4                         18                   NNE            21   \n",
       "...                      ...                   ...           ...   \n",
       "13868                    104                   ESE            11   \n",
       "13869                     78                   ENE            12   \n",
       "13870                     52                    NE            13   \n",
       "13871                     55                    NE            13   \n",
       "13872                     58                   ENE            14   \n",
       "\n",
       "                Date_Time         MWH  \n",
       "0     2019-01-01 00:00:00    5.009100  \n",
       "1     2019-01-01 01:00:00  110.487950  \n",
       "2     2019-01-01 02:00:00   72.020225  \n",
       "3     2019-01-01 03:00:00   67.639475  \n",
       "4     2019-01-01 04:00:00   63.718900  \n",
       "...                   ...         ...  \n",
       "13868 2020-07-31 19:00:00   10.764125  \n",
       "13869 2020-07-31 20:00:00    4.998600  \n",
       "13870 2020-07-31 21:00:00   16.390275  \n",
       "13871 2020-07-31 22:00:00   20.637800  \n",
       "13872 2020-07-31 23:00:00   13.998975  \n",
       "\n",
       "[13873 rows x 8 columns]"
      ]
     },
     "execution_count": 53,
     "metadata": {},
     "output_type": "execute_result"
    }
   ],
   "source": [
    "Hackberry_Wind_MWH = pd.merge(cleaned_hourlyWeatherDF, cleaned_Hackberry_df, on='Date_Time', how='outer')\n",
    "Hackberry_Wind_MWH"
   ]
  },
  {
   "cell_type": "code",
   "execution_count": 56,
   "metadata": {},
   "outputs": [
    {
     "data": {
      "text/plain": [
       "13872"
      ]
     },
     "execution_count": 56,
     "metadata": {},
     "output_type": "execute_result"
    }
   ],
   "source": [
    "Hackberry_Wind_MWH[\"Date_Time\"].nunique()"
   ]
  },
  {
   "cell_type": "code",
   "execution_count": 59,
   "metadata": {},
   "outputs": [
    {
     "data": {
      "text/plain": [
       "2019-11-03 20:00:00    2\n",
       "2019-05-04 01:00:00    1\n",
       "2020-03-17 13:00:00    1\n",
       "2019-10-22 15:00:00    1\n",
       "2020-06-02 22:00:00    1\n",
       "                      ..\n",
       "2020-01-27 08:00:00    1\n",
       "2020-05-31 02:00:00    1\n",
       "2020-06-01 16:00:00    1\n",
       "2019-09-03 14:00:00    1\n",
       "2019-02-21 22:00:00    1\n",
       "Name: Date_Time, Length: 13872, dtype: int64"
      ]
     },
     "execution_count": 59,
     "metadata": {},
     "output_type": "execute_result"
    }
   ],
   "source": [
    "Hackberry_Wind_MWH[\"Date_Time\"].value_counts()"
   ]
  },
  {
   "cell_type": "code",
   "execution_count": 55,
   "metadata": {},
   "outputs": [],
   "source": [
    "Hackberry_Wind_MWH.to_csv(r'Output/Hackberry_Wind_MWH.csv', index = False)"
   ]
  },
  {
   "cell_type": "markdown",
   "metadata": {},
   "source": [
    "## Linear Regression"
   ]
  },
  {
   "cell_type": "code",
   "execution_count": null,
   "metadata": {},
   "outputs": [],
   "source": [
    "# import warnings\n",
    "# warnings.filterwarnings('ignore')"
   ]
  },
  {
   "cell_type": "code",
   "execution_count": null,
   "metadata": {},
   "outputs": [],
   "source": [
    "# from pathlib import Path\n",
    "# from collections import Counter\n",
    "# import matplotlib.pyplot as plt\n",
    "# from sklearn.linear_model import LinearRegression"
   ]
  },
  {
   "cell_type": "code",
   "execution_count": null,
   "metadata": {},
   "outputs": [],
   "source": [
    "# from sklearn.metrics import balanced_accuracy_score\n",
    "# from sklearn.metrics import confusion_matrix\n",
    "# from imblearn.metrics import classification_report_imbalanced"
   ]
  },
  {
   "cell_type": "code",
   "execution_count": null,
   "metadata": {},
   "outputs": [],
   "source": [
    "# # Visually inspect the data\n",
    "# plt.scatter(hackberryWindMWH.WindSpeed_mph, hackberryWindMWH.MWH)\n",
    "# plt.xlabel('Wind Speed')\n",
    "# plt.ylabel('MHW')\n",
    "# plt.show()"
   ]
  },
  {
   "cell_type": "code",
   "execution_count": null,
   "metadata": {},
   "outputs": [],
   "source": [
    "# # Visually inspect the data\n",
    "# plt.scatter(hackberryWindMWH.WindDirection_degrees, hackberryWindMWH.MWH)\n",
    "# plt.xlabel('Wind Direction')\n",
    "# plt.ylabel('MHW')\n",
    "# plt.show()"
   ]
  },
  {
   "cell_type": "code",
   "execution_count": null,
   "metadata": {},
   "outputs": [],
   "source": [
    "# # Visually inspect the data\n",
    "# plt.scatter(hackberryWindMWH.WindGust_mph, hackberryWindMWH.MWH)\n",
    "# plt.xlabel('Wind Gust')\n",
    "# plt.ylabel('MHW')\n",
    "# plt.show()"
   ]
  },
  {
   "cell_type": "code",
   "execution_count": null,
   "metadata": {},
   "outputs": [],
   "source": [
    "##  It can be concluded that linear regression on wind speed alone does not track the power generated.  Direction of wind needs to be included."
   ]
  },
  {
   "cell_type": "code",
   "execution_count": null,
   "metadata": {},
   "outputs": [],
   "source": [
    "# # Creating dataframe with wind direction blowing east\n",
    "# windEast = hackberryWindMWH[hackberryWindMWH.WindDirection_compass == 'E']"
   ]
  },
  {
   "cell_type": "code",
   "execution_count": null,
   "metadata": {},
   "outputs": [],
   "source": [
    "# # Visually inspect the data of wind speed to MWH for winds blowing east.\n",
    "# plt.scatter(windEast.WindSpeed_mph, windEast.MWH)\n",
    "# plt.xlabel('Wind Speed')\n",
    "# plt.ylabel('MWH')\n",
    "# plt.show()"
   ]
  },
  {
   "cell_type": "code",
   "execution_count": null,
   "metadata": {},
   "outputs": [],
   "source": [
    "# # Creating dataframe with wind direction blowing West\n",
    "# windWest = hackberryWindMWH[hackberryWindMWH.WindDirection_compass == 'W']"
   ]
  },
  {
   "cell_type": "code",
   "execution_count": null,
   "metadata": {},
   "outputs": [],
   "source": [
    "# # Visually inspect the data of wind speed to MWH for winds blowing West.\n",
    "# plt.scatter(windWest.WindSpeed_mph, windWest.MWH)\n",
    "# plt.xlabel('Wind Speed')\n",
    "# plt.ylabel('MWH')\n",
    "# plt.show()"
   ]
  },
  {
   "cell_type": "code",
   "execution_count": null,
   "metadata": {},
   "outputs": [],
   "source": [
    "# # Creating dataframe with wind direction blowing south\n",
    "# windSouth = hackberryWindMWH[hackberryWindMWH.WindDirection_compass == 'S']"
   ]
  },
  {
   "cell_type": "code",
   "execution_count": null,
   "metadata": {},
   "outputs": [],
   "source": [
    "# # Visually inspect the data of wind speed to MWH for winds blowing South.\n",
    "# plt.scatter(windSouth.WindSpeed_mph, windSouth.MWH)\n",
    "# plt.xlabel('Wind Speed')\n",
    "# plt.ylabel('MWH')\n",
    "# plt.show()"
   ]
  },
  {
   "cell_type": "code",
   "execution_count": null,
   "metadata": {},
   "outputs": [],
   "source": [
    "# # Creating dataframe with wind direction blowing North\n",
    "# windNorth = hackberryWindMWH[hackberryWindMWH.WindDirection_compass == 'N']"
   ]
  },
  {
   "cell_type": "code",
   "execution_count": null,
   "metadata": {},
   "outputs": [],
   "source": [
    "# # Visually inspect the data of wind speed to MWH for winds blowing North.\n",
    "# plt.scatter(windNorth.WindSpeed_mph, windNorth.MWH)\n",
    "# plt.xlabel('Wind Speed')\n",
    "# plt.ylabel('MWH')\n",
    "# plt.show()"
   ]
  },
  {
   "cell_type": "code",
   "execution_count": null,
   "metadata": {},
   "outputs": [],
   "source": [
    "# # Creating dataframe with wind direction blowing NE\n",
    "# windNE = hackberryWindMWH[hackberryWindMWH.WindDirection_compass == 'NE']"
   ]
  },
  {
   "cell_type": "code",
   "execution_count": null,
   "metadata": {},
   "outputs": [],
   "source": [
    "# # Visually inspect the data of wind speed to MWH for winds blowing NE.\n",
    "# plt.scatter(windNE.WindSpeed_mph, windNE.MWH)\n",
    "# plt.xlabel('Wind Speed')\n",
    "# plt.ylabel('MWH')\n",
    "# plt.show()"
   ]
  },
  {
   "cell_type": "code",
   "execution_count": null,
   "metadata": {},
   "outputs": [],
   "source": [
    "# # Creating dataframe with wind direction blowing NW\n",
    "# windNW = hackberryWindMWH[hackberryWindMWH.WindDirection_compass == 'NW']"
   ]
  },
  {
   "cell_type": "code",
   "execution_count": null,
   "metadata": {},
   "outputs": [],
   "source": [
    "# # Visually inspect the data of wind speed to MWH for winds blowing NW.\n",
    "# plt.scatter(windNW.WindSpeed_mph, windNW.MWH)\n",
    "# plt.xlabel('Wind Speed')\n",
    "# plt.ylabel('MWH')\n",
    "# plt.show()"
   ]
  },
  {
   "cell_type": "code",
   "execution_count": null,
   "metadata": {},
   "outputs": [],
   "source": [
    "# # Creating dataframe with wind direction blowing NNE\n",
    "# windNNE = hackberryWindMWH[hackberryWindMWH.WindDirection_compass == 'NNE']"
   ]
  },
  {
   "cell_type": "code",
   "execution_count": null,
   "metadata": {},
   "outputs": [],
   "source": [
    "# # Visually inspect the data of wind speed to MWH for winds blowing NNE.\n",
    "# plt.scatter(windNNE.WindSpeed_mph, windNNE.MWH)\n",
    "# plt.xlabel('Wind Speed')\n",
    "# plt.ylabel('MWH')\n",
    "# plt.show()"
   ]
  },
  {
   "cell_type": "code",
   "execution_count": null,
   "metadata": {},
   "outputs": [],
   "source": [
    "# # Creating dataframe with wind direction blowing NNW\n",
    "# windNNW = hackberryWindMWH[hackberryWindMWH.WindDirection_compass == 'NNW']"
   ]
  },
  {
   "cell_type": "code",
   "execution_count": null,
   "metadata": {},
   "outputs": [],
   "source": [
    "# # Visually inspect the data of wind speed to MWH for winds blowing NNW.\n",
    "# plt.scatter(windNNW.WindSpeed_mph, windNNW.MWH)\n",
    "# plt.xlabel('Wind Speed')\n",
    "# plt.ylabel('MWH')\n",
    "# plt.show()"
   ]
  },
  {
   "cell_type": "code",
   "execution_count": null,
   "metadata": {},
   "outputs": [],
   "source": [
    "# # Converting wind direction into 0, 1.\n",
    "# hackberryWindMWH_Encoded = pd.get_dummies(hackberryWindMWH, columns=[\"WindDirection_compass\"])"
   ]
  },
  {
   "cell_type": "code",
   "execution_count": null,
   "metadata": {},
   "outputs": [],
   "source": [
    "# hackberryWindMWH_Encoded"
   ]
  }
 ],
 "metadata": {
  "kernelspec": {
   "display_name": "mlenv",
   "language": "python",
   "name": "mlenv"
  },
  "language_info": {
   "codemirror_mode": {
    "name": "ipython",
    "version": 3
   },
   "file_extension": ".py",
   "mimetype": "text/x-python",
   "name": "python",
   "nbconvert_exporter": "python",
   "pygments_lexer": "ipython3",
   "version": "3.7.7"
  }
 },
 "nbformat": 4,
 "nbformat_minor": 4
}
