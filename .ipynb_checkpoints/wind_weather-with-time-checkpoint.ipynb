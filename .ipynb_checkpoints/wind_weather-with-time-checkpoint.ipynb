{
 "cells": [
  {
   "cell_type": "code",
   "execution_count": 1,
   "metadata": {},
   "outputs": [],
   "source": [
    "# Initial Imports\n",
    "import requests\n",
    "import pandas as pd\n",
    "import json\n",
    "import numpy as np\n",
    "from path import Path\n",
    "from datetime import datetime\n",
    "from datetime import timedelta\n",
    "from sklearn.preprocessing import LabelEncoder\n",
    "le = LabelEncoder()\n",
    "from sklearn import tree\n",
    "from sklearn.model_selection import train_test_split\n",
    "from sklearn.metrics import confusion_matrix, accuracy_score, classification_report"
   ]
  },
  {
   "cell_type": "code",
   "execution_count": 2,
   "metadata": {},
   "outputs": [],
   "source": [
    "# Import API Key\n",
    "from config import key\n",
    "\n",
    "# Documentation:\n",
    "#https://www.worldweatheronline.com/developer/my/analytics.aspx?key_id=222419"
   ]
  },
  {
   "cell_type": "code",
   "execution_count": 3,
   "metadata": {},
   "outputs": [],
   "source": [
    "# Make a request to the worldweatheronline local history weather API page\n",
    "def makeARequest(location, startDate, endDate, yourAPIKey):\n",
    "    baseURL = \"http://api.worldweatheronline.com/premium/v1/past-weather.ashx\"\n",
    "    timeInterval = \"1\"\n",
    "    outputFormatToReturn = \"json\"\n",
    "\n",
    "    requestURL = f\"{baseURL}?q={location}&date={startDate}&enddate={endDate}&tp={timeInterval}&format={outputFormatToReturn}&key={yourAPIKey}\"\n",
    "    \n",
    "    response = requests.get(requestURL)\n",
    "\n",
    "    if response.status_code == 200:\n",
    "        responseJson = response.json()\n",
    "        return responseJson\n",
    "    else:\n",
    "        return print(response.status_code)"
   ]
  },
  {
   "cell_type": "code",
   "execution_count": 4,
   "metadata": {},
   "outputs": [],
   "source": [
    "# Pull the wind variables from the responseJson \n",
    "def monthlyHistoricalWeather(firstDayOfMonth, lastDayOfMonth, jsonResponse):\n",
    "    \n",
    "    first = datetime.strptime(firstDayOfMonth, '%Y-%m-%d')\n",
    "    last = datetime.strptime(lastDayOfMonth, '%Y-%m-%d')\n",
    "    numberOfDays = last.day - first.day\n",
    "\n",
    "    HourlyHistoricalWeather = []\n",
    "    \n",
    "    for day in np.arange(0,numberOfDays + 1,1):\n",
    "        for hour in np.arange(0,24,1):\n",
    "            HourlyHistoricalWeather.append({\n",
    "                \"Date\" : jsonResponse[\"data\"][\"weather\"][day][\"date\"],\n",
    "                \"Time\" : jsonResponse[\"data\"][\"weather\"][day][\"hourly\"][hour][\"time\"],\n",
    "                \"WindSpeed_mph\" : jsonResponse[\"data\"][\"weather\"][day][\"hourly\"][hour][\"windspeedMiles\"],\n",
    "                \"WindDirection_degrees\" : jsonResponse[\"data\"][\"weather\"][day][\"hourly\"][hour][\"winddirDegree\"],\n",
    "                \"WindGust_mph\" : jsonResponse[\"data\"][\"weather\"][day][\"hourly\"][hour][\"WindGustMiles\"],\n",
    "                \"Humidity_percent\" : jsonResponse[\"data\"][\"weather\"][day][\"hourly\"][hour][\"humidity\"],\n",
    "                \"Temp_F\" : jsonResponse[\"data\"][\"weather\"][day][\"hourly\"][hour][\"tempF\"]\n",
    "            })\n",
    "\n",
    "    return HourlyHistoricalWeather"
   ]
  },
  {
   "cell_type": "code",
   "execution_count": 5,
   "metadata": {},
   "outputs": [],
   "source": [
    "\n",
    "# Store the variables in a DataFrame\n",
    "def monthlyHistoricalWeatherDF(month):\n",
    "    weatherDataFrame = pd.DataFrame(month)\n",
    "    return weatherDataFrame"
   ]
  },
  {
   "cell_type": "code",
   "execution_count": 6,
   "metadata": {},
   "outputs": [],
   "source": [
    "# Define the Latitude and longitude of Hackberry Wind Farm\n",
    "    # https://www.thewindpower.net/windfarm_en_4012_hackberry.php\n",
    "    # Latitude: 32.776111\n",
    "    # Longitude: -99.476444\n",
    "latLong = \"32.776111,-99.476444\""
   ]
  },
  {
   "cell_type": "code",
   "execution_count": 7,
   "metadata": {},
   "outputs": [
    {
     "data": {
      "text/html": [
       "<div>\n",
       "<style scoped>\n",
       "    .dataframe tbody tr th:only-of-type {\n",
       "        vertical-align: middle;\n",
       "    }\n",
       "\n",
       "    .dataframe tbody tr th {\n",
       "        vertical-align: top;\n",
       "    }\n",
       "\n",
       "    .dataframe thead th {\n",
       "        text-align: right;\n",
       "    }\n",
       "</style>\n",
       "<table border=\"1\" class=\"dataframe\">\n",
       "  <thead>\n",
       "    <tr style=\"text-align: right;\">\n",
       "      <th></th>\n",
       "      <th>Date</th>\n",
       "      <th>Time</th>\n",
       "      <th>WindSpeed_mph</th>\n",
       "      <th>WindDirection_degrees</th>\n",
       "      <th>WindGust_mph</th>\n",
       "      <th>Humidity_percent</th>\n",
       "      <th>Temp_F</th>\n",
       "    </tr>\n",
       "  </thead>\n",
       "  <tbody>\n",
       "    <tr>\n",
       "      <th>0</th>\n",
       "      <td>2019-01-01</td>\n",
       "      <td>0</td>\n",
       "      <td>12</td>\n",
       "      <td>126</td>\n",
       "      <td>24</td>\n",
       "      <td>73</td>\n",
       "      <td>35</td>\n",
       "    </tr>\n",
       "    <tr>\n",
       "      <th>1</th>\n",
       "      <td>2019-01-01</td>\n",
       "      <td>100</td>\n",
       "      <td>13</td>\n",
       "      <td>89</td>\n",
       "      <td>23</td>\n",
       "      <td>74</td>\n",
       "      <td>33</td>\n",
       "    </tr>\n",
       "    <tr>\n",
       "      <th>2</th>\n",
       "      <td>2019-01-01</td>\n",
       "      <td>200</td>\n",
       "      <td>14</td>\n",
       "      <td>53</td>\n",
       "      <td>23</td>\n",
       "      <td>76</td>\n",
       "      <td>32</td>\n",
       "    </tr>\n",
       "    <tr>\n",
       "      <th>3</th>\n",
       "      <td>2019-01-01</td>\n",
       "      <td>300</td>\n",
       "      <td>15</td>\n",
       "      <td>17</td>\n",
       "      <td>22</td>\n",
       "      <td>77</td>\n",
       "      <td>30</td>\n",
       "    </tr>\n",
       "    <tr>\n",
       "      <th>4</th>\n",
       "      <td>2019-01-01</td>\n",
       "      <td>400</td>\n",
       "      <td>14</td>\n",
       "      <td>18</td>\n",
       "      <td>21</td>\n",
       "      <td>77</td>\n",
       "      <td>29</td>\n",
       "    </tr>\n",
       "  </tbody>\n",
       "</table>\n",
       "</div>"
      ],
      "text/plain": [
       "         Date Time WindSpeed_mph WindDirection_degrees WindGust_mph  \\\n",
       "0  2019-01-01    0            12                   126           24   \n",
       "1  2019-01-01  100            13                    89           23   \n",
       "2  2019-01-01  200            14                    53           23   \n",
       "3  2019-01-01  300            15                    17           22   \n",
       "4  2019-01-01  400            14                    18           21   \n",
       "\n",
       "  Humidity_percent Temp_F  \n",
       "0               73     35  \n",
       "1               74     33  \n",
       "2               76     32  \n",
       "3               77     30  \n",
       "4               77     29  "
      ]
     },
     "execution_count": 7,
     "metadata": {},
     "output_type": "execute_result"
    }
   ],
   "source": [
    "# January\n",
    "date = \"2019-01-01\"\n",
    "enddate = \"2019-01-31\"\n",
    "\n",
    "responseJson = makeARequest(latLong, date, enddate, key)\n",
    "\n",
    "January = monthlyHistoricalWeather(date, enddate, responseJson)\n",
    "JanuaryDF = monthlyHistoricalWeatherDF(January)\n",
    "JanuaryDF.head()"
   ]
  },
  {
   "cell_type": "code",
   "execution_count": 8,
   "metadata": {},
   "outputs": [],
   "source": [
    "# February\n",
    "date = \"2019-02-01\"\n",
    "enddate = \"2019-02-28\"\n",
    "\n",
    "responseJson = makeARequest(latLong, date, enddate, key)\n",
    "\n",
    "February = monthlyHistoricalWeather(date, enddate, responseJson)\n",
    "FebruaryDF = monthlyHistoricalWeatherDF(February)"
   ]
  },
  {
   "cell_type": "code",
   "execution_count": 9,
   "metadata": {},
   "outputs": [],
   "source": [
    "\n",
    "# March\n",
    "date = \"2019-03-01\"\n",
    "enddate = \"2019-03-31\"\n",
    "\n",
    "responseJson = makeARequest(latLong, date, enddate, key)\n",
    "\n",
    "March = monthlyHistoricalWeather(date, enddate, responseJson)\n",
    "MarchDF = monthlyHistoricalWeatherDF(March)"
   ]
  },
  {
   "cell_type": "code",
   "execution_count": 10,
   "metadata": {},
   "outputs": [],
   "source": [
    "# April\n",
    "date = \"2019-04-01\"\n",
    "enddate = \"2019-04-30\"\n",
    "\n",
    "responseJson = makeARequest(latLong, date, enddate, key)\n",
    "\n",
    "April = monthlyHistoricalWeather(date, enddate, responseJson)\n",
    "AprilDF = monthlyHistoricalWeatherDF(April)"
   ]
  },
  {
   "cell_type": "code",
   "execution_count": 11,
   "metadata": {},
   "outputs": [],
   "source": [
    "\n",
    "# May\n",
    "date = \"2019-05-01\"\n",
    "enddate = \"2019-05-31\"\n",
    "\n",
    "responseJson = makeARequest(latLong, date, enddate, key)\n",
    "\n",
    "May = monthlyHistoricalWeather(date, enddate, responseJson)\n",
    "MayDF = monthlyHistoricalWeatherDF(May)"
   ]
  },
  {
   "cell_type": "code",
   "execution_count": 12,
   "metadata": {},
   "outputs": [],
   "source": [
    "# June\n",
    "date = \"2019-06-01\"\n",
    "enddate = \"2019-06-30\"\n",
    "\n",
    "responseJson = makeARequest(latLong, date, enddate, key)\n",
    "\n",
    "June = monthlyHistoricalWeather(date, enddate, responseJson)\n",
    "JuneDF = monthlyHistoricalWeatherDF(June)"
   ]
  },
  {
   "cell_type": "code",
   "execution_count": 13,
   "metadata": {},
   "outputs": [],
   "source": [
    "\n",
    "# July\n",
    "date = \"2019-07-01\"\n",
    "enddate = \"2019-07-31\"\n",
    "\n",
    "responseJson = makeARequest(latLong, date, enddate, key)\n",
    "\n",
    "July = monthlyHistoricalWeather(date, enddate, responseJson)\n",
    "JulyDF = monthlyHistoricalWeatherDF(July)"
   ]
  },
  {
   "cell_type": "code",
   "execution_count": 14,
   "metadata": {},
   "outputs": [],
   "source": [
    "# August\n",
    "date = \"2019-08-01\"\n",
    "enddate = \"2019-08-31\"\n",
    "\n",
    "responseJson = makeARequest(latLong, date, enddate, key)\n",
    "\n",
    "August = monthlyHistoricalWeather(date, enddate, responseJson)\n",
    "AugustDF = monthlyHistoricalWeatherDF(August)"
   ]
  },
  {
   "cell_type": "code",
   "execution_count": 15,
   "metadata": {},
   "outputs": [],
   "source": [
    "# September\n",
    "date = \"2019-09-01\"\n",
    "enddate = \"2019-09-30\"\n",
    "\n",
    "responseJson = makeARequest(latLong, date, enddate, key)\n",
    "\n",
    "September = monthlyHistoricalWeather(date, enddate, responseJson)\n",
    "SeptemberDF = monthlyHistoricalWeatherDF(September)"
   ]
  },
  {
   "cell_type": "code",
   "execution_count": 16,
   "metadata": {},
   "outputs": [],
   "source": [
    "# October\n",
    "date = \"2019-10-01\"\n",
    "enddate = \"2019-10-31\"\n",
    "\n",
    "responseJson = makeARequest(latLong, date, enddate, key)\n",
    "\n",
    "October = monthlyHistoricalWeather(date, enddate, responseJson)\n",
    "OctoberDF = monthlyHistoricalWeatherDF(October)"
   ]
  },
  {
   "cell_type": "code",
   "execution_count": 17,
   "metadata": {},
   "outputs": [],
   "source": [
    "# November\n",
    "date = \"2019-11-01\"\n",
    "enddate = \"2019-11-30\"\n",
    "\n",
    "responseJson = makeARequest(latLong, date, enddate, key)\n",
    "\n",
    "November = monthlyHistoricalWeather(date, enddate, responseJson)\n",
    "NovemberDF = monthlyHistoricalWeatherDF(November)"
   ]
  },
  {
   "cell_type": "code",
   "execution_count": 18,
   "metadata": {},
   "outputs": [],
   "source": [
    "# December\n",
    "date = \"2019-12-01\"\n",
    "enddate = \"2019-12-31\"\n",
    "\n",
    "responseJson = makeARequest(latLong, date, enddate, key)\n",
    "\n",
    "December = monthlyHistoricalWeather(date, enddate, responseJson)\n",
    "DecemberDF = monthlyHistoricalWeatherDF(December)"
   ]
  },
  {
   "cell_type": "code",
   "execution_count": 19,
   "metadata": {},
   "outputs": [
    {
     "data": {
      "text/html": [
       "<div>\n",
       "<style scoped>\n",
       "    .dataframe tbody tr th:only-of-type {\n",
       "        vertical-align: middle;\n",
       "    }\n",
       "\n",
       "    .dataframe tbody tr th {\n",
       "        vertical-align: top;\n",
       "    }\n",
       "\n",
       "    .dataframe thead th {\n",
       "        text-align: right;\n",
       "    }\n",
       "</style>\n",
       "<table border=\"1\" class=\"dataframe\">\n",
       "  <thead>\n",
       "    <tr style=\"text-align: right;\">\n",
       "      <th></th>\n",
       "      <th>Date</th>\n",
       "      <th>Time</th>\n",
       "      <th>WindSpeed_mph</th>\n",
       "      <th>WindDirection_degrees</th>\n",
       "      <th>WindGust_mph</th>\n",
       "      <th>Humidity_percent</th>\n",
       "      <th>Temp_F</th>\n",
       "    </tr>\n",
       "  </thead>\n",
       "  <tbody>\n",
       "    <tr>\n",
       "      <th>0</th>\n",
       "      <td>2019-01-01</td>\n",
       "      <td>0</td>\n",
       "      <td>12</td>\n",
       "      <td>126</td>\n",
       "      <td>24</td>\n",
       "      <td>73</td>\n",
       "      <td>35</td>\n",
       "    </tr>\n",
       "    <tr>\n",
       "      <th>1</th>\n",
       "      <td>2019-01-01</td>\n",
       "      <td>100</td>\n",
       "      <td>13</td>\n",
       "      <td>89</td>\n",
       "      <td>23</td>\n",
       "      <td>74</td>\n",
       "      <td>33</td>\n",
       "    </tr>\n",
       "    <tr>\n",
       "      <th>2</th>\n",
       "      <td>2019-01-01</td>\n",
       "      <td>200</td>\n",
       "      <td>14</td>\n",
       "      <td>53</td>\n",
       "      <td>23</td>\n",
       "      <td>76</td>\n",
       "      <td>32</td>\n",
       "    </tr>\n",
       "    <tr>\n",
       "      <th>3</th>\n",
       "      <td>2019-01-01</td>\n",
       "      <td>300</td>\n",
       "      <td>15</td>\n",
       "      <td>17</td>\n",
       "      <td>22</td>\n",
       "      <td>77</td>\n",
       "      <td>30</td>\n",
       "    </tr>\n",
       "    <tr>\n",
       "      <th>4</th>\n",
       "      <td>2019-01-01</td>\n",
       "      <td>400</td>\n",
       "      <td>14</td>\n",
       "      <td>18</td>\n",
       "      <td>21</td>\n",
       "      <td>77</td>\n",
       "      <td>29</td>\n",
       "    </tr>\n",
       "    <tr>\n",
       "      <th>...</th>\n",
       "      <td>...</td>\n",
       "      <td>...</td>\n",
       "      <td>...</td>\n",
       "      <td>...</td>\n",
       "      <td>...</td>\n",
       "      <td>...</td>\n",
       "      <td>...</td>\n",
       "    </tr>\n",
       "    <tr>\n",
       "      <th>8755</th>\n",
       "      <td>2019-12-31</td>\n",
       "      <td>1900</td>\n",
       "      <td>6</td>\n",
       "      <td>175</td>\n",
       "      <td>12</td>\n",
       "      <td>39</td>\n",
       "      <td>49</td>\n",
       "    </tr>\n",
       "    <tr>\n",
       "      <th>8756</th>\n",
       "      <td>2019-12-31</td>\n",
       "      <td>2000</td>\n",
       "      <td>6</td>\n",
       "      <td>176</td>\n",
       "      <td>13</td>\n",
       "      <td>42</td>\n",
       "      <td>47</td>\n",
       "    </tr>\n",
       "    <tr>\n",
       "      <th>8757</th>\n",
       "      <td>2019-12-31</td>\n",
       "      <td>2100</td>\n",
       "      <td>7</td>\n",
       "      <td>176</td>\n",
       "      <td>14</td>\n",
       "      <td>45</td>\n",
       "      <td>46</td>\n",
       "    </tr>\n",
       "    <tr>\n",
       "      <th>8758</th>\n",
       "      <td>2019-12-31</td>\n",
       "      <td>2200</td>\n",
       "      <td>7</td>\n",
       "      <td>176</td>\n",
       "      <td>15</td>\n",
       "      <td>46</td>\n",
       "      <td>46</td>\n",
       "    </tr>\n",
       "    <tr>\n",
       "      <th>8759</th>\n",
       "      <td>2019-12-31</td>\n",
       "      <td>2300</td>\n",
       "      <td>7</td>\n",
       "      <td>175</td>\n",
       "      <td>16</td>\n",
       "      <td>48</td>\n",
       "      <td>45</td>\n",
       "    </tr>\n",
       "  </tbody>\n",
       "</table>\n",
       "<p>8760 rows × 7 columns</p>\n",
       "</div>"
      ],
      "text/plain": [
       "            Date  Time WindSpeed_mph WindDirection_degrees WindGust_mph  \\\n",
       "0     2019-01-01     0            12                   126           24   \n",
       "1     2019-01-01   100            13                    89           23   \n",
       "2     2019-01-01   200            14                    53           23   \n",
       "3     2019-01-01   300            15                    17           22   \n",
       "4     2019-01-01   400            14                    18           21   \n",
       "...          ...   ...           ...                   ...          ...   \n",
       "8755  2019-12-31  1900             6                   175           12   \n",
       "8756  2019-12-31  2000             6                   176           13   \n",
       "8757  2019-12-31  2100             7                   176           14   \n",
       "8758  2019-12-31  2200             7                   176           15   \n",
       "8759  2019-12-31  2300             7                   175           16   \n",
       "\n",
       "     Humidity_percent Temp_F  \n",
       "0                  73     35  \n",
       "1                  74     33  \n",
       "2                  76     32  \n",
       "3                  77     30  \n",
       "4                  77     29  \n",
       "...               ...    ...  \n",
       "8755               39     49  \n",
       "8756               42     47  \n",
       "8757               45     46  \n",
       "8758               46     46  \n",
       "8759               48     45  \n",
       "\n",
       "[8760 rows x 7 columns]"
      ]
     },
     "execution_count": 19,
     "metadata": {},
     "output_type": "execute_result"
    }
   ],
   "source": [
    "# Combine each month into a single DataFrame\n",
    "hourlyWeatherDF2019 = JanuaryDF.append([FebruaryDF, MarchDF, AprilDF, MayDF, JuneDF, JulyDF, AugustDF, SeptemberDF, OctoberDF, NovemberDF, DecemberDF]) \n",
    "index = np.arange(0,24*365,1)\n",
    "hourlyWeatherDF2019 = hourlyWeatherDF2019.set_index(index)\n",
    "hourlyWeatherDF2019"
   ]
  },
  {
   "cell_type": "code",
   "execution_count": 20,
   "metadata": {},
   "outputs": [
    {
     "data": {
      "text/plain": [
       "Date                     object\n",
       "Time                     object\n",
       "WindSpeed_mph            object\n",
       "WindDirection_degrees    object\n",
       "WindGust_mph             object\n",
       "Humidity_percent         object\n",
       "Temp_F                   object\n",
       "dtype: object"
      ]
     },
     "execution_count": 20,
     "metadata": {},
     "output_type": "execute_result"
    }
   ],
   "source": [
    "hourlyWeatherDF2019.dtypes"
   ]
  },
  {
   "cell_type": "code",
   "execution_count": 21,
   "metadata": {},
   "outputs": [],
   "source": [
    "hourlyWeatherDF2019.to_csv(r'Output/hourlyWeatherDF2019.csv', index = False)"
   ]
  },
  {
   "cell_type": "markdown",
   "metadata": {},
   "source": [
    "# Performing ETL on Wind Data at Hackberry Wind Farm"
   ]
  },
  {
   "cell_type": "code",
   "execution_count": 22,
   "metadata": {},
   "outputs": [],
   "source": [
    "hourlyWeatherDF2019['Date'] = pd.to_datetime(hourlyWeatherDF2019['Date'] )"
   ]
  },
  {
   "cell_type": "code",
   "execution_count": 23,
   "metadata": {},
   "outputs": [
    {
     "data": {
      "text/plain": [
       "Date                     datetime64[ns]\n",
       "Time                             object\n",
       "WindSpeed_mph                    object\n",
       "WindDirection_degrees            object\n",
       "WindGust_mph                     object\n",
       "Humidity_percent                 object\n",
       "Temp_F                           object\n",
       "dtype: object"
      ]
     },
     "execution_count": 23,
     "metadata": {},
     "output_type": "execute_result"
    }
   ],
   "source": [
    "hourlyWeatherDF2019.dtypes"
   ]
  },
  {
   "cell_type": "code",
   "execution_count": 24,
   "metadata": {},
   "outputs": [],
   "source": [
    "hourlyWeatherDF2019['Time'] = hourlyWeatherDF2019['Time'].astype(int)"
   ]
  },
  {
   "cell_type": "code",
   "execution_count": 25,
   "metadata": {},
   "outputs": [],
   "source": [
    "hourlyWeatherDF2019['Time'] = hourlyWeatherDF2019['Time']/100"
   ]
  },
  {
   "cell_type": "code",
   "execution_count": 26,
   "metadata": {},
   "outputs": [],
   "source": [
    "hourlyWeatherDF2019['Time'] = hourlyWeatherDF2019['Time'].astype(int)"
   ]
  },
  {
   "cell_type": "code",
   "execution_count": 27,
   "metadata": {},
   "outputs": [],
   "source": [
    "hourlyWeatherDF2019['time'] =pd.to_timedelta(hourlyWeatherDF2019['Time'], unit='h')"
   ]
  },
  {
   "cell_type": "code",
   "execution_count": 28,
   "metadata": {},
   "outputs": [],
   "source": [
    "# Creating new column called 'hour' in timedelta format without date\n",
    "hourlyWeatherDF2019['time'] = hourlyWeatherDF2019['time'] - pd.to_timedelta(hourlyWeatherDF2019['time'].dt.days, unit='d')"
   ]
  },
  {
   "cell_type": "code",
   "execution_count": 29,
   "metadata": {},
   "outputs": [
    {
     "data": {
      "text/plain": [
       "Date                      datetime64[ns]\n",
       "Time                               int32\n",
       "WindSpeed_mph                     object\n",
       "WindDirection_degrees             object\n",
       "WindGust_mph                      object\n",
       "Humidity_percent                  object\n",
       "Temp_F                            object\n",
       "time                     timedelta64[ns]\n",
       "dtype: object"
      ]
     },
     "execution_count": 29,
     "metadata": {},
     "output_type": "execute_result"
    }
   ],
   "source": [
    "hourlyWeatherDF2019.dtypes"
   ]
  },
  {
   "cell_type": "code",
   "execution_count": 30,
   "metadata": {},
   "outputs": [],
   "source": [
    "# Combining Date and hour to a single column as they are in datetime and timedelta formats\n",
    "hourlyWeatherDF2019['time_combined'] = hourlyWeatherDF2019['Date'] + hourlyWeatherDF2019['time']"
   ]
  },
  {
   "cell_type": "code",
   "execution_count": 31,
   "metadata": {},
   "outputs": [],
   "source": [
    "# Dropping the original 'Time' column from \n",
    "hourlyWeatherDF2019 = hourlyWeatherDF2019.drop(['Time', 'Date', 'time'], 1)"
   ]
  },
  {
   "cell_type": "code",
   "execution_count": 32,
   "metadata": {},
   "outputs": [],
   "source": [
    "# Renaming time column name.\n",
    "hourlyWeatherDF2019.rename(columns = {'time_combined':'time'}, inplace = True)"
   ]
  },
  {
   "cell_type": "code",
   "execution_count": 33,
   "metadata": {},
   "outputs": [],
   "source": [
    "# Re-arranging the column headers\n",
    "hourlyWeatherDF2019 = hourlyWeatherDF2019[['time', 'WindSpeed_mph', 'WindDirection_degrees', 'WindGust_mph', 'Temp_F', 'Humidity_percent']]"
   ]
  },
  {
   "cell_type": "code",
   "execution_count": 34,
   "metadata": {},
   "outputs": [],
   "source": [
    "hourlyWeatherDF2019['WindSpeed_mph'] = hourlyWeatherDF2019['WindSpeed_mph'].astype(int)"
   ]
  },
  {
   "cell_type": "code",
   "execution_count": 35,
   "metadata": {},
   "outputs": [],
   "source": [
    "hourlyWeatherDF2019['WindDirection_degrees'] = hourlyWeatherDF2019['WindDirection_degrees'].astype(int)"
   ]
  },
  {
   "cell_type": "code",
   "execution_count": 36,
   "metadata": {},
   "outputs": [],
   "source": [
    "hourlyWeatherDF2019['WindGust_mph'] = hourlyWeatherDF2019['WindGust_mph'].astype(int)"
   ]
  },
  {
   "cell_type": "code",
   "execution_count": 37,
   "metadata": {},
   "outputs": [],
   "source": [
    "hourlyWeatherDF2019['Humidity_percent'] = hourlyWeatherDF2019['Humidity_percent'].astype(int)"
   ]
  },
  {
   "cell_type": "code",
   "execution_count": 38,
   "metadata": {},
   "outputs": [],
   "source": [
    "hourlyWeatherDF2019['Temp_F'] = hourlyWeatherDF2019['Temp_F'].astype(int)"
   ]
  },
  {
   "cell_type": "code",
   "execution_count": 39,
   "metadata": {},
   "outputs": [],
   "source": [
    "weather2019Clean = hourlyWeatherDF2019.drop(hourlyWeatherDF2019.index[0])"
   ]
  },
  {
   "cell_type": "code",
   "execution_count": 40,
   "metadata": {},
   "outputs": [],
   "source": [
    "weather2019Clean.to_csv(r'Output/weather_wind.csv', index = False)"
   ]
  },
  {
   "cell_type": "code",
   "execution_count": 41,
   "metadata": {},
   "outputs": [
    {
     "data": {
      "text/html": [
       "<div>\n",
       "<style scoped>\n",
       "    .dataframe tbody tr th:only-of-type {\n",
       "        vertical-align: middle;\n",
       "    }\n",
       "\n",
       "    .dataframe tbody tr th {\n",
       "        vertical-align: top;\n",
       "    }\n",
       "\n",
       "    .dataframe thead th {\n",
       "        text-align: right;\n",
       "    }\n",
       "</style>\n",
       "<table border=\"1\" class=\"dataframe\">\n",
       "  <thead>\n",
       "    <tr style=\"text-align: right;\">\n",
       "      <th></th>\n",
       "      <th>time</th>\n",
       "      <th>WindSpeed_mph</th>\n",
       "      <th>WindDirection_degrees</th>\n",
       "      <th>WindGust_mph</th>\n",
       "      <th>Temp_F</th>\n",
       "      <th>Humidity_percent</th>\n",
       "    </tr>\n",
       "  </thead>\n",
       "  <tbody>\n",
       "    <tr>\n",
       "      <th>1</th>\n",
       "      <td>2019-01-01 01:00:00</td>\n",
       "      <td>13</td>\n",
       "      <td>89</td>\n",
       "      <td>23</td>\n",
       "      <td>33</td>\n",
       "      <td>74</td>\n",
       "    </tr>\n",
       "    <tr>\n",
       "      <th>2</th>\n",
       "      <td>2019-01-01 02:00:00</td>\n",
       "      <td>14</td>\n",
       "      <td>53</td>\n",
       "      <td>23</td>\n",
       "      <td>32</td>\n",
       "      <td>76</td>\n",
       "    </tr>\n",
       "    <tr>\n",
       "      <th>3</th>\n",
       "      <td>2019-01-01 03:00:00</td>\n",
       "      <td>15</td>\n",
       "      <td>17</td>\n",
       "      <td>22</td>\n",
       "      <td>30</td>\n",
       "      <td>77</td>\n",
       "    </tr>\n",
       "    <tr>\n",
       "      <th>4</th>\n",
       "      <td>2019-01-01 04:00:00</td>\n",
       "      <td>14</td>\n",
       "      <td>18</td>\n",
       "      <td>21</td>\n",
       "      <td>29</td>\n",
       "      <td>77</td>\n",
       "    </tr>\n",
       "    <tr>\n",
       "      <th>5</th>\n",
       "      <td>2019-01-01 05:00:00</td>\n",
       "      <td>14</td>\n",
       "      <td>19</td>\n",
       "      <td>20</td>\n",
       "      <td>28</td>\n",
       "      <td>76</td>\n",
       "    </tr>\n",
       "    <tr>\n",
       "      <th>...</th>\n",
       "      <td>...</td>\n",
       "      <td>...</td>\n",
       "      <td>...</td>\n",
       "      <td>...</td>\n",
       "      <td>...</td>\n",
       "      <td>...</td>\n",
       "    </tr>\n",
       "    <tr>\n",
       "      <th>8755</th>\n",
       "      <td>2019-12-31 19:00:00</td>\n",
       "      <td>6</td>\n",
       "      <td>175</td>\n",
       "      <td>12</td>\n",
       "      <td>49</td>\n",
       "      <td>39</td>\n",
       "    </tr>\n",
       "    <tr>\n",
       "      <th>8756</th>\n",
       "      <td>2019-12-31 20:00:00</td>\n",
       "      <td>6</td>\n",
       "      <td>176</td>\n",
       "      <td>13</td>\n",
       "      <td>47</td>\n",
       "      <td>42</td>\n",
       "    </tr>\n",
       "    <tr>\n",
       "      <th>8757</th>\n",
       "      <td>2019-12-31 21:00:00</td>\n",
       "      <td>7</td>\n",
       "      <td>176</td>\n",
       "      <td>14</td>\n",
       "      <td>46</td>\n",
       "      <td>45</td>\n",
       "    </tr>\n",
       "    <tr>\n",
       "      <th>8758</th>\n",
       "      <td>2019-12-31 22:00:00</td>\n",
       "      <td>7</td>\n",
       "      <td>176</td>\n",
       "      <td>15</td>\n",
       "      <td>46</td>\n",
       "      <td>46</td>\n",
       "    </tr>\n",
       "    <tr>\n",
       "      <th>8759</th>\n",
       "      <td>2019-12-31 23:00:00</td>\n",
       "      <td>7</td>\n",
       "      <td>175</td>\n",
       "      <td>16</td>\n",
       "      <td>45</td>\n",
       "      <td>48</td>\n",
       "    </tr>\n",
       "  </tbody>\n",
       "</table>\n",
       "<p>8759 rows × 6 columns</p>\n",
       "</div>"
      ],
      "text/plain": [
       "                    time  WindSpeed_mph  WindDirection_degrees  WindGust_mph  \\\n",
       "1    2019-01-01 01:00:00             13                     89            23   \n",
       "2    2019-01-01 02:00:00             14                     53            23   \n",
       "3    2019-01-01 03:00:00             15                     17            22   \n",
       "4    2019-01-01 04:00:00             14                     18            21   \n",
       "5    2019-01-01 05:00:00             14                     19            20   \n",
       "...                  ...            ...                    ...           ...   \n",
       "8755 2019-12-31 19:00:00              6                    175            12   \n",
       "8756 2019-12-31 20:00:00              6                    176            13   \n",
       "8757 2019-12-31 21:00:00              7                    176            14   \n",
       "8758 2019-12-31 22:00:00              7                    176            15   \n",
       "8759 2019-12-31 23:00:00              7                    175            16   \n",
       "\n",
       "      Temp_F  Humidity_percent  \n",
       "1         33                74  \n",
       "2         32                76  \n",
       "3         30                77  \n",
       "4         29                77  \n",
       "5         28                76  \n",
       "...      ...               ...  \n",
       "8755      49                39  \n",
       "8756      47                42  \n",
       "8757      46                45  \n",
       "8758      46                46  \n",
       "8759      45                48  \n",
       "\n",
       "[8759 rows x 6 columns]"
      ]
     },
     "execution_count": 41,
     "metadata": {},
     "output_type": "execute_result"
    }
   ],
   "source": [
    "weather2019Clean.copy()"
   ]
  },
  {
   "cell_type": "markdown",
   "metadata": {},
   "source": [
    "# Importing and Performing ETL on Hackberry Wind Energy Data"
   ]
  },
  {
   "cell_type": "code",
   "execution_count": 42,
   "metadata": {},
   "outputs": [
    {
     "data": {
      "text/html": [
       "<div>\n",
       "<style scoped>\n",
       "    .dataframe tbody tr th:only-of-type {\n",
       "        vertical-align: middle;\n",
       "    }\n",
       "\n",
       "    .dataframe tbody tr th {\n",
       "        vertical-align: top;\n",
       "    }\n",
       "\n",
       "    .dataframe thead th {\n",
       "        text-align: right;\n",
       "    }\n",
       "</style>\n",
       "<table border=\"1\" class=\"dataframe\">\n",
       "  <thead>\n",
       "    <tr style=\"text-align: right;\">\n",
       "      <th></th>\n",
       "      <th>Unit</th>\n",
       "      <th>Date</th>\n",
       "      <th>Hour Ending</th>\n",
       "      <th>MWH</th>\n",
       "    </tr>\n",
       "  </thead>\n",
       "  <tbody>\n",
       "    <tr>\n",
       "      <th>0</th>\n",
       "      <td>HWF_HWFG1</td>\n",
       "      <td>20190101</td>\n",
       "      <td>100</td>\n",
       "      <td>110.487950</td>\n",
       "    </tr>\n",
       "    <tr>\n",
       "      <th>1</th>\n",
       "      <td>HWF_HWFG1</td>\n",
       "      <td>20190101</td>\n",
       "      <td>200</td>\n",
       "      <td>72.020225</td>\n",
       "    </tr>\n",
       "    <tr>\n",
       "      <th>2</th>\n",
       "      <td>HWF_HWFG1</td>\n",
       "      <td>20190101</td>\n",
       "      <td>300</td>\n",
       "      <td>67.639475</td>\n",
       "    </tr>\n",
       "    <tr>\n",
       "      <th>3</th>\n",
       "      <td>HWF_HWFG1</td>\n",
       "      <td>20190101</td>\n",
       "      <td>400</td>\n",
       "      <td>63.718900</td>\n",
       "    </tr>\n",
       "    <tr>\n",
       "      <th>4</th>\n",
       "      <td>HWF_HWFG1</td>\n",
       "      <td>20190101</td>\n",
       "      <td>500</td>\n",
       "      <td>61.264250</td>\n",
       "    </tr>\n",
       "    <tr>\n",
       "      <th>...</th>\n",
       "      <td>...</td>\n",
       "      <td>...</td>\n",
       "      <td>...</td>\n",
       "      <td>...</td>\n",
       "    </tr>\n",
       "    <tr>\n",
       "      <th>13866</th>\n",
       "      <td>HWF_HWFG1</td>\n",
       "      <td>20200731</td>\n",
       "      <td>2000</td>\n",
       "      <td>4.998600</td>\n",
       "    </tr>\n",
       "    <tr>\n",
       "      <th>13867</th>\n",
       "      <td>HWF_HWFG1</td>\n",
       "      <td>20200731</td>\n",
       "      <td>2100</td>\n",
       "      <td>16.390275</td>\n",
       "    </tr>\n",
       "    <tr>\n",
       "      <th>13868</th>\n",
       "      <td>HWF_HWFG1</td>\n",
       "      <td>20200731</td>\n",
       "      <td>2200</td>\n",
       "      <td>20.637800</td>\n",
       "    </tr>\n",
       "    <tr>\n",
       "      <th>13869</th>\n",
       "      <td>HWF_HWFG1</td>\n",
       "      <td>20200731</td>\n",
       "      <td>2300</td>\n",
       "      <td>13.998975</td>\n",
       "    </tr>\n",
       "    <tr>\n",
       "      <th>13870</th>\n",
       "      <td>HWF_HWFG1</td>\n",
       "      <td>20200731</td>\n",
       "      <td>2400</td>\n",
       "      <td>12.494875</td>\n",
       "    </tr>\n",
       "  </tbody>\n",
       "</table>\n",
       "<p>13871 rows × 4 columns</p>\n",
       "</div>"
      ],
      "text/plain": [
       "            Unit      Date Hour Ending         MWH\n",
       "0      HWF_HWFG1  20190101         100  110.487950\n",
       "1      HWF_HWFG1  20190101         200   72.020225\n",
       "2      HWF_HWFG1  20190101         300   67.639475\n",
       "3      HWF_HWFG1  20190101         400   63.718900\n",
       "4      HWF_HWFG1  20190101         500   61.264250\n",
       "...          ...       ...         ...         ...\n",
       "13866  HWF_HWFG1  20200731        2000    4.998600\n",
       "13867  HWF_HWFG1  20200731        2100   16.390275\n",
       "13868  HWF_HWFG1  20200731        2200   20.637800\n",
       "13869  HWF_HWFG1  20200731        2300   13.998975\n",
       "13870  HWF_HWFG1  20200731        2400   12.494875\n",
       "\n",
       "[13871 rows x 4 columns]"
      ]
     },
     "execution_count": 42,
     "metadata": {},
     "output_type": "execute_result"
    }
   ],
   "source": [
    "data = \"Resources/Hackberry_Generation.csv\"\n",
    "Hackberry_df = pd.read_csv(data)\n",
    "Hackberry_df"
   ]
  },
  {
   "cell_type": "code",
   "execution_count": 43,
   "metadata": {},
   "outputs": [
    {
     "data": {
      "text/plain": [
       "Unit            object\n",
       "Date             int64\n",
       "Hour Ending     object\n",
       "MWH            float64\n",
       "dtype: object"
      ]
     },
     "execution_count": 43,
     "metadata": {},
     "output_type": "execute_result"
    }
   ],
   "source": [
    "Hackberry_df.dtypes"
   ]
  },
  {
   "cell_type": "code",
   "execution_count": 44,
   "metadata": {},
   "outputs": [],
   "source": [
    "# Dropping Unit Column\n",
    "Hackberry_df = Hackberry_df.drop('Unit', 1)"
   ]
  },
  {
   "cell_type": "code",
   "execution_count": 45,
   "metadata": {},
   "outputs": [],
   "source": [
    "# Renaming column name from 'Hour Ending' to 'Hour'\n",
    "Hackberry_df.rename(columns = {'Hour Ending':'Hour'}, inplace = True)"
   ]
  },
  {
   "cell_type": "code",
   "execution_count": 46,
   "metadata": {},
   "outputs": [],
   "source": [
    "# Converting Date to datetime\n",
    "Hackberry_df['Date'] = pd.to_datetime(Hackberry_df['Date'], format='%Y%m%d')"
   ]
  },
  {
   "cell_type": "code",
   "execution_count": 47,
   "metadata": {},
   "outputs": [
    {
     "data": {
      "text/plain": [
       "Date    datetime64[ns]\n",
       "Hour            object\n",
       "MWH            float64\n",
       "dtype: object"
      ]
     },
     "execution_count": 47,
     "metadata": {},
     "output_type": "execute_result"
    }
   ],
   "source": [
    "# Checking data type\n",
    "Hackberry_df.dtypes"
   ]
  },
  {
   "cell_type": "code",
   "execution_count": 48,
   "metadata": {},
   "outputs": [],
   "source": [
    "# Removing the last two characters from the hour column as the times are hourly\n",
    "Hackberry_df['Hour'] = Hackberry_df['Hour'].astype(str).str[:-2].astype(np.int64)"
   ]
  },
  {
   "cell_type": "code",
   "execution_count": 49,
   "metadata": {},
   "outputs": [
    {
     "data": {
      "text/plain": [
       "Date    datetime64[ns]\n",
       "Hour             int64\n",
       "MWH            float64\n",
       "dtype: object"
      ]
     },
     "execution_count": 49,
     "metadata": {},
     "output_type": "execute_result"
    }
   ],
   "source": [
    "# Checking Hour data type\n",
    "Hackberry_df.dtypes"
   ]
  },
  {
   "cell_type": "code",
   "execution_count": 50,
   "metadata": {},
   "outputs": [],
   "source": [
    "Hackberry_df['hour'] =pd.to_timedelta(Hackberry_df['Hour'], unit='h')"
   ]
  },
  {
   "cell_type": "code",
   "execution_count": 51,
   "metadata": {},
   "outputs": [],
   "source": [
    "# Creating new column called 'hour' in timedelta format without date\n",
    "Hackberry_df['hour'] = Hackberry_df['hour'] - pd.to_timedelta(Hackberry_df['hour'].dt.days, unit='d')"
   ]
  },
  {
   "cell_type": "code",
   "execution_count": 52,
   "metadata": {},
   "outputs": [],
   "source": [
    "# Dropping the original 'Hour' column\n",
    "Hackberry_df = Hackberry_df.drop('Hour', 1)"
   ]
  },
  {
   "cell_type": "code",
   "execution_count": 53,
   "metadata": {},
   "outputs": [],
   "source": [
    "# Re-arranging the column headers\n",
    "Hackberry_df = Hackberry_df[[\"Date\", \"hour\", \"MWH\"]]"
   ]
  },
  {
   "cell_type": "code",
   "execution_count": 54,
   "metadata": {},
   "outputs": [
    {
     "data": {
      "text/plain": [
       "Date     datetime64[ns]\n",
       "hour    timedelta64[ns]\n",
       "MWH             float64\n",
       "dtype: object"
      ]
     },
     "execution_count": 54,
     "metadata": {},
     "output_type": "execute_result"
    }
   ],
   "source": [
    "Hackberry_df.dtypes"
   ]
  },
  {
   "cell_type": "code",
   "execution_count": 55,
   "metadata": {},
   "outputs": [],
   "source": [
    "# Combining Date and hour to a single column as they are in datetime and timedelta formats\n",
    "Hackberry_df['time'] = Hackberry_df['Date'] + Hackberry_df['hour']"
   ]
  },
  {
   "cell_type": "code",
   "execution_count": 56,
   "metadata": {},
   "outputs": [],
   "source": [
    "# Re-arranging the column headers and removing the Date and hour columns\n",
    "Hackberry_df = Hackberry_df[[\"time\", \"MWH\"]]"
   ]
  },
  {
   "cell_type": "code",
   "execution_count": 57,
   "metadata": {},
   "outputs": [
    {
     "data": {
      "text/plain": [
       "time    datetime64[ns]\n",
       "MWH            float64\n",
       "dtype: object"
      ]
     },
     "execution_count": 57,
     "metadata": {},
     "output_type": "execute_result"
    }
   ],
   "source": [
    "Hackberry_df.dtypes"
   ]
  },
  {
   "cell_type": "code",
   "execution_count": 58,
   "metadata": {},
   "outputs": [
    {
     "data": {
      "text/html": [
       "<div>\n",
       "<style scoped>\n",
       "    .dataframe tbody tr th:only-of-type {\n",
       "        vertical-align: middle;\n",
       "    }\n",
       "\n",
       "    .dataframe tbody tr th {\n",
       "        vertical-align: top;\n",
       "    }\n",
       "\n",
       "    .dataframe thead th {\n",
       "        text-align: right;\n",
       "    }\n",
       "</style>\n",
       "<table border=\"1\" class=\"dataframe\">\n",
       "  <thead>\n",
       "    <tr style=\"text-align: right;\">\n",
       "      <th></th>\n",
       "      <th>time</th>\n",
       "      <th>MWH</th>\n",
       "    </tr>\n",
       "  </thead>\n",
       "  <tbody>\n",
       "    <tr>\n",
       "      <th>0</th>\n",
       "      <td>2019-01-01 01:00:00</td>\n",
       "      <td>110.487950</td>\n",
       "    </tr>\n",
       "    <tr>\n",
       "      <th>1</th>\n",
       "      <td>2019-01-01 02:00:00</td>\n",
       "      <td>72.020225</td>\n",
       "    </tr>\n",
       "    <tr>\n",
       "      <th>2</th>\n",
       "      <td>2019-01-01 03:00:00</td>\n",
       "      <td>67.639475</td>\n",
       "    </tr>\n",
       "    <tr>\n",
       "      <th>3</th>\n",
       "      <td>2019-01-01 04:00:00</td>\n",
       "      <td>63.718900</td>\n",
       "    </tr>\n",
       "    <tr>\n",
       "      <th>4</th>\n",
       "      <td>2019-01-01 05:00:00</td>\n",
       "      <td>61.264250</td>\n",
       "    </tr>\n",
       "    <tr>\n",
       "      <th>...</th>\n",
       "      <td>...</td>\n",
       "      <td>...</td>\n",
       "    </tr>\n",
       "    <tr>\n",
       "      <th>13866</th>\n",
       "      <td>2020-07-31 20:00:00</td>\n",
       "      <td>4.998600</td>\n",
       "    </tr>\n",
       "    <tr>\n",
       "      <th>13867</th>\n",
       "      <td>2020-07-31 21:00:00</td>\n",
       "      <td>16.390275</td>\n",
       "    </tr>\n",
       "    <tr>\n",
       "      <th>13868</th>\n",
       "      <td>2020-07-31 22:00:00</td>\n",
       "      <td>20.637800</td>\n",
       "    </tr>\n",
       "    <tr>\n",
       "      <th>13869</th>\n",
       "      <td>2020-07-31 23:00:00</td>\n",
       "      <td>13.998975</td>\n",
       "    </tr>\n",
       "    <tr>\n",
       "      <th>13870</th>\n",
       "      <td>2020-07-31 00:00:00</td>\n",
       "      <td>12.494875</td>\n",
       "    </tr>\n",
       "  </tbody>\n",
       "</table>\n",
       "<p>13871 rows × 2 columns</p>\n",
       "</div>"
      ],
      "text/plain": [
       "                     time         MWH\n",
       "0     2019-01-01 01:00:00  110.487950\n",
       "1     2019-01-01 02:00:00   72.020225\n",
       "2     2019-01-01 03:00:00   67.639475\n",
       "3     2019-01-01 04:00:00   63.718900\n",
       "4     2019-01-01 05:00:00   61.264250\n",
       "...                   ...         ...\n",
       "13866 2020-07-31 20:00:00    4.998600\n",
       "13867 2020-07-31 21:00:00   16.390275\n",
       "13868 2020-07-31 22:00:00   20.637800\n",
       "13869 2020-07-31 23:00:00   13.998975\n",
       "13870 2020-07-31 00:00:00   12.494875\n",
       "\n",
       "[13871 rows x 2 columns]"
      ]
     },
     "execution_count": 58,
     "metadata": {},
     "output_type": "execute_result"
    }
   ],
   "source": [
    "Hackberry_df.copy()"
   ]
  },
  {
   "cell_type": "code",
   "execution_count": 59,
   "metadata": {},
   "outputs": [],
   "source": [
    "# Removing rows to include only 2019 year data to include same time range as wind data\n",
    "Hackberry2019 = Hackberry_df.drop(Hackberry_df.index[8759:13871])"
   ]
  },
  {
   "cell_type": "code",
   "execution_count": 60,
   "metadata": {},
   "outputs": [],
   "source": [
    "Hackberry2019.to_csv(r'Output/Hackberry_MHW.csv', index = False)"
   ]
  },
  {
   "cell_type": "markdown",
   "metadata": {},
   "source": [
    "## Merging Hackberry Energy Data with Wind Data"
   ]
  },
  {
   "cell_type": "code",
   "execution_count": 61,
   "metadata": {},
   "outputs": [],
   "source": [
    "hackberryWindMWH = pd.merge(weather2019Clean, Hackberry2019, on='time', how='outer')"
   ]
  },
  {
   "cell_type": "code",
   "execution_count": 62,
   "metadata": {},
   "outputs": [],
   "source": [
    "hackberryWindMWH =hackberryWindMWH.drop(hackberryWindMWH.index[8760])"
   ]
  },
  {
   "cell_type": "code",
   "execution_count": 63,
   "metadata": {},
   "outputs": [
    {
     "data": {
      "text/plain": [
       "time                     datetime64[ns]\n",
       "WindSpeed_mph                   float64\n",
       "WindDirection_degrees           float64\n",
       "WindGust_mph                    float64\n",
       "Temp_F                          float64\n",
       "Humidity_percent                float64\n",
       "MWH                             float64\n",
       "dtype: object"
      ]
     },
     "execution_count": 63,
     "metadata": {},
     "output_type": "execute_result"
    }
   ],
   "source": [
    "hackberryWindMWH.dtypes"
   ]
  },
  {
   "cell_type": "code",
   "execution_count": 64,
   "metadata": {},
   "outputs": [],
   "source": [
    "hackberryWindMWH.to_csv(r'Output/Hackberry_Wind_MHW.csv', index = False)"
   ]
  },
  {
   "cell_type": "code",
   "execution_count": 65,
   "metadata": {},
   "outputs": [
    {
     "data": {
      "text/html": [
       "<div>\n",
       "<style scoped>\n",
       "    .dataframe tbody tr th:only-of-type {\n",
       "        vertical-align: middle;\n",
       "    }\n",
       "\n",
       "    .dataframe tbody tr th {\n",
       "        vertical-align: top;\n",
       "    }\n",
       "\n",
       "    .dataframe thead th {\n",
       "        text-align: right;\n",
       "    }\n",
       "</style>\n",
       "<table border=\"1\" class=\"dataframe\">\n",
       "  <thead>\n",
       "    <tr style=\"text-align: right;\">\n",
       "      <th></th>\n",
       "      <th>time</th>\n",
       "      <th>WindSpeed_mph</th>\n",
       "      <th>WindDirection_degrees</th>\n",
       "      <th>WindGust_mph</th>\n",
       "      <th>Temp_F</th>\n",
       "      <th>Humidity_percent</th>\n",
       "      <th>MWH</th>\n",
       "    </tr>\n",
       "  </thead>\n",
       "  <tbody>\n",
       "    <tr>\n",
       "      <th>0</th>\n",
       "      <td>2019-01-01 01:00:00</td>\n",
       "      <td>13.0</td>\n",
       "      <td>89.0</td>\n",
       "      <td>23.0</td>\n",
       "      <td>33.0</td>\n",
       "      <td>74.0</td>\n",
       "      <td>110.487950</td>\n",
       "    </tr>\n",
       "    <tr>\n",
       "      <th>1</th>\n",
       "      <td>2019-01-01 02:00:00</td>\n",
       "      <td>14.0</td>\n",
       "      <td>53.0</td>\n",
       "      <td>23.0</td>\n",
       "      <td>32.0</td>\n",
       "      <td>76.0</td>\n",
       "      <td>72.020225</td>\n",
       "    </tr>\n",
       "    <tr>\n",
       "      <th>2</th>\n",
       "      <td>2019-01-01 03:00:00</td>\n",
       "      <td>15.0</td>\n",
       "      <td>17.0</td>\n",
       "      <td>22.0</td>\n",
       "      <td>30.0</td>\n",
       "      <td>77.0</td>\n",
       "      <td>67.639475</td>\n",
       "    </tr>\n",
       "    <tr>\n",
       "      <th>3</th>\n",
       "      <td>2019-01-01 04:00:00</td>\n",
       "      <td>14.0</td>\n",
       "      <td>18.0</td>\n",
       "      <td>21.0</td>\n",
       "      <td>29.0</td>\n",
       "      <td>77.0</td>\n",
       "      <td>63.718900</td>\n",
       "    </tr>\n",
       "    <tr>\n",
       "      <th>4</th>\n",
       "      <td>2019-01-01 05:00:00</td>\n",
       "      <td>14.0</td>\n",
       "      <td>19.0</td>\n",
       "      <td>20.0</td>\n",
       "      <td>28.0</td>\n",
       "      <td>76.0</td>\n",
       "      <td>61.264250</td>\n",
       "    </tr>\n",
       "    <tr>\n",
       "      <th>...</th>\n",
       "      <td>...</td>\n",
       "      <td>...</td>\n",
       "      <td>...</td>\n",
       "      <td>...</td>\n",
       "      <td>...</td>\n",
       "      <td>...</td>\n",
       "      <td>...</td>\n",
       "    </tr>\n",
       "    <tr>\n",
       "      <th>8755</th>\n",
       "      <td>2019-12-31 19:00:00</td>\n",
       "      <td>6.0</td>\n",
       "      <td>175.0</td>\n",
       "      <td>12.0</td>\n",
       "      <td>49.0</td>\n",
       "      <td>39.0</td>\n",
       "      <td>15.506725</td>\n",
       "    </tr>\n",
       "    <tr>\n",
       "      <th>8756</th>\n",
       "      <td>2019-12-31 20:00:00</td>\n",
       "      <td>6.0</td>\n",
       "      <td>176.0</td>\n",
       "      <td>13.0</td>\n",
       "      <td>47.0</td>\n",
       "      <td>42.0</td>\n",
       "      <td>32.191125</td>\n",
       "    </tr>\n",
       "    <tr>\n",
       "      <th>8757</th>\n",
       "      <td>2019-12-31 21:00:00</td>\n",
       "      <td>7.0</td>\n",
       "      <td>176.0</td>\n",
       "      <td>14.0</td>\n",
       "      <td>46.0</td>\n",
       "      <td>45.0</td>\n",
       "      <td>40.677250</td>\n",
       "    </tr>\n",
       "    <tr>\n",
       "      <th>8758</th>\n",
       "      <td>2019-12-31 22:00:00</td>\n",
       "      <td>7.0</td>\n",
       "      <td>176.0</td>\n",
       "      <td>15.0</td>\n",
       "      <td>46.0</td>\n",
       "      <td>46.0</td>\n",
       "      <td>45.826475</td>\n",
       "    </tr>\n",
       "    <tr>\n",
       "      <th>8759</th>\n",
       "      <td>2019-12-31 23:00:00</td>\n",
       "      <td>7.0</td>\n",
       "      <td>175.0</td>\n",
       "      <td>16.0</td>\n",
       "      <td>45.0</td>\n",
       "      <td>48.0</td>\n",
       "      <td>59.101325</td>\n",
       "    </tr>\n",
       "  </tbody>\n",
       "</table>\n",
       "<p>8760 rows × 7 columns</p>\n",
       "</div>"
      ],
      "text/plain": [
       "                    time  WindSpeed_mph  WindDirection_degrees  WindGust_mph  \\\n",
       "0    2019-01-01 01:00:00           13.0                   89.0          23.0   \n",
       "1    2019-01-01 02:00:00           14.0                   53.0          23.0   \n",
       "2    2019-01-01 03:00:00           15.0                   17.0          22.0   \n",
       "3    2019-01-01 04:00:00           14.0                   18.0          21.0   \n",
       "4    2019-01-01 05:00:00           14.0                   19.0          20.0   \n",
       "...                  ...            ...                    ...           ...   \n",
       "8755 2019-12-31 19:00:00            6.0                  175.0          12.0   \n",
       "8756 2019-12-31 20:00:00            6.0                  176.0          13.0   \n",
       "8757 2019-12-31 21:00:00            7.0                  176.0          14.0   \n",
       "8758 2019-12-31 22:00:00            7.0                  176.0          15.0   \n",
       "8759 2019-12-31 23:00:00            7.0                  175.0          16.0   \n",
       "\n",
       "      Temp_F  Humidity_percent         MWH  \n",
       "0       33.0              74.0  110.487950  \n",
       "1       32.0              76.0   72.020225  \n",
       "2       30.0              77.0   67.639475  \n",
       "3       29.0              77.0   63.718900  \n",
       "4       28.0              76.0   61.264250  \n",
       "...      ...               ...         ...  \n",
       "8755    49.0              39.0   15.506725  \n",
       "8756    47.0              42.0   32.191125  \n",
       "8757    46.0              45.0   40.677250  \n",
       "8758    46.0              46.0   45.826475  \n",
       "8759    45.0              48.0   59.101325  \n",
       "\n",
       "[8760 rows x 7 columns]"
      ]
     },
     "execution_count": 65,
     "metadata": {},
     "output_type": "execute_result"
    }
   ],
   "source": [
    "hackberryWindMWH.copy()"
   ]
  },
  {
   "cell_type": "code",
   "execution_count": 66,
   "metadata": {},
   "outputs": [],
   "source": [
    "# There are 72 turbines in Hackberry Farm.\n",
    "hackberryWindMWH['MWH'] = hackberryWindMWH['MWH']/72"
   ]
  },
  {
   "cell_type": "code",
   "execution_count": 67,
   "metadata": {},
   "outputs": [
    {
     "data": {
      "text/plain": [
       "time                     datetime64[ns]\n",
       "WindSpeed_mph                   float64\n",
       "WindDirection_degrees           float64\n",
       "WindGust_mph                    float64\n",
       "Temp_F                          float64\n",
       "Humidity_percent                float64\n",
       "MWH                             float64\n",
       "dtype: object"
      ]
     },
     "execution_count": 67,
     "metadata": {},
     "output_type": "execute_result"
    }
   ],
   "source": [
    "hackberryWindMWH.dtypes"
   ]
  },
  {
   "cell_type": "code",
   "execution_count": 68,
   "metadata": {},
   "outputs": [],
   "source": [
    "hackberry = hackberryWindMWH.dropna()"
   ]
  },
  {
   "cell_type": "code",
   "execution_count": 69,
   "metadata": {},
   "outputs": [],
   "source": [
    "#hackberry[\"WindSpeed_mph\"] = hackberry[\"WindSpeed_mph\"].round(0).astype(int)"
   ]
  },
  {
   "cell_type": "markdown",
   "metadata": {},
   "source": [
    "## Linear Regression"
   ]
  },
  {
   "cell_type": "code",
   "execution_count": 70,
   "metadata": {},
   "outputs": [],
   "source": [
    "import warnings\n",
    "warnings.filterwarnings('ignore')"
   ]
  },
  {
   "cell_type": "code",
   "execution_count": 71,
   "metadata": {},
   "outputs": [],
   "source": [
    "from pathlib import Path\n",
    "from collections import Counter\n",
    "import matplotlib.pyplot as plt\n",
    "from sklearn.linear_model import LinearRegression"
   ]
  },
  {
   "cell_type": "code",
   "execution_count": 72,
   "metadata": {},
   "outputs": [],
   "source": [
    "from sklearn.metrics import balanced_accuracy_score\n",
    "from sklearn.metrics import confusion_matrix\n",
    "from imblearn.metrics import classification_report_imbalanced"
   ]
  },
  {
   "cell_type": "code",
   "execution_count": 73,
   "metadata": {},
   "outputs": [
    {
     "data": {
      "image/png": "[encoded data removed]",
      "text/plain": [
       "<Figure size 432x288 with 1 Axes>"
      ]
     },
     "metadata": {
      "needs_background": "light"
     },
     "output_type": "display_data"
    }
   ],
   "source": [
    "# Visually inspect the data\n",
    "plt.scatter(hackberry.WindSpeed_mph, hackberry.MWH)\n",
    "plt.xlabel('Wind Speed')\n",
    "plt.ylabel('MHW')\n",
    "plt.show()"
   ]
  },
  {
   "cell_type": "markdown",
   "metadata": {},
   "source": [
    "##  It can be concluded that linear regression on wind speed alone does not track the power generated"
   ]
  },
  {
   "cell_type": "code",
   "execution_count": 74,
   "metadata": {},
   "outputs": [],
   "source": [
    "hackberry.to_csv(r'Output/hackberry_encoded.csv', index = False)"
   ]
  },
  {
   "cell_type": "code",
   "execution_count": 75,
   "metadata": {},
   "outputs": [
    {
     "data": {
      "text/html": [
       "<div>\n",
       "<style scoped>\n",
       "    .dataframe tbody tr th:only-of-type {\n",
       "        vertical-align: middle;\n",
       "    }\n",
       "\n",
       "    .dataframe tbody tr th {\n",
       "        vertical-align: top;\n",
       "    }\n",
       "\n",
       "    .dataframe thead th {\n",
       "        text-align: right;\n",
       "    }\n",
       "</style>\n",
       "<table border=\"1\" class=\"dataframe\">\n",
       "  <thead>\n",
       "    <tr style=\"text-align: right;\">\n",
       "      <th></th>\n",
       "      <th>time</th>\n",
       "      <th>WindSpeed_mph</th>\n",
       "      <th>WindDirection_degrees</th>\n",
       "      <th>WindGust_mph</th>\n",
       "      <th>Temp_F</th>\n",
       "      <th>Humidity_percent</th>\n",
       "      <th>MWH</th>\n",
       "    </tr>\n",
       "  </thead>\n",
       "  <tbody>\n",
       "    <tr>\n",
       "      <th>0</th>\n",
       "      <td>2019-01-01 01:00:00</td>\n",
       "      <td>13.0</td>\n",
       "      <td>89.0</td>\n",
       "      <td>23.0</td>\n",
       "      <td>33.0</td>\n",
       "      <td>74.0</td>\n",
       "      <td>1.534555</td>\n",
       "    </tr>\n",
       "    <tr>\n",
       "      <th>1</th>\n",
       "      <td>2019-01-01 02:00:00</td>\n",
       "      <td>14.0</td>\n",
       "      <td>53.0</td>\n",
       "      <td>23.0</td>\n",
       "      <td>32.0</td>\n",
       "      <td>76.0</td>\n",
       "      <td>1.000281</td>\n",
       "    </tr>\n",
       "    <tr>\n",
       "      <th>2</th>\n",
       "      <td>2019-01-01 03:00:00</td>\n",
       "      <td>15.0</td>\n",
       "      <td>17.0</td>\n",
       "      <td>22.0</td>\n",
       "      <td>30.0</td>\n",
       "      <td>77.0</td>\n",
       "      <td>0.939437</td>\n",
       "    </tr>\n",
       "    <tr>\n",
       "      <th>3</th>\n",
       "      <td>2019-01-01 04:00:00</td>\n",
       "      <td>14.0</td>\n",
       "      <td>18.0</td>\n",
       "      <td>21.0</td>\n",
       "      <td>29.0</td>\n",
       "      <td>77.0</td>\n",
       "      <td>0.884985</td>\n",
       "    </tr>\n",
       "    <tr>\n",
       "      <th>4</th>\n",
       "      <td>2019-01-01 05:00:00</td>\n",
       "      <td>14.0</td>\n",
       "      <td>19.0</td>\n",
       "      <td>20.0</td>\n",
       "      <td>28.0</td>\n",
       "      <td>76.0</td>\n",
       "      <td>0.850892</td>\n",
       "    </tr>\n",
       "    <tr>\n",
       "      <th>...</th>\n",
       "      <td>...</td>\n",
       "      <td>...</td>\n",
       "      <td>...</td>\n",
       "      <td>...</td>\n",
       "      <td>...</td>\n",
       "      <td>...</td>\n",
       "      <td>...</td>\n",
       "    </tr>\n",
       "    <tr>\n",
       "      <th>8753</th>\n",
       "      <td>2019-12-31 19:00:00</td>\n",
       "      <td>6.0</td>\n",
       "      <td>175.0</td>\n",
       "      <td>12.0</td>\n",
       "      <td>49.0</td>\n",
       "      <td>39.0</td>\n",
       "      <td>0.215371</td>\n",
       "    </tr>\n",
       "    <tr>\n",
       "      <th>8754</th>\n",
       "      <td>2019-12-31 20:00:00</td>\n",
       "      <td>6.0</td>\n",
       "      <td>176.0</td>\n",
       "      <td>13.0</td>\n",
       "      <td>47.0</td>\n",
       "      <td>42.0</td>\n",
       "      <td>0.447099</td>\n",
       "    </tr>\n",
       "    <tr>\n",
       "      <th>8755</th>\n",
       "      <td>2019-12-31 21:00:00</td>\n",
       "      <td>7.0</td>\n",
       "      <td>176.0</td>\n",
       "      <td>14.0</td>\n",
       "      <td>46.0</td>\n",
       "      <td>45.0</td>\n",
       "      <td>0.564962</td>\n",
       "    </tr>\n",
       "    <tr>\n",
       "      <th>8756</th>\n",
       "      <td>2019-12-31 22:00:00</td>\n",
       "      <td>7.0</td>\n",
       "      <td>176.0</td>\n",
       "      <td>15.0</td>\n",
       "      <td>46.0</td>\n",
       "      <td>46.0</td>\n",
       "      <td>0.636479</td>\n",
       "    </tr>\n",
       "    <tr>\n",
       "      <th>8757</th>\n",
       "      <td>2019-12-31 23:00:00</td>\n",
       "      <td>7.0</td>\n",
       "      <td>175.0</td>\n",
       "      <td>16.0</td>\n",
       "      <td>45.0</td>\n",
       "      <td>48.0</td>\n",
       "      <td>0.820852</td>\n",
       "    </tr>\n",
       "  </tbody>\n",
       "</table>\n",
       "<p>8758 rows × 7 columns</p>\n",
       "</div>"
      ],
      "text/plain": [
       "                     time  WindSpeed_mph  WindDirection_degrees  WindGust_mph  \\\n",
       "0     2019-01-01 01:00:00           13.0                   89.0          23.0   \n",
       "1     2019-01-01 02:00:00           14.0                   53.0          23.0   \n",
       "2     2019-01-01 03:00:00           15.0                   17.0          22.0   \n",
       "3     2019-01-01 04:00:00           14.0                   18.0          21.0   \n",
       "4     2019-01-01 05:00:00           14.0                   19.0          20.0   \n",
       "...                   ...            ...                    ...           ...   \n",
       "8753  2019-12-31 19:00:00            6.0                  175.0          12.0   \n",
       "8754  2019-12-31 20:00:00            6.0                  176.0          13.0   \n",
       "8755  2019-12-31 21:00:00            7.0                  176.0          14.0   \n",
       "8756  2019-12-31 22:00:00            7.0                  176.0          15.0   \n",
       "8757  2019-12-31 23:00:00            7.0                  175.0          16.0   \n",
       "\n",
       "      Temp_F  Humidity_percent       MWH  \n",
       "0       33.0              74.0  1.534555  \n",
       "1       32.0              76.0  1.000281  \n",
       "2       30.0              77.0  0.939437  \n",
       "3       29.0              77.0  0.884985  \n",
       "4       28.0              76.0  0.850892  \n",
       "...      ...               ...       ...  \n",
       "8753    49.0              39.0  0.215371  \n",
       "8754    47.0              42.0  0.447099  \n",
       "8755    46.0              45.0  0.564962  \n",
       "8756    46.0              46.0  0.636479  \n",
       "8757    45.0              48.0  0.820852  \n",
       "\n",
       "[8758 rows x 7 columns]"
      ]
     },
     "execution_count": 75,
     "metadata": {},
     "output_type": "execute_result"
    }
   ],
   "source": [
    "data = \"Output/hackberry_encoded.csv\"\n",
    "hackberry_encoded = pd.read_csv(data)\n",
    "hackberry_encoded"
   ]
  },
  {
   "cell_type": "code",
   "execution_count": 76,
   "metadata": {},
   "outputs": [],
   "source": [
    "#hackberry_encoded = hackberry_encoded([\"time\", date(2007,8,31)], dtype='datetime64')"
   ]
  },
  {
   "cell_type": "code",
   "execution_count": 77,
   "metadata": {},
   "outputs": [],
   "source": [
    "hackberryEncoded = hackberry_encoded.drop([\"time\"], axis=1)"
   ]
  },
  {
   "cell_type": "code",
   "execution_count": 78,
   "metadata": {},
   "outputs": [],
   "source": [
    "hackberryEncoded[\"WindSpeed_mph\"] = hackberryEncoded[\"WindSpeed_mph\"].round(0).astype(int)"
   ]
  },
  {
   "cell_type": "code",
   "execution_count": 79,
   "metadata": {},
   "outputs": [],
   "source": [
    "hackberryEncoded[\"WindDirection_degrees\"] = hackberryEncoded[\"WindDirection_degrees\"].round(0).astype(int)"
   ]
  },
  {
   "cell_type": "code",
   "execution_count": 80,
   "metadata": {},
   "outputs": [],
   "source": [
    "hackberryEncoded[\"Temp_F\"] = hackberryEncoded[\"Temp_F\"].round(0).astype(int)"
   ]
  },
  {
   "cell_type": "code",
   "execution_count": 81,
   "metadata": {},
   "outputs": [],
   "source": [
    "hackberryEncoded[\"Humidity_percent\"] = hackberryEncoded[\"Humidity_percent\"].round(0).astype(int)"
   ]
  },
  {
   "cell_type": "code",
   "execution_count": 82,
   "metadata": {},
   "outputs": [],
   "source": [
    "hackberryEncoded[\"WindGust_mph\"] = hackberryEncoded[\"WindGust_mph\"].round(0).astype(int)"
   ]
  },
  {
   "cell_type": "code",
   "execution_count": 83,
   "metadata": {},
   "outputs": [],
   "source": [
    "hackberryEncoded[\"MWH\"] = hackberryEncoded[\"MWH\"].round(0).astype(int)"
   ]
  },
  {
   "cell_type": "code",
   "execution_count": 84,
   "metadata": {},
   "outputs": [],
   "source": [
    "# Creating the scaler instance\n",
    "from sklearn.preprocessing import StandardScaler\n",
    "data_scaler = StandardScaler()"
   ]
  },
  {
   "cell_type": "code",
   "execution_count": 85,
   "metadata": {},
   "outputs": [],
   "source": [
    "hackberry_scaled = data_scaler.fit_transform(hackberryEncoded)"
   ]
  },
  {
   "cell_type": "code",
   "execution_count": 86,
   "metadata": {},
   "outputs": [
    {
     "data": {
      "text/plain": [
       "array([[ 0.3608004 , -1.05022902,  0.74188853, -1.84416382,  0.9587771 ,\n",
       "         1.76060903],\n",
       "       [ 0.56803347, -1.53116107,  0.74188853, -1.89917018,  1.06779963,\n",
       "         0.40636576],\n",
       "       [ 0.77526654, -2.01209313,  0.60454765, -2.00918289,  1.1223109 ,\n",
       "         0.40636576],\n",
       "       [ 0.56803347, -1.99873391,  0.46720677, -2.06418925,  1.1223109 ,\n",
       "         0.40636576],\n",
       "       [ 0.56803347, -1.98537468,  0.32986589, -2.11919561,  1.06779963,\n",
       "         0.40636576]])"
      ]
     },
     "execution_count": 86,
     "metadata": {},
     "output_type": "execute_result"
    }
   ],
   "source": [
    "hackberry_scaled[:5]"
   ]
  },
  {
   "cell_type": "code",
   "execution_count": 87,
   "metadata": {},
   "outputs": [
    {
     "name": "stdout",
     "output_type": "stream",
     "text": [
      "-1.1196037626729142e-16\n",
      "1.0\n"
     ]
    }
   ],
   "source": [
    "print(np.mean(hackberry_scaled[:,0]))\n",
    "print(np.std(hackberry_scaled[:,0]))"
   ]
  },
  {
   "cell_type": "code",
   "execution_count": 88,
   "metadata": {},
   "outputs": [
    {
     "data": {
      "text/html": [
       "<div>\n",
       "<style scoped>\n",
       "    .dataframe tbody tr th:only-of-type {\n",
       "        vertical-align: middle;\n",
       "    }\n",
       "\n",
       "    .dataframe tbody tr th {\n",
       "        vertical-align: top;\n",
       "    }\n",
       "\n",
       "    .dataframe thead th {\n",
       "        text-align: right;\n",
       "    }\n",
       "</style>\n",
       "<table border=\"1\" class=\"dataframe\">\n",
       "  <thead>\n",
       "    <tr style=\"text-align: right;\">\n",
       "      <th></th>\n",
       "      <th>WindSpeed_mph</th>\n",
       "      <th>WindDirection_degrees</th>\n",
       "      <th>WindGust_mph</th>\n",
       "      <th>Temp_F</th>\n",
       "      <th>Humidity_percent</th>\n",
       "    </tr>\n",
       "  </thead>\n",
       "  <tbody>\n",
       "    <tr>\n",
       "      <th>0</th>\n",
       "      <td>13</td>\n",
       "      <td>89</td>\n",
       "      <td>23</td>\n",
       "      <td>33</td>\n",
       "      <td>74</td>\n",
       "    </tr>\n",
       "    <tr>\n",
       "      <th>1</th>\n",
       "      <td>14</td>\n",
       "      <td>53</td>\n",
       "      <td>23</td>\n",
       "      <td>32</td>\n",
       "      <td>76</td>\n",
       "    </tr>\n",
       "    <tr>\n",
       "      <th>2</th>\n",
       "      <td>15</td>\n",
       "      <td>17</td>\n",
       "      <td>22</td>\n",
       "      <td>30</td>\n",
       "      <td>77</td>\n",
       "    </tr>\n",
       "    <tr>\n",
       "      <th>3</th>\n",
       "      <td>14</td>\n",
       "      <td>18</td>\n",
       "      <td>21</td>\n",
       "      <td>29</td>\n",
       "      <td>77</td>\n",
       "    </tr>\n",
       "    <tr>\n",
       "      <th>4</th>\n",
       "      <td>14</td>\n",
       "      <td>19</td>\n",
       "      <td>20</td>\n",
       "      <td>28</td>\n",
       "      <td>76</td>\n",
       "    </tr>\n",
       "  </tbody>\n",
       "</table>\n",
       "</div>"
      ],
      "text/plain": [
       "   WindSpeed_mph  WindDirection_degrees  WindGust_mph  Temp_F  \\\n",
       "0             13                     89            23      33   \n",
       "1             14                     53            23      32   \n",
       "2             15                     17            22      30   \n",
       "3             14                     18            21      29   \n",
       "4             14                     19            20      28   \n",
       "\n",
       "   Humidity_percent  \n",
       "0                74  \n",
       "1                76  \n",
       "2                77  \n",
       "3                77  \n",
       "4                76  "
      ]
     },
     "execution_count": 88,
     "metadata": {},
     "output_type": "execute_result"
    }
   ],
   "source": [
    "# Define the features set.\n",
    "X = hackberryEncoded.copy()\n",
    "X = X.drop(\"MWH\", axis=1)\n",
    "X.head()"
   ]
  },
  {
   "cell_type": "code",
   "execution_count": 89,
   "metadata": {},
   "outputs": [
    {
     "data": {
      "text/plain": [
       "array([2, 1, 1, 1, 1])"
      ]
     },
     "execution_count": 89,
     "metadata": {},
     "output_type": "execute_result"
    }
   ],
   "source": [
    "# Define the target set.\n",
    "y = hackberryEncoded[\"MWH\"].ravel()\n",
    "y[:5]"
   ]
  },
  {
   "cell_type": "markdown",
   "metadata": {},
   "source": [
    "# Multiple Linear Regression Model"
   ]
  },
  {
   "cell_type": "code",
   "execution_count": 90,
   "metadata": {},
   "outputs": [],
   "source": [
    "from sklearn import linear_model\n",
    "#from sklearn.metrics import mean_squared_error"
   ]
  },
  {
   "cell_type": "code",
   "execution_count": 91,
   "metadata": {},
   "outputs": [],
   "source": [
    "#X_train, X_test, y_train, y_test = train_test_split(X, y, test_size = 0.2, random_state=9)"
   ]
  },
  {
   "cell_type": "code",
   "execution_count": 92,
   "metadata": {},
   "outputs": [],
   "source": [
    "# with sklearn\n",
    "lm = linear_model.LinearRegression()\n",
    "model = lm.fit(X,y)"
   ]
  },
  {
   "cell_type": "code",
   "execution_count": 93,
   "metadata": {},
   "outputs": [],
   "source": [
    "predictions = lm.predict(X)"
   ]
  },
  {
   "cell_type": "code",
   "execution_count": 94,
   "metadata": {},
   "outputs": [
    {
     "data": {
      "text/plain": [
       "0.3423667651596264"
      ]
     },
     "execution_count": 94,
     "metadata": {},
     "output_type": "execute_result"
    }
   ],
   "source": [
    "#Return the coefficient of determination R^2 of the prediction\n",
    "#The coefficient R^2 is defined as (1 - u/v), where u is the residual sum of squares ((y_true - y_pred) ** 2).sum() and \n",
    "#v is the total sum of squares ((y_true - y_true.mean()) ** 2).sum().\n",
    "#The best possible score is 1.0 and it can be negative (because the model can be arbitrarily worse).\n",
    "#A constant model that always predicts the expected value of y,\n",
    "#disregarding the input features, would get a R^2 score of 0.0.\n",
    "\n",
    "lm.score(X,y)"
   ]
  },
  {
   "cell_type": "code",
   "execution_count": 95,
   "metadata": {},
   "outputs": [
    {
     "data": {
      "text/plain": [
       "array([-8.95710852e-03,  5.44010624e-04,  6.16989085e-02,  5.67109374e-05,\n",
       "        2.84278391e-03])"
      ]
     },
     "execution_count": 95,
     "metadata": {},
     "output_type": "execute_result"
    }
   ],
   "source": [
    "lm.coef_"
   ]
  },
  {
   "cell_type": "code",
   "execution_count": 96,
   "metadata": {},
   "outputs": [
    {
     "data": {
      "text/plain": [
       "-0.5403324965151426"
      ]
     },
     "execution_count": 96,
     "metadata": {},
     "output_type": "execute_result"
    }
   ],
   "source": [
    "lm.intercept_"
   ]
  },
  {
   "cell_type": "markdown",
   "metadata": {},
   "source": [
    "# Using Balanced Random Forest Classifier"
   ]
  },
  {
   "cell_type": "code",
   "execution_count": 99,
   "metadata": {},
   "outputs": [
    {
     "data": {
      "text/plain": [
       "Counter({0: 3089, 1: 2421, 2: 1058})"
      ]
     },
     "execution_count": 99,
     "metadata": {},
     "output_type": "execute_result"
    }
   ],
   "source": [
    "# Resample the training data with the RandomOversampler\n",
    "from imblearn.ensemble import BalancedRandomForestClassifier\n",
    "brfc = BalancedRandomForestClassifier(n_estimators=100, random_state=1)\n",
    "#split data into training and testing sets\n",
    "X_train, X_test, y_train, y_test = train_test_split(X, y, random_state=78)\n",
    "brfc.fit(X_train, y_train)\n",
    "Counter(y_train)"
   ]
  },
  {
   "cell_type": "code",
   "execution_count": 100,
   "metadata": {},
   "outputs": [
    {
     "data": {
      "text/plain": [
       "0.7292707753306864"
      ]
     },
     "execution_count": 100,
     "metadata": {},
     "output_type": "execute_result"
    }
   ],
   "source": [
    "# Calculated the balanced accuracy score\n",
    "y_pred = brfc.predict(X_test)\n",
    "balanced_accuracy_score(y_test, y_pred)"
   ]
  },
  {
   "cell_type": "code",
   "execution_count": 101,
   "metadata": {},
   "outputs": [
    {
     "data": {
      "text/plain": [
       "array([[764, 156,  87],\n",
       "       [112, 475, 186],\n",
       "       [ 10,  66, 334]], dtype=int64)"
      ]
     },
     "execution_count": 101,
     "metadata": {},
     "output_type": "execute_result"
    }
   ],
   "source": [
    "# Display the confusion matrix\n",
    "confusion_matrix(y_test, y_pred)"
   ]
  },
  {
   "cell_type": "code",
   "execution_count": 102,
   "metadata": {},
   "outputs": [
    {
     "name": "stdout",
     "output_type": "stream",
     "text": [
      "                   pre       rec       spe        f1       geo       iba       sup\n",
      "\n",
      "          0       0.86      0.76      0.90      0.81      0.82      0.67      1007\n",
      "          1       0.68      0.61      0.84      0.65      0.72      0.51       773\n",
      "          2       0.55      0.81      0.85      0.66      0.83      0.69       410\n",
      "\n",
      "avg / total       0.74      0.72      0.87      0.72      0.79      0.62      2190\n",
      "\n"
     ]
    }
   ],
   "source": [
    "# Print the imbalanced classification report\n",
    "print(classification_report_imbalanced(y_test, y_pred))"
   ]
  },
  {
   "cell_type": "code",
   "execution_count": 103,
   "metadata": {},
   "outputs": [
    {
     "data": {
      "text/plain": [
       "[(0.3001313240231106, 'WindGust_mph'),\n",
       " (0.2164485679681333, 'WindDirection_degrees'),\n",
       " (0.17125360268903886, 'Temp_F'),\n",
       " (0.17047127842672988, 'Humidity_percent'),\n",
       " (0.1416952268929874, 'WindSpeed_mph')]"
      ]
     },
     "execution_count": 103,
     "metadata": {},
     "output_type": "execute_result"
    }
   ],
   "source": [
    "# List the features sorted in descending order by feature importance\n",
    "importances = brfc.feature_importances_\n",
    "sorted(zip(brfc.feature_importances_, X.columns), reverse=True)"
   ]
  },
  {
   "cell_type": "code",
   "execution_count": null,
   "metadata": {},
   "outputs": [],
   "source": []
  }
 ],
 "metadata": {
  "kernelspec": {
   "display_name": "mlenv",
   "language": "python",
   "name": "mlenv"
  },
  "language_info": {
   "codemirror_mode": {
    "name": "ipython",
    "version": 3
   },
   "file_extension": ".py",
   "mimetype": "text/x-python",
   "name": "python",
   "nbconvert_exporter": "python",
   "pygments_lexer": "ipython3",
   "version": "3.7.7"
  }
 },
 "nbformat": 4,
 "nbformat_minor": 4
}
