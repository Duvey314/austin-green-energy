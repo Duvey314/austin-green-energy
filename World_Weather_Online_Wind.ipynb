{
 "metadata": {
  "language_info": {
   "codemirror_mode": {
    "name": "ipython",
    "version": 3
   },
   "file_extension": ".py",
   "mimetype": "text/x-python",
   "name": "python",
   "nbconvert_exporter": "python",
   "pygments_lexer": "ipython3",
   "version": "3.7.7-final"
  },
  "orig_nbformat": 2,
  "kernelspec": {
   "name": "python_defaultSpec_1602821358774",
   "display_name": "Python 3.7.7 64-bit ('PythonData': conda)"
  }
 },
 "nbformat": 4,
 "nbformat_minor": 2,
 "cells": [
  {
   "cell_type": "code",
   "execution_count": 1,
   "metadata": {},
   "outputs": [],
   "source": [
    "# Initial Imports\n",
    "import requests\n",
    "import pandas as pd\n",
    "import json\n",
    "import numpy as np\n",
    "from datetime import datetime"
   ]
  },
  {
   "cell_type": "code",
   "execution_count": 2,
   "metadata": {},
   "outputs": [],
   "source": [
    "# Import API Key\n",
    "from config import key\n",
    "\n",
    "# Documentation:\n",
    "# https://www.worldweatheronline.com/developer/api/docs/historical-weather-api.aspx"
   ]
  },
  {
   "cell_type": "code",
   "execution_count": 3,
   "metadata": {},
   "outputs": [],
   "source": [
    "# Make a request to the worldweatheronline local history weather API page\n",
    "def makeARequest(location, startDate, endDate, yourAPIKey):\n",
    "    baseURL = \"http://api.worldweatheronline.com/premium/v1/past-weather.ashx\"\n",
    "    timeInterval = \"1\"\n",
    "    outputFormatToReturn = \"json\"\n",
    "\n",
    "    requestURL = f\"{baseURL}?q={location}&date={startDate}&enddate={endDate}&tp={timeInterval}&format={outputFormatToReturn}&key={yourAPIKey}\"\n",
    "    \n",
    "    response = requests.get(requestURL)\n",
    "\n",
    "    if response.status_code == 200:\n",
    "        responseJson = response.json()\n",
    "        return responseJson\n",
    "    else:\n",
    "        return print(response.status_code)"
   ]
  },
  {
   "cell_type": "code",
   "execution_count": 4,
   "metadata": {},
   "outputs": [],
   "source": [
    "# Pull the wind variables from the responseJson \n",
    "def monthlyHistoricalWeather(firstDayOfMonth, lastDayOfMonth, jsonResponse):\n",
    "    \n",
    "    first = datetime.strptime(firstDayOfMonth, '%Y-%m-%d')\n",
    "    last = datetime.strptime(lastDayOfMonth, '%Y-%m-%d')\n",
    "    numberOfDays = last.day - first.day\n",
    "\n",
    "    HourlyHistoricalWeather = []\n",
    "    \n",
    "    for day in np.arange(0,numberOfDays + 1,1):\n",
    "        for hour in np.arange(0,24,1):\n",
    "            HourlyHistoricalWeather.append({\n",
    "                \"Date\" : jsonResponse[\"data\"][\"weather\"][day][\"date\"],\n",
    "                \"Time\" : jsonResponse[\"data\"][\"weather\"][day][\"hourly\"][hour][\"time\"],\n",
    "                \"WindSpeed(mph)\" : jsonResponse[\"data\"][\"weather\"][day][\"hourly\"][hour][\"windspeedMiles\"],\n",
    "                \"WindDirection(Degrees)\" : jsonResponse[\"data\"][\"weather\"][day][\"hourly\"][hour][\"winddirDegree\"],\n",
    "                \"WindDirection(Compass)\" : jsonResponse[\"data\"][\"weather\"][day][\"hourly\"][hour][\"winddir16Point\"],\n",
    "                \"WindGust(mph)\" : jsonResponse[\"data\"][\"weather\"][day][\"hourly\"][hour][\"WindGustMiles\"]\n",
    "            })\n",
    "\n",
    "    return HourlyHistoricalWeather"
   ]
  },
  {
   "cell_type": "code",
   "execution_count": 5,
   "metadata": {},
   "outputs": [],
   "source": [
    "# Store the variables in a DataFrame\n",
    "def monthlyHistoricalWeatherDF(month):\n",
    "    weatherDataFrame = pd.DataFrame(month)\n",
    "    return weatherDataFrame"
   ]
  },
  {
   "cell_type": "code",
   "execution_count": 6,
   "metadata": {},
   "outputs": [],
   "source": [
    "# Define the Latitude and longitude of Hackberry Wind Farm\n",
    "    # https://www.thewindpower.net/windfarm_en_4012_hackberry.php\n",
    "    # Latitude: 32.776111\n",
    "    # Longitude: -99.476444\n",
    "latLong = \"32.776111,-99.476444\""
   ]
  },
  {
   "cell_type": "code",
   "execution_count": 7,
   "metadata": {},
   "outputs": [
    {
     "output_type": "execute_result",
     "data": {
      "text/plain": "         Date Time WindSpeed(mph) WindDirection(Degrees)  \\\n0  2019-01-01    0             12                    126   \n1  2019-01-01  100             13                     89   \n2  2019-01-01  200             14                     53   \n3  2019-01-01  300             15                     17   \n4  2019-01-01  400             14                     18   \n\n  WindDirection(Compass) WindGust(mph)  \n0                     SE            24  \n1                      E            23  \n2                     NE            23  \n3                    NNE            22  \n4                    NNE            21  ",
      "text/html": "<div>\n<style scoped>\n    .dataframe tbody tr th:only-of-type {\n        vertical-align: middle;\n    }\n\n    .dataframe tbody tr th {\n        vertical-align: top;\n    }\n\n    .dataframe thead th {\n        text-align: right;\n    }\n</style>\n<table border=\"1\" class=\"dataframe\">\n  <thead>\n    <tr style=\"text-align: right;\">\n      <th></th>\n      <th>Date</th>\n      <th>Time</th>\n      <th>WindSpeed(mph)</th>\n      <th>WindDirection(Degrees)</th>\n      <th>WindDirection(Compass)</th>\n      <th>WindGust(mph)</th>\n    </tr>\n  </thead>\n  <tbody>\n    <tr>\n      <th>0</th>\n      <td>2019-01-01</td>\n      <td>0</td>\n      <td>12</td>\n      <td>126</td>\n      <td>SE</td>\n      <td>24</td>\n    </tr>\n    <tr>\n      <th>1</th>\n      <td>2019-01-01</td>\n      <td>100</td>\n      <td>13</td>\n      <td>89</td>\n      <td>E</td>\n      <td>23</td>\n    </tr>\n    <tr>\n      <th>2</th>\n      <td>2019-01-01</td>\n      <td>200</td>\n      <td>14</td>\n      <td>53</td>\n      <td>NE</td>\n      <td>23</td>\n    </tr>\n    <tr>\n      <th>3</th>\n      <td>2019-01-01</td>\n      <td>300</td>\n      <td>15</td>\n      <td>17</td>\n      <td>NNE</td>\n      <td>22</td>\n    </tr>\n    <tr>\n      <th>4</th>\n      <td>2019-01-01</td>\n      <td>400</td>\n      <td>14</td>\n      <td>18</td>\n      <td>NNE</td>\n      <td>21</td>\n    </tr>\n  </tbody>\n</table>\n</div>"
     },
     "metadata": {},
     "execution_count": 7
    }
   ],
   "source": [
    "# January\n",
    "date = \"2019-01-01\"\n",
    "enddate = \"2019-01-31\"\n",
    "\n",
    "responseJson = makeARequest(latLong, date, enddate, key)\n",
    "\n",
    "January = monthlyHistoricalWeather(date, enddate, responseJson)\n",
    "JanuaryDF = monthlyHistoricalWeatherDF(January)\n",
    "JanuaryDF.head()"
   ]
  },
  {
   "cell_type": "code",
   "execution_count": 8,
   "metadata": {},
   "outputs": [],
   "source": [
    "# February\n",
    "date = \"2019-02-01\"\n",
    "enddate = \"2019-02-28\"\n",
    "\n",
    "responseJson = makeARequest(latLong, date, enddate, key)\n",
    "\n",
    "February = monthlyHistoricalWeather(date, enddate, responseJson)\n",
    "FebruaryDF = monthlyHistoricalWeatherDF(February)"
   ]
  },
  {
   "cell_type": "code",
   "execution_count": 9,
   "metadata": {
    "tags": []
   },
   "outputs": [],
   "source": [
    "# March\n",
    "date = \"2019-03-01\"\n",
    "enddate = \"2019-03-31\"\n",
    "\n",
    "responseJson = makeARequest(latLong, date, enddate, key)\n",
    "\n",
    "March = monthlyHistoricalWeather(date, enddate, responseJson)\n",
    "MarchDF = monthlyHistoricalWeatherDF(March)"
   ]
  },
  {
   "cell_type": "code",
   "execution_count": 10,
   "metadata": {},
   "outputs": [],
   "source": [
    "# April\n",
    "date = \"2019-04-01\"\n",
    "enddate = \"2019-04-30\"\n",
    "\n",
    "responseJson = makeARequest(latLong, date, enddate, key)\n",
    "\n",
    "April = monthlyHistoricalWeather(date, enddate, responseJson)\n",
    "AprilDF = monthlyHistoricalWeatherDF(April)"
   ]
  },
  {
   "cell_type": "code",
   "execution_count": 11,
   "metadata": {},
   "outputs": [],
   "source": [
    "# May\n",
    "date = \"2019-05-01\"\n",
    "enddate = \"2019-05-31\"\n",
    "\n",
    "responseJson = makeARequest(latLong, date, enddate, key)\n",
    "\n",
    "May = monthlyHistoricalWeather(date, enddate, responseJson)\n",
    "MayDF = monthlyHistoricalWeatherDF(May)"
   ]
  },
  {
   "cell_type": "code",
   "execution_count": 12,
   "metadata": {},
   "outputs": [],
   "source": [
    "# June\n",
    "date = \"2019-06-01\"\n",
    "enddate = \"2019-06-30\"\n",
    "\n",
    "responseJson = makeARequest(latLong, date, enddate, key)\n",
    "\n",
    "June = monthlyHistoricalWeather(date, enddate, responseJson)\n",
    "JuneDF = monthlyHistoricalWeatherDF(June)"
   ]
  },
  {
   "cell_type": "code",
   "execution_count": 13,
   "metadata": {},
   "outputs": [],
   "source": [
    "# July\n",
    "date = \"2019-07-01\"\n",
    "enddate = \"2019-07-31\"\n",
    "\n",
    "responseJson = makeARequest(latLong, date, enddate, key)\n",
    "\n",
    "July = monthlyHistoricalWeather(date, enddate, responseJson)\n",
    "JulyDF = monthlyHistoricalWeatherDF(July)"
   ]
  },
  {
   "cell_type": "code",
   "execution_count": 14,
   "metadata": {},
   "outputs": [],
   "source": [
    "# August\n",
    "date = \"2019-08-01\"\n",
    "enddate = \"2019-08-31\"\n",
    "\n",
    "responseJson = makeARequest(latLong, date, enddate, key)\n",
    "\n",
    "August = monthlyHistoricalWeather(date, enddate, responseJson)\n",
    "AugustDF = monthlyHistoricalWeatherDF(August)"
   ]
  },
  {
   "cell_type": "code",
   "execution_count": 15,
   "metadata": {},
   "outputs": [],
   "source": [
    "# September\n",
    "date = \"2019-09-01\"\n",
    "enddate = \"2019-09-30\"\n",
    "\n",
    "responseJson = makeARequest(latLong, date, enddate, key)\n",
    "\n",
    "September = monthlyHistoricalWeather(date, enddate, responseJson)\n",
    "SeptemberDF = monthlyHistoricalWeatherDF(September)"
   ]
  },
  {
   "cell_type": "code",
   "execution_count": 16,
   "metadata": {},
   "outputs": [],
   "source": [
    "# October\n",
    "date = \"2019-10-01\"\n",
    "enddate = \"2019-10-31\"\n",
    "\n",
    "responseJson = makeARequest(latLong, date, enddate, key)\n",
    "\n",
    "October = monthlyHistoricalWeather(date, enddate, responseJson)\n",
    "OctoberDF = monthlyHistoricalWeatherDF(October)"
   ]
  },
  {
   "cell_type": "code",
   "execution_count": 17,
   "metadata": {},
   "outputs": [],
   "source": [
    "# November\n",
    "date = \"2019-11-01\"\n",
    "enddate = \"2019-11-30\"\n",
    "\n",
    "responseJson = makeARequest(latLong, date, enddate, key)\n",
    "\n",
    "November = monthlyHistoricalWeather(date, enddate, responseJson)\n",
    "NovemberDF = monthlyHistoricalWeatherDF(November)"
   ]
  },
  {
   "cell_type": "code",
   "execution_count": 18,
   "metadata": {},
   "outputs": [],
   "source": [
    "# December\n",
    "date = \"2019-12-01\"\n",
    "enddate = \"2019-12-31\"\n",
    "\n",
    "responseJson = makeARequest(latLong, date, enddate, key)\n",
    "\n",
    "December = monthlyHistoricalWeather(date, enddate, responseJson)\n",
    "DecemberDF = monthlyHistoricalWeatherDF(December)"
   ]
  },
  {
   "cell_type": "code",
   "execution_count": 19,
   "metadata": {},
   "outputs": [
    {
     "output_type": "execute_result",
     "data": {
      "text/plain": "           Date  Time WindSpeed(mph) WindDirection(Degrees)  \\\n0    2019-01-01     0             12                    126   \n1    2019-01-01   100             13                     89   \n2    2019-01-01   200             14                     53   \n3    2019-01-01   300             15                     17   \n4    2019-01-01   400             14                     18   \n..          ...   ...            ...                    ...   \n739  2019-12-31  1900              6                    175   \n740  2019-12-31  2000              6                    176   \n741  2019-12-31  2100              7                    176   \n742  2019-12-31  2200              7                    176   \n743  2019-12-31  2300              7                    175   \n\n    WindDirection(Compass) WindGust(mph)  \n0                       SE            24  \n1                        E            23  \n2                       NE            23  \n3                      NNE            22  \n4                      NNE            21  \n..                     ...           ...  \n739                      S            12  \n740                      S            13  \n741                      S            14  \n742                      S            15  \n743                      S            16  \n\n[8760 rows x 6 columns]",
      "text/html": "<div>\n<style scoped>\n    .dataframe tbody tr th:only-of-type {\n        vertical-align: middle;\n    }\n\n    .dataframe tbody tr th {\n        vertical-align: top;\n    }\n\n    .dataframe thead th {\n        text-align: right;\n    }\n</style>\n<table border=\"1\" class=\"dataframe\">\n  <thead>\n    <tr style=\"text-align: right;\">\n      <th></th>\n      <th>Date</th>\n      <th>Time</th>\n      <th>WindSpeed(mph)</th>\n      <th>WindDirection(Degrees)</th>\n      <th>WindDirection(Compass)</th>\n      <th>WindGust(mph)</th>\n    </tr>\n  </thead>\n  <tbody>\n    <tr>\n      <th>0</th>\n      <td>2019-01-01</td>\n      <td>0</td>\n      <td>12</td>\n      <td>126</td>\n      <td>SE</td>\n      <td>24</td>\n    </tr>\n    <tr>\n      <th>1</th>\n      <td>2019-01-01</td>\n      <td>100</td>\n      <td>13</td>\n      <td>89</td>\n      <td>E</td>\n      <td>23</td>\n    </tr>\n    <tr>\n      <th>2</th>\n      <td>2019-01-01</td>\n      <td>200</td>\n      <td>14</td>\n      <td>53</td>\n      <td>NE</td>\n      <td>23</td>\n    </tr>\n    <tr>\n      <th>3</th>\n      <td>2019-01-01</td>\n      <td>300</td>\n      <td>15</td>\n      <td>17</td>\n      <td>NNE</td>\n      <td>22</td>\n    </tr>\n    <tr>\n      <th>4</th>\n      <td>2019-01-01</td>\n      <td>400</td>\n      <td>14</td>\n      <td>18</td>\n      <td>NNE</td>\n      <td>21</td>\n    </tr>\n    <tr>\n      <th>...</th>\n      <td>...</td>\n      <td>...</td>\n      <td>...</td>\n      <td>...</td>\n      <td>...</td>\n      <td>...</td>\n    </tr>\n    <tr>\n      <th>739</th>\n      <td>2019-12-31</td>\n      <td>1900</td>\n      <td>6</td>\n      <td>175</td>\n      <td>S</td>\n      <td>12</td>\n    </tr>\n    <tr>\n      <th>740</th>\n      <td>2019-12-31</td>\n      <td>2000</td>\n      <td>6</td>\n      <td>176</td>\n      <td>S</td>\n      <td>13</td>\n    </tr>\n    <tr>\n      <th>741</th>\n      <td>2019-12-31</td>\n      <td>2100</td>\n      <td>7</td>\n      <td>176</td>\n      <td>S</td>\n      <td>14</td>\n    </tr>\n    <tr>\n      <th>742</th>\n      <td>2019-12-31</td>\n      <td>2200</td>\n      <td>7</td>\n      <td>176</td>\n      <td>S</td>\n      <td>15</td>\n    </tr>\n    <tr>\n      <th>743</th>\n      <td>2019-12-31</td>\n      <td>2300</td>\n      <td>7</td>\n      <td>175</td>\n      <td>S</td>\n      <td>16</td>\n    </tr>\n  </tbody>\n</table>\n<p>8760 rows × 6 columns</p>\n</div>"
     },
     "metadata": {},
     "execution_count": 19
    }
   ],
   "source": [
    "# Combine each month into a single DataFrame\n",
    "hourlyWeatherDF2019 = JanuaryDF.append([FebruaryDF, MarchDF, AprilDF, MayDF, JuneDF, JulyDF, AugustDF, SeptemberDF, OctoberDF, NovemberDF, DecemberDF]) \n",
    "\n",
    "hourlyWeatherDF2019"
   ]
  },
  {
   "cell_type": "code",
   "execution_count": null,
   "metadata": {},
   "outputs": [],
   "source": []
  }
 ]
}