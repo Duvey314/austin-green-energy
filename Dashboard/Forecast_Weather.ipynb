{
 "metadata": {
  "language_info": {
   "codemirror_mode": {
    "name": "ipython",
    "version": 3
   },
   "file_extension": ".py",
   "mimetype": "text/x-python",
   "name": "python",
   "nbconvert_exporter": "python",
   "pygments_lexer": "ipython3",
   "version": "3.7.7-final"
  },
  "orig_nbformat": 2,
  "kernelspec": {
   "name": "Python 3.7.7 64-bit",
   "display_name": "Python 3.7.7 64-bit",
   "metadata": {
    "interpreter": {
     "hash": "afc7c4a812fa55c0db985e1c504d2cd5747faf27fd01c3486b2fd8146566cace"
    }
   }
  }
 },
 "nbformat": 4,
 "nbformat_minor": 2,
 "cells": [
  {
   "cell_type": "markdown",
   "metadata": {},
   "source": [
    "# Extract Foercasted Weather Data\n",
    "# -------------------------------"
   ]
  },
  {
   "cell_type": "markdown",
   "metadata": {},
   "source": [
    "## Initial Imports"
   ]
  },
  {
   "cell_type": "code",
   "execution_count": 1,
   "metadata": {},
   "outputs": [],
   "source": [
    "# Import Dependencies\n",
    "import requests\n",
    "import pandas as pd\n",
    "import json\n",
    "import numpy as np\n",
    "import datetime\n",
    "from dateutil import tz"
   ]
  },
  {
   "cell_type": "code",
   "execution_count": 3,
   "metadata": {},
   "outputs": [],
   "source": [
    "# Import API Key\n",
    "from config import weather_api_key"
   ]
  },
  {
   "cell_type": "code",
   "execution_count": 4,
   "metadata": {},
   "outputs": [],
   "source": [
    "# Documentation\n",
    "# https://openweathermap.org/api/one-call-api"
   ]
  },
  {
   "cell_type": "markdown",
   "metadata": {},
   "source": [
    "# Define the Functions\n",
    "# --------------------"
   ]
  },
  {
   "cell_type": "code",
   "execution_count": 5,
   "metadata": {},
   "outputs": [],
   "source": [
    "def convert_DateTime_UTC_to_CST(UTC_datetime_list, list_range):\n",
    "    CST_datetime_list = []\n",
    "\n",
    "    for date in list_range:    \n",
    "        # Convert the date/time to ISO standard in string format\n",
    "        date_time = datetime.datetime.utcfromtimestamp(UTC_datetime_list[date]).strftime('%Y-%m-%d %H:%M:%S')\n",
    "        \n",
    "        # Create a datetime object, representing the UTC time\n",
    "        time_utc = datetime.datetime.strptime(date_time, '%Y-%m-%d %H:%M:%S')\n",
    "\n",
    "        # Replace the timezone field of the datetime object to UTC\n",
    "        from_zone = tz.gettz('UTC')\n",
    "        time_utc = time_utc.replace(tzinfo=from_zone)\n",
    "\n",
    "        # Convert time zone from UTC to central\n",
    "        to_zone = tz.gettz('America/Chicago')\n",
    "        time_cst = time_utc.astimezone(to_zone)\n",
    "\n",
    "        # Append the date/time, year, month, day, and hour\n",
    "        CST_datetime_list.append({\n",
    "            \"UTC_Time\": UTC_datetime_list[date],\n",
    "            \"Date_Time\": time_cst.strftime('%Y-%m-%d %H:%M:%S'),\n",
    "            \"Year\": time_cst.year,\n",
    "            \"Month\":time_cst.month,\n",
    "            \"Day\":time_cst.day,\n",
    "            \"Hour\":time_cst.hour\n",
    "            })\n",
    "\n",
    "    datetimeDataFrame = pd.DataFrame(CST_datetime_list)\n",
    "    \n",
    "    return datetimeDataFrame"
   ]
  },
  {
   "cell_type": "code",
   "execution_count": 6,
   "metadata": {},
   "outputs": [],
   "source": [
    "def calculate_sunhour(sunrise_list, sunset_list, list_range):\n",
    "    \n",
    "    sunhour_list = []\n",
    "\n",
    "    for day in list_range:\n",
    "        # Convert the date/time to ISO standard in string format\n",
    "        sunrise_date_time = datetime.datetime.utcfromtimestamp(sunrise_list[day]).strftime('%Y-%m-%d %H:%M:%S')\n",
    "        sunset_date_time = datetime.datetime.utcfromtimestamp(sunset_list[day]).strftime('%Y-%m-%d %H:%M:%S')\n",
    "\n",
    "        # Create a datetime object, representing the UTC time\n",
    "        sunrise_utc = datetime.datetime.strptime(sunrise_date_time, '%Y-%m-%d %H:%M:%S')\n",
    "        sunset_utc = datetime.datetime.strptime(sunset_date_time, '%Y-%m-%d %H:%M:%S')\n",
    "\n",
    "        # Replace the timezone field of the datetime object to UTC\n",
    "        from_zone = tz.gettz('UTC')\n",
    "        \n",
    "        sunrise_utc = sunrise_utc.replace(tzinfo=from_zone)\n",
    "        sunset_utc = sunset_utc.replace(tzinfo=from_zone)\n",
    "\n",
    "        # Convert time zone from UTC to central\n",
    "        to_zone = tz.gettz('America/Chicago')\n",
    "        \n",
    "        sunrise_cst = sunrise_utc.astimezone(to_zone)\n",
    "        sunset_cst = sunset_utc.astimezone(to_zone)\n",
    "        \n",
    "        # Convert to string\n",
    "        sunrise_str = sunrise_cst.strftime('%Y-%m-%d %H:%M:%S')\n",
    "        sunset_str = sunset_cst.strftime('%Y-%m-%d %H:%M:%S')\n",
    "\n",
    "        # Calculate Sunhour\n",
    "        sunrise = datetime.datetime.strptime(sunrise_str, '%Y-%m-%d %H:%M:%S')\n",
    "        sunset = datetime.datetime.strptime(sunset_str, '%Y-%m-%d %H:%M:%S')\n",
    "        Sunhour_timedelta = sunset - sunrise\n",
    "        Sunhour_seconds = Sunhour_timedelta.seconds\n",
    "        Sunhour = Sunhour_seconds / 3600\n",
    "\n",
    "        # Append to List\n",
    "        sunhour_list.append({\n",
    "            \"Sunrise\": sunrise_list[day],\n",
    "            \"Sunhour\": Sunhour\n",
    "        })\n",
    "        \n",
    "    sunhourDataFrame = pd.DataFrame(sunhour_list)\n",
    "    \n",
    "    return sunhourDataFrame"
   ]
  },
  {
   "cell_type": "markdown",
   "metadata": {},
   "source": [
    "# Webberville Solar Farm\n",
    "# ----------------------"
   ]
  },
  {
   "cell_type": "code",
   "execution_count": 7,
   "metadata": {
    "tags": []
   },
   "outputs": [],
   "source": [
    "# Geographical coordinates (latitude, longitude)\n",
    "lat = \"30.238333\"\n",
    "lon = \"-97.508611\"\n",
    "\n",
    "# Exclude some parts of the weather data from the API response\n",
    "    # It should be a comma-delimited list (without spaces)\n",
    "    # Options: current,minutely,hourly,daily,alerts\n",
    "part = \"minutely,alerts\"\n",
    "\n",
    "# Define the Units of measurement\n",
    "    # Options: stadnard,metric,imperial\n",
    "units = \"imperial\"\n",
    "\n",
    "# Make a request to openweathermap\n",
    "requestURL = f\"https://api.openweathermap.org/data/2.5/onecall?lat={lat}&lon={lon}&exclude={part}&units={units}&appid={weather_api_key}\"\n",
    "\n",
    "# print(requestURL)"
   ]
  },
  {
   "cell_type": "code",
   "execution_count": 8,
   "metadata": {
    "tags": []
   },
   "outputs": [
    {
     "output_type": "stream",
     "name": "stdout",
     "text": [
      "Successfully turned response into JSON object.\n"
     ]
    }
   ],
   "source": [
    "response = requests.get(requestURL)\n",
    "\n",
    "if response.status_code == 200:\n",
    "    # Turn the response into a JSON object\n",
    "    responseJson = response.json()\n",
    "    print(\"Successfully turned response into JSON object.\")\n",
    "else:\n",
    "    # Else, print the Error status code\n",
    "    print(\"The Error Status Code is:\") \n",
    "    print(response.status_code)"
   ]
  },
  {
   "cell_type": "markdown",
   "metadata": {},
   "source": [
    "# Current Weather Data:"
   ]
  },
  {
   "cell_type": "markdown",
   "metadata": {},
   "source": [
    "## Date / Time"
   ]
  },
  {
   "cell_type": "code",
   "execution_count": 9,
   "metadata": {},
   "outputs": [
    {
     "output_type": "execute_result",
     "data": {
      "text/plain": [
       "datetime.datetime(2020, 11, 10, 16, 36, 15, tzinfo=tzfile('US/Central'))"
      ]
     },
     "metadata": {},
     "execution_count": 9
    }
   ],
   "source": [
    "# Convert the date/time to ISO standard in string format\n",
    "current_date_time = datetime.datetime.utcfromtimestamp(responseJson[\"current\"][\"dt\"]).strftime('%Y-%m-%d %H:%M:%S')\n",
    "\n",
    "# Create a datetime object, representing the UTC time\n",
    "current_time_utc = datetime.datetime.strptime(current_date_time, '%Y-%m-%d %H:%M:%S')\n",
    "\n",
    "# Replace the timezone field of the datetime object to UTC\n",
    "from_zone = tz.gettz('UTC')\n",
    "current_time_utc = current_time_utc.replace(tzinfo=from_zone)\n",
    "\n",
    "# Convert time zone from UTC to central\n",
    "to_zone = tz.gettz('America/Chicago')\n",
    "current_time_cst = current_time_utc.astimezone(to_zone)\n",
    "\n",
    "# Display the current time\n",
    "current_time_cst"
   ]
  },
  {
   "cell_type": "code",
   "execution_count": 10,
   "metadata": {},
   "outputs": [
    {
     "output_type": "execute_result",
     "data": {
      "text/plain": [
       "'2020-11-10 16:36:15'"
      ]
     },
     "metadata": {},
     "execution_count": 10
    }
   ],
   "source": [
    "# Extract the date & time and store as a string\n",
    "current_Date_Time = current_time_cst.strftime('%Y-%m-%d %H:%M:%S')\n",
    "\n",
    "# Display the date & time as string\n",
    "current_Date_Time"
   ]
  },
  {
   "cell_type": "code",
   "execution_count": 11,
   "metadata": {},
   "outputs": [
    {
     "output_type": "execute_result",
     "data": {
      "text/plain": [
       "'2020-11-10'"
      ]
     },
     "metadata": {},
     "execution_count": 11
    }
   ],
   "source": [
    "# Extract the date and store as a string\n",
    "current_Date = datetime.datetime.date(current_time_cst)\n",
    "current_Date = current_Date.strftime('%Y-%m-%d')\n",
    "\n",
    "# Display the date in %Y-%m-%d\n",
    "current_Date"
   ]
  },
  {
   "cell_type": "code",
   "execution_count": 12,
   "metadata": {},
   "outputs": [
    {
     "output_type": "execute_result",
     "data": {
      "text/plain": [
       "'16:36:15'"
      ]
     },
     "metadata": {},
     "execution_count": 12
    }
   ],
   "source": [
    "# Exract the time in %H:%M:%S\n",
    "current_Time = current_time_cst.strftime('%H:%M:%S')\n",
    "\n",
    "# Display the hour\n",
    "current_Time"
   ]
  },
  {
   "cell_type": "code",
   "execution_count": 13,
   "metadata": {},
   "outputs": [
    {
     "output_type": "execute_result",
     "data": {
      "text/plain": [
       "2020"
      ]
     },
     "metadata": {},
     "execution_count": 13
    }
   ],
   "source": [
    "# Extract the year from the current time\n",
    "current_Year = current_time_cst.year\n",
    "\n",
    "# Display the year\n",
    "current_Year"
   ]
  },
  {
   "cell_type": "code",
   "execution_count": 14,
   "metadata": {},
   "outputs": [
    {
     "output_type": "execute_result",
     "data": {
      "text/plain": [
       "11"
      ]
     },
     "metadata": {},
     "execution_count": 14
    }
   ],
   "source": [
    "# Extract the month from the current time\n",
    "current_Month = current_time_cst.month\n",
    "\n",
    "# Display the year\n",
    "current_Month"
   ]
  },
  {
   "cell_type": "code",
   "execution_count": 15,
   "metadata": {},
   "outputs": [
    {
     "output_type": "execute_result",
     "data": {
      "text/plain": [
       "10"
      ]
     },
     "metadata": {},
     "execution_count": 15
    }
   ],
   "source": [
    "# Extract the day from the current time\n",
    "current_Day = current_time_cst.day\n",
    "\n",
    "# Display the day\n",
    "current_Day"
   ]
  },
  {
   "cell_type": "code",
   "execution_count": 16,
   "metadata": {},
   "outputs": [
    {
     "output_type": "execute_result",
     "data": {
      "text/plain": [
       "16"
      ]
     },
     "metadata": {},
     "execution_count": 16
    }
   ],
   "source": [
    "# Extract the hour from the current time\n",
    "current_Hour = current_time_cst.hour\n",
    "\n",
    "# Display the day\n",
    "current_Hour"
   ]
  },
  {
   "cell_type": "code",
   "execution_count": 17,
   "metadata": {},
   "outputs": [
    {
     "output_type": "execute_result",
     "data": {
      "text/plain": [
       "16"
      ]
     },
     "metadata": {},
     "execution_count": 17
    }
   ],
   "source": [
    "# Alternative:\n",
    "# Extract the hour from the current time\n",
    "current_Hour = datetime.datetime.time(current_time_cst).hour\n",
    "\n",
    "# Display the hour\n",
    "current_Hour"
   ]
  },
  {
   "cell_type": "code",
   "execution_count": 18,
   "metadata": {},
   "outputs": [
    {
     "output_type": "execute_result",
     "data": {
      "text/plain": [
       "datetime.date(2020, 11, 11)"
      ]
     },
     "metadata": {},
     "execution_count": 18
    }
   ],
   "source": [
    "# Store the next day as a variable\n",
    "next_day = datetime.date(current_Year, current_Month, current_Day) + datetime.timedelta(days=1)\n",
    "next_day"
   ]
  },
  {
   "cell_type": "markdown",
   "metadata": {},
   "source": [
    "## Weather Description"
   ]
  },
  {
   "cell_type": "code",
   "execution_count": 19,
   "metadata": {},
   "outputs": [
    {
     "output_type": "execute_result",
     "data": {
      "text/plain": [
       "'overcast clouds'"
      ]
     },
     "metadata": {},
     "execution_count": 19
    }
   ],
   "source": [
    "# Extract the current weather description\n",
    "current_Weather_Description = responseJson[\"current\"][\"weather\"][0][\"description\"]\n",
    "\n",
    "# Display the weather description\n",
    "current_Weather_Description"
   ]
  },
  {
   "cell_type": "markdown",
   "metadata": {},
   "source": [
    "## Temperature"
   ]
  },
  {
   "cell_type": "code",
   "execution_count": 20,
   "metadata": {},
   "outputs": [
    {
     "output_type": "execute_result",
     "data": {
      "text/plain": [
       "77.25"
      ]
     },
     "metadata": {},
     "execution_count": 20
    }
   ],
   "source": [
    "# Extract the current temperature (F)\n",
    "current_Temperature_F = responseJson[\"current\"][\"temp\"]\n",
    "\n",
    "# Display the temperature\n",
    "current_Temperature_F"
   ]
  },
  {
   "cell_type": "markdown",
   "metadata": {},
   "source": [
    "## Sunhour"
   ]
  },
  {
   "cell_type": "code",
   "execution_count": 21,
   "metadata": {},
   "outputs": [
    {
     "output_type": "execute_result",
     "data": {
      "text/plain": [
       "'2020-11-10 06:51:57'"
      ]
     },
     "metadata": {},
     "execution_count": 21
    }
   ],
   "source": [
    "# Sunrise:\n",
    "\n",
    "# Convert the date/time to ISO standard in string format\n",
    "sunrise_date_time = datetime.datetime.utcfromtimestamp(responseJson[\"current\"][\"sunrise\"]).strftime('%Y-%m-%d %H:%M:%S')\n",
    "\n",
    "# Create a datetime object, representing the UTC time\n",
    "sunrise_utc = datetime.datetime.strptime(sunrise_date_time, '%Y-%m-%d %H:%M:%S')\n",
    "\n",
    "# Replace the timezone field of the datetime object to UTC\n",
    "from_zone = tz.gettz('UTC')\n",
    "sunrise_utc = sunrise_utc.replace(tzinfo=from_zone)\n",
    "\n",
    "# Convert time zone from UTC to central\n",
    "to_zone = tz.gettz('America/Chicago')\n",
    "todays_sunrise = sunrise_utc.astimezone(to_zone)\n",
    "\n",
    "# Convert to string\n",
    "todays_sunrise = todays_sunrise.strftime('%Y-%m-%d %H:%M:%S')\n",
    "\n",
    "# Display sunrise time\n",
    "todays_sunrise"
   ]
  },
  {
   "cell_type": "code",
   "execution_count": 22,
   "metadata": {},
   "outputs": [
    {
     "output_type": "execute_result",
     "data": {
      "text/plain": [
       "'2020-11-10 17:36:13'"
      ]
     },
     "metadata": {},
     "execution_count": 22
    }
   ],
   "source": [
    "# Sunset:\n",
    "\n",
    "# Convert the date/time to ISO standard in string format\n",
    "sunset_date_time = datetime.datetime.utcfromtimestamp(responseJson[\"current\"][\"sunset\"]).strftime('%Y-%m-%d %H:%M:%S')\n",
    "\n",
    "# Create a datetime object, representing the UTC time\n",
    "sunset_utc = datetime.datetime.strptime(sunset_date_time, '%Y-%m-%d %H:%M:%S')\n",
    "\n",
    "# Replace the timezone field of the datetime object to UTC\n",
    "from_zone = tz.gettz('UTC')\n",
    "sunset_utc = sunset_utc.replace(tzinfo=from_zone)\n",
    "\n",
    "# Convert time zone from UTC to central\n",
    "to_zone = tz.gettz('America/Chicago')\n",
    "todays_sunset = sunset_utc.astimezone(to_zone)\n",
    "\n",
    "# Convert to string\n",
    "todays_sunset = todays_sunset.strftime('%Y-%m-%d %H:%M:%S')\n",
    "\n",
    "# Display sunrise time\n",
    "todays_sunset"
   ]
  },
  {
   "cell_type": "code",
   "execution_count": 23,
   "metadata": {
    "tags": []
   },
   "outputs": [
    {
     "output_type": "stream",
     "name": "stdout",
     "text": [
      "The sunhour time in %H:%M:%S : 10:44:16\nThe sunhour time in hrs : 10.737777777777778\n"
     ]
    }
   ],
   "source": [
    "todays_sunrise = datetime.datetime.strptime(todays_sunrise, '%Y-%m-%d %H:%M:%S')\n",
    "todays_sunset = datetime.datetime.strptime(todays_sunset, '%Y-%m-%d %H:%M:%S')\n",
    "Sunhour_timedelta = todays_sunset - todays_sunrise\n",
    "print(f\"The sunhour time in %H:%M:%S : {Sunhour_timedelta}\")\n",
    "Sunhour_seconds = Sunhour_timedelta.seconds\n",
    "todays_Sunhour = Sunhour_seconds / 3600\n",
    "print(f\"The sunhour time in hrs : {todays_Sunhour}\")"
   ]
  },
  {
   "cell_type": "markdown",
   "metadata": {},
   "source": [
    "## Cloud Cover"
   ]
  },
  {
   "cell_type": "code",
   "execution_count": 24,
   "metadata": {},
   "outputs": [
    {
     "output_type": "execute_result",
     "data": {
      "text/plain": [
       "90"
      ]
     },
     "metadata": {},
     "execution_count": 24
    }
   ],
   "source": [
    "# Extract the current cloud cover (%)\n",
    "current_CloudCover_percent = responseJson[\"current\"][\"clouds\"]\n",
    "\n",
    "# Display the Cloudiness, %\n",
    "current_CloudCover_percent"
   ]
  },
  {
   "cell_type": "markdown",
   "metadata": {},
   "source": [
    "## uv Index"
   ]
  },
  {
   "cell_type": "code",
   "execution_count": 25,
   "metadata": {},
   "outputs": [
    {
     "output_type": "execute_result",
     "data": {
      "text/plain": [
       "5.12"
      ]
     },
     "metadata": {},
     "execution_count": 25
    }
   ],
   "source": [
    "# Extract the current UV Index\n",
    "todays_uvIndex = responseJson[\"current\"][\"uvi\"]\n",
    "\n",
    "# Display the Midday UV index\n",
    "todays_uvIndex"
   ]
  },
  {
   "cell_type": "markdown",
   "metadata": {},
   "source": [
    "## Humidity"
   ]
  },
  {
   "cell_type": "code",
   "execution_count": 26,
   "metadata": {},
   "outputs": [
    {
     "output_type": "execute_result",
     "data": {
      "text/plain": [
       "29"
      ]
     },
     "metadata": {},
     "execution_count": 26
    }
   ],
   "source": [
    "# Extract the current humidity (%)\n",
    "current_Humidity_percent = responseJson[\"current\"][\"humidity\"]\n",
    "\n",
    "# Display the Cloudiness, %\n",
    "current_Humidity_percent"
   ]
  },
  {
   "cell_type": "markdown",
   "metadata": {},
   "source": [
    "## Current Weather DataFrame"
   ]
  },
  {
   "cell_type": "code",
   "execution_count": 27,
   "metadata": {},
   "outputs": [
    {
     "output_type": "execute_result",
     "data": {
      "text/plain": [
       "            Date_Time  Year  Month  Day  Hour  Temperature_F  \\\n",
       "0 2020-11-10 16:36:15  2020     11   10    16          77.25   \n",
       "\n",
       "   Humidity_percent    Sunhour  CloudCover_percent  uvIndex  \\\n",
       "0                29  10.737778                  90     5.12   \n",
       "\n",
       "  Weather_Description  \n",
       "0     overcast clouds  "
      ],
      "text/html": "<div>\n<style scoped>\n    .dataframe tbody tr th:only-of-type {\n        vertical-align: middle;\n    }\n\n    .dataframe tbody tr th {\n        vertical-align: top;\n    }\n\n    .dataframe thead th {\n        text-align: right;\n    }\n</style>\n<table border=\"1\" class=\"dataframe\">\n  <thead>\n    <tr style=\"text-align: right;\">\n      <th></th>\n      <th>Date_Time</th>\n      <th>Year</th>\n      <th>Month</th>\n      <th>Day</th>\n      <th>Hour</th>\n      <th>Temperature_F</th>\n      <th>Humidity_percent</th>\n      <th>Sunhour</th>\n      <th>CloudCover_percent</th>\n      <th>uvIndex</th>\n      <th>Weather_Description</th>\n    </tr>\n  </thead>\n  <tbody>\n    <tr>\n      <th>0</th>\n      <td>2020-11-10 16:36:15</td>\n      <td>2020</td>\n      <td>11</td>\n      <td>10</td>\n      <td>16</td>\n      <td>77.25</td>\n      <td>29</td>\n      <td>10.737778</td>\n      <td>90</td>\n      <td>5.12</td>\n      <td>overcast clouds</td>\n    </tr>\n  </tbody>\n</table>\n</div>"
     },
     "metadata": {},
     "execution_count": 27
    }
   ],
   "source": [
    "current_weather_DF = pd.DataFrame([{\n",
    "    \"Date_Time\": current_Date_Time,\n",
    "    \"Year\": current_Year, \n",
    "    \"Month\": current_Month, \n",
    "    \"Day\": current_Day, \n",
    "    \"Hour\": current_Hour, \n",
    "    \"Temperature_F\": current_Temperature_F, \n",
    "    \"Humidity_percent\": current_Humidity_percent,\n",
    "    \"Sunhour\": todays_Sunhour, \n",
    "    \"CloudCover_percent\": current_CloudCover_percent,\n",
    "    \"uvIndex\": todays_uvIndex,\n",
    "    \"Weather_Description\": current_Weather_Description\n",
    "}])\n",
    "\n",
    "current_weather_DF[\"Date_Time\"] = pd.to_datetime(current_weather_DF[\"Date_Time\"])\n",
    "\n",
    "current_weather_DF"
   ]
  },
  {
   "cell_type": "code",
   "execution_count": 28,
   "metadata": {},
   "outputs": [
    {
     "output_type": "execute_result",
     "data": {
      "text/plain": [
       "Date_Time              datetime64[ns]\n",
       "Year                            int64\n",
       "Month                           int64\n",
       "Day                             int64\n",
       "Hour                            int64\n",
       "Temperature_F                 float64\n",
       "Humidity_percent                int64\n",
       "Sunhour                       float64\n",
       "CloudCover_percent              int64\n",
       "uvIndex                       float64\n",
       "Weather_Description            object\n",
       "dtype: object"
      ]
     },
     "metadata": {},
     "execution_count": 28
    }
   ],
   "source": [
    "current_weather_DF.dtypes"
   ]
  },
  {
   "cell_type": "markdown",
   "metadata": {},
   "source": [
    "# Daily Forecasted Weather Data:"
   ]
  },
  {
   "cell_type": "markdown",
   "metadata": {},
   "source": [
    "## Create a dataframe for the daily forecasted weather data"
   ]
  },
  {
   "cell_type": "code",
   "execution_count": 29,
   "metadata": {},
   "outputs": [
    {
     "output_type": "execute_result",
     "data": {
      "text/plain": [
       "     UTC_Time     Sunrise      Sunset  uvIndex\n",
       "0  1605031200  1605012717  1605051373     5.12\n",
       "1  1605117600  1605099167  1605137738     4.96\n",
       "2  1605204000  1605185618  1605224105     5.14\n",
       "3  1605290400  1605272068  1605310473     5.25\n",
       "4  1605376800  1605358519  1605396843     4.79\n",
       "5  1605463200  1605444970  1605483214     4.62\n",
       "6  1605549600  1605531421  1605569587     4.50\n",
       "7  1605636000  1605617872  1605655961     4.30"
      ],
      "text/html": "<div>\n<style scoped>\n    .dataframe tbody tr th:only-of-type {\n        vertical-align: middle;\n    }\n\n    .dataframe tbody tr th {\n        vertical-align: top;\n    }\n\n    .dataframe thead th {\n        text-align: right;\n    }\n</style>\n<table border=\"1\" class=\"dataframe\">\n  <thead>\n    <tr style=\"text-align: right;\">\n      <th></th>\n      <th>UTC_Time</th>\n      <th>Sunrise</th>\n      <th>Sunset</th>\n      <th>uvIndex</th>\n    </tr>\n  </thead>\n  <tbody>\n    <tr>\n      <th>0</th>\n      <td>1605031200</td>\n      <td>1605012717</td>\n      <td>1605051373</td>\n      <td>5.12</td>\n    </tr>\n    <tr>\n      <th>1</th>\n      <td>1605117600</td>\n      <td>1605099167</td>\n      <td>1605137738</td>\n      <td>4.96</td>\n    </tr>\n    <tr>\n      <th>2</th>\n      <td>1605204000</td>\n      <td>1605185618</td>\n      <td>1605224105</td>\n      <td>5.14</td>\n    </tr>\n    <tr>\n      <th>3</th>\n      <td>1605290400</td>\n      <td>1605272068</td>\n      <td>1605310473</td>\n      <td>5.25</td>\n    </tr>\n    <tr>\n      <th>4</th>\n      <td>1605376800</td>\n      <td>1605358519</td>\n      <td>1605396843</td>\n      <td>4.79</td>\n    </tr>\n    <tr>\n      <th>5</th>\n      <td>1605463200</td>\n      <td>1605444970</td>\n      <td>1605483214</td>\n      <td>4.62</td>\n    </tr>\n    <tr>\n      <th>6</th>\n      <td>1605549600</td>\n      <td>1605531421</td>\n      <td>1605569587</td>\n      <td>4.50</td>\n    </tr>\n    <tr>\n      <th>7</th>\n      <td>1605636000</td>\n      <td>1605617872</td>\n      <td>1605655961</td>\n      <td>4.30</td>\n    </tr>\n  </tbody>\n</table>\n</div>"
     },
     "metadata": {},
     "execution_count": 29
    }
   ],
   "source": [
    "forecasted_daily_weather = []\n",
    "\n",
    "for day in np.arange(0, 8, 1):\n",
    "    forecasted_daily_weather.append({\n",
    "        \"UTC_Time\": responseJson[\"daily\"][day][\"dt\"],\n",
    "        \"Sunrise\": responseJson[\"daily\"][day][\"sunrise\"],\n",
    "        \"Sunset\": responseJson[\"daily\"][day][\"sunset\"],\n",
    "        \"uvIndex\": responseJson[\"daily\"][day][\"uvi\"]\n",
    "    })\n",
    "\n",
    "daily_weather_DF = pd.DataFrame(forecasted_daily_weather)\n",
    "daily_weather_DF"
   ]
  },
  {
   "cell_type": "markdown",
   "metadata": {},
   "source": [
    "## Clean up the UTC_Time column: Convert UTC time to CST"
   ]
  },
  {
   "cell_type": "code",
   "execution_count": 30,
   "metadata": {},
   "outputs": [
    {
     "output_type": "execute_result",
     "data": {
      "text/plain": [
       "     UTC_Time            Date_Time  Year  Month  Day  Hour\n",
       "0  1605031200  2020-11-10 12:00:00  2020     11   10    12\n",
       "1  1605117600  2020-11-11 12:00:00  2020     11   11    12\n",
       "2  1605204000  2020-11-12 12:00:00  2020     11   12    12\n",
       "3  1605290400  2020-11-13 12:00:00  2020     11   13    12\n",
       "4  1605376800  2020-11-14 12:00:00  2020     11   14    12\n",
       "5  1605463200  2020-11-15 12:00:00  2020     11   15    12\n",
       "6  1605549600  2020-11-16 12:00:00  2020     11   16    12\n",
       "7  1605636000  2020-11-17 12:00:00  2020     11   17    12"
      ],
      "text/html": "<div>\n<style scoped>\n    .dataframe tbody tr th:only-of-type {\n        vertical-align: middle;\n    }\n\n    .dataframe tbody tr th {\n        vertical-align: top;\n    }\n\n    .dataframe thead th {\n        text-align: right;\n    }\n</style>\n<table border=\"1\" class=\"dataframe\">\n  <thead>\n    <tr style=\"text-align: right;\">\n      <th></th>\n      <th>UTC_Time</th>\n      <th>Date_Time</th>\n      <th>Year</th>\n      <th>Month</th>\n      <th>Day</th>\n      <th>Hour</th>\n    </tr>\n  </thead>\n  <tbody>\n    <tr>\n      <th>0</th>\n      <td>1605031200</td>\n      <td>2020-11-10 12:00:00</td>\n      <td>2020</td>\n      <td>11</td>\n      <td>10</td>\n      <td>12</td>\n    </tr>\n    <tr>\n      <th>1</th>\n      <td>1605117600</td>\n      <td>2020-11-11 12:00:00</td>\n      <td>2020</td>\n      <td>11</td>\n      <td>11</td>\n      <td>12</td>\n    </tr>\n    <tr>\n      <th>2</th>\n      <td>1605204000</td>\n      <td>2020-11-12 12:00:00</td>\n      <td>2020</td>\n      <td>11</td>\n      <td>12</td>\n      <td>12</td>\n    </tr>\n    <tr>\n      <th>3</th>\n      <td>1605290400</td>\n      <td>2020-11-13 12:00:00</td>\n      <td>2020</td>\n      <td>11</td>\n      <td>13</td>\n      <td>12</td>\n    </tr>\n    <tr>\n      <th>4</th>\n      <td>1605376800</td>\n      <td>2020-11-14 12:00:00</td>\n      <td>2020</td>\n      <td>11</td>\n      <td>14</td>\n      <td>12</td>\n    </tr>\n    <tr>\n      <th>5</th>\n      <td>1605463200</td>\n      <td>2020-11-15 12:00:00</td>\n      <td>2020</td>\n      <td>11</td>\n      <td>15</td>\n      <td>12</td>\n    </tr>\n    <tr>\n      <th>6</th>\n      <td>1605549600</td>\n      <td>2020-11-16 12:00:00</td>\n      <td>2020</td>\n      <td>11</td>\n      <td>16</td>\n      <td>12</td>\n    </tr>\n    <tr>\n      <th>7</th>\n      <td>1605636000</td>\n      <td>2020-11-17 12:00:00</td>\n      <td>2020</td>\n      <td>11</td>\n      <td>17</td>\n      <td>12</td>\n    </tr>\n  </tbody>\n</table>\n</div>"
     },
     "metadata": {},
     "execution_count": 30
    }
   ],
   "source": [
    "daily_index = np.arange(0,8,1)\n",
    "\n",
    "daily_UTC_date_time = daily_weather_DF[\"UTC_Time\"]\n",
    "\n",
    "date_time_DF = convert_DateTime_UTC_to_CST(daily_UTC_date_time, daily_index)\n",
    "\n",
    "date_time_DF"
   ]
  },
  {
   "cell_type": "code",
   "execution_count": 31,
   "metadata": {},
   "outputs": [
    {
     "output_type": "execute_result",
     "data": {
      "text/plain": [
       "      Sunrise      Sunset  uvIndex           Date_Time  Year  Month  Day  Hour\n",
       "0  1605012717  1605051373     5.12 2020-11-10 12:00:00  2020     11   10    12\n",
       "1  1605099167  1605137738     4.96 2020-11-11 12:00:00  2020     11   11    12\n",
       "2  1605185618  1605224105     5.14 2020-11-12 12:00:00  2020     11   12    12\n",
       "3  1605272068  1605310473     5.25 2020-11-13 12:00:00  2020     11   13    12\n",
       "4  1605358519  1605396843     4.79 2020-11-14 12:00:00  2020     11   14    12\n",
       "5  1605444970  1605483214     4.62 2020-11-15 12:00:00  2020     11   15    12\n",
       "6  1605531421  1605569587     4.50 2020-11-16 12:00:00  2020     11   16    12\n",
       "7  1605617872  1605655961     4.30 2020-11-17 12:00:00  2020     11   17    12"
      ],
      "text/html": "<div>\n<style scoped>\n    .dataframe tbody tr th:only-of-type {\n        vertical-align: middle;\n    }\n\n    .dataframe tbody tr th {\n        vertical-align: top;\n    }\n\n    .dataframe thead th {\n        text-align: right;\n    }\n</style>\n<table border=\"1\" class=\"dataframe\">\n  <thead>\n    <tr style=\"text-align: right;\">\n      <th></th>\n      <th>Sunrise</th>\n      <th>Sunset</th>\n      <th>uvIndex</th>\n      <th>Date_Time</th>\n      <th>Year</th>\n      <th>Month</th>\n      <th>Day</th>\n      <th>Hour</th>\n    </tr>\n  </thead>\n  <tbody>\n    <tr>\n      <th>0</th>\n      <td>1605012717</td>\n      <td>1605051373</td>\n      <td>5.12</td>\n      <td>2020-11-10 12:00:00</td>\n      <td>2020</td>\n      <td>11</td>\n      <td>10</td>\n      <td>12</td>\n    </tr>\n    <tr>\n      <th>1</th>\n      <td>1605099167</td>\n      <td>1605137738</td>\n      <td>4.96</td>\n      <td>2020-11-11 12:00:00</td>\n      <td>2020</td>\n      <td>11</td>\n      <td>11</td>\n      <td>12</td>\n    </tr>\n    <tr>\n      <th>2</th>\n      <td>1605185618</td>\n      <td>1605224105</td>\n      <td>5.14</td>\n      <td>2020-11-12 12:00:00</td>\n      <td>2020</td>\n      <td>11</td>\n      <td>12</td>\n      <td>12</td>\n    </tr>\n    <tr>\n      <th>3</th>\n      <td>1605272068</td>\n      <td>1605310473</td>\n      <td>5.25</td>\n      <td>2020-11-13 12:00:00</td>\n      <td>2020</td>\n      <td>11</td>\n      <td>13</td>\n      <td>12</td>\n    </tr>\n    <tr>\n      <th>4</th>\n      <td>1605358519</td>\n      <td>1605396843</td>\n      <td>4.79</td>\n      <td>2020-11-14 12:00:00</td>\n      <td>2020</td>\n      <td>11</td>\n      <td>14</td>\n      <td>12</td>\n    </tr>\n    <tr>\n      <th>5</th>\n      <td>1605444970</td>\n      <td>1605483214</td>\n      <td>4.62</td>\n      <td>2020-11-15 12:00:00</td>\n      <td>2020</td>\n      <td>11</td>\n      <td>15</td>\n      <td>12</td>\n    </tr>\n    <tr>\n      <th>6</th>\n      <td>1605531421</td>\n      <td>1605569587</td>\n      <td>4.50</td>\n      <td>2020-11-16 12:00:00</td>\n      <td>2020</td>\n      <td>11</td>\n      <td>16</td>\n      <td>12</td>\n    </tr>\n    <tr>\n      <th>7</th>\n      <td>1605617872</td>\n      <td>1605655961</td>\n      <td>4.30</td>\n      <td>2020-11-17 12:00:00</td>\n      <td>2020</td>\n      <td>11</td>\n      <td>17</td>\n      <td>12</td>\n    </tr>\n  </tbody>\n</table>\n</div>"
     },
     "metadata": {},
     "execution_count": 31
    }
   ],
   "source": [
    "daily_weather_DF = pd.merge(daily_weather_DF, date_time_DF, on='UTC_Time', how='outer')\n",
    "daily_weather_DF.drop(columns=[\"UTC_Time\"], axis=1, inplace=True)\n",
    "daily_weather_DF[\"Date_Time\"] = pd.to_datetime(daily_weather_DF[\"Date_Time\"])\n",
    "daily_weather_DF"
   ]
  },
  {
   "cell_type": "markdown",
   "metadata": {},
   "source": [
    "## Use sunrise and sunset times to calculate the total hours of sunhour for each day"
   ]
  },
  {
   "cell_type": "code",
   "execution_count": 32,
   "metadata": {},
   "outputs": [
    {
     "output_type": "execute_result",
     "data": {
      "text/plain": [
       "      Sunrise    Sunhour\n",
       "0  1605012717  10.737778\n",
       "1  1605099167  10.714167\n",
       "2  1605185618  10.690833\n",
       "3  1605272068  10.668056\n",
       "4  1605358519  10.645556\n",
       "5  1605444970  10.623333\n",
       "6  1605531421  10.601667\n",
       "7  1605617872  10.580278"
      ],
      "text/html": "<div>\n<style scoped>\n    .dataframe tbody tr th:only-of-type {\n        vertical-align: middle;\n    }\n\n    .dataframe tbody tr th {\n        vertical-align: top;\n    }\n\n    .dataframe thead th {\n        text-align: right;\n    }\n</style>\n<table border=\"1\" class=\"dataframe\">\n  <thead>\n    <tr style=\"text-align: right;\">\n      <th></th>\n      <th>Sunrise</th>\n      <th>Sunhour</th>\n    </tr>\n  </thead>\n  <tbody>\n    <tr>\n      <th>0</th>\n      <td>1605012717</td>\n      <td>10.737778</td>\n    </tr>\n    <tr>\n      <th>1</th>\n      <td>1605099167</td>\n      <td>10.714167</td>\n    </tr>\n    <tr>\n      <th>2</th>\n      <td>1605185618</td>\n      <td>10.690833</td>\n    </tr>\n    <tr>\n      <th>3</th>\n      <td>1605272068</td>\n      <td>10.668056</td>\n    </tr>\n    <tr>\n      <th>4</th>\n      <td>1605358519</td>\n      <td>10.645556</td>\n    </tr>\n    <tr>\n      <th>5</th>\n      <td>1605444970</td>\n      <td>10.623333</td>\n    </tr>\n    <tr>\n      <th>6</th>\n      <td>1605531421</td>\n      <td>10.601667</td>\n    </tr>\n    <tr>\n      <th>7</th>\n      <td>1605617872</td>\n      <td>10.580278</td>\n    </tr>\n  </tbody>\n</table>\n</div>"
     },
     "metadata": {},
     "execution_count": 32
    }
   ],
   "source": [
    "daily_index = np.arange(0,8,1)\n",
    "\n",
    "UTC_sunrise = daily_weather_DF[\"Sunrise\"]\n",
    "UTC_sunset = daily_weather_DF[\"Sunset\"]\n",
    "\n",
    "sunhour_DF = calculate_sunhour(UTC_sunrise, UTC_sunset, daily_index)\n",
    "\n",
    "sunhour_DF"
   ]
  },
  {
   "cell_type": "code",
   "execution_count": 33,
   "metadata": {},
   "outputs": [
    {
     "output_type": "execute_result",
     "data": {
      "text/plain": [
       "   uvIndex           Date_Time  Year  Month  Day  Hour    Sunhour\n",
       "0     5.12 2020-11-10 12:00:00  2020     11   10    12  10.737778\n",
       "1     4.96 2020-11-11 12:00:00  2020     11   11    12  10.714167\n",
       "2     5.14 2020-11-12 12:00:00  2020     11   12    12  10.690833\n",
       "3     5.25 2020-11-13 12:00:00  2020     11   13    12  10.668056\n",
       "4     4.79 2020-11-14 12:00:00  2020     11   14    12  10.645556\n",
       "5     4.62 2020-11-15 12:00:00  2020     11   15    12  10.623333\n",
       "6     4.50 2020-11-16 12:00:00  2020     11   16    12  10.601667\n",
       "7     4.30 2020-11-17 12:00:00  2020     11   17    12  10.580278"
      ],
      "text/html": "<div>\n<style scoped>\n    .dataframe tbody tr th:only-of-type {\n        vertical-align: middle;\n    }\n\n    .dataframe tbody tr th {\n        vertical-align: top;\n    }\n\n    .dataframe thead th {\n        text-align: right;\n    }\n</style>\n<table border=\"1\" class=\"dataframe\">\n  <thead>\n    <tr style=\"text-align: right;\">\n      <th></th>\n      <th>uvIndex</th>\n      <th>Date_Time</th>\n      <th>Year</th>\n      <th>Month</th>\n      <th>Day</th>\n      <th>Hour</th>\n      <th>Sunhour</th>\n    </tr>\n  </thead>\n  <tbody>\n    <tr>\n      <th>0</th>\n      <td>5.12</td>\n      <td>2020-11-10 12:00:00</td>\n      <td>2020</td>\n      <td>11</td>\n      <td>10</td>\n      <td>12</td>\n      <td>10.737778</td>\n    </tr>\n    <tr>\n      <th>1</th>\n      <td>4.96</td>\n      <td>2020-11-11 12:00:00</td>\n      <td>2020</td>\n      <td>11</td>\n      <td>11</td>\n      <td>12</td>\n      <td>10.714167</td>\n    </tr>\n    <tr>\n      <th>2</th>\n      <td>5.14</td>\n      <td>2020-11-12 12:00:00</td>\n      <td>2020</td>\n      <td>11</td>\n      <td>12</td>\n      <td>12</td>\n      <td>10.690833</td>\n    </tr>\n    <tr>\n      <th>3</th>\n      <td>5.25</td>\n      <td>2020-11-13 12:00:00</td>\n      <td>2020</td>\n      <td>11</td>\n      <td>13</td>\n      <td>12</td>\n      <td>10.668056</td>\n    </tr>\n    <tr>\n      <th>4</th>\n      <td>4.79</td>\n      <td>2020-11-14 12:00:00</td>\n      <td>2020</td>\n      <td>11</td>\n      <td>14</td>\n      <td>12</td>\n      <td>10.645556</td>\n    </tr>\n    <tr>\n      <th>5</th>\n      <td>4.62</td>\n      <td>2020-11-15 12:00:00</td>\n      <td>2020</td>\n      <td>11</td>\n      <td>15</td>\n      <td>12</td>\n      <td>10.623333</td>\n    </tr>\n    <tr>\n      <th>6</th>\n      <td>4.50</td>\n      <td>2020-11-16 12:00:00</td>\n      <td>2020</td>\n      <td>11</td>\n      <td>16</td>\n      <td>12</td>\n      <td>10.601667</td>\n    </tr>\n    <tr>\n      <th>7</th>\n      <td>4.30</td>\n      <td>2020-11-17 12:00:00</td>\n      <td>2020</td>\n      <td>11</td>\n      <td>17</td>\n      <td>12</td>\n      <td>10.580278</td>\n    </tr>\n  </tbody>\n</table>\n</div>"
     },
     "metadata": {},
     "execution_count": 33
    }
   ],
   "source": [
    "daily_weather_DF = pd.merge(daily_weather_DF, sunhour_DF, on='Sunrise', how='outer')\n",
    "daily_weather_DF.drop(columns=[\"Sunrise\", \"Sunset\"], axis=1, inplace=True)\n",
    "daily_weather_DF"
   ]
  },
  {
   "cell_type": "markdown",
   "metadata": {},
   "source": [
    "## Display the final daily forecasted weather dataframe"
   ]
  },
  {
   "cell_type": "code",
   "execution_count": 34,
   "metadata": {},
   "outputs": [
    {
     "output_type": "execute_result",
     "data": {
      "text/plain": [
       "            Date_Time  Year  Month  Day  Hour    Sunhour  uvIndex\n",
       "0 2020-11-10 12:00:00  2020     11   10    12  10.737778     5.12\n",
       "1 2020-11-11 12:00:00  2020     11   11    12  10.714167     4.96\n",
       "2 2020-11-12 12:00:00  2020     11   12    12  10.690833     5.14\n",
       "3 2020-11-13 12:00:00  2020     11   13    12  10.668056     5.25\n",
       "4 2020-11-14 12:00:00  2020     11   14    12  10.645556     4.79\n",
       "5 2020-11-15 12:00:00  2020     11   15    12  10.623333     4.62\n",
       "6 2020-11-16 12:00:00  2020     11   16    12  10.601667     4.50\n",
       "7 2020-11-17 12:00:00  2020     11   17    12  10.580278     4.30"
      ],
      "text/html": "<div>\n<style scoped>\n    .dataframe tbody tr th:only-of-type {\n        vertical-align: middle;\n    }\n\n    .dataframe tbody tr th {\n        vertical-align: top;\n    }\n\n    .dataframe thead th {\n        text-align: right;\n    }\n</style>\n<table border=\"1\" class=\"dataframe\">\n  <thead>\n    <tr style=\"text-align: right;\">\n      <th></th>\n      <th>Date_Time</th>\n      <th>Year</th>\n      <th>Month</th>\n      <th>Day</th>\n      <th>Hour</th>\n      <th>Sunhour</th>\n      <th>uvIndex</th>\n    </tr>\n  </thead>\n  <tbody>\n    <tr>\n      <th>0</th>\n      <td>2020-11-10 12:00:00</td>\n      <td>2020</td>\n      <td>11</td>\n      <td>10</td>\n      <td>12</td>\n      <td>10.737778</td>\n      <td>5.12</td>\n    </tr>\n    <tr>\n      <th>1</th>\n      <td>2020-11-11 12:00:00</td>\n      <td>2020</td>\n      <td>11</td>\n      <td>11</td>\n      <td>12</td>\n      <td>10.714167</td>\n      <td>4.96</td>\n    </tr>\n    <tr>\n      <th>2</th>\n      <td>2020-11-12 12:00:00</td>\n      <td>2020</td>\n      <td>11</td>\n      <td>12</td>\n      <td>12</td>\n      <td>10.690833</td>\n      <td>5.14</td>\n    </tr>\n    <tr>\n      <th>3</th>\n      <td>2020-11-13 12:00:00</td>\n      <td>2020</td>\n      <td>11</td>\n      <td>13</td>\n      <td>12</td>\n      <td>10.668056</td>\n      <td>5.25</td>\n    </tr>\n    <tr>\n      <th>4</th>\n      <td>2020-11-14 12:00:00</td>\n      <td>2020</td>\n      <td>11</td>\n      <td>14</td>\n      <td>12</td>\n      <td>10.645556</td>\n      <td>4.79</td>\n    </tr>\n    <tr>\n      <th>5</th>\n      <td>2020-11-15 12:00:00</td>\n      <td>2020</td>\n      <td>11</td>\n      <td>15</td>\n      <td>12</td>\n      <td>10.623333</td>\n      <td>4.62</td>\n    </tr>\n    <tr>\n      <th>6</th>\n      <td>2020-11-16 12:00:00</td>\n      <td>2020</td>\n      <td>11</td>\n      <td>16</td>\n      <td>12</td>\n      <td>10.601667</td>\n      <td>4.50</td>\n    </tr>\n    <tr>\n      <th>7</th>\n      <td>2020-11-17 12:00:00</td>\n      <td>2020</td>\n      <td>11</td>\n      <td>17</td>\n      <td>12</td>\n      <td>10.580278</td>\n      <td>4.30</td>\n    </tr>\n  </tbody>\n</table>\n</div>"
     },
     "metadata": {},
     "execution_count": 34
    }
   ],
   "source": [
    "# Re-Order the columns\n",
    "daily_weather_DF = daily_weather_DF[[\"Date_Time\", \"Year\", \"Month\", \"Day\", \"Hour\", \"Sunhour\",\"uvIndex\"]]\n",
    "daily_weather_DF"
   ]
  },
  {
   "cell_type": "code",
   "execution_count": 35,
   "metadata": {},
   "outputs": [
    {
     "output_type": "execute_result",
     "data": {
      "text/plain": [
       "Date_Time    datetime64[ns]\n",
       "Year                  int64\n",
       "Month                 int64\n",
       "Day                   int64\n",
       "Hour                  int64\n",
       "Sunhour             float64\n",
       "uvIndex             float64\n",
       "dtype: object"
      ]
     },
     "metadata": {},
     "execution_count": 35
    }
   ],
   "source": [
    "# Check the data types\n",
    "daily_weather_DF.dtypes"
   ]
  },
  {
   "cell_type": "markdown",
   "metadata": {},
   "source": [
    "## Clean the dataframe so it can be merged with the hourly forecasted data"
   ]
  },
  {
   "cell_type": "code",
   "execution_count": 36,
   "metadata": {},
   "outputs": [
    {
     "output_type": "execute_result",
     "data": {
      "text/plain": [
       "   Day    Sunhour  uvIndex\n",
       "0   10  10.737778     5.12\n",
       "1   11  10.714167     4.96\n",
       "2   12  10.690833     5.14\n",
       "3   13  10.668056     5.25\n",
       "4   14  10.645556     4.79\n",
       "5   15  10.623333     4.62\n",
       "6   16  10.601667     4.50\n",
       "7   17  10.580278     4.30"
      ],
      "text/html": "<div>\n<style scoped>\n    .dataframe tbody tr th:only-of-type {\n        vertical-align: middle;\n    }\n\n    .dataframe tbody tr th {\n        vertical-align: top;\n    }\n\n    .dataframe thead th {\n        text-align: right;\n    }\n</style>\n<table border=\"1\" class=\"dataframe\">\n  <thead>\n    <tr style=\"text-align: right;\">\n      <th></th>\n      <th>Day</th>\n      <th>Sunhour</th>\n      <th>uvIndex</th>\n    </tr>\n  </thead>\n  <tbody>\n    <tr>\n      <th>0</th>\n      <td>10</td>\n      <td>10.737778</td>\n      <td>5.12</td>\n    </tr>\n    <tr>\n      <th>1</th>\n      <td>11</td>\n      <td>10.714167</td>\n      <td>4.96</td>\n    </tr>\n    <tr>\n      <th>2</th>\n      <td>12</td>\n      <td>10.690833</td>\n      <td>5.14</td>\n    </tr>\n    <tr>\n      <th>3</th>\n      <td>13</td>\n      <td>10.668056</td>\n      <td>5.25</td>\n    </tr>\n    <tr>\n      <th>4</th>\n      <td>14</td>\n      <td>10.645556</td>\n      <td>4.79</td>\n    </tr>\n    <tr>\n      <th>5</th>\n      <td>15</td>\n      <td>10.623333</td>\n      <td>4.62</td>\n    </tr>\n    <tr>\n      <th>6</th>\n      <td>16</td>\n      <td>10.601667</td>\n      <td>4.50</td>\n    </tr>\n    <tr>\n      <th>7</th>\n      <td>17</td>\n      <td>10.580278</td>\n      <td>4.30</td>\n    </tr>\n  </tbody>\n</table>\n</div>"
     },
     "metadata": {},
     "execution_count": 36
    }
   ],
   "source": [
    "daily_weather_DF.drop(columns=[\"Date_Time\", \"Year\", \"Month\", \"Hour\"], axis=1, inplace=True)\n",
    "daily_weather_DF"
   ]
  },
  {
   "cell_type": "markdown",
   "metadata": {},
   "source": [
    "# Hourly Forecasted Weather Data:"
   ]
  },
  {
   "cell_type": "code",
   "execution_count": 37,
   "metadata": {},
   "outputs": [
    {
     "output_type": "execute_result",
     "data": {
      "text/plain": [
       "     UTC_Time  Temperature_F Weather_Description  CloudCover_percent  \\\n",
       "0  1605045600          77.25     overcast clouds                  90   \n",
       "1  1605049200          74.50     overcast clouds                  87   \n",
       "2  1605052800          72.18     overcast clouds                  87   \n",
       "3  1605056400          67.75    scattered clouds                  41   \n",
       "4  1605060000          68.02       broken clouds                  57   \n",
       "\n",
       "   Humidity_percent  \n",
       "0                29  \n",
       "1                26  \n",
       "2                26  \n",
       "3                31  \n",
       "4                29  "
      ],
      "text/html": "<div>\n<style scoped>\n    .dataframe tbody tr th:only-of-type {\n        vertical-align: middle;\n    }\n\n    .dataframe tbody tr th {\n        vertical-align: top;\n    }\n\n    .dataframe thead th {\n        text-align: right;\n    }\n</style>\n<table border=\"1\" class=\"dataframe\">\n  <thead>\n    <tr style=\"text-align: right;\">\n      <th></th>\n      <th>UTC_Time</th>\n      <th>Temperature_F</th>\n      <th>Weather_Description</th>\n      <th>CloudCover_percent</th>\n      <th>Humidity_percent</th>\n    </tr>\n  </thead>\n  <tbody>\n    <tr>\n      <th>0</th>\n      <td>1605045600</td>\n      <td>77.25</td>\n      <td>overcast clouds</td>\n      <td>90</td>\n      <td>29</td>\n    </tr>\n    <tr>\n      <th>1</th>\n      <td>1605049200</td>\n      <td>74.50</td>\n      <td>overcast clouds</td>\n      <td>87</td>\n      <td>26</td>\n    </tr>\n    <tr>\n      <th>2</th>\n      <td>1605052800</td>\n      <td>72.18</td>\n      <td>overcast clouds</td>\n      <td>87</td>\n      <td>26</td>\n    </tr>\n    <tr>\n      <th>3</th>\n      <td>1605056400</td>\n      <td>67.75</td>\n      <td>scattered clouds</td>\n      <td>41</td>\n      <td>31</td>\n    </tr>\n    <tr>\n      <th>4</th>\n      <td>1605060000</td>\n      <td>68.02</td>\n      <td>broken clouds</td>\n      <td>57</td>\n      <td>29</td>\n    </tr>\n  </tbody>\n</table>\n</div>"
     },
     "metadata": {},
     "execution_count": 37
    }
   ],
   "source": [
    "forecasted_hourly_weather = []\n",
    "\n",
    "for hour in np.arange(0, 48, 1):\n",
    "    forecasted_hourly_weather.append({\n",
    "        \"UTC_Time\": responseJson[\"hourly\"][hour][\"dt\"],\n",
    "        \"Temperature_F\": responseJson[\"hourly\"][hour][\"temp\"],\n",
    "        \"Weather_Description\": responseJson[\"hourly\"][hour][\"weather\"][0][\"description\"],\n",
    "        \"CloudCover_percent\": responseJson[\"hourly\"][hour][\"clouds\"],\n",
    "        \"Humidity_percent\": responseJson[\"hourly\"][hour][\"humidity\"]\n",
    "    })\n",
    "\n",
    "hourly_weather_DF = pd.DataFrame(forecasted_hourly_weather)\n",
    "hourly_weather_DF.head()"
   ]
  },
  {
   "cell_type": "code",
   "execution_count": 38,
   "metadata": {},
   "outputs": [
    {
     "output_type": "execute_result",
     "data": {
      "text/plain": [
       "     UTC_Time            Date_Time  Year  Month  Day  Hour\n",
       "0  1605045600  2020-11-10 16:00:00  2020     11   10    16\n",
       "1  1605049200  2020-11-10 17:00:00  2020     11   10    17\n",
       "2  1605052800  2020-11-10 18:00:00  2020     11   10    18\n",
       "3  1605056400  2020-11-10 19:00:00  2020     11   10    19\n",
       "4  1605060000  2020-11-10 20:00:00  2020     11   10    20"
      ],
      "text/html": "<div>\n<style scoped>\n    .dataframe tbody tr th:only-of-type {\n        vertical-align: middle;\n    }\n\n    .dataframe tbody tr th {\n        vertical-align: top;\n    }\n\n    .dataframe thead th {\n        text-align: right;\n    }\n</style>\n<table border=\"1\" class=\"dataframe\">\n  <thead>\n    <tr style=\"text-align: right;\">\n      <th></th>\n      <th>UTC_Time</th>\n      <th>Date_Time</th>\n      <th>Year</th>\n      <th>Month</th>\n      <th>Day</th>\n      <th>Hour</th>\n    </tr>\n  </thead>\n  <tbody>\n    <tr>\n      <th>0</th>\n      <td>1605045600</td>\n      <td>2020-11-10 16:00:00</td>\n      <td>2020</td>\n      <td>11</td>\n      <td>10</td>\n      <td>16</td>\n    </tr>\n    <tr>\n      <th>1</th>\n      <td>1605049200</td>\n      <td>2020-11-10 17:00:00</td>\n      <td>2020</td>\n      <td>11</td>\n      <td>10</td>\n      <td>17</td>\n    </tr>\n    <tr>\n      <th>2</th>\n      <td>1605052800</td>\n      <td>2020-11-10 18:00:00</td>\n      <td>2020</td>\n      <td>11</td>\n      <td>10</td>\n      <td>18</td>\n    </tr>\n    <tr>\n      <th>3</th>\n      <td>1605056400</td>\n      <td>2020-11-10 19:00:00</td>\n      <td>2020</td>\n      <td>11</td>\n      <td>10</td>\n      <td>19</td>\n    </tr>\n    <tr>\n      <th>4</th>\n      <td>1605060000</td>\n      <td>2020-11-10 20:00:00</td>\n      <td>2020</td>\n      <td>11</td>\n      <td>10</td>\n      <td>20</td>\n    </tr>\n  </tbody>\n</table>\n</div>"
     },
     "metadata": {},
     "execution_count": 38
    }
   ],
   "source": [
    "hourly_index = np.arange(0,48,1)\n",
    "\n",
    "hourly_UTC_date_time = hourly_weather_DF[\"UTC_Time\"]\n",
    "\n",
    "hourly_date_time_DF = convert_DateTime_UTC_to_CST(hourly_UTC_date_time, hourly_index)\n",
    "\n",
    "hourly_date_time_DF.head()"
   ]
  },
  {
   "cell_type": "code",
   "execution_count": 39,
   "metadata": {},
   "outputs": [
    {
     "output_type": "execute_result",
     "data": {
      "text/plain": [
       "            Date_Time  Year  Month  Day  Hour  Temperature_F  \\\n",
       "0 2020-11-10 16:00:00  2020     11   10    16          77.25   \n",
       "1 2020-11-10 17:00:00  2020     11   10    17          74.50   \n",
       "2 2020-11-10 18:00:00  2020     11   10    18          72.18   \n",
       "3 2020-11-10 19:00:00  2020     11   10    19          67.75   \n",
       "4 2020-11-10 20:00:00  2020     11   10    20          68.02   \n",
       "\n",
       "   Humidity_percent  CloudCover_percent Weather_Description  \n",
       "0                29                  90     overcast clouds  \n",
       "1                26                  87     overcast clouds  \n",
       "2                26                  87     overcast clouds  \n",
       "3                31                  41    scattered clouds  \n",
       "4                29                  57       broken clouds  "
      ],
      "text/html": "<div>\n<style scoped>\n    .dataframe tbody tr th:only-of-type {\n        vertical-align: middle;\n    }\n\n    .dataframe tbody tr th {\n        vertical-align: top;\n    }\n\n    .dataframe thead th {\n        text-align: right;\n    }\n</style>\n<table border=\"1\" class=\"dataframe\">\n  <thead>\n    <tr style=\"text-align: right;\">\n      <th></th>\n      <th>Date_Time</th>\n      <th>Year</th>\n      <th>Month</th>\n      <th>Day</th>\n      <th>Hour</th>\n      <th>Temperature_F</th>\n      <th>Humidity_percent</th>\n      <th>CloudCover_percent</th>\n      <th>Weather_Description</th>\n    </tr>\n  </thead>\n  <tbody>\n    <tr>\n      <th>0</th>\n      <td>2020-11-10 16:00:00</td>\n      <td>2020</td>\n      <td>11</td>\n      <td>10</td>\n      <td>16</td>\n      <td>77.25</td>\n      <td>29</td>\n      <td>90</td>\n      <td>overcast clouds</td>\n    </tr>\n    <tr>\n      <th>1</th>\n      <td>2020-11-10 17:00:00</td>\n      <td>2020</td>\n      <td>11</td>\n      <td>10</td>\n      <td>17</td>\n      <td>74.50</td>\n      <td>26</td>\n      <td>87</td>\n      <td>overcast clouds</td>\n    </tr>\n    <tr>\n      <th>2</th>\n      <td>2020-11-10 18:00:00</td>\n      <td>2020</td>\n      <td>11</td>\n      <td>10</td>\n      <td>18</td>\n      <td>72.18</td>\n      <td>26</td>\n      <td>87</td>\n      <td>overcast clouds</td>\n    </tr>\n    <tr>\n      <th>3</th>\n      <td>2020-11-10 19:00:00</td>\n      <td>2020</td>\n      <td>11</td>\n      <td>10</td>\n      <td>19</td>\n      <td>67.75</td>\n      <td>31</td>\n      <td>41</td>\n      <td>scattered clouds</td>\n    </tr>\n    <tr>\n      <th>4</th>\n      <td>2020-11-10 20:00:00</td>\n      <td>2020</td>\n      <td>11</td>\n      <td>10</td>\n      <td>20</td>\n      <td>68.02</td>\n      <td>29</td>\n      <td>57</td>\n      <td>broken clouds</td>\n    </tr>\n  </tbody>\n</table>\n</div>"
     },
     "metadata": {},
     "execution_count": 39
    }
   ],
   "source": [
    "hourly_weather_DF = pd.merge(hourly_weather_DF, hourly_date_time_DF, on='UTC_Time', how='outer')\n",
    "hourly_weather_DF.drop(columns=[\"UTC_Time\"], axis=1, inplace=True)\n",
    "hourly_weather_DF[\"Date_Time\"] = pd.to_datetime(hourly_weather_DF[\"Date_Time\"])\n",
    "hourly_weather_DF = hourly_weather_DF[[\"Date_Time\", \"Year\", \"Month\", \"Day\", \"Hour\", \"Temperature_F\", \"Humidity_percent\", \"CloudCover_percent\", \"Weather_Description\"]]\n",
    "hourly_weather_DF.head()"
   ]
  },
  {
   "cell_type": "code",
   "execution_count": 40,
   "metadata": {},
   "outputs": [
    {
     "output_type": "execute_result",
     "data": {
      "text/plain": [
       "Date_Time              datetime64[ns]\n",
       "Year                            int64\n",
       "Month                           int64\n",
       "Day                             int64\n",
       "Hour                            int64\n",
       "Temperature_F                 float64\n",
       "Humidity_percent                int64\n",
       "CloudCover_percent              int64\n",
       "Weather_Description            object\n",
       "dtype: object"
      ]
     },
     "metadata": {},
     "execution_count": 40
    }
   ],
   "source": [
    "# Check the data types\n",
    "hourly_weather_DF.dtypes"
   ]
  },
  {
   "cell_type": "markdown",
   "metadata": {},
   "source": [
    "# Merge the Daily and Hourly Forecasted Weather DataFrames:"
   ]
  },
  {
   "cell_type": "code",
   "execution_count": 41,
   "metadata": {},
   "outputs": [
    {
     "output_type": "execute_result",
     "data": {
      "text/plain": [
       "             Date_Time  Year  Month  Day  Hour  Temperature_F  \\\n",
       "0  2020-11-10 16:00:00  2020     11   10    16          77.25   \n",
       "1  2020-11-10 17:00:00  2020     11   10    17          74.50   \n",
       "2  2020-11-10 18:00:00  2020     11   10    18          72.18   \n",
       "3  2020-11-10 19:00:00  2020     11   10    19          67.75   \n",
       "4  2020-11-10 20:00:00  2020     11   10    20          68.02   \n",
       "5  2020-11-10 21:00:00  2020     11   10    21          67.93   \n",
       "6  2020-11-10 22:00:00  2020     11   10    22          65.77   \n",
       "7  2020-11-10 23:00:00  2020     11   10    23          62.80   \n",
       "8  2020-11-11 00:00:00  2020     11   11     0          60.42   \n",
       "9  2020-11-11 01:00:00  2020     11   11     1          59.07   \n",
       "10 2020-11-11 02:00:00  2020     11   11     2          57.90   \n",
       "11 2020-11-11 03:00:00  2020     11   11     3          56.75   \n",
       "12 2020-11-11 04:00:00  2020     11   11     4          55.63   \n",
       "13 2020-11-11 05:00:00  2020     11   11     5          54.54   \n",
       "14 2020-11-11 06:00:00  2020     11   11     6          53.73   \n",
       "15 2020-11-11 07:00:00  2020     11   11     7          53.28   \n",
       "16 2020-11-11 08:00:00  2020     11   11     8          56.39   \n",
       "17 2020-11-11 09:00:00  2020     11   11     9          61.11   \n",
       "18 2020-11-11 10:00:00  2020     11   11    10          66.69   \n",
       "19 2020-11-11 11:00:00  2020     11   11    11          71.56   \n",
       "20 2020-11-11 12:00:00  2020     11   11    12          75.36   \n",
       "21 2020-11-11 13:00:00  2020     11   11    13          77.74   \n",
       "22 2020-11-11 14:00:00  2020     11   11    14          79.02   \n",
       "23 2020-11-11 15:00:00  2020     11   11    15          79.43   \n",
       "24 2020-11-11 16:00:00  2020     11   11    16          78.66   \n",
       "25 2020-11-11 17:00:00  2020     11   11    17          74.12   \n",
       "26 2020-11-11 18:00:00  2020     11   11    18          67.39   \n",
       "27 2020-11-11 19:00:00  2020     11   11    19          64.98   \n",
       "28 2020-11-11 20:00:00  2020     11   11    20          63.16   \n",
       "29 2020-11-11 21:00:00  2020     11   11    21          61.99   \n",
       "30 2020-11-11 22:00:00  2020     11   11    22          61.30   \n",
       "31 2020-11-11 23:00:00  2020     11   11    23          60.67   \n",
       "32 2020-11-12 00:00:00  2020     11   12     0          59.97   \n",
       "33 2020-11-12 01:00:00  2020     11   12     1          59.34   \n",
       "34 2020-11-12 02:00:00  2020     11   12     2          58.62   \n",
       "35 2020-11-12 03:00:00  2020     11   12     3          58.21   \n",
       "36 2020-11-12 04:00:00  2020     11   12     4          57.76   \n",
       "37 2020-11-12 05:00:00  2020     11   12     5          57.34   \n",
       "38 2020-11-12 06:00:00  2020     11   12     6          57.61   \n",
       "39 2020-11-12 07:00:00  2020     11   12     7          57.09   \n",
       "40 2020-11-12 08:00:00  2020     11   12     8          60.78   \n",
       "41 2020-11-12 09:00:00  2020     11   12     9          66.34   \n",
       "42 2020-11-12 10:00:00  2020     11   12    10          71.40   \n",
       "43 2020-11-12 11:00:00  2020     11   12    11          75.25   \n",
       "44 2020-11-12 12:00:00  2020     11   12    12          78.33   \n",
       "45 2020-11-12 13:00:00  2020     11   12    13          80.29   \n",
       "46 2020-11-12 14:00:00  2020     11   12    14          81.93   \n",
       "47 2020-11-12 15:00:00  2020     11   12    15          82.44   \n",
       "\n",
       "    Humidity_percent    Sunhour  CloudCover_percent  uvIndex  \\\n",
       "0                 29  10.737778                  90     5.12   \n",
       "1                 26  10.737778                  87     5.12   \n",
       "2                 26  10.737778                  87     5.12   \n",
       "3                 31  10.737778                  41     5.12   \n",
       "4                 29  10.737778                  57     5.12   \n",
       "5                 29  10.737778                  70     5.12   \n",
       "6                 30  10.737778                  71     5.12   \n",
       "7                 33  10.737778                  66     5.12   \n",
       "8                 39  10.714167                  55     4.96   \n",
       "9                 41  10.714167                   0     4.96   \n",
       "10                39  10.714167                   0     4.96   \n",
       "11                38  10.714167                   0     4.96   \n",
       "12                39  10.714167                   0     4.96   \n",
       "13                40  10.714167                   0     4.96   \n",
       "14                42  10.714167                   0     4.96   \n",
       "15                43  10.714167                   0     4.96   \n",
       "16                38  10.714167                   0     4.96   \n",
       "17                33  10.714167                   0     4.96   \n",
       "18                27  10.714167                   0     4.96   \n",
       "19                22  10.714167                   0     4.96   \n",
       "20                20  10.714167                   0     4.96   \n",
       "21                20  10.714167                   0     4.96   \n",
       "22                21  10.714167                   0     4.96   \n",
       "23                22  10.714167                   0     4.96   \n",
       "24                23  10.714167                   0     4.96   \n",
       "25                30  10.714167                   0     4.96   \n",
       "26                38  10.714167                   0     4.96   \n",
       "27                40  10.714167                   0     4.96   \n",
       "28                42  10.714167                   0     4.96   \n",
       "29                43  10.714167                   0     4.96   \n",
       "30                43  10.714167                   0     4.96   \n",
       "31                43  10.714167                   0     4.96   \n",
       "32                43  10.690833                   0     5.14   \n",
       "33                43  10.690833                   0     5.14   \n",
       "34                44  10.690833                   0     5.14   \n",
       "35                45  10.690833                   0     5.14   \n",
       "36                45  10.690833                   0     5.14   \n",
       "37                45  10.690833                   5     5.14   \n",
       "38                43  10.690833                  12     5.14   \n",
       "39                44  10.690833                  18     5.14   \n",
       "40                39  10.690833                  10     5.14   \n",
       "41                34  10.690833                   8     5.14   \n",
       "42                32  10.690833                   8     5.14   \n",
       "43                33  10.690833                   7     5.14   \n",
       "44                36  10.690833                   5     5.14   \n",
       "45                39  10.690833                   0     5.14   \n",
       "46                39  10.690833                   0     5.14   \n",
       "47                39  10.690833                   0     5.14   \n",
       "\n",
       "   Weather_Description  \n",
       "0      overcast clouds  \n",
       "1      overcast clouds  \n",
       "2      overcast clouds  \n",
       "3     scattered clouds  \n",
       "4        broken clouds  \n",
       "5        broken clouds  \n",
       "6        broken clouds  \n",
       "7        broken clouds  \n",
       "8        broken clouds  \n",
       "9            clear sky  \n",
       "10           clear sky  \n",
       "11           clear sky  \n",
       "12           clear sky  \n",
       "13           clear sky  \n",
       "14           clear sky  \n",
       "15           clear sky  \n",
       "16           clear sky  \n",
       "17           clear sky  \n",
       "18           clear sky  \n",
       "19           clear sky  \n",
       "20           clear sky  \n",
       "21           clear sky  \n",
       "22           clear sky  \n",
       "23           clear sky  \n",
       "24           clear sky  \n",
       "25           clear sky  \n",
       "26           clear sky  \n",
       "27           clear sky  \n",
       "28           clear sky  \n",
       "29           clear sky  \n",
       "30           clear sky  \n",
       "31           clear sky  \n",
       "32           clear sky  \n",
       "33           clear sky  \n",
       "34           clear sky  \n",
       "35           clear sky  \n",
       "36           clear sky  \n",
       "37           clear sky  \n",
       "38          few clouds  \n",
       "39          few clouds  \n",
       "40           clear sky  \n",
       "41           clear sky  \n",
       "42           clear sky  \n",
       "43           clear sky  \n",
       "44           clear sky  \n",
       "45           clear sky  \n",
       "46           clear sky  \n",
       "47           clear sky  "
      ],
      "text/html": "<div>\n<style scoped>\n    .dataframe tbody tr th:only-of-type {\n        vertical-align: middle;\n    }\n\n    .dataframe tbody tr th {\n        vertical-align: top;\n    }\n\n    .dataframe thead th {\n        text-align: right;\n    }\n</style>\n<table border=\"1\" class=\"dataframe\">\n  <thead>\n    <tr style=\"text-align: right;\">\n      <th></th>\n      <th>Date_Time</th>\n      <th>Year</th>\n      <th>Month</th>\n      <th>Day</th>\n      <th>Hour</th>\n      <th>Temperature_F</th>\n      <th>Humidity_percent</th>\n      <th>Sunhour</th>\n      <th>CloudCover_percent</th>\n      <th>uvIndex</th>\n      <th>Weather_Description</th>\n    </tr>\n  </thead>\n  <tbody>\n    <tr>\n      <th>0</th>\n      <td>2020-11-10 16:00:00</td>\n      <td>2020</td>\n      <td>11</td>\n      <td>10</td>\n      <td>16</td>\n      <td>77.25</td>\n      <td>29</td>\n      <td>10.737778</td>\n      <td>90</td>\n      <td>5.12</td>\n      <td>overcast clouds</td>\n    </tr>\n    <tr>\n      <th>1</th>\n      <td>2020-11-10 17:00:00</td>\n      <td>2020</td>\n      <td>11</td>\n      <td>10</td>\n      <td>17</td>\n      <td>74.50</td>\n      <td>26</td>\n      <td>10.737778</td>\n      <td>87</td>\n      <td>5.12</td>\n      <td>overcast clouds</td>\n    </tr>\n    <tr>\n      <th>2</th>\n      <td>2020-11-10 18:00:00</td>\n      <td>2020</td>\n      <td>11</td>\n      <td>10</td>\n      <td>18</td>\n      <td>72.18</td>\n      <td>26</td>\n      <td>10.737778</td>\n      <td>87</td>\n      <td>5.12</td>\n      <td>overcast clouds</td>\n    </tr>\n    <tr>\n      <th>3</th>\n      <td>2020-11-10 19:00:00</td>\n      <td>2020</td>\n      <td>11</td>\n      <td>10</td>\n      <td>19</td>\n      <td>67.75</td>\n      <td>31</td>\n      <td>10.737778</td>\n      <td>41</td>\n      <td>5.12</td>\n      <td>scattered clouds</td>\n    </tr>\n    <tr>\n      <th>4</th>\n      <td>2020-11-10 20:00:00</td>\n      <td>2020</td>\n      <td>11</td>\n      <td>10</td>\n      <td>20</td>\n      <td>68.02</td>\n      <td>29</td>\n      <td>10.737778</td>\n      <td>57</td>\n      <td>5.12</td>\n      <td>broken clouds</td>\n    </tr>\n    <tr>\n      <th>5</th>\n      <td>2020-11-10 21:00:00</td>\n      <td>2020</td>\n      <td>11</td>\n      <td>10</td>\n      <td>21</td>\n      <td>67.93</td>\n      <td>29</td>\n      <td>10.737778</td>\n      <td>70</td>\n      <td>5.12</td>\n      <td>broken clouds</td>\n    </tr>\n    <tr>\n      <th>6</th>\n      <td>2020-11-10 22:00:00</td>\n      <td>2020</td>\n      <td>11</td>\n      <td>10</td>\n      <td>22</td>\n      <td>65.77</td>\n      <td>30</td>\n      <td>10.737778</td>\n      <td>71</td>\n      <td>5.12</td>\n      <td>broken clouds</td>\n    </tr>\n    <tr>\n      <th>7</th>\n      <td>2020-11-10 23:00:00</td>\n      <td>2020</td>\n      <td>11</td>\n      <td>10</td>\n      <td>23</td>\n      <td>62.80</td>\n      <td>33</td>\n      <td>10.737778</td>\n      <td>66</td>\n      <td>5.12</td>\n      <td>broken clouds</td>\n    </tr>\n    <tr>\n      <th>8</th>\n      <td>2020-11-11 00:00:00</td>\n      <td>2020</td>\n      <td>11</td>\n      <td>11</td>\n      <td>0</td>\n      <td>60.42</td>\n      <td>39</td>\n      <td>10.714167</td>\n      <td>55</td>\n      <td>4.96</td>\n      <td>broken clouds</td>\n    </tr>\n    <tr>\n      <th>9</th>\n      <td>2020-11-11 01:00:00</td>\n      <td>2020</td>\n      <td>11</td>\n      <td>11</td>\n      <td>1</td>\n      <td>59.07</td>\n      <td>41</td>\n      <td>10.714167</td>\n      <td>0</td>\n      <td>4.96</td>\n      <td>clear sky</td>\n    </tr>\n    <tr>\n      <th>10</th>\n      <td>2020-11-11 02:00:00</td>\n      <td>2020</td>\n      <td>11</td>\n      <td>11</td>\n      <td>2</td>\n      <td>57.90</td>\n      <td>39</td>\n      <td>10.714167</td>\n      <td>0</td>\n      <td>4.96</td>\n      <td>clear sky</td>\n    </tr>\n    <tr>\n      <th>11</th>\n      <td>2020-11-11 03:00:00</td>\n      <td>2020</td>\n      <td>11</td>\n      <td>11</td>\n      <td>3</td>\n      <td>56.75</td>\n      <td>38</td>\n      <td>10.714167</td>\n      <td>0</td>\n      <td>4.96</td>\n      <td>clear sky</td>\n    </tr>\n    <tr>\n      <th>12</th>\n      <td>2020-11-11 04:00:00</td>\n      <td>2020</td>\n      <td>11</td>\n      <td>11</td>\n      <td>4</td>\n      <td>55.63</td>\n      <td>39</td>\n      <td>10.714167</td>\n      <td>0</td>\n      <td>4.96</td>\n      <td>clear sky</td>\n    </tr>\n    <tr>\n      <th>13</th>\n      <td>2020-11-11 05:00:00</td>\n      <td>2020</td>\n      <td>11</td>\n      <td>11</td>\n      <td>5</td>\n      <td>54.54</td>\n      <td>40</td>\n      <td>10.714167</td>\n      <td>0</td>\n      <td>4.96</td>\n      <td>clear sky</td>\n    </tr>\n    <tr>\n      <th>14</th>\n      <td>2020-11-11 06:00:00</td>\n      <td>2020</td>\n      <td>11</td>\n      <td>11</td>\n      <td>6</td>\n      <td>53.73</td>\n      <td>42</td>\n      <td>10.714167</td>\n      <td>0</td>\n      <td>4.96</td>\n      <td>clear sky</td>\n    </tr>\n    <tr>\n      <th>15</th>\n      <td>2020-11-11 07:00:00</td>\n      <td>2020</td>\n      <td>11</td>\n      <td>11</td>\n      <td>7</td>\n      <td>53.28</td>\n      <td>43</td>\n      <td>10.714167</td>\n      <td>0</td>\n      <td>4.96</td>\n      <td>clear sky</td>\n    </tr>\n    <tr>\n      <th>16</th>\n      <td>2020-11-11 08:00:00</td>\n      <td>2020</td>\n      <td>11</td>\n      <td>11</td>\n      <td>8</td>\n      <td>56.39</td>\n      <td>38</td>\n      <td>10.714167</td>\n      <td>0</td>\n      <td>4.96</td>\n      <td>clear sky</td>\n    </tr>\n    <tr>\n      <th>17</th>\n      <td>2020-11-11 09:00:00</td>\n      <td>2020</td>\n      <td>11</td>\n      <td>11</td>\n      <td>9</td>\n      <td>61.11</td>\n      <td>33</td>\n      <td>10.714167</td>\n      <td>0</td>\n      <td>4.96</td>\n      <td>clear sky</td>\n    </tr>\n    <tr>\n      <th>18</th>\n      <td>2020-11-11 10:00:00</td>\n      <td>2020</td>\n      <td>11</td>\n      <td>11</td>\n      <td>10</td>\n      <td>66.69</td>\n      <td>27</td>\n      <td>10.714167</td>\n      <td>0</td>\n      <td>4.96</td>\n      <td>clear sky</td>\n    </tr>\n    <tr>\n      <th>19</th>\n      <td>2020-11-11 11:00:00</td>\n      <td>2020</td>\n      <td>11</td>\n      <td>11</td>\n      <td>11</td>\n      <td>71.56</td>\n      <td>22</td>\n      <td>10.714167</td>\n      <td>0</td>\n      <td>4.96</td>\n      <td>clear sky</td>\n    </tr>\n    <tr>\n      <th>20</th>\n      <td>2020-11-11 12:00:00</td>\n      <td>2020</td>\n      <td>11</td>\n      <td>11</td>\n      <td>12</td>\n      <td>75.36</td>\n      <td>20</td>\n      <td>10.714167</td>\n      <td>0</td>\n      <td>4.96</td>\n      <td>clear sky</td>\n    </tr>\n    <tr>\n      <th>21</th>\n      <td>2020-11-11 13:00:00</td>\n      <td>2020</td>\n      <td>11</td>\n      <td>11</td>\n      <td>13</td>\n      <td>77.74</td>\n      <td>20</td>\n      <td>10.714167</td>\n      <td>0</td>\n      <td>4.96</td>\n      <td>clear sky</td>\n    </tr>\n    <tr>\n      <th>22</th>\n      <td>2020-11-11 14:00:00</td>\n      <td>2020</td>\n      <td>11</td>\n      <td>11</td>\n      <td>14</td>\n      <td>79.02</td>\n      <td>21</td>\n      <td>10.714167</td>\n      <td>0</td>\n      <td>4.96</td>\n      <td>clear sky</td>\n    </tr>\n    <tr>\n      <th>23</th>\n      <td>2020-11-11 15:00:00</td>\n      <td>2020</td>\n      <td>11</td>\n      <td>11</td>\n      <td>15</td>\n      <td>79.43</td>\n      <td>22</td>\n      <td>10.714167</td>\n      <td>0</td>\n      <td>4.96</td>\n      <td>clear sky</td>\n    </tr>\n    <tr>\n      <th>24</th>\n      <td>2020-11-11 16:00:00</td>\n      <td>2020</td>\n      <td>11</td>\n      <td>11</td>\n      <td>16</td>\n      <td>78.66</td>\n      <td>23</td>\n      <td>10.714167</td>\n      <td>0</td>\n      <td>4.96</td>\n      <td>clear sky</td>\n    </tr>\n    <tr>\n      <th>25</th>\n      <td>2020-11-11 17:00:00</td>\n      <td>2020</td>\n      <td>11</td>\n      <td>11</td>\n      <td>17</td>\n      <td>74.12</td>\n      <td>30</td>\n      <td>10.714167</td>\n      <td>0</td>\n      <td>4.96</td>\n      <td>clear sky</td>\n    </tr>\n    <tr>\n      <th>26</th>\n      <td>2020-11-11 18:00:00</td>\n      <td>2020</td>\n      <td>11</td>\n      <td>11</td>\n      <td>18</td>\n      <td>67.39</td>\n      <td>38</td>\n      <td>10.714167</td>\n      <td>0</td>\n      <td>4.96</td>\n      <td>clear sky</td>\n    </tr>\n    <tr>\n      <th>27</th>\n      <td>2020-11-11 19:00:00</td>\n      <td>2020</td>\n      <td>11</td>\n      <td>11</td>\n      <td>19</td>\n      <td>64.98</td>\n      <td>40</td>\n      <td>10.714167</td>\n      <td>0</td>\n      <td>4.96</td>\n      <td>clear sky</td>\n    </tr>\n    <tr>\n      <th>28</th>\n      <td>2020-11-11 20:00:00</td>\n      <td>2020</td>\n      <td>11</td>\n      <td>11</td>\n      <td>20</td>\n      <td>63.16</td>\n      <td>42</td>\n      <td>10.714167</td>\n      <td>0</td>\n      <td>4.96</td>\n      <td>clear sky</td>\n    </tr>\n    <tr>\n      <th>29</th>\n      <td>2020-11-11 21:00:00</td>\n      <td>2020</td>\n      <td>11</td>\n      <td>11</td>\n      <td>21</td>\n      <td>61.99</td>\n      <td>43</td>\n      <td>10.714167</td>\n      <td>0</td>\n      <td>4.96</td>\n      <td>clear sky</td>\n    </tr>\n    <tr>\n      <th>30</th>\n      <td>2020-11-11 22:00:00</td>\n      <td>2020</td>\n      <td>11</td>\n      <td>11</td>\n      <td>22</td>\n      <td>61.30</td>\n      <td>43</td>\n      <td>10.714167</td>\n      <td>0</td>\n      <td>4.96</td>\n      <td>clear sky</td>\n    </tr>\n    <tr>\n      <th>31</th>\n      <td>2020-11-11 23:00:00</td>\n      <td>2020</td>\n      <td>11</td>\n      <td>11</td>\n      <td>23</td>\n      <td>60.67</td>\n      <td>43</td>\n      <td>10.714167</td>\n      <td>0</td>\n      <td>4.96</td>\n      <td>clear sky</td>\n    </tr>\n    <tr>\n      <th>32</th>\n      <td>2020-11-12 00:00:00</td>\n      <td>2020</td>\n      <td>11</td>\n      <td>12</td>\n      <td>0</td>\n      <td>59.97</td>\n      <td>43</td>\n      <td>10.690833</td>\n      <td>0</td>\n      <td>5.14</td>\n      <td>clear sky</td>\n    </tr>\n    <tr>\n      <th>33</th>\n      <td>2020-11-12 01:00:00</td>\n      <td>2020</td>\n      <td>11</td>\n      <td>12</td>\n      <td>1</td>\n      <td>59.34</td>\n      <td>43</td>\n      <td>10.690833</td>\n      <td>0</td>\n      <td>5.14</td>\n      <td>clear sky</td>\n    </tr>\n    <tr>\n      <th>34</th>\n      <td>2020-11-12 02:00:00</td>\n      <td>2020</td>\n      <td>11</td>\n      <td>12</td>\n      <td>2</td>\n      <td>58.62</td>\n      <td>44</td>\n      <td>10.690833</td>\n      <td>0</td>\n      <td>5.14</td>\n      <td>clear sky</td>\n    </tr>\n    <tr>\n      <th>35</th>\n      <td>2020-11-12 03:00:00</td>\n      <td>2020</td>\n      <td>11</td>\n      <td>12</td>\n      <td>3</td>\n      <td>58.21</td>\n      <td>45</td>\n      <td>10.690833</td>\n      <td>0</td>\n      <td>5.14</td>\n      <td>clear sky</td>\n    </tr>\n    <tr>\n      <th>36</th>\n      <td>2020-11-12 04:00:00</td>\n      <td>2020</td>\n      <td>11</td>\n      <td>12</td>\n      <td>4</td>\n      <td>57.76</td>\n      <td>45</td>\n      <td>10.690833</td>\n      <td>0</td>\n      <td>5.14</td>\n      <td>clear sky</td>\n    </tr>\n    <tr>\n      <th>37</th>\n      <td>2020-11-12 05:00:00</td>\n      <td>2020</td>\n      <td>11</td>\n      <td>12</td>\n      <td>5</td>\n      <td>57.34</td>\n      <td>45</td>\n      <td>10.690833</td>\n      <td>5</td>\n      <td>5.14</td>\n      <td>clear sky</td>\n    </tr>\n    <tr>\n      <th>38</th>\n      <td>2020-11-12 06:00:00</td>\n      <td>2020</td>\n      <td>11</td>\n      <td>12</td>\n      <td>6</td>\n      <td>57.61</td>\n      <td>43</td>\n      <td>10.690833</td>\n      <td>12</td>\n      <td>5.14</td>\n      <td>few clouds</td>\n    </tr>\n    <tr>\n      <th>39</th>\n      <td>2020-11-12 07:00:00</td>\n      <td>2020</td>\n      <td>11</td>\n      <td>12</td>\n      <td>7</td>\n      <td>57.09</td>\n      <td>44</td>\n      <td>10.690833</td>\n      <td>18</td>\n      <td>5.14</td>\n      <td>few clouds</td>\n    </tr>\n    <tr>\n      <th>40</th>\n      <td>2020-11-12 08:00:00</td>\n      <td>2020</td>\n      <td>11</td>\n      <td>12</td>\n      <td>8</td>\n      <td>60.78</td>\n      <td>39</td>\n      <td>10.690833</td>\n      <td>10</td>\n      <td>5.14</td>\n      <td>clear sky</td>\n    </tr>\n    <tr>\n      <th>41</th>\n      <td>2020-11-12 09:00:00</td>\n      <td>2020</td>\n      <td>11</td>\n      <td>12</td>\n      <td>9</td>\n      <td>66.34</td>\n      <td>34</td>\n      <td>10.690833</td>\n      <td>8</td>\n      <td>5.14</td>\n      <td>clear sky</td>\n    </tr>\n    <tr>\n      <th>42</th>\n      <td>2020-11-12 10:00:00</td>\n      <td>2020</td>\n      <td>11</td>\n      <td>12</td>\n      <td>10</td>\n      <td>71.40</td>\n      <td>32</td>\n      <td>10.690833</td>\n      <td>8</td>\n      <td>5.14</td>\n      <td>clear sky</td>\n    </tr>\n    <tr>\n      <th>43</th>\n      <td>2020-11-12 11:00:00</td>\n      <td>2020</td>\n      <td>11</td>\n      <td>12</td>\n      <td>11</td>\n      <td>75.25</td>\n      <td>33</td>\n      <td>10.690833</td>\n      <td>7</td>\n      <td>5.14</td>\n      <td>clear sky</td>\n    </tr>\n    <tr>\n      <th>44</th>\n      <td>2020-11-12 12:00:00</td>\n      <td>2020</td>\n      <td>11</td>\n      <td>12</td>\n      <td>12</td>\n      <td>78.33</td>\n      <td>36</td>\n      <td>10.690833</td>\n      <td>5</td>\n      <td>5.14</td>\n      <td>clear sky</td>\n    </tr>\n    <tr>\n      <th>45</th>\n      <td>2020-11-12 13:00:00</td>\n      <td>2020</td>\n      <td>11</td>\n      <td>12</td>\n      <td>13</td>\n      <td>80.29</td>\n      <td>39</td>\n      <td>10.690833</td>\n      <td>0</td>\n      <td>5.14</td>\n      <td>clear sky</td>\n    </tr>\n    <tr>\n      <th>46</th>\n      <td>2020-11-12 14:00:00</td>\n      <td>2020</td>\n      <td>11</td>\n      <td>12</td>\n      <td>14</td>\n      <td>81.93</td>\n      <td>39</td>\n      <td>10.690833</td>\n      <td>0</td>\n      <td>5.14</td>\n      <td>clear sky</td>\n    </tr>\n    <tr>\n      <th>47</th>\n      <td>2020-11-12 15:00:00</td>\n      <td>2020</td>\n      <td>11</td>\n      <td>12</td>\n      <td>15</td>\n      <td>82.44</td>\n      <td>39</td>\n      <td>10.690833</td>\n      <td>0</td>\n      <td>5.14</td>\n      <td>clear sky</td>\n    </tr>\n  </tbody>\n</table>\n</div>"
     },
     "metadata": {},
     "execution_count": 41
    }
   ],
   "source": [
    "forecasted_weather_DF = pd.merge(hourly_weather_DF, daily_weather_DF, on='Day', how='inner')\n",
    "forecasted_weather_DF = forecasted_weather_DF[[\"Date_Time\", \"Year\", \"Month\", \"Day\", \"Hour\", \"Temperature_F\", \"Humidity_percent\", \"Sunhour\", \"CloudCover_percent\", \"uvIndex\", \"Weather_Description\"]]\n",
    "\n",
    "forecasted_weather_DF"
   ]
  },
  {
   "cell_type": "code",
   "execution_count": 42,
   "metadata": {},
   "outputs": [
    {
     "output_type": "execute_result",
     "data": {
      "text/plain": [
       "Date_Time              datetime64[ns]\n",
       "Year                            int64\n",
       "Month                           int64\n",
       "Day                             int64\n",
       "Hour                            int64\n",
       "Temperature_F                 float64\n",
       "Humidity_percent                int64\n",
       "Sunhour                       float64\n",
       "CloudCover_percent              int64\n",
       "uvIndex                       float64\n",
       "Weather_Description            object\n",
       "dtype: object"
      ]
     },
     "metadata": {},
     "execution_count": 42
    }
   ],
   "source": [
    "forecasted_weather_DF.dtypes"
   ]
  },
  {
   "cell_type": "markdown",
   "metadata": {},
   "source": [
    "# Hackberry Wind Farm\n",
    "# -------------------"
   ]
  },
  {
   "cell_type": "code",
   "execution_count": 43,
   "metadata": {
    "tags": []
   },
   "outputs": [],
   "source": [
    "# Geographical coordinates (latitude, longitude)\n",
    "lat = \"32.776111\"\n",
    "lon = \"-99.476444\"\n",
    "\n",
    "# Exclude some parts of the weather data from the API response\n",
    "    # It should be a comma-delimited list (without spaces)\n",
    "    # Options: current,minutely,hourly,daily,alerts\n",
    "part = \"minutely,alerts\"\n",
    "\n",
    "# Define the Units of measurement\n",
    "    # Options: stadnard,metric,imperial\n",
    "units = \"imperial\"\n",
    "\n",
    "# Make a request to openweathermap\n",
    "requestURL = f\"https://api.openweathermap.org/data/2.5/onecall?lat={lat}&lon={lon}&exclude={part}&units={units}&appid={weather_api_key}\"\n",
    "\n",
    "# print(requestURL)"
   ]
  },
  {
   "cell_type": "code",
   "execution_count": 44,
   "metadata": {
    "tags": []
   },
   "outputs": [
    {
     "output_type": "stream",
     "name": "stdout",
     "text": [
      "Successfully turned response into JSON object.\n"
     ]
    }
   ],
   "source": [
    "response = requests.get(requestURL)\n",
    "\n",
    "if response.status_code == 200:\n",
    "    # Turn the response into a JSON object\n",
    "    responseJson = response.json()\n",
    "    print(\"Successfully turned response into JSON object.\")\n",
    "else:\n",
    "    # Else, print the Error status code\n",
    "    print(\"The Error Status Code is:\") \n",
    "    print(response.status_code)"
   ]
  },
  {
   "cell_type": "markdown",
   "metadata": {},
   "source": [
    "# Current Weather"
   ]
  },
  {
   "cell_type": "code",
   "execution_count": 45,
   "metadata": {
    "tags": []
   },
   "outputs": [
    {
     "output_type": "execute_result",
     "data": {
      "text/plain": [
       "     UTC_Time            Date_Time  Year  Month  Day  Hour\n",
       "0  1605047776  2020-11-10 16:36:16  2020     11   10    16"
      ],
      "text/html": "<div>\n<style scoped>\n    .dataframe tbody tr th:only-of-type {\n        vertical-align: middle;\n    }\n\n    .dataframe tbody tr th {\n        vertical-align: top;\n    }\n\n    .dataframe thead th {\n        text-align: right;\n    }\n</style>\n<table border=\"1\" class=\"dataframe\">\n  <thead>\n    <tr style=\"text-align: right;\">\n      <th></th>\n      <th>UTC_Time</th>\n      <th>Date_Time</th>\n      <th>Year</th>\n      <th>Month</th>\n      <th>Day</th>\n      <th>Hour</th>\n    </tr>\n  </thead>\n  <tbody>\n    <tr>\n      <th>0</th>\n      <td>1605047776</td>\n      <td>2020-11-10 16:36:16</td>\n      <td>2020</td>\n      <td>11</td>\n      <td>10</td>\n      <td>16</td>\n    </tr>\n  </tbody>\n</table>\n</div>"
     },
     "metadata": {},
     "execution_count": 45
    }
   ],
   "source": [
    "current_date_time_UCT = [responseJson[\"current\"][\"dt\"]]\n",
    "current_weather_index = np.arange(0,len(current_date_time_UCT),1)\n",
    "\n",
    "current_date_time_DF = convert_DateTime_UTC_to_CST(current_date_time_UCT, current_weather_index)\n",
    "\n",
    "current_date_time_DF.head()"
   ]
  },
  {
   "cell_type": "code",
   "execution_count": 46,
   "metadata": {},
   "outputs": [
    {
     "output_type": "execute_result",
     "data": {
      "text/plain": [
       "     UTC_Time  Temperature_F Weather_Description  Humidity_percent  \\\n",
       "0  1605047776          69.73           clear sky                17   \n",
       "\n",
       "   WindSpeed_mph  WindDirection_degrees  \n",
       "0           8.05                    290  "
      ],
      "text/html": "<div>\n<style scoped>\n    .dataframe tbody tr th:only-of-type {\n        vertical-align: middle;\n    }\n\n    .dataframe tbody tr th {\n        vertical-align: top;\n    }\n\n    .dataframe thead th {\n        text-align: right;\n    }\n</style>\n<table border=\"1\" class=\"dataframe\">\n  <thead>\n    <tr style=\"text-align: right;\">\n      <th></th>\n      <th>UTC_Time</th>\n      <th>Temperature_F</th>\n      <th>Weather_Description</th>\n      <th>Humidity_percent</th>\n      <th>WindSpeed_mph</th>\n      <th>WindDirection_degrees</th>\n    </tr>\n  </thead>\n  <tbody>\n    <tr>\n      <th>0</th>\n      <td>1605047776</td>\n      <td>69.73</td>\n      <td>clear sky</td>\n      <td>17</td>\n      <td>8.05</td>\n      <td>290</td>\n    </tr>\n  </tbody>\n</table>\n</div>"
     },
     "metadata": {},
     "execution_count": 46
    }
   ],
   "source": [
    "current_weather_DF = pd.DataFrame([{\n",
    "    \"UTC_Time\": responseJson[\"current\"][\"dt\"],\n",
    "    \"Temperature_F\": responseJson[\"current\"][\"temp\"], \n",
    "    \"Weather_Description\": responseJson[\"current\"][\"weather\"][0][\"description\"],\n",
    "    \"Humidity_percent\": responseJson[\"current\"][\"humidity\"],\n",
    "    \"WindSpeed_mph\": responseJson[\"current\"][\"wind_speed\"],\n",
    "    \"WindDirection_degrees\": responseJson[\"current\"][\"wind_deg\"]\n",
    "}])\n",
    "\n",
    "current_weather_DF"
   ]
  },
  {
   "cell_type": "code",
   "execution_count": 47,
   "metadata": {},
   "outputs": [
    {
     "output_type": "execute_result",
     "data": {
      "text/plain": [
       "            Date_Time  Year  Month  Day  Hour  Temperature_F  \\\n",
       "0 2020-11-10 16:36:16  2020     11   10    16          69.73   \n",
       "\n",
       "   Humidity_percent  WindSpeed_mph  WindDirection_degrees Weather_Description  \n",
       "0                17           8.05                    290           clear sky  "
      ],
      "text/html": "<div>\n<style scoped>\n    .dataframe tbody tr th:only-of-type {\n        vertical-align: middle;\n    }\n\n    .dataframe tbody tr th {\n        vertical-align: top;\n    }\n\n    .dataframe thead th {\n        text-align: right;\n    }\n</style>\n<table border=\"1\" class=\"dataframe\">\n  <thead>\n    <tr style=\"text-align: right;\">\n      <th></th>\n      <th>Date_Time</th>\n      <th>Year</th>\n      <th>Month</th>\n      <th>Day</th>\n      <th>Hour</th>\n      <th>Temperature_F</th>\n      <th>Humidity_percent</th>\n      <th>WindSpeed_mph</th>\n      <th>WindDirection_degrees</th>\n      <th>Weather_Description</th>\n    </tr>\n  </thead>\n  <tbody>\n    <tr>\n      <th>0</th>\n      <td>2020-11-10 16:36:16</td>\n      <td>2020</td>\n      <td>11</td>\n      <td>10</td>\n      <td>16</td>\n      <td>69.73</td>\n      <td>17</td>\n      <td>8.05</td>\n      <td>290</td>\n      <td>clear sky</td>\n    </tr>\n  </tbody>\n</table>\n</div>"
     },
     "metadata": {},
     "execution_count": 47
    }
   ],
   "source": [
    "current_weather_DF = pd.merge(current_weather_DF, current_date_time_DF, on='UTC_Time', how='inner')\n",
    "current_weather_DF.drop(columns=[\"UTC_Time\"], axis=1, inplace=True)\n",
    "current_weather_DF[\"Date_Time\"] = pd.to_datetime(current_weather_DF[\"Date_Time\"])\n",
    "current_weather_DF = current_weather_DF[[\"Date_Time\", \"Year\", \"Month\", \"Day\", \"Hour\", \"Temperature_F\", \"Humidity_percent\", \"WindSpeed_mph\", \"WindDirection_degrees\", \"Weather_Description\"]]\n",
    "current_weather_DF"
   ]
  },
  {
   "cell_type": "markdown",
   "metadata": {},
   "source": [
    "# Forecasted Weather"
   ]
  },
  {
   "cell_type": "code",
   "execution_count": 48,
   "metadata": {},
   "outputs": [
    {
     "output_type": "execute_result",
     "data": {
      "text/plain": [
       "     UTC_Time  Temperature_F Weather_Description  Humidity_percent  \\\n",
       "0  1605045600          69.73           clear sky                17   \n",
       "1  1605049200          67.05           clear sky                22   \n",
       "2  1605052800          60.21           clear sky                29   \n",
       "3  1605056400          57.52           clear sky                32   \n",
       "4  1605060000          55.06           clear sky                34   \n",
       "\n",
       "   WindSpeed_mph  WindDirection_degrees  \n",
       "0           7.45                    276  \n",
       "1           4.32                    265  \n",
       "2           5.39                    260  \n",
       "3           6.42                    255  \n",
       "4           4.72                    247  "
      ],
      "text/html": "<div>\n<style scoped>\n    .dataframe tbody tr th:only-of-type {\n        vertical-align: middle;\n    }\n\n    .dataframe tbody tr th {\n        vertical-align: top;\n    }\n\n    .dataframe thead th {\n        text-align: right;\n    }\n</style>\n<table border=\"1\" class=\"dataframe\">\n  <thead>\n    <tr style=\"text-align: right;\">\n      <th></th>\n      <th>UTC_Time</th>\n      <th>Temperature_F</th>\n      <th>Weather_Description</th>\n      <th>Humidity_percent</th>\n      <th>WindSpeed_mph</th>\n      <th>WindDirection_degrees</th>\n    </tr>\n  </thead>\n  <tbody>\n    <tr>\n      <th>0</th>\n      <td>1605045600</td>\n      <td>69.73</td>\n      <td>clear sky</td>\n      <td>17</td>\n      <td>7.45</td>\n      <td>276</td>\n    </tr>\n    <tr>\n      <th>1</th>\n      <td>1605049200</td>\n      <td>67.05</td>\n      <td>clear sky</td>\n      <td>22</td>\n      <td>4.32</td>\n      <td>265</td>\n    </tr>\n    <tr>\n      <th>2</th>\n      <td>1605052800</td>\n      <td>60.21</td>\n      <td>clear sky</td>\n      <td>29</td>\n      <td>5.39</td>\n      <td>260</td>\n    </tr>\n    <tr>\n      <th>3</th>\n      <td>1605056400</td>\n      <td>57.52</td>\n      <td>clear sky</td>\n      <td>32</td>\n      <td>6.42</td>\n      <td>255</td>\n    </tr>\n    <tr>\n      <th>4</th>\n      <td>1605060000</td>\n      <td>55.06</td>\n      <td>clear sky</td>\n      <td>34</td>\n      <td>4.72</td>\n      <td>247</td>\n    </tr>\n  </tbody>\n</table>\n</div>"
     },
     "metadata": {},
     "execution_count": 48
    }
   ],
   "source": [
    "forecasted_hourly_weather = []\n",
    "\n",
    "for hour in np.arange(0, 48, 1):\n",
    "    forecasted_hourly_weather.append({\n",
    "        \"UTC_Time\": responseJson[\"hourly\"][hour][\"dt\"],\n",
    "        \"Temperature_F\": responseJson[\"hourly\"][hour][\"temp\"],\n",
    "        \"Weather_Description\": responseJson[\"hourly\"][hour][\"weather\"][0][\"description\"],\n",
    "        \"Humidity_percent\": responseJson[\"hourly\"][hour][\"humidity\"],\n",
    "        \"WindSpeed_mph\": responseJson[\"hourly\"][hour][\"wind_speed\"],\n",
    "        \"WindDirection_degrees\": responseJson[\"hourly\"][hour][\"wind_deg\"]\n",
    "    })\n",
    "\n",
    "hourly_weather_DF = pd.DataFrame(forecasted_hourly_weather)\n",
    "hourly_weather_DF.head()"
   ]
  },
  {
   "cell_type": "code",
   "execution_count": 49,
   "metadata": {},
   "outputs": [
    {
     "output_type": "execute_result",
     "data": {
      "text/plain": [
       "     UTC_Time            Date_Time  Year  Month  Day  Hour\n",
       "0  1605045600  2020-11-10 16:00:00  2020     11   10    16\n",
       "1  1605049200  2020-11-10 17:00:00  2020     11   10    17\n",
       "2  1605052800  2020-11-10 18:00:00  2020     11   10    18\n",
       "3  1605056400  2020-11-10 19:00:00  2020     11   10    19\n",
       "4  1605060000  2020-11-10 20:00:00  2020     11   10    20"
      ],
      "text/html": "<div>\n<style scoped>\n    .dataframe tbody tr th:only-of-type {\n        vertical-align: middle;\n    }\n\n    .dataframe tbody tr th {\n        vertical-align: top;\n    }\n\n    .dataframe thead th {\n        text-align: right;\n    }\n</style>\n<table border=\"1\" class=\"dataframe\">\n  <thead>\n    <tr style=\"text-align: right;\">\n      <th></th>\n      <th>UTC_Time</th>\n      <th>Date_Time</th>\n      <th>Year</th>\n      <th>Month</th>\n      <th>Day</th>\n      <th>Hour</th>\n    </tr>\n  </thead>\n  <tbody>\n    <tr>\n      <th>0</th>\n      <td>1605045600</td>\n      <td>2020-11-10 16:00:00</td>\n      <td>2020</td>\n      <td>11</td>\n      <td>10</td>\n      <td>16</td>\n    </tr>\n    <tr>\n      <th>1</th>\n      <td>1605049200</td>\n      <td>2020-11-10 17:00:00</td>\n      <td>2020</td>\n      <td>11</td>\n      <td>10</td>\n      <td>17</td>\n    </tr>\n    <tr>\n      <th>2</th>\n      <td>1605052800</td>\n      <td>2020-11-10 18:00:00</td>\n      <td>2020</td>\n      <td>11</td>\n      <td>10</td>\n      <td>18</td>\n    </tr>\n    <tr>\n      <th>3</th>\n      <td>1605056400</td>\n      <td>2020-11-10 19:00:00</td>\n      <td>2020</td>\n      <td>11</td>\n      <td>10</td>\n      <td>19</td>\n    </tr>\n    <tr>\n      <th>4</th>\n      <td>1605060000</td>\n      <td>2020-11-10 20:00:00</td>\n      <td>2020</td>\n      <td>11</td>\n      <td>10</td>\n      <td>20</td>\n    </tr>\n  </tbody>\n</table>\n</div>"
     },
     "metadata": {},
     "execution_count": 49
    }
   ],
   "source": [
    "hourly_index = np.arange(0,48,1)\n",
    "\n",
    "hourly_UTC_date_time = hourly_weather_DF[\"UTC_Time\"]\n",
    "\n",
    "hourly_date_time_DF = convert_DateTime_UTC_to_CST(hourly_UTC_date_time, hourly_index)\n",
    "\n",
    "hourly_date_time_DF.head()"
   ]
  },
  {
   "cell_type": "code",
   "execution_count": 50,
   "metadata": {},
   "outputs": [
    {
     "output_type": "execute_result",
     "data": {
      "text/plain": [
       "             Date_Time  Year  Month  Day  Hour  Temperature_F  \\\n",
       "0  2020-11-10 16:00:00  2020     11   10    16          69.73   \n",
       "1  2020-11-10 17:00:00  2020     11   10    17          67.05   \n",
       "2  2020-11-10 18:00:00  2020     11   10    18          60.21   \n",
       "3  2020-11-10 19:00:00  2020     11   10    19          57.52   \n",
       "4  2020-11-10 20:00:00  2020     11   10    20          55.06   \n",
       "5  2020-11-10 21:00:00  2020     11   10    21          53.20   \n",
       "6  2020-11-10 22:00:00  2020     11   10    22          52.81   \n",
       "7  2020-11-10 23:00:00  2020     11   10    23          52.50   \n",
       "8  2020-11-11 00:00:00  2020     11   11     0          50.97   \n",
       "9  2020-11-11 01:00:00  2020     11   11     1          50.07   \n",
       "10 2020-11-11 02:00:00  2020     11   11     2          49.51   \n",
       "11 2020-11-11 03:00:00  2020     11   11     3          49.48   \n",
       "12 2020-11-11 04:00:00  2020     11   11     4          48.96   \n",
       "13 2020-11-11 05:00:00  2020     11   11     5          48.13   \n",
       "14 2020-11-11 06:00:00  2020     11   11     6          48.34   \n",
       "15 2020-11-11 07:00:00  2020     11   11     7          48.09   \n",
       "16 2020-11-11 08:00:00  2020     11   11     8          51.06   \n",
       "17 2020-11-11 09:00:00  2020     11   11     9          56.59   \n",
       "18 2020-11-11 10:00:00  2020     11   11    10          61.81   \n",
       "19 2020-11-11 11:00:00  2020     11   11    11          65.75   \n",
       "20 2020-11-11 12:00:00  2020     11   11    12          68.67   \n",
       "21 2020-11-11 13:00:00  2020     11   11    13          71.35   \n",
       "22 2020-11-11 14:00:00  2020     11   11    14          72.93   \n",
       "23 2020-11-11 15:00:00  2020     11   11    15          73.22   \n",
       "24 2020-11-11 16:00:00  2020     11   11    16          72.27   \n",
       "25 2020-11-11 17:00:00  2020     11   11    17          67.51   \n",
       "26 2020-11-11 18:00:00  2020     11   11    18          58.32   \n",
       "27 2020-11-11 19:00:00  2020     11   11    19          56.73   \n",
       "28 2020-11-11 20:00:00  2020     11   11    20          56.70   \n",
       "29 2020-11-11 21:00:00  2020     11   11    21          58.44   \n",
       "30 2020-11-11 22:00:00  2020     11   11    22          57.56   \n",
       "31 2020-11-11 23:00:00  2020     11   11    23          56.10   \n",
       "32 2020-11-12 00:00:00  2020     11   12     0          56.59   \n",
       "33 2020-11-12 01:00:00  2020     11   12     1          57.22   \n",
       "34 2020-11-12 02:00:00  2020     11   12     2          56.57   \n",
       "35 2020-11-12 03:00:00  2020     11   12     3          55.98   \n",
       "36 2020-11-12 04:00:00  2020     11   12     4          55.49   \n",
       "37 2020-11-12 05:00:00  2020     11   12     5          54.84   \n",
       "38 2020-11-12 06:00:00  2020     11   12     6          54.48   \n",
       "39 2020-11-12 07:00:00  2020     11   12     7          54.54   \n",
       "40 2020-11-12 08:00:00  2020     11   12     8          56.48   \n",
       "41 2020-11-12 09:00:00  2020     11   12     9          62.33   \n",
       "42 2020-11-12 10:00:00  2020     11   12    10          66.76   \n",
       "43 2020-11-12 11:00:00  2020     11   12    11          70.70   \n",
       "44 2020-11-12 12:00:00  2020     11   12    12          73.33   \n",
       "45 2020-11-12 13:00:00  2020     11   12    13          75.25   \n",
       "46 2020-11-12 14:00:00  2020     11   12    14          77.04   \n",
       "47 2020-11-12 15:00:00  2020     11   12    15          77.43   \n",
       "\n",
       "    Humidity_percent  WindSpeed_mph  WindDirection_degrees Weather_Description  \n",
       "0                 17           7.45                    276           clear sky  \n",
       "1                 22           4.32                    265           clear sky  \n",
       "2                 29           5.39                    260           clear sky  \n",
       "3                 32           6.42                    255           clear sky  \n",
       "4                 34           4.72                    247           clear sky  \n",
       "5                 36           3.36                    226           clear sky  \n",
       "6                 37           3.49                    184           clear sky  \n",
       "7                 37           4.07                    147           clear sky  \n",
       "8                 40           4.88                    127           clear sky  \n",
       "9                 42           6.29                    132           clear sky  \n",
       "10                44           6.67                    142           clear sky  \n",
       "11                44           6.46                    159           clear sky  \n",
       "12                44           5.93                    168           clear sky  \n",
       "13                46           5.55                    167           clear sky  \n",
       "14                46           6.49                    174           clear sky  \n",
       "15                47           6.55                    178           clear sky  \n",
       "16                44           6.82                    179           clear sky  \n",
       "17                36           7.83                    188           clear sky  \n",
       "18                30           8.34                    208           clear sky  \n",
       "19                26           9.42                    224           clear sky  \n",
       "20                24           9.95                    236           clear sky  \n",
       "21                23          10.54                    240           clear sky  \n",
       "22                22          11.01                    248           clear sky  \n",
       "23                22          10.04                    253           clear sky  \n",
       "24                23           8.63                    253           clear sky  \n",
       "25                33           3.94                    268           clear sky  \n",
       "26                38           1.74                    295           clear sky  \n",
       "27                39           1.12                     10           clear sky  \n",
       "28                38           2.59                     79           clear sky  \n",
       "29                36           5.61                    121           clear sky  \n",
       "30                40           6.96                    159           clear sky  \n",
       "31                44           8.14                    172           clear sky  \n",
       "32                45          10.80                    173           clear sky  \n",
       "33                46          13.09                    175           clear sky  \n",
       "34                52          13.09                    184           clear sky  \n",
       "35                62          11.30                    189           clear sky  \n",
       "36                72          10.56                    195           clear sky  \n",
       "37                82           9.60                    204           clear sky  \n",
       "38                89           9.24                    210           clear sky  \n",
       "39                92           9.19                    214           clear sky  \n",
       "40                90           9.37                    215           clear sky  \n",
       "41                78          13.65                    225           clear sky  \n",
       "42                70          14.67                    233           clear sky  \n",
       "43                62          14.94                    235           clear sky  \n",
       "44                54          14.43                    237           clear sky  \n",
       "45                45          14.16                    242           clear sky  \n",
       "46                37          12.55                    251           clear sky  \n",
       "47                31          11.27                    265           clear sky  "
      ],
      "text/html": "<div>\n<style scoped>\n    .dataframe tbody tr th:only-of-type {\n        vertical-align: middle;\n    }\n\n    .dataframe tbody tr th {\n        vertical-align: top;\n    }\n\n    .dataframe thead th {\n        text-align: right;\n    }\n</style>\n<table border=\"1\" class=\"dataframe\">\n  <thead>\n    <tr style=\"text-align: right;\">\n      <th></th>\n      <th>Date_Time</th>\n      <th>Year</th>\n      <th>Month</th>\n      <th>Day</th>\n      <th>Hour</th>\n      <th>Temperature_F</th>\n      <th>Humidity_percent</th>\n      <th>WindSpeed_mph</th>\n      <th>WindDirection_degrees</th>\n      <th>Weather_Description</th>\n    </tr>\n  </thead>\n  <tbody>\n    <tr>\n      <th>0</th>\n      <td>2020-11-10 16:00:00</td>\n      <td>2020</td>\n      <td>11</td>\n      <td>10</td>\n      <td>16</td>\n      <td>69.73</td>\n      <td>17</td>\n      <td>7.45</td>\n      <td>276</td>\n      <td>clear sky</td>\n    </tr>\n    <tr>\n      <th>1</th>\n      <td>2020-11-10 17:00:00</td>\n      <td>2020</td>\n      <td>11</td>\n      <td>10</td>\n      <td>17</td>\n      <td>67.05</td>\n      <td>22</td>\n      <td>4.32</td>\n      <td>265</td>\n      <td>clear sky</td>\n    </tr>\n    <tr>\n      <th>2</th>\n      <td>2020-11-10 18:00:00</td>\n      <td>2020</td>\n      <td>11</td>\n      <td>10</td>\n      <td>18</td>\n      <td>60.21</td>\n      <td>29</td>\n      <td>5.39</td>\n      <td>260</td>\n      <td>clear sky</td>\n    </tr>\n    <tr>\n      <th>3</th>\n      <td>2020-11-10 19:00:00</td>\n      <td>2020</td>\n      <td>11</td>\n      <td>10</td>\n      <td>19</td>\n      <td>57.52</td>\n      <td>32</td>\n      <td>6.42</td>\n      <td>255</td>\n      <td>clear sky</td>\n    </tr>\n    <tr>\n      <th>4</th>\n      <td>2020-11-10 20:00:00</td>\n      <td>2020</td>\n      <td>11</td>\n      <td>10</td>\n      <td>20</td>\n      <td>55.06</td>\n      <td>34</td>\n      <td>4.72</td>\n      <td>247</td>\n      <td>clear sky</td>\n    </tr>\n    <tr>\n      <th>5</th>\n      <td>2020-11-10 21:00:00</td>\n      <td>2020</td>\n      <td>11</td>\n      <td>10</td>\n      <td>21</td>\n      <td>53.20</td>\n      <td>36</td>\n      <td>3.36</td>\n      <td>226</td>\n      <td>clear sky</td>\n    </tr>\n    <tr>\n      <th>6</th>\n      <td>2020-11-10 22:00:00</td>\n      <td>2020</td>\n      <td>11</td>\n      <td>10</td>\n      <td>22</td>\n      <td>52.81</td>\n      <td>37</td>\n      <td>3.49</td>\n      <td>184</td>\n      <td>clear sky</td>\n    </tr>\n    <tr>\n      <th>7</th>\n      <td>2020-11-10 23:00:00</td>\n      <td>2020</td>\n      <td>11</td>\n      <td>10</td>\n      <td>23</td>\n      <td>52.50</td>\n      <td>37</td>\n      <td>4.07</td>\n      <td>147</td>\n      <td>clear sky</td>\n    </tr>\n    <tr>\n      <th>8</th>\n      <td>2020-11-11 00:00:00</td>\n      <td>2020</td>\n      <td>11</td>\n      <td>11</td>\n      <td>0</td>\n      <td>50.97</td>\n      <td>40</td>\n      <td>4.88</td>\n      <td>127</td>\n      <td>clear sky</td>\n    </tr>\n    <tr>\n      <th>9</th>\n      <td>2020-11-11 01:00:00</td>\n      <td>2020</td>\n      <td>11</td>\n      <td>11</td>\n      <td>1</td>\n      <td>50.07</td>\n      <td>42</td>\n      <td>6.29</td>\n      <td>132</td>\n      <td>clear sky</td>\n    </tr>\n    <tr>\n      <th>10</th>\n      <td>2020-11-11 02:00:00</td>\n      <td>2020</td>\n      <td>11</td>\n      <td>11</td>\n      <td>2</td>\n      <td>49.51</td>\n      <td>44</td>\n      <td>6.67</td>\n      <td>142</td>\n      <td>clear sky</td>\n    </tr>\n    <tr>\n      <th>11</th>\n      <td>2020-11-11 03:00:00</td>\n      <td>2020</td>\n      <td>11</td>\n      <td>11</td>\n      <td>3</td>\n      <td>49.48</td>\n      <td>44</td>\n      <td>6.46</td>\n      <td>159</td>\n      <td>clear sky</td>\n    </tr>\n    <tr>\n      <th>12</th>\n      <td>2020-11-11 04:00:00</td>\n      <td>2020</td>\n      <td>11</td>\n      <td>11</td>\n      <td>4</td>\n      <td>48.96</td>\n      <td>44</td>\n      <td>5.93</td>\n      <td>168</td>\n      <td>clear sky</td>\n    </tr>\n    <tr>\n      <th>13</th>\n      <td>2020-11-11 05:00:00</td>\n      <td>2020</td>\n      <td>11</td>\n      <td>11</td>\n      <td>5</td>\n      <td>48.13</td>\n      <td>46</td>\n      <td>5.55</td>\n      <td>167</td>\n      <td>clear sky</td>\n    </tr>\n    <tr>\n      <th>14</th>\n      <td>2020-11-11 06:00:00</td>\n      <td>2020</td>\n      <td>11</td>\n      <td>11</td>\n      <td>6</td>\n      <td>48.34</td>\n      <td>46</td>\n      <td>6.49</td>\n      <td>174</td>\n      <td>clear sky</td>\n    </tr>\n    <tr>\n      <th>15</th>\n      <td>2020-11-11 07:00:00</td>\n      <td>2020</td>\n      <td>11</td>\n      <td>11</td>\n      <td>7</td>\n      <td>48.09</td>\n      <td>47</td>\n      <td>6.55</td>\n      <td>178</td>\n      <td>clear sky</td>\n    </tr>\n    <tr>\n      <th>16</th>\n      <td>2020-11-11 08:00:00</td>\n      <td>2020</td>\n      <td>11</td>\n      <td>11</td>\n      <td>8</td>\n      <td>51.06</td>\n      <td>44</td>\n      <td>6.82</td>\n      <td>179</td>\n      <td>clear sky</td>\n    </tr>\n    <tr>\n      <th>17</th>\n      <td>2020-11-11 09:00:00</td>\n      <td>2020</td>\n      <td>11</td>\n      <td>11</td>\n      <td>9</td>\n      <td>56.59</td>\n      <td>36</td>\n      <td>7.83</td>\n      <td>188</td>\n      <td>clear sky</td>\n    </tr>\n    <tr>\n      <th>18</th>\n      <td>2020-11-11 10:00:00</td>\n      <td>2020</td>\n      <td>11</td>\n      <td>11</td>\n      <td>10</td>\n      <td>61.81</td>\n      <td>30</td>\n      <td>8.34</td>\n      <td>208</td>\n      <td>clear sky</td>\n    </tr>\n    <tr>\n      <th>19</th>\n      <td>2020-11-11 11:00:00</td>\n      <td>2020</td>\n      <td>11</td>\n      <td>11</td>\n      <td>11</td>\n      <td>65.75</td>\n      <td>26</td>\n      <td>9.42</td>\n      <td>224</td>\n      <td>clear sky</td>\n    </tr>\n    <tr>\n      <th>20</th>\n      <td>2020-11-11 12:00:00</td>\n      <td>2020</td>\n      <td>11</td>\n      <td>11</td>\n      <td>12</td>\n      <td>68.67</td>\n      <td>24</td>\n      <td>9.95</td>\n      <td>236</td>\n      <td>clear sky</td>\n    </tr>\n    <tr>\n      <th>21</th>\n      <td>2020-11-11 13:00:00</td>\n      <td>2020</td>\n      <td>11</td>\n      <td>11</td>\n      <td>13</td>\n      <td>71.35</td>\n      <td>23</td>\n      <td>10.54</td>\n      <td>240</td>\n      <td>clear sky</td>\n    </tr>\n    <tr>\n      <th>22</th>\n      <td>2020-11-11 14:00:00</td>\n      <td>2020</td>\n      <td>11</td>\n      <td>11</td>\n      <td>14</td>\n      <td>72.93</td>\n      <td>22</td>\n      <td>11.01</td>\n      <td>248</td>\n      <td>clear sky</td>\n    </tr>\n    <tr>\n      <th>23</th>\n      <td>2020-11-11 15:00:00</td>\n      <td>2020</td>\n      <td>11</td>\n      <td>11</td>\n      <td>15</td>\n      <td>73.22</td>\n      <td>22</td>\n      <td>10.04</td>\n      <td>253</td>\n      <td>clear sky</td>\n    </tr>\n    <tr>\n      <th>24</th>\n      <td>2020-11-11 16:00:00</td>\n      <td>2020</td>\n      <td>11</td>\n      <td>11</td>\n      <td>16</td>\n      <td>72.27</td>\n      <td>23</td>\n      <td>8.63</td>\n      <td>253</td>\n      <td>clear sky</td>\n    </tr>\n    <tr>\n      <th>25</th>\n      <td>2020-11-11 17:00:00</td>\n      <td>2020</td>\n      <td>11</td>\n      <td>11</td>\n      <td>17</td>\n      <td>67.51</td>\n      <td>33</td>\n      <td>3.94</td>\n      <td>268</td>\n      <td>clear sky</td>\n    </tr>\n    <tr>\n      <th>26</th>\n      <td>2020-11-11 18:00:00</td>\n      <td>2020</td>\n      <td>11</td>\n      <td>11</td>\n      <td>18</td>\n      <td>58.32</td>\n      <td>38</td>\n      <td>1.74</td>\n      <td>295</td>\n      <td>clear sky</td>\n    </tr>\n    <tr>\n      <th>27</th>\n      <td>2020-11-11 19:00:00</td>\n      <td>2020</td>\n      <td>11</td>\n      <td>11</td>\n      <td>19</td>\n      <td>56.73</td>\n      <td>39</td>\n      <td>1.12</td>\n      <td>10</td>\n      <td>clear sky</td>\n    </tr>\n    <tr>\n      <th>28</th>\n      <td>2020-11-11 20:00:00</td>\n      <td>2020</td>\n      <td>11</td>\n      <td>11</td>\n      <td>20</td>\n      <td>56.70</td>\n      <td>38</td>\n      <td>2.59</td>\n      <td>79</td>\n      <td>clear sky</td>\n    </tr>\n    <tr>\n      <th>29</th>\n      <td>2020-11-11 21:00:00</td>\n      <td>2020</td>\n      <td>11</td>\n      <td>11</td>\n      <td>21</td>\n      <td>58.44</td>\n      <td>36</td>\n      <td>5.61</td>\n      <td>121</td>\n      <td>clear sky</td>\n    </tr>\n    <tr>\n      <th>30</th>\n      <td>2020-11-11 22:00:00</td>\n      <td>2020</td>\n      <td>11</td>\n      <td>11</td>\n      <td>22</td>\n      <td>57.56</td>\n      <td>40</td>\n      <td>6.96</td>\n      <td>159</td>\n      <td>clear sky</td>\n    </tr>\n    <tr>\n      <th>31</th>\n      <td>2020-11-11 23:00:00</td>\n      <td>2020</td>\n      <td>11</td>\n      <td>11</td>\n      <td>23</td>\n      <td>56.10</td>\n      <td>44</td>\n      <td>8.14</td>\n      <td>172</td>\n      <td>clear sky</td>\n    </tr>\n    <tr>\n      <th>32</th>\n      <td>2020-11-12 00:00:00</td>\n      <td>2020</td>\n      <td>11</td>\n      <td>12</td>\n      <td>0</td>\n      <td>56.59</td>\n      <td>45</td>\n      <td>10.80</td>\n      <td>173</td>\n      <td>clear sky</td>\n    </tr>\n    <tr>\n      <th>33</th>\n      <td>2020-11-12 01:00:00</td>\n      <td>2020</td>\n      <td>11</td>\n      <td>12</td>\n      <td>1</td>\n      <td>57.22</td>\n      <td>46</td>\n      <td>13.09</td>\n      <td>175</td>\n      <td>clear sky</td>\n    </tr>\n    <tr>\n      <th>34</th>\n      <td>2020-11-12 02:00:00</td>\n      <td>2020</td>\n      <td>11</td>\n      <td>12</td>\n      <td>2</td>\n      <td>56.57</td>\n      <td>52</td>\n      <td>13.09</td>\n      <td>184</td>\n      <td>clear sky</td>\n    </tr>\n    <tr>\n      <th>35</th>\n      <td>2020-11-12 03:00:00</td>\n      <td>2020</td>\n      <td>11</td>\n      <td>12</td>\n      <td>3</td>\n      <td>55.98</td>\n      <td>62</td>\n      <td>11.30</td>\n      <td>189</td>\n      <td>clear sky</td>\n    </tr>\n    <tr>\n      <th>36</th>\n      <td>2020-11-12 04:00:00</td>\n      <td>2020</td>\n      <td>11</td>\n      <td>12</td>\n      <td>4</td>\n      <td>55.49</td>\n      <td>72</td>\n      <td>10.56</td>\n      <td>195</td>\n      <td>clear sky</td>\n    </tr>\n    <tr>\n      <th>37</th>\n      <td>2020-11-12 05:00:00</td>\n      <td>2020</td>\n      <td>11</td>\n      <td>12</td>\n      <td>5</td>\n      <td>54.84</td>\n      <td>82</td>\n      <td>9.60</td>\n      <td>204</td>\n      <td>clear sky</td>\n    </tr>\n    <tr>\n      <th>38</th>\n      <td>2020-11-12 06:00:00</td>\n      <td>2020</td>\n      <td>11</td>\n      <td>12</td>\n      <td>6</td>\n      <td>54.48</td>\n      <td>89</td>\n      <td>9.24</td>\n      <td>210</td>\n      <td>clear sky</td>\n    </tr>\n    <tr>\n      <th>39</th>\n      <td>2020-11-12 07:00:00</td>\n      <td>2020</td>\n      <td>11</td>\n      <td>12</td>\n      <td>7</td>\n      <td>54.54</td>\n      <td>92</td>\n      <td>9.19</td>\n      <td>214</td>\n      <td>clear sky</td>\n    </tr>\n    <tr>\n      <th>40</th>\n      <td>2020-11-12 08:00:00</td>\n      <td>2020</td>\n      <td>11</td>\n      <td>12</td>\n      <td>8</td>\n      <td>56.48</td>\n      <td>90</td>\n      <td>9.37</td>\n      <td>215</td>\n      <td>clear sky</td>\n    </tr>\n    <tr>\n      <th>41</th>\n      <td>2020-11-12 09:00:00</td>\n      <td>2020</td>\n      <td>11</td>\n      <td>12</td>\n      <td>9</td>\n      <td>62.33</td>\n      <td>78</td>\n      <td>13.65</td>\n      <td>225</td>\n      <td>clear sky</td>\n    </tr>\n    <tr>\n      <th>42</th>\n      <td>2020-11-12 10:00:00</td>\n      <td>2020</td>\n      <td>11</td>\n      <td>12</td>\n      <td>10</td>\n      <td>66.76</td>\n      <td>70</td>\n      <td>14.67</td>\n      <td>233</td>\n      <td>clear sky</td>\n    </tr>\n    <tr>\n      <th>43</th>\n      <td>2020-11-12 11:00:00</td>\n      <td>2020</td>\n      <td>11</td>\n      <td>12</td>\n      <td>11</td>\n      <td>70.70</td>\n      <td>62</td>\n      <td>14.94</td>\n      <td>235</td>\n      <td>clear sky</td>\n    </tr>\n    <tr>\n      <th>44</th>\n      <td>2020-11-12 12:00:00</td>\n      <td>2020</td>\n      <td>11</td>\n      <td>12</td>\n      <td>12</td>\n      <td>73.33</td>\n      <td>54</td>\n      <td>14.43</td>\n      <td>237</td>\n      <td>clear sky</td>\n    </tr>\n    <tr>\n      <th>45</th>\n      <td>2020-11-12 13:00:00</td>\n      <td>2020</td>\n      <td>11</td>\n      <td>12</td>\n      <td>13</td>\n      <td>75.25</td>\n      <td>45</td>\n      <td>14.16</td>\n      <td>242</td>\n      <td>clear sky</td>\n    </tr>\n    <tr>\n      <th>46</th>\n      <td>2020-11-12 14:00:00</td>\n      <td>2020</td>\n      <td>11</td>\n      <td>12</td>\n      <td>14</td>\n      <td>77.04</td>\n      <td>37</td>\n      <td>12.55</td>\n      <td>251</td>\n      <td>clear sky</td>\n    </tr>\n    <tr>\n      <th>47</th>\n      <td>2020-11-12 15:00:00</td>\n      <td>2020</td>\n      <td>11</td>\n      <td>12</td>\n      <td>15</td>\n      <td>77.43</td>\n      <td>31</td>\n      <td>11.27</td>\n      <td>265</td>\n      <td>clear sky</td>\n    </tr>\n  </tbody>\n</table>\n</div>"
     },
     "metadata": {},
     "execution_count": 50
    }
   ],
   "source": [
    "hourly_weather_DF = pd.merge(hourly_weather_DF, hourly_date_time_DF, on='UTC_Time', how='outer')\n",
    "hourly_weather_DF.drop(columns=[\"UTC_Time\"], axis=1, inplace=True)\n",
    "hourly_weather_DF[\"Date_Time\"] = pd.to_datetime(hourly_weather_DF[\"Date_Time\"])\n",
    "hourly_weather_DF = hourly_weather_DF[[\"Date_Time\", \"Year\", \"Month\", \"Day\", \"Hour\", \"Temperature_F\", \"Humidity_percent\", \"WindSpeed_mph\", \"WindDirection_degrees\", \"Weather_Description\"]]\n",
    "hourly_weather_DF"
   ]
  },
  {
   "cell_type": "code",
   "execution_count": 51,
   "metadata": {},
   "outputs": [
    {
     "output_type": "execute_result",
     "data": {
      "text/plain": [
       "Date_Time                datetime64[ns]\n",
       "Year                              int64\n",
       "Month                             int64\n",
       "Day                               int64\n",
       "Hour                              int64\n",
       "Temperature_F                   float64\n",
       "Humidity_percent                  int64\n",
       "WindSpeed_mph                   float64\n",
       "WindDirection_degrees             int64\n",
       "Weather_Description              object\n",
       "dtype: object"
      ]
     },
     "metadata": {},
     "execution_count": 51
    }
   ],
   "source": [
    "# Check the data types\n",
    "hourly_weather_DF.dtypes"
   ]
  },
  {
   "cell_type": "markdown",
   "metadata": {},
   "source": [
    "# Weather Descriptions\n",
    "# --------------------"
   ]
  },
  {
   "cell_type": "code",
   "execution_count": 52,
   "metadata": {},
   "outputs": [],
   "source": [
    "weather_description_list = [\n",
    "    # Clear\n",
    "    'Clear',\n",
    "    'Sunny',\n",
    "    # Clouds\n",
    "    'Partly cloudy', \n",
    "    'Cloudy', \n",
    "    'Overcast',\n",
    "    # Drizzle\n",
    "    'Freezing drizzle',\n",
    "    'Light drizzle', \n",
    "    'Patchy light drizzle',\n",
    "    # Snow\n",
    "    'Patchy moderate snow', \n",
    "    'Moderate snow', \n",
    "    'Light sleet',\n",
    "    'Light snow',  \n",
    "    'Heavy snow', \n",
    "    'Patchy heavy snow', \n",
    "    'Blowing snow',  \n",
    "    'Blizzard',\n",
    "    'Ice pellets', \n",
    "    'Patchy light snow', \n",
    "    # Rain\n",
    "    'Patchy rain possible',\n",
    "    'Light rain shower', \n",
    "    'Moderate or heavy rain shower',\n",
    "    'Moderate rain', \n",
    "    'Heavy rain', \n",
    "    'Light rain', \n",
    "    'Patchy light rain', \n",
    "    'Torrential rain shower',\n",
    "    'Moderate rain at times', \n",
    "    'Heavy rain at times', \n",
    "    'Moderate or heavy freezing rain',\n",
    "    # Thunderstorm\n",
    "    'Thundery outbreaks possible',\n",
    "    'Moderate or heavy rain with thunder',\n",
    "    'Patchy light rain with thunder', \n",
    "    # Atmosphere\n",
    "    'Mist',\n",
    "    'Fog']"
   ]
  },
  {
   "cell_type": "code",
   "execution_count": 53,
   "metadata": {},
   "outputs": [],
   "source": [
    "weather_condition_codes = [\n",
    "    # Thunderstorm\n",
    "    'thunderstorm with light rain',\n",
    "    'thunderstorm with rain',\n",
    "    'thunderstorm with heavy rain',\n",
    "    'light thunderstorm',\n",
    "    'thunderstorm',\n",
    "    'heavy thunderstorm',\n",
    "    'ragged thunderstorm',\n",
    "    'thunderstorm with light drizzle',\n",
    "    'thunderstorm with drizzle',\n",
    "    'thunderstorm with heavy drizzle',\n",
    "    # Drizzle\n",
    "    'light intensity drizzle',\n",
    "    'drizzle',\n",
    "    'heavy intensity drizzle',\n",
    "    'light intensity drizzle rain',\n",
    "    'drizzle rain',\n",
    "    'heavy intensity drizzle rain',\n",
    "    'shower rain and drizzle',\n",
    "    'heavy shower rain and drizzle',\n",
    "    'shower drizzle',\n",
    "    # Rain\n",
    "    'light rain',\n",
    "    'moderate rain',\n",
    "    'heavy intensity rain',\n",
    "    'very heavy rain',\n",
    "    'extreme rain',\n",
    "    'freezing rain',\n",
    "    'light intensity shower rain',\n",
    "    'shower rain',\n",
    "    'heavy intensity shower rain',\n",
    "    'ragged shower rain',\n",
    "    # Snow\n",
    "    'light snow',\n",
    "    'Snow',\n",
    "    'Heavy snow',\n",
    "    'Sleet',\n",
    "    'Light shower sleet',\n",
    "    'Shower sleet',\n",
    "    'Light rain and snow',\n",
    "    'Rain and snow',\n",
    "    'Light shower snow',\n",
    "    'Shower snow',\n",
    "    'Heavy shower snow',\n",
    "    # Atmosphere\n",
    "    'mist',\n",
    "    'Smoke',\n",
    "    'Haze',\n",
    "    'sand/ dust whirls',\n",
    "    'fog',\n",
    "    'sand',\n",
    "    'dust',\n",
    "    'volcanic ash',\n",
    "    'squalls',\n",
    "    'tornado',\n",
    "    # Clear\n",
    "    'clear sky',\n",
    "    # Clouds\n",
    "    'few clouds',\n",
    "    'scattered clouds',\n",
    "    'broken clouds',\n",
    "    'overcast clouds'   \n",
    "]"
   ]
  },
  {
   "cell_type": "code",
   "execution_count": 54,
   "metadata": {},
   "outputs": [],
   "source": [
    "weather_icons = [\n",
    "    \"clear sky\",\n",
    "    \"few clouds\",\n",
    "    \"scattered clouds\",\n",
    "    \"broken clouds\",\n",
    "    \"shower rain\",\n",
    "    \"rain\",\n",
    "    \"thunderstorm\",\n",
    "    \"snow\",\n",
    "    \"mist\"\n",
    "]"
   ]
  },
  {
   "source": [
    "# Loading in our model and scaler"
   ],
   "cell_type": "markdown",
   "metadata": {}
  },
  {
   "cell_type": "code",
   "execution_count": 79,
   "metadata": {},
   "outputs": [
    {
     "output_type": "stream",
     "name": "stdout",
     "text": [
      "{'copy': True, 'with_mean': True, 'with_std': True}\n",
      "Model: \"sequential_1\"\n",
      "_________________________________________________________________\n",
      "Layer (type)                 Output Shape              Param #   \n",
      "=================================================================\n",
      "dense_4 (Dense)              (None, 42)                336       \n",
      "_________________________________________________________________\n",
      "dense_5 (Dense)              (None, 35)                1505      \n",
      "_________________________________________________________________\n",
      "dense_6 (Dense)              (None, 21)                756       \n",
      "_________________________________________________________________\n",
      "dense_7 (Dense)              (None, 1)                 22        \n",
      "=================================================================\n",
      "Total params: 2,619\n",
      "Trainable params: 2,619\n",
      "Non-trainable params: 0\n",
      "_________________________________________________________________\n"
     ]
    }
   ],
   "source": [
    "from pickle import load\n",
    "from sklearn.preprocessing import StandardScaler\n",
    "import tensorflow as tf\n",
    "# load in the scaler\n",
    "scaler = load(open('../Solar/solar_ml_model/scaler.pkl', 'rb'))\n",
    "print(scaler.get_params())\n",
    "\n",
    "# # how to load the model\n",
    "load_nn = tf.keras.models.load_model('../Solar/solar_ml_model/solar_model')\n",
    "load_nn.summary()"
   ]
  },
  {
   "cell_type": "code",
   "execution_count": 57,
   "metadata": {},
   "outputs": [
    {
     "output_type": "execute_result",
     "data": {
      "text/plain": [
       "            Date_Time  Year  Month  Day  Hour  Temperature_F  \\\n",
       "0 2020-11-10 16:00:00  2020     11   10    16          77.25   \n",
       "1 2020-11-10 17:00:00  2020     11   10    17          74.50   \n",
       "2 2020-11-10 18:00:00  2020     11   10    18          72.18   \n",
       "3 2020-11-10 19:00:00  2020     11   10    19          67.75   \n",
       "4 2020-11-10 20:00:00  2020     11   10    20          68.02   \n",
       "\n",
       "   Humidity_percent    Sunhour  CloudCover_percent  uvIndex  \\\n",
       "0                29  10.737778                  90     5.12   \n",
       "1                26  10.737778                  87     5.12   \n",
       "2                26  10.737778                  87     5.12   \n",
       "3                31  10.737778                  41     5.12   \n",
       "4                29  10.737778                  57     5.12   \n",
       "\n",
       "  Weather_Description  \n",
       "0     overcast clouds  \n",
       "1     overcast clouds  \n",
       "2     overcast clouds  \n",
       "3    scattered clouds  \n",
       "4       broken clouds  "
      ],
      "text/html": "<div>\n<style scoped>\n    .dataframe tbody tr th:only-of-type {\n        vertical-align: middle;\n    }\n\n    .dataframe tbody tr th {\n        vertical-align: top;\n    }\n\n    .dataframe thead th {\n        text-align: right;\n    }\n</style>\n<table border=\"1\" class=\"dataframe\">\n  <thead>\n    <tr style=\"text-align: right;\">\n      <th></th>\n      <th>Date_Time</th>\n      <th>Year</th>\n      <th>Month</th>\n      <th>Day</th>\n      <th>Hour</th>\n      <th>Temperature_F</th>\n      <th>Humidity_percent</th>\n      <th>Sunhour</th>\n      <th>CloudCover_percent</th>\n      <th>uvIndex</th>\n      <th>Weather_Description</th>\n    </tr>\n  </thead>\n  <tbody>\n    <tr>\n      <th>0</th>\n      <td>2020-11-10 16:00:00</td>\n      <td>2020</td>\n      <td>11</td>\n      <td>10</td>\n      <td>16</td>\n      <td>77.25</td>\n      <td>29</td>\n      <td>10.737778</td>\n      <td>90</td>\n      <td>5.12</td>\n      <td>overcast clouds</td>\n    </tr>\n    <tr>\n      <th>1</th>\n      <td>2020-11-10 17:00:00</td>\n      <td>2020</td>\n      <td>11</td>\n      <td>10</td>\n      <td>17</td>\n      <td>74.50</td>\n      <td>26</td>\n      <td>10.737778</td>\n      <td>87</td>\n      <td>5.12</td>\n      <td>overcast clouds</td>\n    </tr>\n    <tr>\n      <th>2</th>\n      <td>2020-11-10 18:00:00</td>\n      <td>2020</td>\n      <td>11</td>\n      <td>10</td>\n      <td>18</td>\n      <td>72.18</td>\n      <td>26</td>\n      <td>10.737778</td>\n      <td>87</td>\n      <td>5.12</td>\n      <td>overcast clouds</td>\n    </tr>\n    <tr>\n      <th>3</th>\n      <td>2020-11-10 19:00:00</td>\n      <td>2020</td>\n      <td>11</td>\n      <td>10</td>\n      <td>19</td>\n      <td>67.75</td>\n      <td>31</td>\n      <td>10.737778</td>\n      <td>41</td>\n      <td>5.12</td>\n      <td>scattered clouds</td>\n    </tr>\n    <tr>\n      <th>4</th>\n      <td>2020-11-10 20:00:00</td>\n      <td>2020</td>\n      <td>11</td>\n      <td>10</td>\n      <td>20</td>\n      <td>68.02</td>\n      <td>29</td>\n      <td>10.737778</td>\n      <td>57</td>\n      <td>5.12</td>\n      <td>broken clouds</td>\n    </tr>\n  </tbody>\n</table>\n</div>"
     },
     "metadata": {},
     "execution_count": 57
    }
   ],
   "source": [
    "forecasted_weather_DF.head()"
   ]
  },
  {
   "cell_type": "code",
   "execution_count": 80,
   "metadata": {},
   "outputs": [],
   "source": [
    "X = forecasted_weather_DF.drop(['Date_Time', 'Weather_Description','Day','Year'], axis=1)\n",
    "# Fitting the Standard Scaler with the training data.\n",
    "#X_scaler = scaler.fit(X)\n",
    "\n",
    "# Scaling the data.\n",
    "X_scaled = scaler.transform(X)"
   ]
  },
  {
   "cell_type": "code",
   "execution_count": 83,
   "metadata": {},
   "outputs": [
    {
     "output_type": "execute_result",
     "data": {
      "text/plain": [
       "         pred  Hour  Day           Date_Time\n",
       "0   24.452642    16   10 2020-11-10 16:00:00\n",
       "1   18.337294    17   10 2020-11-10 17:00:00\n",
       "2    4.958389    18   10 2020-11-10 18:00:00\n",
       "3    0.000000    19   10 2020-11-10 19:00:00\n",
       "4    0.000000    20   10 2020-11-10 20:00:00\n",
       "5    0.000000    21   10 2020-11-10 21:00:00\n",
       "6    0.000000    22   10 2020-11-10 22:00:00\n",
       "7    0.000000    23   10 2020-11-10 23:00:00\n",
       "8    0.000000     0   11 2020-11-11 00:00:00\n",
       "9    0.000000     1   11 2020-11-11 01:00:00\n",
       "10   0.000000     2   11 2020-11-11 02:00:00\n",
       "11   0.000000     3   11 2020-11-11 03:00:00\n",
       "12   0.000000     4   11 2020-11-11 04:00:00\n",
       "13   0.000000     5   11 2020-11-11 05:00:00\n",
       "14   0.000000     6   11 2020-11-11 06:00:00\n",
       "15   0.000000     7   11 2020-11-11 07:00:00\n",
       "16   4.791092     8   11 2020-11-11 08:00:00\n",
       "17  17.963020     9   11 2020-11-11 09:00:00\n",
       "18  25.275284    10   11 2020-11-11 10:00:00\n",
       "19  28.559566    11   11 2020-11-11 11:00:00\n",
       "20  28.004135    12   11 2020-11-11 12:00:00\n",
       "21  26.354126    13   11 2020-11-11 13:00:00\n",
       "22  24.684502    14   11 2020-11-11 14:00:00\n",
       "23  23.694641    15   11 2020-11-11 15:00:00\n",
       "24  23.867649    16   11 2020-11-11 16:00:00\n",
       "25  20.332767    17   11 2020-11-11 17:00:00\n",
       "26   4.629478    18   11 2020-11-11 18:00:00\n",
       "27   0.000000    19   11 2020-11-11 19:00:00\n",
       "28   0.000000    20   11 2020-11-11 20:00:00\n",
       "29   0.000000    21   11 2020-11-11 21:00:00\n",
       "30   0.000000    22   11 2020-11-11 22:00:00\n",
       "31   0.000000    23   11 2020-11-11 23:00:00\n",
       "32   0.000000     0   12 2020-11-12 00:00:00\n",
       "33   0.000000     1   12 2020-11-12 01:00:00\n",
       "34   0.000000     2   12 2020-11-12 02:00:00\n",
       "35   0.000000     3   12 2020-11-12 03:00:00\n",
       "36   0.000000     4   12 2020-11-12 04:00:00\n",
       "37   0.000000     5   12 2020-11-12 05:00:00\n",
       "38   0.000000     6   12 2020-11-12 06:00:00\n",
       "39   0.000000     7   12 2020-11-12 07:00:00\n",
       "40   3.195891     8   12 2020-11-12 08:00:00\n",
       "41  16.516848     9   12 2020-11-12 09:00:00\n",
       "42  23.945944    10   12 2020-11-12 10:00:00\n",
       "43  24.553057    11   12 2020-11-12 11:00:00\n",
       "44  23.304039    12   12 2020-11-12 12:00:00\n",
       "45  23.612637    13   12 2020-11-12 13:00:00\n",
       "46  22.148073    14   12 2020-11-12 14:00:00\n",
       "47  22.945322    15   12 2020-11-12 15:00:00"
      ],
      "text/html": "<div>\n<style scoped>\n    .dataframe tbody tr th:only-of-type {\n        vertical-align: middle;\n    }\n\n    .dataframe tbody tr th {\n        vertical-align: top;\n    }\n\n    .dataframe thead th {\n        text-align: right;\n    }\n</style>\n<table border=\"1\" class=\"dataframe\">\n  <thead>\n    <tr style=\"text-align: right;\">\n      <th></th>\n      <th>pred</th>\n      <th>Hour</th>\n      <th>Day</th>\n      <th>Date_Time</th>\n    </tr>\n  </thead>\n  <tbody>\n    <tr>\n      <th>0</th>\n      <td>24.452642</td>\n      <td>16</td>\n      <td>10</td>\n      <td>2020-11-10 16:00:00</td>\n    </tr>\n    <tr>\n      <th>1</th>\n      <td>18.337294</td>\n      <td>17</td>\n      <td>10</td>\n      <td>2020-11-10 17:00:00</td>\n    </tr>\n    <tr>\n      <th>2</th>\n      <td>4.958389</td>\n      <td>18</td>\n      <td>10</td>\n      <td>2020-11-10 18:00:00</td>\n    </tr>\n    <tr>\n      <th>3</th>\n      <td>0.000000</td>\n      <td>19</td>\n      <td>10</td>\n      <td>2020-11-10 19:00:00</td>\n    </tr>\n    <tr>\n      <th>4</th>\n      <td>0.000000</td>\n      <td>20</td>\n      <td>10</td>\n      <td>2020-11-10 20:00:00</td>\n    </tr>\n    <tr>\n      <th>5</th>\n      <td>0.000000</td>\n      <td>21</td>\n      <td>10</td>\n      <td>2020-11-10 21:00:00</td>\n    </tr>\n    <tr>\n      <th>6</th>\n      <td>0.000000</td>\n      <td>22</td>\n      <td>10</td>\n      <td>2020-11-10 22:00:00</td>\n    </tr>\n    <tr>\n      <th>7</th>\n      <td>0.000000</td>\n      <td>23</td>\n      <td>10</td>\n      <td>2020-11-10 23:00:00</td>\n    </tr>\n    <tr>\n      <th>8</th>\n      <td>0.000000</td>\n      <td>0</td>\n      <td>11</td>\n      <td>2020-11-11 00:00:00</td>\n    </tr>\n    <tr>\n      <th>9</th>\n      <td>0.000000</td>\n      <td>1</td>\n      <td>11</td>\n      <td>2020-11-11 01:00:00</td>\n    </tr>\n    <tr>\n      <th>10</th>\n      <td>0.000000</td>\n      <td>2</td>\n      <td>11</td>\n      <td>2020-11-11 02:00:00</td>\n    </tr>\n    <tr>\n      <th>11</th>\n      <td>0.000000</td>\n      <td>3</td>\n      <td>11</td>\n      <td>2020-11-11 03:00:00</td>\n    </tr>\n    <tr>\n      <th>12</th>\n      <td>0.000000</td>\n      <td>4</td>\n      <td>11</td>\n      <td>2020-11-11 04:00:00</td>\n    </tr>\n    <tr>\n      <th>13</th>\n      <td>0.000000</td>\n      <td>5</td>\n      <td>11</td>\n      <td>2020-11-11 05:00:00</td>\n    </tr>\n    <tr>\n      <th>14</th>\n      <td>0.000000</td>\n      <td>6</td>\n      <td>11</td>\n      <td>2020-11-11 06:00:00</td>\n    </tr>\n    <tr>\n      <th>15</th>\n      <td>0.000000</td>\n      <td>7</td>\n      <td>11</td>\n      <td>2020-11-11 07:00:00</td>\n    </tr>\n    <tr>\n      <th>16</th>\n      <td>4.791092</td>\n      <td>8</td>\n      <td>11</td>\n      <td>2020-11-11 08:00:00</td>\n    </tr>\n    <tr>\n      <th>17</th>\n      <td>17.963020</td>\n      <td>9</td>\n      <td>11</td>\n      <td>2020-11-11 09:00:00</td>\n    </tr>\n    <tr>\n      <th>18</th>\n      <td>25.275284</td>\n      <td>10</td>\n      <td>11</td>\n      <td>2020-11-11 10:00:00</td>\n    </tr>\n    <tr>\n      <th>19</th>\n      <td>28.559566</td>\n      <td>11</td>\n      <td>11</td>\n      <td>2020-11-11 11:00:00</td>\n    </tr>\n    <tr>\n      <th>20</th>\n      <td>28.004135</td>\n      <td>12</td>\n      <td>11</td>\n      <td>2020-11-11 12:00:00</td>\n    </tr>\n    <tr>\n      <th>21</th>\n      <td>26.354126</td>\n      <td>13</td>\n      <td>11</td>\n      <td>2020-11-11 13:00:00</td>\n    </tr>\n    <tr>\n      <th>22</th>\n      <td>24.684502</td>\n      <td>14</td>\n      <td>11</td>\n      <td>2020-11-11 14:00:00</td>\n    </tr>\n    <tr>\n      <th>23</th>\n      <td>23.694641</td>\n      <td>15</td>\n      <td>11</td>\n      <td>2020-11-11 15:00:00</td>\n    </tr>\n    <tr>\n      <th>24</th>\n      <td>23.867649</td>\n      <td>16</td>\n      <td>11</td>\n      <td>2020-11-11 16:00:00</td>\n    </tr>\n    <tr>\n      <th>25</th>\n      <td>20.332767</td>\n      <td>17</td>\n      <td>11</td>\n      <td>2020-11-11 17:00:00</td>\n    </tr>\n    <tr>\n      <th>26</th>\n      <td>4.629478</td>\n      <td>18</td>\n      <td>11</td>\n      <td>2020-11-11 18:00:00</td>\n    </tr>\n    <tr>\n      <th>27</th>\n      <td>0.000000</td>\n      <td>19</td>\n      <td>11</td>\n      <td>2020-11-11 19:00:00</td>\n    </tr>\n    <tr>\n      <th>28</th>\n      <td>0.000000</td>\n      <td>20</td>\n      <td>11</td>\n      <td>2020-11-11 20:00:00</td>\n    </tr>\n    <tr>\n      <th>29</th>\n      <td>0.000000</td>\n      <td>21</td>\n      <td>11</td>\n      <td>2020-11-11 21:00:00</td>\n    </tr>\n    <tr>\n      <th>30</th>\n      <td>0.000000</td>\n      <td>22</td>\n      <td>11</td>\n      <td>2020-11-11 22:00:00</td>\n    </tr>\n    <tr>\n      <th>31</th>\n      <td>0.000000</td>\n      <td>23</td>\n      <td>11</td>\n      <td>2020-11-11 23:00:00</td>\n    </tr>\n    <tr>\n      <th>32</th>\n      <td>0.000000</td>\n      <td>0</td>\n      <td>12</td>\n      <td>2020-11-12 00:00:00</td>\n    </tr>\n    <tr>\n      <th>33</th>\n      <td>0.000000</td>\n      <td>1</td>\n      <td>12</td>\n      <td>2020-11-12 01:00:00</td>\n    </tr>\n    <tr>\n      <th>34</th>\n      <td>0.000000</td>\n      <td>2</td>\n      <td>12</td>\n      <td>2020-11-12 02:00:00</td>\n    </tr>\n    <tr>\n      <th>35</th>\n      <td>0.000000</td>\n      <td>3</td>\n      <td>12</td>\n      <td>2020-11-12 03:00:00</td>\n    </tr>\n    <tr>\n      <th>36</th>\n      <td>0.000000</td>\n      <td>4</td>\n      <td>12</td>\n      <td>2020-11-12 04:00:00</td>\n    </tr>\n    <tr>\n      <th>37</th>\n      <td>0.000000</td>\n      <td>5</td>\n      <td>12</td>\n      <td>2020-11-12 05:00:00</td>\n    </tr>\n    <tr>\n      <th>38</th>\n      <td>0.000000</td>\n      <td>6</td>\n      <td>12</td>\n      <td>2020-11-12 06:00:00</td>\n    </tr>\n    <tr>\n      <th>39</th>\n      <td>0.000000</td>\n      <td>7</td>\n      <td>12</td>\n      <td>2020-11-12 07:00:00</td>\n    </tr>\n    <tr>\n      <th>40</th>\n      <td>3.195891</td>\n      <td>8</td>\n      <td>12</td>\n      <td>2020-11-12 08:00:00</td>\n    </tr>\n    <tr>\n      <th>41</th>\n      <td>16.516848</td>\n      <td>9</td>\n      <td>12</td>\n      <td>2020-11-12 09:00:00</td>\n    </tr>\n    <tr>\n      <th>42</th>\n      <td>23.945944</td>\n      <td>10</td>\n      <td>12</td>\n      <td>2020-11-12 10:00:00</td>\n    </tr>\n    <tr>\n      <th>43</th>\n      <td>24.553057</td>\n      <td>11</td>\n      <td>12</td>\n      <td>2020-11-12 11:00:00</td>\n    </tr>\n    <tr>\n      <th>44</th>\n      <td>23.304039</td>\n      <td>12</td>\n      <td>12</td>\n      <td>2020-11-12 12:00:00</td>\n    </tr>\n    <tr>\n      <th>45</th>\n      <td>23.612637</td>\n      <td>13</td>\n      <td>12</td>\n      <td>2020-11-12 13:00:00</td>\n    </tr>\n    <tr>\n      <th>46</th>\n      <td>22.148073</td>\n      <td>14</td>\n      <td>12</td>\n      <td>2020-11-12 14:00:00</td>\n    </tr>\n    <tr>\n      <th>47</th>\n      <td>22.945322</td>\n      <td>15</td>\n      <td>12</td>\n      <td>2020-11-12 15:00:00</td>\n    </tr>\n  </tbody>\n</table>\n</div>"
     },
     "metadata": {},
     "execution_count": 83
    }
   ],
   "source": [
    "# Predict values for test set\n",
    "y_pred = load_nn.predict(X_scaled)\n",
    "y_pred = y_pred.ravel()\n",
    "# Create dataframe for results\n",
    "nn_results = pd.DataFrame()\n",
    "nn_results['pred'] = y_pred\n",
    "nn_results['Hour'] = forecasted_weather_DF['Hour']\n",
    "nn_results['Day'] = forecasted_weather_DF['Day']\n",
    "nn_results['Date_Time'] = forecasted_weather_DF['Date_Time']\n",
    "nn_results"
   ]
  },
  {
   "cell_type": "code",
   "execution_count": 85,
   "metadata": {},
   "outputs": [
    {
     "output_type": "stream",
     "name": "stderr",
     "text": [
      "No handles with labels found to put in legend.\n"
     ]
    },
    {
     "output_type": "display_data",
     "data": {
      "text/plain": "<Figure size 432x288 with 1 Axes>",
      "image/svg+xml": "<?xml version=\"1.0\" encoding=\"utf-8\" standalone=\"no\"?>\r\n<!DOCTYPE svg PUBLIC \"-//W3C//DTD SVG 1.1//EN\"\r\n  \"http://www.w3.org/Graphics/SVG/1.1/DTD/svg11.dtd\">\r\n<!-- Created with matplotlib (https://matplotlib.org/) -->\r\n<svg height=\"283.800937pt\" version=\"1.1\" viewBox=\"0 0 368.925 283.800937\" width=\"368.925pt\" xmlns=\"http://www.w3.org/2000/svg\" xmlns:xlink=\"http://www.w3.org/1999/xlink\">\r\n <defs>\r\n  <style type=\"text/css\">\r\n*{stroke-linecap:butt;stroke-linejoin:round;}\r\n  </style>\r\n </defs>\r\n <g id=\"figure_1\">\r\n  <g id=\"patch_1\">\r\n   <path d=\"M -0 283.800937 \r\nL 368.925 283.800937 \r\nL 368.925 0 \r\nL -0 0 \r\nz\r\n\" style=\"fill:none;\"/>\r\n  </g>\r\n  <g id=\"axes_1\">\r\n   <g id=\"patch_2\">\r\n    <path d=\"M 26.925 224.64 \r\nL 361.725 224.64 \r\nL 361.725 7.2 \r\nL 26.925 7.2 \r\nz\r\n\" style=\"fill:#ffffff;\"/>\r\n   </g>\r\n   <g id=\"matplotlib.axis_1\">\r\n    <g id=\"xtick_1\">\r\n     <g id=\"line2d_1\">\r\n      <defs>\r\n       <path d=\"M 0 0 \r\nL 0 3.5 \r\n\" id=\"m8310c81fa0\" style=\"stroke:#000000;stroke-width:0.8;\"/>\r\n      </defs>\r\n      <g>\r\n       <use style=\"stroke:#000000;stroke-width:0.8;\" x=\"55.094826\" xlink:href=\"#m8310c81fa0\" y=\"224.64\"/>\r\n      </g>\r\n     </g>\r\n     <g id=\"text_1\">\r\n      <!-- 11-10 18 -->\r\n      <defs>\r\n       <path d=\"M 12.40625 8.296875 \r\nL 28.515625 8.296875 \r\nL 28.515625 63.921875 \r\nL 10.984375 60.40625 \r\nL 10.984375 69.390625 \r\nL 28.421875 72.90625 \r\nL 38.28125 72.90625 \r\nL 38.28125 8.296875 \r\nL 54.390625 8.296875 \r\nL 54.390625 0 \r\nL 12.40625 0 \r\nz\r\n\" id=\"DejaVuSans-49\"/>\r\n       <path d=\"M 4.890625 31.390625 \r\nL 31.203125 31.390625 \r\nL 31.203125 23.390625 \r\nL 4.890625 23.390625 \r\nz\r\n\" id=\"DejaVuSans-45\"/>\r\n       <path d=\"M 31.78125 66.40625 \r\nQ 24.171875 66.40625 20.328125 58.90625 \r\nQ 16.5 51.421875 16.5 36.375 \r\nQ 16.5 21.390625 20.328125 13.890625 \r\nQ 24.171875 6.390625 31.78125 6.390625 \r\nQ 39.453125 6.390625 43.28125 13.890625 \r\nQ 47.125 21.390625 47.125 36.375 \r\nQ 47.125 51.421875 43.28125 58.90625 \r\nQ 39.453125 66.40625 31.78125 66.40625 \r\nz\r\nM 31.78125 74.21875 \r\nQ 44.046875 74.21875 50.515625 64.515625 \r\nQ 56.984375 54.828125 56.984375 36.375 \r\nQ 56.984375 17.96875 50.515625 8.265625 \r\nQ 44.046875 -1.421875 31.78125 -1.421875 \r\nQ 19.53125 -1.421875 13.0625 8.265625 \r\nQ 6.59375 17.96875 6.59375 36.375 \r\nQ 6.59375 54.828125 13.0625 64.515625 \r\nQ 19.53125 74.21875 31.78125 74.21875 \r\nz\r\n\" id=\"DejaVuSans-48\"/>\r\n       <path id=\"DejaVuSans-32\"/>\r\n       <path d=\"M 31.78125 34.625 \r\nQ 24.75 34.625 20.71875 30.859375 \r\nQ 16.703125 27.09375 16.703125 20.515625 \r\nQ 16.703125 13.921875 20.71875 10.15625 \r\nQ 24.75 6.390625 31.78125 6.390625 \r\nQ 38.8125 6.390625 42.859375 10.171875 \r\nQ 46.921875 13.96875 46.921875 20.515625 \r\nQ 46.921875 27.09375 42.890625 30.859375 \r\nQ 38.875 34.625 31.78125 34.625 \r\nz\r\nM 21.921875 38.8125 \r\nQ 15.578125 40.375 12.03125 44.71875 \r\nQ 8.5 49.078125 8.5 55.328125 \r\nQ 8.5 64.0625 14.71875 69.140625 \r\nQ 20.953125 74.21875 31.78125 74.21875 \r\nQ 42.671875 74.21875 48.875 69.140625 \r\nQ 55.078125 64.0625 55.078125 55.328125 \r\nQ 55.078125 49.078125 51.53125 44.71875 \r\nQ 48 40.375 41.703125 38.8125 \r\nQ 48.828125 37.15625 52.796875 32.3125 \r\nQ 56.78125 27.484375 56.78125 20.515625 \r\nQ 56.78125 9.90625 50.3125 4.234375 \r\nQ 43.84375 -1.421875 31.78125 -1.421875 \r\nQ 19.734375 -1.421875 13.25 4.234375 \r\nQ 6.78125 9.90625 6.78125 20.515625 \r\nQ 6.78125 27.484375 10.78125 32.3125 \r\nQ 14.796875 37.15625 21.921875 38.8125 \r\nz\r\nM 18.3125 54.390625 \r\nQ 18.3125 48.734375 21.84375 45.5625 \r\nQ 25.390625 42.390625 31.78125 42.390625 \r\nQ 38.140625 42.390625 41.71875 45.5625 \r\nQ 45.3125 48.734375 45.3125 54.390625 \r\nQ 45.3125 60.0625 41.71875 63.234375 \r\nQ 38.140625 66.40625 31.78125 66.40625 \r\nQ 25.390625 66.40625 21.84375 63.234375 \r\nQ 18.3125 60.0625 18.3125 54.390625 \r\nz\r\n\" id=\"DejaVuSans-56\"/>\r\n      </defs>\r\n      <g transform=\"translate(57.854201 276.600937)rotate(-90)scale(0.1 -0.1)\">\r\n       <use xlink:href=\"#DejaVuSans-49\"/>\r\n       <use x=\"63.623047\" xlink:href=\"#DejaVuSans-49\"/>\r\n       <use x=\"127.246094\" xlink:href=\"#DejaVuSans-45\"/>\r\n       <use x=\"163.330078\" xlink:href=\"#DejaVuSans-49\"/>\r\n       <use x=\"226.953125\" xlink:href=\"#DejaVuSans-48\"/>\r\n       <use x=\"290.576172\" xlink:href=\"#DejaVuSans-32\"/>\r\n       <use x=\"322.363281\" xlink:href=\"#DejaVuSans-49\"/>\r\n       <use x=\"385.986328\" xlink:href=\"#DejaVuSans-56\"/>\r\n      </g>\r\n     </g>\r\n    </g>\r\n    <g id=\"xtick_2\">\r\n     <g id=\"line2d_2\">\r\n      <g>\r\n       <use style=\"stroke:#000000;stroke-width:0.8;\" x=\"93.949758\" xlink:href=\"#m8310c81fa0\" y=\"224.64\"/>\r\n      </g>\r\n     </g>\r\n     <g id=\"text_2\">\r\n      <!-- 11-11 00 -->\r\n      <g transform=\"translate(96.709133 276.600937)rotate(-90)scale(0.1 -0.1)\">\r\n       <use xlink:href=\"#DejaVuSans-49\"/>\r\n       <use x=\"63.623047\" xlink:href=\"#DejaVuSans-49\"/>\r\n       <use x=\"127.246094\" xlink:href=\"#DejaVuSans-45\"/>\r\n       <use x=\"163.330078\" xlink:href=\"#DejaVuSans-49\"/>\r\n       <use x=\"226.953125\" xlink:href=\"#DejaVuSans-49\"/>\r\n       <use x=\"290.576172\" xlink:href=\"#DejaVuSans-32\"/>\r\n       <use x=\"322.363281\" xlink:href=\"#DejaVuSans-48\"/>\r\n       <use x=\"385.986328\" xlink:href=\"#DejaVuSans-48\"/>\r\n      </g>\r\n     </g>\r\n    </g>\r\n    <g id=\"xtick_3\">\r\n     <g id=\"line2d_3\">\r\n      <g>\r\n       <use style=\"stroke:#000000;stroke-width:0.8;\" x=\"132.804691\" xlink:href=\"#m8310c81fa0\" y=\"224.64\"/>\r\n      </g>\r\n     </g>\r\n     <g id=\"text_3\">\r\n      <!-- 11-11 06 -->\r\n      <defs>\r\n       <path d=\"M 33.015625 40.375 \r\nQ 26.375 40.375 22.484375 35.828125 \r\nQ 18.609375 31.296875 18.609375 23.390625 \r\nQ 18.609375 15.53125 22.484375 10.953125 \r\nQ 26.375 6.390625 33.015625 6.390625 \r\nQ 39.65625 6.390625 43.53125 10.953125 \r\nQ 47.40625 15.53125 47.40625 23.390625 \r\nQ 47.40625 31.296875 43.53125 35.828125 \r\nQ 39.65625 40.375 33.015625 40.375 \r\nz\r\nM 52.59375 71.296875 \r\nL 52.59375 62.3125 \r\nQ 48.875 64.0625 45.09375 64.984375 \r\nQ 41.3125 65.921875 37.59375 65.921875 \r\nQ 27.828125 65.921875 22.671875 59.328125 \r\nQ 17.53125 52.734375 16.796875 39.40625 \r\nQ 19.671875 43.65625 24.015625 45.921875 \r\nQ 28.375 48.1875 33.59375 48.1875 \r\nQ 44.578125 48.1875 50.953125 41.515625 \r\nQ 57.328125 34.859375 57.328125 23.390625 \r\nQ 57.328125 12.15625 50.6875 5.359375 \r\nQ 44.046875 -1.421875 33.015625 -1.421875 \r\nQ 20.359375 -1.421875 13.671875 8.265625 \r\nQ 6.984375 17.96875 6.984375 36.375 \r\nQ 6.984375 53.65625 15.1875 63.9375 \r\nQ 23.390625 74.21875 37.203125 74.21875 \r\nQ 40.921875 74.21875 44.703125 73.484375 \r\nQ 48.484375 72.75 52.59375 71.296875 \r\nz\r\n\" id=\"DejaVuSans-54\"/>\r\n      </defs>\r\n      <g transform=\"translate(135.564066 276.600937)rotate(-90)scale(0.1 -0.1)\">\r\n       <use xlink:href=\"#DejaVuSans-49\"/>\r\n       <use x=\"63.623047\" xlink:href=\"#DejaVuSans-49\"/>\r\n       <use x=\"127.246094\" xlink:href=\"#DejaVuSans-45\"/>\r\n       <use x=\"163.330078\" xlink:href=\"#DejaVuSans-49\"/>\r\n       <use x=\"226.953125\" xlink:href=\"#DejaVuSans-49\"/>\r\n       <use x=\"290.576172\" xlink:href=\"#DejaVuSans-32\"/>\r\n       <use x=\"322.363281\" xlink:href=\"#DejaVuSans-48\"/>\r\n       <use x=\"385.986328\" xlink:href=\"#DejaVuSans-54\"/>\r\n      </g>\r\n     </g>\r\n    </g>\r\n    <g id=\"xtick_4\">\r\n     <g id=\"line2d_4\">\r\n      <g>\r\n       <use style=\"stroke:#000000;stroke-width:0.8;\" x=\"171.659623\" xlink:href=\"#m8310c81fa0\" y=\"224.64\"/>\r\n      </g>\r\n     </g>\r\n     <g id=\"text_4\">\r\n      <!-- 11-11 12 -->\r\n      <defs>\r\n       <path d=\"M 19.1875 8.296875 \r\nL 53.609375 8.296875 \r\nL 53.609375 0 \r\nL 7.328125 0 \r\nL 7.328125 8.296875 \r\nQ 12.9375 14.109375 22.625 23.890625 \r\nQ 32.328125 33.6875 34.8125 36.53125 \r\nQ 39.546875 41.84375 41.421875 45.53125 \r\nQ 43.3125 49.21875 43.3125 52.78125 \r\nQ 43.3125 58.59375 39.234375 62.25 \r\nQ 35.15625 65.921875 28.609375 65.921875 \r\nQ 23.96875 65.921875 18.8125 64.3125 \r\nQ 13.671875 62.703125 7.8125 59.421875 \r\nL 7.8125 69.390625 \r\nQ 13.765625 71.78125 18.9375 73 \r\nQ 24.125 74.21875 28.421875 74.21875 \r\nQ 39.75 74.21875 46.484375 68.546875 \r\nQ 53.21875 62.890625 53.21875 53.421875 \r\nQ 53.21875 48.921875 51.53125 44.890625 \r\nQ 49.859375 40.875 45.40625 35.40625 \r\nQ 44.1875 33.984375 37.640625 27.21875 \r\nQ 31.109375 20.453125 19.1875 8.296875 \r\nz\r\n\" id=\"DejaVuSans-50\"/>\r\n      </defs>\r\n      <g transform=\"translate(174.418998 276.600937)rotate(-90)scale(0.1 -0.1)\">\r\n       <use xlink:href=\"#DejaVuSans-49\"/>\r\n       <use x=\"63.623047\" xlink:href=\"#DejaVuSans-49\"/>\r\n       <use x=\"127.246094\" xlink:href=\"#DejaVuSans-45\"/>\r\n       <use x=\"163.330078\" xlink:href=\"#DejaVuSans-49\"/>\r\n       <use x=\"226.953125\" xlink:href=\"#DejaVuSans-49\"/>\r\n       <use x=\"290.576172\" xlink:href=\"#DejaVuSans-32\"/>\r\n       <use x=\"322.363281\" xlink:href=\"#DejaVuSans-49\"/>\r\n       <use x=\"385.986328\" xlink:href=\"#DejaVuSans-50\"/>\r\n      </g>\r\n     </g>\r\n    </g>\r\n    <g id=\"xtick_5\">\r\n     <g id=\"line2d_5\">\r\n      <g>\r\n       <use style=\"stroke:#000000;stroke-width:0.8;\" x=\"210.514555\" xlink:href=\"#m8310c81fa0\" y=\"224.64\"/>\r\n      </g>\r\n     </g>\r\n     <g id=\"text_5\">\r\n      <!-- 11-11 18 -->\r\n      <g transform=\"translate(213.27393 276.600937)rotate(-90)scale(0.1 -0.1)\">\r\n       <use xlink:href=\"#DejaVuSans-49\"/>\r\n       <use x=\"63.623047\" xlink:href=\"#DejaVuSans-49\"/>\r\n       <use x=\"127.246094\" xlink:href=\"#DejaVuSans-45\"/>\r\n       <use x=\"163.330078\" xlink:href=\"#DejaVuSans-49\"/>\r\n       <use x=\"226.953125\" xlink:href=\"#DejaVuSans-49\"/>\r\n       <use x=\"290.576172\" xlink:href=\"#DejaVuSans-32\"/>\r\n       <use x=\"322.363281\" xlink:href=\"#DejaVuSans-49\"/>\r\n       <use x=\"385.986328\" xlink:href=\"#DejaVuSans-56\"/>\r\n      </g>\r\n     </g>\r\n    </g>\r\n    <g id=\"xtick_6\">\r\n     <g id=\"line2d_6\">\r\n      <g>\r\n       <use style=\"stroke:#000000;stroke-width:0.8;\" x=\"249.369487\" xlink:href=\"#m8310c81fa0\" y=\"224.64\"/>\r\n      </g>\r\n     </g>\r\n     <g id=\"text_6\">\r\n      <!-- 11-12 00 -->\r\n      <g transform=\"translate(252.128862 276.600937)rotate(-90)scale(0.1 -0.1)\">\r\n       <use xlink:href=\"#DejaVuSans-49\"/>\r\n       <use x=\"63.623047\" xlink:href=\"#DejaVuSans-49\"/>\r\n       <use x=\"127.246094\" xlink:href=\"#DejaVuSans-45\"/>\r\n       <use x=\"163.330078\" xlink:href=\"#DejaVuSans-49\"/>\r\n       <use x=\"226.953125\" xlink:href=\"#DejaVuSans-50\"/>\r\n       <use x=\"290.576172\" xlink:href=\"#DejaVuSans-32\"/>\r\n       <use x=\"322.363281\" xlink:href=\"#DejaVuSans-48\"/>\r\n       <use x=\"385.986328\" xlink:href=\"#DejaVuSans-48\"/>\r\n      </g>\r\n     </g>\r\n    </g>\r\n    <g id=\"xtick_7\">\r\n     <g id=\"line2d_7\">\r\n      <g>\r\n       <use style=\"stroke:#000000;stroke-width:0.8;\" x=\"288.22442\" xlink:href=\"#m8310c81fa0\" y=\"224.64\"/>\r\n      </g>\r\n     </g>\r\n     <g id=\"text_7\">\r\n      <!-- 11-12 06 -->\r\n      <g transform=\"translate(290.983795 276.600937)rotate(-90)scale(0.1 -0.1)\">\r\n       <use xlink:href=\"#DejaVuSans-49\"/>\r\n       <use x=\"63.623047\" xlink:href=\"#DejaVuSans-49\"/>\r\n       <use x=\"127.246094\" xlink:href=\"#DejaVuSans-45\"/>\r\n       <use x=\"163.330078\" xlink:href=\"#DejaVuSans-49\"/>\r\n       <use x=\"226.953125\" xlink:href=\"#DejaVuSans-50\"/>\r\n       <use x=\"290.576172\" xlink:href=\"#DejaVuSans-32\"/>\r\n       <use x=\"322.363281\" xlink:href=\"#DejaVuSans-48\"/>\r\n       <use x=\"385.986328\" xlink:href=\"#DejaVuSans-54\"/>\r\n      </g>\r\n     </g>\r\n    </g>\r\n    <g id=\"xtick_8\">\r\n     <g id=\"line2d_8\">\r\n      <g>\r\n       <use style=\"stroke:#000000;stroke-width:0.8;\" x=\"327.079352\" xlink:href=\"#m8310c81fa0\" y=\"224.64\"/>\r\n      </g>\r\n     </g>\r\n     <g id=\"text_8\">\r\n      <!-- 11-12 12 -->\r\n      <g transform=\"translate(329.838727 276.600937)rotate(-90)scale(0.1 -0.1)\">\r\n       <use xlink:href=\"#DejaVuSans-49\"/>\r\n       <use x=\"63.623047\" xlink:href=\"#DejaVuSans-49\"/>\r\n       <use x=\"127.246094\" xlink:href=\"#DejaVuSans-45\"/>\r\n       <use x=\"163.330078\" xlink:href=\"#DejaVuSans-49\"/>\r\n       <use x=\"226.953125\" xlink:href=\"#DejaVuSans-50\"/>\r\n       <use x=\"290.576172\" xlink:href=\"#DejaVuSans-32\"/>\r\n       <use x=\"322.363281\" xlink:href=\"#DejaVuSans-49\"/>\r\n       <use x=\"385.986328\" xlink:href=\"#DejaVuSans-50\"/>\r\n      </g>\r\n     </g>\r\n    </g>\r\n   </g>\r\n   <g id=\"matplotlib.axis_2\">\r\n    <g id=\"ytick_1\">\r\n     <g id=\"line2d_9\">\r\n      <defs>\r\n       <path d=\"M 0 0 \r\nL -3.5 0 \r\n\" id=\"m72c6ffb5be\" style=\"stroke:#000000;stroke-width:0.8;\"/>\r\n      </defs>\r\n      <g>\r\n       <use style=\"stroke:#000000;stroke-width:0.8;\" x=\"26.925\" xlink:href=\"#m72c6ffb5be\" y=\"214.756364\"/>\r\n      </g>\r\n     </g>\r\n     <g id=\"text_9\">\r\n      <!-- 0 -->\r\n      <g transform=\"translate(13.5625 218.555582)scale(0.1 -0.1)\">\r\n       <use xlink:href=\"#DejaVuSans-48\"/>\r\n      </g>\r\n     </g>\r\n    </g>\r\n    <g id=\"ytick_2\">\r\n     <g id=\"line2d_10\">\r\n      <g>\r\n       <use style=\"stroke:#000000;stroke-width:0.8;\" x=\"26.925\" xlink:href=\"#m72c6ffb5be\" y=\"180.149268\"/>\r\n      </g>\r\n     </g>\r\n     <g id=\"text_10\">\r\n      <!-- 5 -->\r\n      <defs>\r\n       <path d=\"M 10.796875 72.90625 \r\nL 49.515625 72.90625 \r\nL 49.515625 64.59375 \r\nL 19.828125 64.59375 \r\nL 19.828125 46.734375 \r\nQ 21.96875 47.46875 24.109375 47.828125 \r\nQ 26.265625 48.1875 28.421875 48.1875 \r\nQ 40.625 48.1875 47.75 41.5 \r\nQ 54.890625 34.8125 54.890625 23.390625 \r\nQ 54.890625 11.625 47.5625 5.09375 \r\nQ 40.234375 -1.421875 26.90625 -1.421875 \r\nQ 22.3125 -1.421875 17.546875 -0.640625 \r\nQ 12.796875 0.140625 7.71875 1.703125 \r\nL 7.71875 11.625 \r\nQ 12.109375 9.234375 16.796875 8.0625 \r\nQ 21.484375 6.890625 26.703125 6.890625 \r\nQ 35.15625 6.890625 40.078125 11.328125 \r\nQ 45.015625 15.765625 45.015625 23.390625 \r\nQ 45.015625 31 40.078125 35.4375 \r\nQ 35.15625 39.890625 26.703125 39.890625 \r\nQ 22.75 39.890625 18.8125 39.015625 \r\nQ 14.890625 38.140625 10.796875 36.28125 \r\nz\r\n\" id=\"DejaVuSans-53\"/>\r\n      </defs>\r\n      <g transform=\"translate(13.5625 183.948487)scale(0.1 -0.1)\">\r\n       <use xlink:href=\"#DejaVuSans-53\"/>\r\n      </g>\r\n     </g>\r\n    </g>\r\n    <g id=\"ytick_3\">\r\n     <g id=\"line2d_11\">\r\n      <g>\r\n       <use style=\"stroke:#000000;stroke-width:0.8;\" x=\"26.925\" xlink:href=\"#m72c6ffb5be\" y=\"145.542173\"/>\r\n      </g>\r\n     </g>\r\n     <g id=\"text_11\">\r\n      <!-- 10 -->\r\n      <g transform=\"translate(7.2 149.341392)scale(0.1 -0.1)\">\r\n       <use xlink:href=\"#DejaVuSans-49\"/>\r\n       <use x=\"63.623047\" xlink:href=\"#DejaVuSans-48\"/>\r\n      </g>\r\n     </g>\r\n    </g>\r\n    <g id=\"ytick_4\">\r\n     <g id=\"line2d_12\">\r\n      <g>\r\n       <use style=\"stroke:#000000;stroke-width:0.8;\" x=\"26.925\" xlink:href=\"#m72c6ffb5be\" y=\"110.935078\"/>\r\n      </g>\r\n     </g>\r\n     <g id=\"text_12\">\r\n      <!-- 15 -->\r\n      <g transform=\"translate(7.2 114.734297)scale(0.1 -0.1)\">\r\n       <use xlink:href=\"#DejaVuSans-49\"/>\r\n       <use x=\"63.623047\" xlink:href=\"#DejaVuSans-53\"/>\r\n      </g>\r\n     </g>\r\n    </g>\r\n    <g id=\"ytick_5\">\r\n     <g id=\"line2d_13\">\r\n      <g>\r\n       <use style=\"stroke:#000000;stroke-width:0.8;\" x=\"26.925\" xlink:href=\"#m72c6ffb5be\" y=\"76.327983\"/>\r\n      </g>\r\n     </g>\r\n     <g id=\"text_13\">\r\n      <!-- 20 -->\r\n      <g transform=\"translate(7.2 80.127202)scale(0.1 -0.1)\">\r\n       <use xlink:href=\"#DejaVuSans-50\"/>\r\n       <use x=\"63.623047\" xlink:href=\"#DejaVuSans-48\"/>\r\n      </g>\r\n     </g>\r\n    </g>\r\n    <g id=\"ytick_6\">\r\n     <g id=\"line2d_14\">\r\n      <g>\r\n       <use style=\"stroke:#000000;stroke-width:0.8;\" x=\"26.925\" xlink:href=\"#m72c6ffb5be\" y=\"41.720888\"/>\r\n      </g>\r\n     </g>\r\n     <g id=\"text_14\">\r\n      <!-- 25 -->\r\n      <g transform=\"translate(7.2 45.520106)scale(0.1 -0.1)\">\r\n       <use xlink:href=\"#DejaVuSans-50\"/>\r\n       <use x=\"63.623047\" xlink:href=\"#DejaVuSans-53\"/>\r\n      </g>\r\n     </g>\r\n    </g>\r\n   </g>\r\n   <g id=\"line2d_15\">\r\n    <path clip-path=\"url(#pf9a8d52357)\" d=\"M 42.143182 45.509379 \r\nL 48.619004 87.83627 \r\nL 55.094826 180.437274 \r\nL 61.570648 214.756364 \r\nL 68.04647 214.756364 \r\nL 74.522292 214.756364 \r\nL 80.998114 214.756364 \r\nL 87.473936 214.756364 \r\nL 93.949758 214.756364 \r\nL 100.42558 214.756364 \r\nL 106.901402 214.756364 \r\nL 113.377224 214.756364 \r\nL 119.853046 214.756364 \r\nL 126.328868 214.756364 \r\nL 132.804691 214.756364 \r\nL 139.280513 214.756364 \r\nL 145.756335 181.595209 \r\nL 152.232157 90.426773 \r\nL 158.707979 39.815533 \r\nL 165.183801 17.083636 \r\nL 171.659623 20.92801 \r\nL 178.135445 32.348414 \r\nL 184.611267 43.904584 \r\nL 191.087089 50.755824 \r\nL 197.562911 49.558363 \r\nL 204.038733 74.02476 \r\nL 210.514555 182.71381 \r\nL 216.990377 214.756364 \r\nL 223.466199 214.756364 \r\nL 229.942021 214.756364 \r\nL 236.417843 214.756364 \r\nL 242.893665 214.756364 \r\nL 249.369487 214.756364 \r\nL 255.845309 214.756364 \r\nL 262.321132 214.756364 \r\nL 268.796954 214.756364 \r\nL 275.272776 214.756364 \r\nL 281.748598 214.756364 \r\nL 288.22442 214.756364 \r\nL 294.700242 214.756364 \r\nL 301.176064 192.636263 \r\nL 307.651886 100.43634 \r\nL 314.127708 49.016452 \r\nL 320.60353 44.814369 \r\nL 327.079352 53.459344 \r\nL 333.555174 51.323411 \r\nL 340.030996 61.460268 \r\nL 346.506818 55.942175 \r\n\" style=\"fill:none;stroke:#1f77b4;stroke-linecap:square;stroke-width:1.5;\"/>\r\n   </g>\r\n   <g id=\"patch_3\">\r\n    <path d=\"M 26.925 224.64 \r\nL 26.925 7.2 \r\n\" style=\"fill:none;stroke:#000000;stroke-linecap:square;stroke-linejoin:miter;stroke-width:0.8;\"/>\r\n   </g>\r\n   <g id=\"patch_4\">\r\n    <path d=\"M 361.725 224.64 \r\nL 361.725 7.2 \r\n\" style=\"fill:none;stroke:#000000;stroke-linecap:square;stroke-linejoin:miter;stroke-width:0.8;\"/>\r\n   </g>\r\n   <g id=\"patch_5\">\r\n    <path d=\"M 26.925 224.64 \r\nL 361.725 224.64 \r\n\" style=\"fill:none;stroke:#000000;stroke-linecap:square;stroke-linejoin:miter;stroke-width:0.8;\"/>\r\n   </g>\r\n   <g id=\"patch_6\">\r\n    <path d=\"M 26.925 7.2 \r\nL 361.725 7.2 \r\n\" style=\"fill:none;stroke:#000000;stroke-linecap:square;stroke-linejoin:miter;stroke-width:0.8;\"/>\r\n   </g>\r\n   <g id=\"legend_1\">\r\n    <g id=\"patch_7\">\r\n     <path d=\"M 350.725 20.2 \r\nL 354.725 20.2 \r\nQ 356.725 20.2 356.725 18.2 \r\nL 356.725 14.2 \r\nQ 356.725 12.2 354.725 12.2 \r\nL 350.725 12.2 \r\nQ 348.725 12.2 348.725 14.2 \r\nL 348.725 18.2 \r\nQ 348.725 20.2 350.725 20.2 \r\nz\r\n\" style=\"fill:#ffffff;opacity:0.8;stroke:#cccccc;stroke-linejoin:miter;\"/>\r\n    </g>\r\n   </g>\r\n  </g>\r\n </g>\r\n <defs>\r\n  <clipPath id=\"pf9a8d52357\">\r\n   <rect height=\"217.44\" width=\"334.8\" x=\"26.925\" y=\"7.2\"/>\r\n  </clipPath>\r\n </defs>\r\n</svg>\r\n",
      "image/png": "[encoded data removed]"
     },
     "metadata": {
      "needs_background": "light"
     }
    }
   ],
   "source": [
    "import matplotlib.pyplot as plt\n",
    "# Graph the prediction vs actual (Orange is prediction)\n",
    "plt.plot(nn_results['Date_Time'],nn_results['pred'])\n",
    "plt.xticks(rotation=90)\n",
    "plt.legend()\n",
    "plt.show()"
   ]
  },
  {
   "cell_type": "code",
   "execution_count": null,
   "metadata": {},
   "outputs": [],
   "source": []
  }
 ]
}