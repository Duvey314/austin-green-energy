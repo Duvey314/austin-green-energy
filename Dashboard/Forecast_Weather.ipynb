{
 "metadata": {
  "language_info": {
   "codemirror_mode": {
    "name": "ipython",
    "version": 3
   },
   "file_extension": ".py",
   "mimetype": "text/x-python",
   "name": "python",
   "nbconvert_exporter": "python",
   "pygments_lexer": "ipython3",
   "version": "3.7.7-final"
  },
  "orig_nbformat": 2,
  "kernelspec": {
   "name": "python_defaultSpec_1604255107084",
   "display_name": "Python 3.7.7 64-bit ('PythonData': conda)"
  }
 },
 "nbformat": 4,
 "nbformat_minor": 2,
 "cells": [
  {
   "cell_type": "markdown",
   "metadata": {},
   "source": [
    "# Extract Foercasted Weather Data\n",
    "# -------------------------------"
   ]
  },
  {
   "cell_type": "markdown",
   "metadata": {},
   "source": [
    "## Initial Imports"
   ]
  },
  {
   "cell_type": "code",
   "execution_count": 1,
   "metadata": {},
   "outputs": [],
   "source": [
    "# Import Dependencies\n",
    "import requests\n",
    "import pandas as pd\n",
    "import json\n",
    "import numpy as np\n",
    "import datetime\n",
    "from dateutil import tz"
   ]
  },
  {
   "cell_type": "code",
   "execution_count": 2,
   "metadata": {},
   "outputs": [],
   "source": [
    "# Import API Key\n",
    "from config import weather_api_key"
   ]
  },
  {
   "cell_type": "code",
   "execution_count": 3,
   "metadata": {},
   "outputs": [],
   "source": [
    "# Documentation\n",
    "# https://openweathermap.org/api/one-call-api"
   ]
  },
  {
   "cell_type": "markdown",
   "metadata": {},
   "source": [
    "# Define the Functions\n",
    "# --------------------"
   ]
  },
  {
   "cell_type": "code",
   "execution_count": 4,
   "metadata": {},
   "outputs": [],
   "source": [
    "def convert_DateTime_UTC_to_CST(UTC_datetime_list, list_range):\n",
    "    CST_datetime_list = []\n",
    "\n",
    "    for date in list_range:    \n",
    "        # Convert the date/time to ISO standard in string format\n",
    "        date_time = datetime.datetime.utcfromtimestamp(UTC_datetime_list[date]).strftime('%Y-%m-%d %H:%M:%S')\n",
    "        \n",
    "        # Create a datetime object, representing the UTC time\n",
    "        time_utc = datetime.datetime.strptime(date_time, '%Y-%m-%d %H:%M:%S')\n",
    "\n",
    "        # Replace the timezone field of the datetime object to UTC\n",
    "        from_zone = tz.gettz('UTC')\n",
    "        time_utc = time_utc.replace(tzinfo=from_zone)\n",
    "\n",
    "        # Convert time zone from UTC to central\n",
    "        to_zone = tz.gettz('America/Chicago')\n",
    "        time_cst = time_utc.astimezone(to_zone)\n",
    "\n",
    "        # Append the date/time, year, month, day, and hour\n",
    "        CST_datetime_list.append({\n",
    "            \"UTC_Time\": UTC_datetime_list[date],\n",
    "            \"Date_Time\": time_cst.strftime('%Y-%m-%d %H:%M:%S'),\n",
    "            \"Year\": time_cst.year,\n",
    "            \"Month\":time_cst.month,\n",
    "            \"Day\":time_cst.day,\n",
    "            \"Hour\":time_cst.hour\n",
    "            })\n",
    "\n",
    "    datetimeDataFrame = pd.DataFrame(CST_datetime_list)\n",
    "    \n",
    "    return datetimeDataFrame"
   ]
  },
  {
   "cell_type": "code",
   "execution_count": 5,
   "metadata": {},
   "outputs": [],
   "source": [
    "def calculate_sunhour(sunrise_list, sunset_list, list_range):\n",
    "    \n",
    "    sunhour_list = []\n",
    "\n",
    "    for day in list_range:\n",
    "        # Convert the date/time to ISO standard in string format\n",
    "        sunrise_date_time = datetime.datetime.utcfromtimestamp(sunrise_list[day]).strftime('%Y-%m-%d %H:%M:%S')\n",
    "        sunset_date_time = datetime.datetime.utcfromtimestamp(sunset_list[day]).strftime('%Y-%m-%d %H:%M:%S')\n",
    "\n",
    "        # Create a datetime object, representing the UTC time\n",
    "        sunrise_utc = datetime.datetime.strptime(sunrise_date_time, '%Y-%m-%d %H:%M:%S')\n",
    "        sunset_utc = datetime.datetime.strptime(sunset_date_time, '%Y-%m-%d %H:%M:%S')\n",
    "\n",
    "        # Replace the timezone field of the datetime object to UTC\n",
    "        from_zone = tz.gettz('UTC')\n",
    "        \n",
    "        sunrise_utc = sunrise_utc.replace(tzinfo=from_zone)\n",
    "        sunset_utc = sunset_utc.replace(tzinfo=from_zone)\n",
    "\n",
    "        # Convert time zone from UTC to central\n",
    "        to_zone = tz.gettz('America/Chicago')\n",
    "        \n",
    "        sunrise_cst = sunrise_utc.astimezone(to_zone)\n",
    "        sunset_cst = sunset_utc.astimezone(to_zone)\n",
    "        \n",
    "        # Convert to string\n",
    "        sunrise_str = sunrise_cst.strftime('%Y-%m-%d %H:%M:%S')\n",
    "        sunset_str = sunset_cst.strftime('%Y-%m-%d %H:%M:%S')\n",
    "\n",
    "        # Calculate Sunhour\n",
    "        sunrise = datetime.datetime.strptime(sunrise_str, '%Y-%m-%d %H:%M:%S')\n",
    "        sunset = datetime.datetime.strptime(sunset_str, '%Y-%m-%d %H:%M:%S')\n",
    "        Sunhour_timedelta = sunset - sunrise\n",
    "        Sunhour_seconds = Sunhour_timedelta.seconds\n",
    "        Sunhour = Sunhour_seconds / 3600\n",
    "\n",
    "        # Append to List\n",
    "        sunhour_list.append({\n",
    "            \"Sunrise\": sunrise_list[day],\n",
    "            \"Sunhour\": Sunhour\n",
    "        })\n",
    "        \n",
    "    sunhourDataFrame = pd.DataFrame(sunhour_list)\n",
    "    \n",
    "    return sunhourDataFrame"
   ]
  },
  {
   "cell_type": "markdown",
   "metadata": {},
   "source": [
    "# Webberville Solar Farm\n",
    "# ----------------------"
   ]
  },
  {
   "cell_type": "code",
   "execution_count": 6,
   "metadata": {
    "tags": []
   },
   "outputs": [],
   "source": [
    "# Geographical coordinates (latitude, longitude)\n",
    "lat = \"30.238333\"\n",
    "lon = \"-97.508611\"\n",
    "\n",
    "# Exclude some parts of the weather data from the API response\n",
    "    # It should be a comma-delimited list (without spaces)\n",
    "    # Options: current,minutely,hourly,daily,alerts\n",
    "part = \"minutely,alerts\"\n",
    "\n",
    "# Define the Units of measurement\n",
    "    # Options: stadnard,metric,imperial\n",
    "units = \"imperial\"\n",
    "\n",
    "# Make a request to openweathermap\n",
    "requestURL = f\"https://api.openweathermap.org/data/2.5/onecall?lat={lat}&lon={lon}&exclude={part}&units={units}&appid={weather_api_key}\"\n",
    "\n",
    "# print(requestURL)"
   ]
  },
  {
   "cell_type": "code",
   "execution_count": 7,
   "metadata": {
    "tags": []
   },
   "outputs": [
    {
     "output_type": "stream",
     "name": "stdout",
     "text": "Successfully turned response into JSON object.\n"
    }
   ],
   "source": [
    "response = requests.get(requestURL)\n",
    "\n",
    "if response.status_code == 200:\n",
    "    # Turn the response into a JSON object\n",
    "    responseJson = response.json()\n",
    "    print(\"Successfully turned response into JSON object.\")\n",
    "else:\n",
    "    # Else, print the Error status code\n",
    "    print(\"The Error Status Code is:\") \n",
    "    print(response.status_code)"
   ]
  },
  {
   "cell_type": "markdown",
   "metadata": {},
   "source": [
    "# Current Weather Data:"
   ]
  },
  {
   "cell_type": "markdown",
   "metadata": {},
   "source": [
    "## Date / Time"
   ]
  },
  {
   "cell_type": "code",
   "execution_count": 8,
   "metadata": {},
   "outputs": [
    {
     "output_type": "execute_result",
     "data": {
      "text/plain": "datetime.datetime(2020, 11, 1, 16, 30, 49, tzinfo=tzfile('US/Central'))"
     },
     "metadata": {},
     "execution_count": 8
    }
   ],
   "source": [
    "# Convert the date/time to ISO standard in string format\n",
    "current_date_time = datetime.datetime.utcfromtimestamp(responseJson[\"current\"][\"dt\"]).strftime('%Y-%m-%d %H:%M:%S')\n",
    "\n",
    "# Create a datetime object, representing the UTC time\n",
    "current_time_utc = datetime.datetime.strptime(current_date_time, '%Y-%m-%d %H:%M:%S')\n",
    "\n",
    "# Replace the timezone field of the datetime object to UTC\n",
    "from_zone = tz.gettz('UTC')\n",
    "current_time_utc = current_time_utc.replace(tzinfo=from_zone)\n",
    "\n",
    "# Convert time zone from UTC to central\n",
    "to_zone = tz.gettz('America/Chicago')\n",
    "current_time_cst = current_time_utc.astimezone(to_zone)\n",
    "\n",
    "# Display the current time\n",
    "current_time_cst"
   ]
  },
  {
   "cell_type": "code",
   "execution_count": 9,
   "metadata": {},
   "outputs": [
    {
     "output_type": "execute_result",
     "data": {
      "text/plain": "'2020-11-01 16:30:49'"
     },
     "metadata": {},
     "execution_count": 9
    }
   ],
   "source": [
    "# Extract the date & time and store as a string\n",
    "current_Date_Time = current_time_cst.strftime('%Y-%m-%d %H:%M:%S')\n",
    "\n",
    "# Display the date & time as string\n",
    "current_Date_Time"
   ]
  },
  {
   "cell_type": "code",
   "execution_count": 10,
   "metadata": {},
   "outputs": [
    {
     "output_type": "execute_result",
     "data": {
      "text/plain": "'2020-11-01'"
     },
     "metadata": {},
     "execution_count": 10
    }
   ],
   "source": [
    "# Extract the date and store as a string\n",
    "current_Date = datetime.datetime.date(current_time_cst)\n",
    "current_Date = current_Date.strftime('%Y-%m-%d')\n",
    "\n",
    "# Display the date in %Y-%m-%d\n",
    "current_Date"
   ]
  },
  {
   "cell_type": "code",
   "execution_count": 11,
   "metadata": {},
   "outputs": [
    {
     "output_type": "execute_result",
     "data": {
      "text/plain": "'16:30:49'"
     },
     "metadata": {},
     "execution_count": 11
    }
   ],
   "source": [
    "# Exract the time in %H:%M:%S\n",
    "current_Time = current_time_cst.strftime('%H:%M:%S')\n",
    "\n",
    "# Display the hour\n",
    "current_Time"
   ]
  },
  {
   "cell_type": "code",
   "execution_count": 12,
   "metadata": {},
   "outputs": [
    {
     "output_type": "execute_result",
     "data": {
      "text/plain": "2020"
     },
     "metadata": {},
     "execution_count": 12
    }
   ],
   "source": [
    "# Extract the year from the current time\n",
    "current_Year = current_time_cst.year\n",
    "\n",
    "# Display the year\n",
    "current_Year"
   ]
  },
  {
   "cell_type": "code",
   "execution_count": 13,
   "metadata": {},
   "outputs": [
    {
     "output_type": "execute_result",
     "data": {
      "text/plain": "11"
     },
     "metadata": {},
     "execution_count": 13
    }
   ],
   "source": [
    "# Extract the month from the current time\n",
    "current_Month = current_time_cst.month\n",
    "\n",
    "# Display the year\n",
    "current_Month"
   ]
  },
  {
   "cell_type": "code",
   "execution_count": 14,
   "metadata": {},
   "outputs": [
    {
     "output_type": "execute_result",
     "data": {
      "text/plain": "1"
     },
     "metadata": {},
     "execution_count": 14
    }
   ],
   "source": [
    "# Extract the day from the current time\n",
    "current_Day = current_time_cst.day\n",
    "\n",
    "# Display the day\n",
    "current_Day"
   ]
  },
  {
   "cell_type": "code",
   "execution_count": 15,
   "metadata": {},
   "outputs": [
    {
     "output_type": "execute_result",
     "data": {
      "text/plain": "16"
     },
     "metadata": {},
     "execution_count": 15
    }
   ],
   "source": [
    "# Extract the hour from the current time\n",
    "current_Hour = current_time_cst.hour\n",
    "\n",
    "# Display the day\n",
    "current_Hour"
   ]
  },
  {
   "cell_type": "code",
   "execution_count": 16,
   "metadata": {},
   "outputs": [
    {
     "output_type": "execute_result",
     "data": {
      "text/plain": "16"
     },
     "metadata": {},
     "execution_count": 16
    }
   ],
   "source": [
    "# Alternative:\n",
    "# Extract the hour from the current time\n",
    "current_Hour = datetime.datetime.time(current_time_cst).hour\n",
    "\n",
    "# Display the hour\n",
    "current_Hour"
   ]
  },
  {
   "cell_type": "code",
   "execution_count": 17,
   "metadata": {},
   "outputs": [
    {
     "output_type": "execute_result",
     "data": {
      "text/plain": "datetime.date(2020, 11, 2)"
     },
     "metadata": {},
     "execution_count": 17
    }
   ],
   "source": [
    "# Store the next day as a variable\n",
    "next_day = datetime.date(current_Year, current_Month, current_Day) + datetime.timedelta(days=1)\n",
    "next_day"
   ]
  },
  {
   "cell_type": "markdown",
   "metadata": {},
   "source": [
    "## Weather Description"
   ]
  },
  {
   "cell_type": "code",
   "execution_count": 18,
   "metadata": {},
   "outputs": [
    {
     "output_type": "execute_result",
     "data": {
      "text/plain": "'few clouds'"
     },
     "metadata": {},
     "execution_count": 18
    }
   ],
   "source": [
    "# Extract the current weather description\n",
    "current_Weather_Description = responseJson[\"current\"][\"weather\"][0][\"description\"]\n",
    "\n",
    "# Display the weather description\n",
    "current_Weather_Description"
   ]
  },
  {
   "cell_type": "markdown",
   "metadata": {},
   "source": [
    "## Temperature"
   ]
  },
  {
   "cell_type": "code",
   "execution_count": 19,
   "metadata": {},
   "outputs": [
    {
     "output_type": "execute_result",
     "data": {
      "text/plain": "75.69"
     },
     "metadata": {},
     "execution_count": 19
    }
   ],
   "source": [
    "# Extract the current temperature (F)\n",
    "current_Temperature_F = responseJson[\"current\"][\"temp\"]\n",
    "\n",
    "# Display the temperature\n",
    "current_Temperature_F"
   ]
  },
  {
   "cell_type": "markdown",
   "metadata": {},
   "source": [
    "## Sunhour"
   ]
  },
  {
   "cell_type": "code",
   "execution_count": 20,
   "metadata": {},
   "outputs": [
    {
     "output_type": "execute_result",
     "data": {
      "text/plain": "'2020-11-01 06:44:37'"
     },
     "metadata": {},
     "execution_count": 20
    }
   ],
   "source": [
    "# Sunrise:\n",
    "\n",
    "# Convert the date/time to ISO standard in string format\n",
    "sunrise_date_time = datetime.datetime.utcfromtimestamp(responseJson[\"current\"][\"sunrise\"]).strftime('%Y-%m-%d %H:%M:%S')\n",
    "\n",
    "# Create a datetime object, representing the UTC time\n",
    "sunrise_utc = datetime.datetime.strptime(sunrise_date_time, '%Y-%m-%d %H:%M:%S')\n",
    "\n",
    "# Replace the timezone field of the datetime object to UTC\n",
    "from_zone = tz.gettz('UTC')\n",
    "sunrise_utc = sunrise_utc.replace(tzinfo=from_zone)\n",
    "\n",
    "# Convert time zone from UTC to central\n",
    "to_zone = tz.gettz('America/Chicago')\n",
    "todays_sunrise = sunrise_utc.astimezone(to_zone)\n",
    "\n",
    "# Convert to string\n",
    "todays_sunrise = todays_sunrise.strftime('%Y-%m-%d %H:%M:%S')\n",
    "\n",
    "# Display sunrise time\n",
    "todays_sunrise"
   ]
  },
  {
   "cell_type": "code",
   "execution_count": 21,
   "metadata": {},
   "outputs": [
    {
     "output_type": "execute_result",
     "data": {
      "text/plain": "'2020-11-01 17:42:29'"
     },
     "metadata": {},
     "execution_count": 21
    }
   ],
   "source": [
    "# Sunset:\n",
    "\n",
    "# Convert the date/time to ISO standard in string format\n",
    "sunset_date_time = datetime.datetime.utcfromtimestamp(responseJson[\"current\"][\"sunset\"]).strftime('%Y-%m-%d %H:%M:%S')\n",
    "\n",
    "# Create a datetime object, representing the UTC time\n",
    "sunset_utc = datetime.datetime.strptime(sunset_date_time, '%Y-%m-%d %H:%M:%S')\n",
    "\n",
    "# Replace the timezone field of the datetime object to UTC\n",
    "from_zone = tz.gettz('UTC')\n",
    "sunset_utc = sunset_utc.replace(tzinfo=from_zone)\n",
    "\n",
    "# Convert time zone from UTC to central\n",
    "to_zone = tz.gettz('America/Chicago')\n",
    "todays_sunset = sunset_utc.astimezone(to_zone)\n",
    "\n",
    "# Convert to string\n",
    "todays_sunset = todays_sunset.strftime('%Y-%m-%d %H:%M:%S')\n",
    "\n",
    "# Display sunrise time\n",
    "todays_sunset"
   ]
  },
  {
   "cell_type": "code",
   "execution_count": 22,
   "metadata": {
    "tags": []
   },
   "outputs": [
    {
     "output_type": "stream",
     "name": "stdout",
     "text": "The sunhour time in %H:%M:%S : 10:57:52\nThe sunhour time in hrs : 10.964444444444444\n"
    }
   ],
   "source": [
    "todays_sunrise = datetime.datetime.strptime(todays_sunrise, '%Y-%m-%d %H:%M:%S')\n",
    "todays_sunset = datetime.datetime.strptime(todays_sunset, '%Y-%m-%d %H:%M:%S')\n",
    "Sunhour_timedelta = todays_sunset - todays_sunrise\n",
    "print(f\"The sunhour time in %H:%M:%S : {Sunhour_timedelta}\")\n",
    "Sunhour_seconds = Sunhour_timedelta.seconds\n",
    "todays_Sunhour = Sunhour_seconds / 3600\n",
    "print(f\"The sunhour time in hrs : {todays_Sunhour}\")"
   ]
  },
  {
   "cell_type": "markdown",
   "metadata": {},
   "source": [
    "## Cloud Cover"
   ]
  },
  {
   "cell_type": "code",
   "execution_count": 23,
   "metadata": {},
   "outputs": [
    {
     "output_type": "execute_result",
     "data": {
      "text/plain": "20"
     },
     "metadata": {},
     "execution_count": 23
    }
   ],
   "source": [
    "# Extract the current cloud cover (%)\n",
    "current_CloudCover_percent = responseJson[\"current\"][\"clouds\"]\n",
    "\n",
    "# Display the Cloudiness, %\n",
    "current_CloudCover_percent"
   ]
  },
  {
   "cell_type": "markdown",
   "metadata": {},
   "source": [
    "## uv Index"
   ]
  },
  {
   "cell_type": "code",
   "execution_count": 24,
   "metadata": {},
   "outputs": [
    {
     "output_type": "execute_result",
     "data": {
      "text/plain": "5.49"
     },
     "metadata": {},
     "execution_count": 24
    }
   ],
   "source": [
    "# Extract the current UV Index\n",
    "todays_uvIndex = responseJson[\"current\"][\"uvi\"]\n",
    "\n",
    "# Display the Midday UV index\n",
    "todays_uvIndex"
   ]
  },
  {
   "cell_type": "markdown",
   "metadata": {},
   "source": [
    "## Humidity"
   ]
  },
  {
   "cell_type": "code",
   "execution_count": 25,
   "metadata": {},
   "outputs": [
    {
     "output_type": "execute_result",
     "data": {
      "text/plain": "34"
     },
     "metadata": {},
     "execution_count": 25
    }
   ],
   "source": [
    "# Extract the current humidity (%)\n",
    "current_Humidity_percent = responseJson[\"current\"][\"humidity\"]\n",
    "\n",
    "# Display the Cloudiness, %\n",
    "current_Humidity_percent"
   ]
  },
  {
   "cell_type": "markdown",
   "metadata": {},
   "source": [
    "## Current Weather DataFrame"
   ]
  },
  {
   "cell_type": "code",
   "execution_count": 26,
   "metadata": {},
   "outputs": [
    {
     "output_type": "execute_result",
     "data": {
      "text/plain": "            Date_Time  Year  Month  Day  Hour  Temperature_F  \\\n0 2020-11-01 16:30:49  2020     11    1    16          75.69   \n\n   Humidity_percent    Sunhour  CloudCover_percent  uvIndex  \\\n0                34  10.964444                  20     5.49   \n\n  Weather_Description  \n0          few clouds  ",
      "text/html": "<div>\n<style scoped>\n    .dataframe tbody tr th:only-of-type {\n        vertical-align: middle;\n    }\n\n    .dataframe tbody tr th {\n        vertical-align: top;\n    }\n\n    .dataframe thead th {\n        text-align: right;\n    }\n</style>\n<table border=\"1\" class=\"dataframe\">\n  <thead>\n    <tr style=\"text-align: right;\">\n      <th></th>\n      <th>Date_Time</th>\n      <th>Year</th>\n      <th>Month</th>\n      <th>Day</th>\n      <th>Hour</th>\n      <th>Temperature_F</th>\n      <th>Humidity_percent</th>\n      <th>Sunhour</th>\n      <th>CloudCover_percent</th>\n      <th>uvIndex</th>\n      <th>Weather_Description</th>\n    </tr>\n  </thead>\n  <tbody>\n    <tr>\n      <th>0</th>\n      <td>2020-11-01 16:30:49</td>\n      <td>2020</td>\n      <td>11</td>\n      <td>1</td>\n      <td>16</td>\n      <td>75.69</td>\n      <td>34</td>\n      <td>10.964444</td>\n      <td>20</td>\n      <td>5.49</td>\n      <td>few clouds</td>\n    </tr>\n  </tbody>\n</table>\n</div>"
     },
     "metadata": {},
     "execution_count": 26
    }
   ],
   "source": [
    "current_weather_DF = pd.DataFrame([{\n",
    "    \"Date_Time\": current_Date_Time,\n",
    "    \"Year\": current_Year, \n",
    "    \"Month\": current_Month, \n",
    "    \"Day\": current_Day, \n",
    "    \"Hour\": current_Hour, \n",
    "    \"Temperature_F\": current_Temperature_F, \n",
    "    \"Humidity_percent\": current_Humidity_percent,\n",
    "    \"Sunhour\": todays_Sunhour, \n",
    "    \"CloudCover_percent\": current_CloudCover_percent,\n",
    "    \"uvIndex\": todays_uvIndex,\n",
    "    \"Weather_Description\": current_Weather_Description\n",
    "}])\n",
    "\n",
    "current_weather_DF[\"Date_Time\"] = pd.to_datetime(current_weather_DF[\"Date_Time\"])\n",
    "\n",
    "current_weather_DF"
   ]
  },
  {
   "cell_type": "code",
   "execution_count": 27,
   "metadata": {},
   "outputs": [
    {
     "output_type": "execute_result",
     "data": {
      "text/plain": "Date_Time              datetime64[ns]\nYear                            int64\nMonth                           int64\nDay                             int64\nHour                            int64\nTemperature_F                 float64\nHumidity_percent                int64\nSunhour                       float64\nCloudCover_percent              int64\nuvIndex                       float64\nWeather_Description            object\ndtype: object"
     },
     "metadata": {},
     "execution_count": 27
    }
   ],
   "source": [
    "current_weather_DF.dtypes"
   ]
  },
  {
   "cell_type": "markdown",
   "metadata": {},
   "source": [
    "# Daily Forecasted Weather Data:"
   ]
  },
  {
   "cell_type": "markdown",
   "metadata": {},
   "source": [
    "## Create a dataframe for the daily forecasted weather data"
   ]
  },
  {
   "cell_type": "code",
   "execution_count": 28,
   "metadata": {},
   "outputs": [
    {
     "output_type": "execute_result",
     "data": {
      "text/plain": "     UTC_Time     Sunrise      Sunset  uvIndex\n0  1604253600  1604234677  1604274149     5.49\n1  1604340000  1604321125  1604360502     5.12\n2  1604426400  1604407573  1604446856     5.19\n3  1604512800  1604494021  1604533211     5.05\n4  1604599200  1604580469  1604619568     4.74\n5  1604685600  1604666918  1604705926     4.90\n6  1604772000  1604753368  1604792286     4.97\n7  1604858400  1604839817  1604878647     5.20",
      "text/html": "<div>\n<style scoped>\n    .dataframe tbody tr th:only-of-type {\n        vertical-align: middle;\n    }\n\n    .dataframe tbody tr th {\n        vertical-align: top;\n    }\n\n    .dataframe thead th {\n        text-align: right;\n    }\n</style>\n<table border=\"1\" class=\"dataframe\">\n  <thead>\n    <tr style=\"text-align: right;\">\n      <th></th>\n      <th>UTC_Time</th>\n      <th>Sunrise</th>\n      <th>Sunset</th>\n      <th>uvIndex</th>\n    </tr>\n  </thead>\n  <tbody>\n    <tr>\n      <th>0</th>\n      <td>1604253600</td>\n      <td>1604234677</td>\n      <td>1604274149</td>\n      <td>5.49</td>\n    </tr>\n    <tr>\n      <th>1</th>\n      <td>1604340000</td>\n      <td>1604321125</td>\n      <td>1604360502</td>\n      <td>5.12</td>\n    </tr>\n    <tr>\n      <th>2</th>\n      <td>1604426400</td>\n      <td>1604407573</td>\n      <td>1604446856</td>\n      <td>5.19</td>\n    </tr>\n    <tr>\n      <th>3</th>\n      <td>1604512800</td>\n      <td>1604494021</td>\n      <td>1604533211</td>\n      <td>5.05</td>\n    </tr>\n    <tr>\n      <th>4</th>\n      <td>1604599200</td>\n      <td>1604580469</td>\n      <td>1604619568</td>\n      <td>4.74</td>\n    </tr>\n    <tr>\n      <th>5</th>\n      <td>1604685600</td>\n      <td>1604666918</td>\n      <td>1604705926</td>\n      <td>4.90</td>\n    </tr>\n    <tr>\n      <th>6</th>\n      <td>1604772000</td>\n      <td>1604753368</td>\n      <td>1604792286</td>\n      <td>4.97</td>\n    </tr>\n    <tr>\n      <th>7</th>\n      <td>1604858400</td>\n      <td>1604839817</td>\n      <td>1604878647</td>\n      <td>5.20</td>\n    </tr>\n  </tbody>\n</table>\n</div>"
     },
     "metadata": {},
     "execution_count": 28
    }
   ],
   "source": [
    "forecasted_daily_weather = []\n",
    "\n",
    "for day in np.arange(0, 8, 1):\n",
    "    forecasted_daily_weather.append({\n",
    "        \"UTC_Time\": responseJson[\"daily\"][day][\"dt\"],\n",
    "        \"Sunrise\": responseJson[\"daily\"][day][\"sunrise\"],\n",
    "        \"Sunset\": responseJson[\"daily\"][day][\"sunset\"],\n",
    "        \"uvIndex\": responseJson[\"daily\"][day][\"uvi\"]\n",
    "    })\n",
    "\n",
    "daily_weather_DF = pd.DataFrame(forecasted_daily_weather)\n",
    "daily_weather_DF"
   ]
  },
  {
   "cell_type": "markdown",
   "metadata": {},
   "source": [
    "## Clean up the UTC_Time column: Convert UTC time to CST"
   ]
  },
  {
   "cell_type": "code",
   "execution_count": 29,
   "metadata": {},
   "outputs": [
    {
     "output_type": "execute_result",
     "data": {
      "text/plain": "     UTC_Time            Date_Time  Year  Month  Day  Hour\n0  1604253600  2020-11-01 12:00:00  2020     11    1    12\n1  1604340000  2020-11-02 12:00:00  2020     11    2    12\n2  1604426400  2020-11-03 12:00:00  2020     11    3    12\n3  1604512800  2020-11-04 12:00:00  2020     11    4    12\n4  1604599200  2020-11-05 12:00:00  2020     11    5    12\n5  1604685600  2020-11-06 12:00:00  2020     11    6    12\n6  1604772000  2020-11-07 12:00:00  2020     11    7    12\n7  1604858400  2020-11-08 12:00:00  2020     11    8    12",
      "text/html": "<div>\n<style scoped>\n    .dataframe tbody tr th:only-of-type {\n        vertical-align: middle;\n    }\n\n    .dataframe tbody tr th {\n        vertical-align: top;\n    }\n\n    .dataframe thead th {\n        text-align: right;\n    }\n</style>\n<table border=\"1\" class=\"dataframe\">\n  <thead>\n    <tr style=\"text-align: right;\">\n      <th></th>\n      <th>UTC_Time</th>\n      <th>Date_Time</th>\n      <th>Year</th>\n      <th>Month</th>\n      <th>Day</th>\n      <th>Hour</th>\n    </tr>\n  </thead>\n  <tbody>\n    <tr>\n      <th>0</th>\n      <td>1604253600</td>\n      <td>2020-11-01 12:00:00</td>\n      <td>2020</td>\n      <td>11</td>\n      <td>1</td>\n      <td>12</td>\n    </tr>\n    <tr>\n      <th>1</th>\n      <td>1604340000</td>\n      <td>2020-11-02 12:00:00</td>\n      <td>2020</td>\n      <td>11</td>\n      <td>2</td>\n      <td>12</td>\n    </tr>\n    <tr>\n      <th>2</th>\n      <td>1604426400</td>\n      <td>2020-11-03 12:00:00</td>\n      <td>2020</td>\n      <td>11</td>\n      <td>3</td>\n      <td>12</td>\n    </tr>\n    <tr>\n      <th>3</th>\n      <td>1604512800</td>\n      <td>2020-11-04 12:00:00</td>\n      <td>2020</td>\n      <td>11</td>\n      <td>4</td>\n      <td>12</td>\n    </tr>\n    <tr>\n      <th>4</th>\n      <td>1604599200</td>\n      <td>2020-11-05 12:00:00</td>\n      <td>2020</td>\n      <td>11</td>\n      <td>5</td>\n      <td>12</td>\n    </tr>\n    <tr>\n      <th>5</th>\n      <td>1604685600</td>\n      <td>2020-11-06 12:00:00</td>\n      <td>2020</td>\n      <td>11</td>\n      <td>6</td>\n      <td>12</td>\n    </tr>\n    <tr>\n      <th>6</th>\n      <td>1604772000</td>\n      <td>2020-11-07 12:00:00</td>\n      <td>2020</td>\n      <td>11</td>\n      <td>7</td>\n      <td>12</td>\n    </tr>\n    <tr>\n      <th>7</th>\n      <td>1604858400</td>\n      <td>2020-11-08 12:00:00</td>\n      <td>2020</td>\n      <td>11</td>\n      <td>8</td>\n      <td>12</td>\n    </tr>\n  </tbody>\n</table>\n</div>"
     },
     "metadata": {},
     "execution_count": 29
    }
   ],
   "source": [
    "daily_index = np.arange(0,8,1)\n",
    "\n",
    "daily_UTC_date_time = daily_weather_DF[\"UTC_Time\"]\n",
    "\n",
    "date_time_DF = convert_DateTime_UTC_to_CST(daily_UTC_date_time, daily_index)\n",
    "\n",
    "date_time_DF"
   ]
  },
  {
   "cell_type": "code",
   "execution_count": 30,
   "metadata": {},
   "outputs": [
    {
     "output_type": "execute_result",
     "data": {
      "text/plain": "      Sunrise      Sunset  uvIndex           Date_Time  Year  Month  Day  Hour\n0  1604234677  1604274149     5.49 2020-11-01 12:00:00  2020     11    1    12\n1  1604321125  1604360502     5.12 2020-11-02 12:00:00  2020     11    2    12\n2  1604407573  1604446856     5.19 2020-11-03 12:00:00  2020     11    3    12\n3  1604494021  1604533211     5.05 2020-11-04 12:00:00  2020     11    4    12\n4  1604580469  1604619568     4.74 2020-11-05 12:00:00  2020     11    5    12\n5  1604666918  1604705926     4.90 2020-11-06 12:00:00  2020     11    6    12\n6  1604753368  1604792286     4.97 2020-11-07 12:00:00  2020     11    7    12\n7  1604839817  1604878647     5.20 2020-11-08 12:00:00  2020     11    8    12",
      "text/html": "<div>\n<style scoped>\n    .dataframe tbody tr th:only-of-type {\n        vertical-align: middle;\n    }\n\n    .dataframe tbody tr th {\n        vertical-align: top;\n    }\n\n    .dataframe thead th {\n        text-align: right;\n    }\n</style>\n<table border=\"1\" class=\"dataframe\">\n  <thead>\n    <tr style=\"text-align: right;\">\n      <th></th>\n      <th>Sunrise</th>\n      <th>Sunset</th>\n      <th>uvIndex</th>\n      <th>Date_Time</th>\n      <th>Year</th>\n      <th>Month</th>\n      <th>Day</th>\n      <th>Hour</th>\n    </tr>\n  </thead>\n  <tbody>\n    <tr>\n      <th>0</th>\n      <td>1604234677</td>\n      <td>1604274149</td>\n      <td>5.49</td>\n      <td>2020-11-01 12:00:00</td>\n      <td>2020</td>\n      <td>11</td>\n      <td>1</td>\n      <td>12</td>\n    </tr>\n    <tr>\n      <th>1</th>\n      <td>1604321125</td>\n      <td>1604360502</td>\n      <td>5.12</td>\n      <td>2020-11-02 12:00:00</td>\n      <td>2020</td>\n      <td>11</td>\n      <td>2</td>\n      <td>12</td>\n    </tr>\n    <tr>\n      <th>2</th>\n      <td>1604407573</td>\n      <td>1604446856</td>\n      <td>5.19</td>\n      <td>2020-11-03 12:00:00</td>\n      <td>2020</td>\n      <td>11</td>\n      <td>3</td>\n      <td>12</td>\n    </tr>\n    <tr>\n      <th>3</th>\n      <td>1604494021</td>\n      <td>1604533211</td>\n      <td>5.05</td>\n      <td>2020-11-04 12:00:00</td>\n      <td>2020</td>\n      <td>11</td>\n      <td>4</td>\n      <td>12</td>\n    </tr>\n    <tr>\n      <th>4</th>\n      <td>1604580469</td>\n      <td>1604619568</td>\n      <td>4.74</td>\n      <td>2020-11-05 12:00:00</td>\n      <td>2020</td>\n      <td>11</td>\n      <td>5</td>\n      <td>12</td>\n    </tr>\n    <tr>\n      <th>5</th>\n      <td>1604666918</td>\n      <td>1604705926</td>\n      <td>4.90</td>\n      <td>2020-11-06 12:00:00</td>\n      <td>2020</td>\n      <td>11</td>\n      <td>6</td>\n      <td>12</td>\n    </tr>\n    <tr>\n      <th>6</th>\n      <td>1604753368</td>\n      <td>1604792286</td>\n      <td>4.97</td>\n      <td>2020-11-07 12:00:00</td>\n      <td>2020</td>\n      <td>11</td>\n      <td>7</td>\n      <td>12</td>\n    </tr>\n    <tr>\n      <th>7</th>\n      <td>1604839817</td>\n      <td>1604878647</td>\n      <td>5.20</td>\n      <td>2020-11-08 12:00:00</td>\n      <td>2020</td>\n      <td>11</td>\n      <td>8</td>\n      <td>12</td>\n    </tr>\n  </tbody>\n</table>\n</div>"
     },
     "metadata": {},
     "execution_count": 30
    }
   ],
   "source": [
    "daily_weather_DF = pd.merge(daily_weather_DF, date_time_DF, on='UTC_Time', how='outer')\n",
    "daily_weather_DF.drop(columns=[\"UTC_Time\"], axis=1, inplace=True)\n",
    "daily_weather_DF[\"Date_Time\"] = pd.to_datetime(daily_weather_DF[\"Date_Time\"])\n",
    "daily_weather_DF"
   ]
  },
  {
   "cell_type": "markdown",
   "metadata": {},
   "source": [
    "## Use sunrise and sunset times to calculate the total hours of sunhour for each day"
   ]
  },
  {
   "cell_type": "code",
   "execution_count": 31,
   "metadata": {},
   "outputs": [
    {
     "output_type": "execute_result",
     "data": {
      "text/plain": "      Sunrise    Sunhour\n0  1604234677  10.964444\n1  1604321125  10.938056\n2  1604407573  10.911944\n3  1604494021  10.886111\n4  1604580469  10.860833\n5  1604666918  10.835556\n6  1604753368  10.810556\n7  1604839817  10.786111",
      "text/html": "<div>\n<style scoped>\n    .dataframe tbody tr th:only-of-type {\n        vertical-align: middle;\n    }\n\n    .dataframe tbody tr th {\n        vertical-align: top;\n    }\n\n    .dataframe thead th {\n        text-align: right;\n    }\n</style>\n<table border=\"1\" class=\"dataframe\">\n  <thead>\n    <tr style=\"text-align: right;\">\n      <th></th>\n      <th>Sunrise</th>\n      <th>Sunhour</th>\n    </tr>\n  </thead>\n  <tbody>\n    <tr>\n      <th>0</th>\n      <td>1604234677</td>\n      <td>10.964444</td>\n    </tr>\n    <tr>\n      <th>1</th>\n      <td>1604321125</td>\n      <td>10.938056</td>\n    </tr>\n    <tr>\n      <th>2</th>\n      <td>1604407573</td>\n      <td>10.911944</td>\n    </tr>\n    <tr>\n      <th>3</th>\n      <td>1604494021</td>\n      <td>10.886111</td>\n    </tr>\n    <tr>\n      <th>4</th>\n      <td>1604580469</td>\n      <td>10.860833</td>\n    </tr>\n    <tr>\n      <th>5</th>\n      <td>1604666918</td>\n      <td>10.835556</td>\n    </tr>\n    <tr>\n      <th>6</th>\n      <td>1604753368</td>\n      <td>10.810556</td>\n    </tr>\n    <tr>\n      <th>7</th>\n      <td>1604839817</td>\n      <td>10.786111</td>\n    </tr>\n  </tbody>\n</table>\n</div>"
     },
     "metadata": {},
     "execution_count": 31
    }
   ],
   "source": [
    "daily_index = np.arange(0,8,1)\n",
    "\n",
    "UTC_sunrise = daily_weather_DF[\"Sunrise\"]\n",
    "UTC_sunset = daily_weather_DF[\"Sunset\"]\n",
    "\n",
    "sunhour_DF = calculate_sunhour(UTC_sunrise, UTC_sunset, daily_index)\n",
    "\n",
    "sunhour_DF"
   ]
  },
  {
   "cell_type": "code",
   "execution_count": 32,
   "metadata": {},
   "outputs": [
    {
     "output_type": "execute_result",
     "data": {
      "text/plain": "   uvIndex           Date_Time  Year  Month  Day  Hour    Sunhour\n0     5.49 2020-11-01 12:00:00  2020     11    1    12  10.964444\n1     5.12 2020-11-02 12:00:00  2020     11    2    12  10.938056\n2     5.19 2020-11-03 12:00:00  2020     11    3    12  10.911944\n3     5.05 2020-11-04 12:00:00  2020     11    4    12  10.886111\n4     4.74 2020-11-05 12:00:00  2020     11    5    12  10.860833\n5     4.90 2020-11-06 12:00:00  2020     11    6    12  10.835556\n6     4.97 2020-11-07 12:00:00  2020     11    7    12  10.810556\n7     5.20 2020-11-08 12:00:00  2020     11    8    12  10.786111",
      "text/html": "<div>\n<style scoped>\n    .dataframe tbody tr th:only-of-type {\n        vertical-align: middle;\n    }\n\n    .dataframe tbody tr th {\n        vertical-align: top;\n    }\n\n    .dataframe thead th {\n        text-align: right;\n    }\n</style>\n<table border=\"1\" class=\"dataframe\">\n  <thead>\n    <tr style=\"text-align: right;\">\n      <th></th>\n      <th>uvIndex</th>\n      <th>Date_Time</th>\n      <th>Year</th>\n      <th>Month</th>\n      <th>Day</th>\n      <th>Hour</th>\n      <th>Sunhour</th>\n    </tr>\n  </thead>\n  <tbody>\n    <tr>\n      <th>0</th>\n      <td>5.49</td>\n      <td>2020-11-01 12:00:00</td>\n      <td>2020</td>\n      <td>11</td>\n      <td>1</td>\n      <td>12</td>\n      <td>10.964444</td>\n    </tr>\n    <tr>\n      <th>1</th>\n      <td>5.12</td>\n      <td>2020-11-02 12:00:00</td>\n      <td>2020</td>\n      <td>11</td>\n      <td>2</td>\n      <td>12</td>\n      <td>10.938056</td>\n    </tr>\n    <tr>\n      <th>2</th>\n      <td>5.19</td>\n      <td>2020-11-03 12:00:00</td>\n      <td>2020</td>\n      <td>11</td>\n      <td>3</td>\n      <td>12</td>\n      <td>10.911944</td>\n    </tr>\n    <tr>\n      <th>3</th>\n      <td>5.05</td>\n      <td>2020-11-04 12:00:00</td>\n      <td>2020</td>\n      <td>11</td>\n      <td>4</td>\n      <td>12</td>\n      <td>10.886111</td>\n    </tr>\n    <tr>\n      <th>4</th>\n      <td>4.74</td>\n      <td>2020-11-05 12:00:00</td>\n      <td>2020</td>\n      <td>11</td>\n      <td>5</td>\n      <td>12</td>\n      <td>10.860833</td>\n    </tr>\n    <tr>\n      <th>5</th>\n      <td>4.90</td>\n      <td>2020-11-06 12:00:00</td>\n      <td>2020</td>\n      <td>11</td>\n      <td>6</td>\n      <td>12</td>\n      <td>10.835556</td>\n    </tr>\n    <tr>\n      <th>6</th>\n      <td>4.97</td>\n      <td>2020-11-07 12:00:00</td>\n      <td>2020</td>\n      <td>11</td>\n      <td>7</td>\n      <td>12</td>\n      <td>10.810556</td>\n    </tr>\n    <tr>\n      <th>7</th>\n      <td>5.20</td>\n      <td>2020-11-08 12:00:00</td>\n      <td>2020</td>\n      <td>11</td>\n      <td>8</td>\n      <td>12</td>\n      <td>10.786111</td>\n    </tr>\n  </tbody>\n</table>\n</div>"
     },
     "metadata": {},
     "execution_count": 32
    }
   ],
   "source": [
    "daily_weather_DF = pd.merge(daily_weather_DF, sunhour_DF, on='Sunrise', how='outer')\n",
    "daily_weather_DF.drop(columns=[\"Sunrise\", \"Sunset\"], axis=1, inplace=True)\n",
    "daily_weather_DF"
   ]
  },
  {
   "cell_type": "markdown",
   "metadata": {},
   "source": [
    "## Display the final daily forecasted weather dataframe"
   ]
  },
  {
   "cell_type": "code",
   "execution_count": 33,
   "metadata": {},
   "outputs": [
    {
     "output_type": "execute_result",
     "data": {
      "text/plain": "            Date_Time  Year  Month  Day  Hour    Sunhour  uvIndex\n0 2020-11-01 12:00:00  2020     11    1    12  10.964444     5.49\n1 2020-11-02 12:00:00  2020     11    2    12  10.938056     5.12\n2 2020-11-03 12:00:00  2020     11    3    12  10.911944     5.19\n3 2020-11-04 12:00:00  2020     11    4    12  10.886111     5.05\n4 2020-11-05 12:00:00  2020     11    5    12  10.860833     4.74\n5 2020-11-06 12:00:00  2020     11    6    12  10.835556     4.90\n6 2020-11-07 12:00:00  2020     11    7    12  10.810556     4.97\n7 2020-11-08 12:00:00  2020     11    8    12  10.786111     5.20",
      "text/html": "<div>\n<style scoped>\n    .dataframe tbody tr th:only-of-type {\n        vertical-align: middle;\n    }\n\n    .dataframe tbody tr th {\n        vertical-align: top;\n    }\n\n    .dataframe thead th {\n        text-align: right;\n    }\n</style>\n<table border=\"1\" class=\"dataframe\">\n  <thead>\n    <tr style=\"text-align: right;\">\n      <th></th>\n      <th>Date_Time</th>\n      <th>Year</th>\n      <th>Month</th>\n      <th>Day</th>\n      <th>Hour</th>\n      <th>Sunhour</th>\n      <th>uvIndex</th>\n    </tr>\n  </thead>\n  <tbody>\n    <tr>\n      <th>0</th>\n      <td>2020-11-01 12:00:00</td>\n      <td>2020</td>\n      <td>11</td>\n      <td>1</td>\n      <td>12</td>\n      <td>10.964444</td>\n      <td>5.49</td>\n    </tr>\n    <tr>\n      <th>1</th>\n      <td>2020-11-02 12:00:00</td>\n      <td>2020</td>\n      <td>11</td>\n      <td>2</td>\n      <td>12</td>\n      <td>10.938056</td>\n      <td>5.12</td>\n    </tr>\n    <tr>\n      <th>2</th>\n      <td>2020-11-03 12:00:00</td>\n      <td>2020</td>\n      <td>11</td>\n      <td>3</td>\n      <td>12</td>\n      <td>10.911944</td>\n      <td>5.19</td>\n    </tr>\n    <tr>\n      <th>3</th>\n      <td>2020-11-04 12:00:00</td>\n      <td>2020</td>\n      <td>11</td>\n      <td>4</td>\n      <td>12</td>\n      <td>10.886111</td>\n      <td>5.05</td>\n    </tr>\n    <tr>\n      <th>4</th>\n      <td>2020-11-05 12:00:00</td>\n      <td>2020</td>\n      <td>11</td>\n      <td>5</td>\n      <td>12</td>\n      <td>10.860833</td>\n      <td>4.74</td>\n    </tr>\n    <tr>\n      <th>5</th>\n      <td>2020-11-06 12:00:00</td>\n      <td>2020</td>\n      <td>11</td>\n      <td>6</td>\n      <td>12</td>\n      <td>10.835556</td>\n      <td>4.90</td>\n    </tr>\n    <tr>\n      <th>6</th>\n      <td>2020-11-07 12:00:00</td>\n      <td>2020</td>\n      <td>11</td>\n      <td>7</td>\n      <td>12</td>\n      <td>10.810556</td>\n      <td>4.97</td>\n    </tr>\n    <tr>\n      <th>7</th>\n      <td>2020-11-08 12:00:00</td>\n      <td>2020</td>\n      <td>11</td>\n      <td>8</td>\n      <td>12</td>\n      <td>10.786111</td>\n      <td>5.20</td>\n    </tr>\n  </tbody>\n</table>\n</div>"
     },
     "metadata": {},
     "execution_count": 33
    }
   ],
   "source": [
    "# Re-Order the columns\n",
    "daily_weather_DF = daily_weather_DF[[\"Date_Time\", \"Year\", \"Month\", \"Day\", \"Hour\", \"Sunhour\",\"uvIndex\"]]\n",
    "daily_weather_DF"
   ]
  },
  {
   "cell_type": "code",
   "execution_count": 34,
   "metadata": {},
   "outputs": [
    {
     "output_type": "execute_result",
     "data": {
      "text/plain": "Date_Time    datetime64[ns]\nYear                  int64\nMonth                 int64\nDay                   int64\nHour                  int64\nSunhour             float64\nuvIndex             float64\ndtype: object"
     },
     "metadata": {},
     "execution_count": 34
    }
   ],
   "source": [
    "# Check the data types\n",
    "daily_weather_DF.dtypes"
   ]
  },
  {
   "cell_type": "markdown",
   "metadata": {},
   "source": [
    "## Clean the dataframe so it can be merged with the hourly forecasted data"
   ]
  },
  {
   "cell_type": "code",
   "execution_count": 35,
   "metadata": {},
   "outputs": [
    {
     "output_type": "execute_result",
     "data": {
      "text/plain": "   Day    Sunhour  uvIndex\n0    1  10.964444     5.49\n1    2  10.938056     5.12\n2    3  10.911944     5.19\n3    4  10.886111     5.05\n4    5  10.860833     4.74\n5    6  10.835556     4.90\n6    7  10.810556     4.97\n7    8  10.786111     5.20",
      "text/html": "<div>\n<style scoped>\n    .dataframe tbody tr th:only-of-type {\n        vertical-align: middle;\n    }\n\n    .dataframe tbody tr th {\n        vertical-align: top;\n    }\n\n    .dataframe thead th {\n        text-align: right;\n    }\n</style>\n<table border=\"1\" class=\"dataframe\">\n  <thead>\n    <tr style=\"text-align: right;\">\n      <th></th>\n      <th>Day</th>\n      <th>Sunhour</th>\n      <th>uvIndex</th>\n    </tr>\n  </thead>\n  <tbody>\n    <tr>\n      <th>0</th>\n      <td>1</td>\n      <td>10.964444</td>\n      <td>5.49</td>\n    </tr>\n    <tr>\n      <th>1</th>\n      <td>2</td>\n      <td>10.938056</td>\n      <td>5.12</td>\n    </tr>\n    <tr>\n      <th>2</th>\n      <td>3</td>\n      <td>10.911944</td>\n      <td>5.19</td>\n    </tr>\n    <tr>\n      <th>3</th>\n      <td>4</td>\n      <td>10.886111</td>\n      <td>5.05</td>\n    </tr>\n    <tr>\n      <th>4</th>\n      <td>5</td>\n      <td>10.860833</td>\n      <td>4.74</td>\n    </tr>\n    <tr>\n      <th>5</th>\n      <td>6</td>\n      <td>10.835556</td>\n      <td>4.90</td>\n    </tr>\n    <tr>\n      <th>6</th>\n      <td>7</td>\n      <td>10.810556</td>\n      <td>4.97</td>\n    </tr>\n    <tr>\n      <th>7</th>\n      <td>8</td>\n      <td>10.786111</td>\n      <td>5.20</td>\n    </tr>\n  </tbody>\n</table>\n</div>"
     },
     "metadata": {},
     "execution_count": 35
    }
   ],
   "source": [
    "daily_weather_DF.drop(columns=[\"Date_Time\", \"Year\", \"Month\", \"Hour\"], axis=1, inplace=True)\n",
    "daily_weather_DF"
   ]
  },
  {
   "cell_type": "markdown",
   "metadata": {},
   "source": [
    "# Hourly Forecasted Weather Data:"
   ]
  },
  {
   "cell_type": "code",
   "execution_count": 36,
   "metadata": {},
   "outputs": [
    {
     "output_type": "execute_result",
     "data": {
      "text/plain": "     UTC_Time  Temperature_F Weather_Description  CloudCover_percent  \\\n0  1604268000          75.69          few clouds                  20   \n1  1604271600          73.47       broken clouds                  59   \n2  1604275200          68.47       broken clouds                  82   \n3  1604278800          63.86     overcast clouds                  92   \n4  1604282400          61.18     overcast clouds                  97   \n\n   Humidity_percent  \n0                34  \n1                40  \n2                46  \n3                52  \n4                54  ",
      "text/html": "<div>\n<style scoped>\n    .dataframe tbody tr th:only-of-type {\n        vertical-align: middle;\n    }\n\n    .dataframe tbody tr th {\n        vertical-align: top;\n    }\n\n    .dataframe thead th {\n        text-align: right;\n    }\n</style>\n<table border=\"1\" class=\"dataframe\">\n  <thead>\n    <tr style=\"text-align: right;\">\n      <th></th>\n      <th>UTC_Time</th>\n      <th>Temperature_F</th>\n      <th>Weather_Description</th>\n      <th>CloudCover_percent</th>\n      <th>Humidity_percent</th>\n    </tr>\n  </thead>\n  <tbody>\n    <tr>\n      <th>0</th>\n      <td>1604268000</td>\n      <td>75.69</td>\n      <td>few clouds</td>\n      <td>20</td>\n      <td>34</td>\n    </tr>\n    <tr>\n      <th>1</th>\n      <td>1604271600</td>\n      <td>73.47</td>\n      <td>broken clouds</td>\n      <td>59</td>\n      <td>40</td>\n    </tr>\n    <tr>\n      <th>2</th>\n      <td>1604275200</td>\n      <td>68.47</td>\n      <td>broken clouds</td>\n      <td>82</td>\n      <td>46</td>\n    </tr>\n    <tr>\n      <th>3</th>\n      <td>1604278800</td>\n      <td>63.86</td>\n      <td>overcast clouds</td>\n      <td>92</td>\n      <td>52</td>\n    </tr>\n    <tr>\n      <th>4</th>\n      <td>1604282400</td>\n      <td>61.18</td>\n      <td>overcast clouds</td>\n      <td>97</td>\n      <td>54</td>\n    </tr>\n  </tbody>\n</table>\n</div>"
     },
     "metadata": {},
     "execution_count": 36
    }
   ],
   "source": [
    "forecasted_hourly_weather = []\n",
    "\n",
    "for hour in np.arange(0, 48, 1):\n",
    "    forecasted_hourly_weather.append({\n",
    "        \"UTC_Time\": responseJson[\"hourly\"][hour][\"dt\"],\n",
    "        \"Temperature_F\": responseJson[\"hourly\"][hour][\"temp\"],\n",
    "        \"Weather_Description\": responseJson[\"hourly\"][hour][\"weather\"][0][\"description\"],\n",
    "        \"CloudCover_percent\": responseJson[\"hourly\"][hour][\"clouds\"],\n",
    "        \"Humidity_percent\": responseJson[\"hourly\"][hour][\"humidity\"]\n",
    "    })\n",
    "\n",
    "hourly_weather_DF = pd.DataFrame(forecasted_hourly_weather)\n",
    "hourly_weather_DF.head()"
   ]
  },
  {
   "cell_type": "code",
   "execution_count": 37,
   "metadata": {},
   "outputs": [
    {
     "output_type": "execute_result",
     "data": {
      "text/plain": "     UTC_Time            Date_Time  Year  Month  Day  Hour\n0  1604268000  2020-11-01 16:00:00  2020     11    1    16\n1  1604271600  2020-11-01 17:00:00  2020     11    1    17\n2  1604275200  2020-11-01 18:00:00  2020     11    1    18\n3  1604278800  2020-11-01 19:00:00  2020     11    1    19\n4  1604282400  2020-11-01 20:00:00  2020     11    1    20",
      "text/html": "<div>\n<style scoped>\n    .dataframe tbody tr th:only-of-type {\n        vertical-align: middle;\n    }\n\n    .dataframe tbody tr th {\n        vertical-align: top;\n    }\n\n    .dataframe thead th {\n        text-align: right;\n    }\n</style>\n<table border=\"1\" class=\"dataframe\">\n  <thead>\n    <tr style=\"text-align: right;\">\n      <th></th>\n      <th>UTC_Time</th>\n      <th>Date_Time</th>\n      <th>Year</th>\n      <th>Month</th>\n      <th>Day</th>\n      <th>Hour</th>\n    </tr>\n  </thead>\n  <tbody>\n    <tr>\n      <th>0</th>\n      <td>1604268000</td>\n      <td>2020-11-01 16:00:00</td>\n      <td>2020</td>\n      <td>11</td>\n      <td>1</td>\n      <td>16</td>\n    </tr>\n    <tr>\n      <th>1</th>\n      <td>1604271600</td>\n      <td>2020-11-01 17:00:00</td>\n      <td>2020</td>\n      <td>11</td>\n      <td>1</td>\n      <td>17</td>\n    </tr>\n    <tr>\n      <th>2</th>\n      <td>1604275200</td>\n      <td>2020-11-01 18:00:00</td>\n      <td>2020</td>\n      <td>11</td>\n      <td>1</td>\n      <td>18</td>\n    </tr>\n    <tr>\n      <th>3</th>\n      <td>1604278800</td>\n      <td>2020-11-01 19:00:00</td>\n      <td>2020</td>\n      <td>11</td>\n      <td>1</td>\n      <td>19</td>\n    </tr>\n    <tr>\n      <th>4</th>\n      <td>1604282400</td>\n      <td>2020-11-01 20:00:00</td>\n      <td>2020</td>\n      <td>11</td>\n      <td>1</td>\n      <td>20</td>\n    </tr>\n  </tbody>\n</table>\n</div>"
     },
     "metadata": {},
     "execution_count": 37
    }
   ],
   "source": [
    "hourly_index = np.arange(0,48,1)\n",
    "\n",
    "hourly_UTC_date_time = hourly_weather_DF[\"UTC_Time\"]\n",
    "\n",
    "hourly_date_time_DF = convert_DateTime_UTC_to_CST(hourly_UTC_date_time, hourly_index)\n",
    "\n",
    "hourly_date_time_DF.head()"
   ]
  },
  {
   "cell_type": "code",
   "execution_count": 38,
   "metadata": {},
   "outputs": [
    {
     "output_type": "execute_result",
     "data": {
      "text/plain": "            Date_Time  Year  Month  Day  Hour  Temperature_F  \\\n0 2020-11-01 16:00:00  2020     11    1    16          75.69   \n1 2020-11-01 17:00:00  2020     11    1    17          73.47   \n2 2020-11-01 18:00:00  2020     11    1    18          68.47   \n3 2020-11-01 19:00:00  2020     11    1    19          63.86   \n4 2020-11-01 20:00:00  2020     11    1    20          61.18   \n\n   Humidity_percent  CloudCover_percent Weather_Description  \n0                34                  20          few clouds  \n1                40                  59       broken clouds  \n2                46                  82       broken clouds  \n3                52                  92     overcast clouds  \n4                54                  97     overcast clouds  ",
      "text/html": "<div>\n<style scoped>\n    .dataframe tbody tr th:only-of-type {\n        vertical-align: middle;\n    }\n\n    .dataframe tbody tr th {\n        vertical-align: top;\n    }\n\n    .dataframe thead th {\n        text-align: right;\n    }\n</style>\n<table border=\"1\" class=\"dataframe\">\n  <thead>\n    <tr style=\"text-align: right;\">\n      <th></th>\n      <th>Date_Time</th>\n      <th>Year</th>\n      <th>Month</th>\n      <th>Day</th>\n      <th>Hour</th>\n      <th>Temperature_F</th>\n      <th>Humidity_percent</th>\n      <th>CloudCover_percent</th>\n      <th>Weather_Description</th>\n    </tr>\n  </thead>\n  <tbody>\n    <tr>\n      <th>0</th>\n      <td>2020-11-01 16:00:00</td>\n      <td>2020</td>\n      <td>11</td>\n      <td>1</td>\n      <td>16</td>\n      <td>75.69</td>\n      <td>34</td>\n      <td>20</td>\n      <td>few clouds</td>\n    </tr>\n    <tr>\n      <th>1</th>\n      <td>2020-11-01 17:00:00</td>\n      <td>2020</td>\n      <td>11</td>\n      <td>1</td>\n      <td>17</td>\n      <td>73.47</td>\n      <td>40</td>\n      <td>59</td>\n      <td>broken clouds</td>\n    </tr>\n    <tr>\n      <th>2</th>\n      <td>2020-11-01 18:00:00</td>\n      <td>2020</td>\n      <td>11</td>\n      <td>1</td>\n      <td>18</td>\n      <td>68.47</td>\n      <td>46</td>\n      <td>82</td>\n      <td>broken clouds</td>\n    </tr>\n    <tr>\n      <th>3</th>\n      <td>2020-11-01 19:00:00</td>\n      <td>2020</td>\n      <td>11</td>\n      <td>1</td>\n      <td>19</td>\n      <td>63.86</td>\n      <td>52</td>\n      <td>92</td>\n      <td>overcast clouds</td>\n    </tr>\n    <tr>\n      <th>4</th>\n      <td>2020-11-01 20:00:00</td>\n      <td>2020</td>\n      <td>11</td>\n      <td>1</td>\n      <td>20</td>\n      <td>61.18</td>\n      <td>54</td>\n      <td>97</td>\n      <td>overcast clouds</td>\n    </tr>\n  </tbody>\n</table>\n</div>"
     },
     "metadata": {},
     "execution_count": 38
    }
   ],
   "source": [
    "hourly_weather_DF = pd.merge(hourly_weather_DF, hourly_date_time_DF, on='UTC_Time', how='outer')\n",
    "hourly_weather_DF.drop(columns=[\"UTC_Time\"], axis=1, inplace=True)\n",
    "hourly_weather_DF[\"Date_Time\"] = pd.to_datetime(hourly_weather_DF[\"Date_Time\"])\n",
    "hourly_weather_DF = hourly_weather_DF[[\"Date_Time\", \"Year\", \"Month\", \"Day\", \"Hour\", \"Temperature_F\", \"Humidity_percent\", \"CloudCover_percent\", \"Weather_Description\"]]\n",
    "hourly_weather_DF.head()"
   ]
  },
  {
   "cell_type": "code",
   "execution_count": 39,
   "metadata": {},
   "outputs": [
    {
     "output_type": "execute_result",
     "data": {
      "text/plain": "Date_Time              datetime64[ns]\nYear                            int64\nMonth                           int64\nDay                             int64\nHour                            int64\nTemperature_F                 float64\nHumidity_percent                int64\nCloudCover_percent              int64\nWeather_Description            object\ndtype: object"
     },
     "metadata": {},
     "execution_count": 39
    }
   ],
   "source": [
    "# Check the data types\n",
    "hourly_weather_DF.dtypes"
   ]
  },
  {
   "cell_type": "markdown",
   "metadata": {},
   "source": [
    "# Merge the Daily and Hourly Forecasted Weather DataFrames:"
   ]
  },
  {
   "cell_type": "code",
   "execution_count": 40,
   "metadata": {},
   "outputs": [
    {
     "output_type": "execute_result",
     "data": {
      "text/plain": "             Date_Time  Year  Month  Day  Hour  Temperature_F  \\\n0  2020-11-01 16:00:00  2020     11    1    16          75.69   \n1  2020-11-01 17:00:00  2020     11    1    17          73.47   \n2  2020-11-01 18:00:00  2020     11    1    18          68.47   \n3  2020-11-01 19:00:00  2020     11    1    19          63.86   \n4  2020-11-01 20:00:00  2020     11    1    20          61.18   \n5  2020-11-01 21:00:00  2020     11    1    21          59.86   \n6  2020-11-01 22:00:00  2020     11    1    22          58.77   \n7  2020-11-01 23:00:00  2020     11    1    23          57.16   \n8  2020-11-02 00:00:00  2020     11    2     0          55.11   \n9  2020-11-02 01:00:00  2020     11    2     1          53.47   \n10 2020-11-02 02:00:00  2020     11    2     2          51.96   \n11 2020-11-02 03:00:00  2020     11    2     3          50.74   \n12 2020-11-02 04:00:00  2020     11    2     4          49.59   \n13 2020-11-02 05:00:00  2020     11    2     5          48.52   \n14 2020-11-02 06:00:00  2020     11    2     6          47.64   \n15 2020-11-02 07:00:00  2020     11    2     7          47.21   \n16 2020-11-02 08:00:00  2020     11    2     8          50.83   \n17 2020-11-02 09:00:00  2020     11    2     9          56.35   \n18 2020-11-02 10:00:00  2020     11    2    10          60.84   \n19 2020-11-02 11:00:00  2020     11    2    11          64.99   \n20 2020-11-02 12:00:00  2020     11    2    12          68.88   \n21 2020-11-02 13:00:00  2020     11    2    13          71.29   \n22 2020-11-02 14:00:00  2020     11    2    14          72.46   \n23 2020-11-02 15:00:00  2020     11    2    15          72.48   \n24 2020-11-02 16:00:00  2020     11    2    16          71.53   \n25 2020-11-02 17:00:00  2020     11    2    17          67.46   \n26 2020-11-02 18:00:00  2020     11    2    18          60.08   \n27 2020-11-02 19:00:00  2020     11    2    19          57.22   \n28 2020-11-02 20:00:00  2020     11    2    20          55.44   \n29 2020-11-02 21:00:00  2020     11    2    21          54.46   \n30 2020-11-02 22:00:00  2020     11    2    22          53.60   \n31 2020-11-02 23:00:00  2020     11    2    23          52.77   \n32 2020-11-03 00:00:00  2020     11    3     0          52.18   \n33 2020-11-03 01:00:00  2020     11    3     1          51.82   \n34 2020-11-03 02:00:00  2020     11    3     2          51.12   \n35 2020-11-03 03:00:00  2020     11    3     3          50.41   \n36 2020-11-03 04:00:00  2020     11    3     4          50.00   \n37 2020-11-03 05:00:00  2020     11    3     5          49.86   \n38 2020-11-03 06:00:00  2020     11    3     6          49.12   \n39 2020-11-03 07:00:00  2020     11    3     7          48.99   \n40 2020-11-03 08:00:00  2020     11    3     8          53.40   \n41 2020-11-03 09:00:00  2020     11    3     9          59.54   \n42 2020-11-03 10:00:00  2020     11    3    10          64.80   \n43 2020-11-03 11:00:00  2020     11    3    11          68.72   \n44 2020-11-03 12:00:00  2020     11    3    12          72.46   \n45 2020-11-03 13:00:00  2020     11    3    13          74.70   \n46 2020-11-03 14:00:00  2020     11    3    14          75.74   \n47 2020-11-03 15:00:00  2020     11    3    15          75.90   \n\n    Humidity_percent    Sunhour  CloudCover_percent  uvIndex  \\\n0                 34  10.964444                  20     5.49   \n1                 40  10.964444                  59     5.49   \n2                 46  10.964444                  82     5.49   \n3                 52  10.964444                  92     5.49   \n4                 54  10.964444                  97     5.49   \n5                 51  10.964444                  98     5.49   \n6                 50  10.964444                  98     5.49   \n7                 51  10.964444                  98     5.49   \n8                 54  10.938056                  99     5.12   \n9                 56  10.938056                  90     5.12   \n10                58  10.938056                  71     5.12   \n11                58  10.938056                  48     5.12   \n12                59  10.938056                  41     5.12   \n13                60  10.938056                  42     5.12   \n14                61  10.938056                  43     5.12   \n15                62  10.938056                  72     5.12   \n16                55  10.938056                  70     5.12   \n17                43  10.938056                  47     5.12   \n18                34  10.938056                  36     5.12   \n19                28  10.938056                  29     5.12   \n20                24  10.938056                  24     5.12   \n21                22  10.938056                   0     5.12   \n22                21  10.938056                   0     5.12   \n23                21  10.938056                   0     5.12   \n24                22  10.938056                   0     5.12   \n25                29  10.938056                   0     5.12   \n26                41  10.938056                   0     5.12   \n27                48  10.938056                   0     5.12   \n28                51  10.938056                   0     5.12   \n29                51  10.938056                   0     5.12   \n30                52  10.938056                   0     5.12   \n31                53  10.938056                   0     5.12   \n32                55  10.911944                   0     5.19   \n33                56  10.911944                 100     5.19   \n34                58  10.911944                 100     5.19   \n35                59  10.911944                  89     5.19   \n36                59  10.911944                  91     5.19   \n37                58  10.911944                  92     5.19   \n38                59  10.911944                  84     5.19   \n39                59  10.911944                  29     5.19   \n40                51  10.911944                  15     5.19   \n41                40  10.911944                  10     5.19   \n42                33  10.911944                   8     5.19   \n43                30  10.911944                  25     5.19   \n44                26  10.911944                  35     5.19   \n45                24  10.911944                  96     5.19   \n46                24  10.911944                  97     5.19   \n47                25  10.911944                  75     5.19   \n\n   Weather_Description  \n0           few clouds  \n1        broken clouds  \n2        broken clouds  \n3      overcast clouds  \n4      overcast clouds  \n5      overcast clouds  \n6      overcast clouds  \n7      overcast clouds  \n8      overcast clouds  \n9      overcast clouds  \n10       broken clouds  \n11    scattered clouds  \n12    scattered clouds  \n13    scattered clouds  \n14    scattered clouds  \n15       broken clouds  \n16       broken clouds  \n17    scattered clouds  \n18    scattered clouds  \n19    scattered clouds  \n20          few clouds  \n21           clear sky  \n22           clear sky  \n23           clear sky  \n24           clear sky  \n25           clear sky  \n26           clear sky  \n27           clear sky  \n28           clear sky  \n29           clear sky  \n30           clear sky  \n31           clear sky  \n32           clear sky  \n33     overcast clouds  \n34     overcast clouds  \n35     overcast clouds  \n36     overcast clouds  \n37     overcast clouds  \n38       broken clouds  \n39    scattered clouds  \n40          few clouds  \n41           clear sky  \n42           clear sky  \n43    scattered clouds  \n44    scattered clouds  \n45     overcast clouds  \n46     overcast clouds  \n47       broken clouds  ",
      "text/html": "<div>\n<style scoped>\n    .dataframe tbody tr th:only-of-type {\n        vertical-align: middle;\n    }\n\n    .dataframe tbody tr th {\n        vertical-align: top;\n    }\n\n    .dataframe thead th {\n        text-align: right;\n    }\n</style>\n<table border=\"1\" class=\"dataframe\">\n  <thead>\n    <tr style=\"text-align: right;\">\n      <th></th>\n      <th>Date_Time</th>\n      <th>Year</th>\n      <th>Month</th>\n      <th>Day</th>\n      <th>Hour</th>\n      <th>Temperature_F</th>\n      <th>Humidity_percent</th>\n      <th>Sunhour</th>\n      <th>CloudCover_percent</th>\n      <th>uvIndex</th>\n      <th>Weather_Description</th>\n    </tr>\n  </thead>\n  <tbody>\n    <tr>\n      <th>0</th>\n      <td>2020-11-01 16:00:00</td>\n      <td>2020</td>\n      <td>11</td>\n      <td>1</td>\n      <td>16</td>\n      <td>75.69</td>\n      <td>34</td>\n      <td>10.964444</td>\n      <td>20</td>\n      <td>5.49</td>\n      <td>few clouds</td>\n    </tr>\n    <tr>\n      <th>1</th>\n      <td>2020-11-01 17:00:00</td>\n      <td>2020</td>\n      <td>11</td>\n      <td>1</td>\n      <td>17</td>\n      <td>73.47</td>\n      <td>40</td>\n      <td>10.964444</td>\n      <td>59</td>\n      <td>5.49</td>\n      <td>broken clouds</td>\n    </tr>\n    <tr>\n      <th>2</th>\n      <td>2020-11-01 18:00:00</td>\n      <td>2020</td>\n      <td>11</td>\n      <td>1</td>\n      <td>18</td>\n      <td>68.47</td>\n      <td>46</td>\n      <td>10.964444</td>\n      <td>82</td>\n      <td>5.49</td>\n      <td>broken clouds</td>\n    </tr>\n    <tr>\n      <th>3</th>\n      <td>2020-11-01 19:00:00</td>\n      <td>2020</td>\n      <td>11</td>\n      <td>1</td>\n      <td>19</td>\n      <td>63.86</td>\n      <td>52</td>\n      <td>10.964444</td>\n      <td>92</td>\n      <td>5.49</td>\n      <td>overcast clouds</td>\n    </tr>\n    <tr>\n      <th>4</th>\n      <td>2020-11-01 20:00:00</td>\n      <td>2020</td>\n      <td>11</td>\n      <td>1</td>\n      <td>20</td>\n      <td>61.18</td>\n      <td>54</td>\n      <td>10.964444</td>\n      <td>97</td>\n      <td>5.49</td>\n      <td>overcast clouds</td>\n    </tr>\n    <tr>\n      <th>5</th>\n      <td>2020-11-01 21:00:00</td>\n      <td>2020</td>\n      <td>11</td>\n      <td>1</td>\n      <td>21</td>\n      <td>59.86</td>\n      <td>51</td>\n      <td>10.964444</td>\n      <td>98</td>\n      <td>5.49</td>\n      <td>overcast clouds</td>\n    </tr>\n    <tr>\n      <th>6</th>\n      <td>2020-11-01 22:00:00</td>\n      <td>2020</td>\n      <td>11</td>\n      <td>1</td>\n      <td>22</td>\n      <td>58.77</td>\n      <td>50</td>\n      <td>10.964444</td>\n      <td>98</td>\n      <td>5.49</td>\n      <td>overcast clouds</td>\n    </tr>\n    <tr>\n      <th>7</th>\n      <td>2020-11-01 23:00:00</td>\n      <td>2020</td>\n      <td>11</td>\n      <td>1</td>\n      <td>23</td>\n      <td>57.16</td>\n      <td>51</td>\n      <td>10.964444</td>\n      <td>98</td>\n      <td>5.49</td>\n      <td>overcast clouds</td>\n    </tr>\n    <tr>\n      <th>8</th>\n      <td>2020-11-02 00:00:00</td>\n      <td>2020</td>\n      <td>11</td>\n      <td>2</td>\n      <td>0</td>\n      <td>55.11</td>\n      <td>54</td>\n      <td>10.938056</td>\n      <td>99</td>\n      <td>5.12</td>\n      <td>overcast clouds</td>\n    </tr>\n    <tr>\n      <th>9</th>\n      <td>2020-11-02 01:00:00</td>\n      <td>2020</td>\n      <td>11</td>\n      <td>2</td>\n      <td>1</td>\n      <td>53.47</td>\n      <td>56</td>\n      <td>10.938056</td>\n      <td>90</td>\n      <td>5.12</td>\n      <td>overcast clouds</td>\n    </tr>\n    <tr>\n      <th>10</th>\n      <td>2020-11-02 02:00:00</td>\n      <td>2020</td>\n      <td>11</td>\n      <td>2</td>\n      <td>2</td>\n      <td>51.96</td>\n      <td>58</td>\n      <td>10.938056</td>\n      <td>71</td>\n      <td>5.12</td>\n      <td>broken clouds</td>\n    </tr>\n    <tr>\n      <th>11</th>\n      <td>2020-11-02 03:00:00</td>\n      <td>2020</td>\n      <td>11</td>\n      <td>2</td>\n      <td>3</td>\n      <td>50.74</td>\n      <td>58</td>\n      <td>10.938056</td>\n      <td>48</td>\n      <td>5.12</td>\n      <td>scattered clouds</td>\n    </tr>\n    <tr>\n      <th>12</th>\n      <td>2020-11-02 04:00:00</td>\n      <td>2020</td>\n      <td>11</td>\n      <td>2</td>\n      <td>4</td>\n      <td>49.59</td>\n      <td>59</td>\n      <td>10.938056</td>\n      <td>41</td>\n      <td>5.12</td>\n      <td>scattered clouds</td>\n    </tr>\n    <tr>\n      <th>13</th>\n      <td>2020-11-02 05:00:00</td>\n      <td>2020</td>\n      <td>11</td>\n      <td>2</td>\n      <td>5</td>\n      <td>48.52</td>\n      <td>60</td>\n      <td>10.938056</td>\n      <td>42</td>\n      <td>5.12</td>\n      <td>scattered clouds</td>\n    </tr>\n    <tr>\n      <th>14</th>\n      <td>2020-11-02 06:00:00</td>\n      <td>2020</td>\n      <td>11</td>\n      <td>2</td>\n      <td>6</td>\n      <td>47.64</td>\n      <td>61</td>\n      <td>10.938056</td>\n      <td>43</td>\n      <td>5.12</td>\n      <td>scattered clouds</td>\n    </tr>\n    <tr>\n      <th>15</th>\n      <td>2020-11-02 07:00:00</td>\n      <td>2020</td>\n      <td>11</td>\n      <td>2</td>\n      <td>7</td>\n      <td>47.21</td>\n      <td>62</td>\n      <td>10.938056</td>\n      <td>72</td>\n      <td>5.12</td>\n      <td>broken clouds</td>\n    </tr>\n    <tr>\n      <th>16</th>\n      <td>2020-11-02 08:00:00</td>\n      <td>2020</td>\n      <td>11</td>\n      <td>2</td>\n      <td>8</td>\n      <td>50.83</td>\n      <td>55</td>\n      <td>10.938056</td>\n      <td>70</td>\n      <td>5.12</td>\n      <td>broken clouds</td>\n    </tr>\n    <tr>\n      <th>17</th>\n      <td>2020-11-02 09:00:00</td>\n      <td>2020</td>\n      <td>11</td>\n      <td>2</td>\n      <td>9</td>\n      <td>56.35</td>\n      <td>43</td>\n      <td>10.938056</td>\n      <td>47</td>\n      <td>5.12</td>\n      <td>scattered clouds</td>\n    </tr>\n    <tr>\n      <th>18</th>\n      <td>2020-11-02 10:00:00</td>\n      <td>2020</td>\n      <td>11</td>\n      <td>2</td>\n      <td>10</td>\n      <td>60.84</td>\n      <td>34</td>\n      <td>10.938056</td>\n      <td>36</td>\n      <td>5.12</td>\n      <td>scattered clouds</td>\n    </tr>\n    <tr>\n      <th>19</th>\n      <td>2020-11-02 11:00:00</td>\n      <td>2020</td>\n      <td>11</td>\n      <td>2</td>\n      <td>11</td>\n      <td>64.99</td>\n      <td>28</td>\n      <td>10.938056</td>\n      <td>29</td>\n      <td>5.12</td>\n      <td>scattered clouds</td>\n    </tr>\n    <tr>\n      <th>20</th>\n      <td>2020-11-02 12:00:00</td>\n      <td>2020</td>\n      <td>11</td>\n      <td>2</td>\n      <td>12</td>\n      <td>68.88</td>\n      <td>24</td>\n      <td>10.938056</td>\n      <td>24</td>\n      <td>5.12</td>\n      <td>few clouds</td>\n    </tr>\n    <tr>\n      <th>21</th>\n      <td>2020-11-02 13:00:00</td>\n      <td>2020</td>\n      <td>11</td>\n      <td>2</td>\n      <td>13</td>\n      <td>71.29</td>\n      <td>22</td>\n      <td>10.938056</td>\n      <td>0</td>\n      <td>5.12</td>\n      <td>clear sky</td>\n    </tr>\n    <tr>\n      <th>22</th>\n      <td>2020-11-02 14:00:00</td>\n      <td>2020</td>\n      <td>11</td>\n      <td>2</td>\n      <td>14</td>\n      <td>72.46</td>\n      <td>21</td>\n      <td>10.938056</td>\n      <td>0</td>\n      <td>5.12</td>\n      <td>clear sky</td>\n    </tr>\n    <tr>\n      <th>23</th>\n      <td>2020-11-02 15:00:00</td>\n      <td>2020</td>\n      <td>11</td>\n      <td>2</td>\n      <td>15</td>\n      <td>72.48</td>\n      <td>21</td>\n      <td>10.938056</td>\n      <td>0</td>\n      <td>5.12</td>\n      <td>clear sky</td>\n    </tr>\n    <tr>\n      <th>24</th>\n      <td>2020-11-02 16:00:00</td>\n      <td>2020</td>\n      <td>11</td>\n      <td>2</td>\n      <td>16</td>\n      <td>71.53</td>\n      <td>22</td>\n      <td>10.938056</td>\n      <td>0</td>\n      <td>5.12</td>\n      <td>clear sky</td>\n    </tr>\n    <tr>\n      <th>25</th>\n      <td>2020-11-02 17:00:00</td>\n      <td>2020</td>\n      <td>11</td>\n      <td>2</td>\n      <td>17</td>\n      <td>67.46</td>\n      <td>29</td>\n      <td>10.938056</td>\n      <td>0</td>\n      <td>5.12</td>\n      <td>clear sky</td>\n    </tr>\n    <tr>\n      <th>26</th>\n      <td>2020-11-02 18:00:00</td>\n      <td>2020</td>\n      <td>11</td>\n      <td>2</td>\n      <td>18</td>\n      <td>60.08</td>\n      <td>41</td>\n      <td>10.938056</td>\n      <td>0</td>\n      <td>5.12</td>\n      <td>clear sky</td>\n    </tr>\n    <tr>\n      <th>27</th>\n      <td>2020-11-02 19:00:00</td>\n      <td>2020</td>\n      <td>11</td>\n      <td>2</td>\n      <td>19</td>\n      <td>57.22</td>\n      <td>48</td>\n      <td>10.938056</td>\n      <td>0</td>\n      <td>5.12</td>\n      <td>clear sky</td>\n    </tr>\n    <tr>\n      <th>28</th>\n      <td>2020-11-02 20:00:00</td>\n      <td>2020</td>\n      <td>11</td>\n      <td>2</td>\n      <td>20</td>\n      <td>55.44</td>\n      <td>51</td>\n      <td>10.938056</td>\n      <td>0</td>\n      <td>5.12</td>\n      <td>clear sky</td>\n    </tr>\n    <tr>\n      <th>29</th>\n      <td>2020-11-02 21:00:00</td>\n      <td>2020</td>\n      <td>11</td>\n      <td>2</td>\n      <td>21</td>\n      <td>54.46</td>\n      <td>51</td>\n      <td>10.938056</td>\n      <td>0</td>\n      <td>5.12</td>\n      <td>clear sky</td>\n    </tr>\n    <tr>\n      <th>30</th>\n      <td>2020-11-02 22:00:00</td>\n      <td>2020</td>\n      <td>11</td>\n      <td>2</td>\n      <td>22</td>\n      <td>53.60</td>\n      <td>52</td>\n      <td>10.938056</td>\n      <td>0</td>\n      <td>5.12</td>\n      <td>clear sky</td>\n    </tr>\n    <tr>\n      <th>31</th>\n      <td>2020-11-02 23:00:00</td>\n      <td>2020</td>\n      <td>11</td>\n      <td>2</td>\n      <td>23</td>\n      <td>52.77</td>\n      <td>53</td>\n      <td>10.938056</td>\n      <td>0</td>\n      <td>5.12</td>\n      <td>clear sky</td>\n    </tr>\n    <tr>\n      <th>32</th>\n      <td>2020-11-03 00:00:00</td>\n      <td>2020</td>\n      <td>11</td>\n      <td>3</td>\n      <td>0</td>\n      <td>52.18</td>\n      <td>55</td>\n      <td>10.911944</td>\n      <td>0</td>\n      <td>5.19</td>\n      <td>clear sky</td>\n    </tr>\n    <tr>\n      <th>33</th>\n      <td>2020-11-03 01:00:00</td>\n      <td>2020</td>\n      <td>11</td>\n      <td>3</td>\n      <td>1</td>\n      <td>51.82</td>\n      <td>56</td>\n      <td>10.911944</td>\n      <td>100</td>\n      <td>5.19</td>\n      <td>overcast clouds</td>\n    </tr>\n    <tr>\n      <th>34</th>\n      <td>2020-11-03 02:00:00</td>\n      <td>2020</td>\n      <td>11</td>\n      <td>3</td>\n      <td>2</td>\n      <td>51.12</td>\n      <td>58</td>\n      <td>10.911944</td>\n      <td>100</td>\n      <td>5.19</td>\n      <td>overcast clouds</td>\n    </tr>\n    <tr>\n      <th>35</th>\n      <td>2020-11-03 03:00:00</td>\n      <td>2020</td>\n      <td>11</td>\n      <td>3</td>\n      <td>3</td>\n      <td>50.41</td>\n      <td>59</td>\n      <td>10.911944</td>\n      <td>89</td>\n      <td>5.19</td>\n      <td>overcast clouds</td>\n    </tr>\n    <tr>\n      <th>36</th>\n      <td>2020-11-03 04:00:00</td>\n      <td>2020</td>\n      <td>11</td>\n      <td>3</td>\n      <td>4</td>\n      <td>50.00</td>\n      <td>59</td>\n      <td>10.911944</td>\n      <td>91</td>\n      <td>5.19</td>\n      <td>overcast clouds</td>\n    </tr>\n    <tr>\n      <th>37</th>\n      <td>2020-11-03 05:00:00</td>\n      <td>2020</td>\n      <td>11</td>\n      <td>3</td>\n      <td>5</td>\n      <td>49.86</td>\n      <td>58</td>\n      <td>10.911944</td>\n      <td>92</td>\n      <td>5.19</td>\n      <td>overcast clouds</td>\n    </tr>\n    <tr>\n      <th>38</th>\n      <td>2020-11-03 06:00:00</td>\n      <td>2020</td>\n      <td>11</td>\n      <td>3</td>\n      <td>6</td>\n      <td>49.12</td>\n      <td>59</td>\n      <td>10.911944</td>\n      <td>84</td>\n      <td>5.19</td>\n      <td>broken clouds</td>\n    </tr>\n    <tr>\n      <th>39</th>\n      <td>2020-11-03 07:00:00</td>\n      <td>2020</td>\n      <td>11</td>\n      <td>3</td>\n      <td>7</td>\n      <td>48.99</td>\n      <td>59</td>\n      <td>10.911944</td>\n      <td>29</td>\n      <td>5.19</td>\n      <td>scattered clouds</td>\n    </tr>\n    <tr>\n      <th>40</th>\n      <td>2020-11-03 08:00:00</td>\n      <td>2020</td>\n      <td>11</td>\n      <td>3</td>\n      <td>8</td>\n      <td>53.40</td>\n      <td>51</td>\n      <td>10.911944</td>\n      <td>15</td>\n      <td>5.19</td>\n      <td>few clouds</td>\n    </tr>\n    <tr>\n      <th>41</th>\n      <td>2020-11-03 09:00:00</td>\n      <td>2020</td>\n      <td>11</td>\n      <td>3</td>\n      <td>9</td>\n      <td>59.54</td>\n      <td>40</td>\n      <td>10.911944</td>\n      <td>10</td>\n      <td>5.19</td>\n      <td>clear sky</td>\n    </tr>\n    <tr>\n      <th>42</th>\n      <td>2020-11-03 10:00:00</td>\n      <td>2020</td>\n      <td>11</td>\n      <td>3</td>\n      <td>10</td>\n      <td>64.80</td>\n      <td>33</td>\n      <td>10.911944</td>\n      <td>8</td>\n      <td>5.19</td>\n      <td>clear sky</td>\n    </tr>\n    <tr>\n      <th>43</th>\n      <td>2020-11-03 11:00:00</td>\n      <td>2020</td>\n      <td>11</td>\n      <td>3</td>\n      <td>11</td>\n      <td>68.72</td>\n      <td>30</td>\n      <td>10.911944</td>\n      <td>25</td>\n      <td>5.19</td>\n      <td>scattered clouds</td>\n    </tr>\n    <tr>\n      <th>44</th>\n      <td>2020-11-03 12:00:00</td>\n      <td>2020</td>\n      <td>11</td>\n      <td>3</td>\n      <td>12</td>\n      <td>72.46</td>\n      <td>26</td>\n      <td>10.911944</td>\n      <td>35</td>\n      <td>5.19</td>\n      <td>scattered clouds</td>\n    </tr>\n    <tr>\n      <th>45</th>\n      <td>2020-11-03 13:00:00</td>\n      <td>2020</td>\n      <td>11</td>\n      <td>3</td>\n      <td>13</td>\n      <td>74.70</td>\n      <td>24</td>\n      <td>10.911944</td>\n      <td>96</td>\n      <td>5.19</td>\n      <td>overcast clouds</td>\n    </tr>\n    <tr>\n      <th>46</th>\n      <td>2020-11-03 14:00:00</td>\n      <td>2020</td>\n      <td>11</td>\n      <td>3</td>\n      <td>14</td>\n      <td>75.74</td>\n      <td>24</td>\n      <td>10.911944</td>\n      <td>97</td>\n      <td>5.19</td>\n      <td>overcast clouds</td>\n    </tr>\n    <tr>\n      <th>47</th>\n      <td>2020-11-03 15:00:00</td>\n      <td>2020</td>\n      <td>11</td>\n      <td>3</td>\n      <td>15</td>\n      <td>75.90</td>\n      <td>25</td>\n      <td>10.911944</td>\n      <td>75</td>\n      <td>5.19</td>\n      <td>broken clouds</td>\n    </tr>\n  </tbody>\n</table>\n</div>"
     },
     "metadata": {},
     "execution_count": 40
    }
   ],
   "source": [
    "forecasted_weather_DF = pd.merge(hourly_weather_DF, daily_weather_DF, on='Day', how='inner')\n",
    "forecasted_weather_DF = forecasted_weather_DF[[\"Date_Time\", \"Year\", \"Month\", \"Day\", \"Hour\", \"Temperature_F\", \"Humidity_percent\", \"Sunhour\", \"CloudCover_percent\", \"uvIndex\", \"Weather_Description\"]]\n",
    "\n",
    "forecasted_weather_DF"
   ]
  },
  {
   "cell_type": "code",
   "execution_count": 41,
   "metadata": {},
   "outputs": [
    {
     "output_type": "execute_result",
     "data": {
      "text/plain": "Date_Time              datetime64[ns]\nYear                            int64\nMonth                           int64\nDay                             int64\nHour                            int64\nTemperature_F                 float64\nHumidity_percent                int64\nSunhour                       float64\nCloudCover_percent              int64\nuvIndex                       float64\nWeather_Description            object\ndtype: object"
     },
     "metadata": {},
     "execution_count": 41
    }
   ],
   "source": [
    "forecasted_weather_DF.dtypes"
   ]
  },
  {
   "cell_type": "markdown",
   "metadata": {},
   "source": [
    "# Hackberry Wind Farm\n",
    "# -------------------"
   ]
  },
  {
   "cell_type": "code",
   "execution_count": 42,
   "metadata": {
    "tags": []
   },
   "outputs": [],
   "source": [
    "# Geographical coordinates (latitude, longitude)\n",
    "lat = \"32.776111\"\n",
    "lon = \"-99.476444\"\n",
    "\n",
    "# Exclude some parts of the weather data from the API response\n",
    "    # It should be a comma-delimited list (without spaces)\n",
    "    # Options: current,minutely,hourly,daily,alerts\n",
    "part = \"minutely,alerts\"\n",
    "\n",
    "# Define the Units of measurement\n",
    "    # Options: stadnard,metric,imperial\n",
    "units = \"imperial\"\n",
    "\n",
    "# Make a request to openweathermap\n",
    "requestURL = f\"https://api.openweathermap.org/data/2.5/onecall?lat={lat}&lon={lon}&exclude={part}&units={units}&appid={weather_api_key}\"\n",
    "\n",
    "# print(requestURL)"
   ]
  },
  {
   "cell_type": "code",
   "execution_count": 43,
   "metadata": {
    "tags": []
   },
   "outputs": [
    {
     "output_type": "stream",
     "name": "stdout",
     "text": "Successfully turned response into JSON object.\n"
    }
   ],
   "source": [
    "response = requests.get(requestURL)\n",
    "\n",
    "if response.status_code == 200:\n",
    "    # Turn the response into a JSON object\n",
    "    responseJson = response.json()\n",
    "    print(\"Successfully turned response into JSON object.\")\n",
    "else:\n",
    "    # Else, print the Error status code\n",
    "    print(\"The Error Status Code is:\") \n",
    "    print(response.status_code)"
   ]
  },
  {
   "cell_type": "markdown",
   "metadata": {},
   "source": [
    "# Current Weather"
   ]
  },
  {
   "cell_type": "code",
   "execution_count": 44,
   "metadata": {
    "tags": []
   },
   "outputs": [
    {
     "output_type": "execute_result",
     "data": {
      "text/plain": "     UTC_Time            Date_Time  Year  Month  Day  Hour\n0  1604269856  2020-11-01 16:30:56  2020     11    1    16",
      "text/html": "<div>\n<style scoped>\n    .dataframe tbody tr th:only-of-type {\n        vertical-align: middle;\n    }\n\n    .dataframe tbody tr th {\n        vertical-align: top;\n    }\n\n    .dataframe thead th {\n        text-align: right;\n    }\n</style>\n<table border=\"1\" class=\"dataframe\">\n  <thead>\n    <tr style=\"text-align: right;\">\n      <th></th>\n      <th>UTC_Time</th>\n      <th>Date_Time</th>\n      <th>Year</th>\n      <th>Month</th>\n      <th>Day</th>\n      <th>Hour</th>\n    </tr>\n  </thead>\n  <tbody>\n    <tr>\n      <th>0</th>\n      <td>1604269856</td>\n      <td>2020-11-01 16:30:56</td>\n      <td>2020</td>\n      <td>11</td>\n      <td>1</td>\n      <td>16</td>\n    </tr>\n  </tbody>\n</table>\n</div>"
     },
     "metadata": {},
     "execution_count": 44
    }
   ],
   "source": [
    "current_date_time_UCT = [responseJson[\"current\"][\"dt\"]]\n",
    "current_weather_index = np.arange(0,len(current_date_time_UCT),1)\n",
    "\n",
    "current_date_time_DF = convert_DateTime_UTC_to_CST(current_date_time_UCT, current_weather_index)\n",
    "\n",
    "current_date_time_DF.head()"
   ]
  },
  {
   "cell_type": "code",
   "execution_count": 45,
   "metadata": {},
   "outputs": [
    {
     "output_type": "execute_result",
     "data": {
      "text/plain": "     UTC_Time  Temperature_F Weather_Description  Humidity_percent  \\\n0  1604269856           69.8           clear sky                28   \n\n   WindSpeed_mph  WindDirection_degrees  \n0           9.17                     70  ",
      "text/html": "<div>\n<style scoped>\n    .dataframe tbody tr th:only-of-type {\n        vertical-align: middle;\n    }\n\n    .dataframe tbody tr th {\n        vertical-align: top;\n    }\n\n    .dataframe thead th {\n        text-align: right;\n    }\n</style>\n<table border=\"1\" class=\"dataframe\">\n  <thead>\n    <tr style=\"text-align: right;\">\n      <th></th>\n      <th>UTC_Time</th>\n      <th>Temperature_F</th>\n      <th>Weather_Description</th>\n      <th>Humidity_percent</th>\n      <th>WindSpeed_mph</th>\n      <th>WindDirection_degrees</th>\n    </tr>\n  </thead>\n  <tbody>\n    <tr>\n      <th>0</th>\n      <td>1604269856</td>\n      <td>69.8</td>\n      <td>clear sky</td>\n      <td>28</td>\n      <td>9.17</td>\n      <td>70</td>\n    </tr>\n  </tbody>\n</table>\n</div>"
     },
     "metadata": {},
     "execution_count": 45
    }
   ],
   "source": [
    "current_weather_DF = pd.DataFrame([{\n",
    "    \"UTC_Time\": responseJson[\"current\"][\"dt\"],\n",
    "    \"Temperature_F\": responseJson[\"current\"][\"temp\"], \n",
    "    \"Weather_Description\": responseJson[\"current\"][\"weather\"][0][\"description\"],\n",
    "    \"Humidity_percent\": responseJson[\"current\"][\"humidity\"],\n",
    "    \"WindSpeed_mph\": responseJson[\"current\"][\"wind_speed\"],\n",
    "    \"WindDirection_degrees\": responseJson[\"current\"][\"wind_deg\"]\n",
    "}])\n",
    "\n",
    "current_weather_DF"
   ]
  },
  {
   "cell_type": "code",
   "execution_count": 46,
   "metadata": {},
   "outputs": [
    {
     "output_type": "execute_result",
     "data": {
      "text/plain": "            Date_Time  Year  Month  Day  Hour  Temperature_F  \\\n0 2020-11-01 16:30:56  2020     11    1    16           69.8   \n\n   Humidity_percent  WindSpeed_mph  WindDirection_degrees Weather_Description  \n0                28           9.17                     70           clear sky  ",
      "text/html": "<div>\n<style scoped>\n    .dataframe tbody tr th:only-of-type {\n        vertical-align: middle;\n    }\n\n    .dataframe tbody tr th {\n        vertical-align: top;\n    }\n\n    .dataframe thead th {\n        text-align: right;\n    }\n</style>\n<table border=\"1\" class=\"dataframe\">\n  <thead>\n    <tr style=\"text-align: right;\">\n      <th></th>\n      <th>Date_Time</th>\n      <th>Year</th>\n      <th>Month</th>\n      <th>Day</th>\n      <th>Hour</th>\n      <th>Temperature_F</th>\n      <th>Humidity_percent</th>\n      <th>WindSpeed_mph</th>\n      <th>WindDirection_degrees</th>\n      <th>Weather_Description</th>\n    </tr>\n  </thead>\n  <tbody>\n    <tr>\n      <th>0</th>\n      <td>2020-11-01 16:30:56</td>\n      <td>2020</td>\n      <td>11</td>\n      <td>1</td>\n      <td>16</td>\n      <td>69.8</td>\n      <td>28</td>\n      <td>9.17</td>\n      <td>70</td>\n      <td>clear sky</td>\n    </tr>\n  </tbody>\n</table>\n</div>"
     },
     "metadata": {},
     "execution_count": 46
    }
   ],
   "source": [
    "current_weather_DF = pd.merge(current_weather_DF, current_date_time_DF, on='UTC_Time', how='inner')\n",
    "current_weather_DF.drop(columns=[\"UTC_Time\"], axis=1, inplace=True)\n",
    "current_weather_DF[\"Date_Time\"] = pd.to_datetime(current_weather_DF[\"Date_Time\"])\n",
    "current_weather_DF = current_weather_DF[[\"Date_Time\", \"Year\", \"Month\", \"Day\", \"Hour\", \"Temperature_F\", \"Humidity_percent\", \"WindSpeed_mph\", \"WindDirection_degrees\", \"Weather_Description\"]]\n",
    "current_weather_DF"
   ]
  },
  {
   "cell_type": "markdown",
   "metadata": {},
   "source": [
    "# Forecasted Weather"
   ]
  },
  {
   "cell_type": "code",
   "execution_count": 47,
   "metadata": {},
   "outputs": [
    {
     "output_type": "execute_result",
     "data": {
      "text/plain": "     UTC_Time  Temperature_F Weather_Description  Humidity_percent  \\\n0  1604268000          69.80           clear sky                28   \n1  1604271600          66.58           clear sky                34   \n2  1604275200          60.24           clear sky                43   \n3  1604278800          56.73           clear sky                47   \n4  1604282400          54.55          few clouds                50   \n\n   WindSpeed_mph  WindDirection_degrees  \n0          10.13                     72  \n1           7.85                     68  \n2           7.29                     66  \n3           7.54                     74  \n4           7.85                     81  ",
      "text/html": "<div>\n<style scoped>\n    .dataframe tbody tr th:only-of-type {\n        vertical-align: middle;\n    }\n\n    .dataframe tbody tr th {\n        vertical-align: top;\n    }\n\n    .dataframe thead th {\n        text-align: right;\n    }\n</style>\n<table border=\"1\" class=\"dataframe\">\n  <thead>\n    <tr style=\"text-align: right;\">\n      <th></th>\n      <th>UTC_Time</th>\n      <th>Temperature_F</th>\n      <th>Weather_Description</th>\n      <th>Humidity_percent</th>\n      <th>WindSpeed_mph</th>\n      <th>WindDirection_degrees</th>\n    </tr>\n  </thead>\n  <tbody>\n    <tr>\n      <th>0</th>\n      <td>1604268000</td>\n      <td>69.80</td>\n      <td>clear sky</td>\n      <td>28</td>\n      <td>10.13</td>\n      <td>72</td>\n    </tr>\n    <tr>\n      <th>1</th>\n      <td>1604271600</td>\n      <td>66.58</td>\n      <td>clear sky</td>\n      <td>34</td>\n      <td>7.85</td>\n      <td>68</td>\n    </tr>\n    <tr>\n      <th>2</th>\n      <td>1604275200</td>\n      <td>60.24</td>\n      <td>clear sky</td>\n      <td>43</td>\n      <td>7.29</td>\n      <td>66</td>\n    </tr>\n    <tr>\n      <th>3</th>\n      <td>1604278800</td>\n      <td>56.73</td>\n      <td>clear sky</td>\n      <td>47</td>\n      <td>7.54</td>\n      <td>74</td>\n    </tr>\n    <tr>\n      <th>4</th>\n      <td>1604282400</td>\n      <td>54.55</td>\n      <td>few clouds</td>\n      <td>50</td>\n      <td>7.85</td>\n      <td>81</td>\n    </tr>\n  </tbody>\n</table>\n</div>"
     },
     "metadata": {},
     "execution_count": 47
    }
   ],
   "source": [
    "forecasted_hourly_weather = []\n",
    "\n",
    "for hour in np.arange(0, 48, 1):\n",
    "    forecasted_hourly_weather.append({\n",
    "        \"UTC_Time\": responseJson[\"hourly\"][hour][\"dt\"],\n",
    "        \"Temperature_F\": responseJson[\"hourly\"][hour][\"temp\"],\n",
    "        \"Weather_Description\": responseJson[\"hourly\"][hour][\"weather\"][0][\"description\"],\n",
    "        \"Humidity_percent\": responseJson[\"hourly\"][hour][\"humidity\"],\n",
    "        \"WindSpeed_mph\": responseJson[\"hourly\"][hour][\"wind_speed\"],\n",
    "        \"WindDirection_degrees\": responseJson[\"hourly\"][hour][\"wind_deg\"]\n",
    "    })\n",
    "\n",
    "hourly_weather_DF = pd.DataFrame(forecasted_hourly_weather)\n",
    "hourly_weather_DF.head()"
   ]
  },
  {
   "cell_type": "code",
   "execution_count": 48,
   "metadata": {},
   "outputs": [
    {
     "output_type": "execute_result",
     "data": {
      "text/plain": "     UTC_Time            Date_Time  Year  Month  Day  Hour\n0  1604268000  2020-11-01 16:00:00  2020     11    1    16\n1  1604271600  2020-11-01 17:00:00  2020     11    1    17\n2  1604275200  2020-11-01 18:00:00  2020     11    1    18\n3  1604278800  2020-11-01 19:00:00  2020     11    1    19\n4  1604282400  2020-11-01 20:00:00  2020     11    1    20",
      "text/html": "<div>\n<style scoped>\n    .dataframe tbody tr th:only-of-type {\n        vertical-align: middle;\n    }\n\n    .dataframe tbody tr th {\n        vertical-align: top;\n    }\n\n    .dataframe thead th {\n        text-align: right;\n    }\n</style>\n<table border=\"1\" class=\"dataframe\">\n  <thead>\n    <tr style=\"text-align: right;\">\n      <th></th>\n      <th>UTC_Time</th>\n      <th>Date_Time</th>\n      <th>Year</th>\n      <th>Month</th>\n      <th>Day</th>\n      <th>Hour</th>\n    </tr>\n  </thead>\n  <tbody>\n    <tr>\n      <th>0</th>\n      <td>1604268000</td>\n      <td>2020-11-01 16:00:00</td>\n      <td>2020</td>\n      <td>11</td>\n      <td>1</td>\n      <td>16</td>\n    </tr>\n    <tr>\n      <th>1</th>\n      <td>1604271600</td>\n      <td>2020-11-01 17:00:00</td>\n      <td>2020</td>\n      <td>11</td>\n      <td>1</td>\n      <td>17</td>\n    </tr>\n    <tr>\n      <th>2</th>\n      <td>1604275200</td>\n      <td>2020-11-01 18:00:00</td>\n      <td>2020</td>\n      <td>11</td>\n      <td>1</td>\n      <td>18</td>\n    </tr>\n    <tr>\n      <th>3</th>\n      <td>1604278800</td>\n      <td>2020-11-01 19:00:00</td>\n      <td>2020</td>\n      <td>11</td>\n      <td>1</td>\n      <td>19</td>\n    </tr>\n    <tr>\n      <th>4</th>\n      <td>1604282400</td>\n      <td>2020-11-01 20:00:00</td>\n      <td>2020</td>\n      <td>11</td>\n      <td>1</td>\n      <td>20</td>\n    </tr>\n  </tbody>\n</table>\n</div>"
     },
     "metadata": {},
     "execution_count": 48
    }
   ],
   "source": [
    "hourly_index = np.arange(0,48,1)\n",
    "\n",
    "hourly_UTC_date_time = hourly_weather_DF[\"UTC_Time\"]\n",
    "\n",
    "hourly_date_time_DF = convert_DateTime_UTC_to_CST(hourly_UTC_date_time, hourly_index)\n",
    "\n",
    "hourly_date_time_DF.head()"
   ]
  },
  {
   "cell_type": "code",
   "execution_count": 49,
   "metadata": {},
   "outputs": [
    {
     "output_type": "execute_result",
     "data": {
      "text/plain": "             Date_Time  Year  Month  Day  Hour  Temperature_F  \\\n0  2020-11-01 16:00:00  2020     11    1    16          69.80   \n1  2020-11-01 17:00:00  2020     11    1    17          66.58   \n2  2020-11-01 18:00:00  2020     11    1    18          60.24   \n3  2020-11-01 19:00:00  2020     11    1    19          56.73   \n4  2020-11-01 20:00:00  2020     11    1    20          54.55   \n5  2020-11-01 21:00:00  2020     11    1    21          52.88   \n6  2020-11-01 22:00:00  2020     11    1    22          51.69   \n7  2020-11-01 23:00:00  2020     11    1    23          50.65   \n8  2020-11-02 00:00:00  2020     11    2     0          49.42   \n9  2020-11-02 01:00:00  2020     11    2     1          48.78   \n10 2020-11-02 02:00:00  2020     11    2     2          48.74   \n11 2020-11-02 03:00:00  2020     11    2     3          47.91   \n12 2020-11-02 04:00:00  2020     11    2     4          46.63   \n13 2020-11-02 05:00:00  2020     11    2     5          46.51   \n14 2020-11-02 06:00:00  2020     11    2     6          46.11   \n15 2020-11-02 07:00:00  2020     11    2     7          45.37   \n16 2020-11-02 08:00:00  2020     11    2     8          48.43   \n17 2020-11-02 09:00:00  2020     11    2     9          53.28   \n18 2020-11-02 10:00:00  2020     11    2    10          58.06   \n19 2020-11-02 11:00:00  2020     11    2    11          61.81   \n20 2020-11-02 12:00:00  2020     11    2    12          64.85   \n21 2020-11-02 13:00:00  2020     11    2    13          67.08   \n22 2020-11-02 14:00:00  2020     11    2    14          68.40   \n23 2020-11-02 15:00:00  2020     11    2    15          68.50   \n24 2020-11-02 16:00:00  2020     11    2    16          67.78   \n25 2020-11-02 17:00:00  2020     11    2    17          64.78   \n26 2020-11-02 18:00:00  2020     11    2    18          59.13   \n27 2020-11-02 19:00:00  2020     11    2    19          58.03   \n28 2020-11-02 20:00:00  2020     11    2    20          57.16   \n29 2020-11-02 21:00:00  2020     11    2    21          55.90   \n30 2020-11-02 22:00:00  2020     11    2    22          54.64   \n31 2020-11-02 23:00:00  2020     11    2    23          53.94   \n32 2020-11-03 00:00:00  2020     11    3     0          53.26   \n33 2020-11-03 01:00:00  2020     11    3     1          52.34   \n34 2020-11-03 02:00:00  2020     11    3     2          51.62   \n35 2020-11-03 03:00:00  2020     11    3     3          51.01   \n36 2020-11-03 04:00:00  2020     11    3     4          50.38   \n37 2020-11-03 05:00:00  2020     11    3     5          49.96   \n38 2020-11-03 06:00:00  2020     11    3     6          49.33   \n39 2020-11-03 07:00:00  2020     11    3     7          48.70   \n40 2020-11-03 08:00:00  2020     11    3     8          51.03   \n41 2020-11-03 09:00:00  2020     11    3     9          56.86   \n42 2020-11-03 10:00:00  2020     11    3    10          61.36   \n43 2020-11-03 11:00:00  2020     11    3    11          64.89   \n44 2020-11-03 12:00:00  2020     11    3    12          67.75   \n45 2020-11-03 13:00:00  2020     11    3    13          71.04   \n46 2020-11-03 14:00:00  2020     11    3    14          73.18   \n47 2020-11-03 15:00:00  2020     11    3    15          73.72   \n\n    Humidity_percent  WindSpeed_mph  WindDirection_degrees Weather_Description  \n0                 28          10.13                     72           clear sky  \n1                 34           7.85                     68           clear sky  \n2                 43           7.29                     66           clear sky  \n3                 47           7.54                     74           clear sky  \n4                 50           7.85                     81          few clouds  \n5                 54           7.83                     93    scattered clouds  \n6                 56           7.92                    107    scattered clouds  \n7                 59           7.61                    114    scattered clouds  \n8                 61           6.89                    125    scattered clouds  \n9                 63           6.20                    136     overcast clouds  \n10                62           6.71                    140     overcast clouds  \n11                63           6.85                    144     overcast clouds  \n12                64           5.99                    156       broken clouds  \n13                61           7.00                    167       broken clouds  \n14                58           7.43                    171    scattered clouds  \n15                58           6.76                    179           clear sky  \n16                55           6.91                    187           clear sky  \n17                49           8.88                    198           clear sky  \n18                42          10.29                    205           clear sky  \n19                36          10.69                    208           clear sky  \n20                30          10.94                    211           clear sky  \n21                27          11.05                    214           clear sky  \n22                26          11.14                    215           clear sky  \n23                26          10.94                    210           clear sky  \n24                27          10.29                    206           clear sky  \n25                34           7.72                    198           clear sky  \n26                36           7.76                    194           clear sky  \n27                37           8.12                    183           clear sky  \n28                38           8.99                    175           clear sky  \n29                39          10.13                    179           clear sky  \n30                41          10.96                    179           clear sky  \n31                42          11.97                    184           clear sky  \n32                44          11.97                    190           clear sky  \n33                47          11.63                    193       broken clouds  \n34                49          11.48                    201       broken clouds  \n35                50          10.49                    207     overcast clouds  \n36                53          10.27                    208     overcast clouds  \n37                56          10.29                    210     overcast clouds  \n38                57          10.18                    211     overcast clouds  \n39                59          10.18                    212     overcast clouds  \n40                56          11.18                    214     overcast clouds  \n41                49          16.44                    216     overcast clouds  \n42                45          17.34                    216     overcast clouds  \n43                42          17.65                    211     overcast clouds  \n44                38          17.52                    210     overcast clouds  \n45                35          18.03                    208          few clouds  \n46                33          18.45                    207           clear sky  \n47                32          17.87                    204          few clouds  ",
      "text/html": "<div>\n<style scoped>\n    .dataframe tbody tr th:only-of-type {\n        vertical-align: middle;\n    }\n\n    .dataframe tbody tr th {\n        vertical-align: top;\n    }\n\n    .dataframe thead th {\n        text-align: right;\n    }\n</style>\n<table border=\"1\" class=\"dataframe\">\n  <thead>\n    <tr style=\"text-align: right;\">\n      <th></th>\n      <th>Date_Time</th>\n      <th>Year</th>\n      <th>Month</th>\n      <th>Day</th>\n      <th>Hour</th>\n      <th>Temperature_F</th>\n      <th>Humidity_percent</th>\n      <th>WindSpeed_mph</th>\n      <th>WindDirection_degrees</th>\n      <th>Weather_Description</th>\n    </tr>\n  </thead>\n  <tbody>\n    <tr>\n      <th>0</th>\n      <td>2020-11-01 16:00:00</td>\n      <td>2020</td>\n      <td>11</td>\n      <td>1</td>\n      <td>16</td>\n      <td>69.80</td>\n      <td>28</td>\n      <td>10.13</td>\n      <td>72</td>\n      <td>clear sky</td>\n    </tr>\n    <tr>\n      <th>1</th>\n      <td>2020-11-01 17:00:00</td>\n      <td>2020</td>\n      <td>11</td>\n      <td>1</td>\n      <td>17</td>\n      <td>66.58</td>\n      <td>34</td>\n      <td>7.85</td>\n      <td>68</td>\n      <td>clear sky</td>\n    </tr>\n    <tr>\n      <th>2</th>\n      <td>2020-11-01 18:00:00</td>\n      <td>2020</td>\n      <td>11</td>\n      <td>1</td>\n      <td>18</td>\n      <td>60.24</td>\n      <td>43</td>\n      <td>7.29</td>\n      <td>66</td>\n      <td>clear sky</td>\n    </tr>\n    <tr>\n      <th>3</th>\n      <td>2020-11-01 19:00:00</td>\n      <td>2020</td>\n      <td>11</td>\n      <td>1</td>\n      <td>19</td>\n      <td>56.73</td>\n      <td>47</td>\n      <td>7.54</td>\n      <td>74</td>\n      <td>clear sky</td>\n    </tr>\n    <tr>\n      <th>4</th>\n      <td>2020-11-01 20:00:00</td>\n      <td>2020</td>\n      <td>11</td>\n      <td>1</td>\n      <td>20</td>\n      <td>54.55</td>\n      <td>50</td>\n      <td>7.85</td>\n      <td>81</td>\n      <td>few clouds</td>\n    </tr>\n    <tr>\n      <th>5</th>\n      <td>2020-11-01 21:00:00</td>\n      <td>2020</td>\n      <td>11</td>\n      <td>1</td>\n      <td>21</td>\n      <td>52.88</td>\n      <td>54</td>\n      <td>7.83</td>\n      <td>93</td>\n      <td>scattered clouds</td>\n    </tr>\n    <tr>\n      <th>6</th>\n      <td>2020-11-01 22:00:00</td>\n      <td>2020</td>\n      <td>11</td>\n      <td>1</td>\n      <td>22</td>\n      <td>51.69</td>\n      <td>56</td>\n      <td>7.92</td>\n      <td>107</td>\n      <td>scattered clouds</td>\n    </tr>\n    <tr>\n      <th>7</th>\n      <td>2020-11-01 23:00:00</td>\n      <td>2020</td>\n      <td>11</td>\n      <td>1</td>\n      <td>23</td>\n      <td>50.65</td>\n      <td>59</td>\n      <td>7.61</td>\n      <td>114</td>\n      <td>scattered clouds</td>\n    </tr>\n    <tr>\n      <th>8</th>\n      <td>2020-11-02 00:00:00</td>\n      <td>2020</td>\n      <td>11</td>\n      <td>2</td>\n      <td>0</td>\n      <td>49.42</td>\n      <td>61</td>\n      <td>6.89</td>\n      <td>125</td>\n      <td>scattered clouds</td>\n    </tr>\n    <tr>\n      <th>9</th>\n      <td>2020-11-02 01:00:00</td>\n      <td>2020</td>\n      <td>11</td>\n      <td>2</td>\n      <td>1</td>\n      <td>48.78</td>\n      <td>63</td>\n      <td>6.20</td>\n      <td>136</td>\n      <td>overcast clouds</td>\n    </tr>\n    <tr>\n      <th>10</th>\n      <td>2020-11-02 02:00:00</td>\n      <td>2020</td>\n      <td>11</td>\n      <td>2</td>\n      <td>2</td>\n      <td>48.74</td>\n      <td>62</td>\n      <td>6.71</td>\n      <td>140</td>\n      <td>overcast clouds</td>\n    </tr>\n    <tr>\n      <th>11</th>\n      <td>2020-11-02 03:00:00</td>\n      <td>2020</td>\n      <td>11</td>\n      <td>2</td>\n      <td>3</td>\n      <td>47.91</td>\n      <td>63</td>\n      <td>6.85</td>\n      <td>144</td>\n      <td>overcast clouds</td>\n    </tr>\n    <tr>\n      <th>12</th>\n      <td>2020-11-02 04:00:00</td>\n      <td>2020</td>\n      <td>11</td>\n      <td>2</td>\n      <td>4</td>\n      <td>46.63</td>\n      <td>64</td>\n      <td>5.99</td>\n      <td>156</td>\n      <td>broken clouds</td>\n    </tr>\n    <tr>\n      <th>13</th>\n      <td>2020-11-02 05:00:00</td>\n      <td>2020</td>\n      <td>11</td>\n      <td>2</td>\n      <td>5</td>\n      <td>46.51</td>\n      <td>61</td>\n      <td>7.00</td>\n      <td>167</td>\n      <td>broken clouds</td>\n    </tr>\n    <tr>\n      <th>14</th>\n      <td>2020-11-02 06:00:00</td>\n      <td>2020</td>\n      <td>11</td>\n      <td>2</td>\n      <td>6</td>\n      <td>46.11</td>\n      <td>58</td>\n      <td>7.43</td>\n      <td>171</td>\n      <td>scattered clouds</td>\n    </tr>\n    <tr>\n      <th>15</th>\n      <td>2020-11-02 07:00:00</td>\n      <td>2020</td>\n      <td>11</td>\n      <td>2</td>\n      <td>7</td>\n      <td>45.37</td>\n      <td>58</td>\n      <td>6.76</td>\n      <td>179</td>\n      <td>clear sky</td>\n    </tr>\n    <tr>\n      <th>16</th>\n      <td>2020-11-02 08:00:00</td>\n      <td>2020</td>\n      <td>11</td>\n      <td>2</td>\n      <td>8</td>\n      <td>48.43</td>\n      <td>55</td>\n      <td>6.91</td>\n      <td>187</td>\n      <td>clear sky</td>\n    </tr>\n    <tr>\n      <th>17</th>\n      <td>2020-11-02 09:00:00</td>\n      <td>2020</td>\n      <td>11</td>\n      <td>2</td>\n      <td>9</td>\n      <td>53.28</td>\n      <td>49</td>\n      <td>8.88</td>\n      <td>198</td>\n      <td>clear sky</td>\n    </tr>\n    <tr>\n      <th>18</th>\n      <td>2020-11-02 10:00:00</td>\n      <td>2020</td>\n      <td>11</td>\n      <td>2</td>\n      <td>10</td>\n      <td>58.06</td>\n      <td>42</td>\n      <td>10.29</td>\n      <td>205</td>\n      <td>clear sky</td>\n    </tr>\n    <tr>\n      <th>19</th>\n      <td>2020-11-02 11:00:00</td>\n      <td>2020</td>\n      <td>11</td>\n      <td>2</td>\n      <td>11</td>\n      <td>61.81</td>\n      <td>36</td>\n      <td>10.69</td>\n      <td>208</td>\n      <td>clear sky</td>\n    </tr>\n    <tr>\n      <th>20</th>\n      <td>2020-11-02 12:00:00</td>\n      <td>2020</td>\n      <td>11</td>\n      <td>2</td>\n      <td>12</td>\n      <td>64.85</td>\n      <td>30</td>\n      <td>10.94</td>\n      <td>211</td>\n      <td>clear sky</td>\n    </tr>\n    <tr>\n      <th>21</th>\n      <td>2020-11-02 13:00:00</td>\n      <td>2020</td>\n      <td>11</td>\n      <td>2</td>\n      <td>13</td>\n      <td>67.08</td>\n      <td>27</td>\n      <td>11.05</td>\n      <td>214</td>\n      <td>clear sky</td>\n    </tr>\n    <tr>\n      <th>22</th>\n      <td>2020-11-02 14:00:00</td>\n      <td>2020</td>\n      <td>11</td>\n      <td>2</td>\n      <td>14</td>\n      <td>68.40</td>\n      <td>26</td>\n      <td>11.14</td>\n      <td>215</td>\n      <td>clear sky</td>\n    </tr>\n    <tr>\n      <th>23</th>\n      <td>2020-11-02 15:00:00</td>\n      <td>2020</td>\n      <td>11</td>\n      <td>2</td>\n      <td>15</td>\n      <td>68.50</td>\n      <td>26</td>\n      <td>10.94</td>\n      <td>210</td>\n      <td>clear sky</td>\n    </tr>\n    <tr>\n      <th>24</th>\n      <td>2020-11-02 16:00:00</td>\n      <td>2020</td>\n      <td>11</td>\n      <td>2</td>\n      <td>16</td>\n      <td>67.78</td>\n      <td>27</td>\n      <td>10.29</td>\n      <td>206</td>\n      <td>clear sky</td>\n    </tr>\n    <tr>\n      <th>25</th>\n      <td>2020-11-02 17:00:00</td>\n      <td>2020</td>\n      <td>11</td>\n      <td>2</td>\n      <td>17</td>\n      <td>64.78</td>\n      <td>34</td>\n      <td>7.72</td>\n      <td>198</td>\n      <td>clear sky</td>\n    </tr>\n    <tr>\n      <th>26</th>\n      <td>2020-11-02 18:00:00</td>\n      <td>2020</td>\n      <td>11</td>\n      <td>2</td>\n      <td>18</td>\n      <td>59.13</td>\n      <td>36</td>\n      <td>7.76</td>\n      <td>194</td>\n      <td>clear sky</td>\n    </tr>\n    <tr>\n      <th>27</th>\n      <td>2020-11-02 19:00:00</td>\n      <td>2020</td>\n      <td>11</td>\n      <td>2</td>\n      <td>19</td>\n      <td>58.03</td>\n      <td>37</td>\n      <td>8.12</td>\n      <td>183</td>\n      <td>clear sky</td>\n    </tr>\n    <tr>\n      <th>28</th>\n      <td>2020-11-02 20:00:00</td>\n      <td>2020</td>\n      <td>11</td>\n      <td>2</td>\n      <td>20</td>\n      <td>57.16</td>\n      <td>38</td>\n      <td>8.99</td>\n      <td>175</td>\n      <td>clear sky</td>\n    </tr>\n    <tr>\n      <th>29</th>\n      <td>2020-11-02 21:00:00</td>\n      <td>2020</td>\n      <td>11</td>\n      <td>2</td>\n      <td>21</td>\n      <td>55.90</td>\n      <td>39</td>\n      <td>10.13</td>\n      <td>179</td>\n      <td>clear sky</td>\n    </tr>\n    <tr>\n      <th>30</th>\n      <td>2020-11-02 22:00:00</td>\n      <td>2020</td>\n      <td>11</td>\n      <td>2</td>\n      <td>22</td>\n      <td>54.64</td>\n      <td>41</td>\n      <td>10.96</td>\n      <td>179</td>\n      <td>clear sky</td>\n    </tr>\n    <tr>\n      <th>31</th>\n      <td>2020-11-02 23:00:00</td>\n      <td>2020</td>\n      <td>11</td>\n      <td>2</td>\n      <td>23</td>\n      <td>53.94</td>\n      <td>42</td>\n      <td>11.97</td>\n      <td>184</td>\n      <td>clear sky</td>\n    </tr>\n    <tr>\n      <th>32</th>\n      <td>2020-11-03 00:00:00</td>\n      <td>2020</td>\n      <td>11</td>\n      <td>3</td>\n      <td>0</td>\n      <td>53.26</td>\n      <td>44</td>\n      <td>11.97</td>\n      <td>190</td>\n      <td>clear sky</td>\n    </tr>\n    <tr>\n      <th>33</th>\n      <td>2020-11-03 01:00:00</td>\n      <td>2020</td>\n      <td>11</td>\n      <td>3</td>\n      <td>1</td>\n      <td>52.34</td>\n      <td>47</td>\n      <td>11.63</td>\n      <td>193</td>\n      <td>broken clouds</td>\n    </tr>\n    <tr>\n      <th>34</th>\n      <td>2020-11-03 02:00:00</td>\n      <td>2020</td>\n      <td>11</td>\n      <td>3</td>\n      <td>2</td>\n      <td>51.62</td>\n      <td>49</td>\n      <td>11.48</td>\n      <td>201</td>\n      <td>broken clouds</td>\n    </tr>\n    <tr>\n      <th>35</th>\n      <td>2020-11-03 03:00:00</td>\n      <td>2020</td>\n      <td>11</td>\n      <td>3</td>\n      <td>3</td>\n      <td>51.01</td>\n      <td>50</td>\n      <td>10.49</td>\n      <td>207</td>\n      <td>overcast clouds</td>\n    </tr>\n    <tr>\n      <th>36</th>\n      <td>2020-11-03 04:00:00</td>\n      <td>2020</td>\n      <td>11</td>\n      <td>3</td>\n      <td>4</td>\n      <td>50.38</td>\n      <td>53</td>\n      <td>10.27</td>\n      <td>208</td>\n      <td>overcast clouds</td>\n    </tr>\n    <tr>\n      <th>37</th>\n      <td>2020-11-03 05:00:00</td>\n      <td>2020</td>\n      <td>11</td>\n      <td>3</td>\n      <td>5</td>\n      <td>49.96</td>\n      <td>56</td>\n      <td>10.29</td>\n      <td>210</td>\n      <td>overcast clouds</td>\n    </tr>\n    <tr>\n      <th>38</th>\n      <td>2020-11-03 06:00:00</td>\n      <td>2020</td>\n      <td>11</td>\n      <td>3</td>\n      <td>6</td>\n      <td>49.33</td>\n      <td>57</td>\n      <td>10.18</td>\n      <td>211</td>\n      <td>overcast clouds</td>\n    </tr>\n    <tr>\n      <th>39</th>\n      <td>2020-11-03 07:00:00</td>\n      <td>2020</td>\n      <td>11</td>\n      <td>3</td>\n      <td>7</td>\n      <td>48.70</td>\n      <td>59</td>\n      <td>10.18</td>\n      <td>212</td>\n      <td>overcast clouds</td>\n    </tr>\n    <tr>\n      <th>40</th>\n      <td>2020-11-03 08:00:00</td>\n      <td>2020</td>\n      <td>11</td>\n      <td>3</td>\n      <td>8</td>\n      <td>51.03</td>\n      <td>56</td>\n      <td>11.18</td>\n      <td>214</td>\n      <td>overcast clouds</td>\n    </tr>\n    <tr>\n      <th>41</th>\n      <td>2020-11-03 09:00:00</td>\n      <td>2020</td>\n      <td>11</td>\n      <td>3</td>\n      <td>9</td>\n      <td>56.86</td>\n      <td>49</td>\n      <td>16.44</td>\n      <td>216</td>\n      <td>overcast clouds</td>\n    </tr>\n    <tr>\n      <th>42</th>\n      <td>2020-11-03 10:00:00</td>\n      <td>2020</td>\n      <td>11</td>\n      <td>3</td>\n      <td>10</td>\n      <td>61.36</td>\n      <td>45</td>\n      <td>17.34</td>\n      <td>216</td>\n      <td>overcast clouds</td>\n    </tr>\n    <tr>\n      <th>43</th>\n      <td>2020-11-03 11:00:00</td>\n      <td>2020</td>\n      <td>11</td>\n      <td>3</td>\n      <td>11</td>\n      <td>64.89</td>\n      <td>42</td>\n      <td>17.65</td>\n      <td>211</td>\n      <td>overcast clouds</td>\n    </tr>\n    <tr>\n      <th>44</th>\n      <td>2020-11-03 12:00:00</td>\n      <td>2020</td>\n      <td>11</td>\n      <td>3</td>\n      <td>12</td>\n      <td>67.75</td>\n      <td>38</td>\n      <td>17.52</td>\n      <td>210</td>\n      <td>overcast clouds</td>\n    </tr>\n    <tr>\n      <th>45</th>\n      <td>2020-11-03 13:00:00</td>\n      <td>2020</td>\n      <td>11</td>\n      <td>3</td>\n      <td>13</td>\n      <td>71.04</td>\n      <td>35</td>\n      <td>18.03</td>\n      <td>208</td>\n      <td>few clouds</td>\n    </tr>\n    <tr>\n      <th>46</th>\n      <td>2020-11-03 14:00:00</td>\n      <td>2020</td>\n      <td>11</td>\n      <td>3</td>\n      <td>14</td>\n      <td>73.18</td>\n      <td>33</td>\n      <td>18.45</td>\n      <td>207</td>\n      <td>clear sky</td>\n    </tr>\n    <tr>\n      <th>47</th>\n      <td>2020-11-03 15:00:00</td>\n      <td>2020</td>\n      <td>11</td>\n      <td>3</td>\n      <td>15</td>\n      <td>73.72</td>\n      <td>32</td>\n      <td>17.87</td>\n      <td>204</td>\n      <td>few clouds</td>\n    </tr>\n  </tbody>\n</table>\n</div>"
     },
     "metadata": {},
     "execution_count": 49
    }
   ],
   "source": [
    "hourly_weather_DF = pd.merge(hourly_weather_DF, hourly_date_time_DF, on='UTC_Time', how='outer')\n",
    "hourly_weather_DF.drop(columns=[\"UTC_Time\"], axis=1, inplace=True)\n",
    "hourly_weather_DF[\"Date_Time\"] = pd.to_datetime(hourly_weather_DF[\"Date_Time\"])\n",
    "hourly_weather_DF = hourly_weather_DF[[\"Date_Time\", \"Year\", \"Month\", \"Day\", \"Hour\", \"Temperature_F\", \"Humidity_percent\", \"WindSpeed_mph\", \"WindDirection_degrees\", \"Weather_Description\"]]\n",
    "hourly_weather_DF"
   ]
  },
  {
   "cell_type": "code",
   "execution_count": 50,
   "metadata": {},
   "outputs": [
    {
     "output_type": "execute_result",
     "data": {
      "text/plain": "Date_Time                datetime64[ns]\nYear                              int64\nMonth                             int64\nDay                               int64\nHour                              int64\nTemperature_F                   float64\nHumidity_percent                  int64\nWindSpeed_mph                   float64\nWindDirection_degrees             int64\nWeather_Description              object\ndtype: object"
     },
     "metadata": {},
     "execution_count": 50
    }
   ],
   "source": [
    "# Check the data types\n",
    "hourly_weather_DF.dtypes"
   ]
  },
  {
   "cell_type": "markdown",
   "metadata": {},
   "source": [
    "# Weather Descriptions\n",
    "# --------------------"
   ]
  },
  {
   "cell_type": "code",
   "execution_count": 51,
   "metadata": {},
   "outputs": [],
   "source": [
    "weather_description_list = [\n",
    "    # Clear\n",
    "    'Clear',\n",
    "    'Sunny',\n",
    "    # Clouds\n",
    "    'Partly cloudy', \n",
    "    'Cloudy', \n",
    "    'Overcast',\n",
    "    # Drizzle\n",
    "    'Freezing drizzle',\n",
    "    'Light drizzle', \n",
    "    'Patchy light drizzle',\n",
    "    # Snow\n",
    "    'Patchy moderate snow', \n",
    "    'Moderate snow', \n",
    "    'Light sleet',\n",
    "    'Light snow',  \n",
    "    'Heavy snow', \n",
    "    'Patchy heavy snow', \n",
    "    'Blowing snow',  \n",
    "    'Blizzard',\n",
    "    'Ice pellets', \n",
    "    'Patchy light snow', \n",
    "    # Rain\n",
    "    'Patchy rain possible',\n",
    "    'Light rain shower', \n",
    "    'Moderate or heavy rain shower',\n",
    "    'Moderate rain', \n",
    "    'Heavy rain', \n",
    "    'Light rain', \n",
    "    'Patchy light rain', \n",
    "    'Torrential rain shower',\n",
    "    'Moderate rain at times', \n",
    "    'Heavy rain at times', \n",
    "    'Moderate or heavy freezing rain',\n",
    "    # Thunderstorm\n",
    "    'Thundery outbreaks possible',\n",
    "    'Moderate or heavy rain with thunder',\n",
    "    'Patchy light rain with thunder', \n",
    "    # Atmosphere\n",
    "    'Mist',\n",
    "    'Fog']"
   ]
  },
  {
   "cell_type": "code",
   "execution_count": 52,
   "metadata": {},
   "outputs": [],
   "source": [
    "weather_condition_codes = [\n",
    "    # Thunderstorm\n",
    "    'thunderstorm with light rain',\n",
    "    'thunderstorm with rain',\n",
    "    'thunderstorm with heavy rain',\n",
    "    'light thunderstorm',\n",
    "    'thunderstorm',\n",
    "    'heavy thunderstorm',\n",
    "    'ragged thunderstorm',\n",
    "    'thunderstorm with light drizzle',\n",
    "    'thunderstorm with drizzle',\n",
    "    'thunderstorm with heavy drizzle',\n",
    "    # Drizzle\n",
    "    'light intensity drizzle',\n",
    "    'drizzle',\n",
    "    'heavy intensity drizzle',\n",
    "    'light intensity drizzle rain',\n",
    "    'drizzle rain',\n",
    "    'heavy intensity drizzle rain',\n",
    "    'shower rain and drizzle',\n",
    "    'heavy shower rain and drizzle',\n",
    "    'shower drizzle',\n",
    "    # Rain\n",
    "    'light rain',\n",
    "    'moderate rain',\n",
    "    'heavy intensity rain',\n",
    "    'very heavy rain',\n",
    "    'extreme rain',\n",
    "    'freezing rain',\n",
    "    'light intensity shower rain',\n",
    "    'shower rain',\n",
    "    'heavy intensity shower rain',\n",
    "    'ragged shower rain',\n",
    "    # Snow\n",
    "    'light snow',\n",
    "    'Snow',\n",
    "    'Heavy snow',\n",
    "    'Sleet',\n",
    "    'Light shower sleet',\n",
    "    'Shower sleet',\n",
    "    'Light rain and snow',\n",
    "    'Rain and snow',\n",
    "    'Light shower snow',\n",
    "    'Shower snow',\n",
    "    'Heavy shower snow',\n",
    "    # Atmosphere\n",
    "    'mist',\n",
    "    'Smoke',\n",
    "    'Haze',\n",
    "    'sand/ dust whirls',\n",
    "    'fog',\n",
    "    'sand',\n",
    "    'dust',\n",
    "    'volcanic ash',\n",
    "    'squalls',\n",
    "    'tornado',\n",
    "    # Clear\n",
    "    'clear sky',\n",
    "    # Clouds\n",
    "    'few clouds',\n",
    "    'scattered clouds',\n",
    "    'broken clouds',\n",
    "    'overcast clouds'   \n",
    "]"
   ]
  },
  {
   "cell_type": "code",
   "execution_count": 53,
   "metadata": {},
   "outputs": [],
   "source": [
    "weather_icons = [\n",
    "    \"clear sky\",\n",
    "    \"few clouds\",\n",
    "    \"scattered clouds\",\n",
    "    \"broken clouds\",\n",
    "    \"shower rain\",\n",
    "    \"rain\",\n",
    "    \"thunderstorm\",\n",
    "    \"snow\",\n",
    "    \"mist\"\n",
    "]"
   ]
  }
 ]
}