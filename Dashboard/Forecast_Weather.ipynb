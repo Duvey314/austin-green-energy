{
 "metadata": {
  "language_info": {
   "codemirror_mode": {
    "name": "ipython",
    "version": 3
   },
   "file_extension": ".py",
   "mimetype": "text/x-python",
   "name": "python",
   "nbconvert_exporter": "python",
   "pygments_lexer": "ipython3",
   "version": "3.7.7-final"
  },
  "orig_nbformat": 2,
  "kernelspec": {
   "name": "python3",
   "display_name": "Python 3.7.7 64-bit",
   "metadata": {
    "interpreter": {
     "hash": "afc7c4a812fa55c0db985e1c504d2cd5747faf27fd01c3486b2fd8146566cace"
    }
   }
  }
 },
 "nbformat": 4,
 "nbformat_minor": 2,
 "cells": [
  {
   "cell_type": "markdown",
   "metadata": {},
   "source": [
    "# Extract Foercasted Weather Data\n",
    "# -------------------------------"
   ]
  },
  {
   "cell_type": "markdown",
   "metadata": {},
   "source": [
    "## Initial Imports"
   ]
  },
  {
   "cell_type": "code",
   "execution_count": 1,
   "metadata": {},
   "outputs": [],
   "source": [
    "# Import Dependencies\n",
    "import requests\n",
    "import pandas as pd\n",
    "import json\n",
    "import numpy as np\n",
    "import datetime\n",
    "from dateutil import tz"
   ]
  },
  {
   "cell_type": "code",
   "execution_count": 2,
   "metadata": {},
   "outputs": [],
   "source": [
    "# Import API Key\n",
    "from config import weather_api_key"
   ]
  },
  {
   "cell_type": "code",
   "execution_count": 3,
   "metadata": {},
   "outputs": [],
   "source": [
    "# Documentation\n",
    "# https://openweathermap.org/api/one-call-api"
   ]
  },
  {
   "cell_type": "markdown",
   "metadata": {},
   "source": [
    "# Define the Functions\n",
    "# --------------------"
   ]
  },
  {
   "cell_type": "code",
   "execution_count": 4,
   "metadata": {},
   "outputs": [],
   "source": [
    "def convert_DateTime_UTC_to_CST(UTC_datetime_list, list_range):\n",
    "    CST_datetime_list = []\n",
    "\n",
    "    for date in list_range:    \n",
    "        # Convert the date/time to ISO standard in string format\n",
    "        date_time = datetime.datetime.utcfromtimestamp(UTC_datetime_list[date]).strftime('%Y-%m-%d %H:%M:%S')\n",
    "        \n",
    "        # Create a datetime object, representing the UTC time\n",
    "        time_utc = datetime.datetime.strptime(date_time, '%Y-%m-%d %H:%M:%S')\n",
    "\n",
    "        # Replace the timezone field of the datetime object to UTC\n",
    "        from_zone = tz.gettz('UTC')\n",
    "        time_utc = time_utc.replace(tzinfo=from_zone)\n",
    "\n",
    "        # Convert time zone from UTC to central\n",
    "        to_zone = tz.gettz('America/Chicago')\n",
    "        time_cst = time_utc.astimezone(to_zone)\n",
    "\n",
    "        # Append the date/time, year, month, day, and hour\n",
    "        CST_datetime_list.append({\n",
    "            \"UTC_Time\": UTC_datetime_list[date],\n",
    "            \"Date_Time\": time_cst.strftime('%Y-%m-%d %H:%M:%S'),\n",
    "            \"Year\": time_cst.year,\n",
    "            \"Month\":time_cst.month,\n",
    "            \"Day\":time_cst.day,\n",
    "            \"Hour\":time_cst.hour\n",
    "            })\n",
    "\n",
    "    datetimeDataFrame = pd.DataFrame(CST_datetime_list)\n",
    "    \n",
    "    return datetimeDataFrame"
   ]
  },
  {
   "cell_type": "code",
   "execution_count": 5,
   "metadata": {},
   "outputs": [],
   "source": [
    "def calculate_sunhour(sunrise_list, sunset_list, list_range):\n",
    "    \n",
    "    sunhour_list = []\n",
    "\n",
    "    for day in list_range:\n",
    "        # Convert the date/time to ISO standard in string format\n",
    "        sunrise_date_time = datetime.datetime.utcfromtimestamp(sunrise_list[day]).strftime('%Y-%m-%d %H:%M:%S')\n",
    "        sunset_date_time = datetime.datetime.utcfromtimestamp(sunset_list[day]).strftime('%Y-%m-%d %H:%M:%S')\n",
    "\n",
    "        # Create a datetime object, representing the UTC time\n",
    "        sunrise_utc = datetime.datetime.strptime(sunrise_date_time, '%Y-%m-%d %H:%M:%S')\n",
    "        sunset_utc = datetime.datetime.strptime(sunset_date_time, '%Y-%m-%d %H:%M:%S')\n",
    "\n",
    "        # Replace the timezone field of the datetime object to UTC\n",
    "        from_zone = tz.gettz('UTC')\n",
    "        \n",
    "        sunrise_utc = sunrise_utc.replace(tzinfo=from_zone)\n",
    "        sunset_utc = sunset_utc.replace(tzinfo=from_zone)\n",
    "\n",
    "        # Convert time zone from UTC to central\n",
    "        to_zone = tz.gettz('America/Chicago')\n",
    "        \n",
    "        sunrise_cst = sunrise_utc.astimezone(to_zone)\n",
    "        sunset_cst = sunset_utc.astimezone(to_zone)\n",
    "        \n",
    "        # Convert to string\n",
    "        sunrise_str = sunrise_cst.strftime('%Y-%m-%d %H:%M:%S')\n",
    "        sunset_str = sunset_cst.strftime('%Y-%m-%d %H:%M:%S')\n",
    "\n",
    "        # Calculate Sunhour\n",
    "        sunrise = datetime.datetime.strptime(sunrise_str, '%Y-%m-%d %H:%M:%S')\n",
    "        sunset = datetime.datetime.strptime(sunset_str, '%Y-%m-%d %H:%M:%S')\n",
    "        Sunhour_timedelta = sunset - sunrise\n",
    "        Sunhour_seconds = Sunhour_timedelta.seconds\n",
    "        Sunhour = Sunhour_seconds / 3600\n",
    "\n",
    "        # Append to List\n",
    "        sunhour_list.append({\n",
    "            \"Sunrise\": sunrise_list[day],\n",
    "            \"Sunhour\": Sunhour\n",
    "        })\n",
    "        \n",
    "    sunhourDataFrame = pd.DataFrame(sunhour_list)\n",
    "    \n",
    "    return sunhourDataFrame"
   ]
  },
  {
   "cell_type": "markdown",
   "metadata": {},
   "source": [
    "# Webberville Solar Farm\n",
    "# ----------------------"
   ]
  },
  {
   "cell_type": "code",
   "execution_count": 6,
   "metadata": {
    "tags": []
   },
   "outputs": [],
   "source": [
    "# Geographical coordinates (latitude, longitude)\n",
    "lat = \"30.238333\"\n",
    "lon = \"-97.508611\"\n",
    "\n",
    "# Exclude some parts of the weather data from the API response\n",
    "    # It should be a comma-delimited list (without spaces)\n",
    "    # Options: current,minutely,hourly,daily,alerts\n",
    "part = \"minutely,alerts\"\n",
    "\n",
    "# Define the Units of measurement\n",
    "    # Options: stadnard,metric,imperial\n",
    "units = \"imperial\"\n",
    "\n",
    "# Make a request to openweathermap\n",
    "requestURL = f\"https://api.openweathermap.org/data/2.5/onecall?lat={lat}&lon={lon}&exclude={part}&units={units}&appid={weather_api_key}\"\n",
    "\n",
    "# print(requestURL)"
   ]
  },
  {
   "cell_type": "code",
   "execution_count": 7,
   "metadata": {
    "tags": []
   },
   "outputs": [
    {
     "output_type": "stream",
     "name": "stdout",
     "text": [
      "Successfully turned response into JSON object.\n"
     ]
    }
   ],
   "source": [
    "response = requests.get(requestURL)\n",
    "\n",
    "if response.status_code == 200:\n",
    "    # Turn the response into a JSON object\n",
    "    responseJson = response.json()\n",
    "    print(\"Successfully turned response into JSON object.\")\n",
    "else:\n",
    "    # Else, print the Error status code\n",
    "    print(\"The Error Status Code is:\") \n",
    "    print(response.status_code)"
   ]
  },
  {
   "cell_type": "markdown",
   "metadata": {},
   "source": [
    "# Current Weather Data:"
   ]
  },
  {
   "cell_type": "markdown",
   "metadata": {},
   "source": [
    "## Date / Time"
   ]
  },
  {
   "cell_type": "code",
   "execution_count": 8,
   "metadata": {},
   "outputs": [
    {
     "output_type": "execute_result",
     "data": {
      "text/plain": [
       "datetime.datetime(2020, 11, 15, 10, 37, 23, tzinfo=tzfile('US/Central'))"
      ]
     },
     "metadata": {},
     "execution_count": 8
    }
   ],
   "source": [
    "# Convert the date/time to ISO standard in string format\n",
    "current_date_time = datetime.datetime.utcfromtimestamp(responseJson[\"current\"][\"dt\"]).strftime('%Y-%m-%d %H:%M:%S')\n",
    "\n",
    "# Create a datetime object, representing the UTC time\n",
    "current_time_utc = datetime.datetime.strptime(current_date_time, '%Y-%m-%d %H:%M:%S')\n",
    "\n",
    "# Replace the timezone field of the datetime object to UTC\n",
    "from_zone = tz.gettz('UTC')\n",
    "current_time_utc = current_time_utc.replace(tzinfo=from_zone)\n",
    "\n",
    "# Convert time zone from UTC to central\n",
    "to_zone = tz.gettz('America/Chicago')\n",
    "current_time_cst = current_time_utc.astimezone(to_zone)\n",
    "\n",
    "# Display the current time\n",
    "current_time_cst"
   ]
  },
  {
   "cell_type": "code",
   "execution_count": 9,
   "metadata": {},
   "outputs": [
    {
     "output_type": "execute_result",
     "data": {
      "text/plain": [
       "'2020-11-15 10:37:23'"
      ]
     },
     "metadata": {},
     "execution_count": 9
    }
   ],
   "source": [
    "# Extract the date & time and store as a string\n",
    "current_Date_Time = current_time_cst.strftime('%Y-%m-%d %H:%M:%S')\n",
    "\n",
    "# Display the date & time as string\n",
    "current_Date_Time"
   ]
  },
  {
   "cell_type": "code",
   "execution_count": 10,
   "metadata": {},
   "outputs": [
    {
     "output_type": "execute_result",
     "data": {
      "text/plain": [
       "'2020-11-15'"
      ]
     },
     "metadata": {},
     "execution_count": 10
    }
   ],
   "source": [
    "# Extract the date and store as a string\n",
    "current_Date = datetime.datetime.date(current_time_cst)\n",
    "current_Date = current_Date.strftime('%Y-%m-%d')\n",
    "\n",
    "# Display the date in %Y-%m-%d\n",
    "current_Date"
   ]
  },
  {
   "cell_type": "code",
   "execution_count": 11,
   "metadata": {},
   "outputs": [
    {
     "output_type": "execute_result",
     "data": {
      "text/plain": [
       "'10:37:23'"
      ]
     },
     "metadata": {},
     "execution_count": 11
    }
   ],
   "source": [
    "# Exract the time in %H:%M:%S\n",
    "current_Time = current_time_cst.strftime('%H:%M:%S')\n",
    "\n",
    "# Display the hour\n",
    "current_Time"
   ]
  },
  {
   "cell_type": "code",
   "execution_count": 12,
   "metadata": {},
   "outputs": [
    {
     "output_type": "execute_result",
     "data": {
      "text/plain": [
       "2020"
      ]
     },
     "metadata": {},
     "execution_count": 12
    }
   ],
   "source": [
    "# Extract the year from the current time\n",
    "current_Year = current_time_cst.year\n",
    "\n",
    "# Display the year\n",
    "current_Year"
   ]
  },
  {
   "cell_type": "code",
   "execution_count": 13,
   "metadata": {},
   "outputs": [
    {
     "output_type": "execute_result",
     "data": {
      "text/plain": [
       "11"
      ]
     },
     "metadata": {},
     "execution_count": 13
    }
   ],
   "source": [
    "# Extract the month from the current time\n",
    "current_Month = current_time_cst.month\n",
    "\n",
    "# Display the year\n",
    "current_Month"
   ]
  },
  {
   "cell_type": "code",
   "execution_count": 14,
   "metadata": {},
   "outputs": [
    {
     "output_type": "execute_result",
     "data": {
      "text/plain": [
       "15"
      ]
     },
     "metadata": {},
     "execution_count": 14
    }
   ],
   "source": [
    "# Extract the day from the current time\n",
    "current_Day = current_time_cst.day\n",
    "\n",
    "# Display the day\n",
    "current_Day"
   ]
  },
  {
   "cell_type": "code",
   "execution_count": 15,
   "metadata": {},
   "outputs": [
    {
     "output_type": "execute_result",
     "data": {
      "text/plain": [
       "10"
      ]
     },
     "metadata": {},
     "execution_count": 15
    }
   ],
   "source": [
    "# Extract the hour from the current time\n",
    "current_Hour = current_time_cst.hour\n",
    "\n",
    "# Display the day\n",
    "current_Hour"
   ]
  },
  {
   "cell_type": "code",
   "execution_count": 16,
   "metadata": {},
   "outputs": [
    {
     "output_type": "execute_result",
     "data": {
      "text/plain": [
       "10"
      ]
     },
     "metadata": {},
     "execution_count": 16
    }
   ],
   "source": [
    "# Alternative:\n",
    "# Extract the hour from the current time\n",
    "current_Hour = datetime.datetime.time(current_time_cst).hour\n",
    "\n",
    "# Display the hour\n",
    "current_Hour"
   ]
  },
  {
   "cell_type": "code",
   "execution_count": 17,
   "metadata": {},
   "outputs": [
    {
     "output_type": "execute_result",
     "data": {
      "text/plain": [
       "datetime.date(2020, 11, 16)"
      ]
     },
     "metadata": {},
     "execution_count": 17
    }
   ],
   "source": [
    "# Store the next day as a variable\n",
    "next_day = datetime.date(current_Year, current_Month, current_Day) + datetime.timedelta(days=1)\n",
    "next_day"
   ]
  },
  {
   "cell_type": "markdown",
   "metadata": {},
   "source": [
    "## Weather Description"
   ]
  },
  {
   "cell_type": "code",
   "execution_count": 18,
   "metadata": {},
   "outputs": [
    {
     "output_type": "execute_result",
     "data": {
      "text/plain": [
       "'clear sky'"
      ]
     },
     "metadata": {},
     "execution_count": 18
    }
   ],
   "source": [
    "# Extract the current weather description\n",
    "current_Weather_Description = responseJson[\"current\"][\"weather\"][0][\"description\"]\n",
    "\n",
    "# Display the weather description\n",
    "current_Weather_Description"
   ]
  },
  {
   "cell_type": "markdown",
   "metadata": {},
   "source": [
    "## Temperature"
   ]
  },
  {
   "cell_type": "code",
   "execution_count": 19,
   "metadata": {},
   "outputs": [
    {
     "output_type": "execute_result",
     "data": {
      "text/plain": [
       "65.43"
      ]
     },
     "metadata": {},
     "execution_count": 19
    }
   ],
   "source": [
    "# Extract the current temperature (F)\n",
    "current_Temperature_F = responseJson[\"current\"][\"temp\"]\n",
    "\n",
    "# Display the temperature\n",
    "current_Temperature_F"
   ]
  },
  {
   "cell_type": "markdown",
   "metadata": {},
   "source": [
    "## Sunhour"
   ]
  },
  {
   "cell_type": "code",
   "execution_count": 20,
   "metadata": {},
   "outputs": [
    {
     "output_type": "execute_result",
     "data": {
      "text/plain": [
       "'2020-11-15 06:56:10'"
      ]
     },
     "metadata": {},
     "execution_count": 20
    }
   ],
   "source": [
    "# Sunrise:\n",
    "\n",
    "# Convert the date/time to ISO standard in string format\n",
    "sunrise_date_time = datetime.datetime.utcfromtimestamp(responseJson[\"current\"][\"sunrise\"]).strftime('%Y-%m-%d %H:%M:%S')\n",
    "\n",
    "# Create a datetime object, representing the UTC time\n",
    "sunrise_utc = datetime.datetime.strptime(sunrise_date_time, '%Y-%m-%d %H:%M:%S')\n",
    "\n",
    "# Replace the timezone field of the datetime object to UTC\n",
    "from_zone = tz.gettz('UTC')\n",
    "sunrise_utc = sunrise_utc.replace(tzinfo=from_zone)\n",
    "\n",
    "# Convert time zone from UTC to central\n",
    "to_zone = tz.gettz('America/Chicago')\n",
    "todays_sunrise = sunrise_utc.astimezone(to_zone)\n",
    "\n",
    "# Convert to string\n",
    "todays_sunrise = todays_sunrise.strftime('%Y-%m-%d %H:%M:%S')\n",
    "\n",
    "# Display sunrise time\n",
    "todays_sunrise"
   ]
  },
  {
   "cell_type": "code",
   "execution_count": 21,
   "metadata": {},
   "outputs": [
    {
     "output_type": "execute_result",
     "data": {
      "text/plain": [
       "'2020-11-15 17:33:34'"
      ]
     },
     "metadata": {},
     "execution_count": 21
    }
   ],
   "source": [
    "# Sunset:\n",
    "\n",
    "# Convert the date/time to ISO standard in string format\n",
    "sunset_date_time = datetime.datetime.utcfromtimestamp(responseJson[\"current\"][\"sunset\"]).strftime('%Y-%m-%d %H:%M:%S')\n",
    "\n",
    "# Create a datetime object, representing the UTC time\n",
    "sunset_utc = datetime.datetime.strptime(sunset_date_time, '%Y-%m-%d %H:%M:%S')\n",
    "\n",
    "# Replace the timezone field of the datetime object to UTC\n",
    "from_zone = tz.gettz('UTC')\n",
    "sunset_utc = sunset_utc.replace(tzinfo=from_zone)\n",
    "\n",
    "# Convert time zone from UTC to central\n",
    "to_zone = tz.gettz('America/Chicago')\n",
    "todays_sunset = sunset_utc.astimezone(to_zone)\n",
    "\n",
    "# Convert to string\n",
    "todays_sunset = todays_sunset.strftime('%Y-%m-%d %H:%M:%S')\n",
    "\n",
    "# Display sunrise time\n",
    "todays_sunset"
   ]
  },
  {
   "cell_type": "code",
   "execution_count": 22,
   "metadata": {
    "tags": []
   },
   "outputs": [
    {
     "output_type": "stream",
     "name": "stdout",
     "text": [
      "The sunhour time in %H:%M:%S : 10:37:24\nThe sunhour time in hrs : 10.623333333333333\n"
     ]
    }
   ],
   "source": [
    "todays_sunrise = datetime.datetime.strptime(todays_sunrise, '%Y-%m-%d %H:%M:%S')\n",
    "todays_sunset = datetime.datetime.strptime(todays_sunset, '%Y-%m-%d %H:%M:%S')\n",
    "Sunhour_timedelta = todays_sunset - todays_sunrise\n",
    "print(f\"The sunhour time in %H:%M:%S : {Sunhour_timedelta}\")\n",
    "Sunhour_seconds = Sunhour_timedelta.seconds\n",
    "todays_Sunhour = Sunhour_seconds / 3600\n",
    "print(f\"The sunhour time in hrs : {todays_Sunhour}\")"
   ]
  },
  {
   "cell_type": "markdown",
   "metadata": {},
   "source": [
    "## Cloud Cover"
   ]
  },
  {
   "cell_type": "code",
   "execution_count": 23,
   "metadata": {},
   "outputs": [
    {
     "output_type": "execute_result",
     "data": {
      "text/plain": [
       "1"
      ]
     },
     "metadata": {},
     "execution_count": 23
    }
   ],
   "source": [
    "# Extract the current cloud cover (%)\n",
    "current_CloudCover_percent = responseJson[\"current\"][\"clouds\"]\n",
    "\n",
    "# Display the Cloudiness, %\n",
    "current_CloudCover_percent"
   ]
  },
  {
   "cell_type": "markdown",
   "metadata": {},
   "source": [
    "## uv Index"
   ]
  },
  {
   "cell_type": "code",
   "execution_count": 24,
   "metadata": {},
   "outputs": [
    {
     "output_type": "execute_result",
     "data": {
      "text/plain": [
       "4.32"
      ]
     },
     "metadata": {},
     "execution_count": 24
    }
   ],
   "source": [
    "# Extract the current UV Index\n",
    "todays_uvIndex = responseJson[\"current\"][\"uvi\"]\n",
    "\n",
    "# Display the Midday UV index\n",
    "todays_uvIndex"
   ]
  },
  {
   "cell_type": "markdown",
   "metadata": {},
   "source": [
    "## Humidity"
   ]
  },
  {
   "cell_type": "code",
   "execution_count": 25,
   "metadata": {},
   "outputs": [
    {
     "output_type": "execute_result",
     "data": {
      "text/plain": [
       "17"
      ]
     },
     "metadata": {},
     "execution_count": 25
    }
   ],
   "source": [
    "# Extract the current humidity (%)\n",
    "current_Humidity_percent = responseJson[\"current\"][\"humidity\"]\n",
    "\n",
    "# Display the Cloudiness, %\n",
    "current_Humidity_percent"
   ]
  },
  {
   "cell_type": "markdown",
   "metadata": {},
   "source": [
    "## Current Weather DataFrame"
   ]
  },
  {
   "cell_type": "code",
   "execution_count": 26,
   "metadata": {},
   "outputs": [
    {
     "output_type": "execute_result",
     "data": {
      "text/plain": [
       "            Date_Time  Year  Month  Day  Hour  Temperature_F  \\\n",
       "0 2020-11-15 10:37:23  2020     11   15    10          65.43   \n",
       "\n",
       "   Humidity_percent    Sunhour  CloudCover_percent  uvIndex  \\\n",
       "0                17  10.623333                   1     4.32   \n",
       "\n",
       "  Weather_Description  \n",
       "0           clear sky  "
      ],
      "text/html": "<div>\n<style scoped>\n    .dataframe tbody tr th:only-of-type {\n        vertical-align: middle;\n    }\n\n    .dataframe tbody tr th {\n        vertical-align: top;\n    }\n\n    .dataframe thead th {\n        text-align: right;\n    }\n</style>\n<table border=\"1\" class=\"dataframe\">\n  <thead>\n    <tr style=\"text-align: right;\">\n      <th></th>\n      <th>Date_Time</th>\n      <th>Year</th>\n      <th>Month</th>\n      <th>Day</th>\n      <th>Hour</th>\n      <th>Temperature_F</th>\n      <th>Humidity_percent</th>\n      <th>Sunhour</th>\n      <th>CloudCover_percent</th>\n      <th>uvIndex</th>\n      <th>Weather_Description</th>\n    </tr>\n  </thead>\n  <tbody>\n    <tr>\n      <th>0</th>\n      <td>2020-11-15 10:37:23</td>\n      <td>2020</td>\n      <td>11</td>\n      <td>15</td>\n      <td>10</td>\n      <td>65.43</td>\n      <td>17</td>\n      <td>10.623333</td>\n      <td>1</td>\n      <td>4.32</td>\n      <td>clear sky</td>\n    </tr>\n  </tbody>\n</table>\n</div>"
     },
     "metadata": {},
     "execution_count": 26
    }
   ],
   "source": [
    "current_weather_DF = pd.DataFrame([{\n",
    "    \"Date_Time\": current_Date_Time,\n",
    "    \"Year\": current_Year, \n",
    "    \"Month\": current_Month, \n",
    "    \"Day\": current_Day, \n",
    "    \"Hour\": current_Hour, \n",
    "    \"Temperature_F\": current_Temperature_F, \n",
    "    \"Humidity_percent\": current_Humidity_percent,\n",
    "    \"Sunhour\": todays_Sunhour, \n",
    "    \"CloudCover_percent\": current_CloudCover_percent,\n",
    "    \"uvIndex\": todays_uvIndex,\n",
    "    \"Weather_Description\": current_Weather_Description\n",
    "}])\n",
    "\n",
    "current_weather_DF[\"Date_Time\"] = pd.to_datetime(current_weather_DF[\"Date_Time\"])\n",
    "\n",
    "current_weather_DF"
   ]
  },
  {
   "cell_type": "code",
   "execution_count": 27,
   "metadata": {},
   "outputs": [
    {
     "output_type": "execute_result",
     "data": {
      "text/plain": [
       "Date_Time              datetime64[ns]\n",
       "Year                            int64\n",
       "Month                           int64\n",
       "Day                             int64\n",
       "Hour                            int64\n",
       "Temperature_F                 float64\n",
       "Humidity_percent                int64\n",
       "Sunhour                       float64\n",
       "CloudCover_percent              int64\n",
       "uvIndex                       float64\n",
       "Weather_Description            object\n",
       "dtype: object"
      ]
     },
     "metadata": {},
     "execution_count": 27
    }
   ],
   "source": [
    "current_weather_DF.dtypes"
   ]
  },
  {
   "cell_type": "markdown",
   "metadata": {},
   "source": [
    "# Daily Forecasted Weather Data:"
   ]
  },
  {
   "cell_type": "markdown",
   "metadata": {},
   "source": [
    "## Create a dataframe for the daily forecasted weather data"
   ]
  },
  {
   "cell_type": "code",
   "execution_count": 28,
   "metadata": {},
   "outputs": [
    {
     "output_type": "execute_result",
     "data": {
      "text/plain": [
       "     UTC_Time     Sunrise      Sunset  uvIndex\n",
       "0  1605463200  1605444970  1605483214     4.32\n",
       "1  1605549600  1605531421  1605569587     4.70\n",
       "2  1605636000  1605617872  1605655961     4.52\n",
       "3  1605722400  1605704323  1605742337     4.38\n",
       "4  1605808800  1605790774  1605828715     4.14\n",
       "5  1605895200  1605877225  1605915094     4.18\n",
       "6  1605981600  1605963675  1606001474     4.31\n",
       "7  1606068000  1606050126  1606087857     4.21"
      ],
      "text/html": "<div>\n<style scoped>\n    .dataframe tbody tr th:only-of-type {\n        vertical-align: middle;\n    }\n\n    .dataframe tbody tr th {\n        vertical-align: top;\n    }\n\n    .dataframe thead th {\n        text-align: right;\n    }\n</style>\n<table border=\"1\" class=\"dataframe\">\n  <thead>\n    <tr style=\"text-align: right;\">\n      <th></th>\n      <th>UTC_Time</th>\n      <th>Sunrise</th>\n      <th>Sunset</th>\n      <th>uvIndex</th>\n    </tr>\n  </thead>\n  <tbody>\n    <tr>\n      <th>0</th>\n      <td>1605463200</td>\n      <td>1605444970</td>\n      <td>1605483214</td>\n      <td>4.32</td>\n    </tr>\n    <tr>\n      <th>1</th>\n      <td>1605549600</td>\n      <td>1605531421</td>\n      <td>1605569587</td>\n      <td>4.70</td>\n    </tr>\n    <tr>\n      <th>2</th>\n      <td>1605636000</td>\n      <td>1605617872</td>\n      <td>1605655961</td>\n      <td>4.52</td>\n    </tr>\n    <tr>\n      <th>3</th>\n      <td>1605722400</td>\n      <td>1605704323</td>\n      <td>1605742337</td>\n      <td>4.38</td>\n    </tr>\n    <tr>\n      <th>4</th>\n      <td>1605808800</td>\n      <td>1605790774</td>\n      <td>1605828715</td>\n      <td>4.14</td>\n    </tr>\n    <tr>\n      <th>5</th>\n      <td>1605895200</td>\n      <td>1605877225</td>\n      <td>1605915094</td>\n      <td>4.18</td>\n    </tr>\n    <tr>\n      <th>6</th>\n      <td>1605981600</td>\n      <td>1605963675</td>\n      <td>1606001474</td>\n      <td>4.31</td>\n    </tr>\n    <tr>\n      <th>7</th>\n      <td>1606068000</td>\n      <td>1606050126</td>\n      <td>1606087857</td>\n      <td>4.21</td>\n    </tr>\n  </tbody>\n</table>\n</div>"
     },
     "metadata": {},
     "execution_count": 28
    }
   ],
   "source": [
    "forecasted_daily_weather = []\n",
    "\n",
    "for day in np.arange(0, 8, 1):\n",
    "    forecasted_daily_weather.append({\n",
    "        \"UTC_Time\": responseJson[\"daily\"][day][\"dt\"],\n",
    "        \"Sunrise\": responseJson[\"daily\"][day][\"sunrise\"],\n",
    "        \"Sunset\": responseJson[\"daily\"][day][\"sunset\"],\n",
    "        \"uvIndex\": responseJson[\"daily\"][day][\"uvi\"]\n",
    "    })\n",
    "\n",
    "daily_weather_DF = pd.DataFrame(forecasted_daily_weather)\n",
    "daily_weather_DF"
   ]
  },
  {
   "cell_type": "markdown",
   "metadata": {},
   "source": [
    "## Clean up the UTC_Time column: Convert UTC time to CST"
   ]
  },
  {
   "cell_type": "code",
   "execution_count": 29,
   "metadata": {},
   "outputs": [
    {
     "output_type": "execute_result",
     "data": {
      "text/plain": [
       "     UTC_Time            Date_Time  Year  Month  Day  Hour\n",
       "0  1605463200  2020-11-15 12:00:00  2020     11   15    12\n",
       "1  1605549600  2020-11-16 12:00:00  2020     11   16    12\n",
       "2  1605636000  2020-11-17 12:00:00  2020     11   17    12\n",
       "3  1605722400  2020-11-18 12:00:00  2020     11   18    12\n",
       "4  1605808800  2020-11-19 12:00:00  2020     11   19    12\n",
       "5  1605895200  2020-11-20 12:00:00  2020     11   20    12\n",
       "6  1605981600  2020-11-21 12:00:00  2020     11   21    12\n",
       "7  1606068000  2020-11-22 12:00:00  2020     11   22    12"
      ],
      "text/html": "<div>\n<style scoped>\n    .dataframe tbody tr th:only-of-type {\n        vertical-align: middle;\n    }\n\n    .dataframe tbody tr th {\n        vertical-align: top;\n    }\n\n    .dataframe thead th {\n        text-align: right;\n    }\n</style>\n<table border=\"1\" class=\"dataframe\">\n  <thead>\n    <tr style=\"text-align: right;\">\n      <th></th>\n      <th>UTC_Time</th>\n      <th>Date_Time</th>\n      <th>Year</th>\n      <th>Month</th>\n      <th>Day</th>\n      <th>Hour</th>\n    </tr>\n  </thead>\n  <tbody>\n    <tr>\n      <th>0</th>\n      <td>1605463200</td>\n      <td>2020-11-15 12:00:00</td>\n      <td>2020</td>\n      <td>11</td>\n      <td>15</td>\n      <td>12</td>\n    </tr>\n    <tr>\n      <th>1</th>\n      <td>1605549600</td>\n      <td>2020-11-16 12:00:00</td>\n      <td>2020</td>\n      <td>11</td>\n      <td>16</td>\n      <td>12</td>\n    </tr>\n    <tr>\n      <th>2</th>\n      <td>1605636000</td>\n      <td>2020-11-17 12:00:00</td>\n      <td>2020</td>\n      <td>11</td>\n      <td>17</td>\n      <td>12</td>\n    </tr>\n    <tr>\n      <th>3</th>\n      <td>1605722400</td>\n      <td>2020-11-18 12:00:00</td>\n      <td>2020</td>\n      <td>11</td>\n      <td>18</td>\n      <td>12</td>\n    </tr>\n    <tr>\n      <th>4</th>\n      <td>1605808800</td>\n      <td>2020-11-19 12:00:00</td>\n      <td>2020</td>\n      <td>11</td>\n      <td>19</td>\n      <td>12</td>\n    </tr>\n    <tr>\n      <th>5</th>\n      <td>1605895200</td>\n      <td>2020-11-20 12:00:00</td>\n      <td>2020</td>\n      <td>11</td>\n      <td>20</td>\n      <td>12</td>\n    </tr>\n    <tr>\n      <th>6</th>\n      <td>1605981600</td>\n      <td>2020-11-21 12:00:00</td>\n      <td>2020</td>\n      <td>11</td>\n      <td>21</td>\n      <td>12</td>\n    </tr>\n    <tr>\n      <th>7</th>\n      <td>1606068000</td>\n      <td>2020-11-22 12:00:00</td>\n      <td>2020</td>\n      <td>11</td>\n      <td>22</td>\n      <td>12</td>\n    </tr>\n  </tbody>\n</table>\n</div>"
     },
     "metadata": {},
     "execution_count": 29
    }
   ],
   "source": [
    "daily_index = np.arange(0,8,1)\n",
    "\n",
    "daily_UTC_date_time = daily_weather_DF[\"UTC_Time\"]\n",
    "\n",
    "date_time_DF = convert_DateTime_UTC_to_CST(daily_UTC_date_time, daily_index)\n",
    "\n",
    "date_time_DF"
   ]
  },
  {
   "cell_type": "code",
   "execution_count": 30,
   "metadata": {},
   "outputs": [
    {
     "output_type": "execute_result",
     "data": {
      "text/plain": [
       "      Sunrise      Sunset  uvIndex           Date_Time  Year  Month  Day  Hour\n",
       "0  1605444970  1605483214     4.32 2020-11-15 12:00:00  2020     11   15    12\n",
       "1  1605531421  1605569587     4.70 2020-11-16 12:00:00  2020     11   16    12\n",
       "2  1605617872  1605655961     4.52 2020-11-17 12:00:00  2020     11   17    12\n",
       "3  1605704323  1605742337     4.38 2020-11-18 12:00:00  2020     11   18    12\n",
       "4  1605790774  1605828715     4.14 2020-11-19 12:00:00  2020     11   19    12\n",
       "5  1605877225  1605915094     4.18 2020-11-20 12:00:00  2020     11   20    12\n",
       "6  1605963675  1606001474     4.31 2020-11-21 12:00:00  2020     11   21    12\n",
       "7  1606050126  1606087857     4.21 2020-11-22 12:00:00  2020     11   22    12"
      ],
      "text/html": "<div>\n<style scoped>\n    .dataframe tbody tr th:only-of-type {\n        vertical-align: middle;\n    }\n\n    .dataframe tbody tr th {\n        vertical-align: top;\n    }\n\n    .dataframe thead th {\n        text-align: right;\n    }\n</style>\n<table border=\"1\" class=\"dataframe\">\n  <thead>\n    <tr style=\"text-align: right;\">\n      <th></th>\n      <th>Sunrise</th>\n      <th>Sunset</th>\n      <th>uvIndex</th>\n      <th>Date_Time</th>\n      <th>Year</th>\n      <th>Month</th>\n      <th>Day</th>\n      <th>Hour</th>\n    </tr>\n  </thead>\n  <tbody>\n    <tr>\n      <th>0</th>\n      <td>1605444970</td>\n      <td>1605483214</td>\n      <td>4.32</td>\n      <td>2020-11-15 12:00:00</td>\n      <td>2020</td>\n      <td>11</td>\n      <td>15</td>\n      <td>12</td>\n    </tr>\n    <tr>\n      <th>1</th>\n      <td>1605531421</td>\n      <td>1605569587</td>\n      <td>4.70</td>\n      <td>2020-11-16 12:00:00</td>\n      <td>2020</td>\n      <td>11</td>\n      <td>16</td>\n      <td>12</td>\n    </tr>\n    <tr>\n      <th>2</th>\n      <td>1605617872</td>\n      <td>1605655961</td>\n      <td>4.52</td>\n      <td>2020-11-17 12:00:00</td>\n      <td>2020</td>\n      <td>11</td>\n      <td>17</td>\n      <td>12</td>\n    </tr>\n    <tr>\n      <th>3</th>\n      <td>1605704323</td>\n      <td>1605742337</td>\n      <td>4.38</td>\n      <td>2020-11-18 12:00:00</td>\n      <td>2020</td>\n      <td>11</td>\n      <td>18</td>\n      <td>12</td>\n    </tr>\n    <tr>\n      <th>4</th>\n      <td>1605790774</td>\n      <td>1605828715</td>\n      <td>4.14</td>\n      <td>2020-11-19 12:00:00</td>\n      <td>2020</td>\n      <td>11</td>\n      <td>19</td>\n      <td>12</td>\n    </tr>\n    <tr>\n      <th>5</th>\n      <td>1605877225</td>\n      <td>1605915094</td>\n      <td>4.18</td>\n      <td>2020-11-20 12:00:00</td>\n      <td>2020</td>\n      <td>11</td>\n      <td>20</td>\n      <td>12</td>\n    </tr>\n    <tr>\n      <th>6</th>\n      <td>1605963675</td>\n      <td>1606001474</td>\n      <td>4.31</td>\n      <td>2020-11-21 12:00:00</td>\n      <td>2020</td>\n      <td>11</td>\n      <td>21</td>\n      <td>12</td>\n    </tr>\n    <tr>\n      <th>7</th>\n      <td>1606050126</td>\n      <td>1606087857</td>\n      <td>4.21</td>\n      <td>2020-11-22 12:00:00</td>\n      <td>2020</td>\n      <td>11</td>\n      <td>22</td>\n      <td>12</td>\n    </tr>\n  </tbody>\n</table>\n</div>"
     },
     "metadata": {},
     "execution_count": 30
    }
   ],
   "source": [
    "daily_weather_DF = pd.merge(daily_weather_DF, date_time_DF, on='UTC_Time', how='outer')\n",
    "daily_weather_DF.drop(columns=[\"UTC_Time\"], axis=1, inplace=True)\n",
    "daily_weather_DF[\"Date_Time\"] = pd.to_datetime(daily_weather_DF[\"Date_Time\"])\n",
    "daily_weather_DF"
   ]
  },
  {
   "cell_type": "markdown",
   "metadata": {},
   "source": [
    "## Use sunrise and sunset times to calculate the total hours of sunhour for each day"
   ]
  },
  {
   "cell_type": "code",
   "execution_count": 31,
   "metadata": {},
   "outputs": [
    {
     "output_type": "execute_result",
     "data": {
      "text/plain": [
       "      Sunrise    Sunhour\n",
       "0  1605444970  10.623333\n",
       "1  1605531421  10.601667\n",
       "2  1605617872  10.580278\n",
       "3  1605704323  10.559444\n",
       "4  1605790774  10.539167\n",
       "5  1605877225  10.519167\n",
       "6  1605963675  10.499722\n",
       "7  1606050126  10.480833"
      ],
      "text/html": "<div>\n<style scoped>\n    .dataframe tbody tr th:only-of-type {\n        vertical-align: middle;\n    }\n\n    .dataframe tbody tr th {\n        vertical-align: top;\n    }\n\n    .dataframe thead th {\n        text-align: right;\n    }\n</style>\n<table border=\"1\" class=\"dataframe\">\n  <thead>\n    <tr style=\"text-align: right;\">\n      <th></th>\n      <th>Sunrise</th>\n      <th>Sunhour</th>\n    </tr>\n  </thead>\n  <tbody>\n    <tr>\n      <th>0</th>\n      <td>1605444970</td>\n      <td>10.623333</td>\n    </tr>\n    <tr>\n      <th>1</th>\n      <td>1605531421</td>\n      <td>10.601667</td>\n    </tr>\n    <tr>\n      <th>2</th>\n      <td>1605617872</td>\n      <td>10.580278</td>\n    </tr>\n    <tr>\n      <th>3</th>\n      <td>1605704323</td>\n      <td>10.559444</td>\n    </tr>\n    <tr>\n      <th>4</th>\n      <td>1605790774</td>\n      <td>10.539167</td>\n    </tr>\n    <tr>\n      <th>5</th>\n      <td>1605877225</td>\n      <td>10.519167</td>\n    </tr>\n    <tr>\n      <th>6</th>\n      <td>1605963675</td>\n      <td>10.499722</td>\n    </tr>\n    <tr>\n      <th>7</th>\n      <td>1606050126</td>\n      <td>10.480833</td>\n    </tr>\n  </tbody>\n</table>\n</div>"
     },
     "metadata": {},
     "execution_count": 31
    }
   ],
   "source": [
    "daily_index = np.arange(0,8,1)\n",
    "\n",
    "UTC_sunrise = daily_weather_DF[\"Sunrise\"]\n",
    "UTC_sunset = daily_weather_DF[\"Sunset\"]\n",
    "\n",
    "sunhour_DF = calculate_sunhour(UTC_sunrise, UTC_sunset, daily_index)\n",
    "\n",
    "sunhour_DF"
   ]
  },
  {
   "cell_type": "code",
   "execution_count": 32,
   "metadata": {},
   "outputs": [
    {
     "output_type": "execute_result",
     "data": {
      "text/plain": [
       "   uvIndex           Date_Time  Year  Month  Day  Hour    Sunhour\n",
       "0     4.32 2020-11-15 12:00:00  2020     11   15    12  10.623333\n",
       "1     4.70 2020-11-16 12:00:00  2020     11   16    12  10.601667\n",
       "2     4.52 2020-11-17 12:00:00  2020     11   17    12  10.580278\n",
       "3     4.38 2020-11-18 12:00:00  2020     11   18    12  10.559444\n",
       "4     4.14 2020-11-19 12:00:00  2020     11   19    12  10.539167\n",
       "5     4.18 2020-11-20 12:00:00  2020     11   20    12  10.519167\n",
       "6     4.31 2020-11-21 12:00:00  2020     11   21    12  10.499722\n",
       "7     4.21 2020-11-22 12:00:00  2020     11   22    12  10.480833"
      ],
      "text/html": "<div>\n<style scoped>\n    .dataframe tbody tr th:only-of-type {\n        vertical-align: middle;\n    }\n\n    .dataframe tbody tr th {\n        vertical-align: top;\n    }\n\n    .dataframe thead th {\n        text-align: right;\n    }\n</style>\n<table border=\"1\" class=\"dataframe\">\n  <thead>\n    <tr style=\"text-align: right;\">\n      <th></th>\n      <th>uvIndex</th>\n      <th>Date_Time</th>\n      <th>Year</th>\n      <th>Month</th>\n      <th>Day</th>\n      <th>Hour</th>\n      <th>Sunhour</th>\n    </tr>\n  </thead>\n  <tbody>\n    <tr>\n      <th>0</th>\n      <td>4.32</td>\n      <td>2020-11-15 12:00:00</td>\n      <td>2020</td>\n      <td>11</td>\n      <td>15</td>\n      <td>12</td>\n      <td>10.623333</td>\n    </tr>\n    <tr>\n      <th>1</th>\n      <td>4.70</td>\n      <td>2020-11-16 12:00:00</td>\n      <td>2020</td>\n      <td>11</td>\n      <td>16</td>\n      <td>12</td>\n      <td>10.601667</td>\n    </tr>\n    <tr>\n      <th>2</th>\n      <td>4.52</td>\n      <td>2020-11-17 12:00:00</td>\n      <td>2020</td>\n      <td>11</td>\n      <td>17</td>\n      <td>12</td>\n      <td>10.580278</td>\n    </tr>\n    <tr>\n      <th>3</th>\n      <td>4.38</td>\n      <td>2020-11-18 12:00:00</td>\n      <td>2020</td>\n      <td>11</td>\n      <td>18</td>\n      <td>12</td>\n      <td>10.559444</td>\n    </tr>\n    <tr>\n      <th>4</th>\n      <td>4.14</td>\n      <td>2020-11-19 12:00:00</td>\n      <td>2020</td>\n      <td>11</td>\n      <td>19</td>\n      <td>12</td>\n      <td>10.539167</td>\n    </tr>\n    <tr>\n      <th>5</th>\n      <td>4.18</td>\n      <td>2020-11-20 12:00:00</td>\n      <td>2020</td>\n      <td>11</td>\n      <td>20</td>\n      <td>12</td>\n      <td>10.519167</td>\n    </tr>\n    <tr>\n      <th>6</th>\n      <td>4.31</td>\n      <td>2020-11-21 12:00:00</td>\n      <td>2020</td>\n      <td>11</td>\n      <td>21</td>\n      <td>12</td>\n      <td>10.499722</td>\n    </tr>\n    <tr>\n      <th>7</th>\n      <td>4.21</td>\n      <td>2020-11-22 12:00:00</td>\n      <td>2020</td>\n      <td>11</td>\n      <td>22</td>\n      <td>12</td>\n      <td>10.480833</td>\n    </tr>\n  </tbody>\n</table>\n</div>"
     },
     "metadata": {},
     "execution_count": 32
    }
   ],
   "source": [
    "daily_weather_DF = pd.merge(daily_weather_DF, sunhour_DF, on='Sunrise', how='outer')\n",
    "daily_weather_DF.drop(columns=[\"Sunrise\", \"Sunset\"], axis=1, inplace=True)\n",
    "daily_weather_DF"
   ]
  },
  {
   "cell_type": "markdown",
   "metadata": {},
   "source": [
    "## Display the final daily forecasted weather dataframe"
   ]
  },
  {
   "cell_type": "code",
   "execution_count": 33,
   "metadata": {},
   "outputs": [
    {
     "output_type": "execute_result",
     "data": {
      "text/plain": [
       "            Date_Time  Year  Month  Day  Hour    Sunhour  uvIndex\n",
       "0 2020-11-15 12:00:00  2020     11   15    12  10.623333     4.32\n",
       "1 2020-11-16 12:00:00  2020     11   16    12  10.601667     4.70\n",
       "2 2020-11-17 12:00:00  2020     11   17    12  10.580278     4.52\n",
       "3 2020-11-18 12:00:00  2020     11   18    12  10.559444     4.38\n",
       "4 2020-11-19 12:00:00  2020     11   19    12  10.539167     4.14\n",
       "5 2020-11-20 12:00:00  2020     11   20    12  10.519167     4.18\n",
       "6 2020-11-21 12:00:00  2020     11   21    12  10.499722     4.31\n",
       "7 2020-11-22 12:00:00  2020     11   22    12  10.480833     4.21"
      ],
      "text/html": "<div>\n<style scoped>\n    .dataframe tbody tr th:only-of-type {\n        vertical-align: middle;\n    }\n\n    .dataframe tbody tr th {\n        vertical-align: top;\n    }\n\n    .dataframe thead th {\n        text-align: right;\n    }\n</style>\n<table border=\"1\" class=\"dataframe\">\n  <thead>\n    <tr style=\"text-align: right;\">\n      <th></th>\n      <th>Date_Time</th>\n      <th>Year</th>\n      <th>Month</th>\n      <th>Day</th>\n      <th>Hour</th>\n      <th>Sunhour</th>\n      <th>uvIndex</th>\n    </tr>\n  </thead>\n  <tbody>\n    <tr>\n      <th>0</th>\n      <td>2020-11-15 12:00:00</td>\n      <td>2020</td>\n      <td>11</td>\n      <td>15</td>\n      <td>12</td>\n      <td>10.623333</td>\n      <td>4.32</td>\n    </tr>\n    <tr>\n      <th>1</th>\n      <td>2020-11-16 12:00:00</td>\n      <td>2020</td>\n      <td>11</td>\n      <td>16</td>\n      <td>12</td>\n      <td>10.601667</td>\n      <td>4.70</td>\n    </tr>\n    <tr>\n      <th>2</th>\n      <td>2020-11-17 12:00:00</td>\n      <td>2020</td>\n      <td>11</td>\n      <td>17</td>\n      <td>12</td>\n      <td>10.580278</td>\n      <td>4.52</td>\n    </tr>\n    <tr>\n      <th>3</th>\n      <td>2020-11-18 12:00:00</td>\n      <td>2020</td>\n      <td>11</td>\n      <td>18</td>\n      <td>12</td>\n      <td>10.559444</td>\n      <td>4.38</td>\n    </tr>\n    <tr>\n      <th>4</th>\n      <td>2020-11-19 12:00:00</td>\n      <td>2020</td>\n      <td>11</td>\n      <td>19</td>\n      <td>12</td>\n      <td>10.539167</td>\n      <td>4.14</td>\n    </tr>\n    <tr>\n      <th>5</th>\n      <td>2020-11-20 12:00:00</td>\n      <td>2020</td>\n      <td>11</td>\n      <td>20</td>\n      <td>12</td>\n      <td>10.519167</td>\n      <td>4.18</td>\n    </tr>\n    <tr>\n      <th>6</th>\n      <td>2020-11-21 12:00:00</td>\n      <td>2020</td>\n      <td>11</td>\n      <td>21</td>\n      <td>12</td>\n      <td>10.499722</td>\n      <td>4.31</td>\n    </tr>\n    <tr>\n      <th>7</th>\n      <td>2020-11-22 12:00:00</td>\n      <td>2020</td>\n      <td>11</td>\n      <td>22</td>\n      <td>12</td>\n      <td>10.480833</td>\n      <td>4.21</td>\n    </tr>\n  </tbody>\n</table>\n</div>"
     },
     "metadata": {},
     "execution_count": 33
    }
   ],
   "source": [
    "# Re-Order the columns\n",
    "daily_weather_DF = daily_weather_DF[[\"Date_Time\", \"Year\", \"Month\", \"Day\", \"Hour\", \"Sunhour\",\"uvIndex\"]]\n",
    "daily_weather_DF"
   ]
  },
  {
   "cell_type": "code",
   "execution_count": 34,
   "metadata": {},
   "outputs": [
    {
     "output_type": "execute_result",
     "data": {
      "text/plain": [
       "Date_Time    datetime64[ns]\n",
       "Year                  int64\n",
       "Month                 int64\n",
       "Day                   int64\n",
       "Hour                  int64\n",
       "Sunhour             float64\n",
       "uvIndex             float64\n",
       "dtype: object"
      ]
     },
     "metadata": {},
     "execution_count": 34
    }
   ],
   "source": [
    "# Check the data types\n",
    "daily_weather_DF.dtypes"
   ]
  },
  {
   "cell_type": "markdown",
   "metadata": {},
   "source": [
    "## Clean the dataframe so it can be merged with the hourly forecasted data"
   ]
  },
  {
   "cell_type": "code",
   "execution_count": 35,
   "metadata": {},
   "outputs": [
    {
     "output_type": "execute_result",
     "data": {
      "text/plain": [
       "   Day    Sunhour  uvIndex\n",
       "0   15  10.623333     4.32\n",
       "1   16  10.601667     4.70\n",
       "2   17  10.580278     4.52\n",
       "3   18  10.559444     4.38\n",
       "4   19  10.539167     4.14\n",
       "5   20  10.519167     4.18\n",
       "6   21  10.499722     4.31\n",
       "7   22  10.480833     4.21"
      ],
      "text/html": "<div>\n<style scoped>\n    .dataframe tbody tr th:only-of-type {\n        vertical-align: middle;\n    }\n\n    .dataframe tbody tr th {\n        vertical-align: top;\n    }\n\n    .dataframe thead th {\n        text-align: right;\n    }\n</style>\n<table border=\"1\" class=\"dataframe\">\n  <thead>\n    <tr style=\"text-align: right;\">\n      <th></th>\n      <th>Day</th>\n      <th>Sunhour</th>\n      <th>uvIndex</th>\n    </tr>\n  </thead>\n  <tbody>\n    <tr>\n      <th>0</th>\n      <td>15</td>\n      <td>10.623333</td>\n      <td>4.32</td>\n    </tr>\n    <tr>\n      <th>1</th>\n      <td>16</td>\n      <td>10.601667</td>\n      <td>4.70</td>\n    </tr>\n    <tr>\n      <th>2</th>\n      <td>17</td>\n      <td>10.580278</td>\n      <td>4.52</td>\n    </tr>\n    <tr>\n      <th>3</th>\n      <td>18</td>\n      <td>10.559444</td>\n      <td>4.38</td>\n    </tr>\n    <tr>\n      <th>4</th>\n      <td>19</td>\n      <td>10.539167</td>\n      <td>4.14</td>\n    </tr>\n    <tr>\n      <th>5</th>\n      <td>20</td>\n      <td>10.519167</td>\n      <td>4.18</td>\n    </tr>\n    <tr>\n      <th>6</th>\n      <td>21</td>\n      <td>10.499722</td>\n      <td>4.31</td>\n    </tr>\n    <tr>\n      <th>7</th>\n      <td>22</td>\n      <td>10.480833</td>\n      <td>4.21</td>\n    </tr>\n  </tbody>\n</table>\n</div>"
     },
     "metadata": {},
     "execution_count": 35
    }
   ],
   "source": [
    "daily_weather_DF.drop(columns=[\"Date_Time\", \"Year\", \"Month\", \"Hour\"], axis=1, inplace=True)\n",
    "daily_weather_DF"
   ]
  },
  {
   "cell_type": "markdown",
   "metadata": {},
   "source": [
    "# Hourly Forecasted Weather Data:"
   ]
  },
  {
   "cell_type": "code",
   "execution_count": 36,
   "metadata": {},
   "outputs": [
    {
     "output_type": "execute_result",
     "data": {
      "text/plain": [
       "     UTC_Time  Temperature_F Weather_Description  CloudCover_percent  \\\n",
       "0  1605456000          65.43           clear sky                   1   \n",
       "1  1605459600          66.00           clear sky                   1   \n",
       "2  1605463200          67.42           clear sky                   0   \n",
       "3  1605466800          69.13           clear sky                   0   \n",
       "4  1605470400          70.34           clear sky                   0   \n",
       "\n",
       "   Humidity_percent  \n",
       "0                17  \n",
       "1                20  \n",
       "2                21  \n",
       "3                21  \n",
       "4                20  "
      ],
      "text/html": "<div>\n<style scoped>\n    .dataframe tbody tr th:only-of-type {\n        vertical-align: middle;\n    }\n\n    .dataframe tbody tr th {\n        vertical-align: top;\n    }\n\n    .dataframe thead th {\n        text-align: right;\n    }\n</style>\n<table border=\"1\" class=\"dataframe\">\n  <thead>\n    <tr style=\"text-align: right;\">\n      <th></th>\n      <th>UTC_Time</th>\n      <th>Temperature_F</th>\n      <th>Weather_Description</th>\n      <th>CloudCover_percent</th>\n      <th>Humidity_percent</th>\n    </tr>\n  </thead>\n  <tbody>\n    <tr>\n      <th>0</th>\n      <td>1605456000</td>\n      <td>65.43</td>\n      <td>clear sky</td>\n      <td>1</td>\n      <td>17</td>\n    </tr>\n    <tr>\n      <th>1</th>\n      <td>1605459600</td>\n      <td>66.00</td>\n      <td>clear sky</td>\n      <td>1</td>\n      <td>20</td>\n    </tr>\n    <tr>\n      <th>2</th>\n      <td>1605463200</td>\n      <td>67.42</td>\n      <td>clear sky</td>\n      <td>0</td>\n      <td>21</td>\n    </tr>\n    <tr>\n      <th>3</th>\n      <td>1605466800</td>\n      <td>69.13</td>\n      <td>clear sky</td>\n      <td>0</td>\n      <td>21</td>\n    </tr>\n    <tr>\n      <th>4</th>\n      <td>1605470400</td>\n      <td>70.34</td>\n      <td>clear sky</td>\n      <td>0</td>\n      <td>20</td>\n    </tr>\n  </tbody>\n</table>\n</div>"
     },
     "metadata": {},
     "execution_count": 36
    }
   ],
   "source": [
    "forecasted_hourly_weather = []\n",
    "\n",
    "for hour in np.arange(0, 48, 1):\n",
    "    forecasted_hourly_weather.append({\n",
    "        \"UTC_Time\": responseJson[\"hourly\"][hour][\"dt\"],\n",
    "        \"Temperature_F\": responseJson[\"hourly\"][hour][\"temp\"],\n",
    "        \"Weather_Description\": responseJson[\"hourly\"][hour][\"weather\"][0][\"description\"],\n",
    "        \"CloudCover_percent\": responseJson[\"hourly\"][hour][\"clouds\"],\n",
    "        \"Humidity_percent\": responseJson[\"hourly\"][hour][\"humidity\"]\n",
    "    })\n",
    "\n",
    "hourly_weather_DF = pd.DataFrame(forecasted_hourly_weather)\n",
    "hourly_weather_DF.head()"
   ]
  },
  {
   "cell_type": "code",
   "execution_count": 37,
   "metadata": {},
   "outputs": [
    {
     "output_type": "execute_result",
     "data": {
      "text/plain": [
       "     UTC_Time            Date_Time  Year  Month  Day  Hour\n",
       "0  1605456000  2020-11-15 10:00:00  2020     11   15    10\n",
       "1  1605459600  2020-11-15 11:00:00  2020     11   15    11\n",
       "2  1605463200  2020-11-15 12:00:00  2020     11   15    12\n",
       "3  1605466800  2020-11-15 13:00:00  2020     11   15    13\n",
       "4  1605470400  2020-11-15 14:00:00  2020     11   15    14"
      ],
      "text/html": "<div>\n<style scoped>\n    .dataframe tbody tr th:only-of-type {\n        vertical-align: middle;\n    }\n\n    .dataframe tbody tr th {\n        vertical-align: top;\n    }\n\n    .dataframe thead th {\n        text-align: right;\n    }\n</style>\n<table border=\"1\" class=\"dataframe\">\n  <thead>\n    <tr style=\"text-align: right;\">\n      <th></th>\n      <th>UTC_Time</th>\n      <th>Date_Time</th>\n      <th>Year</th>\n      <th>Month</th>\n      <th>Day</th>\n      <th>Hour</th>\n    </tr>\n  </thead>\n  <tbody>\n    <tr>\n      <th>0</th>\n      <td>1605456000</td>\n      <td>2020-11-15 10:00:00</td>\n      <td>2020</td>\n      <td>11</td>\n      <td>15</td>\n      <td>10</td>\n    </tr>\n    <tr>\n      <th>1</th>\n      <td>1605459600</td>\n      <td>2020-11-15 11:00:00</td>\n      <td>2020</td>\n      <td>11</td>\n      <td>15</td>\n      <td>11</td>\n    </tr>\n    <tr>\n      <th>2</th>\n      <td>1605463200</td>\n      <td>2020-11-15 12:00:00</td>\n      <td>2020</td>\n      <td>11</td>\n      <td>15</td>\n      <td>12</td>\n    </tr>\n    <tr>\n      <th>3</th>\n      <td>1605466800</td>\n      <td>2020-11-15 13:00:00</td>\n      <td>2020</td>\n      <td>11</td>\n      <td>15</td>\n      <td>13</td>\n    </tr>\n    <tr>\n      <th>4</th>\n      <td>1605470400</td>\n      <td>2020-11-15 14:00:00</td>\n      <td>2020</td>\n      <td>11</td>\n      <td>15</td>\n      <td>14</td>\n    </tr>\n  </tbody>\n</table>\n</div>"
     },
     "metadata": {},
     "execution_count": 37
    }
   ],
   "source": [
    "hourly_index = np.arange(0,48,1)\n",
    "\n",
    "hourly_UTC_date_time = hourly_weather_DF[\"UTC_Time\"]\n",
    "\n",
    "hourly_date_time_DF = convert_DateTime_UTC_to_CST(hourly_UTC_date_time, hourly_index)\n",
    "\n",
    "hourly_date_time_DF.head()"
   ]
  },
  {
   "cell_type": "code",
   "execution_count": 38,
   "metadata": {},
   "outputs": [
    {
     "output_type": "execute_result",
     "data": {
      "text/plain": [
       "            Date_Time  Year  Month  Day  Hour  Temperature_F  \\\n",
       "0 2020-11-15 10:00:00  2020     11   15    10          65.43   \n",
       "1 2020-11-15 11:00:00  2020     11   15    11          66.00   \n",
       "2 2020-11-15 12:00:00  2020     11   15    12          67.42   \n",
       "3 2020-11-15 13:00:00  2020     11   15    13          69.13   \n",
       "4 2020-11-15 14:00:00  2020     11   15    14          70.34   \n",
       "\n",
       "   Humidity_percent  CloudCover_percent Weather_Description  \n",
       "0                17                   1           clear sky  \n",
       "1                20                   1           clear sky  \n",
       "2                21                   0           clear sky  \n",
       "3                21                   0           clear sky  \n",
       "4                20                   0           clear sky  "
      ],
      "text/html": "<div>\n<style scoped>\n    .dataframe tbody tr th:only-of-type {\n        vertical-align: middle;\n    }\n\n    .dataframe tbody tr th {\n        vertical-align: top;\n    }\n\n    .dataframe thead th {\n        text-align: right;\n    }\n</style>\n<table border=\"1\" class=\"dataframe\">\n  <thead>\n    <tr style=\"text-align: right;\">\n      <th></th>\n      <th>Date_Time</th>\n      <th>Year</th>\n      <th>Month</th>\n      <th>Day</th>\n      <th>Hour</th>\n      <th>Temperature_F</th>\n      <th>Humidity_percent</th>\n      <th>CloudCover_percent</th>\n      <th>Weather_Description</th>\n    </tr>\n  </thead>\n  <tbody>\n    <tr>\n      <th>0</th>\n      <td>2020-11-15 10:00:00</td>\n      <td>2020</td>\n      <td>11</td>\n      <td>15</td>\n      <td>10</td>\n      <td>65.43</td>\n      <td>17</td>\n      <td>1</td>\n      <td>clear sky</td>\n    </tr>\n    <tr>\n      <th>1</th>\n      <td>2020-11-15 11:00:00</td>\n      <td>2020</td>\n      <td>11</td>\n      <td>15</td>\n      <td>11</td>\n      <td>66.00</td>\n      <td>20</td>\n      <td>1</td>\n      <td>clear sky</td>\n    </tr>\n    <tr>\n      <th>2</th>\n      <td>2020-11-15 12:00:00</td>\n      <td>2020</td>\n      <td>11</td>\n      <td>15</td>\n      <td>12</td>\n      <td>67.42</td>\n      <td>21</td>\n      <td>0</td>\n      <td>clear sky</td>\n    </tr>\n    <tr>\n      <th>3</th>\n      <td>2020-11-15 13:00:00</td>\n      <td>2020</td>\n      <td>11</td>\n      <td>15</td>\n      <td>13</td>\n      <td>69.13</td>\n      <td>21</td>\n      <td>0</td>\n      <td>clear sky</td>\n    </tr>\n    <tr>\n      <th>4</th>\n      <td>2020-11-15 14:00:00</td>\n      <td>2020</td>\n      <td>11</td>\n      <td>15</td>\n      <td>14</td>\n      <td>70.34</td>\n      <td>20</td>\n      <td>0</td>\n      <td>clear sky</td>\n    </tr>\n  </tbody>\n</table>\n</div>"
     },
     "metadata": {},
     "execution_count": 38
    }
   ],
   "source": [
    "hourly_weather_DF = pd.merge(hourly_weather_DF, hourly_date_time_DF, on='UTC_Time', how='outer')\n",
    "hourly_weather_DF.drop(columns=[\"UTC_Time\"], axis=1, inplace=True)\n",
    "hourly_weather_DF[\"Date_Time\"] = pd.to_datetime(hourly_weather_DF[\"Date_Time\"])\n",
    "hourly_weather_DF = hourly_weather_DF[[\"Date_Time\", \"Year\", \"Month\", \"Day\", \"Hour\", \"Temperature_F\", \"Humidity_percent\", \"CloudCover_percent\", \"Weather_Description\"]]\n",
    "hourly_weather_DF.head()"
   ]
  },
  {
   "cell_type": "code",
   "execution_count": 39,
   "metadata": {},
   "outputs": [
    {
     "output_type": "execute_result",
     "data": {
      "text/plain": [
       "Date_Time              datetime64[ns]\n",
       "Year                            int64\n",
       "Month                           int64\n",
       "Day                             int64\n",
       "Hour                            int64\n",
       "Temperature_F                 float64\n",
       "Humidity_percent                int64\n",
       "CloudCover_percent              int64\n",
       "Weather_Description            object\n",
       "dtype: object"
      ]
     },
     "metadata": {},
     "execution_count": 39
    }
   ],
   "source": [
    "# Check the data types\n",
    "hourly_weather_DF.dtypes"
   ]
  },
  {
   "cell_type": "markdown",
   "metadata": {},
   "source": [
    "# Merge the Daily and Hourly Forecasted Weather DataFrames:"
   ]
  },
  {
   "cell_type": "code",
   "execution_count": 40,
   "metadata": {},
   "outputs": [
    {
     "output_type": "execute_result",
     "data": {
      "text/plain": [
       "             Date_Time  Year  Month  Day  Hour  Temperature_F  \\\n",
       "0  2020-11-15 10:00:00  2020     11   15    10          65.43   \n",
       "1  2020-11-15 11:00:00  2020     11   15    11          66.00   \n",
       "2  2020-11-15 12:00:00  2020     11   15    12          67.42   \n",
       "3  2020-11-15 13:00:00  2020     11   15    13          69.13   \n",
       "4  2020-11-15 14:00:00  2020     11   15    14          70.34   \n",
       "5  2020-11-15 15:00:00  2020     11   15    15          69.94   \n",
       "6  2020-11-15 16:00:00  2020     11   15    16          68.34   \n",
       "7  2020-11-15 17:00:00  2020     11   15    17          65.12   \n",
       "8  2020-11-15 18:00:00  2020     11   15    18          59.29   \n",
       "9  2020-11-15 19:00:00  2020     11   15    19          56.86   \n",
       "10 2020-11-15 20:00:00  2020     11   15    20          55.27   \n",
       "11 2020-11-15 21:00:00  2020     11   15    21          54.09   \n",
       "12 2020-11-15 22:00:00  2020     11   15    22          52.95   \n",
       "13 2020-11-15 23:00:00  2020     11   15    23          51.85   \n",
       "14 2020-11-16 00:00:00  2020     11   16     0          50.83   \n",
       "15 2020-11-16 01:00:00  2020     11   16     1          49.89   \n",
       "16 2020-11-16 02:00:00  2020     11   16     2          49.12   \n",
       "17 2020-11-16 03:00:00  2020     11   16     3          48.45   \n",
       "18 2020-11-16 04:00:00  2020     11   16     4          47.70   \n",
       "19 2020-11-16 05:00:00  2020     11   16     5          47.03   \n",
       "20 2020-11-16 06:00:00  2020     11   16     6          46.45   \n",
       "21 2020-11-16 07:00:00  2020     11   16     7          45.97   \n",
       "22 2020-11-16 08:00:00  2020     11   16     8          49.17   \n",
       "23 2020-11-16 09:00:00  2020     11   16     9          54.57   \n",
       "24 2020-11-16 10:00:00  2020     11   16    10          59.38   \n",
       "25 2020-11-16 11:00:00  2020     11   16    11          63.48   \n",
       "26 2020-11-16 12:00:00  2020     11   16    12          66.81   \n",
       "27 2020-11-16 13:00:00  2020     11   16    13          69.40   \n",
       "28 2020-11-16 14:00:00  2020     11   16    14          70.84   \n",
       "29 2020-11-16 15:00:00  2020     11   16    15          71.11   \n",
       "30 2020-11-16 16:00:00  2020     11   16    16          70.07   \n",
       "31 2020-11-16 17:00:00  2020     11   16    17          65.55   \n",
       "32 2020-11-16 18:00:00  2020     11   16    18          58.98   \n",
       "33 2020-11-16 19:00:00  2020     11   16    19          56.73   \n",
       "34 2020-11-16 20:00:00  2020     11   16    20          55.27   \n",
       "35 2020-11-16 21:00:00  2020     11   16    21          54.00   \n",
       "36 2020-11-16 22:00:00  2020     11   16    22          52.95   \n",
       "37 2020-11-16 23:00:00  2020     11   16    23          52.09   \n",
       "38 2020-11-17 00:00:00  2020     11   17     0          51.46   \n",
       "39 2020-11-17 01:00:00  2020     11   17     1          50.49   \n",
       "40 2020-11-17 02:00:00  2020     11   17     2          49.53   \n",
       "41 2020-11-17 03:00:00  2020     11   17     3          49.19   \n",
       "42 2020-11-17 04:00:00  2020     11   17     4          48.63   \n",
       "43 2020-11-17 05:00:00  2020     11   17     5          48.34   \n",
       "44 2020-11-17 06:00:00  2020     11   17     6          48.25   \n",
       "45 2020-11-17 07:00:00  2020     11   17     7          47.66   \n",
       "46 2020-11-17 08:00:00  2020     11   17     8          51.13   \n",
       "47 2020-11-17 09:00:00  2020     11   17     9          56.82   \n",
       "\n",
       "    Humidity_percent    Sunhour  CloudCover_percent  uvIndex  \\\n",
       "0                 17  10.623333                   1     4.32   \n",
       "1                 20  10.623333                   1     4.32   \n",
       "2                 21  10.623333                   0     4.32   \n",
       "3                 21  10.623333                   0     4.32   \n",
       "4                 20  10.623333                   0     4.32   \n",
       "5                 20  10.623333                   0     4.32   \n",
       "6                 22  10.623333                   0     4.32   \n",
       "7                 25  10.623333                   0     4.32   \n",
       "8                 32  10.623333                   0     4.32   \n",
       "9                 35  10.623333                   0     4.32   \n",
       "10                37  10.623333                   0     4.32   \n",
       "11                39  10.623333                   0     4.32   \n",
       "12                40  10.623333                   0     4.32   \n",
       "13                42  10.623333                   0     4.32   \n",
       "14                44  10.601667                   0     4.70   \n",
       "15                46  10.601667                   0     4.70   \n",
       "16                48  10.601667                   0     4.70   \n",
       "17                49  10.601667                   0     4.70   \n",
       "18                50  10.601667                   0     4.70   \n",
       "19                51  10.601667                   0     4.70   \n",
       "20                52  10.601667                   0     4.70   \n",
       "21                53  10.601667                   0     4.70   \n",
       "22                48  10.601667                   0     4.70   \n",
       "23                39  10.601667                   0     4.70   \n",
       "24                33  10.601667                   0     4.70   \n",
       "25                29  10.601667                   0     4.70   \n",
       "26                25  10.601667                   0     4.70   \n",
       "27                23  10.601667                   0     4.70   \n",
       "28                22  10.601667                   0     4.70   \n",
       "29                22  10.601667                   0     4.70   \n",
       "30                23  10.601667                   0     4.70   \n",
       "31                30  10.601667                   0     4.70   \n",
       "32                39  10.601667                   0     4.70   \n",
       "33                42  10.601667                   0     4.70   \n",
       "34                43  10.601667                   0     4.70   \n",
       "35                45  10.601667                   0     4.70   \n",
       "36                46  10.601667                   0     4.70   \n",
       "37                47  10.601667                   0     4.70   \n",
       "38                47  10.580278                   0     4.52   \n",
       "39                48  10.580278                   0     4.52   \n",
       "40                50  10.580278                   0     4.52   \n",
       "41                50  10.580278                   0     4.52   \n",
       "42                51  10.580278                   0     4.52   \n",
       "43                52  10.580278                   0     4.52   \n",
       "44                52  10.580278                   0     4.52   \n",
       "45                53  10.580278                   0     4.52   \n",
       "46                47  10.580278                   0     4.52   \n",
       "47                38  10.580278                   0     4.52   \n",
       "\n",
       "   Weather_Description  \n",
       "0            clear sky  \n",
       "1            clear sky  \n",
       "2            clear sky  \n",
       "3            clear sky  \n",
       "4            clear sky  \n",
       "5            clear sky  \n",
       "6            clear sky  \n",
       "7            clear sky  \n",
       "8            clear sky  \n",
       "9            clear sky  \n",
       "10           clear sky  \n",
       "11           clear sky  \n",
       "12           clear sky  \n",
       "13           clear sky  \n",
       "14           clear sky  \n",
       "15           clear sky  \n",
       "16           clear sky  \n",
       "17           clear sky  \n",
       "18           clear sky  \n",
       "19           clear sky  \n",
       "20           clear sky  \n",
       "21           clear sky  \n",
       "22           clear sky  \n",
       "23           clear sky  \n",
       "24           clear sky  \n",
       "25           clear sky  \n",
       "26           clear sky  \n",
       "27           clear sky  \n",
       "28           clear sky  \n",
       "29           clear sky  \n",
       "30           clear sky  \n",
       "31           clear sky  \n",
       "32           clear sky  \n",
       "33           clear sky  \n",
       "34           clear sky  \n",
       "35           clear sky  \n",
       "36           clear sky  \n",
       "37           clear sky  \n",
       "38           clear sky  \n",
       "39           clear sky  \n",
       "40           clear sky  \n",
       "41           clear sky  \n",
       "42           clear sky  \n",
       "43           clear sky  \n",
       "44           clear sky  \n",
       "45           clear sky  \n",
       "46           clear sky  \n",
       "47           clear sky  "
      ],
      "text/html": "<div>\n<style scoped>\n    .dataframe tbody tr th:only-of-type {\n        vertical-align: middle;\n    }\n\n    .dataframe tbody tr th {\n        vertical-align: top;\n    }\n\n    .dataframe thead th {\n        text-align: right;\n    }\n</style>\n<table border=\"1\" class=\"dataframe\">\n  <thead>\n    <tr style=\"text-align: right;\">\n      <th></th>\n      <th>Date_Time</th>\n      <th>Year</th>\n      <th>Month</th>\n      <th>Day</th>\n      <th>Hour</th>\n      <th>Temperature_F</th>\n      <th>Humidity_percent</th>\n      <th>Sunhour</th>\n      <th>CloudCover_percent</th>\n      <th>uvIndex</th>\n      <th>Weather_Description</th>\n    </tr>\n  </thead>\n  <tbody>\n    <tr>\n      <th>0</th>\n      <td>2020-11-15 10:00:00</td>\n      <td>2020</td>\n      <td>11</td>\n      <td>15</td>\n      <td>10</td>\n      <td>65.43</td>\n      <td>17</td>\n      <td>10.623333</td>\n      <td>1</td>\n      <td>4.32</td>\n      <td>clear sky</td>\n    </tr>\n    <tr>\n      <th>1</th>\n      <td>2020-11-15 11:00:00</td>\n      <td>2020</td>\n      <td>11</td>\n      <td>15</td>\n      <td>11</td>\n      <td>66.00</td>\n      <td>20</td>\n      <td>10.623333</td>\n      <td>1</td>\n      <td>4.32</td>\n      <td>clear sky</td>\n    </tr>\n    <tr>\n      <th>2</th>\n      <td>2020-11-15 12:00:00</td>\n      <td>2020</td>\n      <td>11</td>\n      <td>15</td>\n      <td>12</td>\n      <td>67.42</td>\n      <td>21</td>\n      <td>10.623333</td>\n      <td>0</td>\n      <td>4.32</td>\n      <td>clear sky</td>\n    </tr>\n    <tr>\n      <th>3</th>\n      <td>2020-11-15 13:00:00</td>\n      <td>2020</td>\n      <td>11</td>\n      <td>15</td>\n      <td>13</td>\n      <td>69.13</td>\n      <td>21</td>\n      <td>10.623333</td>\n      <td>0</td>\n      <td>4.32</td>\n      <td>clear sky</td>\n    </tr>\n    <tr>\n      <th>4</th>\n      <td>2020-11-15 14:00:00</td>\n      <td>2020</td>\n      <td>11</td>\n      <td>15</td>\n      <td>14</td>\n      <td>70.34</td>\n      <td>20</td>\n      <td>10.623333</td>\n      <td>0</td>\n      <td>4.32</td>\n      <td>clear sky</td>\n    </tr>\n    <tr>\n      <th>5</th>\n      <td>2020-11-15 15:00:00</td>\n      <td>2020</td>\n      <td>11</td>\n      <td>15</td>\n      <td>15</td>\n      <td>69.94</td>\n      <td>20</td>\n      <td>10.623333</td>\n      <td>0</td>\n      <td>4.32</td>\n      <td>clear sky</td>\n    </tr>\n    <tr>\n      <th>6</th>\n      <td>2020-11-15 16:00:00</td>\n      <td>2020</td>\n      <td>11</td>\n      <td>15</td>\n      <td>16</td>\n      <td>68.34</td>\n      <td>22</td>\n      <td>10.623333</td>\n      <td>0</td>\n      <td>4.32</td>\n      <td>clear sky</td>\n    </tr>\n    <tr>\n      <th>7</th>\n      <td>2020-11-15 17:00:00</td>\n      <td>2020</td>\n      <td>11</td>\n      <td>15</td>\n      <td>17</td>\n      <td>65.12</td>\n      <td>25</td>\n      <td>10.623333</td>\n      <td>0</td>\n      <td>4.32</td>\n      <td>clear sky</td>\n    </tr>\n    <tr>\n      <th>8</th>\n      <td>2020-11-15 18:00:00</td>\n      <td>2020</td>\n      <td>11</td>\n      <td>15</td>\n      <td>18</td>\n      <td>59.29</td>\n      <td>32</td>\n      <td>10.623333</td>\n      <td>0</td>\n      <td>4.32</td>\n      <td>clear sky</td>\n    </tr>\n    <tr>\n      <th>9</th>\n      <td>2020-11-15 19:00:00</td>\n      <td>2020</td>\n      <td>11</td>\n      <td>15</td>\n      <td>19</td>\n      <td>56.86</td>\n      <td>35</td>\n      <td>10.623333</td>\n      <td>0</td>\n      <td>4.32</td>\n      <td>clear sky</td>\n    </tr>\n    <tr>\n      <th>10</th>\n      <td>2020-11-15 20:00:00</td>\n      <td>2020</td>\n      <td>11</td>\n      <td>15</td>\n      <td>20</td>\n      <td>55.27</td>\n      <td>37</td>\n      <td>10.623333</td>\n      <td>0</td>\n      <td>4.32</td>\n      <td>clear sky</td>\n    </tr>\n    <tr>\n      <th>11</th>\n      <td>2020-11-15 21:00:00</td>\n      <td>2020</td>\n      <td>11</td>\n      <td>15</td>\n      <td>21</td>\n      <td>54.09</td>\n      <td>39</td>\n      <td>10.623333</td>\n      <td>0</td>\n      <td>4.32</td>\n      <td>clear sky</td>\n    </tr>\n    <tr>\n      <th>12</th>\n      <td>2020-11-15 22:00:00</td>\n      <td>2020</td>\n      <td>11</td>\n      <td>15</td>\n      <td>22</td>\n      <td>52.95</td>\n      <td>40</td>\n      <td>10.623333</td>\n      <td>0</td>\n      <td>4.32</td>\n      <td>clear sky</td>\n    </tr>\n    <tr>\n      <th>13</th>\n      <td>2020-11-15 23:00:00</td>\n      <td>2020</td>\n      <td>11</td>\n      <td>15</td>\n      <td>23</td>\n      <td>51.85</td>\n      <td>42</td>\n      <td>10.623333</td>\n      <td>0</td>\n      <td>4.32</td>\n      <td>clear sky</td>\n    </tr>\n    <tr>\n      <th>14</th>\n      <td>2020-11-16 00:00:00</td>\n      <td>2020</td>\n      <td>11</td>\n      <td>16</td>\n      <td>0</td>\n      <td>50.83</td>\n      <td>44</td>\n      <td>10.601667</td>\n      <td>0</td>\n      <td>4.70</td>\n      <td>clear sky</td>\n    </tr>\n    <tr>\n      <th>15</th>\n      <td>2020-11-16 01:00:00</td>\n      <td>2020</td>\n      <td>11</td>\n      <td>16</td>\n      <td>1</td>\n      <td>49.89</td>\n      <td>46</td>\n      <td>10.601667</td>\n      <td>0</td>\n      <td>4.70</td>\n      <td>clear sky</td>\n    </tr>\n    <tr>\n      <th>16</th>\n      <td>2020-11-16 02:00:00</td>\n      <td>2020</td>\n      <td>11</td>\n      <td>16</td>\n      <td>2</td>\n      <td>49.12</td>\n      <td>48</td>\n      <td>10.601667</td>\n      <td>0</td>\n      <td>4.70</td>\n      <td>clear sky</td>\n    </tr>\n    <tr>\n      <th>17</th>\n      <td>2020-11-16 03:00:00</td>\n      <td>2020</td>\n      <td>11</td>\n      <td>16</td>\n      <td>3</td>\n      <td>48.45</td>\n      <td>49</td>\n      <td>10.601667</td>\n      <td>0</td>\n      <td>4.70</td>\n      <td>clear sky</td>\n    </tr>\n    <tr>\n      <th>18</th>\n      <td>2020-11-16 04:00:00</td>\n      <td>2020</td>\n      <td>11</td>\n      <td>16</td>\n      <td>4</td>\n      <td>47.70</td>\n      <td>50</td>\n      <td>10.601667</td>\n      <td>0</td>\n      <td>4.70</td>\n      <td>clear sky</td>\n    </tr>\n    <tr>\n      <th>19</th>\n      <td>2020-11-16 05:00:00</td>\n      <td>2020</td>\n      <td>11</td>\n      <td>16</td>\n      <td>5</td>\n      <td>47.03</td>\n      <td>51</td>\n      <td>10.601667</td>\n      <td>0</td>\n      <td>4.70</td>\n      <td>clear sky</td>\n    </tr>\n    <tr>\n      <th>20</th>\n      <td>2020-11-16 06:00:00</td>\n      <td>2020</td>\n      <td>11</td>\n      <td>16</td>\n      <td>6</td>\n      <td>46.45</td>\n      <td>52</td>\n      <td>10.601667</td>\n      <td>0</td>\n      <td>4.70</td>\n      <td>clear sky</td>\n    </tr>\n    <tr>\n      <th>21</th>\n      <td>2020-11-16 07:00:00</td>\n      <td>2020</td>\n      <td>11</td>\n      <td>16</td>\n      <td>7</td>\n      <td>45.97</td>\n      <td>53</td>\n      <td>10.601667</td>\n      <td>0</td>\n      <td>4.70</td>\n      <td>clear sky</td>\n    </tr>\n    <tr>\n      <th>22</th>\n      <td>2020-11-16 08:00:00</td>\n      <td>2020</td>\n      <td>11</td>\n      <td>16</td>\n      <td>8</td>\n      <td>49.17</td>\n      <td>48</td>\n      <td>10.601667</td>\n      <td>0</td>\n      <td>4.70</td>\n      <td>clear sky</td>\n    </tr>\n    <tr>\n      <th>23</th>\n      <td>2020-11-16 09:00:00</td>\n      <td>2020</td>\n      <td>11</td>\n      <td>16</td>\n      <td>9</td>\n      <td>54.57</td>\n      <td>39</td>\n      <td>10.601667</td>\n      <td>0</td>\n      <td>4.70</td>\n      <td>clear sky</td>\n    </tr>\n    <tr>\n      <th>24</th>\n      <td>2020-11-16 10:00:00</td>\n      <td>2020</td>\n      <td>11</td>\n      <td>16</td>\n      <td>10</td>\n      <td>59.38</td>\n      <td>33</td>\n      <td>10.601667</td>\n      <td>0</td>\n      <td>4.70</td>\n      <td>clear sky</td>\n    </tr>\n    <tr>\n      <th>25</th>\n      <td>2020-11-16 11:00:00</td>\n      <td>2020</td>\n      <td>11</td>\n      <td>16</td>\n      <td>11</td>\n      <td>63.48</td>\n      <td>29</td>\n      <td>10.601667</td>\n      <td>0</td>\n      <td>4.70</td>\n      <td>clear sky</td>\n    </tr>\n    <tr>\n      <th>26</th>\n      <td>2020-11-16 12:00:00</td>\n      <td>2020</td>\n      <td>11</td>\n      <td>16</td>\n      <td>12</td>\n      <td>66.81</td>\n      <td>25</td>\n      <td>10.601667</td>\n      <td>0</td>\n      <td>4.70</td>\n      <td>clear sky</td>\n    </tr>\n    <tr>\n      <th>27</th>\n      <td>2020-11-16 13:00:00</td>\n      <td>2020</td>\n      <td>11</td>\n      <td>16</td>\n      <td>13</td>\n      <td>69.40</td>\n      <td>23</td>\n      <td>10.601667</td>\n      <td>0</td>\n      <td>4.70</td>\n      <td>clear sky</td>\n    </tr>\n    <tr>\n      <th>28</th>\n      <td>2020-11-16 14:00:00</td>\n      <td>2020</td>\n      <td>11</td>\n      <td>16</td>\n      <td>14</td>\n      <td>70.84</td>\n      <td>22</td>\n      <td>10.601667</td>\n      <td>0</td>\n      <td>4.70</td>\n      <td>clear sky</td>\n    </tr>\n    <tr>\n      <th>29</th>\n      <td>2020-11-16 15:00:00</td>\n      <td>2020</td>\n      <td>11</td>\n      <td>16</td>\n      <td>15</td>\n      <td>71.11</td>\n      <td>22</td>\n      <td>10.601667</td>\n      <td>0</td>\n      <td>4.70</td>\n      <td>clear sky</td>\n    </tr>\n    <tr>\n      <th>30</th>\n      <td>2020-11-16 16:00:00</td>\n      <td>2020</td>\n      <td>11</td>\n      <td>16</td>\n      <td>16</td>\n      <td>70.07</td>\n      <td>23</td>\n      <td>10.601667</td>\n      <td>0</td>\n      <td>4.70</td>\n      <td>clear sky</td>\n    </tr>\n    <tr>\n      <th>31</th>\n      <td>2020-11-16 17:00:00</td>\n      <td>2020</td>\n      <td>11</td>\n      <td>16</td>\n      <td>17</td>\n      <td>65.55</td>\n      <td>30</td>\n      <td>10.601667</td>\n      <td>0</td>\n      <td>4.70</td>\n      <td>clear sky</td>\n    </tr>\n    <tr>\n      <th>32</th>\n      <td>2020-11-16 18:00:00</td>\n      <td>2020</td>\n      <td>11</td>\n      <td>16</td>\n      <td>18</td>\n      <td>58.98</td>\n      <td>39</td>\n      <td>10.601667</td>\n      <td>0</td>\n      <td>4.70</td>\n      <td>clear sky</td>\n    </tr>\n    <tr>\n      <th>33</th>\n      <td>2020-11-16 19:00:00</td>\n      <td>2020</td>\n      <td>11</td>\n      <td>16</td>\n      <td>19</td>\n      <td>56.73</td>\n      <td>42</td>\n      <td>10.601667</td>\n      <td>0</td>\n      <td>4.70</td>\n      <td>clear sky</td>\n    </tr>\n    <tr>\n      <th>34</th>\n      <td>2020-11-16 20:00:00</td>\n      <td>2020</td>\n      <td>11</td>\n      <td>16</td>\n      <td>20</td>\n      <td>55.27</td>\n      <td>43</td>\n      <td>10.601667</td>\n      <td>0</td>\n      <td>4.70</td>\n      <td>clear sky</td>\n    </tr>\n    <tr>\n      <th>35</th>\n      <td>2020-11-16 21:00:00</td>\n      <td>2020</td>\n      <td>11</td>\n      <td>16</td>\n      <td>21</td>\n      <td>54.00</td>\n      <td>45</td>\n      <td>10.601667</td>\n      <td>0</td>\n      <td>4.70</td>\n      <td>clear sky</td>\n    </tr>\n    <tr>\n      <th>36</th>\n      <td>2020-11-16 22:00:00</td>\n      <td>2020</td>\n      <td>11</td>\n      <td>16</td>\n      <td>22</td>\n      <td>52.95</td>\n      <td>46</td>\n      <td>10.601667</td>\n      <td>0</td>\n      <td>4.70</td>\n      <td>clear sky</td>\n    </tr>\n    <tr>\n      <th>37</th>\n      <td>2020-11-16 23:00:00</td>\n      <td>2020</td>\n      <td>11</td>\n      <td>16</td>\n      <td>23</td>\n      <td>52.09</td>\n      <td>47</td>\n      <td>10.601667</td>\n      <td>0</td>\n      <td>4.70</td>\n      <td>clear sky</td>\n    </tr>\n    <tr>\n      <th>38</th>\n      <td>2020-11-17 00:00:00</td>\n      <td>2020</td>\n      <td>11</td>\n      <td>17</td>\n      <td>0</td>\n      <td>51.46</td>\n      <td>47</td>\n      <td>10.580278</td>\n      <td>0</td>\n      <td>4.52</td>\n      <td>clear sky</td>\n    </tr>\n    <tr>\n      <th>39</th>\n      <td>2020-11-17 01:00:00</td>\n      <td>2020</td>\n      <td>11</td>\n      <td>17</td>\n      <td>1</td>\n      <td>50.49</td>\n      <td>48</td>\n      <td>10.580278</td>\n      <td>0</td>\n      <td>4.52</td>\n      <td>clear sky</td>\n    </tr>\n    <tr>\n      <th>40</th>\n      <td>2020-11-17 02:00:00</td>\n      <td>2020</td>\n      <td>11</td>\n      <td>17</td>\n      <td>2</td>\n      <td>49.53</td>\n      <td>50</td>\n      <td>10.580278</td>\n      <td>0</td>\n      <td>4.52</td>\n      <td>clear sky</td>\n    </tr>\n    <tr>\n      <th>41</th>\n      <td>2020-11-17 03:00:00</td>\n      <td>2020</td>\n      <td>11</td>\n      <td>17</td>\n      <td>3</td>\n      <td>49.19</td>\n      <td>50</td>\n      <td>10.580278</td>\n      <td>0</td>\n      <td>4.52</td>\n      <td>clear sky</td>\n    </tr>\n    <tr>\n      <th>42</th>\n      <td>2020-11-17 04:00:00</td>\n      <td>2020</td>\n      <td>11</td>\n      <td>17</td>\n      <td>4</td>\n      <td>48.63</td>\n      <td>51</td>\n      <td>10.580278</td>\n      <td>0</td>\n      <td>4.52</td>\n      <td>clear sky</td>\n    </tr>\n    <tr>\n      <th>43</th>\n      <td>2020-11-17 05:00:00</td>\n      <td>2020</td>\n      <td>11</td>\n      <td>17</td>\n      <td>5</td>\n      <td>48.34</td>\n      <td>52</td>\n      <td>10.580278</td>\n      <td>0</td>\n      <td>4.52</td>\n      <td>clear sky</td>\n    </tr>\n    <tr>\n      <th>44</th>\n      <td>2020-11-17 06:00:00</td>\n      <td>2020</td>\n      <td>11</td>\n      <td>17</td>\n      <td>6</td>\n      <td>48.25</td>\n      <td>52</td>\n      <td>10.580278</td>\n      <td>0</td>\n      <td>4.52</td>\n      <td>clear sky</td>\n    </tr>\n    <tr>\n      <th>45</th>\n      <td>2020-11-17 07:00:00</td>\n      <td>2020</td>\n      <td>11</td>\n      <td>17</td>\n      <td>7</td>\n      <td>47.66</td>\n      <td>53</td>\n      <td>10.580278</td>\n      <td>0</td>\n      <td>4.52</td>\n      <td>clear sky</td>\n    </tr>\n    <tr>\n      <th>46</th>\n      <td>2020-11-17 08:00:00</td>\n      <td>2020</td>\n      <td>11</td>\n      <td>17</td>\n      <td>8</td>\n      <td>51.13</td>\n      <td>47</td>\n      <td>10.580278</td>\n      <td>0</td>\n      <td>4.52</td>\n      <td>clear sky</td>\n    </tr>\n    <tr>\n      <th>47</th>\n      <td>2020-11-17 09:00:00</td>\n      <td>2020</td>\n      <td>11</td>\n      <td>17</td>\n      <td>9</td>\n      <td>56.82</td>\n      <td>38</td>\n      <td>10.580278</td>\n      <td>0</td>\n      <td>4.52</td>\n      <td>clear sky</td>\n    </tr>\n  </tbody>\n</table>\n</div>"
     },
     "metadata": {},
     "execution_count": 40
    }
   ],
   "source": [
    "forecasted_weather_DF = pd.merge(hourly_weather_DF, daily_weather_DF, on='Day', how='inner')\n",
    "forecasted_weather_DF = forecasted_weather_DF[[\"Date_Time\", \"Year\", \"Month\", \"Day\", \"Hour\", \"Temperature_F\", \"Humidity_percent\", \"Sunhour\", \"CloudCover_percent\", \"uvIndex\", \"Weather_Description\"]]\n",
    "\n",
    "forecasted_weather_DF"
   ]
  },
  {
   "cell_type": "code",
   "execution_count": 41,
   "metadata": {},
   "outputs": [
    {
     "output_type": "execute_result",
     "data": {
      "text/plain": [
       "Date_Time              datetime64[ns]\n",
       "Year                            int64\n",
       "Month                           int64\n",
       "Day                             int64\n",
       "Hour                            int64\n",
       "Temperature_F                 float64\n",
       "Humidity_percent                int64\n",
       "Sunhour                       float64\n",
       "CloudCover_percent              int64\n",
       "uvIndex                       float64\n",
       "Weather_Description            object\n",
       "dtype: object"
      ]
     },
     "metadata": {},
     "execution_count": 41
    }
   ],
   "source": [
    "forecasted_weather_DF.dtypes"
   ]
  },
  {
   "cell_type": "markdown",
   "metadata": {},
   "source": [
    "# Hackberry Wind Farm\n",
    "# -------------------"
   ]
  },
  {
   "cell_type": "code",
   "execution_count": 42,
   "metadata": {
    "tags": []
   },
   "outputs": [],
   "source": [
    "# Geographical coordinates (latitude, longitude)\n",
    "lat = \"32.776111\"\n",
    "lon = \"-99.476444\"\n",
    "\n",
    "# Exclude some parts of the weather data from the API response\n",
    "    # It should be a comma-delimited list (without spaces)\n",
    "    # Options: current,minutely,hourly,daily,alerts\n",
    "part = \"minutely,alerts\"\n",
    "\n",
    "# Define the Units of measurement\n",
    "    # Options: stadnard,metric,imperial\n",
    "units = \"imperial\"\n",
    "\n",
    "# Make a request to openweathermap\n",
    "requestURL = f\"https://api.openweathermap.org/data/2.5/onecall?lat={lat}&lon={lon}&exclude={part}&units={units}&appid={weather_api_key}\"\n",
    "\n",
    "# print(requestURL)"
   ]
  },
  {
   "cell_type": "code",
   "execution_count": 43,
   "metadata": {
    "tags": []
   },
   "outputs": [
    {
     "output_type": "stream",
     "name": "stdout",
     "text": [
      "Successfully turned response into JSON object.\n"
     ]
    }
   ],
   "source": [
    "response = requests.get(requestURL)\n",
    "\n",
    "if response.status_code == 200:\n",
    "    # Turn the response into a JSON object\n",
    "    responseJson = response.json()\n",
    "    print(\"Successfully turned response into JSON object.\")\n",
    "else:\n",
    "    # Else, print the Error status code\n",
    "    print(\"The Error Status Code is:\") \n",
    "    print(response.status_code)"
   ]
  },
  {
   "cell_type": "markdown",
   "metadata": {},
   "source": [
    "# Current Weather"
   ]
  },
  {
   "cell_type": "code",
   "execution_count": 44,
   "metadata": {
    "tags": []
   },
   "outputs": [
    {
     "output_type": "execute_result",
     "data": {
      "text/plain": [
       "     UTC_Time            Date_Time  Year  Month  Day  Hour\n",
       "0  1605458244  2020-11-15 10:37:24  2020     11   15    10"
      ],
      "text/html": "<div>\n<style scoped>\n    .dataframe tbody tr th:only-of-type {\n        vertical-align: middle;\n    }\n\n    .dataframe tbody tr th {\n        vertical-align: top;\n    }\n\n    .dataframe thead th {\n        text-align: right;\n    }\n</style>\n<table border=\"1\" class=\"dataframe\">\n  <thead>\n    <tr style=\"text-align: right;\">\n      <th></th>\n      <th>UTC_Time</th>\n      <th>Date_Time</th>\n      <th>Year</th>\n      <th>Month</th>\n      <th>Day</th>\n      <th>Hour</th>\n    </tr>\n  </thead>\n  <tbody>\n    <tr>\n      <th>0</th>\n      <td>1605458244</td>\n      <td>2020-11-15 10:37:24</td>\n      <td>2020</td>\n      <td>11</td>\n      <td>15</td>\n      <td>10</td>\n    </tr>\n  </tbody>\n</table>\n</div>"
     },
     "metadata": {},
     "execution_count": 44
    }
   ],
   "source": [
    "current_date_time_UCT = [responseJson[\"current\"][\"dt\"]]\n",
    "current_weather_index = np.arange(0,len(current_date_time_UCT),1)\n",
    "\n",
    "current_date_time_DF = convert_DateTime_UTC_to_CST(current_date_time_UCT, current_weather_index)\n",
    "\n",
    "current_date_time_DF.head()"
   ]
  },
  {
   "cell_type": "code",
   "execution_count": 45,
   "metadata": {},
   "outputs": [
    {
     "output_type": "execute_result",
     "data": {
      "text/plain": [
       "     UTC_Time  Temperature_F Weather_Description  Humidity_percent  \\\n",
       "0  1605458244          55.11           clear sky                20   \n",
       "\n",
       "   WindSpeed_mph  WindDirection_degrees  \n",
       "0          13.87                     30  "
      ],
      "text/html": "<div>\n<style scoped>\n    .dataframe tbody tr th:only-of-type {\n        vertical-align: middle;\n    }\n\n    .dataframe tbody tr th {\n        vertical-align: top;\n    }\n\n    .dataframe thead th {\n        text-align: right;\n    }\n</style>\n<table border=\"1\" class=\"dataframe\">\n  <thead>\n    <tr style=\"text-align: right;\">\n      <th></th>\n      <th>UTC_Time</th>\n      <th>Temperature_F</th>\n      <th>Weather_Description</th>\n      <th>Humidity_percent</th>\n      <th>WindSpeed_mph</th>\n      <th>WindDirection_degrees</th>\n    </tr>\n  </thead>\n  <tbody>\n    <tr>\n      <th>0</th>\n      <td>1605458244</td>\n      <td>55.11</td>\n      <td>clear sky</td>\n      <td>20</td>\n      <td>13.87</td>\n      <td>30</td>\n    </tr>\n  </tbody>\n</table>\n</div>"
     },
     "metadata": {},
     "execution_count": 45
    }
   ],
   "source": [
    "current_weather_DF = pd.DataFrame([{\n",
    "    \"UTC_Time\": responseJson[\"current\"][\"dt\"],\n",
    "    \"Temperature_F\": responseJson[\"current\"][\"temp\"], \n",
    "    \"Weather_Description\": responseJson[\"current\"][\"weather\"][0][\"description\"],\n",
    "    \"Humidity_percent\": responseJson[\"current\"][\"humidity\"],\n",
    "    \"WindSpeed_mph\": responseJson[\"current\"][\"wind_speed\"],\n",
    "    \"WindDirection_degrees\": responseJson[\"current\"][\"wind_deg\"]\n",
    "}])\n",
    "\n",
    "current_weather_DF"
   ]
  },
  {
   "cell_type": "code",
   "execution_count": 46,
   "metadata": {},
   "outputs": [
    {
     "output_type": "execute_result",
     "data": {
      "text/plain": [
       "            Date_Time  Year  Month  Day  Hour  Temperature_F  \\\n",
       "0 2020-11-15 10:37:24  2020     11   15    10          55.11   \n",
       "\n",
       "   Humidity_percent  WindSpeed_mph  WindDirection_degrees Weather_Description  \n",
       "0                20          13.87                     30           clear sky  "
      ],
      "text/html": "<div>\n<style scoped>\n    .dataframe tbody tr th:only-of-type {\n        vertical-align: middle;\n    }\n\n    .dataframe tbody tr th {\n        vertical-align: top;\n    }\n\n    .dataframe thead th {\n        text-align: right;\n    }\n</style>\n<table border=\"1\" class=\"dataframe\">\n  <thead>\n    <tr style=\"text-align: right;\">\n      <th></th>\n      <th>Date_Time</th>\n      <th>Year</th>\n      <th>Month</th>\n      <th>Day</th>\n      <th>Hour</th>\n      <th>Temperature_F</th>\n      <th>Humidity_percent</th>\n      <th>WindSpeed_mph</th>\n      <th>WindDirection_degrees</th>\n      <th>Weather_Description</th>\n    </tr>\n  </thead>\n  <tbody>\n    <tr>\n      <th>0</th>\n      <td>2020-11-15 10:37:24</td>\n      <td>2020</td>\n      <td>11</td>\n      <td>15</td>\n      <td>10</td>\n      <td>55.11</td>\n      <td>20</td>\n      <td>13.87</td>\n      <td>30</td>\n      <td>clear sky</td>\n    </tr>\n  </tbody>\n</table>\n</div>"
     },
     "metadata": {},
     "execution_count": 46
    }
   ],
   "source": [
    "current_weather_DF = pd.merge(current_weather_DF, current_date_time_DF, on='UTC_Time', how='inner')\n",
    "current_weather_DF.drop(columns=[\"UTC_Time\"], axis=1, inplace=True)\n",
    "current_weather_DF[\"Date_Time\"] = pd.to_datetime(current_weather_DF[\"Date_Time\"])\n",
    "current_weather_DF = current_weather_DF[[\"Date_Time\", \"Year\", \"Month\", \"Day\", \"Hour\", \"Temperature_F\", \"Humidity_percent\", \"WindSpeed_mph\", \"WindDirection_degrees\", \"Weather_Description\"]]\n",
    "current_weather_DF"
   ]
  },
  {
   "cell_type": "markdown",
   "metadata": {},
   "source": [
    "# Forecasted Weather"
   ]
  },
  {
   "cell_type": "code",
   "execution_count": 47,
   "metadata": {},
   "outputs": [
    {
     "output_type": "execute_result",
     "data": {
      "text/plain": [
       "     UTC_Time  Temperature_F Weather_Description  Humidity_percent  \\\n",
       "0  1605456000          55.11           clear sky                20   \n",
       "1  1605459600          55.40           clear sky                26   \n",
       "2  1605463200          57.06           clear sky                28   \n",
       "3  1605466800          58.93           clear sky                28   \n",
       "4  1605470400          60.64           clear sky                27   \n",
       "\n",
       "   WindSpeed_mph  WindDirection_degrees  \n",
       "0           8.41                     36  \n",
       "1           6.69                     37  \n",
       "2           5.53                     40  \n",
       "3           4.16                     45  \n",
       "4           2.28                     49  "
      ],
      "text/html": "<div>\n<style scoped>\n    .dataframe tbody tr th:only-of-type {\n        vertical-align: middle;\n    }\n\n    .dataframe tbody tr th {\n        vertical-align: top;\n    }\n\n    .dataframe thead th {\n        text-align: right;\n    }\n</style>\n<table border=\"1\" class=\"dataframe\">\n  <thead>\n    <tr style=\"text-align: right;\">\n      <th></th>\n      <th>UTC_Time</th>\n      <th>Temperature_F</th>\n      <th>Weather_Description</th>\n      <th>Humidity_percent</th>\n      <th>WindSpeed_mph</th>\n      <th>WindDirection_degrees</th>\n    </tr>\n  </thead>\n  <tbody>\n    <tr>\n      <th>0</th>\n      <td>1605456000</td>\n      <td>55.11</td>\n      <td>clear sky</td>\n      <td>20</td>\n      <td>8.41</td>\n      <td>36</td>\n    </tr>\n    <tr>\n      <th>1</th>\n      <td>1605459600</td>\n      <td>55.40</td>\n      <td>clear sky</td>\n      <td>26</td>\n      <td>6.69</td>\n      <td>37</td>\n    </tr>\n    <tr>\n      <th>2</th>\n      <td>1605463200</td>\n      <td>57.06</td>\n      <td>clear sky</td>\n      <td>28</td>\n      <td>5.53</td>\n      <td>40</td>\n    </tr>\n    <tr>\n      <th>3</th>\n      <td>1605466800</td>\n      <td>58.93</td>\n      <td>clear sky</td>\n      <td>28</td>\n      <td>4.16</td>\n      <td>45</td>\n    </tr>\n    <tr>\n      <th>4</th>\n      <td>1605470400</td>\n      <td>60.64</td>\n      <td>clear sky</td>\n      <td>27</td>\n      <td>2.28</td>\n      <td>49</td>\n    </tr>\n  </tbody>\n</table>\n</div>"
     },
     "metadata": {},
     "execution_count": 47
    }
   ],
   "source": [
    "forecasted_hourly_weather = []\n",
    "\n",
    "for hour in np.arange(0, 48, 1):\n",
    "    forecasted_hourly_weather.append({\n",
    "        \"UTC_Time\": responseJson[\"hourly\"][hour][\"dt\"],\n",
    "        \"Temperature_F\": responseJson[\"hourly\"][hour][\"temp\"],\n",
    "        \"Weather_Description\": responseJson[\"hourly\"][hour][\"weather\"][0][\"description\"],\n",
    "        \"Humidity_percent\": responseJson[\"hourly\"][hour][\"humidity\"],\n",
    "        \"WindSpeed_mph\": responseJson[\"hourly\"][hour][\"wind_speed\"],\n",
    "        \"WindDirection_degrees\": responseJson[\"hourly\"][hour][\"wind_deg\"]\n",
    "    })\n",
    "\n",
    "hourly_weather_DF = pd.DataFrame(forecasted_hourly_weather)\n",
    "hourly_weather_DF.head()"
   ]
  },
  {
   "cell_type": "code",
   "execution_count": 48,
   "metadata": {},
   "outputs": [
    {
     "output_type": "execute_result",
     "data": {
      "text/plain": [
       "     UTC_Time            Date_Time  Year  Month  Day  Hour\n",
       "0  1605456000  2020-11-15 10:00:00  2020     11   15    10\n",
       "1  1605459600  2020-11-15 11:00:00  2020     11   15    11\n",
       "2  1605463200  2020-11-15 12:00:00  2020     11   15    12\n",
       "3  1605466800  2020-11-15 13:00:00  2020     11   15    13\n",
       "4  1605470400  2020-11-15 14:00:00  2020     11   15    14"
      ],
      "text/html": "<div>\n<style scoped>\n    .dataframe tbody tr th:only-of-type {\n        vertical-align: middle;\n    }\n\n    .dataframe tbody tr th {\n        vertical-align: top;\n    }\n\n    .dataframe thead th {\n        text-align: right;\n    }\n</style>\n<table border=\"1\" class=\"dataframe\">\n  <thead>\n    <tr style=\"text-align: right;\">\n      <th></th>\n      <th>UTC_Time</th>\n      <th>Date_Time</th>\n      <th>Year</th>\n      <th>Month</th>\n      <th>Day</th>\n      <th>Hour</th>\n    </tr>\n  </thead>\n  <tbody>\n    <tr>\n      <th>0</th>\n      <td>1605456000</td>\n      <td>2020-11-15 10:00:00</td>\n      <td>2020</td>\n      <td>11</td>\n      <td>15</td>\n      <td>10</td>\n    </tr>\n    <tr>\n      <th>1</th>\n      <td>1605459600</td>\n      <td>2020-11-15 11:00:00</td>\n      <td>2020</td>\n      <td>11</td>\n      <td>15</td>\n      <td>11</td>\n    </tr>\n    <tr>\n      <th>2</th>\n      <td>1605463200</td>\n      <td>2020-11-15 12:00:00</td>\n      <td>2020</td>\n      <td>11</td>\n      <td>15</td>\n      <td>12</td>\n    </tr>\n    <tr>\n      <th>3</th>\n      <td>1605466800</td>\n      <td>2020-11-15 13:00:00</td>\n      <td>2020</td>\n      <td>11</td>\n      <td>15</td>\n      <td>13</td>\n    </tr>\n    <tr>\n      <th>4</th>\n      <td>1605470400</td>\n      <td>2020-11-15 14:00:00</td>\n      <td>2020</td>\n      <td>11</td>\n      <td>15</td>\n      <td>14</td>\n    </tr>\n  </tbody>\n</table>\n</div>"
     },
     "metadata": {},
     "execution_count": 48
    }
   ],
   "source": [
    "hourly_index = np.arange(0,48,1)\n",
    "\n",
    "hourly_UTC_date_time = hourly_weather_DF[\"UTC_Time\"]\n",
    "\n",
    "hourly_date_time_DF = convert_DateTime_UTC_to_CST(hourly_UTC_date_time, hourly_index)\n",
    "\n",
    "hourly_date_time_DF.head()"
   ]
  },
  {
   "cell_type": "code",
   "execution_count": 49,
   "metadata": {},
   "outputs": [
    {
     "output_type": "execute_result",
     "data": {
      "text/plain": [
       "             Date_Time  Year  Month  Day  Hour  Temperature_F  \\\n",
       "0  2020-11-15 10:00:00  2020     11   15    10          55.11   \n",
       "1  2020-11-15 11:00:00  2020     11   15    11          55.40   \n",
       "2  2020-11-15 12:00:00  2020     11   15    12          57.06   \n",
       "3  2020-11-15 13:00:00  2020     11   15    13          58.93   \n",
       "4  2020-11-15 14:00:00  2020     11   15    14          60.64   \n",
       "5  2020-11-15 15:00:00  2020     11   15    15          61.12   \n",
       "6  2020-11-15 16:00:00  2020     11   15    16          60.85   \n",
       "7  2020-11-15 17:00:00  2020     11   15    17          58.86   \n",
       "8  2020-11-15 18:00:00  2020     11   15    18          53.38   \n",
       "9  2020-11-15 19:00:00  2020     11   15    19          52.68   \n",
       "10 2020-11-15 20:00:00  2020     11   15    20          51.93   \n",
       "11 2020-11-15 21:00:00  2020     11   15    21          51.42   \n",
       "12 2020-11-15 22:00:00  2020     11   15    22          50.59   \n",
       "13 2020-11-15 23:00:00  2020     11   15    23          49.57   \n",
       "14 2020-11-16 00:00:00  2020     11   16     0          48.81   \n",
       "15 2020-11-16 01:00:00  2020     11   16     1          48.40   \n",
       "16 2020-11-16 02:00:00  2020     11   16     2          47.97   \n",
       "17 2020-11-16 03:00:00  2020     11   16     3          47.52   \n",
       "18 2020-11-16 04:00:00  2020     11   16     4          47.10   \n",
       "19 2020-11-16 05:00:00  2020     11   16     5          46.49   \n",
       "20 2020-11-16 06:00:00  2020     11   16     6          45.93   \n",
       "21 2020-11-16 07:00:00  2020     11   16     7          45.77   \n",
       "22 2020-11-16 08:00:00  2020     11   16     8          47.61   \n",
       "23 2020-11-16 09:00:00  2020     11   16     9          53.15   \n",
       "24 2020-11-16 10:00:00  2020     11   16    10          57.78   \n",
       "25 2020-11-16 11:00:00  2020     11   16    11          62.47   \n",
       "26 2020-11-16 12:00:00  2020     11   16    12          65.93   \n",
       "27 2020-11-16 13:00:00  2020     11   16    13          68.56   \n",
       "28 2020-11-16 14:00:00  2020     11   16    14          70.12   \n",
       "29 2020-11-16 15:00:00  2020     11   16    15          70.47   \n",
       "30 2020-11-16 16:00:00  2020     11   16    16          70.09   \n",
       "31 2020-11-16 17:00:00  2020     11   16    17          65.46   \n",
       "32 2020-11-16 18:00:00  2020     11   16    18          60.46   \n",
       "33 2020-11-16 19:00:00  2020     11   16    19          58.60   \n",
       "34 2020-11-16 20:00:00  2020     11   16    20          57.11   \n",
       "35 2020-11-16 21:00:00  2020     11   16    21          55.33   \n",
       "36 2020-11-16 22:00:00  2020     11   16    22          53.92   \n",
       "37 2020-11-16 23:00:00  2020     11   16    23          52.92   \n",
       "38 2020-11-17 00:00:00  2020     11   17     0          51.93   \n",
       "39 2020-11-17 01:00:00  2020     11   17     1          50.97   \n",
       "40 2020-11-17 02:00:00  2020     11   17     2          50.32   \n",
       "41 2020-11-17 03:00:00  2020     11   17     3          49.59   \n",
       "42 2020-11-17 04:00:00  2020     11   17     4          49.26   \n",
       "43 2020-11-17 05:00:00  2020     11   17     5          48.79   \n",
       "44 2020-11-17 06:00:00  2020     11   17     6          48.42   \n",
       "45 2020-11-17 07:00:00  2020     11   17     7          47.93   \n",
       "46 2020-11-17 08:00:00  2020     11   17     8          50.27   \n",
       "47 2020-11-17 09:00:00  2020     11   17     9          55.90   \n",
       "\n",
       "    Humidity_percent  WindSpeed_mph  WindDirection_degrees Weather_Description  \n",
       "0                 20           8.41                     36           clear sky  \n",
       "1                 26           6.69                     37           clear sky  \n",
       "2                 28           5.53                     40           clear sky  \n",
       "3                 28           4.16                     45           clear sky  \n",
       "4                 27           2.28                     49           clear sky  \n",
       "5                 26           1.12                    115           clear sky  \n",
       "6                 27           2.71                    159           clear sky  \n",
       "7                 31           4.00                    163           clear sky  \n",
       "8                 36           5.66                    164           clear sky  \n",
       "9                 36           6.73                    156           clear sky  \n",
       "10                37           6.93                    148           clear sky  \n",
       "11                38           8.05                    148           clear sky  \n",
       "12                40           9.64                    156           clear sky  \n",
       "13                42          10.89                    166           clear sky  \n",
       "14                44          10.56                    169           clear sky  \n",
       "15                45          10.67                    176           clear sky  \n",
       "16                46          10.78                    181           clear sky  \n",
       "17                47          10.85                    184           clear sky  \n",
       "18                48          11.16                    188           clear sky  \n",
       "19                48          10.71                    191           clear sky  \n",
       "20                49          10.13                    191           clear sky  \n",
       "21                49          10.69                    194           clear sky  \n",
       "22                46          12.15                    196           clear sky  \n",
       "23                38          13.96                    201           clear sky  \n",
       "24                33          12.82                    204           clear sky  \n",
       "25                28          11.45                    207           clear sky  \n",
       "26                26          11.79                    207           clear sky  \n",
       "27                24          12.35                    203           clear sky  \n",
       "28                23          11.50                    203           clear sky  \n",
       "29                23          10.74                    196           clear sky  \n",
       "30                23           8.95                    187           clear sky  \n",
       "31                29           5.57                    160           clear sky  \n",
       "32                33           8.01                    141           clear sky  \n",
       "33                34           9.60                    143           clear sky  \n",
       "34                36           9.89                    145           clear sky  \n",
       "35                38          10.29                    148           clear sky  \n",
       "36                40          10.78                    151           clear sky  \n",
       "37                42          11.01                    158           clear sky  \n",
       "38                44          10.18                    161           clear sky  \n",
       "39                46           9.46                    161           clear sky  \n",
       "40                47           9.57                    160           clear sky  \n",
       "41                48           9.01                    167           clear sky  \n",
       "42                49           8.77                    180           clear sky  \n",
       "43                50           8.05                    186           clear sky  \n",
       "44                51           7.67                    188           clear sky  \n",
       "45                52           7.05                    197           clear sky  \n",
       "46                48           6.15                    193           clear sky  \n",
       "47                40           5.93                    184           clear sky  "
      ],
      "text/html": "<div>\n<style scoped>\n    .dataframe tbody tr th:only-of-type {\n        vertical-align: middle;\n    }\n\n    .dataframe tbody tr th {\n        vertical-align: top;\n    }\n\n    .dataframe thead th {\n        text-align: right;\n    }\n</style>\n<table border=\"1\" class=\"dataframe\">\n  <thead>\n    <tr style=\"text-align: right;\">\n      <th></th>\n      <th>Date_Time</th>\n      <th>Year</th>\n      <th>Month</th>\n      <th>Day</th>\n      <th>Hour</th>\n      <th>Temperature_F</th>\n      <th>Humidity_percent</th>\n      <th>WindSpeed_mph</th>\n      <th>WindDirection_degrees</th>\n      <th>Weather_Description</th>\n    </tr>\n  </thead>\n  <tbody>\n    <tr>\n      <th>0</th>\n      <td>2020-11-15 10:00:00</td>\n      <td>2020</td>\n      <td>11</td>\n      <td>15</td>\n      <td>10</td>\n      <td>55.11</td>\n      <td>20</td>\n      <td>8.41</td>\n      <td>36</td>\n      <td>clear sky</td>\n    </tr>\n    <tr>\n      <th>1</th>\n      <td>2020-11-15 11:00:00</td>\n      <td>2020</td>\n      <td>11</td>\n      <td>15</td>\n      <td>11</td>\n      <td>55.40</td>\n      <td>26</td>\n      <td>6.69</td>\n      <td>37</td>\n      <td>clear sky</td>\n    </tr>\n    <tr>\n      <th>2</th>\n      <td>2020-11-15 12:00:00</td>\n      <td>2020</td>\n      <td>11</td>\n      <td>15</td>\n      <td>12</td>\n      <td>57.06</td>\n      <td>28</td>\n      <td>5.53</td>\n      <td>40</td>\n      <td>clear sky</td>\n    </tr>\n    <tr>\n      <th>3</th>\n      <td>2020-11-15 13:00:00</td>\n      <td>2020</td>\n      <td>11</td>\n      <td>15</td>\n      <td>13</td>\n      <td>58.93</td>\n      <td>28</td>\n      <td>4.16</td>\n      <td>45</td>\n      <td>clear sky</td>\n    </tr>\n    <tr>\n      <th>4</th>\n      <td>2020-11-15 14:00:00</td>\n      <td>2020</td>\n      <td>11</td>\n      <td>15</td>\n      <td>14</td>\n      <td>60.64</td>\n      <td>27</td>\n      <td>2.28</td>\n      <td>49</td>\n      <td>clear sky</td>\n    </tr>\n    <tr>\n      <th>5</th>\n      <td>2020-11-15 15:00:00</td>\n      <td>2020</td>\n      <td>11</td>\n      <td>15</td>\n      <td>15</td>\n      <td>61.12</td>\n      <td>26</td>\n      <td>1.12</td>\n      <td>115</td>\n      <td>clear sky</td>\n    </tr>\n    <tr>\n      <th>6</th>\n      <td>2020-11-15 16:00:00</td>\n      <td>2020</td>\n      <td>11</td>\n      <td>15</td>\n      <td>16</td>\n      <td>60.85</td>\n      <td>27</td>\n      <td>2.71</td>\n      <td>159</td>\n      <td>clear sky</td>\n    </tr>\n    <tr>\n      <th>7</th>\n      <td>2020-11-15 17:00:00</td>\n      <td>2020</td>\n      <td>11</td>\n      <td>15</td>\n      <td>17</td>\n      <td>58.86</td>\n      <td>31</td>\n      <td>4.00</td>\n      <td>163</td>\n      <td>clear sky</td>\n    </tr>\n    <tr>\n      <th>8</th>\n      <td>2020-11-15 18:00:00</td>\n      <td>2020</td>\n      <td>11</td>\n      <td>15</td>\n      <td>18</td>\n      <td>53.38</td>\n      <td>36</td>\n      <td>5.66</td>\n      <td>164</td>\n      <td>clear sky</td>\n    </tr>\n    <tr>\n      <th>9</th>\n      <td>2020-11-15 19:00:00</td>\n      <td>2020</td>\n      <td>11</td>\n      <td>15</td>\n      <td>19</td>\n      <td>52.68</td>\n      <td>36</td>\n      <td>6.73</td>\n      <td>156</td>\n      <td>clear sky</td>\n    </tr>\n    <tr>\n      <th>10</th>\n      <td>2020-11-15 20:00:00</td>\n      <td>2020</td>\n      <td>11</td>\n      <td>15</td>\n      <td>20</td>\n      <td>51.93</td>\n      <td>37</td>\n      <td>6.93</td>\n      <td>148</td>\n      <td>clear sky</td>\n    </tr>\n    <tr>\n      <th>11</th>\n      <td>2020-11-15 21:00:00</td>\n      <td>2020</td>\n      <td>11</td>\n      <td>15</td>\n      <td>21</td>\n      <td>51.42</td>\n      <td>38</td>\n      <td>8.05</td>\n      <td>148</td>\n      <td>clear sky</td>\n    </tr>\n    <tr>\n      <th>12</th>\n      <td>2020-11-15 22:00:00</td>\n      <td>2020</td>\n      <td>11</td>\n      <td>15</td>\n      <td>22</td>\n      <td>50.59</td>\n      <td>40</td>\n      <td>9.64</td>\n      <td>156</td>\n      <td>clear sky</td>\n    </tr>\n    <tr>\n      <th>13</th>\n      <td>2020-11-15 23:00:00</td>\n      <td>2020</td>\n      <td>11</td>\n      <td>15</td>\n      <td>23</td>\n      <td>49.57</td>\n      <td>42</td>\n      <td>10.89</td>\n      <td>166</td>\n      <td>clear sky</td>\n    </tr>\n    <tr>\n      <th>14</th>\n      <td>2020-11-16 00:00:00</td>\n      <td>2020</td>\n      <td>11</td>\n      <td>16</td>\n      <td>0</td>\n      <td>48.81</td>\n      <td>44</td>\n      <td>10.56</td>\n      <td>169</td>\n      <td>clear sky</td>\n    </tr>\n    <tr>\n      <th>15</th>\n      <td>2020-11-16 01:00:00</td>\n      <td>2020</td>\n      <td>11</td>\n      <td>16</td>\n      <td>1</td>\n      <td>48.40</td>\n      <td>45</td>\n      <td>10.67</td>\n      <td>176</td>\n      <td>clear sky</td>\n    </tr>\n    <tr>\n      <th>16</th>\n      <td>2020-11-16 02:00:00</td>\n      <td>2020</td>\n      <td>11</td>\n      <td>16</td>\n      <td>2</td>\n      <td>47.97</td>\n      <td>46</td>\n      <td>10.78</td>\n      <td>181</td>\n      <td>clear sky</td>\n    </tr>\n    <tr>\n      <th>17</th>\n      <td>2020-11-16 03:00:00</td>\n      <td>2020</td>\n      <td>11</td>\n      <td>16</td>\n      <td>3</td>\n      <td>47.52</td>\n      <td>47</td>\n      <td>10.85</td>\n      <td>184</td>\n      <td>clear sky</td>\n    </tr>\n    <tr>\n      <th>18</th>\n      <td>2020-11-16 04:00:00</td>\n      <td>2020</td>\n      <td>11</td>\n      <td>16</td>\n      <td>4</td>\n      <td>47.10</td>\n      <td>48</td>\n      <td>11.16</td>\n      <td>188</td>\n      <td>clear sky</td>\n    </tr>\n    <tr>\n      <th>19</th>\n      <td>2020-11-16 05:00:00</td>\n      <td>2020</td>\n      <td>11</td>\n      <td>16</td>\n      <td>5</td>\n      <td>46.49</td>\n      <td>48</td>\n      <td>10.71</td>\n      <td>191</td>\n      <td>clear sky</td>\n    </tr>\n    <tr>\n      <th>20</th>\n      <td>2020-11-16 06:00:00</td>\n      <td>2020</td>\n      <td>11</td>\n      <td>16</td>\n      <td>6</td>\n      <td>45.93</td>\n      <td>49</td>\n      <td>10.13</td>\n      <td>191</td>\n      <td>clear sky</td>\n    </tr>\n    <tr>\n      <th>21</th>\n      <td>2020-11-16 07:00:00</td>\n      <td>2020</td>\n      <td>11</td>\n      <td>16</td>\n      <td>7</td>\n      <td>45.77</td>\n      <td>49</td>\n      <td>10.69</td>\n      <td>194</td>\n      <td>clear sky</td>\n    </tr>\n    <tr>\n      <th>22</th>\n      <td>2020-11-16 08:00:00</td>\n      <td>2020</td>\n      <td>11</td>\n      <td>16</td>\n      <td>8</td>\n      <td>47.61</td>\n      <td>46</td>\n      <td>12.15</td>\n      <td>196</td>\n      <td>clear sky</td>\n    </tr>\n    <tr>\n      <th>23</th>\n      <td>2020-11-16 09:00:00</td>\n      <td>2020</td>\n      <td>11</td>\n      <td>16</td>\n      <td>9</td>\n      <td>53.15</td>\n      <td>38</td>\n      <td>13.96</td>\n      <td>201</td>\n      <td>clear sky</td>\n    </tr>\n    <tr>\n      <th>24</th>\n      <td>2020-11-16 10:00:00</td>\n      <td>2020</td>\n      <td>11</td>\n      <td>16</td>\n      <td>10</td>\n      <td>57.78</td>\n      <td>33</td>\n      <td>12.82</td>\n      <td>204</td>\n      <td>clear sky</td>\n    </tr>\n    <tr>\n      <th>25</th>\n      <td>2020-11-16 11:00:00</td>\n      <td>2020</td>\n      <td>11</td>\n      <td>16</td>\n      <td>11</td>\n      <td>62.47</td>\n      <td>28</td>\n      <td>11.45</td>\n      <td>207</td>\n      <td>clear sky</td>\n    </tr>\n    <tr>\n      <th>26</th>\n      <td>2020-11-16 12:00:00</td>\n      <td>2020</td>\n      <td>11</td>\n      <td>16</td>\n      <td>12</td>\n      <td>65.93</td>\n      <td>26</td>\n      <td>11.79</td>\n      <td>207</td>\n      <td>clear sky</td>\n    </tr>\n    <tr>\n      <th>27</th>\n      <td>2020-11-16 13:00:00</td>\n      <td>2020</td>\n      <td>11</td>\n      <td>16</td>\n      <td>13</td>\n      <td>68.56</td>\n      <td>24</td>\n      <td>12.35</td>\n      <td>203</td>\n      <td>clear sky</td>\n    </tr>\n    <tr>\n      <th>28</th>\n      <td>2020-11-16 14:00:00</td>\n      <td>2020</td>\n      <td>11</td>\n      <td>16</td>\n      <td>14</td>\n      <td>70.12</td>\n      <td>23</td>\n      <td>11.50</td>\n      <td>203</td>\n      <td>clear sky</td>\n    </tr>\n    <tr>\n      <th>29</th>\n      <td>2020-11-16 15:00:00</td>\n      <td>2020</td>\n      <td>11</td>\n      <td>16</td>\n      <td>15</td>\n      <td>70.47</td>\n      <td>23</td>\n      <td>10.74</td>\n      <td>196</td>\n      <td>clear sky</td>\n    </tr>\n    <tr>\n      <th>30</th>\n      <td>2020-11-16 16:00:00</td>\n      <td>2020</td>\n      <td>11</td>\n      <td>16</td>\n      <td>16</td>\n      <td>70.09</td>\n      <td>23</td>\n      <td>8.95</td>\n      <td>187</td>\n      <td>clear sky</td>\n    </tr>\n    <tr>\n      <th>31</th>\n      <td>2020-11-16 17:00:00</td>\n      <td>2020</td>\n      <td>11</td>\n      <td>16</td>\n      <td>17</td>\n      <td>65.46</td>\n      <td>29</td>\n      <td>5.57</td>\n      <td>160</td>\n      <td>clear sky</td>\n    </tr>\n    <tr>\n      <th>32</th>\n      <td>2020-11-16 18:00:00</td>\n      <td>2020</td>\n      <td>11</td>\n      <td>16</td>\n      <td>18</td>\n      <td>60.46</td>\n      <td>33</td>\n      <td>8.01</td>\n      <td>141</td>\n      <td>clear sky</td>\n    </tr>\n    <tr>\n      <th>33</th>\n      <td>2020-11-16 19:00:00</td>\n      <td>2020</td>\n      <td>11</td>\n      <td>16</td>\n      <td>19</td>\n      <td>58.60</td>\n      <td>34</td>\n      <td>9.60</td>\n      <td>143</td>\n      <td>clear sky</td>\n    </tr>\n    <tr>\n      <th>34</th>\n      <td>2020-11-16 20:00:00</td>\n      <td>2020</td>\n      <td>11</td>\n      <td>16</td>\n      <td>20</td>\n      <td>57.11</td>\n      <td>36</td>\n      <td>9.89</td>\n      <td>145</td>\n      <td>clear sky</td>\n    </tr>\n    <tr>\n      <th>35</th>\n      <td>2020-11-16 21:00:00</td>\n      <td>2020</td>\n      <td>11</td>\n      <td>16</td>\n      <td>21</td>\n      <td>55.33</td>\n      <td>38</td>\n      <td>10.29</td>\n      <td>148</td>\n      <td>clear sky</td>\n    </tr>\n    <tr>\n      <th>36</th>\n      <td>2020-11-16 22:00:00</td>\n      <td>2020</td>\n      <td>11</td>\n      <td>16</td>\n      <td>22</td>\n      <td>53.92</td>\n      <td>40</td>\n      <td>10.78</td>\n      <td>151</td>\n      <td>clear sky</td>\n    </tr>\n    <tr>\n      <th>37</th>\n      <td>2020-11-16 23:00:00</td>\n      <td>2020</td>\n      <td>11</td>\n      <td>16</td>\n      <td>23</td>\n      <td>52.92</td>\n      <td>42</td>\n      <td>11.01</td>\n      <td>158</td>\n      <td>clear sky</td>\n    </tr>\n    <tr>\n      <th>38</th>\n      <td>2020-11-17 00:00:00</td>\n      <td>2020</td>\n      <td>11</td>\n      <td>17</td>\n      <td>0</td>\n      <td>51.93</td>\n      <td>44</td>\n      <td>10.18</td>\n      <td>161</td>\n      <td>clear sky</td>\n    </tr>\n    <tr>\n      <th>39</th>\n      <td>2020-11-17 01:00:00</td>\n      <td>2020</td>\n      <td>11</td>\n      <td>17</td>\n      <td>1</td>\n      <td>50.97</td>\n      <td>46</td>\n      <td>9.46</td>\n      <td>161</td>\n      <td>clear sky</td>\n    </tr>\n    <tr>\n      <th>40</th>\n      <td>2020-11-17 02:00:00</td>\n      <td>2020</td>\n      <td>11</td>\n      <td>17</td>\n      <td>2</td>\n      <td>50.32</td>\n      <td>47</td>\n      <td>9.57</td>\n      <td>160</td>\n      <td>clear sky</td>\n    </tr>\n    <tr>\n      <th>41</th>\n      <td>2020-11-17 03:00:00</td>\n      <td>2020</td>\n      <td>11</td>\n      <td>17</td>\n      <td>3</td>\n      <td>49.59</td>\n      <td>48</td>\n      <td>9.01</td>\n      <td>167</td>\n      <td>clear sky</td>\n    </tr>\n    <tr>\n      <th>42</th>\n      <td>2020-11-17 04:00:00</td>\n      <td>2020</td>\n      <td>11</td>\n      <td>17</td>\n      <td>4</td>\n      <td>49.26</td>\n      <td>49</td>\n      <td>8.77</td>\n      <td>180</td>\n      <td>clear sky</td>\n    </tr>\n    <tr>\n      <th>43</th>\n      <td>2020-11-17 05:00:00</td>\n      <td>2020</td>\n      <td>11</td>\n      <td>17</td>\n      <td>5</td>\n      <td>48.79</td>\n      <td>50</td>\n      <td>8.05</td>\n      <td>186</td>\n      <td>clear sky</td>\n    </tr>\n    <tr>\n      <th>44</th>\n      <td>2020-11-17 06:00:00</td>\n      <td>2020</td>\n      <td>11</td>\n      <td>17</td>\n      <td>6</td>\n      <td>48.42</td>\n      <td>51</td>\n      <td>7.67</td>\n      <td>188</td>\n      <td>clear sky</td>\n    </tr>\n    <tr>\n      <th>45</th>\n      <td>2020-11-17 07:00:00</td>\n      <td>2020</td>\n      <td>11</td>\n      <td>17</td>\n      <td>7</td>\n      <td>47.93</td>\n      <td>52</td>\n      <td>7.05</td>\n      <td>197</td>\n      <td>clear sky</td>\n    </tr>\n    <tr>\n      <th>46</th>\n      <td>2020-11-17 08:00:00</td>\n      <td>2020</td>\n      <td>11</td>\n      <td>17</td>\n      <td>8</td>\n      <td>50.27</td>\n      <td>48</td>\n      <td>6.15</td>\n      <td>193</td>\n      <td>clear sky</td>\n    </tr>\n    <tr>\n      <th>47</th>\n      <td>2020-11-17 09:00:00</td>\n      <td>2020</td>\n      <td>11</td>\n      <td>17</td>\n      <td>9</td>\n      <td>55.90</td>\n      <td>40</td>\n      <td>5.93</td>\n      <td>184</td>\n      <td>clear sky</td>\n    </tr>\n  </tbody>\n</table>\n</div>"
     },
     "metadata": {},
     "execution_count": 49
    }
   ],
   "source": [
    "hourly_weather_DF = pd.merge(hourly_weather_DF, hourly_date_time_DF, on='UTC_Time', how='outer')\n",
    "hourly_weather_DF.drop(columns=[\"UTC_Time\"], axis=1, inplace=True)\n",
    "hourly_weather_DF[\"Date_Time\"] = pd.to_datetime(hourly_weather_DF[\"Date_Time\"])\n",
    "hourly_weather_DF = hourly_weather_DF[[\"Date_Time\", \"Year\", \"Month\", \"Day\", \"Hour\", \"Temperature_F\", \"Humidity_percent\", \"WindSpeed_mph\", \"WindDirection_degrees\", \"Weather_Description\"]]\n",
    "hourly_weather_DF"
   ]
  },
  {
   "cell_type": "code",
   "execution_count": 50,
   "metadata": {},
   "outputs": [
    {
     "output_type": "execute_result",
     "data": {
      "text/plain": [
       "Date_Time                datetime64[ns]\n",
       "Year                              int64\n",
       "Month                             int64\n",
       "Day                               int64\n",
       "Hour                              int64\n",
       "Temperature_F                   float64\n",
       "Humidity_percent                  int64\n",
       "WindSpeed_mph                   float64\n",
       "WindDirection_degrees             int64\n",
       "Weather_Description              object\n",
       "dtype: object"
      ]
     },
     "metadata": {},
     "execution_count": 50
    }
   ],
   "source": [
    "# Check the data types\n",
    "hourly_weather_DF.dtypes"
   ]
  },
  {
   "cell_type": "markdown",
   "metadata": {},
   "source": [
    "# Weather Descriptions\n",
    "# --------------------"
   ]
  },
  {
   "cell_type": "code",
   "execution_count": 51,
   "metadata": {},
   "outputs": [],
   "source": [
    "weather_description_list = [\n",
    "    # Clear\n",
    "    'Clear',\n",
    "    'Sunny',\n",
    "    # Clouds\n",
    "    'Partly cloudy', \n",
    "    'Cloudy', \n",
    "    'Overcast',\n",
    "    # Drizzle\n",
    "    'Freezing drizzle',\n",
    "    'Light drizzle', \n",
    "    'Patchy light drizzle',\n",
    "    # Snow\n",
    "    'Patchy moderate snow', \n",
    "    'Moderate snow', \n",
    "    'Light sleet',\n",
    "    'Light snow',  \n",
    "    'Heavy snow', \n",
    "    'Patchy heavy snow', \n",
    "    'Blowing snow',  \n",
    "    'Blizzard',\n",
    "    'Ice pellets', \n",
    "    'Patchy light snow', \n",
    "    # Rain\n",
    "    'Patchy rain possible',\n",
    "    'Light rain shower', \n",
    "    'Moderate or heavy rain shower',\n",
    "    'Moderate rain', \n",
    "    'Heavy rain', \n",
    "    'Light rain', \n",
    "    'Patchy light rain', \n",
    "    'Torrential rain shower',\n",
    "    'Moderate rain at times', \n",
    "    'Heavy rain at times', \n",
    "    'Moderate or heavy freezing rain',\n",
    "    # Thunderstorm\n",
    "    'Thundery outbreaks possible',\n",
    "    'Moderate or heavy rain with thunder',\n",
    "    'Patchy light rain with thunder', \n",
    "    # Atmosphere\n",
    "    'Mist',\n",
    "    'Fog']"
   ]
  },
  {
   "cell_type": "code",
   "execution_count": 52,
   "metadata": {},
   "outputs": [],
   "source": [
    "weather_condition_codes = [\n",
    "    # Thunderstorm\n",
    "    'thunderstorm with light rain',\n",
    "    'thunderstorm with rain',\n",
    "    'thunderstorm with heavy rain',\n",
    "    'light thunderstorm',\n",
    "    'thunderstorm',\n",
    "    'heavy thunderstorm',\n",
    "    'ragged thunderstorm',\n",
    "    'thunderstorm with light drizzle',\n",
    "    'thunderstorm with drizzle',\n",
    "    'thunderstorm with heavy drizzle',\n",
    "    # Drizzle\n",
    "    'light intensity drizzle',\n",
    "    'drizzle',\n",
    "    'heavy intensity drizzle',\n",
    "    'light intensity drizzle rain',\n",
    "    'drizzle rain',\n",
    "    'heavy intensity drizzle rain',\n",
    "    'shower rain and drizzle',\n",
    "    'heavy shower rain and drizzle',\n",
    "    'shower drizzle',\n",
    "    # Rain\n",
    "    'light rain',\n",
    "    'moderate rain',\n",
    "    'heavy intensity rain',\n",
    "    'very heavy rain',\n",
    "    'extreme rain',\n",
    "    'freezing rain',\n",
    "    'light intensity shower rain',\n",
    "    'shower rain',\n",
    "    'heavy intensity shower rain',\n",
    "    'ragged shower rain',\n",
    "    # Snow\n",
    "    'light snow',\n",
    "    'Snow',\n",
    "    'Heavy snow',\n",
    "    'Sleet',\n",
    "    'Light shower sleet',\n",
    "    'Shower sleet',\n",
    "    'Light rain and snow',\n",
    "    'Rain and snow',\n",
    "    'Light shower snow',\n",
    "    'Shower snow',\n",
    "    'Heavy shower snow',\n",
    "    # Atmosphere\n",
    "    'mist',\n",
    "    'Smoke',\n",
    "    'Haze',\n",
    "    'sand/ dust whirls',\n",
    "    'fog',\n",
    "    'sand',\n",
    "    'dust',\n",
    "    'volcanic ash',\n",
    "    'squalls',\n",
    "    'tornado',\n",
    "    # Clear\n",
    "    'clear sky',\n",
    "    # Clouds\n",
    "    'few clouds',\n",
    "    'scattered clouds',\n",
    "    'broken clouds',\n",
    "    'overcast clouds'   \n",
    "]"
   ]
  },
  {
   "cell_type": "code",
   "execution_count": 53,
   "metadata": {},
   "outputs": [],
   "source": [
    "weather_icons = [\n",
    "    \"clear sky\",\n",
    "    \"few clouds\",\n",
    "    \"scattered clouds\",\n",
    "    \"broken clouds\",\n",
    "    \"shower rain\",\n",
    "    \"rain\",\n",
    "    \"thunderstorm\",\n",
    "    \"snow\",\n",
    "    \"mist\"\n",
    "]"
   ]
  },
  {
   "source": [
    "# Loading in our model and scaler"
   ],
   "cell_type": "markdown",
   "metadata": {}
  },
  {
   "cell_type": "code",
   "execution_count": 54,
   "metadata": {},
   "outputs": [
    {
     "output_type": "stream",
     "name": "stdout",
     "text": [
      "{'copy': True, 'with_mean': True, 'with_std': True}\n",
      "WARNING:tensorflow:From C:\\Users\\rudow\\anaconda3\\envs\\PythonData\\lib\\site-packages\\tensorflow\\python\\ops\\init_ops.py:97: calling GlorotUniform.__init__ (from tensorflow.python.ops.init_ops) with dtype is deprecated and will be removed in a future version.\n",
      "Instructions for updating:\n",
      "Call initializer instance with the dtype argument instead of passing it to the constructor\n",
      "WARNING:tensorflow:From C:\\Users\\rudow\\anaconda3\\envs\\PythonData\\lib\\site-packages\\tensorflow\\python\\ops\\init_ops.py:1251: calling VarianceScaling.__init__ (from tensorflow.python.ops.init_ops) with dtype is deprecated and will be removed in a future version.\n",
      "Instructions for updating:\n",
      "Call initializer instance with the dtype argument instead of passing it to the constructor\n",
      "WARNING:tensorflow:From C:\\Users\\rudow\\anaconda3\\envs\\PythonData\\lib\\site-packages\\tensorflow\\python\\ops\\init_ops.py:97: calling Zeros.__init__ (from tensorflow.python.ops.init_ops) with dtype is deprecated and will be removed in a future version.\n",
      "Instructions for updating:\n",
      "Call initializer instance with the dtype argument instead of passing it to the constructor\n",
      "Model: \"sequential\"\n",
      "_________________________________________________________________\n",
      "Layer (type)                 Output Shape              Param #   \n",
      "=================================================================\n",
      "dense (Dense)                (None, 35)                280       \n",
      "_________________________________________________________________\n",
      "dense_1 (Dense)              (None, 28)                1008      \n",
      "_________________________________________________________________\n",
      "dense_2 (Dense)              (None, 21)                609       \n",
      "_________________________________________________________________\n",
      "dense_3 (Dense)              (None, 1)                 22        \n",
      "=================================================================\n",
      "Total params: 1,919\n",
      "Trainable params: 1,919\n",
      "Non-trainable params: 0\n",
      "_________________________________________________________________\n"
     ]
    }
   ],
   "source": [
    "from pickle import load\n",
    "from sklearn.preprocessing import StandardScaler\n",
    "import tensorflow as tf\n",
    "# load in the scaler\n",
    "scaler = load(open('../Solar/solar_ml_model/scaler.pkl', 'rb'))\n",
    "print(scaler.get_params())\n",
    "\n",
    "# # how to load the model\n",
    "load_nn = tf.keras.models.load_model('../Solar/solar_ml_model/solar_model')\n",
    "load_nn.summary()"
   ]
  },
  {
   "cell_type": "code",
   "execution_count": 55,
   "metadata": {},
   "outputs": [
    {
     "output_type": "execute_result",
     "data": {
      "text/plain": [
       "            Date_Time  Year  Month  Day  Hour  Temperature_F  \\\n",
       "0 2020-11-15 10:00:00  2020     11   15    10          65.43   \n",
       "1 2020-11-15 11:00:00  2020     11   15    11          66.00   \n",
       "2 2020-11-15 12:00:00  2020     11   15    12          67.42   \n",
       "3 2020-11-15 13:00:00  2020     11   15    13          69.13   \n",
       "4 2020-11-15 14:00:00  2020     11   15    14          70.34   \n",
       "\n",
       "   Humidity_percent    Sunhour  CloudCover_percent  uvIndex  \\\n",
       "0                17  10.623333                   1     4.32   \n",
       "1                20  10.623333                   1     4.32   \n",
       "2                21  10.623333                   0     4.32   \n",
       "3                21  10.623333                   0     4.32   \n",
       "4                20  10.623333                   0     4.32   \n",
       "\n",
       "  Weather_Description  \n",
       "0           clear sky  \n",
       "1           clear sky  \n",
       "2           clear sky  \n",
       "3           clear sky  \n",
       "4           clear sky  "
      ],
      "text/html": "<div>\n<style scoped>\n    .dataframe tbody tr th:only-of-type {\n        vertical-align: middle;\n    }\n\n    .dataframe tbody tr th {\n        vertical-align: top;\n    }\n\n    .dataframe thead th {\n        text-align: right;\n    }\n</style>\n<table border=\"1\" class=\"dataframe\">\n  <thead>\n    <tr style=\"text-align: right;\">\n      <th></th>\n      <th>Date_Time</th>\n      <th>Year</th>\n      <th>Month</th>\n      <th>Day</th>\n      <th>Hour</th>\n      <th>Temperature_F</th>\n      <th>Humidity_percent</th>\n      <th>Sunhour</th>\n      <th>CloudCover_percent</th>\n      <th>uvIndex</th>\n      <th>Weather_Description</th>\n    </tr>\n  </thead>\n  <tbody>\n    <tr>\n      <th>0</th>\n      <td>2020-11-15 10:00:00</td>\n      <td>2020</td>\n      <td>11</td>\n      <td>15</td>\n      <td>10</td>\n      <td>65.43</td>\n      <td>17</td>\n      <td>10.623333</td>\n      <td>1</td>\n      <td>4.32</td>\n      <td>clear sky</td>\n    </tr>\n    <tr>\n      <th>1</th>\n      <td>2020-11-15 11:00:00</td>\n      <td>2020</td>\n      <td>11</td>\n      <td>15</td>\n      <td>11</td>\n      <td>66.00</td>\n      <td>20</td>\n      <td>10.623333</td>\n      <td>1</td>\n      <td>4.32</td>\n      <td>clear sky</td>\n    </tr>\n    <tr>\n      <th>2</th>\n      <td>2020-11-15 12:00:00</td>\n      <td>2020</td>\n      <td>11</td>\n      <td>15</td>\n      <td>12</td>\n      <td>67.42</td>\n      <td>21</td>\n      <td>10.623333</td>\n      <td>0</td>\n      <td>4.32</td>\n      <td>clear sky</td>\n    </tr>\n    <tr>\n      <th>3</th>\n      <td>2020-11-15 13:00:00</td>\n      <td>2020</td>\n      <td>11</td>\n      <td>15</td>\n      <td>13</td>\n      <td>69.13</td>\n      <td>21</td>\n      <td>10.623333</td>\n      <td>0</td>\n      <td>4.32</td>\n      <td>clear sky</td>\n    </tr>\n    <tr>\n      <th>4</th>\n      <td>2020-11-15 14:00:00</td>\n      <td>2020</td>\n      <td>11</td>\n      <td>15</td>\n      <td>14</td>\n      <td>70.34</td>\n      <td>20</td>\n      <td>10.623333</td>\n      <td>0</td>\n      <td>4.32</td>\n      <td>clear sky</td>\n    </tr>\n  </tbody>\n</table>\n</div>"
     },
     "metadata": {},
     "execution_count": 55
    }
   ],
   "source": [
    "forecasted_weather_DF.head()"
   ]
  },
  {
   "cell_type": "code",
   "execution_count": 56,
   "metadata": {},
   "outputs": [],
   "source": [
    "X = forecasted_weather_DF.drop(['Date_Time', 'Weather_Description','Day','Year'], axis=1)\n",
    "# Fitting the Standard Scaler with the training data.\n",
    "#X_scaler = scaler.fit(X)\n",
    "\n",
    "# Scaling the data.\n",
    "X_scaled = scaler.transform(X)"
   ]
  },
  {
   "cell_type": "code",
   "execution_count": 57,
   "metadata": {},
   "outputs": [
    {
     "output_type": "execute_result",
     "data": {
      "text/plain": [
       "         pred  Hour  Day           Date_Time\n",
       "0   23.422184    10   15 2020-11-15 10:00:00\n",
       "1   22.932156    11   15 2020-11-15 11:00:00\n",
       "2   22.576241    12   15 2020-11-15 12:00:00\n",
       "3   22.336031    13   15 2020-11-15 13:00:00\n",
       "4   22.213905    14   15 2020-11-15 14:00:00\n",
       "5   21.971554    15   15 2020-11-15 15:00:00\n",
       "6   21.055504    16   15 2020-11-15 16:00:00\n",
       "7   16.501347    17   15 2020-11-15 17:00:00\n",
       "8    8.512789    18   15 2020-11-15 18:00:00\n",
       "9    2.015130    19   15 2020-11-15 19:00:00\n",
       "10   0.000000    20   15 2020-11-15 20:00:00\n",
       "11   0.000000    21   15 2020-11-15 21:00:00\n",
       "12   0.000000    22   15 2020-11-15 22:00:00\n",
       "13   0.000000    23   15 2020-11-15 23:00:00\n",
       "14   0.000000     0   16 2020-11-16 00:00:00\n",
       "15   0.000000     1   16 2020-11-16 01:00:00\n",
       "16   0.000000     2   16 2020-11-16 02:00:00\n",
       "17   0.000000     3   16 2020-11-16 03:00:00\n",
       "18   0.000000     4   16 2020-11-16 04:00:00\n",
       "19   0.000000     5   16 2020-11-16 05:00:00\n",
       "20   0.000000     6   16 2020-11-16 06:00:00\n",
       "21   0.000000     7   16 2020-11-16 07:00:00\n",
       "22   1.728203     8   16 2020-11-16 08:00:00\n",
       "23  15.822306     9   16 2020-11-16 09:00:00\n",
       "24  22.374426    10   16 2020-11-16 10:00:00\n",
       "25  21.857143    11   16 2020-11-16 11:00:00\n",
       "26  22.104488    12   16 2020-11-16 12:00:00\n",
       "27  22.209827    13   16 2020-11-16 13:00:00\n",
       "28  22.079367    14   16 2020-11-16 14:00:00\n",
       "29  21.694149    15   16 2020-11-16 15:00:00\n",
       "30  21.190212    16   16 2020-11-16 16:00:00\n",
       "31  16.046604    17   16 2020-11-16 17:00:00\n",
       "32   8.352285    18   16 2020-11-16 18:00:00\n",
       "33   1.706074    19   16 2020-11-16 19:00:00\n",
       "34   0.000000    20   16 2020-11-16 20:00:00\n",
       "35   0.000000    21   16 2020-11-16 21:00:00\n",
       "36   0.000000    22   16 2020-11-16 22:00:00\n",
       "37   0.000000    23   16 2020-11-16 23:00:00\n",
       "38   0.000000     0   17 2020-11-17 00:00:00\n",
       "39   0.000000     1   17 2020-11-17 01:00:00\n",
       "40   0.000000     2   17 2020-11-17 02:00:00\n",
       "41   0.000000     3   17 2020-11-17 03:00:00\n",
       "42   0.000000     4   17 2020-11-17 04:00:00\n",
       "43   0.000000     5   17 2020-11-17 05:00:00\n",
       "44   0.000000     6   17 2020-11-17 06:00:00\n",
       "45   0.000000     7   17 2020-11-17 07:00:00\n",
       "46   1.117565     8   17 2020-11-17 08:00:00\n",
       "47  15.331871     9   17 2020-11-17 09:00:00"
      ],
      "text/html": "<div>\n<style scoped>\n    .dataframe tbody tr th:only-of-type {\n        vertical-align: middle;\n    }\n\n    .dataframe tbody tr th {\n        vertical-align: top;\n    }\n\n    .dataframe thead th {\n        text-align: right;\n    }\n</style>\n<table border=\"1\" class=\"dataframe\">\n  <thead>\n    <tr style=\"text-align: right;\">\n      <th></th>\n      <th>pred</th>\n      <th>Hour</th>\n      <th>Day</th>\n      <th>Date_Time</th>\n    </tr>\n  </thead>\n  <tbody>\n    <tr>\n      <th>0</th>\n      <td>23.422184</td>\n      <td>10</td>\n      <td>15</td>\n      <td>2020-11-15 10:00:00</td>\n    </tr>\n    <tr>\n      <th>1</th>\n      <td>22.932156</td>\n      <td>11</td>\n      <td>15</td>\n      <td>2020-11-15 11:00:00</td>\n    </tr>\n    <tr>\n      <th>2</th>\n      <td>22.576241</td>\n      <td>12</td>\n      <td>15</td>\n      <td>2020-11-15 12:00:00</td>\n    </tr>\n    <tr>\n      <th>3</th>\n      <td>22.336031</td>\n      <td>13</td>\n      <td>15</td>\n      <td>2020-11-15 13:00:00</td>\n    </tr>\n    <tr>\n      <th>4</th>\n      <td>22.213905</td>\n      <td>14</td>\n      <td>15</td>\n      <td>2020-11-15 14:00:00</td>\n    </tr>\n    <tr>\n      <th>5</th>\n      <td>21.971554</td>\n      <td>15</td>\n      <td>15</td>\n      <td>2020-11-15 15:00:00</td>\n    </tr>\n    <tr>\n      <th>6</th>\n      <td>21.055504</td>\n      <td>16</td>\n      <td>15</td>\n      <td>2020-11-15 16:00:00</td>\n    </tr>\n    <tr>\n      <th>7</th>\n      <td>16.501347</td>\n      <td>17</td>\n      <td>15</td>\n      <td>2020-11-15 17:00:00</td>\n    </tr>\n    <tr>\n      <th>8</th>\n      <td>8.512789</td>\n      <td>18</td>\n      <td>15</td>\n      <td>2020-11-15 18:00:00</td>\n    </tr>\n    <tr>\n      <th>9</th>\n      <td>2.015130</td>\n      <td>19</td>\n      <td>15</td>\n      <td>2020-11-15 19:00:00</td>\n    </tr>\n    <tr>\n      <th>10</th>\n      <td>0.000000</td>\n      <td>20</td>\n      <td>15</td>\n      <td>2020-11-15 20:00:00</td>\n    </tr>\n    <tr>\n      <th>11</th>\n      <td>0.000000</td>\n      <td>21</td>\n      <td>15</td>\n      <td>2020-11-15 21:00:00</td>\n    </tr>\n    <tr>\n      <th>12</th>\n      <td>0.000000</td>\n      <td>22</td>\n      <td>15</td>\n      <td>2020-11-15 22:00:00</td>\n    </tr>\n    <tr>\n      <th>13</th>\n      <td>0.000000</td>\n      <td>23</td>\n      <td>15</td>\n      <td>2020-11-15 23:00:00</td>\n    </tr>\n    <tr>\n      <th>14</th>\n      <td>0.000000</td>\n      <td>0</td>\n      <td>16</td>\n      <td>2020-11-16 00:00:00</td>\n    </tr>\n    <tr>\n      <th>15</th>\n      <td>0.000000</td>\n      <td>1</td>\n      <td>16</td>\n      <td>2020-11-16 01:00:00</td>\n    </tr>\n    <tr>\n      <th>16</th>\n      <td>0.000000</td>\n      <td>2</td>\n      <td>16</td>\n      <td>2020-11-16 02:00:00</td>\n    </tr>\n    <tr>\n      <th>17</th>\n      <td>0.000000</td>\n      <td>3</td>\n      <td>16</td>\n      <td>2020-11-16 03:00:00</td>\n    </tr>\n    <tr>\n      <th>18</th>\n      <td>0.000000</td>\n      <td>4</td>\n      <td>16</td>\n      <td>2020-11-16 04:00:00</td>\n    </tr>\n    <tr>\n      <th>19</th>\n      <td>0.000000</td>\n      <td>5</td>\n      <td>16</td>\n      <td>2020-11-16 05:00:00</td>\n    </tr>\n    <tr>\n      <th>20</th>\n      <td>0.000000</td>\n      <td>6</td>\n      <td>16</td>\n      <td>2020-11-16 06:00:00</td>\n    </tr>\n    <tr>\n      <th>21</th>\n      <td>0.000000</td>\n      <td>7</td>\n      <td>16</td>\n      <td>2020-11-16 07:00:00</td>\n    </tr>\n    <tr>\n      <th>22</th>\n      <td>1.728203</td>\n      <td>8</td>\n      <td>16</td>\n      <td>2020-11-16 08:00:00</td>\n    </tr>\n    <tr>\n      <th>23</th>\n      <td>15.822306</td>\n      <td>9</td>\n      <td>16</td>\n      <td>2020-11-16 09:00:00</td>\n    </tr>\n    <tr>\n      <th>24</th>\n      <td>22.374426</td>\n      <td>10</td>\n      <td>16</td>\n      <td>2020-11-16 10:00:00</td>\n    </tr>\n    <tr>\n      <th>25</th>\n      <td>21.857143</td>\n      <td>11</td>\n      <td>16</td>\n      <td>2020-11-16 11:00:00</td>\n    </tr>\n    <tr>\n      <th>26</th>\n      <td>22.104488</td>\n      <td>12</td>\n      <td>16</td>\n      <td>2020-11-16 12:00:00</td>\n    </tr>\n    <tr>\n      <th>27</th>\n      <td>22.209827</td>\n      <td>13</td>\n      <td>16</td>\n      <td>2020-11-16 13:00:00</td>\n    </tr>\n    <tr>\n      <th>28</th>\n      <td>22.079367</td>\n      <td>14</td>\n      <td>16</td>\n      <td>2020-11-16 14:00:00</td>\n    </tr>\n    <tr>\n      <th>29</th>\n      <td>21.694149</td>\n      <td>15</td>\n      <td>16</td>\n      <td>2020-11-16 15:00:00</td>\n    </tr>\n    <tr>\n      <th>30</th>\n      <td>21.190212</td>\n      <td>16</td>\n      <td>16</td>\n      <td>2020-11-16 16:00:00</td>\n    </tr>\n    <tr>\n      <th>31</th>\n      <td>16.046604</td>\n      <td>17</td>\n      <td>16</td>\n      <td>2020-11-16 17:00:00</td>\n    </tr>\n    <tr>\n      <th>32</th>\n      <td>8.352285</td>\n      <td>18</td>\n      <td>16</td>\n      <td>2020-11-16 18:00:00</td>\n    </tr>\n    <tr>\n      <th>33</th>\n      <td>1.706074</td>\n      <td>19</td>\n      <td>16</td>\n      <td>2020-11-16 19:00:00</td>\n    </tr>\n    <tr>\n      <th>34</th>\n      <td>0.000000</td>\n      <td>20</td>\n      <td>16</td>\n      <td>2020-11-16 20:00:00</td>\n    </tr>\n    <tr>\n      <th>35</th>\n      <td>0.000000</td>\n      <td>21</td>\n      <td>16</td>\n      <td>2020-11-16 21:00:00</td>\n    </tr>\n    <tr>\n      <th>36</th>\n      <td>0.000000</td>\n      <td>22</td>\n      <td>16</td>\n      <td>2020-11-16 22:00:00</td>\n    </tr>\n    <tr>\n      <th>37</th>\n      <td>0.000000</td>\n      <td>23</td>\n      <td>16</td>\n      <td>2020-11-16 23:00:00</td>\n    </tr>\n    <tr>\n      <th>38</th>\n      <td>0.000000</td>\n      <td>0</td>\n      <td>17</td>\n      <td>2020-11-17 00:00:00</td>\n    </tr>\n    <tr>\n      <th>39</th>\n      <td>0.000000</td>\n      <td>1</td>\n      <td>17</td>\n      <td>2020-11-17 01:00:00</td>\n    </tr>\n    <tr>\n      <th>40</th>\n      <td>0.000000</td>\n      <td>2</td>\n      <td>17</td>\n      <td>2020-11-17 02:00:00</td>\n    </tr>\n    <tr>\n      <th>41</th>\n      <td>0.000000</td>\n      <td>3</td>\n      <td>17</td>\n      <td>2020-11-17 03:00:00</td>\n    </tr>\n    <tr>\n      <th>42</th>\n      <td>0.000000</td>\n      <td>4</td>\n      <td>17</td>\n      <td>2020-11-17 04:00:00</td>\n    </tr>\n    <tr>\n      <th>43</th>\n      <td>0.000000</td>\n      <td>5</td>\n      <td>17</td>\n      <td>2020-11-17 05:00:00</td>\n    </tr>\n    <tr>\n      <th>44</th>\n      <td>0.000000</td>\n      <td>6</td>\n      <td>17</td>\n      <td>2020-11-17 06:00:00</td>\n    </tr>\n    <tr>\n      <th>45</th>\n      <td>0.000000</td>\n      <td>7</td>\n      <td>17</td>\n      <td>2020-11-17 07:00:00</td>\n    </tr>\n    <tr>\n      <th>46</th>\n      <td>1.117565</td>\n      <td>8</td>\n      <td>17</td>\n      <td>2020-11-17 08:00:00</td>\n    </tr>\n    <tr>\n      <th>47</th>\n      <td>15.331871</td>\n      <td>9</td>\n      <td>17</td>\n      <td>2020-11-17 09:00:00</td>\n    </tr>\n  </tbody>\n</table>\n</div>"
     },
     "metadata": {},
     "execution_count": 57
    }
   ],
   "source": [
    "# Predict values for test set\n",
    "y_pred = load_nn.predict(X_scaled)\n",
    "y_pred = y_pred.ravel()\n",
    "# Create dataframe for results\n",
    "nn_results = pd.DataFrame()\n",
    "nn_results['pred'] = y_pred\n",
    "nn_results['Hour'] = forecasted_weather_DF['Hour']\n",
    "nn_results['Day'] = forecasted_weather_DF['Day']\n",
    "nn_results['Date_Time'] = forecasted_weather_DF['Date_Time']\n",
    "nn_results"
   ]
  },
  {
   "cell_type": "code",
   "execution_count": 58,
   "metadata": {},
   "outputs": [
    {
     "output_type": "stream",
     "name": "stderr",
     "text": [
      "No handles with labels found to put in legend.\n"
     ]
    },
    {
     "output_type": "display_data",
     "data": {
      "text/plain": "<Figure size 432x288 with 1 Axes>",
      "image/svg+xml": "<?xml version=\"1.0\" encoding=\"utf-8\" standalone=\"no\"?>\r\n<!DOCTYPE svg PUBLIC \"-//W3C//DTD SVG 1.1//EN\"\r\n  \"http://www.w3.org/Graphics/SVG/1.1/DTD/svg11.dtd\">\r\n<!-- Created with matplotlib (https://matplotlib.org/) -->\r\n<svg height=\"283.800938pt\" version=\"1.1\" viewBox=\"0 0 368.925 283.800938\" width=\"368.925pt\" xmlns=\"http://www.w3.org/2000/svg\" xmlns:xlink=\"http://www.w3.org/1999/xlink\">\r\n <defs>\r\n  <style type=\"text/css\">\r\n*{stroke-linecap:butt;stroke-linejoin:round;}\r\n  </style>\r\n </defs>\r\n <g id=\"figure_1\">\r\n  <g id=\"patch_1\">\r\n   <path d=\"M -0 283.800938 \r\nL 368.925 283.800938 \r\nL 368.925 0 \r\nL -0 0 \r\nz\r\n\" style=\"fill:none;\"/>\r\n  </g>\r\n  <g id=\"axes_1\">\r\n   <g id=\"patch_2\">\r\n    <path d=\"M 26.925 224.64 \r\nL 361.725 224.64 \r\nL 361.725 7.2 \r\nL 26.925 7.2 \r\nz\r\n\" style=\"fill:#ffffff;\"/>\r\n   </g>\r\n   <g id=\"matplotlib.axis_1\">\r\n    <g id=\"xtick_1\">\r\n     <g id=\"line2d_1\">\r\n      <defs>\r\n       <path d=\"M 0 0 \r\nL 0 3.5 \r\n\" id=\"ma557e05377\" style=\"stroke:#000000;stroke-width:0.8;\"/>\r\n      </defs>\r\n      <g>\r\n       <use style=\"stroke:#000000;stroke-width:0.8;\" x=\"55.094826\" xlink:href=\"#ma557e05377\" y=\"224.64\"/>\r\n      </g>\r\n     </g>\r\n     <g id=\"text_1\">\r\n      <!-- 11-15 12 -->\r\n      <defs>\r\n       <path d=\"M 12.40625 8.296875 \r\nL 28.515625 8.296875 \r\nL 28.515625 63.921875 \r\nL 10.984375 60.40625 \r\nL 10.984375 69.390625 \r\nL 28.421875 72.90625 \r\nL 38.28125 72.90625 \r\nL 38.28125 8.296875 \r\nL 54.390625 8.296875 \r\nL 54.390625 0 \r\nL 12.40625 0 \r\nz\r\n\" id=\"DejaVuSans-49\"/>\r\n       <path d=\"M 4.890625 31.390625 \r\nL 31.203125 31.390625 \r\nL 31.203125 23.390625 \r\nL 4.890625 23.390625 \r\nz\r\n\" id=\"DejaVuSans-45\"/>\r\n       <path d=\"M 10.796875 72.90625 \r\nL 49.515625 72.90625 \r\nL 49.515625 64.59375 \r\nL 19.828125 64.59375 \r\nL 19.828125 46.734375 \r\nQ 21.96875 47.46875 24.109375 47.828125 \r\nQ 26.265625 48.1875 28.421875 48.1875 \r\nQ 40.625 48.1875 47.75 41.5 \r\nQ 54.890625 34.8125 54.890625 23.390625 \r\nQ 54.890625 11.625 47.5625 5.09375 \r\nQ 40.234375 -1.421875 26.90625 -1.421875 \r\nQ 22.3125 -1.421875 17.546875 -0.640625 \r\nQ 12.796875 0.140625 7.71875 1.703125 \r\nL 7.71875 11.625 \r\nQ 12.109375 9.234375 16.796875 8.0625 \r\nQ 21.484375 6.890625 26.703125 6.890625 \r\nQ 35.15625 6.890625 40.078125 11.328125 \r\nQ 45.015625 15.765625 45.015625 23.390625 \r\nQ 45.015625 31 40.078125 35.4375 \r\nQ 35.15625 39.890625 26.703125 39.890625 \r\nQ 22.75 39.890625 18.8125 39.015625 \r\nQ 14.890625 38.140625 10.796875 36.28125 \r\nz\r\n\" id=\"DejaVuSans-53\"/>\r\n       <path id=\"DejaVuSans-32\"/>\r\n       <path d=\"M 19.1875 8.296875 \r\nL 53.609375 8.296875 \r\nL 53.609375 0 \r\nL 7.328125 0 \r\nL 7.328125 8.296875 \r\nQ 12.9375 14.109375 22.625 23.890625 \r\nQ 32.328125 33.6875 34.8125 36.53125 \r\nQ 39.546875 41.84375 41.421875 45.53125 \r\nQ 43.3125 49.21875 43.3125 52.78125 \r\nQ 43.3125 58.59375 39.234375 62.25 \r\nQ 35.15625 65.921875 28.609375 65.921875 \r\nQ 23.96875 65.921875 18.8125 64.3125 \r\nQ 13.671875 62.703125 7.8125 59.421875 \r\nL 7.8125 69.390625 \r\nQ 13.765625 71.78125 18.9375 73 \r\nQ 24.125 74.21875 28.421875 74.21875 \r\nQ 39.75 74.21875 46.484375 68.546875 \r\nQ 53.21875 62.890625 53.21875 53.421875 \r\nQ 53.21875 48.921875 51.53125 44.890625 \r\nQ 49.859375 40.875 45.40625 35.40625 \r\nQ 44.1875 33.984375 37.640625 27.21875 \r\nQ 31.109375 20.453125 19.1875 8.296875 \r\nz\r\n\" id=\"DejaVuSans-50\"/>\r\n      </defs>\r\n      <g transform=\"translate(57.854201 276.600938)rotate(-90)scale(0.1 -0.1)\">\r\n       <use xlink:href=\"#DejaVuSans-49\"/>\r\n       <use x=\"63.623047\" xlink:href=\"#DejaVuSans-49\"/>\r\n       <use x=\"127.246094\" xlink:href=\"#DejaVuSans-45\"/>\r\n       <use x=\"163.330078\" xlink:href=\"#DejaVuSans-49\"/>\r\n       <use x=\"226.953125\" xlink:href=\"#DejaVuSans-53\"/>\r\n       <use x=\"290.576172\" xlink:href=\"#DejaVuSans-32\"/>\r\n       <use x=\"322.363281\" xlink:href=\"#DejaVuSans-49\"/>\r\n       <use x=\"385.986328\" xlink:href=\"#DejaVuSans-50\"/>\r\n      </g>\r\n     </g>\r\n    </g>\r\n    <g id=\"xtick_2\">\r\n     <g id=\"line2d_2\">\r\n      <g>\r\n       <use style=\"stroke:#000000;stroke-width:0.8;\" x=\"93.949758\" xlink:href=\"#ma557e05377\" y=\"224.64\"/>\r\n      </g>\r\n     </g>\r\n     <g id=\"text_2\">\r\n      <!-- 11-15 18 -->\r\n      <defs>\r\n       <path d=\"M 31.78125 34.625 \r\nQ 24.75 34.625 20.71875 30.859375 \r\nQ 16.703125 27.09375 16.703125 20.515625 \r\nQ 16.703125 13.921875 20.71875 10.15625 \r\nQ 24.75 6.390625 31.78125 6.390625 \r\nQ 38.8125 6.390625 42.859375 10.171875 \r\nQ 46.921875 13.96875 46.921875 20.515625 \r\nQ 46.921875 27.09375 42.890625 30.859375 \r\nQ 38.875 34.625 31.78125 34.625 \r\nz\r\nM 21.921875 38.8125 \r\nQ 15.578125 40.375 12.03125 44.71875 \r\nQ 8.5 49.078125 8.5 55.328125 \r\nQ 8.5 64.0625 14.71875 69.140625 \r\nQ 20.953125 74.21875 31.78125 74.21875 \r\nQ 42.671875 74.21875 48.875 69.140625 \r\nQ 55.078125 64.0625 55.078125 55.328125 \r\nQ 55.078125 49.078125 51.53125 44.71875 \r\nQ 48 40.375 41.703125 38.8125 \r\nQ 48.828125 37.15625 52.796875 32.3125 \r\nQ 56.78125 27.484375 56.78125 20.515625 \r\nQ 56.78125 9.90625 50.3125 4.234375 \r\nQ 43.84375 -1.421875 31.78125 -1.421875 \r\nQ 19.734375 -1.421875 13.25 4.234375 \r\nQ 6.78125 9.90625 6.78125 20.515625 \r\nQ 6.78125 27.484375 10.78125 32.3125 \r\nQ 14.796875 37.15625 21.921875 38.8125 \r\nz\r\nM 18.3125 54.390625 \r\nQ 18.3125 48.734375 21.84375 45.5625 \r\nQ 25.390625 42.390625 31.78125 42.390625 \r\nQ 38.140625 42.390625 41.71875 45.5625 \r\nQ 45.3125 48.734375 45.3125 54.390625 \r\nQ 45.3125 60.0625 41.71875 63.234375 \r\nQ 38.140625 66.40625 31.78125 66.40625 \r\nQ 25.390625 66.40625 21.84375 63.234375 \r\nQ 18.3125 60.0625 18.3125 54.390625 \r\nz\r\n\" id=\"DejaVuSans-56\"/>\r\n      </defs>\r\n      <g transform=\"translate(96.709133 276.600938)rotate(-90)scale(0.1 -0.1)\">\r\n       <use xlink:href=\"#DejaVuSans-49\"/>\r\n       <use x=\"63.623047\" xlink:href=\"#DejaVuSans-49\"/>\r\n       <use x=\"127.246094\" xlink:href=\"#DejaVuSans-45\"/>\r\n       <use x=\"163.330078\" xlink:href=\"#DejaVuSans-49\"/>\r\n       <use x=\"226.953125\" xlink:href=\"#DejaVuSans-53\"/>\r\n       <use x=\"290.576172\" xlink:href=\"#DejaVuSans-32\"/>\r\n       <use x=\"322.363281\" xlink:href=\"#DejaVuSans-49\"/>\r\n       <use x=\"385.986328\" xlink:href=\"#DejaVuSans-56\"/>\r\n      </g>\r\n     </g>\r\n    </g>\r\n    <g id=\"xtick_3\">\r\n     <g id=\"line2d_3\">\r\n      <g>\r\n       <use style=\"stroke:#000000;stroke-width:0.8;\" x=\"132.804691\" xlink:href=\"#ma557e05377\" y=\"224.64\"/>\r\n      </g>\r\n     </g>\r\n     <g id=\"text_3\">\r\n      <!-- 11-16 00 -->\r\n      <defs>\r\n       <path d=\"M 33.015625 40.375 \r\nQ 26.375 40.375 22.484375 35.828125 \r\nQ 18.609375 31.296875 18.609375 23.390625 \r\nQ 18.609375 15.53125 22.484375 10.953125 \r\nQ 26.375 6.390625 33.015625 6.390625 \r\nQ 39.65625 6.390625 43.53125 10.953125 \r\nQ 47.40625 15.53125 47.40625 23.390625 \r\nQ 47.40625 31.296875 43.53125 35.828125 \r\nQ 39.65625 40.375 33.015625 40.375 \r\nz\r\nM 52.59375 71.296875 \r\nL 52.59375 62.3125 \r\nQ 48.875 64.0625 45.09375 64.984375 \r\nQ 41.3125 65.921875 37.59375 65.921875 \r\nQ 27.828125 65.921875 22.671875 59.328125 \r\nQ 17.53125 52.734375 16.796875 39.40625 \r\nQ 19.671875 43.65625 24.015625 45.921875 \r\nQ 28.375 48.1875 33.59375 48.1875 \r\nQ 44.578125 48.1875 50.953125 41.515625 \r\nQ 57.328125 34.859375 57.328125 23.390625 \r\nQ 57.328125 12.15625 50.6875 5.359375 \r\nQ 44.046875 -1.421875 33.015625 -1.421875 \r\nQ 20.359375 -1.421875 13.671875 8.265625 \r\nQ 6.984375 17.96875 6.984375 36.375 \r\nQ 6.984375 53.65625 15.1875 63.9375 \r\nQ 23.390625 74.21875 37.203125 74.21875 \r\nQ 40.921875 74.21875 44.703125 73.484375 \r\nQ 48.484375 72.75 52.59375 71.296875 \r\nz\r\n\" id=\"DejaVuSans-54\"/>\r\n       <path d=\"M 31.78125 66.40625 \r\nQ 24.171875 66.40625 20.328125 58.90625 \r\nQ 16.5 51.421875 16.5 36.375 \r\nQ 16.5 21.390625 20.328125 13.890625 \r\nQ 24.171875 6.390625 31.78125 6.390625 \r\nQ 39.453125 6.390625 43.28125 13.890625 \r\nQ 47.125 21.390625 47.125 36.375 \r\nQ 47.125 51.421875 43.28125 58.90625 \r\nQ 39.453125 66.40625 31.78125 66.40625 \r\nz\r\nM 31.78125 74.21875 \r\nQ 44.046875 74.21875 50.515625 64.515625 \r\nQ 56.984375 54.828125 56.984375 36.375 \r\nQ 56.984375 17.96875 50.515625 8.265625 \r\nQ 44.046875 -1.421875 31.78125 -1.421875 \r\nQ 19.53125 -1.421875 13.0625 8.265625 \r\nQ 6.59375 17.96875 6.59375 36.375 \r\nQ 6.59375 54.828125 13.0625 64.515625 \r\nQ 19.53125 74.21875 31.78125 74.21875 \r\nz\r\n\" id=\"DejaVuSans-48\"/>\r\n      </defs>\r\n      <g transform=\"translate(135.564066 276.600938)rotate(-90)scale(0.1 -0.1)\">\r\n       <use xlink:href=\"#DejaVuSans-49\"/>\r\n       <use x=\"63.623047\" xlink:href=\"#DejaVuSans-49\"/>\r\n       <use x=\"127.246094\" xlink:href=\"#DejaVuSans-45\"/>\r\n       <use x=\"163.330078\" xlink:href=\"#DejaVuSans-49\"/>\r\n       <use x=\"226.953125\" xlink:href=\"#DejaVuSans-54\"/>\r\n       <use x=\"290.576172\" xlink:href=\"#DejaVuSans-32\"/>\r\n       <use x=\"322.363281\" xlink:href=\"#DejaVuSans-48\"/>\r\n       <use x=\"385.986328\" xlink:href=\"#DejaVuSans-48\"/>\r\n      </g>\r\n     </g>\r\n    </g>\r\n    <g id=\"xtick_4\">\r\n     <g id=\"line2d_4\">\r\n      <g>\r\n       <use style=\"stroke:#000000;stroke-width:0.8;\" x=\"171.659623\" xlink:href=\"#ma557e05377\" y=\"224.64\"/>\r\n      </g>\r\n     </g>\r\n     <g id=\"text_4\">\r\n      <!-- 11-16 06 -->\r\n      <g transform=\"translate(174.418998 276.600938)rotate(-90)scale(0.1 -0.1)\">\r\n       <use xlink:href=\"#DejaVuSans-49\"/>\r\n       <use x=\"63.623047\" xlink:href=\"#DejaVuSans-49\"/>\r\n       <use x=\"127.246094\" xlink:href=\"#DejaVuSans-45\"/>\r\n       <use x=\"163.330078\" xlink:href=\"#DejaVuSans-49\"/>\r\n       <use x=\"226.953125\" xlink:href=\"#DejaVuSans-54\"/>\r\n       <use x=\"290.576172\" xlink:href=\"#DejaVuSans-32\"/>\r\n       <use x=\"322.363281\" xlink:href=\"#DejaVuSans-48\"/>\r\n       <use x=\"385.986328\" xlink:href=\"#DejaVuSans-54\"/>\r\n      </g>\r\n     </g>\r\n    </g>\r\n    <g id=\"xtick_5\">\r\n     <g id=\"line2d_5\">\r\n      <g>\r\n       <use style=\"stroke:#000000;stroke-width:0.8;\" x=\"210.514555\" xlink:href=\"#ma557e05377\" y=\"224.64\"/>\r\n      </g>\r\n     </g>\r\n     <g id=\"text_5\">\r\n      <!-- 11-16 12 -->\r\n      <g transform=\"translate(213.27393 276.600938)rotate(-90)scale(0.1 -0.1)\">\r\n       <use xlink:href=\"#DejaVuSans-49\"/>\r\n       <use x=\"63.623047\" xlink:href=\"#DejaVuSans-49\"/>\r\n       <use x=\"127.246094\" xlink:href=\"#DejaVuSans-45\"/>\r\n       <use x=\"163.330078\" xlink:href=\"#DejaVuSans-49\"/>\r\n       <use x=\"226.953125\" xlink:href=\"#DejaVuSans-54\"/>\r\n       <use x=\"290.576172\" xlink:href=\"#DejaVuSans-32\"/>\r\n       <use x=\"322.363281\" xlink:href=\"#DejaVuSans-49\"/>\r\n       <use x=\"385.986328\" xlink:href=\"#DejaVuSans-50\"/>\r\n      </g>\r\n     </g>\r\n    </g>\r\n    <g id=\"xtick_6\">\r\n     <g id=\"line2d_6\">\r\n      <g>\r\n       <use style=\"stroke:#000000;stroke-width:0.8;\" x=\"249.369487\" xlink:href=\"#ma557e05377\" y=\"224.64\"/>\r\n      </g>\r\n     </g>\r\n     <g id=\"text_6\">\r\n      <!-- 11-16 18 -->\r\n      <g transform=\"translate(252.128862 276.600938)rotate(-90)scale(0.1 -0.1)\">\r\n       <use xlink:href=\"#DejaVuSans-49\"/>\r\n       <use x=\"63.623047\" xlink:href=\"#DejaVuSans-49\"/>\r\n       <use x=\"127.246094\" xlink:href=\"#DejaVuSans-45\"/>\r\n       <use x=\"163.330078\" xlink:href=\"#DejaVuSans-49\"/>\r\n       <use x=\"226.953125\" xlink:href=\"#DejaVuSans-54\"/>\r\n       <use x=\"290.576172\" xlink:href=\"#DejaVuSans-32\"/>\r\n       <use x=\"322.363281\" xlink:href=\"#DejaVuSans-49\"/>\r\n       <use x=\"385.986328\" xlink:href=\"#DejaVuSans-56\"/>\r\n      </g>\r\n     </g>\r\n    </g>\r\n    <g id=\"xtick_7\">\r\n     <g id=\"line2d_7\">\r\n      <g>\r\n       <use style=\"stroke:#000000;stroke-width:0.8;\" x=\"288.22442\" xlink:href=\"#ma557e05377\" y=\"224.64\"/>\r\n      </g>\r\n     </g>\r\n     <g id=\"text_7\">\r\n      <!-- 11-17 00 -->\r\n      <defs>\r\n       <path d=\"M 8.203125 72.90625 \r\nL 55.078125 72.90625 \r\nL 55.078125 68.703125 \r\nL 28.609375 0 \r\nL 18.3125 0 \r\nL 43.21875 64.59375 \r\nL 8.203125 64.59375 \r\nz\r\n\" id=\"DejaVuSans-55\"/>\r\n      </defs>\r\n      <g transform=\"translate(290.983795 276.600938)rotate(-90)scale(0.1 -0.1)\">\r\n       <use xlink:href=\"#DejaVuSans-49\"/>\r\n       <use x=\"63.623047\" xlink:href=\"#DejaVuSans-49\"/>\r\n       <use x=\"127.246094\" xlink:href=\"#DejaVuSans-45\"/>\r\n       <use x=\"163.330078\" xlink:href=\"#DejaVuSans-49\"/>\r\n       <use x=\"226.953125\" xlink:href=\"#DejaVuSans-55\"/>\r\n       <use x=\"290.576172\" xlink:href=\"#DejaVuSans-32\"/>\r\n       <use x=\"322.363281\" xlink:href=\"#DejaVuSans-48\"/>\r\n       <use x=\"385.986328\" xlink:href=\"#DejaVuSans-48\"/>\r\n      </g>\r\n     </g>\r\n    </g>\r\n    <g id=\"xtick_8\">\r\n     <g id=\"line2d_8\">\r\n      <g>\r\n       <use style=\"stroke:#000000;stroke-width:0.8;\" x=\"327.079352\" xlink:href=\"#ma557e05377\" y=\"224.64\"/>\r\n      </g>\r\n     </g>\r\n     <g id=\"text_8\">\r\n      <!-- 11-17 06 -->\r\n      <g transform=\"translate(329.838727 276.600938)rotate(-90)scale(0.1 -0.1)\">\r\n       <use xlink:href=\"#DejaVuSans-49\"/>\r\n       <use x=\"63.623047\" xlink:href=\"#DejaVuSans-49\"/>\r\n       <use x=\"127.246094\" xlink:href=\"#DejaVuSans-45\"/>\r\n       <use x=\"163.330078\" xlink:href=\"#DejaVuSans-49\"/>\r\n       <use x=\"226.953125\" xlink:href=\"#DejaVuSans-55\"/>\r\n       <use x=\"290.576172\" xlink:href=\"#DejaVuSans-32\"/>\r\n       <use x=\"322.363281\" xlink:href=\"#DejaVuSans-48\"/>\r\n       <use x=\"385.986328\" xlink:href=\"#DejaVuSans-54\"/>\r\n      </g>\r\n     </g>\r\n    </g>\r\n   </g>\r\n   <g id=\"matplotlib.axis_2\">\r\n    <g id=\"ytick_1\">\r\n     <g id=\"line2d_9\">\r\n      <defs>\r\n       <path d=\"M 0 0 \r\nL -3.5 0 \r\n\" id=\"m506db8f9a8\" style=\"stroke:#000000;stroke-width:0.8;\"/>\r\n      </defs>\r\n      <g>\r\n       <use style=\"stroke:#000000;stroke-width:0.8;\" x=\"26.925\" xlink:href=\"#m506db8f9a8\" y=\"214.756364\"/>\r\n      </g>\r\n     </g>\r\n     <g id=\"text_9\">\r\n      <!-- 0 -->\r\n      <g transform=\"translate(13.5625 218.555582)scale(0.1 -0.1)\">\r\n       <use xlink:href=\"#DejaVuSans-48\"/>\r\n      </g>\r\n     </g>\r\n    </g>\r\n    <g id=\"ytick_2\">\r\n     <g id=\"line2d_10\">\r\n      <g>\r\n       <use style=\"stroke:#000000;stroke-width:0.8;\" x=\"26.925\" xlink:href=\"#m506db8f9a8\" y=\"172.558606\"/>\r\n      </g>\r\n     </g>\r\n     <g id=\"text_10\">\r\n      <!-- 5 -->\r\n      <g transform=\"translate(13.5625 176.357825)scale(0.1 -0.1)\">\r\n       <use xlink:href=\"#DejaVuSans-53\"/>\r\n      </g>\r\n     </g>\r\n    </g>\r\n    <g id=\"ytick_3\">\r\n     <g id=\"line2d_11\">\r\n      <g>\r\n       <use style=\"stroke:#000000;stroke-width:0.8;\" x=\"26.925\" xlink:href=\"#m506db8f9a8\" y=\"130.360849\"/>\r\n      </g>\r\n     </g>\r\n     <g id=\"text_11\">\r\n      <!-- 10 -->\r\n      <g transform=\"translate(7.2 134.160068)scale(0.1 -0.1)\">\r\n       <use xlink:href=\"#DejaVuSans-49\"/>\r\n       <use x=\"63.623047\" xlink:href=\"#DejaVuSans-48\"/>\r\n      </g>\r\n     </g>\r\n    </g>\r\n    <g id=\"ytick_4\">\r\n     <g id=\"line2d_12\">\r\n      <g>\r\n       <use style=\"stroke:#000000;stroke-width:0.8;\" x=\"26.925\" xlink:href=\"#m506db8f9a8\" y=\"88.163092\"/>\r\n      </g>\r\n     </g>\r\n     <g id=\"text_12\">\r\n      <!-- 15 -->\r\n      <g transform=\"translate(7.2 91.96231)scale(0.1 -0.1)\">\r\n       <use xlink:href=\"#DejaVuSans-49\"/>\r\n       <use x=\"63.623047\" xlink:href=\"#DejaVuSans-53\"/>\r\n      </g>\r\n     </g>\r\n    </g>\r\n    <g id=\"ytick_5\">\r\n     <g id=\"line2d_13\">\r\n      <g>\r\n       <use style=\"stroke:#000000;stroke-width:0.8;\" x=\"26.925\" xlink:href=\"#m506db8f9a8\" y=\"45.965334\"/>\r\n      </g>\r\n     </g>\r\n     <g id=\"text_13\">\r\n      <!-- 20 -->\r\n      <g transform=\"translate(7.2 49.764553)scale(0.1 -0.1)\">\r\n       <use xlink:href=\"#DejaVuSans-50\"/>\r\n       <use x=\"63.623047\" xlink:href=\"#DejaVuSans-48\"/>\r\n      </g>\r\n     </g>\r\n    </g>\r\n   </g>\r\n   <g id=\"line2d_14\">\r\n    <path clip-path=\"url(#p67440675c4)\" d=\"M 42.143182 17.083636 \r\nL 48.619004 21.219256 \r\nL 55.094826 24.22302 \r\nL 61.570648 26.250281 \r\nL 68.04647 27.280966 \r\nL 74.522292 29.326304 \r\nL 80.998114 37.057355 \r\nL 87.473936 75.4924 \r\nL 93.949758 142.912245 \r\nL 100.42558 197.74957 \r\nL 106.901402 214.756364 \r\nL 113.377224 214.756364 \r\nL 119.853046 214.756364 \r\nL 126.328868 214.756364 \r\nL 132.804691 214.756364 \r\nL 139.280513 214.756364 \r\nL 145.756335 214.756364 \r\nL 152.232157 214.756364 \r\nL 158.707979 214.756364 \r\nL 165.183801 214.756364 \r\nL 171.659623 214.756364 \r\nL 178.135445 214.756364 \r\nL 184.611267 200.171107 \r\nL 191.087089 81.223201 \r\nL 197.562911 25.926245 \r\nL 204.038733 30.291877 \r\nL 210.514555 28.204396 \r\nL 216.990377 27.315382 \r\nL 223.466199 28.416412 \r\nL 229.942021 31.667476 \r\nL 236.417843 35.920477 \r\nL 242.893665 79.330222 \r\nL 249.369487 144.266821 \r\nL 255.845309 200.357866 \r\nL 262.321132 214.756364 \r\nL 268.796954 214.756364 \r\nL 275.272776 214.756364 \r\nL 281.748598 214.756364 \r\nL 288.22442 214.756364 \r\nL 294.700242 214.756364 \r\nL 301.176064 214.756364 \r\nL 307.651886 214.756364 \r\nL 314.127708 214.756364 \r\nL 320.60353 214.756364 \r\nL 327.079352 214.756364 \r\nL 333.555174 214.756364 \r\nL 340.030996 205.324615 \r\nL 346.506818 85.362249 \r\n\" style=\"fill:none;stroke:#1f77b4;stroke-linecap:square;stroke-width:1.5;\"/>\r\n   </g>\r\n   <g id=\"patch_3\">\r\n    <path d=\"M 26.925 224.64 \r\nL 26.925 7.2 \r\n\" style=\"fill:none;stroke:#000000;stroke-linecap:square;stroke-linejoin:miter;stroke-width:0.8;\"/>\r\n   </g>\r\n   <g id=\"patch_4\">\r\n    <path d=\"M 361.725 224.64 \r\nL 361.725 7.2 \r\n\" style=\"fill:none;stroke:#000000;stroke-linecap:square;stroke-linejoin:miter;stroke-width:0.8;\"/>\r\n   </g>\r\n   <g id=\"patch_5\">\r\n    <path d=\"M 26.925 224.64 \r\nL 361.725 224.64 \r\n\" style=\"fill:none;stroke:#000000;stroke-linecap:square;stroke-linejoin:miter;stroke-width:0.8;\"/>\r\n   </g>\r\n   <g id=\"patch_6\">\r\n    <path d=\"M 26.925 7.2 \r\nL 361.725 7.2 \r\n\" style=\"fill:none;stroke:#000000;stroke-linecap:square;stroke-linejoin:miter;stroke-width:0.8;\"/>\r\n   </g>\r\n   <g id=\"legend_1\">\r\n    <g id=\"patch_7\">\r\n     <path d=\"M 350.725 20.2 \r\nL 354.725 20.2 \r\nQ 356.725 20.2 356.725 18.2 \r\nL 356.725 14.2 \r\nQ 356.725 12.2 354.725 12.2 \r\nL 350.725 12.2 \r\nQ 348.725 12.2 348.725 14.2 \r\nL 348.725 18.2 \r\nQ 348.725 20.2 350.725 20.2 \r\nz\r\n\" style=\"fill:#ffffff;opacity:0.8;stroke:#cccccc;stroke-linejoin:miter;\"/>\r\n    </g>\r\n   </g>\r\n  </g>\r\n </g>\r\n <defs>\r\n  <clipPath id=\"p67440675c4\">\r\n   <rect height=\"217.44\" width=\"334.8\" x=\"26.925\" y=\"7.2\"/>\r\n  </clipPath>\r\n </defs>\r\n</svg>\r\n",
      "image/png": "[encoded data removed]"
     },
     "metadata": {
      "needs_background": "light"
     }
    }
   ],
   "source": [
    "import matplotlib.pyplot as plt\n",
    "# Graph the prediction vs actual (Orange is prediction)\n",
    "plt.plot(nn_results['Date_Time'],nn_results['pred'])\n",
    "plt.xticks(rotation=90)\n",
    "plt.legend()\n",
    "plt.show()"
   ]
  },
  {
   "cell_type": "code",
   "execution_count": null,
   "metadata": {},
   "outputs": [],
   "source": []
  }
 ]
}